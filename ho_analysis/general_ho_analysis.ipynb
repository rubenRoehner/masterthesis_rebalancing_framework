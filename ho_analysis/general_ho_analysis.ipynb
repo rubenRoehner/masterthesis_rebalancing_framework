{
 "cells": [
  {
   "cell_type": "markdown",
   "metadata": {},
   "source": [
    "# Hyperparameter Optimization Visualization"
   ]
  },
  {
   "cell_type": "code",
   "execution_count": null,
   "metadata": {},
   "outputs": [],
   "source": [
    "import os\n",
    "import pickle\n",
    "import pandas as pd\n",
    "import optuna\n",
    "import plotly.io as pio\n",
    "import plotly.graph_objects as go\n",
    "from optuna.trial import create_trial, TrialState\n",
    "from optuna.distributions import (\n",
    "    CategoricalDistribution,\n",
    "    FloatDistribution,\n",
    "    IntDistribution,\n",
    ")"
   ]
  },
  {
   "cell_type": "code",
   "execution_count": null,
   "metadata": {},
   "outputs": [],
   "source": [
    "HE_RED = \"#E2001A\"\n",
    "HE_BLUE = \"#002D72\"\n",
    "HE_GRAY = \"#5A5A5A\"\n",
    "HE_LIGHT_GRAY = \"#D1D1D1\"\n",
    "\n",
    "pio.templates[\"esslingen_cd\"] = go.layout.Template(\n",
    "    layout=go.Layout(\n",
    "        colorway=[HE_BLUE, HE_RED, HE_GRAY, \"#2C74B3\", \"#A1C9F4\"],\n",
    "        font=dict(\n",
    "            family=\"Arial, sans-serif\",\n",
    "            size=14,\n",
    "            color=HE_BLUE,  # Use the dark blue for text\n",
    "        ),\n",
    "        title=dict(font=dict(size=20, color=HE_BLUE)),\n",
    "        paper_bgcolor=\"white\",\n",
    "        plot_bgcolor=\"white\",\n",
    "        xaxis=dict(\n",
    "            gridcolor=HE_LIGHT_GRAY, linecolor=HE_BLUE, zerolinecolor=HE_LIGHT_GRAY\n",
    "        ),\n",
    "        yaxis=dict(\n",
    "            gridcolor=HE_LIGHT_GRAY, linecolor=HE_BLUE, zerolinecolor=HE_LIGHT_GRAY\n",
    "        ),\n",
    "    )\n",
    ")\n",
    "\n",
    "pio.templates.default = \"esslingen_cd\""
   ]
  },
  {
   "cell_type": "code",
   "execution_count": 3,
   "metadata": {},
   "outputs": [],
   "source": [
    "# Constants\n",
    "RESULTS_DIR = \"../ho_results\"\n",
    "\n",
    "RDC_PREFIX = \"rdc_ho\"\n",
    "UIC_PREFIX = \"uic_ho\"\n",
    "\n",
    "STUDY_FILE_SUFFIX = \"_final.pickle\""
   ]
  },
  {
   "cell_type": "code",
   "execution_count": 4,
   "metadata": {},
   "outputs": [],
   "source": [
    "def load_all_dataframes(prefix, results_dir=RESULTS_DIR):\n",
    "    all_dfs: dict[str, pd.DataFrame] = {}\n",
    "\n",
    "    for filename in sorted(os.listdir(results_dir)):\n",
    "        if filename.startswith(prefix) and filename.endswith(\".pickle\"):\n",
    "            file_path = os.path.join(results_dir, filename)\n",
    "            try:\n",
    "                with open(file_path, \"rb\") as f:\n",
    "                    loaded_obj = pickle.load(f)\n",
    "                    all_dfs[filename] = loaded_obj\n",
    "            except Exception as e:\n",
    "                print(f\"- Could not load or process {filename}. Error: {e}\")\n",
    "\n",
    "    return all_dfs"
   ]
  },
  {
   "cell_type": "code",
   "execution_count": 5,
   "metadata": {},
   "outputs": [],
   "source": [
    "def create_study_from_df(study_name, df):\n",
    "    param_cols = {\n",
    "        col: col.replace(\"params_\", \"\")\n",
    "        for col in df.columns\n",
    "        if col.startswith(\"params_\")\n",
    "    }\n",
    "    df.rename(columns=param_cols, inplace=True)\n",
    "    clean_param_names = list(param_cols.values())\n",
    "\n",
    "    distributions = {}\n",
    "    for name in clean_param_names:\n",
    "        series = df[name].dropna()\n",
    "        if series.empty:\n",
    "            continue\n",
    "\n",
    "        unique_values = series.unique()\n",
    "\n",
    "        try:\n",
    "            sorted(unique_values)\n",
    "            is_mixed_type = False\n",
    "        except TypeError:\n",
    "            is_mixed_type = True\n",
    "\n",
    "        if is_mixed_type or series.dtype == \"object\":\n",
    "            choices = sorted([str(x) for x in unique_values])\n",
    "            distributions[name] = CategoricalDistribution(choices=choices)\n",
    "        elif \"int\" in str(series.dtype) or (\n",
    "            \"float\" in str(series.dtype)\n",
    "            and series.nunique() <= 10\n",
    "            and all(float(x).is_integer() for x in unique_values)\n",
    "        ):\n",
    "            distributions[name] = CategoricalDistribution(\n",
    "                choices=sorted([int(x) for x in unique_values])\n",
    "            )\n",
    "        elif \"int\" in str(series.dtype):\n",
    "            distributions[name] = IntDistribution(\n",
    "                low=int(series.min()), high=int(series.max())\n",
    "            )\n",
    "        elif \"float\" in str(series.dtype):\n",
    "            distributions[name] = FloatDistribution(\n",
    "                low=float(series.min()), high=float(series.max())\n",
    "            )\n",
    "\n",
    "    trials = []\n",
    "    for _, row in df.iterrows():\n",
    "        params = {}\n",
    "        for name in clean_param_names:\n",
    "            if pd.notna(row[name]):\n",
    "                if (\n",
    "                    name in distributions\n",
    "                    and isinstance(distributions[name], CategoricalDistribution)\n",
    "                    and distributions[name].choices\n",
    "                    and isinstance(distributions[name].choices[0], str)\n",
    "                ):\n",
    "                    params[name] = str(row[name])\n",
    "                else:\n",
    "                    params[name] = row[name]\n",
    "\n",
    "        trial_distributions = {\n",
    "            name: distributions[name] for name in params.keys() if name in distributions\n",
    "        }\n",
    "        trial = create_trial(\n",
    "            state=TrialState.COMPLETE,\n",
    "            value=row[\"value\"],\n",
    "            params=params,\n",
    "            distributions=trial_distributions,\n",
    "        )\n",
    "        trials.append(trial)\n",
    "\n",
    "    study = optuna.create_study(study_name=study_name, direction=\"maximize\")\n",
    "    study.add_trials(trials)\n",
    "    return study"
   ]
  },
  {
   "cell_type": "code",
   "execution_count": null,
   "metadata": {},
   "outputs": [],
   "source": [
    "def set_log_scale_for_lr(fig, index, n_ticks=4):\n",
    "    axis_name = f\"xaxis{index}\" if index > 1 else \"xaxis\"\n",
    "\n",
    "    fig.update_layout(\n",
    "        {axis_name: {\"type\": \"log\", \"tickformat\": \".0e\", \"nticks\": n_ticks}}\n",
    "    )"
   ]
  },
  {
   "cell_type": "code",
   "execution_count": null,
   "metadata": {},
   "outputs": [],
   "source": [
    "from plotly.subplots import make_subplots\n",
    "\n",
    "\n",
    "def create_grid_slice_plot(study, top_params, vertical_spacing=0.1):\n",
    "    n_params = len(top_params)\n",
    "    cols = 3 if n_params > 4 else 2\n",
    "    rows = (n_params + cols - 1) // cols\n",
    "\n",
    "    fig = make_subplots(\n",
    "        rows=rows,\n",
    "        cols=cols,\n",
    "        subplot_titles=top_params,\n",
    "        vertical_spacing=vertical_spacing,\n",
    "    )\n",
    "\n",
    "    df = study.trials_dataframe()\n",
    "\n",
    "    for i, param in enumerate(top_params):\n",
    "        row = (i // cols) + 1\n",
    "        col = (i % cols) + 1\n",
    "\n",
    "        trace = go.Scatter(\n",
    "            x=df[f\"params_{param}\"],\n",
    "            y=df[\"value\"],\n",
    "            mode=\"markers\",\n",
    "            marker=dict(color=HE_BLUE, opacity=0.7),\n",
    "        )\n",
    "\n",
    "        fig.add_trace(trace, row=row, col=col)\n",
    "\n",
    "        if \"lr\" in param or \"learning_rate\" in param:\n",
    "            fig.update_xaxes(type=\"log\", tickformat=\".0e\", row=row, col=col, nticks=3)\n",
    "\n",
    "    fig.update_layout(\n",
    "        showlegend=False,\n",
    "        width=450 * cols,\n",
    "        height=400 * rows,\n",
    "        margin=dict(l=60, r=30, t=30, b=30),\n",
    "    )\n",
    "\n",
    "    for r in range(1, rows + 1):\n",
    "        fig.update_yaxes(title_text=\"Objective Value\", row=r, col=1)\n",
    "\n",
    "    return fig"
   ]
  },
  {
   "cell_type": "markdown",
   "metadata": {},
   "source": [
    "## 1. RDC Analysis"
   ]
  },
  {
   "cell_type": "code",
   "execution_count": 8,
   "metadata": {},
   "outputs": [],
   "source": [
    "rdc_dfs_dict = load_all_dataframes(prefix=RDC_PREFIX)"
   ]
  },
  {
   "cell_type": "markdown",
   "metadata": {},
   "source": [
    "### Individual Importance Plots (Per File)\n",
    "\n",
    "These plots show the hyperparameter importance for each individual experimental run. This is the most accurate way to see which parameters were most influential in a specific context (e.g., for architecture tuning)."
   ]
  },
  {
   "cell_type": "code",
   "execution_count": 9,
   "metadata": {},
   "outputs": [
    {
     "name": "stderr",
     "output_type": "stream",
     "text": [
      "[I 2025-08-27 08:09:24,892] A new study created in memory with name: rdc_ho_architecture_20250730-095643\n"
     ]
    },
    {
     "data": {
      "application/vnd.plotly.v1+json": {
       "config": {
        "plotlyServerURL": "https://plot.ly"
       },
       "data": [
        {
         "cliponaxis": false,
         "hovertemplate": [
          "rdc_batch_size (CategoricalDistribution): 0.2641349358139507<extra></extra>",
          "rdc_hidden_dim (CategoricalDistribution): 0.7358650641860494<extra></extra>"
         ],
         "name": "Objective Value",
         "orientation": "h",
         "text": [
          "0.26",
          "0.74"
         ],
         "textposition": "outside",
         "type": "bar",
         "x": [
          0.2641349358139507,
          0.7358650641860494
         ],
         "y": [
          "rdc_batch_size",
          "rdc_hidden_dim"
         ]
        }
       ],
       "layout": {
        "height": 500,
        "template": {
         "layout": {
          "colorway": [
           "#002D72",
           "#E2001A",
           "#5A5A5A",
           "#2C74B3",
           "#A1C9F4"
          ],
          "font": {
           "color": "#002D72",
           "family": "Arial, sans-serif",
           "size": 14
          },
          "paper_bgcolor": "white",
          "plot_bgcolor": "white",
          "title": {
           "font": {
            "color": "#002D72",
            "size": 20
           }
          },
          "xaxis": {
           "gridcolor": "#D1D1D1",
           "linecolor": "#002D72",
           "zerolinecolor": "#D1D1D1"
          },
          "yaxis": {
           "gridcolor": "#D1D1D1",
           "linecolor": "#002D72",
           "zerolinecolor": "#D1D1D1"
          }
         }
        },
        "title": {
         "text": "Importance for: rdc_ho_architecture_20250730-095643"
        },
        "width": 1000,
        "xaxis": {
         "title": {
          "text": "Hyperparameter Importance"
         }
        },
        "yaxis": {
         "title": {
          "text": "Hyperparameter"
         }
        }
       }
      }
     },
     "metadata": {},
     "output_type": "display_data"
    },
    {
     "name": "stderr",
     "output_type": "stream",
     "text": [
      "[I 2025-08-27 08:09:35,537] A new study created in memory with name: rdc_ho_architecture_20250730-165632\n"
     ]
    },
    {
     "data": {
      "application/vnd.plotly.v1+json": {
       "config": {
        "plotlyServerURL": "https://plot.ly"
       },
       "data": [
        {
         "cliponaxis": false,
         "hovertemplate": [
          "rdc_batch_size (CategoricalDistribution): 0.22077384096198013<extra></extra>",
          "rdc_hidden_dim (CategoricalDistribution): 0.77922615903802<extra></extra>"
         ],
         "name": "Objective Value",
         "orientation": "h",
         "text": [
          "0.22",
          "0.78"
         ],
         "textposition": "outside",
         "type": "bar",
         "x": [
          0.22077384096198013,
          0.77922615903802
         ],
         "y": [
          "rdc_batch_size",
          "rdc_hidden_dim"
         ]
        }
       ],
       "layout": {
        "height": 500,
        "template": {
         "layout": {
          "colorway": [
           "#002D72",
           "#E2001A",
           "#5A5A5A",
           "#2C74B3",
           "#A1C9F4"
          ],
          "font": {
           "color": "#002D72",
           "family": "Arial, sans-serif",
           "size": 14
          },
          "paper_bgcolor": "white",
          "plot_bgcolor": "white",
          "title": {
           "font": {
            "color": "#002D72",
            "size": 20
           }
          },
          "xaxis": {
           "gridcolor": "#D1D1D1",
           "linecolor": "#002D72",
           "zerolinecolor": "#D1D1D1"
          },
          "yaxis": {
           "gridcolor": "#D1D1D1",
           "linecolor": "#002D72",
           "zerolinecolor": "#D1D1D1"
          }
         }
        },
        "title": {
         "text": "Importance for: rdc_ho_architecture_20250730-165632"
        },
        "width": 1000,
        "xaxis": {
         "title": {
          "text": "Hyperparameter Importance"
         }
        },
        "yaxis": {
         "title": {
          "text": "Hyperparameter"
         }
        }
       }
      }
     },
     "metadata": {},
     "output_type": "display_data"
    },
    {
     "name": "stderr",
     "output_type": "stream",
     "text": [
      "[I 2025-08-27 08:09:35,700] A new study created in memory with name: rdc_ho_exploration_20250730-095800\n"
     ]
    },
    {
     "data": {
      "application/vnd.plotly.v1+json": {
       "config": {
        "plotlyServerURL": "https://plot.ly"
       },
       "data": [
        {
         "cliponaxis": false,
         "hovertemplate": [
          "rdc_epsilon_end (FloatDistribution): 0.2999964690948769<extra></extra>",
          "rdc_epsilon_decay (FloatDistribution): 0.7000035309051231<extra></extra>"
         ],
         "name": "Objective Value",
         "orientation": "h",
         "text": [
          "0.30",
          "0.70"
         ],
         "textposition": "outside",
         "type": "bar",
         "x": [
          0.2999964690948769,
          0.7000035309051231
         ],
         "y": [
          "rdc_epsilon_end",
          "rdc_epsilon_decay"
         ]
        }
       ],
       "layout": {
        "height": 500,
        "template": {
         "layout": {
          "colorway": [
           "#002D72",
           "#E2001A",
           "#5A5A5A",
           "#2C74B3",
           "#A1C9F4"
          ],
          "font": {
           "color": "#002D72",
           "family": "Arial, sans-serif",
           "size": 14
          },
          "paper_bgcolor": "white",
          "plot_bgcolor": "white",
          "title": {
           "font": {
            "color": "#002D72",
            "size": 20
           }
          },
          "xaxis": {
           "gridcolor": "#D1D1D1",
           "linecolor": "#002D72",
           "zerolinecolor": "#D1D1D1"
          },
          "yaxis": {
           "gridcolor": "#D1D1D1",
           "linecolor": "#002D72",
           "zerolinecolor": "#D1D1D1"
          }
         }
        },
        "title": {
         "text": "Importance for: rdc_ho_exploration_20250730-095800"
        },
        "width": 1000,
        "xaxis": {
         "title": {
          "text": "Hyperparameter Importance"
         }
        },
        "yaxis": {
         "title": {
          "text": "Hyperparameter"
         }
        }
       }
      }
     },
     "metadata": {},
     "output_type": "display_data"
    },
    {
     "name": "stderr",
     "output_type": "stream",
     "text": [
      "[I 2025-08-27 08:09:36,094] A new study created in memory with name: rdc_ho_exploration_20250730-165724\n"
     ]
    },
    {
     "data": {
      "application/vnd.plotly.v1+json": {
       "config": {
        "plotlyServerURL": "https://plot.ly"
       },
       "data": [
        {
         "cliponaxis": false,
         "hovertemplate": [
          "rdc_epsilon_end (FloatDistribution): 0.3525813858208457<extra></extra>",
          "rdc_epsilon_decay (FloatDistribution): 0.6474186141791543<extra></extra>"
         ],
         "name": "Objective Value",
         "orientation": "h",
         "text": [
          "0.35",
          "0.65"
         ],
         "textposition": "outside",
         "type": "bar",
         "x": [
          0.3525813858208457,
          0.6474186141791543
         ],
         "y": [
          "rdc_epsilon_end",
          "rdc_epsilon_decay"
         ]
        }
       ],
       "layout": {
        "height": 500,
        "template": {
         "layout": {
          "colorway": [
           "#002D72",
           "#E2001A",
           "#5A5A5A",
           "#2C74B3",
           "#A1C9F4"
          ],
          "font": {
           "color": "#002D72",
           "family": "Arial, sans-serif",
           "size": 14
          },
          "paper_bgcolor": "white",
          "plot_bgcolor": "white",
          "title": {
           "font": {
            "color": "#002D72",
            "size": 20
           }
          },
          "xaxis": {
           "gridcolor": "#D1D1D1",
           "linecolor": "#002D72",
           "zerolinecolor": "#D1D1D1"
          },
          "yaxis": {
           "gridcolor": "#D1D1D1",
           "linecolor": "#002D72",
           "zerolinecolor": "#D1D1D1"
          }
         }
        },
        "title": {
         "text": "Importance for: rdc_ho_exploration_20250730-165724"
        },
        "width": 1000,
        "xaxis": {
         "title": {
          "text": "Hyperparameter Importance"
         }
        },
        "yaxis": {
         "title": {
          "text": "Hyperparameter"
         }
        }
       }
      }
     },
     "metadata": {},
     "output_type": "display_data"
    },
    {
     "name": "stderr",
     "output_type": "stream",
     "text": [
      "[I 2025-08-27 08:09:36,525] A new study created in memory with name: rdc_ho_final_joint_20250731-081826\n"
     ]
    },
    {
     "data": {
      "application/vnd.plotly.v1+json": {
       "config": {
        "plotlyServerURL": "https://plot.ly"
       },
       "data": [
        {
         "cliponaxis": false,
         "hovertemplate": [
          "rdc_batch_size (CategoricalDistribution): 0.00024001636530579398<extra></extra>",
          "rdc_lr_gamma (FloatDistribution): 0.0003239939695758975<extra></extra>",
          "rdc_hidden_dim (CategoricalDistribution): 0.00043509083090262487<extra></extra>",
          "rdc_gamma (FloatDistribution): 0.001289075758434568<extra></extra>",
          "rdc_epsilon_end (FloatDistribution): 0.0016345314727931784<extra></extra>",
          "rdc_replay_buffer_beta_start (FloatDistribution): 0.004230867793792497<extra></extra>",
          "rdc_replay_buffer_alpha (FloatDistribution): 0.004456134386365694<extra></extra>",
          "rdc_epsilon_decay (FloatDistribution): 0.008553532281561629<extra></extra>",
          "rdc_lr (FloatDistribution): 0.0112315035813257<extra></extra>",
          "rdc_tau (FloatDistribution): 0.01346009992103309<extra></extra>",
          "rdc_lr_step_size (CategoricalDistribution): 0.06820890605989378<extra></extra>",
          "rdc_replay_buffer_capacity (CategoricalDistribution): 0.4084715913140111<extra></extra>",
          "rdc_replay_buffer_beta_frames (CategoricalDistribution): 0.47746465626500456<extra></extra>"
         ],
         "name": "Objective Value",
         "orientation": "h",
         "text": [
          "<0.01",
          "<0.01",
          "<0.01",
          "<0.01",
          "<0.01",
          "<0.01",
          "<0.01",
          "<0.01",
          "0.01",
          "0.01",
          "0.07",
          "0.41",
          "0.48"
         ],
         "textposition": "outside",
         "type": "bar",
         "x": [
          0.00024001636530579398,
          0.0003239939695758975,
          0.00043509083090262487,
          0.001289075758434568,
          0.0016345314727931784,
          0.004230867793792497,
          0.004456134386365694,
          0.008553532281561629,
          0.0112315035813257,
          0.01346009992103309,
          0.06820890605989378,
          0.4084715913140111,
          0.47746465626500456
         ],
         "y": [
          "rdc_batch_size",
          "rdc_lr_gamma",
          "rdc_hidden_dim",
          "rdc_gamma",
          "rdc_epsilon_end",
          "rdc_replay_buffer_beta_start",
          "rdc_replay_buffer_alpha",
          "rdc_epsilon_decay",
          "rdc_lr",
          "rdc_tau",
          "rdc_lr_step_size",
          "rdc_replay_buffer_capacity",
          "rdc_replay_buffer_beta_frames"
         ]
        }
       ],
       "layout": {
        "height": 500,
        "template": {
         "layout": {
          "colorway": [
           "#002D72",
           "#E2001A",
           "#5A5A5A",
           "#2C74B3",
           "#A1C9F4"
          ],
          "font": {
           "color": "#002D72",
           "family": "Arial, sans-serif",
           "size": 14
          },
          "paper_bgcolor": "white",
          "plot_bgcolor": "white",
          "title": {
           "font": {
            "color": "#002D72",
            "size": 20
           }
          },
          "xaxis": {
           "gridcolor": "#D1D1D1",
           "linecolor": "#002D72",
           "zerolinecolor": "#D1D1D1"
          },
          "yaxis": {
           "gridcolor": "#D1D1D1",
           "linecolor": "#002D72",
           "zerolinecolor": "#D1D1D1"
          }
         }
        },
        "title": {
         "text": "Importance for: rdc_ho_final_joint_20250731-081826"
        },
        "width": 1000,
        "xaxis": {
         "title": {
          "text": "Hyperparameter Importance"
         }
        },
        "yaxis": {
         "title": {
          "text": "Hyperparameter"
         }
        }
       }
      }
     },
     "metadata": {},
     "output_type": "display_data"
    },
    {
     "name": "stderr",
     "output_type": "stream",
     "text": [
      "[I 2025-08-27 08:10:01,964] A new study created in memory with name: rdc_ho_learningrate_20250730-095559\n"
     ]
    },
    {
     "data": {
      "application/vnd.plotly.v1+json": {
       "config": {
        "plotlyServerURL": "https://plot.ly"
       },
       "data": [
        {
         "cliponaxis": false,
         "hovertemplate": [
          "rdc_lr_gamma (FloatDistribution): 0.034775784720520675<extra></extra>",
          "rdc_gamma (FloatDistribution): 0.07893149697433059<extra></extra>",
          "rdc_lr (FloatDistribution): 0.1719768494123532<extra></extra>",
          "rdc_lr_step_size (CategoricalDistribution): 0.7143158688927956<extra></extra>"
         ],
         "name": "Objective Value",
         "orientation": "h",
         "text": [
          "0.03",
          "0.08",
          "0.17",
          "0.71"
         ],
         "textposition": "outside",
         "type": "bar",
         "x": [
          0.034775784720520675,
          0.07893149697433059,
          0.1719768494123532,
          0.7143158688927956
         ],
         "y": [
          "rdc_lr_gamma",
          "rdc_gamma",
          "rdc_lr",
          "rdc_lr_step_size"
         ]
        }
       ],
       "layout": {
        "height": 500,
        "template": {
         "layout": {
          "colorway": [
           "#002D72",
           "#E2001A",
           "#5A5A5A",
           "#2C74B3",
           "#A1C9F4"
          ],
          "font": {
           "color": "#002D72",
           "family": "Arial, sans-serif",
           "size": 14
          },
          "paper_bgcolor": "white",
          "plot_bgcolor": "white",
          "title": {
           "font": {
            "color": "#002D72",
            "size": 20
           }
          },
          "xaxis": {
           "gridcolor": "#D1D1D1",
           "linecolor": "#002D72",
           "zerolinecolor": "#D1D1D1"
          },
          "yaxis": {
           "gridcolor": "#D1D1D1",
           "linecolor": "#002D72",
           "zerolinecolor": "#D1D1D1"
          }
         }
        },
        "title": {
         "text": "Importance for: rdc_ho_learningrate_20250730-095559"
        },
        "width": 1000,
        "xaxis": {
         "title": {
          "text": "Hyperparameter Importance"
         }
        },
        "yaxis": {
         "title": {
          "text": "Hyperparameter"
         }
        }
       }
      }
     },
     "metadata": {},
     "output_type": "display_data"
    },
    {
     "name": "stderr",
     "output_type": "stream",
     "text": [
      "[I 2025-08-27 08:10:07,562] A new study created in memory with name: rdc_ho_learningrate_20250730-165543\n"
     ]
    },
    {
     "data": {
      "application/vnd.plotly.v1+json": {
       "config": {
        "plotlyServerURL": "https://plot.ly"
       },
       "data": [
        {
         "cliponaxis": false,
         "hovertemplate": [
          "rdc_gamma (FloatDistribution): 0.08549726370546591<extra></extra>",
          "rdc_lr (FloatDistribution): 0.134153616398465<extra></extra>",
          "rdc_lr_gamma (FloatDistribution): 0.2188214804606891<extra></extra>",
          "rdc_lr_step_size (CategoricalDistribution): 0.56152763943538<extra></extra>"
         ],
         "name": "Objective Value",
         "orientation": "h",
         "text": [
          "0.09",
          "0.13",
          "0.22",
          "0.56"
         ],
         "textposition": "outside",
         "type": "bar",
         "x": [
          0.08549726370546591,
          0.134153616398465,
          0.2188214804606891,
          0.56152763943538
         ],
         "y": [
          "rdc_gamma",
          "rdc_lr",
          "rdc_lr_gamma",
          "rdc_lr_step_size"
         ]
        }
       ],
       "layout": {
        "height": 500,
        "template": {
         "layout": {
          "colorway": [
           "#002D72",
           "#E2001A",
           "#5A5A5A",
           "#2C74B3",
           "#A1C9F4"
          ],
          "font": {
           "color": "#002D72",
           "family": "Arial, sans-serif",
           "size": 14
          },
          "paper_bgcolor": "white",
          "plot_bgcolor": "white",
          "title": {
           "font": {
            "color": "#002D72",
            "size": 20
           }
          },
          "xaxis": {
           "gridcolor": "#D1D1D1",
           "linecolor": "#002D72",
           "zerolinecolor": "#D1D1D1"
          },
          "yaxis": {
           "gridcolor": "#D1D1D1",
           "linecolor": "#002D72",
           "zerolinecolor": "#D1D1D1"
          }
         }
        },
        "title": {
         "text": "Importance for: rdc_ho_learningrate_20250730-165543"
        },
        "width": 1000,
        "xaxis": {
         "title": {
          "text": "Hyperparameter Importance"
         }
        },
        "yaxis": {
         "title": {
          "text": "Hyperparameter"
         }
        }
       }
      }
     },
     "metadata": {},
     "output_type": "display_data"
    },
    {
     "name": "stderr",
     "output_type": "stream",
     "text": [
      "[I 2025-08-27 08:10:11,151] A new study created in memory with name: rdc_ho_replaybuffer_20250730-095727\n"
     ]
    },
    {
     "data": {
      "application/vnd.plotly.v1+json": {
       "config": {
        "plotlyServerURL": "https://plot.ly"
       },
       "data": [
        {
         "cliponaxis": false,
         "hovertemplate": [
          "rdc_replay_buffer_beta_start (FloatDistribution): 0.018627416823852903<extra></extra>",
          "rdc_replay_buffer_alpha (FloatDistribution): 0.0324638507381444<extra></extra>",
          "rdc_tau (FloatDistribution): 0.05342173605143344<extra></extra>",
          "rdc_replay_buffer_capacity (CategoricalDistribution): 0.41320183172556<extra></extra>",
          "rdc_replay_buffer_beta_frames (CategoricalDistribution): 0.4822851646610093<extra></extra>"
         ],
         "name": "Objective Value",
         "orientation": "h",
         "text": [
          "0.02",
          "0.03",
          "0.05",
          "0.41",
          "0.48"
         ],
         "textposition": "outside",
         "type": "bar",
         "x": [
          0.018627416823852903,
          0.0324638507381444,
          0.05342173605143344,
          0.41320183172556,
          0.4822851646610093
         ],
         "y": [
          "rdc_replay_buffer_beta_start",
          "rdc_replay_buffer_alpha",
          "rdc_tau",
          "rdc_replay_buffer_capacity",
          "rdc_replay_buffer_beta_frames"
         ]
        }
       ],
       "layout": {
        "height": 500,
        "template": {
         "layout": {
          "colorway": [
           "#002D72",
           "#E2001A",
           "#5A5A5A",
           "#2C74B3",
           "#A1C9F4"
          ],
          "font": {
           "color": "#002D72",
           "family": "Arial, sans-serif",
           "size": 14
          },
          "paper_bgcolor": "white",
          "plot_bgcolor": "white",
          "title": {
           "font": {
            "color": "#002D72",
            "size": 20
           }
          },
          "xaxis": {
           "gridcolor": "#D1D1D1",
           "linecolor": "#002D72",
           "zerolinecolor": "#D1D1D1"
          },
          "yaxis": {
           "gridcolor": "#D1D1D1",
           "linecolor": "#002D72",
           "zerolinecolor": "#D1D1D1"
          }
         }
        },
        "title": {
         "text": "Importance for: rdc_ho_replaybuffer_20250730-095727"
        },
        "width": 1000,
        "xaxis": {
         "title": {
          "text": "Hyperparameter Importance"
         }
        },
        "yaxis": {
         "title": {
          "text": "Hyperparameter"
         }
        }
       }
      }
     },
     "metadata": {},
     "output_type": "display_data"
    },
    {
     "name": "stderr",
     "output_type": "stream",
     "text": [
      "[I 2025-08-27 08:11:01,202] A new study created in memory with name: rdc_ho_replaybuffer_20250730-165701\n"
     ]
    },
    {
     "data": {
      "application/vnd.plotly.v1+json": {
       "config": {
        "plotlyServerURL": "https://plot.ly"
       },
       "data": [
        {
         "cliponaxis": false,
         "hovertemplate": [
          "rdc_replay_buffer_alpha (FloatDistribution): 0.00222159274033614<extra></extra>",
          "rdc_tau (FloatDistribution): 0.02340365994153813<extra></extra>",
          "rdc_replay_buffer_beta_start (FloatDistribution): 0.02701584473461632<extra></extra>",
          "rdc_replay_buffer_beta_frames (CategoricalDistribution): 0.4117980019468963<extra></extra>",
          "rdc_replay_buffer_capacity (CategoricalDistribution): 0.5355609006366132<extra></extra>"
         ],
         "name": "Objective Value",
         "orientation": "h",
         "text": [
          "<0.01",
          "0.02",
          "0.03",
          "0.41",
          "0.54"
         ],
         "textposition": "outside",
         "type": "bar",
         "x": [
          0.00222159274033614,
          0.02340365994153813,
          0.02701584473461632,
          0.4117980019468963,
          0.5355609006366132
         ],
         "y": [
          "rdc_replay_buffer_alpha",
          "rdc_tau",
          "rdc_replay_buffer_beta_start",
          "rdc_replay_buffer_beta_frames",
          "rdc_replay_buffer_capacity"
         ]
        }
       ],
       "layout": {
        "height": 500,
        "template": {
         "layout": {
          "colorway": [
           "#002D72",
           "#E2001A",
           "#5A5A5A",
           "#2C74B3",
           "#A1C9F4"
          ],
          "font": {
           "color": "#002D72",
           "family": "Arial, sans-serif",
           "size": 14
          },
          "paper_bgcolor": "white",
          "plot_bgcolor": "white",
          "title": {
           "font": {
            "color": "#002D72",
            "size": 20
           }
          },
          "xaxis": {
           "gridcolor": "#D1D1D1",
           "linecolor": "#002D72",
           "zerolinecolor": "#D1D1D1"
          },
          "yaxis": {
           "gridcolor": "#D1D1D1",
           "linecolor": "#002D72",
           "zerolinecolor": "#D1D1D1"
          }
         }
        },
        "title": {
         "text": "Importance for: rdc_ho_replaybuffer_20250730-165701"
        },
        "width": 1000,
        "xaxis": {
         "title": {
          "text": "Hyperparameter Importance"
         }
        },
        "yaxis": {
         "title": {
          "text": "Hyperparameter"
         }
        }
       }
      }
     },
     "metadata": {},
     "output_type": "display_data"
    }
   ],
   "source": [
    "for filename, df in rdc_dfs_dict.items():\n",
    "    study_name = filename.replace(STUDY_FILE_SUFFIX, \"\")\n",
    "\n",
    "    temp_study = create_study_from_df(study_name, df.copy())\n",
    "\n",
    "    fig = optuna.visualization.plot_param_importances(temp_study)\n",
    "    fig.update_layout(title=f\"Importance for: {study_name}\", width=1000, height=500)\n",
    "    fig.show()"
   ]
  },
  {
   "cell_type": "markdown",
   "metadata": {},
   "source": [
    "### Aggregated Analysis (All RDC Trials)\n",
    "\n",
    "These plots combine all trials from all RDC runs to give a high-level overview of the entire optimization process."
   ]
  },
  {
   "cell_type": "code",
   "execution_count": 10,
   "metadata": {},
   "outputs": [
    {
     "name": "stderr",
     "output_type": "stream",
     "text": [
      "[I 2025-08-27 08:11:41,629] A new study created in memory with name: RDC Aggregated\n"
     ]
    }
   ],
   "source": [
    "rdc_aggregated_study = create_study_from_df(\n",
    "    \"RDC Aggregated\", pd.concat(rdc_dfs_dict.values(), ignore_index=True)\n",
    ")"
   ]
  },
  {
   "cell_type": "code",
   "execution_count": 11,
   "metadata": {},
   "outputs": [
    {
     "data": {
      "application/vnd.plotly.v1+json": {
       "config": {
        "plotlyServerURL": "https://plot.ly"
       },
       "data": [
        {
         "mode": "markers",
         "name": "Objective Value",
         "type": "scatter",
         "x": [
          0,
          1,
          2,
          3,
          4,
          5,
          6,
          7,
          8,
          9,
          10,
          11,
          12,
          13,
          14,
          15,
          16,
          17,
          18,
          19,
          20,
          21,
          22,
          23,
          24,
          25,
          26,
          27,
          28,
          29,
          30,
          31,
          32,
          33,
          34,
          35,
          36,
          37,
          38,
          39,
          40,
          41,
          42,
          43,
          44,
          45,
          46,
          47,
          48,
          49,
          50,
          51,
          52,
          53,
          54,
          55,
          56,
          57,
          58,
          59,
          60,
          61,
          62,
          63,
          64,
          65,
          66,
          67,
          68,
          69,
          70,
          71,
          72,
          73,
          74,
          75,
          76,
          77,
          78,
          79,
          80,
          81,
          82,
          83,
          84,
          85,
          86,
          87,
          88,
          89,
          90,
          91,
          92,
          93,
          94,
          95,
          96,
          97,
          98,
          99,
          100,
          101,
          102,
          103,
          104,
          105,
          106,
          107,
          108,
          109,
          110,
          111,
          112,
          113,
          114,
          115,
          116,
          117,
          118,
          119,
          120,
          121,
          122,
          123,
          124,
          125,
          126,
          127,
          128,
          129,
          130,
          131,
          132,
          133,
          134,
          135,
          136,
          137,
          138,
          139,
          140,
          141,
          142,
          143,
          144,
          145,
          146,
          147,
          148,
          149,
          150,
          151,
          152,
          153,
          154,
          155,
          156,
          157,
          158,
          159,
          160,
          161,
          162,
          163,
          164,
          165,
          166,
          167,
          168,
          169,
          170,
          171,
          172,
          173,
          174,
          175,
          176,
          177,
          178,
          179,
          180,
          181,
          182,
          183,
          184,
          185,
          186,
          187,
          188,
          189,
          190,
          191,
          192,
          193,
          194,
          195,
          196,
          197,
          198,
          199,
          200,
          201,
          202,
          203,
          204,
          205,
          206,
          207,
          208,
          209,
          210,
          211,
          212,
          213,
          214,
          215,
          216,
          217,
          218,
          219,
          220,
          221,
          222,
          223,
          224,
          225,
          226,
          227,
          228,
          229,
          230,
          231,
          232,
          233,
          234,
          235,
          236,
          237,
          238,
          239,
          240,
          241,
          242,
          243,
          244,
          245,
          246,
          247,
          248,
          249,
          250,
          251,
          252,
          253,
          254,
          255,
          256,
          257,
          258,
          259,
          260,
          261,
          262,
          263,
          264,
          265,
          266,
          267,
          268,
          269,
          270,
          271,
          272,
          273,
          274,
          275,
          276,
          277,
          278,
          279,
          280,
          281,
          282,
          283,
          284,
          285,
          286,
          287,
          288,
          289,
          290,
          291,
          292,
          293,
          294,
          295,
          296,
          297,
          298,
          299,
          300,
          301,
          302,
          303,
          304,
          305,
          306,
          307,
          308,
          309,
          310,
          311,
          312,
          313,
          314,
          315,
          316,
          317,
          318,
          319,
          320,
          321,
          322,
          323,
          324,
          325,
          326,
          327,
          328,
          329,
          330,
          331,
          332,
          333,
          334,
          335,
          336,
          337,
          338,
          339,
          340,
          341,
          342,
          343,
          344,
          345,
          346,
          347,
          348,
          349,
          350,
          351,
          352,
          353,
          354,
          355,
          356,
          357,
          358,
          359,
          360,
          361,
          362,
          363,
          364,
          365,
          366,
          367,
          368,
          369,
          370,
          371,
          372,
          373,
          374,
          375,
          376,
          377,
          378,
          379,
          380,
          381,
          382,
          383,
          384,
          385,
          386,
          387,
          388,
          389,
          390,
          391,
          392,
          393,
          394,
          395,
          396,
          397,
          398,
          399,
          400,
          401,
          402,
          403,
          404,
          405,
          406,
          407,
          408,
          409,
          410,
          411,
          412,
          413,
          414,
          415,
          416,
          417,
          418,
          419,
          420,
          421,
          422,
          423,
          424,
          425,
          426,
          427,
          428,
          429,
          430,
          431,
          432,
          433,
          434,
          435,
          436,
          437,
          438,
          439,
          440,
          441,
          442,
          443,
          444,
          445,
          446,
          447,
          448,
          449,
          450,
          451,
          452,
          453,
          454,
          455,
          456,
          457,
          458,
          459,
          460,
          461,
          462,
          463,
          464,
          465,
          466,
          467,
          468,
          469,
          470,
          471,
          472,
          473,
          474,
          475,
          476,
          477,
          478,
          479,
          480,
          481,
          482,
          483,
          484,
          485,
          486,
          487,
          488,
          489,
          490,
          491,
          492,
          493,
          494,
          495,
          496,
          497,
          498,
          499
         ],
         "y": [
          78.66833180353566,
          75.78514754407158,
          73.31315359745638,
          75.55293655975055,
          77.79118525265821,
          75.46719491931896,
          77.86696776003126,
          78.22395369476831,
          78.46598846170443,
          78.2125631189878,
          76.13337888735758,
          78.50517940730668,
          78.87076979723793,
          77.73218175657868,
          78.43075203300242,
          77.57209187322137,
          78.7707403272729,
          78.69493708080503,
          78.67680062122774,
          76.23881140709781,
          77.74655541287675,
          77.85939197924935,
          77.73818314000258,
          77.92818712209151,
          77.69806712757322,
          78.15792412035296,
          78.75884521360958,
          78.6149081819694,
          78.97447086273827,
          78.73570019836188,
          78.37350875811524,
          79.01000723060822,
          77.86686522839963,
          78.84497077438455,
          78.65681460774447,
          77.86167691635623,
          79.45317470258367,
          77.46509716162298,
          78.66811218720892,
          78.10315056682794,
          77.55582968770408,
          78.03316070490692,
          78.35527748579214,
          78.6531459413051,
          76.16214678290899,
          73.04167835560152,
          76.6939678980382,
          74.90608539760652,
          75.53546276902678,
          71.48617620475224,
          78.05532509123643,
          78.56036247580413,
          77.20246055776069,
          79.17746547818578,
          78.05876572763648,
          78.93133449388479,
          77.99301616202965,
          78.54159323078514,
          78.54470488515555,
          78.2292859125326,
          78.43085175267689,
          77.86744590180365,
          77.26666918574152,
          78.1018710888245,
          79.17373683364592,
          78.5466947068208,
          78.34625719347531,
          77.83869814442491,
          79.1670334164011,
          77.3090838994659,
          78.5897354120311,
          77.6567934190568,
          78.43711624563856,
          78.69914686152092,
          78.78521654341792,
          78.30227552491667,
          78.24465034052182,
          76.96744897280394,
          78.40338982787738,
          78.99991848508226,
          78.92274125838047,
          78.03783764090362,
          78.8436486353439,
          78.49039990268398,
          78.67232511384012,
          78.467954508396,
          78.30519709873867,
          78.07304174431206,
          78.16683635835938,
          77.8936201080174,
          78.97216028243382,
          79.63947088609113,
          78.04624991506266,
          77.78872468906512,
          78.6869765751155,
          79.14136537937502,
          77.82979059346331,
          77.97877542021038,
          77.74734100480643,
          78.70169196093498,
          77.12184242446791,
          76.42003070046158,
          77.7768823131305,
          76.34933325601084,
          78.90472299647851,
          76.93862758593778,
          77.50398344384746,
          74.35192363890695,
          73.42553001678166,
          77.207349662535,
          77.5977964031247,
          77.16048553398777,
          76.7932549126854,
          78.77657303092688,
          75.09846638374938,
          78.01359718255121,
          78.66767061409858,
          78.37277362802602,
          78.64848754085308,
          78.07932600314578,
          78.40029954670474,
          77.6231854873615,
          75.32096625203776,
          78.57545668107686,
          76.04396982237226,
          72.78955754739064,
          76.07114363238279,
          77.4345669669458,
          78.06945763205745,
          78.09293068806996,
          77.02956853426733,
          77.15126338962486,
          78.43505479995318,
          77.16524991010495,
          77.72365314973051,
          77.86925705590698,
          74.20500596831872,
          78.21927660932674,
          77.27496186931876,
          76.16222979229278,
          77.13842319838537,
          78.30750258690313,
          77.55660877649719,
          73.7171088106033,
          77.80630385094568,
          77.53132142868661,
          77.99934091898693,
          77.42722021893013,
          77.561492893903,
          78.84212289900577,
          78.12807849368228,
          78.21795038296133,
          78.84482356366416,
          77.18170375827516,
          78.40267183344096,
          77.91004396605088,
          78.51524206014022,
          78.82345380395236,
          78.61724787233314,
          77.74444017997585,
          79.28873491896967,
          78.49151139521817,
          79.00082771024046,
          79.28760777281425,
          79.6705209811816,
          77.57904915933435,
          78.61172252604455,
          78.68989602541606,
          76.55424594987737,
          78.55822295667674,
          78.75664221282454,
          77.42711683671192,
          79.26289509572209,
          78.8113178211209,
          79.11158927207012,
          78.73663728331937,
          77.99185050457164,
          78.5522920441778,
          79.36889270021683,
          79.32997005113113,
          78.83440644569147,
          78.4188095200005,
          78.37725017970786,
          77.60653488737312,
          78.77110443287563,
          78.68726241241589,
          78.78931425172016,
          78.9820074956207,
          78.14662859583821,
          78.09282018135897,
          79.19782422466182,
          78.244366347585,
          77.72894549212647,
          78.09071624955308,
          78.16182567683441,
          78.1378987180765,
          78.50991046008566,
          78.13707225755942,
          78.42535099017866,
          78.05136335851039,
          78.29498696421653,
          78.75185303285386,
          77.02975425358576,
          78.95075875942578,
          78.50147424259481,
          78.9562225289999,
          79.07091171191703,
          78.25870577708938,
          79.29125446417375,
          78.57253801891152,
          79.45156530042276,
          78.57808769523014,
          78.91452226112267,
          78.89416584592871,
          78.83516456826489,
          78.69424809314403,
          78.07460727837321,
          78.32022341536994,
          78.23639959241872,
          78.83749845618054,
          78.25269295296965,
          73.87295182500226,
          79.1956805075078,
          78.01483549508157,
          79.03370535829296,
          78.32108446420627,
          78.21091411969951,
          78.44555389712674,
          78.09154078959861,
          77.66865373928667,
          77.26293985095514,
          77.58849430550559,
          78.12716328882253,
          78.21303730118277,
          77.88503245299283,
          78.64988719229922,
          78.0475206327043,
          77.52156814974384,
          79.11473680541079,
          78.77303697738408,
          78.03722199421743,
          76.87464770113729,
          77.88748691586743,
          77.5964147683973,
          77.59389704521644,
          77.33842371537463,
          78.70633238212979,
          77.04373030071302,
          78.34265964071997,
          78.55956241035432,
          78.5661958730567,
          78.65584775700259,
          77.81682478359258,
          79.24746329949843,
          78.34623750791505,
          78.66196170480785,
          79.21224412480431,
          77.58967317992077,
          78.74140477793517,
          78.8220226320431,
          78.71605637315608,
          76.88249334398559,
          78.07761183702077,
          78.30658749446636,
          78.6540253307844,
          79.09646976628761,
          78.3375004588393,
          78.77884005355475,
          78.88765814921648,
          78.37107171943435,
          78.64550481050956,
          78.83445423760023,
          78.2821897519245,
          78.58679376104618,
          78.65727070034686,
          78.22177946483183,
          78.2404521587104,
          77.96740013789123,
          78.86474433795198,
          78.69738398380014,
          78.93908701739927,
          78.40143035292533,
          78.40882554941399,
          78.58423554370995,
          78.58777874820757,
          79.29904172309449,
          78.71159211804408,
          79.33813150086566,
          78.88385047675487,
          78.5538477193147,
          79.2732954759147,
          79.30652902192041,
          78.39977254797938,
          79.12402760910865,
          78.31778688545134,
          79.22253643986444,
          77.89018556791065,
          79.08907936153473,
          78.57621419669084,
          78.63285900827209,
          77.6615610381388,
          78.26739222850236,
          78.03107048804246,
          78.06097888828575,
          77.49827150251622,
          77.02548278145863,
          78.67655031151108,
          78.61290206794587,
          75.61970037293138,
          78.4828541232901,
          78.62581750283542,
          79.14473487474359,
          75.8873234484975,
          78.15186844939308,
          78.83888181145832,
          79.30131099855504,
          77.65153458063202,
          79.46974423586158,
          78.33941866135807,
          78.43956164634326,
          78.8123752413749,
          78.74422666938645,
          78.43568424078221,
          78.76025238947776,
          78.67616729942509,
          77.71454802463464,
          78.45587497536664,
          78.84602837571873,
          78.28521811794087,
          78.04903154187099,
          77.4703153753301,
          78.81058590636076,
          78.30537985182606,
          79.27919686339295,
          78.82661181925384,
          78.16717805733937,
          79.09063134137806,
          78.17960402996357,
          78.0925697997021,
          79.23574819823062,
          78.9499052091033,
          78.3792472054234,
          75.29876489276032,
          77.28246617351094,
          78.06796367768082,
          78.71105127991264,
          78.18549561609177,
          78.74089310194925,
          78.90856963435473,
          78.81734018661899,
          77.60355288994312,
          78.83325166709933,
          78.59474562294551,
          71.82432971536058,
          78.85231335566904,
          78.20218803472957,
          78.39584186368657,
          75.72075242660911,
          76.7828678434769,
          77.51913755490864,
          76.90940955754635,
          77.91657322716382,
          77.97104680460117,
          78.24163899153291,
          77.70799083841362,
          78.83195485401583,
          77.25973581137801,
          78.32445620067804,
          78.9781263072926,
          78.7150775834191,
          78.08077669316941,
          77.92655647499356,
          78.51897680451424,
          77.28959664497076,
          78.44665496941107,
          77.74004938108999,
          78.1786503090081,
          75.47328729636315,
          72.72522419714727,
          77.09719661735488,
          73.69646852556664,
          78.16531482778022,
          78.32968599917486,
          78.27369906366604,
          75.23550613036254,
          77.75085787186883,
          78.33089316126905,
          74.12597234276717,
          71.41048704488274,
          77.96579294704716,
          77.45776388490995,
          75.19719970149467,
          77.95803277358212,
          74.61822839495355,
          75.57955488979562,
          77.86703726088136,
          77.6528015916141,
          77.83789263737442,
          70.5530611008268,
          76.85244065136881,
          77.04029313393818,
          76.58935636287103,
          77.4474062533851,
          77.15079486506633,
          77.85796810705638,
          78.44623440039531,
          76.06175528618961,
          78.46110571639421,
          78.01623879224078,
          76.00746613299428,
          76.69190522330571,
          74.34050974973334,
          77.44273193707798,
          77.38660181671953,
          73.55682686350227,
          75.66355918548801,
          77.6958958255178,
          77.78187662390698,
          76.82799456507755,
          76.34476726410782,
          76.11554786325951,
          76.81042346622905,
          76.81404600067559,
          76.47863812977471,
          78.04610270858352,
          75.87261567301438,
          77.3781499226906,
          77.65995892730368,
          78.26930534880934,
          76.9316229845326,
          76.18602538812584,
          79.68152567247867,
          77.55835362362369,
          77.00929795794899,
          77.74543116722586,
          79.32078910982356,
          76.81086443822197,
          79.03188257574564,
          77.97606640563203,
          77.89773647096364,
          76.04103048688829,
          77.25369140171806,
          76.70976312789098,
          77.76962064319261,
          77.67509854228067,
          78.88150767620017,
          77.73902059581597,
          76.0512042601554,
          75.54672068741326,
          77.32329933530518,
          77.84930114620606,
          78.94275371945639,
          78.44653362689249,
          79.25945849677947,
          79.01303794384626,
          77.29728323614434,
          78.23332285640187,
          77.55228646189101,
          77.86167708008725,
          79.12828310682293,
          77.79697599516852,
          78.3131977615438,
          77.9429715814252,
          78.35191535772633,
          78.40934082673162,
          78.2931450403317,
          78.39360337832754,
          79.3957600813374,
          78.2247395154365,
          77.96517980620669,
          78.67841810775234,
          78.19468566989946,
          78.72901742811972,
          78.70497276128395,
          78.34138449098218,
          78.7353069355789,
          78.50411663394975,
          78.44555023353675,
          78.40333217424924,
          78.37607140269031,
          78.7128653812926,
          77.50968453205466,
          78.59245066829583,
          78.3204039998857,
          78.1279277615516,
          78.95382630276033,
          78.57258363827793,
          78.59076506243792,
          77.79716879016955,
          77.6758386292322,
          78.64081884215925,
          77.94444472761862,
          79.00605863269962,
          78.70424218309357,
          78.51999771151841,
          75.10078071689216,
          77.86730899192384,
          77.99766767641555,
          78.12948807479547,
          78.73097314002533
         ]
        },
        {
         "mode": "lines",
         "name": "Best Value",
         "type": "scatter",
         "x": [
          0,
          1,
          2,
          3,
          4,
          5,
          6,
          7,
          8,
          9,
          10,
          11,
          12,
          13,
          14,
          15,
          16,
          17,
          18,
          19,
          20,
          21,
          22,
          23,
          24,
          25,
          26,
          27,
          28,
          29,
          30,
          31,
          32,
          33,
          34,
          35,
          36,
          37,
          38,
          39,
          40,
          41,
          42,
          43,
          44,
          45,
          46,
          47,
          48,
          49,
          50,
          51,
          52,
          53,
          54,
          55,
          56,
          57,
          58,
          59,
          60,
          61,
          62,
          63,
          64,
          65,
          66,
          67,
          68,
          69,
          70,
          71,
          72,
          73,
          74,
          75,
          76,
          77,
          78,
          79,
          80,
          81,
          82,
          83,
          84,
          85,
          86,
          87,
          88,
          89,
          90,
          91,
          92,
          93,
          94,
          95,
          96,
          97,
          98,
          99,
          100,
          101,
          102,
          103,
          104,
          105,
          106,
          107,
          108,
          109,
          110,
          111,
          112,
          113,
          114,
          115,
          116,
          117,
          118,
          119,
          120,
          121,
          122,
          123,
          124,
          125,
          126,
          127,
          128,
          129,
          130,
          131,
          132,
          133,
          134,
          135,
          136,
          137,
          138,
          139,
          140,
          141,
          142,
          143,
          144,
          145,
          146,
          147,
          148,
          149,
          150,
          151,
          152,
          153,
          154,
          155,
          156,
          157,
          158,
          159,
          160,
          161,
          162,
          163,
          164,
          165,
          166,
          167,
          168,
          169,
          170,
          171,
          172,
          173,
          174,
          175,
          176,
          177,
          178,
          179,
          180,
          181,
          182,
          183,
          184,
          185,
          186,
          187,
          188,
          189,
          190,
          191,
          192,
          193,
          194,
          195,
          196,
          197,
          198,
          199,
          200,
          201,
          202,
          203,
          204,
          205,
          206,
          207,
          208,
          209,
          210,
          211,
          212,
          213,
          214,
          215,
          216,
          217,
          218,
          219,
          220,
          221,
          222,
          223,
          224,
          225,
          226,
          227,
          228,
          229,
          230,
          231,
          232,
          233,
          234,
          235,
          236,
          237,
          238,
          239,
          240,
          241,
          242,
          243,
          244,
          245,
          246,
          247,
          248,
          249,
          250,
          251,
          252,
          253,
          254,
          255,
          256,
          257,
          258,
          259,
          260,
          261,
          262,
          263,
          264,
          265,
          266,
          267,
          268,
          269,
          270,
          271,
          272,
          273,
          274,
          275,
          276,
          277,
          278,
          279,
          280,
          281,
          282,
          283,
          284,
          285,
          286,
          287,
          288,
          289,
          290,
          291,
          292,
          293,
          294,
          295,
          296,
          297,
          298,
          299,
          300,
          301,
          302,
          303,
          304,
          305,
          306,
          307,
          308,
          309,
          310,
          311,
          312,
          313,
          314,
          315,
          316,
          317,
          318,
          319,
          320,
          321,
          322,
          323,
          324,
          325,
          326,
          327,
          328,
          329,
          330,
          331,
          332,
          333,
          334,
          335,
          336,
          337,
          338,
          339,
          340,
          341,
          342,
          343,
          344,
          345,
          346,
          347,
          348,
          349,
          350,
          351,
          352,
          353,
          354,
          355,
          356,
          357,
          358,
          359,
          360,
          361,
          362,
          363,
          364,
          365,
          366,
          367,
          368,
          369,
          370,
          371,
          372,
          373,
          374,
          375,
          376,
          377,
          378,
          379,
          380,
          381,
          382,
          383,
          384,
          385,
          386,
          387,
          388,
          389,
          390,
          391,
          392,
          393,
          394,
          395,
          396,
          397,
          398,
          399,
          400,
          401,
          402,
          403,
          404,
          405,
          406,
          407,
          408,
          409,
          410,
          411,
          412,
          413,
          414,
          415,
          416,
          417,
          418,
          419,
          420,
          421,
          422,
          423,
          424,
          425,
          426,
          427,
          428,
          429,
          430,
          431,
          432,
          433,
          434,
          435,
          436,
          437,
          438,
          439,
          440,
          441,
          442,
          443,
          444,
          445,
          446,
          447,
          448,
          449,
          450,
          451,
          452,
          453,
          454,
          455,
          456,
          457,
          458,
          459,
          460,
          461,
          462,
          463,
          464,
          465,
          466,
          467,
          468,
          469,
          470,
          471,
          472,
          473,
          474,
          475,
          476,
          477,
          478,
          479,
          480,
          481,
          482,
          483,
          484,
          485,
          486,
          487,
          488,
          489,
          490,
          491,
          492,
          493,
          494,
          495,
          496,
          497,
          498,
          499
         ],
         "y": [
          78.66833180353566,
          78.66833180353566,
          78.66833180353566,
          78.66833180353566,
          78.66833180353566,
          78.66833180353566,
          78.66833180353566,
          78.66833180353566,
          78.66833180353566,
          78.66833180353566,
          78.66833180353566,
          78.66833180353566,
          78.87076979723793,
          78.87076979723793,
          78.87076979723793,
          78.87076979723793,
          78.87076979723793,
          78.87076979723793,
          78.87076979723793,
          78.87076979723793,
          78.87076979723793,
          78.87076979723793,
          78.87076979723793,
          78.87076979723793,
          78.87076979723793,
          78.87076979723793,
          78.87076979723793,
          78.87076979723793,
          78.97447086273827,
          78.97447086273827,
          78.97447086273827,
          79.01000723060822,
          79.01000723060822,
          79.01000723060822,
          79.01000723060822,
          79.01000723060822,
          79.45317470258367,
          79.45317470258367,
          79.45317470258367,
          79.45317470258367,
          79.45317470258367,
          79.45317470258367,
          79.45317470258367,
          79.45317470258367,
          79.45317470258367,
          79.45317470258367,
          79.45317470258367,
          79.45317470258367,
          79.45317470258367,
          79.45317470258367,
          79.45317470258367,
          79.45317470258367,
          79.45317470258367,
          79.45317470258367,
          79.45317470258367,
          79.45317470258367,
          79.45317470258367,
          79.45317470258367,
          79.45317470258367,
          79.45317470258367,
          79.45317470258367,
          79.45317470258367,
          79.45317470258367,
          79.45317470258367,
          79.45317470258367,
          79.45317470258367,
          79.45317470258367,
          79.45317470258367,
          79.45317470258367,
          79.45317470258367,
          79.45317470258367,
          79.45317470258367,
          79.45317470258367,
          79.45317470258367,
          79.45317470258367,
          79.45317470258367,
          79.45317470258367,
          79.45317470258367,
          79.45317470258367,
          79.45317470258367,
          79.45317470258367,
          79.45317470258367,
          79.45317470258367,
          79.45317470258367,
          79.45317470258367,
          79.45317470258367,
          79.45317470258367,
          79.45317470258367,
          79.45317470258367,
          79.45317470258367,
          79.45317470258367,
          79.63947088609113,
          79.63947088609113,
          79.63947088609113,
          79.63947088609113,
          79.63947088609113,
          79.63947088609113,
          79.63947088609113,
          79.63947088609113,
          79.63947088609113,
          79.63947088609113,
          79.63947088609113,
          79.63947088609113,
          79.63947088609113,
          79.63947088609113,
          79.63947088609113,
          79.63947088609113,
          79.63947088609113,
          79.63947088609113,
          79.63947088609113,
          79.63947088609113,
          79.63947088609113,
          79.63947088609113,
          79.63947088609113,
          79.63947088609113,
          79.63947088609113,
          79.63947088609113,
          79.63947088609113,
          79.63947088609113,
          79.63947088609113,
          79.63947088609113,
          79.63947088609113,
          79.63947088609113,
          79.63947088609113,
          79.63947088609113,
          79.63947088609113,
          79.63947088609113,
          79.63947088609113,
          79.63947088609113,
          79.63947088609113,
          79.63947088609113,
          79.63947088609113,
          79.63947088609113,
          79.63947088609113,
          79.63947088609113,
          79.63947088609113,
          79.63947088609113,
          79.63947088609113,
          79.63947088609113,
          79.63947088609113,
          79.63947088609113,
          79.63947088609113,
          79.63947088609113,
          79.63947088609113,
          79.63947088609113,
          79.63947088609113,
          79.63947088609113,
          79.63947088609113,
          79.63947088609113,
          79.63947088609113,
          79.63947088609113,
          79.63947088609113,
          79.63947088609113,
          79.63947088609113,
          79.63947088609113,
          79.63947088609113,
          79.63947088609113,
          79.63947088609113,
          79.63947088609113,
          79.63947088609113,
          79.63947088609113,
          79.63947088609113,
          79.63947088609113,
          79.63947088609113,
          79.6705209811816,
          79.6705209811816,
          79.6705209811816,
          79.6705209811816,
          79.6705209811816,
          79.6705209811816,
          79.6705209811816,
          79.6705209811816,
          79.6705209811816,
          79.6705209811816,
          79.6705209811816,
          79.6705209811816,
          79.6705209811816,
          79.6705209811816,
          79.6705209811816,
          79.6705209811816,
          79.6705209811816,
          79.6705209811816,
          79.6705209811816,
          79.6705209811816,
          79.6705209811816,
          79.6705209811816,
          79.6705209811816,
          79.6705209811816,
          79.6705209811816,
          79.6705209811816,
          79.6705209811816,
          79.6705209811816,
          79.6705209811816,
          79.6705209811816,
          79.6705209811816,
          79.6705209811816,
          79.6705209811816,
          79.6705209811816,
          79.6705209811816,
          79.6705209811816,
          79.6705209811816,
          79.6705209811816,
          79.6705209811816,
          79.6705209811816,
          79.6705209811816,
          79.6705209811816,
          79.6705209811816,
          79.6705209811816,
          79.6705209811816,
          79.6705209811816,
          79.6705209811816,
          79.6705209811816,
          79.6705209811816,
          79.6705209811816,
          79.6705209811816,
          79.6705209811816,
          79.6705209811816,
          79.6705209811816,
          79.6705209811816,
          79.6705209811816,
          79.6705209811816,
          79.6705209811816,
          79.6705209811816,
          79.6705209811816,
          79.6705209811816,
          79.6705209811816,
          79.6705209811816,
          79.6705209811816,
          79.6705209811816,
          79.6705209811816,
          79.6705209811816,
          79.6705209811816,
          79.6705209811816,
          79.6705209811816,
          79.6705209811816,
          79.6705209811816,
          79.6705209811816,
          79.6705209811816,
          79.6705209811816,
          79.6705209811816,
          79.6705209811816,
          79.6705209811816,
          79.6705209811816,
          79.6705209811816,
          79.6705209811816,
          79.6705209811816,
          79.6705209811816,
          79.6705209811816,
          79.6705209811816,
          79.6705209811816,
          79.6705209811816,
          79.6705209811816,
          79.6705209811816,
          79.6705209811816,
          79.6705209811816,
          79.6705209811816,
          79.6705209811816,
          79.6705209811816,
          79.6705209811816,
          79.6705209811816,
          79.6705209811816,
          79.6705209811816,
          79.6705209811816,
          79.6705209811816,
          79.6705209811816,
          79.6705209811816,
          79.6705209811816,
          79.6705209811816,
          79.6705209811816,
          79.6705209811816,
          79.6705209811816,
          79.6705209811816,
          79.6705209811816,
          79.6705209811816,
          79.6705209811816,
          79.6705209811816,
          79.6705209811816,
          79.6705209811816,
          79.6705209811816,
          79.6705209811816,
          79.6705209811816,
          79.6705209811816,
          79.6705209811816,
          79.6705209811816,
          79.6705209811816,
          79.6705209811816,
          79.6705209811816,
          79.6705209811816,
          79.6705209811816,
          79.6705209811816,
          79.6705209811816,
          79.6705209811816,
          79.6705209811816,
          79.6705209811816,
          79.6705209811816,
          79.6705209811816,
          79.6705209811816,
          79.6705209811816,
          79.6705209811816,
          79.6705209811816,
          79.6705209811816,
          79.6705209811816,
          79.6705209811816,
          79.6705209811816,
          79.6705209811816,
          79.6705209811816,
          79.6705209811816,
          79.6705209811816,
          79.6705209811816,
          79.6705209811816,
          79.6705209811816,
          79.6705209811816,
          79.6705209811816,
          79.6705209811816,
          79.6705209811816,
          79.6705209811816,
          79.6705209811816,
          79.6705209811816,
          79.6705209811816,
          79.6705209811816,
          79.6705209811816,
          79.6705209811816,
          79.6705209811816,
          79.6705209811816,
          79.6705209811816,
          79.6705209811816,
          79.6705209811816,
          79.6705209811816,
          79.6705209811816,
          79.6705209811816,
          79.6705209811816,
          79.6705209811816,
          79.6705209811816,
          79.6705209811816,
          79.6705209811816,
          79.6705209811816,
          79.6705209811816,
          79.6705209811816,
          79.6705209811816,
          79.6705209811816,
          79.6705209811816,
          79.6705209811816,
          79.6705209811816,
          79.6705209811816,
          79.6705209811816,
          79.6705209811816,
          79.6705209811816,
          79.6705209811816,
          79.6705209811816,
          79.6705209811816,
          79.6705209811816,
          79.6705209811816,
          79.6705209811816,
          79.6705209811816,
          79.6705209811816,
          79.6705209811816,
          79.6705209811816,
          79.6705209811816,
          79.6705209811816,
          79.6705209811816,
          79.6705209811816,
          79.6705209811816,
          79.6705209811816,
          79.6705209811816,
          79.6705209811816,
          79.6705209811816,
          79.6705209811816,
          79.6705209811816,
          79.6705209811816,
          79.6705209811816,
          79.6705209811816,
          79.6705209811816,
          79.6705209811816,
          79.6705209811816,
          79.6705209811816,
          79.6705209811816,
          79.6705209811816,
          79.6705209811816,
          79.6705209811816,
          79.6705209811816,
          79.6705209811816,
          79.6705209811816,
          79.6705209811816,
          79.6705209811816,
          79.6705209811816,
          79.6705209811816,
          79.6705209811816,
          79.6705209811816,
          79.6705209811816,
          79.6705209811816,
          79.6705209811816,
          79.6705209811816,
          79.6705209811816,
          79.6705209811816,
          79.6705209811816,
          79.6705209811816,
          79.6705209811816,
          79.6705209811816,
          79.6705209811816,
          79.6705209811816,
          79.6705209811816,
          79.6705209811816,
          79.6705209811816,
          79.6705209811816,
          79.6705209811816,
          79.6705209811816,
          79.6705209811816,
          79.6705209811816,
          79.6705209811816,
          79.6705209811816,
          79.6705209811816,
          79.6705209811816,
          79.6705209811816,
          79.6705209811816,
          79.6705209811816,
          79.6705209811816,
          79.6705209811816,
          79.6705209811816,
          79.6705209811816,
          79.6705209811816,
          79.6705209811816,
          79.6705209811816,
          79.6705209811816,
          79.6705209811816,
          79.6705209811816,
          79.6705209811816,
          79.6705209811816,
          79.6705209811816,
          79.6705209811816,
          79.6705209811816,
          79.6705209811816,
          79.68152567247867,
          79.68152567247867,
          79.68152567247867,
          79.68152567247867,
          79.68152567247867,
          79.68152567247867,
          79.68152567247867,
          79.68152567247867,
          79.68152567247867,
          79.68152567247867,
          79.68152567247867,
          79.68152567247867,
          79.68152567247867,
          79.68152567247867,
          79.68152567247867,
          79.68152567247867,
          79.68152567247867,
          79.68152567247867,
          79.68152567247867,
          79.68152567247867,
          79.68152567247867,
          79.68152567247867,
          79.68152567247867,
          79.68152567247867,
          79.68152567247867,
          79.68152567247867,
          79.68152567247867,
          79.68152567247867,
          79.68152567247867,
          79.68152567247867,
          79.68152567247867,
          79.68152567247867,
          79.68152567247867,
          79.68152567247867,
          79.68152567247867,
          79.68152567247867,
          79.68152567247867,
          79.68152567247867,
          79.68152567247867,
          79.68152567247867,
          79.68152567247867,
          79.68152567247867,
          79.68152567247867,
          79.68152567247867,
          79.68152567247867,
          79.68152567247867,
          79.68152567247867,
          79.68152567247867,
          79.68152567247867,
          79.68152567247867,
          79.68152567247867,
          79.68152567247867,
          79.68152567247867,
          79.68152567247867,
          79.68152567247867,
          79.68152567247867,
          79.68152567247867,
          79.68152567247867,
          79.68152567247867,
          79.68152567247867,
          79.68152567247867,
          79.68152567247867,
          79.68152567247867,
          79.68152567247867,
          79.68152567247867,
          79.68152567247867,
          79.68152567247867,
          79.68152567247867,
          79.68152567247867
         ]
        },
        {
         "marker": {
          "color": "#cccccc"
         },
         "mode": "markers",
         "name": "Infeasible Trial",
         "showlegend": false,
         "type": "scatter",
         "x": [],
         "y": []
        }
       ],
       "layout": {
        "height": 594,
        "margin": {
         "b": 60,
         "l": 60,
         "r": 30,
         "t": 30
        },
        "showlegend": false,
        "template": {
         "layout": {
          "colorway": [
           "#002D72",
           "#E2001A",
           "#5A5A5A",
           "#2C74B3",
           "#A1C9F4"
          ],
          "font": {
           "color": "#002D72",
           "family": "Arial, sans-serif",
           "size": 14
          },
          "paper_bgcolor": "white",
          "plot_bgcolor": "white",
          "title": {
           "font": {
            "color": "#002D72",
            "size": 20
           }
          },
          "xaxis": {
           "gridcolor": "#D1D1D1",
           "linecolor": "#002D72",
           "zerolinecolor": "#D1D1D1"
          },
          "yaxis": {
           "gridcolor": "#D1D1D1",
           "linecolor": "#002D72",
           "zerolinecolor": "#D1D1D1"
          }
         }
        },
        "title": {},
        "width": 960,
        "xaxis": {
         "title": {
          "text": "Trial"
         }
        },
        "yaxis": {
         "title": {
          "text": "Objective Value"
         }
        }
       }
      }
     },
     "metadata": {},
     "output_type": "display_data"
    }
   ],
   "source": [
    "rdc_fig_hist = optuna.visualization.plot_optimization_history(rdc_aggregated_study)\n",
    "rdc_fig_hist.update_layout(\n",
    "    width=960,\n",
    "    height=594,\n",
    "    showlegend=False,\n",
    "    title=None,\n",
    "    margin=dict(l=60, r=30, t=30, b=60),\n",
    ")\n",
    "rdc_fig_hist.show()"
   ]
  },
  {
   "cell_type": "code",
   "execution_count": null,
   "metadata": {},
   "outputs": [],
   "source": [
    "rdc_full_params = {\n",
    "    col: col.replace(\"params_\", \"\")\n",
    "    for col in rdc_aggregated_study.trials_dataframe().columns\n",
    "    if col.startswith(\"params_\")\n",
    "}\n",
    "rdc_full_params = list(rdc_full_params.values())"
   ]
  },
  {
   "cell_type": "code",
   "execution_count": null,
   "metadata": {},
   "outputs": [
    {
     "data": {
      "application/vnd.plotly.v1+json": {
       "config": {
        "plotlyServerURL": "https://plot.ly"
       },
       "data": [
        {
         "marker": {
          "color": "#002D72",
          "opacity": 0.7
         },
         "mode": "markers",
         "type": "scatter",
         "x": {
          "bdata": "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",
          "dtype": "f8"
         },
         "xaxis": "x",
         "y": {
          "bdata": "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",
          "dtype": "f8"
         },
         "yaxis": "y"
        },
        {
         "marker": {
          "color": "#002D72",
          "opacity": 0.7
         },
         "mode": "markers",
         "type": "scatter",
         "x": {
          "bdata": "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",
          "dtype": "f8"
         },
         "xaxis": "x2",
         "y": {
          "bdata": "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",
          "dtype": "f8"
         },
         "yaxis": "y2"
        },
        {
         "marker": {
          "color": "#002D72",
          "opacity": 0.7
         },
         "mode": "markers",
         "type": "scatter",
         "x": {
          "bdata": "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",
          "dtype": "f8"
         },
         "xaxis": "x3",
         "y": {
          "bdata": "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",
          "dtype": "f8"
         },
         "yaxis": "y3"
        },
        {
         "marker": {
          "color": "#002D72",
          "opacity": 0.7
         },
         "mode": "markers",
         "type": "scatter",
         "x": {
          "bdata": "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",
          "dtype": "f8"
         },
         "xaxis": "x4",
         "y": {
          "bdata": "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",
          "dtype": "f8"
         },
         "yaxis": "y4"
        },
        {
         "marker": {
          "color": "#002D72",
          "opacity": 0.7
         },
         "mode": "markers",
         "type": "scatter",
         "x": {
          "bdata": "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",
          "dtype": "f8"
         },
         "xaxis": "x5",
         "y": {
          "bdata": "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",
          "dtype": "f8"
         },
         "yaxis": "y5"
        },
        {
         "marker": {
          "color": "#002D72",
          "opacity": 0.7
         },
         "mode": "markers",
         "type": "scatter",
         "x": {
          "bdata": "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",
          "dtype": "f8"
         },
         "xaxis": "x6",
         "y": {
          "bdata": "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",
          "dtype": "f8"
         },
         "yaxis": "y6"
        },
        {
         "marker": {
          "color": "#002D72",
          "opacity": 0.7
         },
         "mode": "markers",
         "type": "scatter",
         "x": {
          "bdata": "AAAAAAAA+H8AAAAAAAD4fwAAAAAAAPh/AAAAAAAA+H8AAAAAAAD4fwAAAAAAAPh/AAAAAAAA+H8AAAAAAAD4fwAAAAAAAPh/AAAAAAAA+H8AAAAAAAD4fwAAAAAAAPh/AAAAAAAA+H8AAAAAAAD4fwAAAAAAAPh/AAAAAAAA+H8AAAAAAAD4fwAAAAAAAPh/AAAAAAAA+H8AAAAAAAD4fwAAAAAAAPh/AAAAAAAA+H8AAAAAAAD4fwAAAAAAAPh/AAAAAAAA+H8AAAAAAAD4fwAAAAAAAPh/AAAAAAAA+H8AAAAAAAD4fwAAAAAAAPh/AAAAAAAA+H8AAAAAAAD4fwAAAAAAAPh/AAAAAAAA+H8AAAAAAAD4fwAAAAAAAPh/AAAAAAAA+H8AAAAAAAD4fwAAAAAAAPh/AAAAAAAA+H8AAAAAAAD4fwAAAAAAAPh/AAAAAAAA+H8AAAAAAAD4fwAAAAAAAPh/AAAAAAAA+H8AAAAAAAD4fwAAAAAAAPh/AAAAAAAA+H8AAAAAAAD4fwAAAAAAAPh/AAAAAAAA+H8AAAAAAAD4fwAAAAAAAPh/AAAAAAAA+H8AAAAAAAD4fwAAAAAAAPh/AAAAAAAA+H8AAAAAAAD4fwAAAAAAAPh/AAAAAAAA+H8AAAAAAAD4fwAAAAAAAPh/AAAAAAAA+H8AAAAAAAD4fwAAAAAAAPh/AAAAAAAA+H8AAAAAAAD4fwAAAAAAAPh/AAAAAAAA+H8AAAAAAAD4fwAAAAAAAPh/AAAAAAAA+H8AAAAAAAD4fwAAAAAAAPh/AAAAAAAA+H8AAAAAAAD4fwAAAAAAAPh/AAAAAAAA+H8AAAAAAAD4fwAAAAAAAPh/AAAAAAAA+H8AAAAAAAD4fwAAAAAAAPh/AAAAAAAA+H8AAAAAAAD4fwAAAAAAAPh/AAAAAAAA+H8AAAAAAAD4fwAAAAAAAPh/AAAAAAAA+H8AAAAAAAD4fwAAAAAAAPh/AAAAAAAA+H8AAAAAAAD4fwAAAAAAAPh/AAAAAAAA+H8AAAAAAAD4fwAAAAAAAPh/AAAAAAAA+H8AAAAAAAD4fwAAAAAAAPh/AAAAAAAA+H8AAAAAAAD4fwAAAAAAAPh/AAAAAAAA+H8AAAAAAAD4fwAAAAAAAPh/AAAAAAAA+H8AAAAAAAD4fwAAAAAAAPh/AAAAAAAA+H8AAAAAAAD4fwAAAAAAAPh/AAAAAAAA+H8AAAAAAAD4fwAAAAAAAPh/AAAAAAAA+H8AAAAAAAD4fwAAAAAAAPh/AAAAAAAA+H8AAAAAAAD4fwAAAAAAAPh/AAAAAAAA+H8AAAAAAAD4fwAAAAAAAPh/AAAAAAAA+H8AAAAAAAD4fwAAAAAAAPh/AAAAAAAA+H8AAAAAAAD4fwAAAAAAAPh/AAAAAAAA+H8AAAAAAAD4fwAAAAAAAPh/AAAAAAAA+H8AAAAAAAD4fwAAAAAAAPh/AAAAAAAA+H8AAAAAAAD4fwAAAAAAAPh/AAAAAAAA+H8AAAAAAAD4fwAAAAAAAPh/AAAAAAAA+H8AAAAAAAD4fwAAAAAAAPh/AAAAAAAA+H8AAAAAAAD4fwAAAAAAAPh/AAAAAAAA+H8AAAAAAAD4fwAAAAAAAPh/AAAAAAAA+H8AAAAAAAD4fwAAAAAAAPh/AAAAAAAA+H8AAAAAAAD4fwAAAAAAAPh/AAAAAAAA+H8AAAAAAAD4fwAAAAAAAPh/AAAAAAAA+H8AAAAAAAD4fwAAAAAAAPh/AAAAAAAA+H8AAAAAAAD4fwAAAAAAAPh/AAAAAAAA+H8AAAAAAAD4fwAAAAAAAPh/AAAAAAAA+H8AAAAAAAD4fwAAAAAAAPh/AAAAAAAA+H8AAAAAAAD4fwAAAAAAAPh/AAAAAAAA+H8AAAAAAAD4fwAAAAAAAPh/AAAAAAAA+H8AAAAAAAD4fwAAAAAAAPh/AAAAAAAA+H8AAAAAAAD4fwAAAAAAAPh/AAAAAAAA+H8AAAAAAAD4fwAAAAAAAPh/AAAAAAAA+H8AAAAAAAD4fwAAAAAAAPh/AAAAAAAA+H8AAAAAAAD4fwAAAAAAAPh/AAAAAAAA+H8AAAAAAAD4fwAAAAAAAPh/AAAAAAAA+H8AAAAAAAD4f7gehetRuOY/UrgehetR6D8AAAAAAADoP5mZmZmZmek/pHA9Ctej6D+4HoXrUbjmP/UoXI/C9eg/AAAAAAAA6D8K16NwPQrnP6RwPQrXo+g/pHA9Ctej6D8K16NwPQrnP5mZmZmZmek/rkfhehSu5z9cj8L1KFznP1yPwvUoXOc/XI/C9Shc5z9cj8L1KFznP65H4XoUruc/ZmZmZmZm5j9mZmZmZmbmP2ZmZmZmZuY/9Shcj8L16D/1KFyPwvXoP/UoXI/C9eg/9Shcj8L16D/1KFyPwvXoP0fhehSuR+k/R+F6FK5H6T9H4XoUrkfpP1K4HoXrUeg/UrgehetR6D+kcD0K16PoP1K4HoXrUeg/UrgehetR6D+kcD0K16PoP6RwPQrXo+g/pHA9Ctej6D+kcD0K16PoP6RwPQrXo+g/mZmZmZmZ6T+ZmZmZmZnpPwAAAAAAAOg/AAAAAAAA6D8AAAAAAADoPwAAAAAAAOg/AAAAAAAA6D9H4XoUrkfpP0fhehSuR+k/R+F6FK5H6T+4HoXrUbjmP0fhehSuR+k/uB6F61G45j+4HoXrUbjmP7gehetRuOY/9Shcj8L16D/1KFyPwvXoP/UoXI/C9eg/CtejcD0K5z+uR+F6FK7nPwrXo3A9Cuc/CtejcD0K5z8K16NwPQrnPwrXo3A9Cuc/CtejcD0K5z/1KFyPwvXoP/UoXI/C9eg/9Shcj8L16D/1KFyPwvXoP/UoXI/C9eg/9Shcj8L16D+kcD0K16PoP6RwPQrXo+g/pHA9Ctej6D+kcD0K16PoP6RwPQrXo+g/pHA9Ctej6D9SuB6F61HoP1K4HoXrUeg/UrgehetR6D9SuB6F61HoP2ZmZmZmZuY/ZmZmZmZm5j9mZmZmZmbmP2ZmZmZmZuY/ZmZmZmZm5j/1KFyPwvXoP0fhehSuR+k/R+F6FK5H6T+4HoXrUbjmP7gehetRuOY/uB6F61G45j+4HoXrUbjmP7gehetRuOY/uB6F61G45j+4HoXrUbjmP7gehetRuOY/uB6F61G45j+4HoXrUbjmP7gehetRuOY/16NwPQrX6z+QwvUoXI/qP4XrUbgeheM/4noUrkfh6j/C9Shcj8LtPxSuR+F6FO4/NDMzMzMz6z+F61G4HoXjPzMzMzMzM+M/9ihcj8L14D9xPQrXo3DlPwrXo3A9Cuc/16NwPQrX4z8AAAAAAADoP65H4XoUruc/CtejcD0K5z8AAAAAAADoP1K4HoXrUeg/rkfhehSu5z8AAAAAAADoPwrXo3A9Cuc/FK5H4XoU5j9I4XoUrkfpP5qZmZmZmek/mpmZmZmZ6T/C9Shcj8LlP0jhehSuR+k/H4XrUbge5T8fhetRuB7lP3E9CtejcOU/zczMzMzM5D8fhetRuB7lP65H4XoUru8/KVyPwvUo7D/NzMzMzMzsP5qZmZmZmeE/SOF6FK5H4T+amZmZmZnhP83MzMzMzOw/exSuR+F67D+4HoXrUbjmPylcj8L1KOw/16NwPQrX6z8+CtejcD3qP4XrUbgehes/16NwPQrX6z+QwvUoXI/qP7gehetRuO4/ZmZmZmZm7j8UrkfhehTuP2ZmZmZmZu4/SOF6FK5H6T/C9Shcj8LlPx6F61G4Hu0/uB6F61G45j9I4XoUrkfpP+F6FK5H4eo/MzMzMzMz4z8UrkfhehTmPylcj8L1KOw/zMzMzMzM7D/hehSuR+HqP9ejcD0K1+M/wvUoXI/C5T8K16NwPQrnP1yPwvUoXOc/AAAAAAAA6D8AAAAAAADoPwAAAAAAAOg/9ihcj8L16D9SuB6F61HoP0jhehSuR+k/mpmZmZmZ6T8pXI/C9SjkPylcj8L1KOQ/PQrXo3A96j+PwvUoXI/qP3sUrkfheuQ/PQrXo3A96j+4HoXrUbjmP7gehetRuOY/ZmZmZmZm5j8UrkfhehTmP2ZmZmZmZuY/CtejcD0K7z9cj8L1KFznP65H4XoUruc/XI/C9Shc7z9cj8L1KFznP1yPwvUoXOc/zczMzMzM5D9wPQrXo3DlP3A9CtejcOU/HoXrUbge5T8ehetRuB7lP6RwPQrXo+g/pHA9Ctej6D+kcD0K16PoP/YoXI/C9eg/pHA9Ctej6D8AAAAAAAD4fwAAAAAAAPh/AAAAAAAA+H8AAAAAAAD4fwAAAAAAAPh/AAAAAAAA+H8AAAAAAAD4fwAAAAAAAPh/AAAAAAAA+H8AAAAAAAD4fwAAAAAAAPh/AAAAAAAA+H8AAAAAAAD4fwAAAAAAAPh/AAAAAAAA+H8AAAAAAAD4fwAAAAAAAPh/AAAAAAAA+H8AAAAAAAD4fwAAAAAAAPh/AAAAAAAA+H8AAAAAAAD4fwAAAAAAAPh/AAAAAAAA+H8AAAAAAAD4fwAAAAAAAPh/AAAAAAAA+H8AAAAAAAD4fwAAAAAAAPh/AAAAAAAA+H8AAAAAAAD4fwAAAAAAAPh/AAAAAAAA+H8AAAAAAAD4fwAAAAAAAPh/AAAAAAAA+H8AAAAAAAD4fwAAAAAAAPh/AAAAAAAA+H8AAAAAAAD4fwAAAAAAAPh/AAAAAAAA+H8AAAAAAAD4fwAAAAAAAPh/AAAAAAAA+H8AAAAAAAD4fwAAAAAAAPh/AAAAAAAA+H8AAAAAAAD4fwAAAAAAAPh/AAAAAAAA+H8AAAAAAAD4fwAAAAAAAPh/AAAAAAAA+H8AAAAAAAD4fwAAAAAAAPh/AAAAAAAA+H8AAAAAAAD4fwAAAAAAAPh/AAAAAAAA+H8AAAAAAAD4fwAAAAAAAPh/AAAAAAAA+H8AAAAAAAD4fwAAAAAAAPh/AAAAAAAA+H8AAAAAAAD4fwAAAAAAAPh/AAAAAAAA+H8AAAAAAAD4fwAAAAAAAPh/AAAAAAAA+H8AAAAAAAD4fwAAAAAAAPh/AAAAAAAA+H8AAAAAAAD4fwAAAAAAAPh/AAAAAAAA+H8AAAAAAAD4fwAAAAAAAPh/AAAAAAAA+H8AAAAAAAD4fwAAAAAAAPh/AAAAAAAA+H8AAAAAAAD4fwAAAAAAAPh/AAAAAAAA+H8AAAAAAAD4fwAAAAAAAPh/AAAAAAAA+H8AAAAAAAD4fwAAAAAAAPh/AAAAAAAA+H8AAAAAAAD4fwAAAAAAAPh/AAAAAAAA+H8AAAAAAAD4fwAAAAAAAPh/AAAAAAAA+H8AAAAAAAD4fw==",
          "dtype": "f8"
         },
         "xaxis": "x7",
         "y": {
          "bdata": "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",
          "dtype": "f8"
         },
         "yaxis": "y7"
        },
        {
         "marker": {
          "color": "#002D72",
          "opacity": 0.7
         },
         "mode": "markers",
         "type": "scatter",
         "x": {
          "bdata": "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",
          "dtype": "f8"
         },
         "xaxis": "x8",
         "y": {
          "bdata": "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",
          "dtype": "f8"
         },
         "yaxis": "y8"
        },
        {
         "marker": {
          "color": "#002D72",
          "opacity": 0.7
         },
         "mode": "markers",
         "type": "scatter",
         "x": {
          "bdata": "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",
          "dtype": "f8"
         },
         "xaxis": "x9",
         "y": {
          "bdata": "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",
          "dtype": "f8"
         },
         "yaxis": "y9"
        },
        {
         "marker": {
          "color": "#002D72",
          "opacity": 0.7
         },
         "mode": "markers",
         "type": "scatter",
         "x": {
          "bdata": "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",
          "dtype": "f8"
         },
         "xaxis": "x10",
         "y": {
          "bdata": "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",
          "dtype": "f8"
         },
         "yaxis": "y10"
        },
        {
         "marker": {
          "color": "#002D72",
          "opacity": 0.7
         },
         "mode": "markers",
         "type": "scatter",
         "x": {
          "bdata": "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",
          "dtype": "f8"
         },
         "xaxis": "x11",
         "y": {
          "bdata": "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",
          "dtype": "f8"
         },
         "yaxis": "y11"
        },
        {
         "marker": {
          "color": "#002D72",
          "opacity": 0.7
         },
         "mode": "markers",
         "type": "scatter",
         "x": {
          "bdata": "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",
          "dtype": "f8"
         },
         "xaxis": "x12",
         "y": {
          "bdata": "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",
          "dtype": "f8"
         },
         "yaxis": "y12"
        },
        {
         "marker": {
          "color": "#002D72",
          "opacity": 0.7
         },
         "mode": "markers",
         "type": "scatter",
         "x": {
          "bdata": "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",
          "dtype": "f8"
         },
         "xaxis": "x13",
         "y": {
          "bdata": "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",
          "dtype": "f8"
         },
         "yaxis": "y13"
        }
       ],
       "layout": {
        "annotations": [
         {
          "font": {
           "size": 16
          },
          "showarrow": false,
          "text": "rdc_batch_size",
          "x": 0.14444444444444446,
          "xanchor": "center",
          "xref": "paper",
          "y": 1,
          "yanchor": "bottom",
          "yref": "paper"
         },
         {
          "font": {
           "size": 16
          },
          "showarrow": false,
          "text": "rdc_epsilon_decay",
          "x": 0.5,
          "xanchor": "center",
          "xref": "paper",
          "y": 1,
          "yanchor": "bottom",
          "yref": "paper"
         },
         {
          "font": {
           "size": 16
          },
          "showarrow": false,
          "text": "rdc_epsilon_end",
          "x": 0.8555555555555556,
          "xanchor": "center",
          "xref": "paper",
          "y": 1,
          "yanchor": "bottom",
          "yref": "paper"
         },
         {
          "font": {
           "size": 16
          },
          "showarrow": false,
          "text": "rdc_gamma",
          "x": 0.14444444444444446,
          "xanchor": "center",
          "xref": "paper",
          "y": 0.7949999999999999,
          "yanchor": "bottom",
          "yref": "paper"
         },
         {
          "font": {
           "size": 16
          },
          "showarrow": false,
          "text": "rdc_hidden_dim",
          "x": 0.5,
          "xanchor": "center",
          "xref": "paper",
          "y": 0.7949999999999999,
          "yanchor": "bottom",
          "yref": "paper"
         },
         {
          "font": {
           "size": 16
          },
          "showarrow": false,
          "text": "rdc_lr",
          "x": 0.8555555555555556,
          "xanchor": "center",
          "xref": "paper",
          "y": 0.7949999999999999,
          "yanchor": "bottom",
          "yref": "paper"
         },
         {
          "font": {
           "size": 16
          },
          "showarrow": false,
          "text": "rdc_lr_gamma",
          "x": 0.14444444444444446,
          "xanchor": "center",
          "xref": "paper",
          "y": 0.59,
          "yanchor": "bottom",
          "yref": "paper"
         },
         {
          "font": {
           "size": 16
          },
          "showarrow": false,
          "text": "rdc_lr_step_size",
          "x": 0.5,
          "xanchor": "center",
          "xref": "paper",
          "y": 0.59,
          "yanchor": "bottom",
          "yref": "paper"
         },
         {
          "font": {
           "size": 16
          },
          "showarrow": false,
          "text": "rdc_replay_buffer_alpha",
          "x": 0.8555555555555556,
          "xanchor": "center",
          "xref": "paper",
          "y": 0.59,
          "yanchor": "bottom",
          "yref": "paper"
         },
         {
          "font": {
           "size": 16
          },
          "showarrow": false,
          "text": "rdc_replay_buffer_beta_frames",
          "x": 0.14444444444444446,
          "xanchor": "center",
          "xref": "paper",
          "y": 0.385,
          "yanchor": "bottom",
          "yref": "paper"
         },
         {
          "font": {
           "size": 16
          },
          "showarrow": false,
          "text": "rdc_replay_buffer_beta_start",
          "x": 0.5,
          "xanchor": "center",
          "xref": "paper",
          "y": 0.385,
          "yanchor": "bottom",
          "yref": "paper"
         },
         {
          "font": {
           "size": 16
          },
          "showarrow": false,
          "text": "rdc_replay_buffer_capacity",
          "x": 0.8555555555555556,
          "xanchor": "center",
          "xref": "paper",
          "y": 0.385,
          "yanchor": "bottom",
          "yref": "paper"
         },
         {
          "font": {
           "size": 16
          },
          "showarrow": false,
          "text": "rdc_tau",
          "x": 0.14444444444444446,
          "xanchor": "center",
          "xref": "paper",
          "y": 0.18,
          "yanchor": "bottom",
          "yref": "paper"
         }
        ],
        "height": 2000,
        "margin": {
         "b": 30,
         "l": 60,
         "r": 30,
         "t": 30
        },
        "showlegend": false,
        "template": {
         "layout": {
          "colorway": [
           "#002D72",
           "#E2001A",
           "#5A5A5A",
           "#2C74B3",
           "#A1C9F4"
          ],
          "font": {
           "color": "#002D72",
           "family": "Arial, sans-serif",
           "size": 14
          },
          "paper_bgcolor": "white",
          "plot_bgcolor": "white",
          "title": {
           "font": {
            "color": "#002D72",
            "size": 20
           }
          },
          "xaxis": {
           "gridcolor": "#D1D1D1",
           "linecolor": "#002D72",
           "zerolinecolor": "#D1D1D1"
          },
          "yaxis": {
           "gridcolor": "#D1D1D1",
           "linecolor": "#002D72",
           "zerolinecolor": "#D1D1D1"
          }
         }
        },
        "width": 1350,
        "xaxis": {
         "anchor": "y",
         "domain": [
          0,
          0.2888888888888889
         ]
        },
        "xaxis10": {
         "anchor": "y10",
         "domain": [
          0,
          0.2888888888888889
         ]
        },
        "xaxis11": {
         "anchor": "y11",
         "domain": [
          0.35555555555555557,
          0.6444444444444445
         ]
        },
        "xaxis12": {
         "anchor": "y12",
         "domain": [
          0.7111111111111111,
          1
         ]
        },
        "xaxis13": {
         "anchor": "y13",
         "domain": [
          0,
          0.2888888888888889
         ]
        },
        "xaxis14": {
         "anchor": "y14",
         "domain": [
          0.35555555555555557,
          0.6444444444444445
         ]
        },
        "xaxis15": {
         "anchor": "y15",
         "domain": [
          0.7111111111111111,
          1
         ]
        },
        "xaxis2": {
         "anchor": "y2",
         "domain": [
          0.35555555555555557,
          0.6444444444444445
         ]
        },
        "xaxis3": {
         "anchor": "y3",
         "domain": [
          0.7111111111111111,
          1
         ]
        },
        "xaxis4": {
         "anchor": "y4",
         "domain": [
          0,
          0.2888888888888889
         ]
        },
        "xaxis5": {
         "anchor": "y5",
         "domain": [
          0.35555555555555557,
          0.6444444444444445
         ]
        },
        "xaxis6": {
         "anchor": "y6",
         "domain": [
          0.7111111111111111,
          1
         ],
         "nticks": 3,
         "tickformat": ".0e",
         "type": "log"
        },
        "xaxis7": {
         "anchor": "y7",
         "domain": [
          0,
          0.2888888888888889
         ],
         "nticks": 3,
         "tickformat": ".0e",
         "type": "log"
        },
        "xaxis8": {
         "anchor": "y8",
         "domain": [
          0.35555555555555557,
          0.6444444444444445
         ],
         "nticks": 3,
         "tickformat": ".0e",
         "type": "log"
        },
        "xaxis9": {
         "anchor": "y9",
         "domain": [
          0.7111111111111111,
          1
         ]
        },
        "yaxis": {
         "anchor": "x",
         "domain": [
          0.82,
          1
         ],
         "title": {
          "text": "Objective Value"
         }
        },
        "yaxis10": {
         "anchor": "x10",
         "domain": [
          0.205,
          0.385
         ],
         "title": {
          "text": "Objective Value"
         }
        },
        "yaxis11": {
         "anchor": "x11",
         "domain": [
          0.205,
          0.385
         ]
        },
        "yaxis12": {
         "anchor": "x12",
         "domain": [
          0.205,
          0.385
         ]
        },
        "yaxis13": {
         "anchor": "x13",
         "domain": [
          0,
          0.18
         ],
         "title": {
          "text": "Objective Value"
         }
        },
        "yaxis14": {
         "anchor": "x14",
         "domain": [
          0,
          0.18
         ]
        },
        "yaxis15": {
         "anchor": "x15",
         "domain": [
          0,
          0.18
         ]
        },
        "yaxis2": {
         "anchor": "x2",
         "domain": [
          0.82,
          1
         ]
        },
        "yaxis3": {
         "anchor": "x3",
         "domain": [
          0.82,
          1
         ]
        },
        "yaxis4": {
         "anchor": "x4",
         "domain": [
          0.615,
          0.7949999999999999
         ],
         "title": {
          "text": "Objective Value"
         }
        },
        "yaxis5": {
         "anchor": "x5",
         "domain": [
          0.615,
          0.7949999999999999
         ]
        },
        "yaxis6": {
         "anchor": "x6",
         "domain": [
          0.615,
          0.7949999999999999
         ]
        },
        "yaxis7": {
         "anchor": "x7",
         "domain": [
          0.41,
          0.59
         ],
         "title": {
          "text": "Objective Value"
         }
        },
        "yaxis8": {
         "anchor": "x8",
         "domain": [
          0.41,
          0.59
         ]
        },
        "yaxis9": {
         "anchor": "x9",
         "domain": [
          0.41,
          0.59
         ]
        }
       }
      }
     },
     "metadata": {},
     "output_type": "display_data"
    }
   ],
   "source": [
    "rdc_fig_slice_full = create_grid_slice_plot(\n",
    "    study=rdc_aggregated_study, top_params=rdc_full_params, vertical_spacing=0.025\n",
    ")\n",
    "rdc_fig_slice_full.show()"
   ]
  },
  {
   "cell_type": "code",
   "execution_count": null,
   "metadata": {},
   "outputs": [
    {
     "data": {
      "application/vnd.plotly.v1+json": {
       "config": {
        "plotlyServerURL": "https://plot.ly"
       },
       "data": [
        {
         "marker": {
          "color": "#002D72",
          "opacity": 0.7
         },
         "mode": "markers",
         "type": "scatter",
         "x": {
          "bdata": "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",
          "dtype": "f8"
         },
         "xaxis": "x",
         "y": {
          "bdata": "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",
          "dtype": "f8"
         },
         "yaxis": "y"
        },
        {
         "marker": {
          "color": "#002D72",
          "opacity": 0.7
         },
         "mode": "markers",
         "type": "scatter",
         "x": {
          "bdata": "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",
          "dtype": "f8"
         },
         "xaxis": "x2",
         "y": {
          "bdata": "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",
          "dtype": "f8"
         },
         "yaxis": "y2"
        },
        {
         "marker": {
          "color": "#002D72",
          "opacity": 0.7
         },
         "mode": "markers",
         "type": "scatter",
         "x": {
          "bdata": "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",
          "dtype": "f8"
         },
         "xaxis": "x3",
         "y": {
          "bdata": "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",
          "dtype": "f8"
         },
         "yaxis": "y3"
        },
        {
         "marker": {
          "color": "#002D72",
          "opacity": 0.7
         },
         "mode": "markers",
         "type": "scatter",
         "x": {
          "bdata": "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",
          "dtype": "f8"
         },
         "xaxis": "x4",
         "y": {
          "bdata": "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",
          "dtype": "f8"
         },
         "yaxis": "y4"
        }
       ],
       "layout": {
        "annotations": [
         {
          "font": {
           "size": 16
          },
          "showarrow": false,
          "text": "rdc_gamma",
          "x": 0.225,
          "xanchor": "center",
          "xref": "paper",
          "y": 1,
          "yanchor": "bottom",
          "yref": "paper"
         },
         {
          "font": {
           "size": 16
          },
          "showarrow": false,
          "text": "rdc_tau",
          "x": 0.775,
          "xanchor": "center",
          "xref": "paper",
          "y": 1,
          "yanchor": "bottom",
          "yref": "paper"
         },
         {
          "font": {
           "size": 16
          },
          "showarrow": false,
          "text": "rdc_epsilon_decay",
          "x": 0.225,
          "xanchor": "center",
          "xref": "paper",
          "y": 0.45,
          "yanchor": "bottom",
          "yref": "paper"
         },
         {
          "font": {
           "size": 16
          },
          "showarrow": false,
          "text": "rdc_batch_size",
          "x": 0.775,
          "xanchor": "center",
          "xref": "paper",
          "y": 0.45,
          "yanchor": "bottom",
          "yref": "paper"
         }
        ],
        "height": 800,
        "margin": {
         "b": 30,
         "l": 60,
         "r": 30,
         "t": 30
        },
        "showlegend": false,
        "template": {
         "layout": {
          "colorway": [
           "#002D72",
           "#E2001A",
           "#5A5A5A",
           "#2C74B3",
           "#A1C9F4"
          ],
          "font": {
           "color": "#002D72",
           "family": "Arial, sans-serif",
           "size": 14
          },
          "paper_bgcolor": "white",
          "plot_bgcolor": "white",
          "title": {
           "font": {
            "color": "#002D72",
            "size": 20
           }
          },
          "xaxis": {
           "gridcolor": "#D1D1D1",
           "linecolor": "#002D72",
           "zerolinecolor": "#D1D1D1"
          },
          "yaxis": {
           "gridcolor": "#D1D1D1",
           "linecolor": "#002D72",
           "zerolinecolor": "#D1D1D1"
          }
         }
        },
        "width": 900,
        "xaxis": {
         "anchor": "y",
         "domain": [
          0,
          0.45
         ]
        },
        "xaxis2": {
         "anchor": "y2",
         "domain": [
          0.55,
          1
         ]
        },
        "xaxis3": {
         "anchor": "y3",
         "domain": [
          0,
          0.45
         ]
        },
        "xaxis4": {
         "anchor": "y4",
         "domain": [
          0.55,
          1
         ]
        },
        "yaxis": {
         "anchor": "x",
         "domain": [
          0.55,
          1
         ],
         "title": {
          "text": "Objective Value"
         }
        },
        "yaxis2": {
         "anchor": "x2",
         "domain": [
          0.55,
          1
         ]
        },
        "yaxis3": {
         "anchor": "x3",
         "domain": [
          0,
          0.45
         ],
         "title": {
          "text": "Objective Value"
         }
        },
        "yaxis4": {
         "anchor": "x4",
         "domain": [
          0,
          0.45
         ]
        }
       }
      }
     },
     "metadata": {},
     "output_type": "display_data"
    }
   ],
   "source": [
    "rdc_top_params = [\"rdc_gamma\", \"rdc_tau\", \"rdc_epsilon_decay\", \"rdc_batch_size\"]\n",
    "\n",
    "rdc_fig_slice_focused = create_grid_slice_plot(\n",
    "    study=rdc_aggregated_study, top_params=rdc_top_params\n",
    ")\n",
    "rdc_fig_slice_focused.show()"
   ]
  },
  {
   "cell_type": "markdown",
   "metadata": {},
   "source": [
    "## 2. UIC Analysis"
   ]
  },
  {
   "cell_type": "code",
   "execution_count": 17,
   "metadata": {},
   "outputs": [],
   "source": [
    "import re\n",
    "from datetime import datetime\n",
    "\n",
    "\n",
    "def extract_timestamp(filename):\n",
    "    match = re.search(r\"(\\d{8}-\\d{6})\", filename)\n",
    "    if match:\n",
    "        timestamp_str = match.group(1)\n",
    "        return datetime.strptime(timestamp_str, \"%Y%m%d-%H%M%S\")\n",
    "    return datetime.min"
   ]
  },
  {
   "cell_type": "code",
   "execution_count": 21,
   "metadata": {},
   "outputs": [],
   "source": [
    "uic_dfs_dict = load_all_dataframes(prefix=UIC_PREFIX)\n",
    "uic_dfs_dict = dict(\n",
    "    sorted(\n",
    "        uic_dfs_dict.items(), key=lambda item: extract_timestamp(item[0]), reverse=True\n",
    "    )\n",
    ")"
   ]
  },
  {
   "cell_type": "markdown",
   "metadata": {},
   "source": [
    "### Individual Importance Plots (Per File)"
   ]
  },
  {
   "cell_type": "code",
   "execution_count": null,
   "metadata": {},
   "outputs": [
    {
     "name": "stderr",
     "output_type": "stream",
     "text": [
      "[I 2025-08-07 08:58:18,196] A new study created in memory with name: uic_ho_architecture_20250802-114625\n"
     ]
    },
    {
     "data": {
      "application/vnd.plotly.v1+json": {
       "config": {
        "plotlyServerURL": "https://plot.ly"
       },
       "data": [
        {
         "cliponaxis": false,
         "hovertemplate": [
          "activation (CategoricalDistribution): 0.2339027795956485<extra></extra>",
          "n_layers (CategoricalDistribution): 0.3787422076434562<extra></extra>",
          "hidden_size (CategoricalDistribution): 0.3873550127608954<extra></extra>"
         ],
         "name": "Objective Value",
         "orientation": "h",
         "text": [
          "0.23",
          "0.38",
          "0.39"
         ],
         "textposition": "outside",
         "type": "bar",
         "x": [
          0.2339027795956485,
          0.3787422076434562,
          0.3873550127608954
         ],
         "y": [
          "activation",
          "n_layers",
          "hidden_size"
         ]
        }
       ],
       "layout": {
        "height": 500,
        "template": {
         "layout": {
          "colorway": [
           "#002D72",
           "#E2001A",
           "#5A5A5A",
           "#2C74B3",
           "#A1C9F4"
          ],
          "font": {
           "color": "#002D72",
           "family": "Arial, sans-serif",
           "size": 14
          },
          "paper_bgcolor": "white",
          "plot_bgcolor": "white",
          "title": {
           "font": {
            "color": "#002D72",
            "size": 20
           }
          },
          "xaxis": {
           "gridcolor": "#D1D1D1",
           "linecolor": "#002D72",
           "zerolinecolor": "#D1D1D1"
          },
          "yaxis": {
           "gridcolor": "#D1D1D1",
           "linecolor": "#002D72",
           "zerolinecolor": "#D1D1D1"
          }
         }
        },
        "title": {
         "text": "Importance for: uic_ho_architecture_20250802-114625"
        },
        "width": 800,
        "xaxis": {
         "title": {
          "text": "Hyperparameter Importance"
         }
        },
        "yaxis": {
         "title": {
          "text": "Hyperparameter"
         }
        }
       }
      }
     },
     "metadata": {},
     "output_type": "display_data"
    },
    {
     "name": "stderr",
     "output_type": "stream",
     "text": [
      "[I 2025-08-07 08:58:18,562] A new study created in memory with name: uic_ho_architecture_20250803-202539\n"
     ]
    },
    {
     "data": {
      "application/vnd.plotly.v1+json": {
       "config": {
        "plotlyServerURL": "https://plot.ly"
       },
       "data": [
        {
         "cliponaxis": false,
         "hovertemplate": [
          "hidden_size (CategoricalDistribution): 0.2228963429172378<extra></extra>",
          "n_layers (CategoricalDistribution): 0.3526091486687987<extra></extra>",
          "activation (CategoricalDistribution): 0.4244945084139635<extra></extra>"
         ],
         "name": "Objective Value",
         "orientation": "h",
         "text": [
          "0.22",
          "0.35",
          "0.42"
         ],
         "textposition": "outside",
         "type": "bar",
         "x": [
          0.2228963429172378,
          0.3526091486687987,
          0.4244945084139635
         ],
         "y": [
          "hidden_size",
          "n_layers",
          "activation"
         ]
        }
       ],
       "layout": {
        "height": 500,
        "template": {
         "layout": {
          "colorway": [
           "#002D72",
           "#E2001A",
           "#5A5A5A",
           "#2C74B3",
           "#A1C9F4"
          ],
          "font": {
           "color": "#002D72",
           "family": "Arial, sans-serif",
           "size": 14
          },
          "paper_bgcolor": "white",
          "plot_bgcolor": "white",
          "title": {
           "font": {
            "color": "#002D72",
            "size": 20
           }
          },
          "xaxis": {
           "gridcolor": "#D1D1D1",
           "linecolor": "#002D72",
           "zerolinecolor": "#D1D1D1"
          },
          "yaxis": {
           "gridcolor": "#D1D1D1",
           "linecolor": "#002D72",
           "zerolinecolor": "#D1D1D1"
          }
         }
        },
        "title": {
         "text": "Importance for: uic_ho_architecture_20250803-202539"
        },
        "width": 800,
        "xaxis": {
         "title": {
          "text": "Hyperparameter Importance"
         }
        },
        "yaxis": {
         "title": {
          "text": "Hyperparameter"
         }
        }
       }
      }
     },
     "metadata": {},
     "output_type": "display_data"
    },
    {
     "name": "stderr",
     "output_type": "stream",
     "text": [
      "[I 2025-08-07 08:58:18,792] A new study created in memory with name: uic_ho_final_joint_20250804-183544\n"
     ]
    },
    {
     "data": {
      "application/vnd.plotly.v1+json": {
       "config": {
        "plotlyServerURL": "https://plot.ly"
       },
       "data": [
        {
         "cliponaxis": false,
         "hovertemplate": [
          "use_target_kl (FloatDistribution): 0.0<extra></extra>",
          "hidden_size (CategoricalDistribution): 0.003630452394832332<extra></extra>",
          "batch_size (CategoricalDistribution): 0.010306014250856838<extra></extra>",
          "gae_lambda (FloatDistribution): 0.029049470778236372<extra></extra>",
          "clip_range (FloatDistribution): 0.04155534307533516<extra></extra>",
          "activation (CategoricalDistribution): 0.0595237531462315<extra></extra>",
          "vf_coef (FloatDistribution): 0.10810462287020152<extra></extra>",
          "gamma (FloatDistribution): 0.11758734895203665<extra></extra>",
          "learning_rate (FloatDistribution): 0.12577549055993043<extra></extra>",
          "ent_coef (FloatDistribution): 0.15912783041194725<extra></extra>",
          "n_steps (CategoricalDistribution): 0.3453396735603918<extra></extra>"
         ],
         "name": "Objective Value",
         "orientation": "h",
         "text": [
          "<0.01",
          "<0.01",
          "0.01",
          "0.03",
          "0.04",
          "0.06",
          "0.11",
          "0.12",
          "0.13",
          "0.16",
          "0.35"
         ],
         "textposition": "outside",
         "type": "bar",
         "x": [
          0,
          0.003630452394832332,
          0.010306014250856838,
          0.029049470778236372,
          0.04155534307533516,
          0.0595237531462315,
          0.10810462287020152,
          0.11758734895203665,
          0.12577549055993043,
          0.15912783041194725,
          0.3453396735603918
         ],
         "y": [
          "use_target_kl",
          "hidden_size",
          "batch_size",
          "gae_lambda",
          "clip_range",
          "activation",
          "vf_coef",
          "gamma",
          "learning_rate",
          "ent_coef",
          "n_steps"
         ]
        }
       ],
       "layout": {
        "height": 500,
        "template": {
         "layout": {
          "colorway": [
           "#002D72",
           "#E2001A",
           "#5A5A5A",
           "#2C74B3",
           "#A1C9F4"
          ],
          "font": {
           "color": "#002D72",
           "family": "Arial, sans-serif",
           "size": 14
          },
          "paper_bgcolor": "white",
          "plot_bgcolor": "white",
          "title": {
           "font": {
            "color": "#002D72",
            "size": 20
           }
          },
          "xaxis": {
           "gridcolor": "#D1D1D1",
           "linecolor": "#002D72",
           "zerolinecolor": "#D1D1D1"
          },
          "yaxis": {
           "gridcolor": "#D1D1D1",
           "linecolor": "#002D72",
           "zerolinecolor": "#D1D1D1"
          }
         }
        },
        "title": {
         "text": "Importance for: uic_ho_final_joint_20250804-183544"
        },
        "width": 800,
        "xaxis": {
         "title": {
          "text": "Hyperparameter Importance"
         }
        },
        "yaxis": {
         "title": {
          "text": "Hyperparameter"
         }
        }
       }
      }
     },
     "metadata": {},
     "output_type": "display_data"
    },
    {
     "name": "stderr",
     "output_type": "stream",
     "text": [
      "[I 2025-08-07 08:58:19,997] A new study created in memory with name: uic_ho_ppo-core_20250802-114428\n"
     ]
    },
    {
     "data": {
      "application/vnd.plotly.v1+json": {
       "config": {
        "plotlyServerURL": "https://plot.ly"
       },
       "data": [
        {
         "cliponaxis": false,
         "hovertemplate": [
          "n_steps (CategoricalDistribution): 0.07117473653905043<extra></extra>",
          "clip_range (FloatDistribution): 0.11720016851587264<extra></extra>",
          "batch_size (CategoricalDistribution): 0.13480361161545257<extra></extra>",
          "vf_coef (FloatDistribution): 0.1636098438733001<extra></extra>",
          "ent_coef (FloatDistribution): 0.22781326967937895<extra></extra>",
          "learning_rate (FloatDistribution): 0.2853983697769453<extra></extra>"
         ],
         "name": "Objective Value",
         "orientation": "h",
         "text": [
          "0.07",
          "0.12",
          "0.13",
          "0.16",
          "0.23",
          "0.29"
         ],
         "textposition": "outside",
         "type": "bar",
         "x": [
          0.07117473653905043,
          0.11720016851587264,
          0.13480361161545257,
          0.1636098438733001,
          0.22781326967937895,
          0.2853983697769453
         ],
         "y": [
          "n_steps",
          "clip_range",
          "batch_size",
          "vf_coef",
          "ent_coef",
          "learning_rate"
         ]
        }
       ],
       "layout": {
        "height": 500,
        "template": {
         "layout": {
          "colorway": [
           "#002D72",
           "#E2001A",
           "#5A5A5A",
           "#2C74B3",
           "#A1C9F4"
          ],
          "font": {
           "color": "#002D72",
           "family": "Arial, sans-serif",
           "size": 14
          },
          "paper_bgcolor": "white",
          "plot_bgcolor": "white",
          "title": {
           "font": {
            "color": "#002D72",
            "size": 20
           }
          },
          "xaxis": {
           "gridcolor": "#D1D1D1",
           "linecolor": "#002D72",
           "zerolinecolor": "#D1D1D1"
          },
          "yaxis": {
           "gridcolor": "#D1D1D1",
           "linecolor": "#002D72",
           "zerolinecolor": "#D1D1D1"
          }
         }
        },
        "title": {
         "text": "Importance for: uic_ho_ppo-core_20250802-114428"
        },
        "width": 800,
        "xaxis": {
         "title": {
          "text": "Hyperparameter Importance"
         }
        },
        "yaxis": {
         "title": {
          "text": "Hyperparameter"
         }
        }
       }
      }
     },
     "metadata": {},
     "output_type": "display_data"
    },
    {
     "name": "stderr",
     "output_type": "stream",
     "text": [
      "[I 2025-08-07 08:58:20,522] A new study created in memory with name: uic_ho_ppo-core_20250803-202700\n"
     ]
    },
    {
     "data": {
      "application/vnd.plotly.v1+json": {
       "config": {
        "plotlyServerURL": "https://plot.ly"
       },
       "data": [
        {
         "cliponaxis": false,
         "hovertemplate": [
          "clip_range (FloatDistribution): 0.024709054355419185<extra></extra>",
          "vf_coef (FloatDistribution): 0.025153786584523493<extra></extra>",
          "n_steps (CategoricalDistribution): 0.05509767392071604<extra></extra>",
          "batch_size (CategoricalDistribution): 0.10511048951571798<extra></extra>",
          "learning_rate (FloatDistribution): 0.250120191615742<extra></extra>",
          "ent_coef (FloatDistribution): 0.5398088040078812<extra></extra>"
         ],
         "name": "Objective Value",
         "orientation": "h",
         "text": [
          "0.02",
          "0.03",
          "0.06",
          "0.11",
          "0.25",
          "0.54"
         ],
         "textposition": "outside",
         "type": "bar",
         "x": [
          0.024709054355419185,
          0.025153786584523493,
          0.05509767392071604,
          0.10511048951571798,
          0.250120191615742,
          0.5398088040078812
         ],
         "y": [
          "clip_range",
          "vf_coef",
          "n_steps",
          "batch_size",
          "learning_rate",
          "ent_coef"
         ]
        }
       ],
       "layout": {
        "height": 500,
        "template": {
         "layout": {
          "colorway": [
           "#002D72",
           "#E2001A",
           "#5A5A5A",
           "#2C74B3",
           "#A1C9F4"
          ],
          "font": {
           "color": "#002D72",
           "family": "Arial, sans-serif",
           "size": 14
          },
          "paper_bgcolor": "white",
          "plot_bgcolor": "white",
          "title": {
           "font": {
            "color": "#002D72",
            "size": 20
           }
          },
          "xaxis": {
           "gridcolor": "#D1D1D1",
           "linecolor": "#002D72",
           "zerolinecolor": "#D1D1D1"
          },
          "yaxis": {
           "gridcolor": "#D1D1D1",
           "linecolor": "#002D72",
           "zerolinecolor": "#D1D1D1"
          }
         }
        },
        "title": {
         "text": "Importance for: uic_ho_ppo-core_20250803-202700"
        },
        "width": 800,
        "xaxis": {
         "title": {
          "text": "Hyperparameter Importance"
         }
        },
        "yaxis": {
         "title": {
          "text": "Hyperparameter"
         }
        }
       }
      }
     },
     "metadata": {},
     "output_type": "display_data"
    },
    {
     "name": "stderr",
     "output_type": "stream",
     "text": [
      "[I 2025-08-07 08:58:21,011] A new study created in memory with name: uic_ho_stability_20250802-114603\n"
     ]
    },
    {
     "data": {
      "application/vnd.plotly.v1+json": {
       "config": {
        "plotlyServerURL": "https://plot.ly"
       },
       "data": [
        {
         "cliponaxis": false,
         "hovertemplate": [
          "gae_lambda (FloatDistribution): 0.20501526395204<extra></extra>",
          "gamma (FloatDistribution): 0.79498473604796<extra></extra>"
         ],
         "name": "Objective Value",
         "orientation": "h",
         "text": [
          "0.21",
          "0.79"
         ],
         "textposition": "outside",
         "type": "bar",
         "x": [
          0.20501526395204,
          0.79498473604796
         ],
         "y": [
          "gae_lambda",
          "gamma"
         ]
        }
       ],
       "layout": {
        "height": 500,
        "template": {
         "layout": {
          "colorway": [
           "#002D72",
           "#E2001A",
           "#5A5A5A",
           "#2C74B3",
           "#A1C9F4"
          ],
          "font": {
           "color": "#002D72",
           "family": "Arial, sans-serif",
           "size": 14
          },
          "paper_bgcolor": "white",
          "plot_bgcolor": "white",
          "title": {
           "font": {
            "color": "#002D72",
            "size": 20
           }
          },
          "xaxis": {
           "gridcolor": "#D1D1D1",
           "linecolor": "#002D72",
           "zerolinecolor": "#D1D1D1"
          },
          "yaxis": {
           "gridcolor": "#D1D1D1",
           "linecolor": "#002D72",
           "zerolinecolor": "#D1D1D1"
          }
         }
        },
        "title": {
         "text": "Importance for: uic_ho_stability_20250802-114603"
        },
        "width": 800,
        "xaxis": {
         "title": {
          "text": "Hyperparameter Importance"
         }
        },
        "yaxis": {
         "title": {
          "text": "Hyperparameter"
         }
        }
       }
      }
     },
     "metadata": {},
     "output_type": "display_data"
    },
    {
     "name": "stderr",
     "output_type": "stream",
     "text": [
      "[I 2025-08-07 08:58:21,408] A new study created in memory with name: uic_ho_stability_20250803-202958\n"
     ]
    },
    {
     "data": {
      "application/vnd.plotly.v1+json": {
       "config": {
        "plotlyServerURL": "https://plot.ly"
       },
       "data": [
        {
         "cliponaxis": false,
         "hovertemplate": [
          "use_target_kl (FloatDistribution): 0.04997724417475513<extra></extra>",
          "gae_lambda (FloatDistribution): 0.10595407203166413<extra></extra>",
          "gamma (FloatDistribution): 0.8440686837935806<extra></extra>"
         ],
         "name": "Objective Value",
         "orientation": "h",
         "text": [
          "0.05",
          "0.11",
          "0.84"
         ],
         "textposition": "outside",
         "type": "bar",
         "x": [
          0.04997724417475513,
          0.10595407203166413,
          0.8440686837935806
         ],
         "y": [
          "use_target_kl",
          "gae_lambda",
          "gamma"
         ]
        }
       ],
       "layout": {
        "height": 500,
        "template": {
         "layout": {
          "colorway": [
           "#002D72",
           "#E2001A",
           "#5A5A5A",
           "#2C74B3",
           "#A1C9F4"
          ],
          "font": {
           "color": "#002D72",
           "family": "Arial, sans-serif",
           "size": 14
          },
          "paper_bgcolor": "white",
          "plot_bgcolor": "white",
          "title": {
           "font": {
            "color": "#002D72",
            "size": 20
           }
          },
          "xaxis": {
           "gridcolor": "#D1D1D1",
           "linecolor": "#002D72",
           "zerolinecolor": "#D1D1D1"
          },
          "yaxis": {
           "gridcolor": "#D1D1D1",
           "linecolor": "#002D72",
           "zerolinecolor": "#D1D1D1"
          }
         }
        },
        "title": {
         "text": "Importance for: uic_ho_stability_20250803-202958"
        },
        "width": 800,
        "xaxis": {
         "title": {
          "text": "Hyperparameter Importance"
         }
        },
        "yaxis": {
         "title": {
          "text": "Hyperparameter"
         }
        }
       }
      }
     },
     "metadata": {},
     "output_type": "display_data"
    }
   ],
   "source": [
    "for filename, df in uic_dfs_dict.items():\n",
    "    study_name = filename.replace(STUDY_FILE_SUFFIX, \"\")\n",
    "    temp_study = create_study_from_df(study_name, df.copy())\n",
    "\n",
    "    fig = optuna.visualization.plot_param_importances(temp_study)\n",
    "    fig.update_layout(title=f\"Importance for: {study_name}\", width=800, height=500)\n",
    "    fig.show()"
   ]
  },
  {
   "cell_type": "markdown",
   "metadata": {},
   "source": [
    "### Aggregated Analysis (All UIC Trials)"
   ]
  },
  {
   "cell_type": "code",
   "execution_count": 22,
   "metadata": {},
   "outputs": [
    {
     "name": "stderr",
     "output_type": "stream",
     "text": [
      "[I 2025-08-27 08:18:16,174] A new study created in memory with name: UIC Aggregated\n"
     ]
    }
   ],
   "source": [
    "uic_aggregated_study = create_study_from_df(\n",
    "    \"UIC Aggregated\", pd.concat(uic_dfs_dict.values(), ignore_index=True)\n",
    ")"
   ]
  },
  {
   "cell_type": "markdown",
   "metadata": {},
   "source": [
    "### Optimization History"
   ]
  },
  {
   "cell_type": "code",
   "execution_count": 23,
   "metadata": {},
   "outputs": [
    {
     "data": {
      "application/vnd.plotly.v1+json": {
       "config": {
        "plotlyServerURL": "https://plot.ly"
       },
       "data": [
        {
         "mode": "markers",
         "name": "Objective Value",
         "type": "scatter",
         "x": [
          0,
          1,
          2,
          3,
          4,
          5,
          6,
          7,
          8,
          9,
          10,
          11,
          12,
          13,
          14,
          15,
          16,
          17,
          18,
          19,
          20,
          21,
          22,
          23,
          24,
          25,
          26,
          27,
          28,
          29,
          30,
          31,
          32,
          33,
          34,
          35,
          36,
          37,
          38,
          39,
          40,
          41,
          42,
          43,
          44,
          45,
          46,
          47,
          48,
          49,
          50,
          51,
          52,
          53,
          54,
          55,
          56,
          57,
          58,
          59,
          60,
          61,
          62,
          63,
          64,
          65,
          66,
          67,
          68,
          69,
          70,
          71,
          72,
          73,
          74,
          75,
          76,
          77,
          78,
          79,
          80,
          81,
          82,
          83,
          84,
          85,
          86,
          87,
          88,
          89,
          90,
          91,
          92,
          93,
          94,
          95,
          96,
          97,
          98,
          99,
          100,
          101,
          102,
          103,
          104,
          105,
          106,
          107,
          108,
          109,
          110,
          111,
          112,
          113,
          114,
          115,
          116,
          117,
          118,
          119,
          120,
          121,
          122,
          123,
          124,
          125,
          126,
          127,
          128,
          129,
          130,
          131,
          132,
          133,
          134,
          135,
          136,
          137,
          138,
          139,
          140,
          141,
          142,
          143,
          144,
          145,
          146,
          147,
          148,
          149,
          150,
          151,
          152,
          153,
          154,
          155,
          156,
          157,
          158,
          159,
          160,
          161,
          162,
          163,
          164,
          165,
          166,
          167,
          168,
          169,
          170,
          171,
          172,
          173,
          174,
          175,
          176,
          177,
          178,
          179,
          180,
          181,
          182,
          183,
          184,
          185,
          186,
          187,
          188,
          189,
          190,
          191,
          192,
          193,
          194,
          195,
          196,
          197,
          198,
          199,
          200,
          201,
          202,
          203,
          204,
          205,
          206,
          207,
          208,
          209,
          210,
          211,
          212,
          213,
          214,
          215,
          216,
          217,
          218,
          219,
          220,
          221,
          222,
          223,
          224,
          225,
          226,
          227,
          228,
          229,
          230,
          231,
          232,
          233,
          234,
          235,
          236,
          237,
          238,
          239,
          240,
          241,
          242,
          243,
          244,
          245,
          246,
          247,
          248,
          249,
          250,
          251,
          252,
          253,
          254,
          255,
          256,
          257,
          258,
          259,
          260,
          261,
          262,
          263,
          264,
          265,
          266,
          267,
          268,
          269,
          270,
          271,
          272,
          273,
          274,
          275,
          276,
          277,
          278,
          279,
          280,
          281,
          282,
          283,
          284,
          285,
          286,
          287,
          288,
          289,
          290,
          291,
          292,
          293,
          294,
          295,
          296,
          297,
          298,
          299,
          300,
          301,
          302,
          303,
          304,
          305,
          306,
          307,
          308,
          309,
          310,
          311,
          312,
          313,
          314,
          315,
          316,
          317,
          318,
          319,
          320,
          321,
          322,
          323,
          324,
          325,
          326,
          327,
          328,
          329,
          330,
          331,
          332,
          333,
          334,
          335,
          336,
          337,
          338,
          339,
          340,
          341,
          342,
          343,
          344,
          345,
          346,
          347,
          348,
          349,
          350,
          351,
          352,
          353,
          354,
          355,
          356,
          357,
          358,
          359,
          360,
          361,
          362,
          363,
          364,
          365,
          366,
          367,
          368,
          369,
          370,
          371,
          372,
          373,
          374,
          375,
          376,
          377,
          378,
          379,
          380,
          381,
          382,
          383,
          384,
          385,
          386,
          387,
          388,
          389,
          390,
          391,
          392,
          393,
          394,
          395,
          396,
          397,
          398,
          399
         ],
         "y": [
          162.2757198,
          162.6449354,
          162.317995,
          162.758408,
          161.91438440000002,
          163.5447576,
          162.2806754,
          163.32330919999998,
          162.35025019999998,
          161.6067114,
          162.4792084,
          162.52572260000002,
          162.9516994,
          161.8639646,
          162.954076,
          162.5837586,
          162.6900902,
          163.1324532,
          162.5899742,
          162.4374524,
          162.908845,
          162.6481874,
          162.4196498,
          162.2681902,
          163.0633972,
          162.6417538,
          162.1701558,
          162.59999039999997,
          163.41763500000002,
          163.1130952,
          163.42331840000003,
          163.034415,
          161.946806,
          162.6345026,
          162.482281,
          163.5960374,
          162.9007102,
          162.80049580000002,
          162.84679739999999,
          163.42101680000002,
          163.5028376,
          162.5089226,
          162.631216,
          162.2665096,
          163.075269,
          162.8108382,
          162.73977059999999,
          162.8914234,
          163.301974,
          163.065184,
          162.34580139999997,
          163.10828959999998,
          162.38080440000002,
          162.1642334,
          163.564323,
          162.6701038,
          162.2900666,
          162.979892,
          163.2748768,
          163.0547196,
          162.69756,
          163.33200659999997,
          162.5588648,
          163.0271658,
          162.75462640000003,
          162.77913940000002,
          162.2638372,
          163.214469,
          163.2314068,
          162.4076316,
          162.968597,
          163.1113734,
          163.101824,
          162.63610139999997,
          162.73508080000002,
          162.7456596,
          162.5966156,
          162.77624939999995,
          162.9380046,
          163.1227716,
          162.8442384,
          162.01063340000002,
          162.53478060000003,
          162.0257092,
          163.6650334,
          163.1842724,
          163.644474,
          162.6573198,
          163.2748808,
          163.3786124,
          163.6051038,
          162.16436819999998,
          163.22975660000003,
          162.700246,
          162.45833480000002,
          163.2427506,
          163.040591,
          162.6786262,
          163.04002020000001,
          162.6101616,
          163.7503192,
          163.585571,
          163.69507700000003,
          163.7775378,
          163.6519194,
          163.9366244,
          164.08214759999998,
          163.7744558,
          163.46215859999998,
          163.4953264,
          163.98539499999998,
          163.86213200000003,
          164.25020220000002,
          164.1775932,
          163.6721152,
          163.6324122,
          164.1861232,
          163.4754982,
          164.0040242,
          163.5899258,
          163.4483998,
          163.708169,
          164.0885182,
          163.79024280000002,
          164.05256060000002,
          163.7003432,
          163.86654800000002,
          163.477471,
          164.1629116,
          163.9947808,
          164.0750786,
          163.5476686,
          163.9774234,
          163.5714048,
          163.70589220000002,
          163.6351564,
          163.6250646,
          163.7692308,
          163.5906354,
          163.855674,
          163.63334019999996,
          163.7937096,
          163.79266820000004,
          163.5915222,
          163.73093799999998,
          163.8880128,
          163.96153320000002,
          163.31252039999998,
          163.7217474,
          163.7548082,
          164.31655800000001,
          163.9686626,
          164.140127,
          163.85713379999999,
          163.6424174,
          163.910849,
          163.6589278,
          163.87228199999998,
          163.9265484,
          163.8933264,
          163.7359968,
          163.4862928,
          164.120266,
          164.00442779999997,
          164.3952546,
          164.0177616,
          163.4528382,
          164.15935100000002,
          163.900533,
          164.94057400000003,
          164.44173320000002,
          164.6077292,
          164.2546114,
          164.4826182,
          163.7206114,
          164.1968416,
          164.92242919999998,
          163.7109714,
          164.1848146,
          163.78730259999998,
          164.24135579999998,
          163.4040644,
          163.754383,
          164.07685399999997,
          164.0417166,
          164.3500002,
          163.7513642,
          163.990012,
          164.47802719999999,
          163.76046340000002,
          163.98548920000002,
          164.255426,
          164.0606486,
          164.26139419999998,
          163.77603800000003,
          164.7769916,
          163.93534800000003,
          163.3903982,
          163.81843039999998,
          163.9990742,
          163.6629058,
          163.5916544,
          163.60884240000001,
          163.6025012,
          163.9063484,
          164.2321886,
          163.97349979999998,
          163.70473780000003,
          163.78814119999998,
          163.6698174,
          163.28866520000003,
          163.9817966,
          164.07120600000002,
          163.60784460000002,
          163.513219,
          163.7671276,
          163.682677,
          164.2258086,
          163.8035682,
          163.99216339999998,
          163.64123039999998,
          163.78560080000003,
          163.78968460000002,
          163.9387468,
          163.5988612,
          163.66915840000001,
          163.666721,
          163.3516684,
          164.1309984,
          163.7814644,
          164.06036699999999,
          163.82766740000002,
          164.054794,
          163.60488919999997,
          163.5495586,
          163.602175,
          163.7970128,
          163.93061319999998,
          163.9303332,
          163.67671719999998,
          163.9604484,
          164.1947734,
          163.7449444,
          164.1637202,
          163.5918562,
          164.0053642,
          163.9322604,
          163.5199478,
          163.8204754,
          164.1796352,
          164.0045356,
          164.0766482,
          163.9699534,
          164.4388064,
          164.35283199999998,
          163.88093980000002,
          163.9961594,
          163.70068540000003,
          164.0223148,
          163.97212679999998,
          163.6785902,
          163.76153960000002,
          163.89327880000002,
          163.8718482,
          164.25843460000002,
          164.1193218,
          164.1087298,
          164.1524866,
          164.2436846,
          164.2402288,
          164.0698658,
          164.1139522,
          164.2187266,
          164.40286700000001,
          163.9512686,
          164.176129,
          164.1596686,
          164.1535614,
          164.613204,
          164.5428514,
          163.92459559999998,
          164.442344,
          164.0040746,
          163.87258860000003,
          163.9740306,
          163.9811856,
          164.097567,
          164.011742,
          164.23828519999998,
          164.14352960000002,
          163.8094274,
          164.3347348,
          163.77806640000003,
          163.9630072,
          163.8064868,
          164.3542938,
          163.88214820000002,
          164.0027322,
          163.853739,
          163.9775568,
          164.00450740000002,
          163.99493760000001,
          164.02997320000003,
          164.2324094,
          164.2143852,
          164.0799096,
          164.25402679999996,
          163.94297160000002,
          164.4696678,
          163.879225,
          164.55094739999998,
          164.43641080000003,
          164.2291562,
          164.5875752,
          164.15184359999998,
          164.1777082,
          164.0658772,
          163.9895344,
          164.14181639999998,
          164.256614,
          164.19957040000003,
          163.8632532,
          164.405083,
          164.18019999999999,
          163.77634060000003,
          164.15056420000002,
          164.00645559999998,
          163.95527940000002,
          164.1821642,
          164.28407700000002,
          164.2830846,
          164.5508894,
          164.294362,
          164.227782,
          164.1382976,
          164.1437578,
          164.644996,
          164.10717300000002,
          164.2112404,
          163.750885,
          164.2048462,
          163.8666458,
          164.1787258,
          164.3733816,
          164.33255880000002,
          164.0093808,
          163.92828500000002,
          163.5580308,
          164.1298834,
          164.08896,
          163.9991478,
          163.91730139999999,
          164.2971038,
          164.4568554,
          164.68120340000002,
          164.10367459999998,
          163.8675792,
          163.7887226,
          163.80552840000001,
          164.2257008,
          164.2439708,
          164.2045034,
          163.8921876,
          163.7848,
          164.719419,
          164.4082024,
          164.04360359999998,
          164.1323702,
          163.41660059999998,
          164.87742799999998,
          165.24235319999997,
          163.90503619999998,
          164.082224,
          164.54652679999998,
          163.9045702,
          164.2108584,
          164.09954980000003,
          163.70322099999998,
          164.05243079999997,
          163.94302720000002,
          164.3472882,
          163.9050624,
          164.1041052,
          163.96251,
          164.5754856,
          164.4374396,
          163.9980098,
          164.0556784,
          164.2647422,
          164.2235894,
          163.8774776,
          164.15365,
          164.0213014,
          164.4812644,
          164.24411719999998,
          164.057596,
          164.1187692,
          164.2806734,
          164.3475252,
          163.71866319999998
         ]
        },
        {
         "mode": "lines",
         "name": "Best Value",
         "type": "scatter",
         "x": [
          0,
          1,
          2,
          3,
          4,
          5,
          6,
          7,
          8,
          9,
          10,
          11,
          12,
          13,
          14,
          15,
          16,
          17,
          18,
          19,
          20,
          21,
          22,
          23,
          24,
          25,
          26,
          27,
          28,
          29,
          30,
          31,
          32,
          33,
          34,
          35,
          36,
          37,
          38,
          39,
          40,
          41,
          42,
          43,
          44,
          45,
          46,
          47,
          48,
          49,
          50,
          51,
          52,
          53,
          54,
          55,
          56,
          57,
          58,
          59,
          60,
          61,
          62,
          63,
          64,
          65,
          66,
          67,
          68,
          69,
          70,
          71,
          72,
          73,
          74,
          75,
          76,
          77,
          78,
          79,
          80,
          81,
          82,
          83,
          84,
          85,
          86,
          87,
          88,
          89,
          90,
          91,
          92,
          93,
          94,
          95,
          96,
          97,
          98,
          99,
          100,
          101,
          102,
          103,
          104,
          105,
          106,
          107,
          108,
          109,
          110,
          111,
          112,
          113,
          114,
          115,
          116,
          117,
          118,
          119,
          120,
          121,
          122,
          123,
          124,
          125,
          126,
          127,
          128,
          129,
          130,
          131,
          132,
          133,
          134,
          135,
          136,
          137,
          138,
          139,
          140,
          141,
          142,
          143,
          144,
          145,
          146,
          147,
          148,
          149,
          150,
          151,
          152,
          153,
          154,
          155,
          156,
          157,
          158,
          159,
          160,
          161,
          162,
          163,
          164,
          165,
          166,
          167,
          168,
          169,
          170,
          171,
          172,
          173,
          174,
          175,
          176,
          177,
          178,
          179,
          180,
          181,
          182,
          183,
          184,
          185,
          186,
          187,
          188,
          189,
          190,
          191,
          192,
          193,
          194,
          195,
          196,
          197,
          198,
          199,
          200,
          201,
          202,
          203,
          204,
          205,
          206,
          207,
          208,
          209,
          210,
          211,
          212,
          213,
          214,
          215,
          216,
          217,
          218,
          219,
          220,
          221,
          222,
          223,
          224,
          225,
          226,
          227,
          228,
          229,
          230,
          231,
          232,
          233,
          234,
          235,
          236,
          237,
          238,
          239,
          240,
          241,
          242,
          243,
          244,
          245,
          246,
          247,
          248,
          249,
          250,
          251,
          252,
          253,
          254,
          255,
          256,
          257,
          258,
          259,
          260,
          261,
          262,
          263,
          264,
          265,
          266,
          267,
          268,
          269,
          270,
          271,
          272,
          273,
          274,
          275,
          276,
          277,
          278,
          279,
          280,
          281,
          282,
          283,
          284,
          285,
          286,
          287,
          288,
          289,
          290,
          291,
          292,
          293,
          294,
          295,
          296,
          297,
          298,
          299,
          300,
          301,
          302,
          303,
          304,
          305,
          306,
          307,
          308,
          309,
          310,
          311,
          312,
          313,
          314,
          315,
          316,
          317,
          318,
          319,
          320,
          321,
          322,
          323,
          324,
          325,
          326,
          327,
          328,
          329,
          330,
          331,
          332,
          333,
          334,
          335,
          336,
          337,
          338,
          339,
          340,
          341,
          342,
          343,
          344,
          345,
          346,
          347,
          348,
          349,
          350,
          351,
          352,
          353,
          354,
          355,
          356,
          357,
          358,
          359,
          360,
          361,
          362,
          363,
          364,
          365,
          366,
          367,
          368,
          369,
          370,
          371,
          372,
          373,
          374,
          375,
          376,
          377,
          378,
          379,
          380,
          381,
          382,
          383,
          384,
          385,
          386,
          387,
          388,
          389,
          390,
          391,
          392,
          393,
          394,
          395,
          396,
          397,
          398,
          399
         ],
         "y": [
          162.2757198,
          162.6449354,
          162.6449354,
          162.758408,
          162.758408,
          163.5447576,
          163.5447576,
          163.5447576,
          163.5447576,
          163.5447576,
          163.5447576,
          163.5447576,
          163.5447576,
          163.5447576,
          163.5447576,
          163.5447576,
          163.5447576,
          163.5447576,
          163.5447576,
          163.5447576,
          163.5447576,
          163.5447576,
          163.5447576,
          163.5447576,
          163.5447576,
          163.5447576,
          163.5447576,
          163.5447576,
          163.5447576,
          163.5447576,
          163.5447576,
          163.5447576,
          163.5447576,
          163.5447576,
          163.5447576,
          163.5960374,
          163.5960374,
          163.5960374,
          163.5960374,
          163.5960374,
          163.5960374,
          163.5960374,
          163.5960374,
          163.5960374,
          163.5960374,
          163.5960374,
          163.5960374,
          163.5960374,
          163.5960374,
          163.5960374,
          163.5960374,
          163.5960374,
          163.5960374,
          163.5960374,
          163.5960374,
          163.5960374,
          163.5960374,
          163.5960374,
          163.5960374,
          163.5960374,
          163.5960374,
          163.5960374,
          163.5960374,
          163.5960374,
          163.5960374,
          163.5960374,
          163.5960374,
          163.5960374,
          163.5960374,
          163.5960374,
          163.5960374,
          163.5960374,
          163.5960374,
          163.5960374,
          163.5960374,
          163.5960374,
          163.5960374,
          163.5960374,
          163.5960374,
          163.5960374,
          163.5960374,
          163.5960374,
          163.5960374,
          163.5960374,
          163.6650334,
          163.6650334,
          163.6650334,
          163.6650334,
          163.6650334,
          163.6650334,
          163.6650334,
          163.6650334,
          163.6650334,
          163.6650334,
          163.6650334,
          163.6650334,
          163.6650334,
          163.6650334,
          163.6650334,
          163.6650334,
          163.7503192,
          163.7503192,
          163.7503192,
          163.7775378,
          163.7775378,
          163.9366244,
          164.08214759999998,
          164.08214759999998,
          164.08214759999998,
          164.08214759999998,
          164.08214759999998,
          164.08214759999998,
          164.25020220000002,
          164.25020220000002,
          164.25020220000002,
          164.25020220000002,
          164.25020220000002,
          164.25020220000002,
          164.25020220000002,
          164.25020220000002,
          164.25020220000002,
          164.25020220000002,
          164.25020220000002,
          164.25020220000002,
          164.25020220000002,
          164.25020220000002,
          164.25020220000002,
          164.25020220000002,
          164.25020220000002,
          164.25020220000002,
          164.25020220000002,
          164.25020220000002,
          164.25020220000002,
          164.25020220000002,
          164.25020220000002,
          164.25020220000002,
          164.25020220000002,
          164.25020220000002,
          164.25020220000002,
          164.25020220000002,
          164.25020220000002,
          164.25020220000002,
          164.25020220000002,
          164.25020220000002,
          164.25020220000002,
          164.25020220000002,
          164.25020220000002,
          164.25020220000002,
          164.25020220000002,
          164.25020220000002,
          164.31655800000001,
          164.31655800000001,
          164.31655800000001,
          164.31655800000001,
          164.31655800000001,
          164.31655800000001,
          164.31655800000001,
          164.31655800000001,
          164.31655800000001,
          164.31655800000001,
          164.31655800000001,
          164.31655800000001,
          164.31655800000001,
          164.31655800000001,
          164.3952546,
          164.3952546,
          164.3952546,
          164.3952546,
          164.3952546,
          164.94057400000003,
          164.94057400000003,
          164.94057400000003,
          164.94057400000003,
          164.94057400000003,
          164.94057400000003,
          164.94057400000003,
          164.94057400000003,
          164.94057400000003,
          164.94057400000003,
          164.94057400000003,
          164.94057400000003,
          164.94057400000003,
          164.94057400000003,
          164.94057400000003,
          164.94057400000003,
          164.94057400000003,
          164.94057400000003,
          164.94057400000003,
          164.94057400000003,
          164.94057400000003,
          164.94057400000003,
          164.94057400000003,
          164.94057400000003,
          164.94057400000003,
          164.94057400000003,
          164.94057400000003,
          164.94057400000003,
          164.94057400000003,
          164.94057400000003,
          164.94057400000003,
          164.94057400000003,
          164.94057400000003,
          164.94057400000003,
          164.94057400000003,
          164.94057400000003,
          164.94057400000003,
          164.94057400000003,
          164.94057400000003,
          164.94057400000003,
          164.94057400000003,
          164.94057400000003,
          164.94057400000003,
          164.94057400000003,
          164.94057400000003,
          164.94057400000003,
          164.94057400000003,
          164.94057400000003,
          164.94057400000003,
          164.94057400000003,
          164.94057400000003,
          164.94057400000003,
          164.94057400000003,
          164.94057400000003,
          164.94057400000003,
          164.94057400000003,
          164.94057400000003,
          164.94057400000003,
          164.94057400000003,
          164.94057400000003,
          164.94057400000003,
          164.94057400000003,
          164.94057400000003,
          164.94057400000003,
          164.94057400000003,
          164.94057400000003,
          164.94057400000003,
          164.94057400000003,
          164.94057400000003,
          164.94057400000003,
          164.94057400000003,
          164.94057400000003,
          164.94057400000003,
          164.94057400000003,
          164.94057400000003,
          164.94057400000003,
          164.94057400000003,
          164.94057400000003,
          164.94057400000003,
          164.94057400000003,
          164.94057400000003,
          164.94057400000003,
          164.94057400000003,
          164.94057400000003,
          164.94057400000003,
          164.94057400000003,
          164.94057400000003,
          164.94057400000003,
          164.94057400000003,
          164.94057400000003,
          164.94057400000003,
          164.94057400000003,
          164.94057400000003,
          164.94057400000003,
          164.94057400000003,
          164.94057400000003,
          164.94057400000003,
          164.94057400000003,
          164.94057400000003,
          164.94057400000003,
          164.94057400000003,
          164.94057400000003,
          164.94057400000003,
          164.94057400000003,
          164.94057400000003,
          164.94057400000003,
          164.94057400000003,
          164.94057400000003,
          164.94057400000003,
          164.94057400000003,
          164.94057400000003,
          164.94057400000003,
          164.94057400000003,
          164.94057400000003,
          164.94057400000003,
          164.94057400000003,
          164.94057400000003,
          164.94057400000003,
          164.94057400000003,
          164.94057400000003,
          164.94057400000003,
          164.94057400000003,
          164.94057400000003,
          164.94057400000003,
          164.94057400000003,
          164.94057400000003,
          164.94057400000003,
          164.94057400000003,
          164.94057400000003,
          164.94057400000003,
          164.94057400000003,
          164.94057400000003,
          164.94057400000003,
          164.94057400000003,
          164.94057400000003,
          164.94057400000003,
          164.94057400000003,
          164.94057400000003,
          164.94057400000003,
          164.94057400000003,
          164.94057400000003,
          164.94057400000003,
          164.94057400000003,
          164.94057400000003,
          164.94057400000003,
          164.94057400000003,
          164.94057400000003,
          164.94057400000003,
          164.94057400000003,
          164.94057400000003,
          164.94057400000003,
          164.94057400000003,
          164.94057400000003,
          164.94057400000003,
          164.94057400000003,
          164.94057400000003,
          164.94057400000003,
          164.94057400000003,
          164.94057400000003,
          164.94057400000003,
          164.94057400000003,
          164.94057400000003,
          164.94057400000003,
          164.94057400000003,
          164.94057400000003,
          164.94057400000003,
          164.94057400000003,
          164.94057400000003,
          164.94057400000003,
          164.94057400000003,
          164.94057400000003,
          164.94057400000003,
          164.94057400000003,
          164.94057400000003,
          164.94057400000003,
          164.94057400000003,
          164.94057400000003,
          164.94057400000003,
          164.94057400000003,
          164.94057400000003,
          164.94057400000003,
          164.94057400000003,
          164.94057400000003,
          164.94057400000003,
          164.94057400000003,
          164.94057400000003,
          164.94057400000003,
          164.94057400000003,
          164.94057400000003,
          164.94057400000003,
          164.94057400000003,
          164.94057400000003,
          164.94057400000003,
          164.94057400000003,
          164.94057400000003,
          164.94057400000003,
          164.94057400000003,
          164.94057400000003,
          164.94057400000003,
          164.94057400000003,
          164.94057400000003,
          165.24235319999997,
          165.24235319999997,
          165.24235319999997,
          165.24235319999997,
          165.24235319999997,
          165.24235319999997,
          165.24235319999997,
          165.24235319999997,
          165.24235319999997,
          165.24235319999997,
          165.24235319999997,
          165.24235319999997,
          165.24235319999997,
          165.24235319999997,
          165.24235319999997,
          165.24235319999997,
          165.24235319999997,
          165.24235319999997,
          165.24235319999997,
          165.24235319999997,
          165.24235319999997,
          165.24235319999997,
          165.24235319999997,
          165.24235319999997,
          165.24235319999997,
          165.24235319999997,
          165.24235319999997,
          165.24235319999997,
          165.24235319999997,
          165.24235319999997
         ]
        },
        {
         "marker": {
          "color": "#cccccc"
         },
         "mode": "markers",
         "name": "Infeasible Trial",
         "showlegend": false,
         "type": "scatter",
         "x": [],
         "y": []
        }
       ],
       "layout": {
        "height": 594,
        "margin": {
         "b": 60,
         "l": 60,
         "r": 30,
         "t": 30
        },
        "showlegend": false,
        "template": {
         "layout": {
          "colorway": [
           "#002D72",
           "#E2001A",
           "#5A5A5A",
           "#2C74B3",
           "#A1C9F4"
          ],
          "font": {
           "color": "#002D72",
           "family": "Arial, sans-serif",
           "size": 14
          },
          "paper_bgcolor": "white",
          "plot_bgcolor": "white",
          "title": {
           "font": {
            "color": "#002D72",
            "size": 20
           }
          },
          "xaxis": {
           "gridcolor": "#D1D1D1",
           "linecolor": "#002D72",
           "zerolinecolor": "#D1D1D1"
          },
          "yaxis": {
           "gridcolor": "#D1D1D1",
           "linecolor": "#002D72",
           "zerolinecolor": "#D1D1D1"
          }
         }
        },
        "title": {},
        "width": 960,
        "xaxis": {
         "title": {
          "text": "Trial"
         }
        },
        "yaxis": {
         "title": {
          "text": "Objective Value"
         }
        }
       }
      }
     },
     "metadata": {},
     "output_type": "display_data"
    }
   ],
   "source": [
    "uic_fig_hist = optuna.visualization.plot_optimization_history(uic_aggregated_study)\n",
    "uic_fig_hist.update_layout(\n",
    "    width=960,\n",
    "    height=594,\n",
    "    showlegend=False,\n",
    "    title=None,\n",
    "    margin=dict(l=60, r=30, t=30, b=60),\n",
    ")\n",
    "uic_fig_hist.show()"
   ]
  },
  {
   "cell_type": "markdown",
   "metadata": {},
   "source": [
    "### Slice Plot All Params"
   ]
  },
  {
   "cell_type": "code",
   "execution_count": null,
   "metadata": {},
   "outputs": [],
   "source": [
    "uic_full_params = {\n",
    "    col: col.replace(\"params_\", \"\")\n",
    "    for col in uic_aggregated_study.trials_dataframe().columns\n",
    "    if col.startswith(\"params_\")\n",
    "}\n",
    "uic_full_params = list(uic_full_params.values())"
   ]
  },
  {
   "cell_type": "code",
   "execution_count": null,
   "metadata": {},
   "outputs": [
    {
     "data": {
      "application/vnd.plotly.v1+json": {
       "config": {
        "plotlyServerURL": "https://plot.ly"
       },
       "data": [
        {
         "marker": {
          "color": "#002D72",
          "opacity": 0.7
         },
         "mode": "markers",
         "type": "scatter",
         "x": [
          "Tanh",
          "SiLU",
          "Tanh",
          "LeakyReLU",
          "ReLU",
          "SiLU",
          "ReLU",
          "Tanh",
          "LeakyReLU",
          "SiLU",
          "LeakyReLU",
          "ReLU",
          "LeakyReLU",
          "ReLU",
          "ReLU",
          "LeakyReLU",
          "LeakyReLU",
          "ReLU",
          "LeakyReLU",
          "ReLU",
          "LeakyReLU",
          "ReLU",
          "ReLU",
          "ReLU",
          "ReLU",
          "ReLU",
          "Tanh",
          "SiLU",
          "ReLU",
          "Tanh",
          "Tanh",
          "Tanh",
          "Tanh",
          "Tanh",
          "Tanh",
          "Tanh",
          "Tanh",
          "Tanh",
          "SiLU",
          "Tanh",
          "Tanh",
          "ReLU",
          "LeakyReLU",
          "SiLU",
          "ReLU",
          "LeakyReLU",
          "Tanh",
          "ReLU",
          "LeakyReLU",
          "ReLU",
          "Tanh",
          "Tanh",
          "LeakyReLU",
          "Tanh",
          "Tanh",
          "LeakyReLU",
          "Tanh",
          "Tanh",
          "LeakyReLU",
          "Tanh",
          "ReLU",
          "ReLU",
          "LeakyReLU",
          "ReLU",
          "LeakyReLU",
          "LeakyReLU",
          "LeakyReLU",
          "LeakyReLU",
          "LeakyReLU",
          "LeakyReLU",
          "LeakyReLU",
          "LeakyReLU",
          "LeakyReLU",
          "LeakyReLU",
          "LeakyReLU",
          "LeakyReLU",
          "LeakyReLU",
          "ReLU",
          "ReLU",
          "LeakyReLU",
          "ReLU",
          "ReLU",
          "ReLU",
          "ReLU",
          "ReLU",
          "LeakyReLU",
          "LeakyReLU",
          "LeakyReLU",
          "Tanh",
          "Tanh",
          "Tanh",
          "LeakyReLU",
          "ReLU",
          "LeakyReLU",
          "LeakyReLU",
          "LeakyReLU",
          "LeakyReLU",
          "LeakyReLU",
          "LeakyReLU",
          "LeakyReLU",
          "LeakyReLU",
          "ReLU",
          "LeakyReLU",
          "LeakyReLU",
          "LeakyReLU",
          "ReLU",
          "LeakyReLU",
          "LeakyReLU",
          "LeakyReLU",
          "LeakyReLU",
          "LeakyReLU",
          "ReLU",
          "ReLU",
          "ReLU",
          "ReLU",
          "ReLU",
          "ReLU",
          "ReLU",
          "ReLU",
          "ReLU",
          "ReLU",
          "LeakyReLU",
          "LeakyReLU",
          "LeakyReLU",
          "ReLU",
          "ReLU",
          "ReLU",
          "ReLU",
          "ReLU",
          "ReLU",
          "ReLU",
          "ReLU",
          "LeakyReLU",
          "LeakyReLU",
          "ReLU",
          "ReLU",
          "ReLU",
          "ReLU",
          "ReLU",
          "ReLU",
          "ReLU",
          "ReLU",
          "ReLU",
          "ReLU",
          "ReLU",
          "ReLU",
          "ReLU",
          "ReLU",
          "ReLU",
          "ReLU",
          "ReLU",
          "ReLU",
          "ReLU",
          "ReLU",
          "ReLU",
          "ReLU",
          "ReLU",
          "ReLU",
          "ReLU",
          "ReLU",
          "ReLU",
          "ReLU",
          "ReLU",
          "ReLU",
          "ReLU",
          "ReLU",
          "ReLU",
          "ReLU",
          "LeakyReLU",
          "LeakyReLU",
          "LeakyReLU",
          "LeakyReLU",
          "ReLU",
          "ReLU",
          "ReLU",
          "ReLU",
          "ReLU",
          "ReLU",
          "ReLU",
          "ReLU",
          "ReLU",
          "ReLU",
          "ReLU",
          "ReLU",
          "LeakyReLU",
          "LeakyReLU",
          "LeakyReLU",
          "LeakyReLU",
          "LeakyReLU",
          "LeakyReLU",
          "LeakyReLU",
          "LeakyReLU",
          "LeakyReLU",
          "LeakyReLU",
          "LeakyReLU",
          "LeakyReLU",
          "LeakyReLU",
          "LeakyReLU",
          "LeakyReLU",
          "LeakyReLU",
          null,
          null,
          null,
          null,
          null,
          null,
          null,
          null,
          null,
          null,
          null,
          null,
          null,
          null,
          null,
          null,
          null,
          null,
          null,
          null,
          null,
          null,
          null,
          null,
          null,
          null,
          null,
          null,
          null,
          null,
          null,
          null,
          null,
          null,
          null,
          null,
          null,
          null,
          null,
          null,
          null,
          null,
          null,
          null,
          null,
          null,
          null,
          null,
          null,
          null,
          null,
          null,
          null,
          null,
          null,
          null,
          null,
          null,
          null,
          null,
          null,
          null,
          null,
          null,
          null,
          null,
          null,
          null,
          null,
          null,
          null,
          null,
          null,
          null,
          null,
          null,
          null,
          null,
          null,
          null,
          null,
          null,
          null,
          null,
          null,
          null,
          null,
          null,
          null,
          null,
          null,
          null,
          null,
          null,
          null,
          null,
          null,
          null,
          null,
          null,
          null,
          null,
          null,
          null,
          null,
          null,
          null,
          null,
          null,
          null,
          null,
          null,
          null,
          null,
          null,
          null,
          null,
          null,
          null,
          null,
          null,
          null,
          null,
          null,
          null,
          null,
          null,
          null,
          null,
          null,
          null,
          null,
          null,
          null,
          null,
          null,
          null,
          null,
          null,
          null,
          null,
          null,
          null,
          null,
          null,
          null,
          null,
          null,
          null,
          null,
          null,
          null,
          null,
          null,
          null,
          null,
          null,
          null,
          null,
          null,
          null,
          null,
          null,
          null,
          null,
          null,
          null,
          null,
          null,
          null,
          null,
          null,
          null,
          null,
          null,
          null,
          null,
          null,
          null,
          null,
          null,
          null,
          null,
          null,
          null,
          null,
          null,
          null,
          null,
          null,
          null,
          null,
          null,
          null,
          null,
          null,
          null,
          null,
          null,
          null
         ],
         "xaxis": "x",
         "y": {
          "bdata": "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",
          "dtype": "f8"
         },
         "yaxis": "y"
        },
        {
         "marker": {
          "color": "#002D72",
          "opacity": 0.7
         },
         "mode": "markers",
         "type": "scatter",
         "x": {
          "bdata": "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",
          "dtype": "f8"
         },
         "xaxis": "x2",
         "y": {
          "bdata": "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",
          "dtype": "f8"
         },
         "yaxis": "y2"
        },
        {
         "marker": {
          "color": "#002D72",
          "opacity": 0.7
         },
         "mode": "markers",
         "type": "scatter",
         "x": {
          "bdata": "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",
          "dtype": "f8"
         },
         "xaxis": "x3",
         "y": {
          "bdata": "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",
          "dtype": "f8"
         },
         "yaxis": "y3"
        },
        {
         "marker": {
          "color": "#002D72",
          "opacity": 0.7
         },
         "mode": "markers",
         "type": "scatter",
         "x": {
          "bdata": "AAAAAAAA+H8AAAAAAAD4fwAAAAAAAPh/AAAAAAAA+H8AAAAAAAD4fwAAAAAAAPh/AAAAAAAA+H8AAAAAAAD4fwAAAAAAAPh/AAAAAAAA+H8AAAAAAAD4fwAAAAAAAPh/AAAAAAAA+H8AAAAAAAD4fwAAAAAAAPh/AAAAAAAA+H8AAAAAAAD4fwAAAAAAAPh/AAAAAAAA+H8AAAAAAAD4fwAAAAAAAPh/AAAAAAAA+H8AAAAAAAD4fwAAAAAAAPh/AAAAAAAA+H8AAAAAAAD4fwAAAAAAAPh/AAAAAAAA+H8AAAAAAAD4fwAAAAAAAPh/AAAAAAAA+H8AAAAAAAD4fwAAAAAAAPh/AAAAAAAA+H8AAAAAAAD4fwAAAAAAAPh/AAAAAAAA+H8AAAAAAAD4fwAAAAAAAPh/AAAAAAAA+H8AAAAAAAD4fwAAAAAAAPh/AAAAAAAA+H8AAAAAAAD4fwAAAAAAAPh/AAAAAAAA+H8AAAAAAAD4fwAAAAAAAPh/AAAAAAAA+H8AAAAAAAD4fwAAAAAAAPh/AAAAAAAA+H8AAAAAAAD4fwAAAAAAAPh/AAAAAAAA+H8AAAAAAAD4fwAAAAAAAPh/AAAAAAAA+H8AAAAAAAD4fwAAAAAAAPh/AAAAAAAA+H8AAAAAAAD4fwAAAAAAAPh/AAAAAAAA+H8AAAAAAAD4fwAAAAAAAPh/AAAAAAAA+H8AAAAAAAD4fwAAAAAAAPh/AAAAAAAA+H8AAAAAAAD4fwAAAAAAAPh/AAAAAAAA+H8AAAAAAAD4fwAAAAAAAPh/AAAAAAAA+H8AAAAAAAD4fwAAAAAAAPh/AAAAAAAA+H8AAAAAAAD4fwAAAAAAAPh/AAAAAAAA+H8AAAAAAAD4fwAAAAAAAPh/AAAAAAAA+H8AAAAAAAD4fwAAAAAAAPh/AAAAAAAA+H8AAAAAAAD4fwAAAAAAAPh/AAAAAAAA+H8AAAAAAAD4fwAAAAAAAPh/AAAAAAAA+H8AAAAAAAD4fwAAAAAAAPh/AAAAAAAA+H8AAAAAAAD4fwAAAAAAAPh/AAAAAAAA+H83qDQdtucRP78qFw7e0wA/MVSoXYIsIj+jsGixMVIRPxyk66IzTxs/lf68EtB6IT/wo/6/rfggP1ZdIFi50CI/2r6GIX0YAz9hPt0YIG/3PjO2LwEYrx0/IInpoOcwHz9cdg+J0l/1PhaOhl4mlyk/TG/lUuuaKT8RoGojA3gpP9mJVbTT/ig/jBj1G1E4KT84IrnIcCYVP/608FTHlxY/cMviWjp+Fj9eZRydaeEWPx3Bt7a/uAo/fo9oOCXdCD/2eRVhelAkPzUssvnO7yM/NLYsrSTlIz/1p2iqnwYkP1QkhzkhJyQ/BmBmR/nYJD8Pwb5m1NMlP2cIw5iNEBo/uZ2AxbyoGz9ZVifCo1MbP3eqGF317xo/vwIWI4fNID/zg/C2vtsgP/l21vEnuyA/XhD2cQwNIT+r+H/LgIsgP2SBonbufRM/x4hSemrnJj8LPvWYqRcnP+eSoC25ZBA/9ivgj2/5IT+UwkK53oQTP79zvMogEBM/zWDSaIGdEj90h9O9N54DPw6fkEJxxR4//ilxF754Hj8kX2/CcDgQP+WHSaQqFxA/bl5xzm3ZDz+/TRDSZU4mP1dIbgM3GCY/EeRVh/mqJT+2nW27v0QmP7t/3gsfPyY/VVJskC5UGD/bEMEv49kYP03CngUyNhg/6Bl5so9BGD/FCxkPiDEiP0CMtpTVNyI/Gs1vypaLIj9VUSHWVnwiPyUsMZfY7CI/GnXI2WniJz8avnLRPiIoP2TeegytPSg/ZaJVshDdHD+ESZ0b5igdP6EaOmYCvfw+5uZrhID0HD+rcgHqu4MgP3JFanuHACA/6YOmhz3DFD/2P3TJBKwgPwItQipQ4h8/NL5AWu/GFD+VbwsWoMwjP0/DDh4uXQs/yfnSG6kqKj/oa1BvQVMkP9Tu2aPnLCo/S0P/8IwMJT92wlhAGyYjPyYuyIVh1iQ/PTg3X6wbJT/USDZGcZ0kPxRn5CTb/CQ/pqtp9Vj+JD/K5UWgYS8lP8qCr32XniE/N0azxQ9kIT9V0/t8FcYhP0KLbwQAZyE/A+OnznR6IT+hqLUP1IgjP1WsErzhzyk/ITMrWD+lQT9MqkKkTev2PtlJ6mXIVB8/w0hug86qJD8uXatzLrfuPp4ntf6EEfk+WSyFY7Bo5z6ugsofMcg4P8J7XcqWt/0+xpAjO8xNDT/85E+TockeP1r8Jzrxjio/fC3GPKlpTz8Mng71v/8QP6hbAp5vvw4/K+es/yxjDT/EGkxiClQsP4Fg9d2anBE/KYQ9GYzxAj9A8/Fkb14DP7yu2zQWYgI/1y1aZN81BD+gw/WyjxPyPsNCsfnCcBU/PNc44UK0Az9NVnW08y8GP5TDhwQ/tRg/LZZOl2cl5T5mldJp6hLzPi0GgdWjE/4+dlNDf84uJT8V+8PlSAAkP28ybu+OzTM/kIHF8EdECD8FHrhl44ETP7BicSebIxw/T9Nkcpbx+T74Hv2LN8UiP242HZx7+TE/kwNCNGlO7D43783k2EUHP0QQAFl4af8+QqBnQJCzCD9NhmM2+cMYP+ytBZUjPPY+cmtJiiz1ED9rVpzN+CMKPxnZYRzZAT8/XlskWgKjAT8JA88lhk0AP/90yNLVR+0+NQLm0Fi7DT9zEOJjjUH6PqpT2uv9nBI/0UzZC90t9z6yhocSO03tPnoacOc6pAc/rIQU9SK9Ej+JUTR/BnERPxglIch9jQk/R7ss6a21Aj/HJubLozAEPx7pCPduuhk/7TNvhsH/GT+Y0NWyvcX5PoEFGD2JUvs+QftEUgzX5T6qFu/P26DlPr6MBImxsBk/OOCNwlETGj8TzxB4+U4ZPyEDolfOdRg/Z4p6RDqqFT8HPE2uQDgVPya31kvYeBQ/vU00GsECDT9+UTkfnVURPymsmRfmAA0/3P59jLYtDz9UylVA+oUMP2Nn5rwuZwc/e0axztJ9FT+fiu+2TZ0VPwLtysmi5RU/lKjAjM3YFj8+qO5qpTsRP1HZr/GrABA/k1ourMcgEz9qFEFFAswTPzlzpxi2wfI+5P0Lv6MoCT/TnAtsXCUTP3BX/vy0ERM/bPhbIpMVFz+et7sVq50YP6FbOJfx+Rc/GVeFQ+JnGD/mXm87YK8AP2+Vm9sZUQE/AAAAAAAA+H8AAAAAAAD4fwAAAAAAAPh/AAAAAAAA+H8AAAAAAAD4fwAAAAAAAPh/AAAAAAAA+H8AAAAAAAD4fwAAAAAAAPh/AAAAAAAA+H8AAAAAAAD4fwAAAAAAAPh/AAAAAAAA+H8AAAAAAAD4fwAAAAAAAPh/AAAAAAAA+H8AAAAAAAD4fwAAAAAAAPh/AAAAAAAA+H8AAAAAAAD4fwAAAAAAAPh/AAAAAAAA+H8AAAAAAAD4fwAAAAAAAPh/AAAAAAAA+H8AAAAAAAD4fwAAAAAAAPh/AAAAAAAA+H8AAAAAAAD4fwAAAAAAAPh/AAAAAAAA+H8AAAAAAAD4fwAAAAAAAPh/AAAAAAAA+H8AAAAAAAD4fwAAAAAAAPh/AAAAAAAA+H8AAAAAAAD4fwAAAAAAAPh/AAAAAAAA+H8AAAAAAAD4fwAAAAAAAPh/AAAAAAAA+H8AAAAAAAD4fwAAAAAAAPh/AAAAAAAA+H8AAAAAAAD4fwAAAAAAAPh/AAAAAAAA+H8AAAAAAAD4fwAAAAAAAPh/AAAAAAAA+H8AAAAAAAD4fwAAAAAAAPh/AAAAAAAA+H8AAAAAAAD4fwAAAAAAAPh/AAAAAAAA+H8AAAAAAAD4fwAAAAAAAPh/AAAAAAAA+H8AAAAAAAD4fwAAAAAAAPh/AAAAAAAA+H8AAAAAAAD4fwAAAAAAAPh/AAAAAAAA+H8AAAAAAAD4fwAAAAAAAPh/AAAAAAAA+H8AAAAAAAD4fwAAAAAAAPh/AAAAAAAA+H8AAAAAAAD4fwAAAAAAAPh/AAAAAAAA+H8AAAAAAAD4fwAAAAAAAPh/AAAAAAAA+H8AAAAAAAD4fwAAAAAAAPh/AAAAAAAA+H8AAAAAAAD4fwAAAAAAAPh/AAAAAAAA+H8AAAAAAAD4fwAAAAAAAPh/AAAAAAAA+H8AAAAAAAD4fwAAAAAAAPh/AAAAAAAA+H8AAAAAAAD4fwAAAAAAAPh/AAAAAAAA+H8AAAAAAAD4fwAAAAAAAPh/AAAAAAAA+H8AAAAAAAD4fwAAAAAAAPh/AAAAAAAA+H8=",
          "dtype": "f8"
         },
         "xaxis": "x4",
         "y": {
          "bdata": "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",
          "dtype": "f8"
         },
         "yaxis": "y4"
        },
        {
         "marker": {
          "color": "#002D72",
          "opacity": 0.7
         },
         "mode": "markers",
         "type": "scatter",
         "x": {
          "bdata": "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",
          "dtype": "f8"
         },
         "xaxis": "x5",
         "y": {
          "bdata": "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",
          "dtype": "f8"
         },
         "yaxis": "y5"
        },
        {
         "marker": {
          "color": "#002D72",
          "opacity": 0.7
         },
         "mode": "markers",
         "type": "scatter",
         "x": {
          "bdata": "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",
          "dtype": "f8"
         },
         "xaxis": "x6",
         "y": {
          "bdata": "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",
          "dtype": "f8"
         },
         "yaxis": "y6"
        },
        {
         "marker": {
          "color": "#002D72",
          "opacity": 0.7
         },
         "mode": "markers",
         "type": "scatter",
         "x": {
          "bdata": "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",
          "dtype": "f8"
         },
         "xaxis": "x7",
         "y": {
          "bdata": "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",
          "dtype": "f8"
         },
         "yaxis": "y7"
        },
        {
         "marker": {
          "color": "#002D72",
          "opacity": 0.7
         },
         "mode": "markers",
         "type": "scatter",
         "x": {
          "bdata": "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",
          "dtype": "f8"
         },
         "xaxis": "x8",
         "y": {
          "bdata": "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",
          "dtype": "f8"
         },
         "yaxis": "y8"
        },
        {
         "marker": {
          "color": "#002D72",
          "opacity": 0.7
         },
         "mode": "markers",
         "type": "scatter",
         "x": {
          "bdata": "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",
          "dtype": "f8"
         },
         "xaxis": "x9",
         "y": {
          "bdata": "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",
          "dtype": "f8"
         },
         "yaxis": "y9"
        },
        {
         "marker": {
          "color": "#002D72",
          "opacity": 0.7
         },
         "mode": "markers",
         "type": "scatter",
         "x": {
          "bdata": "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",
          "dtype": "f8"
         },
         "xaxis": "x10",
         "y": {
          "bdata": "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",
          "dtype": "f8"
         },
         "yaxis": "y10"
        },
        {
         "marker": {
          "color": "#002D72",
          "opacity": 0.7
         },
         "mode": "markers",
         "type": "scatter",
         "x": {
          "bdata": "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",
          "dtype": "f8"
         },
         "xaxis": "x11",
         "y": {
          "bdata": "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",
          "dtype": "f8"
         },
         "yaxis": "y11"
        },
        {
         "marker": {
          "color": "#002D72",
          "opacity": 0.7
         },
         "mode": "markers",
         "type": "scatter",
         "x": {
          "bdata": "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",
          "dtype": "f8"
         },
         "xaxis": "x12",
         "y": {
          "bdata": "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",
          "dtype": "f8"
         },
         "yaxis": "y12"
        }
       ],
       "layout": {
        "annotations": [
         {
          "font": {
           "size": 16
          },
          "showarrow": false,
          "text": "activation",
          "x": 0.14444444444444446,
          "xanchor": "center",
          "xref": "paper",
          "y": 1,
          "yanchor": "bottom",
          "yref": "paper"
         },
         {
          "font": {
           "size": 16
          },
          "showarrow": false,
          "text": "batch_size",
          "x": 0.5,
          "xanchor": "center",
          "xref": "paper",
          "y": 1,
          "yanchor": "bottom",
          "yref": "paper"
         },
         {
          "font": {
           "size": 16
          },
          "showarrow": false,
          "text": "clip_range",
          "x": 0.8555555555555556,
          "xanchor": "center",
          "xref": "paper",
          "y": 1,
          "yanchor": "bottom",
          "yref": "paper"
         },
         {
          "font": {
           "size": 16
          },
          "showarrow": false,
          "text": "ent_coef",
          "x": 0.14444444444444446,
          "xanchor": "center",
          "xref": "paper",
          "y": 0.7437500000000001,
          "yanchor": "bottom",
          "yref": "paper"
         },
         {
          "font": {
           "size": 16
          },
          "showarrow": false,
          "text": "gae_lambda",
          "x": 0.5,
          "xanchor": "center",
          "xref": "paper",
          "y": 0.7437500000000001,
          "yanchor": "bottom",
          "yref": "paper"
         },
         {
          "font": {
           "size": 16
          },
          "showarrow": false,
          "text": "gamma",
          "x": 0.8555555555555556,
          "xanchor": "center",
          "xref": "paper",
          "y": 0.7437500000000001,
          "yanchor": "bottom",
          "yref": "paper"
         },
         {
          "font": {
           "size": 16
          },
          "showarrow": false,
          "text": "hidden_size",
          "x": 0.14444444444444446,
          "xanchor": "center",
          "xref": "paper",
          "y": 0.48750000000000004,
          "yanchor": "bottom",
          "yref": "paper"
         },
         {
          "font": {
           "size": 16
          },
          "showarrow": false,
          "text": "learning_rate",
          "x": 0.5,
          "xanchor": "center",
          "xref": "paper",
          "y": 0.48750000000000004,
          "yanchor": "bottom",
          "yref": "paper"
         },
         {
          "font": {
           "size": 16
          },
          "showarrow": false,
          "text": "n_layers",
          "x": 0.8555555555555556,
          "xanchor": "center",
          "xref": "paper",
          "y": 0.48750000000000004,
          "yanchor": "bottom",
          "yref": "paper"
         },
         {
          "font": {
           "size": 16
          },
          "showarrow": false,
          "text": "n_steps",
          "x": 0.14444444444444446,
          "xanchor": "center",
          "xref": "paper",
          "y": 0.23125,
          "yanchor": "bottom",
          "yref": "paper"
         },
         {
          "font": {
           "size": 16
          },
          "showarrow": false,
          "text": "use_target_kl",
          "x": 0.5,
          "xanchor": "center",
          "xref": "paper",
          "y": 0.23125,
          "yanchor": "bottom",
          "yref": "paper"
         },
         {
          "font": {
           "size": 16
          },
          "showarrow": false,
          "text": "vf_coef",
          "x": 0.8555555555555556,
          "xanchor": "center",
          "xref": "paper",
          "y": 0.23125,
          "yanchor": "bottom",
          "yref": "paper"
         }
        ],
        "height": 1600,
        "margin": {
         "b": 30,
         "l": 60,
         "r": 30,
         "t": 30
        },
        "showlegend": false,
        "template": {
         "layout": {
          "colorway": [
           "#002D72",
           "#E2001A",
           "#5A5A5A",
           "#2C74B3",
           "#A1C9F4"
          ],
          "font": {
           "color": "#002D72",
           "family": "Arial, sans-serif",
           "size": 14
          },
          "paper_bgcolor": "white",
          "plot_bgcolor": "white",
          "title": {
           "font": {
            "color": "#002D72",
            "size": 20
           }
          },
          "xaxis": {
           "gridcolor": "#D1D1D1",
           "linecolor": "#002D72",
           "zerolinecolor": "#D1D1D1"
          },
          "yaxis": {
           "gridcolor": "#D1D1D1",
           "linecolor": "#002D72",
           "zerolinecolor": "#D1D1D1"
          }
         }
        },
        "width": 1350,
        "xaxis": {
         "anchor": "y",
         "domain": [
          0,
          0.2888888888888889
         ]
        },
        "xaxis10": {
         "anchor": "y10",
         "domain": [
          0,
          0.2888888888888889
         ]
        },
        "xaxis11": {
         "anchor": "y11",
         "domain": [
          0.35555555555555557,
          0.6444444444444445
         ]
        },
        "xaxis12": {
         "anchor": "y12",
         "domain": [
          0.7111111111111111,
          1
         ]
        },
        "xaxis2": {
         "anchor": "y2",
         "domain": [
          0.35555555555555557,
          0.6444444444444445
         ]
        },
        "xaxis3": {
         "anchor": "y3",
         "domain": [
          0.7111111111111111,
          1
         ]
        },
        "xaxis4": {
         "anchor": "y4",
         "domain": [
          0,
          0.2888888888888889
         ]
        },
        "xaxis5": {
         "anchor": "y5",
         "domain": [
          0.35555555555555557,
          0.6444444444444445
         ]
        },
        "xaxis6": {
         "anchor": "y6",
         "domain": [
          0.7111111111111111,
          1
         ]
        },
        "xaxis7": {
         "anchor": "y7",
         "domain": [
          0,
          0.2888888888888889
         ]
        },
        "xaxis8": {
         "anchor": "y8",
         "domain": [
          0.35555555555555557,
          0.6444444444444445
         ],
         "nticks": 3,
         "tickformat": ".0e",
         "type": "log"
        },
        "xaxis9": {
         "anchor": "y9",
         "domain": [
          0.7111111111111111,
          1
         ]
        },
        "yaxis": {
         "anchor": "x",
         "domain": [
          0.76875,
          1
         ],
         "title": {
          "text": "Objective Value"
         }
        },
        "yaxis10": {
         "anchor": "x10",
         "domain": [
          0,
          0.23125
         ],
         "title": {
          "text": "Objective Value"
         }
        },
        "yaxis11": {
         "anchor": "x11",
         "domain": [
          0,
          0.23125
         ]
        },
        "yaxis12": {
         "anchor": "x12",
         "domain": [
          0,
          0.23125
         ]
        },
        "yaxis2": {
         "anchor": "x2",
         "domain": [
          0.76875,
          1
         ]
        },
        "yaxis3": {
         "anchor": "x3",
         "domain": [
          0.76875,
          1
         ]
        },
        "yaxis4": {
         "anchor": "x4",
         "domain": [
          0.5125000000000001,
          0.7437500000000001
         ],
         "title": {
          "text": "Objective Value"
         }
        },
        "yaxis5": {
         "anchor": "x5",
         "domain": [
          0.5125000000000001,
          0.7437500000000001
         ]
        },
        "yaxis6": {
         "anchor": "x6",
         "domain": [
          0.5125000000000001,
          0.7437500000000001
         ]
        },
        "yaxis7": {
         "anchor": "x7",
         "domain": [
          0.25625000000000003,
          0.48750000000000004
         ],
         "title": {
          "text": "Objective Value"
         }
        },
        "yaxis8": {
         "anchor": "x8",
         "domain": [
          0.25625000000000003,
          0.48750000000000004
         ]
        },
        "yaxis9": {
         "anchor": "x9",
         "domain": [
          0.25625000000000003,
          0.48750000000000004
         ]
        }
       }
      }
     },
     "metadata": {},
     "output_type": "display_data"
    }
   ],
   "source": [
    "uic_fig_slice_full = create_grid_slice_plot(\n",
    "    study=uic_aggregated_study, top_params=uic_full_params, vertical_spacing=0.025\n",
    ")\n",
    "uic_fig_slice_full.show()"
   ]
  },
  {
   "cell_type": "markdown",
   "metadata": {},
   "source": [
    "### Top 4 Params Slice Plot"
   ]
  },
  {
   "cell_type": "code",
   "execution_count": null,
   "metadata": {},
   "outputs": [
    {
     "data": {
      "application/vnd.plotly.v1+json": {
       "config": {
        "plotlyServerURL": "https://plot.ly"
       },
       "data": [
        {
         "marker": {
          "color": "#002D72",
          "opacity": 0.7
         },
         "mode": "markers",
         "type": "scatter",
         "x": {
          "bdata": "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",
          "dtype": "f8"
         },
         "xaxis": "x",
         "y": {
          "bdata": "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",
          "dtype": "f8"
         },
         "yaxis": "y"
        },
        {
         "marker": {
          "color": "#002D72",
          "opacity": 0.7
         },
         "mode": "markers",
         "type": "scatter",
         "x": {
          "bdata": "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",
          "dtype": "f8"
         },
         "xaxis": "x2",
         "y": {
          "bdata": "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",
          "dtype": "f8"
         },
         "yaxis": "y2"
        },
        {
         "marker": {
          "color": "#002D72",
          "opacity": 0.7
         },
         "mode": "markers",
         "type": "scatter",
         "x": {
          "bdata": "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",
          "dtype": "f8"
         },
         "xaxis": "x3",
         "y": {
          "bdata": "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",
          "dtype": "f8"
         },
         "yaxis": "y3"
        },
        {
         "marker": {
          "color": "#002D72",
          "opacity": 0.7
         },
         "mode": "markers",
         "type": "scatter",
         "x": {
          "bdata": "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",
          "dtype": "f8"
         },
         "xaxis": "x4",
         "y": {
          "bdata": "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",
          "dtype": "f8"
         },
         "yaxis": "y4"
        }
       ],
       "layout": {
        "annotations": [
         {
          "font": {
           "size": 16
          },
          "showarrow": false,
          "text": "learning_rate",
          "x": 0.225,
          "xanchor": "center",
          "xref": "paper",
          "y": 1,
          "yanchor": "bottom",
          "yref": "paper"
         },
         {
          "font": {
           "size": 16
          },
          "showarrow": false,
          "text": "n_steps",
          "x": 0.775,
          "xanchor": "center",
          "xref": "paper",
          "y": 1,
          "yanchor": "bottom",
          "yref": "paper"
         },
         {
          "font": {
           "size": 16
          },
          "showarrow": false,
          "text": "gamma",
          "x": 0.225,
          "xanchor": "center",
          "xref": "paper",
          "y": 0.45,
          "yanchor": "bottom",
          "yref": "paper"
         },
         {
          "font": {
           "size": 16
          },
          "showarrow": false,
          "text": "ent_coef",
          "x": 0.775,
          "xanchor": "center",
          "xref": "paper",
          "y": 0.45,
          "yanchor": "bottom",
          "yref": "paper"
         }
        ],
        "height": 800,
        "margin": {
         "b": 30,
         "l": 60,
         "r": 30,
         "t": 30
        },
        "showlegend": false,
        "template": {
         "layout": {
          "colorway": [
           "#002D72",
           "#E2001A",
           "#5A5A5A",
           "#2C74B3",
           "#A1C9F4"
          ],
          "font": {
           "color": "#002D72",
           "family": "Arial, sans-serif",
           "size": 14
          },
          "paper_bgcolor": "white",
          "plot_bgcolor": "white",
          "title": {
           "font": {
            "color": "#002D72",
            "size": 20
           }
          },
          "xaxis": {
           "gridcolor": "#D1D1D1",
           "linecolor": "#002D72",
           "zerolinecolor": "#D1D1D1"
          },
          "yaxis": {
           "gridcolor": "#D1D1D1",
           "linecolor": "#002D72",
           "zerolinecolor": "#D1D1D1"
          }
         }
        },
        "width": 900,
        "xaxis": {
         "anchor": "y",
         "domain": [
          0,
          0.45
         ],
         "nticks": 3,
         "tickformat": ".0e",
         "type": "log"
        },
        "xaxis2": {
         "anchor": "y2",
         "domain": [
          0.55,
          1
         ]
        },
        "xaxis3": {
         "anchor": "y3",
         "domain": [
          0,
          0.45
         ]
        },
        "xaxis4": {
         "anchor": "y4",
         "domain": [
          0.55,
          1
         ]
        },
        "yaxis": {
         "anchor": "x",
         "domain": [
          0.55,
          1
         ],
         "title": {
          "text": "Objective Value"
         }
        },
        "yaxis2": {
         "anchor": "x2",
         "domain": [
          0.55,
          1
         ]
        },
        "yaxis3": {
         "anchor": "x3",
         "domain": [
          0,
          0.45
         ],
         "title": {
          "text": "Objective Value"
         }
        },
        "yaxis4": {
         "anchor": "x4",
         "domain": [
          0,
          0.45
         ]
        }
       }
      }
     },
     "metadata": {},
     "output_type": "display_data"
    }
   ],
   "source": [
    "uic_top_params = [\"learning_rate\", \"n_steps\", \"gamma\", \"ent_coef\"]\n",
    "\n",
    "uic_fig_slice_focused = create_grid_slice_plot(\n",
    "    study=uic_aggregated_study, top_params=uic_top_params\n",
    ")\n",
    "uic_fig_slice_focused.show()"
   ]
  }
 ],
 "metadata": {
  "kernelspec": {
   "display_name": "py_310_torch_env",
   "language": "python",
   "name": "python3"
  },
  "language_info": {
   "codemirror_mode": {
    "name": "ipython",
    "version": 3
   },
   "file_extension": ".py",
   "mimetype": "text/x-python",
   "name": "python",
   "nbconvert_exporter": "python",
   "pygments_lexer": "ipython3",
   "version": "3.10.16"
  }
 },
 "nbformat": 4,
 "nbformat_minor": 4
}
