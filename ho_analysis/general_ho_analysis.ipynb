{
 "cells": [
  {
   "cell_type": "markdown",
   "metadata": {},
   "source": [
    "# Hyperparameter Optimization Visualization"
   ]
  },
  {
   "cell_type": "code",
   "execution_count": 1,
   "metadata": {},
   "outputs": [],
   "source": [
    "import os\n",
    "import pickle\n",
    "import pandas as pd\n",
    "import optuna\n",
    "import plotly.io as pio\n",
    "import plotly.graph_objects as go\n",
    "from optuna.trial import create_trial, TrialState\n",
    "from optuna.distributions import CategoricalDistribution, FloatDistribution, IntDistribution"
   ]
  },
  {
   "cell_type": "code",
   "execution_count": 2,
   "metadata": {},
   "outputs": [],
   "source": [
    "HE_RED = \"#E2001A\"\n",
    "HE_BLUE = \"#002D72\"\n",
    "HE_GRAY = \"#5A5A5A\"\n",
    "HE_LIGHT_GRAY = \"#D1D1D1\"\n",
    "\n",
    "pio.templates[\"esslingen_cd\"] = go.layout.Template(\n",
    "    layout=go.Layout(\n",
    "        colorway=[HE_BLUE, HE_RED, HE_GRAY, \"#2C74B3\", \"#A1C9F4\"],\n",
    "        font=dict(\n",
    "            family=\"Arial, sans-serif\",\n",
    "            size=14,\n",
    "            color=HE_BLUE  # Use the dark blue for text\n",
    "        ),\n",
    "        title=dict(\n",
    "            font=dict(size=20, color=HE_BLUE)\n",
    "        ),\n",
    "        paper_bgcolor=\"white\",\n",
    "        plot_bgcolor=\"white\",\n",
    "        xaxis=dict(\n",
    "            gridcolor=HE_LIGHT_GRAY,\n",
    "            linecolor=HE_BLUE,\n",
    "            zerolinecolor=HE_LIGHT_GRAY\n",
    "        ),\n",
    "        yaxis=dict(\n",
    "            gridcolor=HE_LIGHT_GRAY,\n",
    "            linecolor=HE_BLUE,\n",
    "            zerolinecolor=HE_LIGHT_GRAY\n",
    "        ),\n",
    "    )\n",
    ")\n",
    "\n",
    "pio.templates.default = \"esslingen_cd\""
   ]
  },
  {
   "cell_type": "code",
   "execution_count": 3,
   "metadata": {},
   "outputs": [],
   "source": [
    "# Constants\n",
    "RESULTS_DIR = \"../ho_results\"\n",
    "\n",
    "RDC_PREFIX = \"rdc_ho\"\n",
    "UIC_PREFIX = \"uic_ho\"\n",
    "\n",
    "STUDY_FILE_SUFFIX = \"_final.pickle\""
   ]
  },
  {
   "cell_type": "code",
   "execution_count": 4,
   "metadata": {},
   "outputs": [],
   "source": [
    "def load_all_dataframes(prefix, results_dir=RESULTS_DIR):\n",
    "    all_dfs: dict[str, pd.DataFrame] = {}\n",
    "\n",
    "    for filename in sorted(os.listdir(results_dir)):\n",
    "        if filename.startswith(prefix) and filename.endswith(\".pickle\"):\n",
    "            file_path = os.path.join(results_dir, filename)\n",
    "            try:\n",
    "                with open(file_path, \"rb\") as f:\n",
    "                    loaded_obj = pickle.load(f)\n",
    "                    all_dfs[filename] = loaded_obj\n",
    "            except Exception as e:\n",
    "                print(f\"- Could not load or process {filename}. Error: {e}\")\n",
    "\n",
    "    return all_dfs"
   ]
  },
  {
   "cell_type": "code",
   "execution_count": 5,
   "metadata": {},
   "outputs": [],
   "source": [
    "def create_study_from_df(study_name, df):\n",
    "    param_cols = {\n",
    "        col: col.replace(\"params_\", \"\")\n",
    "        for col in df.columns\n",
    "        if col.startswith(\"params_\")\n",
    "    }\n",
    "    df.rename(columns=param_cols, inplace=True)\n",
    "    clean_param_names = list(param_cols.values())\n",
    "\n",
    "    distributions = {}\n",
    "    for name in clean_param_names:\n",
    "        series = df[name].dropna()\n",
    "        if series.empty:\n",
    "            continue\n",
    "\n",
    "        unique_values = series.unique()\n",
    "\n",
    "        try:\n",
    "            sorted(unique_values)\n",
    "            is_mixed_type = False\n",
    "        except TypeError:\n",
    "            is_mixed_type = True\n",
    "\n",
    "        if is_mixed_type or series.dtype == \"object\":\n",
    "            choices = sorted([str(x) for x in unique_values])\n",
    "            distributions[name] = CategoricalDistribution(choices=choices)\n",
    "        elif \"int\" in str(series.dtype) or (\n",
    "            \"float\" in str(series.dtype)\n",
    "            and series.nunique() <= 10\n",
    "            and all(float(x).is_integer() for x in unique_values)\n",
    "        ):\n",
    "            distributions[name] = CategoricalDistribution(\n",
    "                choices=sorted([int(x) for x in unique_values])\n",
    "            )\n",
    "        elif \"int\" in str(series.dtype):\n",
    "            distributions[name] = IntDistribution(\n",
    "                low=int(series.min()), high=int(series.max())\n",
    "            )\n",
    "        elif \"float\" in str(series.dtype):\n",
    "            distributions[name] = FloatDistribution(\n",
    "                low=float(series.min()), high=float(series.max())\n",
    "            )\n",
    "\n",
    "    trials = []\n",
    "    for _, row in df.iterrows():\n",
    "        params = {}\n",
    "        for name in clean_param_names:\n",
    "            if pd.notna(row[name]):\n",
    "                if (\n",
    "                    name in distributions\n",
    "                    and isinstance(distributions[name], CategoricalDistribution)\n",
    "                    and distributions[name].choices\n",
    "                    and isinstance(distributions[name].choices[0], str)\n",
    "                ):\n",
    "                    params[name] = str(row[name])\n",
    "                else:\n",
    "                    params[name] = row[name]\n",
    "\n",
    "        trial_distributions = {\n",
    "            name: distributions[name] for name in params.keys() if name in distributions\n",
    "        }\n",
    "        trial = create_trial(\n",
    "            state=TrialState.COMPLETE,\n",
    "            value=row[\"value\"],\n",
    "            params=params,\n",
    "            distributions=trial_distributions,\n",
    "        )\n",
    "        trials.append(trial)\n",
    "\n",
    "    study = optuna.create_study(study_name=study_name, direction=\"maximize\")\n",
    "    study.add_trials(trials)\n",
    "    return study"
   ]
  },
  {
   "cell_type": "code",
   "execution_count": 6,
   "metadata": {},
   "outputs": [],
   "source": [
    "def set_log_scale_for_lr(fig, index, n_ticks=4):\n",
    "    axis_name = f'xaxis{index}' if index > 1 else 'xaxis'\n",
    "    \n",
    "    fig.update_layout({axis_name: {'type': 'log', 'tickformat': '.0e', 'nticks': n_ticks}})"
   ]
  },
  {
   "cell_type": "code",
   "execution_count": 7,
   "metadata": {},
   "outputs": [],
   "source": [
    "from plotly.subplots import make_subplots\n",
    "def create_grid_slice_plot(study, top_params, vertical_spacing=0.1):\n",
    "    n_params = len(top_params)\n",
    "    cols = 3 if n_params > 4 else 2\n",
    "    rows = (n_params + cols - 1) // cols\n",
    "    \n",
    "    fig = make_subplots(\n",
    "        rows=rows, \n",
    "        cols=cols, \n",
    "        subplot_titles=top_params,\n",
    "        vertical_spacing=vertical_spacing,\n",
    "    )\n",
    "    \n",
    "    df = study.trials_dataframe()\n",
    "\n",
    "    for i, param in enumerate(top_params):\n",
    "        row = (i // cols) + 1\n",
    "        col = (i % cols) + 1\n",
    "        \n",
    "        trace = go.Scatter(\n",
    "            x=df[f\"params_{param}\"],\n",
    "            y=df[\"value\"],\n",
    "            mode=\"markers\",\n",
    "            marker=dict(\n",
    "                color=HE_BLUE,\n",
    "                opacity=0.7\n",
    "            )\n",
    "        )\n",
    "        \n",
    "        fig.add_trace(trace, row=row, col=col)\n",
    "        \n",
    "        if 'lr' in param or 'learning_rate' in param:\n",
    "            fig.update_xaxes(type='log', tickformat='.0e', row=row, col=col, nticks=3)\n",
    "            \n",
    "    fig.update_layout(\n",
    "        showlegend=False,\n",
    "        width=450 * cols,\n",
    "        height=400 * rows,\n",
    "        margin=dict(l=60, r=30, t=30, b=30),\n",
    "    )\n",
    "    \n",
    "    for r in range(1, rows + 1):\n",
    "        fig.update_yaxes(title_text=\"Objective Value\", row=r, col=1)\n",
    "    \n",
    "    return fig"
   ]
  },
  {
   "cell_type": "markdown",
   "metadata": {},
   "source": [
    "## 1. RDC Analysis"
   ]
  },
  {
   "cell_type": "code",
   "execution_count": 8,
   "metadata": {},
   "outputs": [],
   "source": [
    "rdc_dfs_dict = load_all_dataframes(prefix=RDC_PREFIX)"
   ]
  },
  {
   "cell_type": "markdown",
   "metadata": {},
   "source": [
    "### Individual Importance Plots (Per File)\n",
    "\n",
    "These plots show the hyperparameter importance for each individual experimental run. This is the most accurate way to see which parameters were most influential in a specific context (e.g., for architecture tuning)."
   ]
  },
  {
   "cell_type": "code",
   "execution_count": 9,
   "metadata": {},
   "outputs": [
    {
     "name": "stderr",
     "output_type": "stream",
     "text": [
      "[I 2025-08-01 07:25:54,016] A new study created in memory with name: rdc_ho_architecture_20250730-095643\n"
     ]
    },
    {
     "data": {
      "application/vnd.plotly.v1+json": {
       "config": {
        "plotlyServerURL": "https://plot.ly"
       },
       "data": [
        {
         "cliponaxis": false,
         "hovertemplate": [
          "rdc_batch_size (CategoricalDistribution): 0.23986359707561417<extra></extra>",
          "rdc_hidden_dim (CategoricalDistribution): 0.7601364029243859<extra></extra>"
         ],
         "name": "Objective Value",
         "orientation": "h",
         "text": [
          "0.24",
          "0.76"
         ],
         "textposition": "outside",
         "type": "bar",
         "x": [
          0.23986359707561417,
          0.7601364029243859
         ],
         "y": [
          "rdc_batch_size",
          "rdc_hidden_dim"
         ]
        }
       ],
       "layout": {
        "height": 500,
        "template": {
         "layout": {
          "colorway": [
           "#002D72",
           "#E2001A",
           "#5A5A5A",
           "#2C74B3",
           "#A1C9F4"
          ],
          "font": {
           "color": "#002D72",
           "family": "Arial, sans-serif",
           "size": 14
          },
          "paper_bgcolor": "white",
          "plot_bgcolor": "white",
          "title": {
           "font": {
            "color": "#002D72",
            "size": 20
           }
          },
          "xaxis": {
           "gridcolor": "#D1D1D1",
           "linecolor": "#002D72",
           "zerolinecolor": "#D1D1D1"
          },
          "yaxis": {
           "gridcolor": "#D1D1D1",
           "linecolor": "#002D72",
           "zerolinecolor": "#D1D1D1"
          }
         }
        },
        "title": {
         "text": "Importance for: rdc_ho_architecture_20250730-095643"
        },
        "width": 1000,
        "xaxis": {
         "title": {
          "text": "Hyperparameter Importance"
         }
        },
        "yaxis": {
         "title": {
          "text": "Hyperparameter"
         }
        }
       }
      }
     },
     "metadata": {},
     "output_type": "display_data"
    },
    {
     "name": "stderr",
     "output_type": "stream",
     "text": [
      "[I 2025-08-01 07:25:55,206] A new study created in memory with name: rdc_ho_architecture_20250730-165632\n"
     ]
    },
    {
     "data": {
      "application/vnd.plotly.v1+json": {
       "config": {
        "plotlyServerURL": "https://plot.ly"
       },
       "data": [
        {
         "cliponaxis": false,
         "hovertemplate": [
          "rdc_batch_size (CategoricalDistribution): 0.2404377709029176<extra></extra>",
          "rdc_hidden_dim (CategoricalDistribution): 0.7595622290970824<extra></extra>"
         ],
         "name": "Objective Value",
         "orientation": "h",
         "text": [
          "0.24",
          "0.76"
         ],
         "textposition": "outside",
         "type": "bar",
         "x": [
          0.2404377709029176,
          0.7595622290970824
         ],
         "y": [
          "rdc_batch_size",
          "rdc_hidden_dim"
         ]
        }
       ],
       "layout": {
        "height": 500,
        "template": {
         "layout": {
          "colorway": [
           "#002D72",
           "#E2001A",
           "#5A5A5A",
           "#2C74B3",
           "#A1C9F4"
          ],
          "font": {
           "color": "#002D72",
           "family": "Arial, sans-serif",
           "size": 14
          },
          "paper_bgcolor": "white",
          "plot_bgcolor": "white",
          "title": {
           "font": {
            "color": "#002D72",
            "size": 20
           }
          },
          "xaxis": {
           "gridcolor": "#D1D1D1",
           "linecolor": "#002D72",
           "zerolinecolor": "#D1D1D1"
          },
          "yaxis": {
           "gridcolor": "#D1D1D1",
           "linecolor": "#002D72",
           "zerolinecolor": "#D1D1D1"
          }
         }
        },
        "title": {
         "text": "Importance for: rdc_ho_architecture_20250730-165632"
        },
        "width": 1000,
        "xaxis": {
         "title": {
          "text": "Hyperparameter Importance"
         }
        },
        "yaxis": {
         "title": {
          "text": "Hyperparameter"
         }
        }
       }
      }
     },
     "metadata": {},
     "output_type": "display_data"
    },
    {
     "name": "stderr",
     "output_type": "stream",
     "text": [
      "[I 2025-08-01 07:25:55,324] A new study created in memory with name: rdc_ho_exploration_20250730-095800\n"
     ]
    },
    {
     "data": {
      "application/vnd.plotly.v1+json": {
       "config": {
        "plotlyServerURL": "https://plot.ly"
       },
       "data": [
        {
         "cliponaxis": false,
         "hovertemplate": [
          "rdc_epsilon_end (FloatDistribution): 0.29547514330650193<extra></extra>",
          "rdc_epsilon_decay (FloatDistribution): 0.704524856693498<extra></extra>"
         ],
         "name": "Objective Value",
         "orientation": "h",
         "text": [
          "0.30",
          "0.70"
         ],
         "textposition": "outside",
         "type": "bar",
         "x": [
          0.29547514330650193,
          0.704524856693498
         ],
         "y": [
          "rdc_epsilon_end",
          "rdc_epsilon_decay"
         ]
        }
       ],
       "layout": {
        "height": 500,
        "template": {
         "layout": {
          "colorway": [
           "#002D72",
           "#E2001A",
           "#5A5A5A",
           "#2C74B3",
           "#A1C9F4"
          ],
          "font": {
           "color": "#002D72",
           "family": "Arial, sans-serif",
           "size": 14
          },
          "paper_bgcolor": "white",
          "plot_bgcolor": "white",
          "title": {
           "font": {
            "color": "#002D72",
            "size": 20
           }
          },
          "xaxis": {
           "gridcolor": "#D1D1D1",
           "linecolor": "#002D72",
           "zerolinecolor": "#D1D1D1"
          },
          "yaxis": {
           "gridcolor": "#D1D1D1",
           "linecolor": "#002D72",
           "zerolinecolor": "#D1D1D1"
          }
         }
        },
        "title": {
         "text": "Importance for: rdc_ho_exploration_20250730-095800"
        },
        "width": 1000,
        "xaxis": {
         "title": {
          "text": "Hyperparameter Importance"
         }
        },
        "yaxis": {
         "title": {
          "text": "Hyperparameter"
         }
        }
       }
      }
     },
     "metadata": {},
     "output_type": "display_data"
    },
    {
     "name": "stderr",
     "output_type": "stream",
     "text": [
      "[I 2025-08-01 07:25:55,699] A new study created in memory with name: rdc_ho_exploration_20250730-165724\n"
     ]
    },
    {
     "data": {
      "application/vnd.plotly.v1+json": {
       "config": {
        "plotlyServerURL": "https://plot.ly"
       },
       "data": [
        {
         "cliponaxis": false,
         "hovertemplate": [
          "rdc_epsilon_end (FloatDistribution): 0.3577629998739358<extra></extra>",
          "rdc_epsilon_decay (FloatDistribution): 0.6422370001260642<extra></extra>"
         ],
         "name": "Objective Value",
         "orientation": "h",
         "text": [
          "0.36",
          "0.64"
         ],
         "textposition": "outside",
         "type": "bar",
         "x": [
          0.3577629998739358,
          0.6422370001260642
         ],
         "y": [
          "rdc_epsilon_end",
          "rdc_epsilon_decay"
         ]
        }
       ],
       "layout": {
        "height": 500,
        "template": {
         "layout": {
          "colorway": [
           "#002D72",
           "#E2001A",
           "#5A5A5A",
           "#2C74B3",
           "#A1C9F4"
          ],
          "font": {
           "color": "#002D72",
           "family": "Arial, sans-serif",
           "size": 14
          },
          "paper_bgcolor": "white",
          "plot_bgcolor": "white",
          "title": {
           "font": {
            "color": "#002D72",
            "size": 20
           }
          },
          "xaxis": {
           "gridcolor": "#D1D1D1",
           "linecolor": "#002D72",
           "zerolinecolor": "#D1D1D1"
          },
          "yaxis": {
           "gridcolor": "#D1D1D1",
           "linecolor": "#002D72",
           "zerolinecolor": "#D1D1D1"
          }
         }
        },
        "title": {
         "text": "Importance for: rdc_ho_exploration_20250730-165724"
        },
        "width": 1000,
        "xaxis": {
         "title": {
          "text": "Hyperparameter Importance"
         }
        },
        "yaxis": {
         "title": {
          "text": "Hyperparameter"
         }
        }
       }
      }
     },
     "metadata": {},
     "output_type": "display_data"
    },
    {
     "name": "stderr",
     "output_type": "stream",
     "text": [
      "[I 2025-08-01 07:25:56,135] A new study created in memory with name: rdc_ho_final_joint_20250731-081826\n"
     ]
    },
    {
     "data": {
      "application/vnd.plotly.v1+json": {
       "config": {
        "plotlyServerURL": "https://plot.ly"
       },
       "data": [
        {
         "cliponaxis": false,
         "hovertemplate": [
          "rdc_replay_buffer_alpha (FloatDistribution): 0.00025893215022538467<extra></extra>",
          "rdc_lr_gamma (FloatDistribution): 0.0004545159760282702<extra></extra>",
          "rdc_hidden_dim (CategoricalDistribution): 0.0005493829545531887<extra></extra>",
          "rdc_batch_size (CategoricalDistribution): 0.0011677089138551267<extra></extra>",
          "rdc_replay_buffer_beta_start (FloatDistribution): 0.0043366220545035606<extra></extra>",
          "rdc_epsilon_end (FloatDistribution): 0.0049374951660232855<extra></extra>",
          "rdc_gamma (FloatDistribution): 0.00906859535586716<extra></extra>",
          "rdc_tau (FloatDistribution): 0.014565492697415654<extra></extra>",
          "rdc_lr (FloatDistribution): 0.018017527730526128<extra></extra>",
          "rdc_epsilon_decay (FloatDistribution): 0.021393910531349487<extra></extra>",
          "rdc_lr_step_size (CategoricalDistribution): 0.11609406454311179<extra></extra>",
          "rdc_replay_buffer_capacity (CategoricalDistribution): 0.3657209501869828<extra></extra>",
          "rdc_replay_buffer_beta_frames (CategoricalDistribution): 0.44343480173955824<extra></extra>"
         ],
         "name": "Objective Value",
         "orientation": "h",
         "text": [
          "<0.01",
          "<0.01",
          "<0.01",
          "<0.01",
          "<0.01",
          "<0.01",
          "<0.01",
          "0.01",
          "0.02",
          "0.02",
          "0.12",
          "0.37",
          "0.44"
         ],
         "textposition": "outside",
         "type": "bar",
         "x": [
          0.00025893215022538467,
          0.0004545159760282702,
          0.0005493829545531887,
          0.0011677089138551267,
          0.0043366220545035606,
          0.0049374951660232855,
          0.00906859535586716,
          0.014565492697415654,
          0.018017527730526128,
          0.021393910531349487,
          0.11609406454311179,
          0.3657209501869828,
          0.44343480173955824
         ],
         "y": [
          "rdc_replay_buffer_alpha",
          "rdc_lr_gamma",
          "rdc_hidden_dim",
          "rdc_batch_size",
          "rdc_replay_buffer_beta_start",
          "rdc_epsilon_end",
          "rdc_gamma",
          "rdc_tau",
          "rdc_lr",
          "rdc_epsilon_decay",
          "rdc_lr_step_size",
          "rdc_replay_buffer_capacity",
          "rdc_replay_buffer_beta_frames"
         ]
        }
       ],
       "layout": {
        "height": 500,
        "template": {
         "layout": {
          "colorway": [
           "#002D72",
           "#E2001A",
           "#5A5A5A",
           "#2C74B3",
           "#A1C9F4"
          ],
          "font": {
           "color": "#002D72",
           "family": "Arial, sans-serif",
           "size": 14
          },
          "paper_bgcolor": "white",
          "plot_bgcolor": "white",
          "title": {
           "font": {
            "color": "#002D72",
            "size": 20
           }
          },
          "xaxis": {
           "gridcolor": "#D1D1D1",
           "linecolor": "#002D72",
           "zerolinecolor": "#D1D1D1"
          },
          "yaxis": {
           "gridcolor": "#D1D1D1",
           "linecolor": "#002D72",
           "zerolinecolor": "#D1D1D1"
          }
         }
        },
        "title": {
         "text": "Importance for: rdc_ho_final_joint_20250731-081826"
        },
        "width": 1000,
        "xaxis": {
         "title": {
          "text": "Hyperparameter Importance"
         }
        },
        "yaxis": {
         "title": {
          "text": "Hyperparameter"
         }
        }
       }
      }
     },
     "metadata": {},
     "output_type": "display_data"
    },
    {
     "name": "stderr",
     "output_type": "stream",
     "text": [
      "[I 2025-08-01 07:26:11,939] A new study created in memory with name: rdc_ho_learningrate_20250730-095559\n"
     ]
    },
    {
     "data": {
      "application/vnd.plotly.v1+json": {
       "config": {
        "plotlyServerURL": "https://plot.ly"
       },
       "data": [
        {
         "cliponaxis": false,
         "hovertemplate": [
          "rdc_lr_gamma (FloatDistribution): 0.07683313960448987<extra></extra>",
          "rdc_gamma (FloatDistribution): 0.09350290481747699<extra></extra>",
          "rdc_lr (FloatDistribution): 0.29181827974337593<extra></extra>",
          "rdc_lr_step_size (CategoricalDistribution): 0.5378456758346573<extra></extra>"
         ],
         "name": "Objective Value",
         "orientation": "h",
         "text": [
          "0.08",
          "0.09",
          "0.29",
          "0.54"
         ],
         "textposition": "outside",
         "type": "bar",
         "x": [
          0.07683313960448987,
          0.09350290481747699,
          0.29181827974337593,
          0.5378456758346573
         ],
         "y": [
          "rdc_lr_gamma",
          "rdc_gamma",
          "rdc_lr",
          "rdc_lr_step_size"
         ]
        }
       ],
       "layout": {
        "height": 500,
        "template": {
         "layout": {
          "colorway": [
           "#002D72",
           "#E2001A",
           "#5A5A5A",
           "#2C74B3",
           "#A1C9F4"
          ],
          "font": {
           "color": "#002D72",
           "family": "Arial, sans-serif",
           "size": 14
          },
          "paper_bgcolor": "white",
          "plot_bgcolor": "white",
          "title": {
           "font": {
            "color": "#002D72",
            "size": 20
           }
          },
          "xaxis": {
           "gridcolor": "#D1D1D1",
           "linecolor": "#002D72",
           "zerolinecolor": "#D1D1D1"
          },
          "yaxis": {
           "gridcolor": "#D1D1D1",
           "linecolor": "#002D72",
           "zerolinecolor": "#D1D1D1"
          }
         }
        },
        "title": {
         "text": "Importance for: rdc_ho_learningrate_20250730-095559"
        },
        "width": 1000,
        "xaxis": {
         "title": {
          "text": "Hyperparameter Importance"
         }
        },
        "yaxis": {
         "title": {
          "text": "Hyperparameter"
         }
        }
       }
      }
     },
     "metadata": {},
     "output_type": "display_data"
    },
    {
     "name": "stderr",
     "output_type": "stream",
     "text": [
      "[I 2025-08-01 07:26:17,043] A new study created in memory with name: rdc_ho_learningrate_20250730-165543\n"
     ]
    },
    {
     "data": {
      "application/vnd.plotly.v1+json": {
       "config": {
        "plotlyServerURL": "https://plot.ly"
       },
       "data": [
        {
         "cliponaxis": false,
         "hovertemplate": [
          "rdc_gamma (FloatDistribution): 0.07417493765316753<extra></extra>",
          "rdc_lr (FloatDistribution): 0.14423061293194753<extra></extra>",
          "rdc_lr_gamma (FloatDistribution): 0.18469555821737138<extra></extra>",
          "rdc_lr_step_size (CategoricalDistribution): 0.5968988911975137<extra></extra>"
         ],
         "name": "Objective Value",
         "orientation": "h",
         "text": [
          "0.07",
          "0.14",
          "0.18",
          "0.60"
         ],
         "textposition": "outside",
         "type": "bar",
         "x": [
          0.07417493765316753,
          0.14423061293194753,
          0.18469555821737138,
          0.5968988911975137
         ],
         "y": [
          "rdc_gamma",
          "rdc_lr",
          "rdc_lr_gamma",
          "rdc_lr_step_size"
         ]
        }
       ],
       "layout": {
        "height": 500,
        "template": {
         "layout": {
          "colorway": [
           "#002D72",
           "#E2001A",
           "#5A5A5A",
           "#2C74B3",
           "#A1C9F4"
          ],
          "font": {
           "color": "#002D72",
           "family": "Arial, sans-serif",
           "size": 14
          },
          "paper_bgcolor": "white",
          "plot_bgcolor": "white",
          "title": {
           "font": {
            "color": "#002D72",
            "size": 20
           }
          },
          "xaxis": {
           "gridcolor": "#D1D1D1",
           "linecolor": "#002D72",
           "zerolinecolor": "#D1D1D1"
          },
          "yaxis": {
           "gridcolor": "#D1D1D1",
           "linecolor": "#002D72",
           "zerolinecolor": "#D1D1D1"
          }
         }
        },
        "title": {
         "text": "Importance for: rdc_ho_learningrate_20250730-165543"
        },
        "width": 1000,
        "xaxis": {
         "title": {
          "text": "Hyperparameter Importance"
         }
        },
        "yaxis": {
         "title": {
          "text": "Hyperparameter"
         }
        }
       }
      }
     },
     "metadata": {},
     "output_type": "display_data"
    },
    {
     "name": "stderr",
     "output_type": "stream",
     "text": [
      "[I 2025-08-01 07:26:22,406] A new study created in memory with name: rdc_ho_replaybuffer_20250730-095727\n"
     ]
    },
    {
     "data": {
      "application/vnd.plotly.v1+json": {
       "config": {
        "plotlyServerURL": "https://plot.ly"
       },
       "data": [
        {
         "cliponaxis": false,
         "hovertemplate": [
          "rdc_replay_buffer_beta_start (FloatDistribution): 0.004054529126142038<extra></extra>",
          "rdc_replay_buffer_alpha (FloatDistribution): 0.009531044572192926<extra></extra>",
          "rdc_tau (FloatDistribution): 0.0610406998174737<extra></extra>",
          "rdc_replay_buffer_beta_frames (CategoricalDistribution): 0.40742662133825464<extra></extra>",
          "rdc_replay_buffer_capacity (CategoricalDistribution): 0.5179471051459367<extra></extra>"
         ],
         "name": "Objective Value",
         "orientation": "h",
         "text": [
          "<0.01",
          "<0.01",
          "0.06",
          "0.41",
          "0.52"
         ],
         "textposition": "outside",
         "type": "bar",
         "x": [
          0.004054529126142038,
          0.009531044572192926,
          0.0610406998174737,
          0.40742662133825464,
          0.5179471051459367
         ],
         "y": [
          "rdc_replay_buffer_beta_start",
          "rdc_replay_buffer_alpha",
          "rdc_tau",
          "rdc_replay_buffer_beta_frames",
          "rdc_replay_buffer_capacity"
         ]
        }
       ],
       "layout": {
        "height": 500,
        "template": {
         "layout": {
          "colorway": [
           "#002D72",
           "#E2001A",
           "#5A5A5A",
           "#2C74B3",
           "#A1C9F4"
          ],
          "font": {
           "color": "#002D72",
           "family": "Arial, sans-serif",
           "size": 14
          },
          "paper_bgcolor": "white",
          "plot_bgcolor": "white",
          "title": {
           "font": {
            "color": "#002D72",
            "size": 20
           }
          },
          "xaxis": {
           "gridcolor": "#D1D1D1",
           "linecolor": "#002D72",
           "zerolinecolor": "#D1D1D1"
          },
          "yaxis": {
           "gridcolor": "#D1D1D1",
           "linecolor": "#002D72",
           "zerolinecolor": "#D1D1D1"
          }
         }
        },
        "title": {
         "text": "Importance for: rdc_ho_replaybuffer_20250730-095727"
        },
        "width": 1000,
        "xaxis": {
         "title": {
          "text": "Hyperparameter Importance"
         }
        },
        "yaxis": {
         "title": {
          "text": "Hyperparameter"
         }
        }
       }
      }
     },
     "metadata": {},
     "output_type": "display_data"
    },
    {
     "name": "stderr",
     "output_type": "stream",
     "text": [
      "[I 2025-08-01 07:27:08,568] A new study created in memory with name: rdc_ho_replaybuffer_20250730-165701\n"
     ]
    },
    {
     "data": {
      "application/vnd.plotly.v1+json": {
       "config": {
        "plotlyServerURL": "https://plot.ly"
       },
       "data": [
        {
         "cliponaxis": false,
         "hovertemplate": [
          "rdc_replay_buffer_alpha (FloatDistribution): 0.001216368472951771<extra></extra>",
          "rdc_replay_buffer_beta_start (FloatDistribution): 0.0018269698433520934<extra></extra>",
          "rdc_tau (FloatDistribution): 0.005303031408582047<extra></extra>",
          "rdc_replay_buffer_beta_frames (CategoricalDistribution): 0.4919635712158131<extra></extra>",
          "rdc_replay_buffer_capacity (CategoricalDistribution): 0.49969005905930103<extra></extra>"
         ],
         "name": "Objective Value",
         "orientation": "h",
         "text": [
          "<0.01",
          "<0.01",
          "<0.01",
          "0.49",
          "0.50"
         ],
         "textposition": "outside",
         "type": "bar",
         "x": [
          0.001216368472951771,
          0.0018269698433520934,
          0.005303031408582047,
          0.4919635712158131,
          0.49969005905930103
         ],
         "y": [
          "rdc_replay_buffer_alpha",
          "rdc_replay_buffer_beta_start",
          "rdc_tau",
          "rdc_replay_buffer_beta_frames",
          "rdc_replay_buffer_capacity"
         ]
        }
       ],
       "layout": {
        "height": 500,
        "template": {
         "layout": {
          "colorway": [
           "#002D72",
           "#E2001A",
           "#5A5A5A",
           "#2C74B3",
           "#A1C9F4"
          ],
          "font": {
           "color": "#002D72",
           "family": "Arial, sans-serif",
           "size": 14
          },
          "paper_bgcolor": "white",
          "plot_bgcolor": "white",
          "title": {
           "font": {
            "color": "#002D72",
            "size": 20
           }
          },
          "xaxis": {
           "gridcolor": "#D1D1D1",
           "linecolor": "#002D72",
           "zerolinecolor": "#D1D1D1"
          },
          "yaxis": {
           "gridcolor": "#D1D1D1",
           "linecolor": "#002D72",
           "zerolinecolor": "#D1D1D1"
          }
         }
        },
        "title": {
         "text": "Importance for: rdc_ho_replaybuffer_20250730-165701"
        },
        "width": 1000,
        "xaxis": {
         "title": {
          "text": "Hyperparameter Importance"
         }
        },
        "yaxis": {
         "title": {
          "text": "Hyperparameter"
         }
        }
       }
      }
     },
     "metadata": {},
     "output_type": "display_data"
    }
   ],
   "source": [
    "for filename, df in rdc_dfs_dict.items():\n",
    "    study_name = filename.replace(STUDY_FILE_SUFFIX, '')\n",
    "\n",
    "    temp_study = create_study_from_df(study_name, df.copy())\n",
    "\n",
    "    fig = optuna.visualization.plot_param_importances(temp_study)\n",
    "    fig.update_layout(\n",
    "        title=f\"Importance for: {study_name}\",\n",
    "        width=1000,\n",
    "        height=500\n",
    "    )\n",
    "    fig.show()"
   ]
  },
  {
   "cell_type": "markdown",
   "metadata": {},
   "source": [
    "### Aggregated Analysis (All RDC Trials)\n",
    "\n",
    "These plots combine all trials from all RDC runs to give a high-level overview of the entire optimization process."
   ]
  },
  {
   "cell_type": "code",
   "execution_count": 10,
   "metadata": {},
   "outputs": [
    {
     "name": "stderr",
     "output_type": "stream",
     "text": [
      "[I 2025-08-01 07:27:42,113] A new study created in memory with name: RDC Aggregated\n"
     ]
    }
   ],
   "source": [
    "rdc_aggregated_study = create_study_from_df(\"RDC Aggregated\", pd.concat(rdc_dfs_dict.values(), ignore_index=True))"
   ]
  },
  {
   "cell_type": "code",
   "execution_count": 11,
   "metadata": {},
   "outputs": [
    {
     "data": {
      "application/vnd.plotly.v1+json": {
       "config": {
        "plotlyServerURL": "https://plot.ly"
       },
       "data": [
        {
         "mode": "markers",
         "name": "Objective Value",
         "type": "scatter",
         "x": [
          0,
          1,
          2,
          3,
          4,
          5,
          6,
          7,
          8,
          9,
          10,
          11,
          12,
          13,
          14,
          15,
          16,
          17,
          18,
          19,
          20,
          21,
          22,
          23,
          24,
          25,
          26,
          27,
          28,
          29,
          30,
          31,
          32,
          33,
          34,
          35,
          36,
          37,
          38,
          39,
          40,
          41,
          42,
          43,
          44,
          45,
          46,
          47,
          48,
          49,
          50,
          51,
          52,
          53,
          54,
          55,
          56,
          57,
          58,
          59,
          60,
          61,
          62,
          63,
          64,
          65,
          66,
          67,
          68,
          69,
          70,
          71,
          72,
          73,
          74,
          75,
          76,
          77,
          78,
          79,
          80,
          81,
          82,
          83,
          84,
          85,
          86,
          87,
          88,
          89,
          90,
          91,
          92,
          93,
          94,
          95,
          96,
          97,
          98,
          99,
          100,
          101,
          102,
          103,
          104,
          105,
          106,
          107,
          108,
          109,
          110,
          111,
          112,
          113,
          114,
          115,
          116,
          117,
          118,
          119,
          120,
          121,
          122,
          123,
          124,
          125,
          126,
          127,
          128,
          129,
          130,
          131,
          132,
          133,
          134,
          135,
          136,
          137,
          138,
          139,
          140,
          141,
          142,
          143,
          144,
          145,
          146,
          147,
          148,
          149,
          150,
          151,
          152,
          153,
          154,
          155,
          156,
          157,
          158,
          159,
          160,
          161,
          162,
          163,
          164,
          165,
          166,
          167,
          168,
          169,
          170,
          171,
          172,
          173,
          174,
          175,
          176,
          177,
          178,
          179,
          180,
          181,
          182,
          183,
          184,
          185,
          186,
          187,
          188,
          189,
          190,
          191,
          192,
          193,
          194,
          195,
          196,
          197,
          198,
          199,
          200,
          201,
          202,
          203,
          204,
          205,
          206,
          207,
          208,
          209,
          210,
          211,
          212,
          213,
          214,
          215,
          216,
          217,
          218,
          219,
          220,
          221,
          222,
          223,
          224,
          225,
          226,
          227,
          228,
          229,
          230,
          231,
          232,
          233,
          234,
          235,
          236,
          237,
          238,
          239,
          240,
          241,
          242,
          243,
          244,
          245,
          246,
          247,
          248,
          249,
          250,
          251,
          252,
          253,
          254,
          255,
          256,
          257,
          258,
          259,
          260,
          261,
          262,
          263,
          264,
          265,
          266,
          267,
          268,
          269,
          270,
          271,
          272,
          273,
          274,
          275,
          276,
          277,
          278,
          279,
          280,
          281,
          282,
          283,
          284,
          285,
          286,
          287,
          288,
          289,
          290,
          291,
          292,
          293,
          294,
          295,
          296,
          297,
          298,
          299,
          300,
          301,
          302,
          303,
          304,
          305,
          306,
          307,
          308,
          309,
          310,
          311,
          312,
          313,
          314,
          315,
          316,
          317,
          318,
          319,
          320,
          321,
          322,
          323,
          324,
          325,
          326,
          327,
          328,
          329,
          330,
          331,
          332,
          333,
          334,
          335,
          336,
          337,
          338,
          339,
          340,
          341,
          342,
          343,
          344,
          345,
          346,
          347,
          348,
          349,
          350,
          351,
          352,
          353,
          354,
          355,
          356,
          357,
          358,
          359,
          360,
          361,
          362,
          363,
          364,
          365,
          366,
          367,
          368,
          369,
          370,
          371,
          372,
          373,
          374,
          375,
          376,
          377,
          378,
          379,
          380,
          381,
          382,
          383,
          384,
          385,
          386,
          387,
          388,
          389,
          390,
          391,
          392,
          393,
          394,
          395,
          396,
          397,
          398,
          399,
          400,
          401,
          402,
          403,
          404,
          405,
          406,
          407,
          408,
          409,
          410,
          411,
          412,
          413,
          414,
          415,
          416,
          417,
          418,
          419,
          420,
          421,
          422,
          423,
          424,
          425,
          426,
          427,
          428,
          429,
          430,
          431,
          432,
          433,
          434,
          435,
          436,
          437,
          438,
          439,
          440,
          441,
          442,
          443,
          444,
          445,
          446,
          447,
          448,
          449,
          450,
          451,
          452,
          453,
          454,
          455,
          456,
          457,
          458,
          459,
          460,
          461,
          462,
          463,
          464,
          465,
          466,
          467,
          468,
          469,
          470,
          471,
          472,
          473,
          474,
          475,
          476,
          477,
          478,
          479,
          480,
          481,
          482,
          483,
          484,
          485,
          486,
          487,
          488,
          489,
          490,
          491,
          492,
          493,
          494,
          495,
          496,
          497,
          498,
          499
         ],
         "y": [
          78.66833180353566,
          75.78514754407158,
          73.31315359745638,
          75.55293655975055,
          77.79118525265821,
          75.46719491931896,
          77.86696776003126,
          78.22395369476831,
          78.46598846170443,
          78.2125631189878,
          76.13337888735758,
          78.50517940730668,
          78.87076979723793,
          77.73218175657868,
          78.43075203300242,
          77.57209187322137,
          78.7707403272729,
          78.69493708080503,
          78.67680062122774,
          76.23881140709781,
          77.74655541287675,
          77.85939197924935,
          77.73818314000258,
          77.92818712209151,
          77.69806712757322,
          78.15792412035296,
          78.75884521360958,
          78.6149081819694,
          78.97447086273827,
          78.73570019836188,
          78.37350875811524,
          79.01000723060822,
          77.86686522839963,
          78.84497077438455,
          78.65681460774447,
          77.86167691635623,
          79.45317470258367,
          77.46509716162298,
          78.66811218720892,
          78.10315056682794,
          77.55582968770408,
          78.03316070490692,
          78.35527748579214,
          78.6531459413051,
          76.16214678290899,
          73.04167835560152,
          76.6939678980382,
          74.90608539760652,
          75.53546276902678,
          71.48617620475224,
          78.05532509123643,
          78.56036247580413,
          77.20246055776069,
          79.17746547818578,
          78.05876572763648,
          78.93133449388479,
          77.99301616202965,
          78.54159323078514,
          78.54470488515555,
          78.2292859125326,
          78.43085175267689,
          77.86744590180365,
          77.26666918574152,
          78.1018710888245,
          79.17373683364592,
          78.5466947068208,
          78.34625719347531,
          77.83869814442491,
          79.1670334164011,
          77.3090838994659,
          78.5897354120311,
          77.6567934190568,
          78.43711624563856,
          78.69914686152092,
          78.78521654341792,
          78.30227552491667,
          78.24465034052182,
          76.96744897280394,
          78.40338982787738,
          78.99991848508226,
          78.92274125838047,
          78.03783764090362,
          78.8436486353439,
          78.49039990268398,
          78.67232511384012,
          78.467954508396,
          78.30519709873867,
          78.07304174431206,
          78.16683635835938,
          77.8936201080174,
          78.97216028243382,
          79.63947088609113,
          78.04624991506266,
          77.78872468906512,
          78.6869765751155,
          79.14136537937502,
          77.82979059346331,
          77.97877542021038,
          77.74734100480643,
          78.70169196093498,
          77.12184242446791,
          76.42003070046158,
          77.7768823131305,
          76.34933325601084,
          78.90472299647851,
          76.93862758593778,
          77.50398344384746,
          74.35192363890695,
          73.42553001678166,
          77.207349662535,
          77.5977964031247,
          77.16048553398777,
          76.7932549126854,
          78.77657303092688,
          75.09846638374938,
          78.01359718255121,
          78.66767061409858,
          78.37277362802602,
          78.64848754085308,
          78.07932600314578,
          78.40029954670474,
          77.6231854873615,
          75.32096625203776,
          78.57545668107686,
          76.04396982237226,
          72.78955754739064,
          76.07114363238279,
          77.4345669669458,
          78.06945763205745,
          78.09293068806996,
          77.02956853426733,
          77.15126338962486,
          78.43505479995318,
          77.16524991010495,
          77.72365314973051,
          77.86925705590698,
          74.20500596831872,
          78.21927660932674,
          77.27496186931876,
          76.16222979229278,
          77.13842319838537,
          78.30750258690313,
          77.55660877649719,
          73.7171088106033,
          77.80630385094568,
          77.53132142868661,
          77.99934091898693,
          77.42722021893013,
          77.561492893903,
          78.84212289900577,
          78.12807849368228,
          78.21795038296133,
          78.84482356366416,
          77.18170375827516,
          78.40267183344096,
          77.91004396605088,
          78.51524206014022,
          78.82345380395236,
          78.61724787233314,
          77.74444017997585,
          79.28873491896967,
          78.49151139521817,
          79.00082771024046,
          79.28760777281425,
          79.6705209811816,
          77.57904915933435,
          78.61172252604455,
          78.68989602541606,
          76.55424594987737,
          78.55822295667674,
          78.75664221282454,
          77.42711683671192,
          79.26289509572209,
          78.8113178211209,
          79.11158927207012,
          78.73663728331937,
          77.99185050457164,
          78.5522920441778,
          79.36889270021683,
          79.32997005113113,
          78.83440644569147,
          78.4188095200005,
          78.37725017970786,
          77.60653488737312,
          78.77110443287563,
          78.68726241241589,
          78.78931425172016,
          78.9820074956207,
          78.14662859583821,
          78.09282018135897,
          79.19782422466182,
          78.244366347585,
          77.72894549212647,
          78.09071624955308,
          78.16182567683441,
          78.1378987180765,
          78.50991046008566,
          78.13707225755942,
          78.42535099017866,
          78.05136335851039,
          78.29498696421653,
          78.75185303285386,
          77.02975425358576,
          78.95075875942578,
          78.50147424259481,
          78.9562225289999,
          79.07091171191703,
          78.25870577708938,
          79.29125446417375,
          78.57253801891152,
          79.45156530042276,
          78.57808769523014,
          78.91452226112267,
          78.89416584592871,
          78.83516456826489,
          78.69424809314403,
          78.07460727837321,
          78.32022341536994,
          78.23639959241872,
          78.83749845618054,
          78.25269295296965,
          73.87295182500226,
          79.1956805075078,
          78.01483549508157,
          79.03370535829296,
          78.32108446420627,
          78.21091411969951,
          78.44555389712674,
          78.09154078959861,
          77.66865373928667,
          77.26293985095514,
          77.58849430550559,
          78.12716328882253,
          78.21303730118277,
          77.88503245299283,
          78.64988719229922,
          78.0475206327043,
          77.52156814974384,
          79.11473680541079,
          78.77303697738408,
          78.03722199421743,
          76.87464770113729,
          77.88748691586743,
          77.5964147683973,
          77.59389704521644,
          77.33842371537463,
          78.70633238212979,
          77.04373030071302,
          78.34265964071997,
          78.55956241035432,
          78.5661958730567,
          78.65584775700259,
          77.81682478359258,
          79.24746329949843,
          78.34623750791505,
          78.66196170480785,
          79.21224412480431,
          77.58967317992077,
          78.74140477793517,
          78.8220226320431,
          78.71605637315608,
          76.88249334398559,
          78.07761183702077,
          78.30658749446636,
          78.6540253307844,
          79.09646976628761,
          78.3375004588393,
          78.77884005355475,
          78.88765814921648,
          78.37107171943435,
          78.64550481050956,
          78.83445423760023,
          78.2821897519245,
          78.58679376104618,
          78.65727070034686,
          78.22177946483183,
          78.2404521587104,
          77.96740013789123,
          78.86474433795198,
          78.69738398380014,
          78.93908701739927,
          78.40143035292533,
          78.40882554941399,
          78.58423554370995,
          78.58777874820757,
          79.29904172309449,
          78.71159211804408,
          79.33813150086566,
          78.88385047675487,
          78.5538477193147,
          79.2732954759147,
          79.30652902192041,
          78.39977254797938,
          79.12402760910865,
          78.31778688545134,
          79.22253643986444,
          77.89018556791065,
          79.08907936153473,
          78.57621419669084,
          78.63285900827209,
          77.6615610381388,
          78.26739222850236,
          78.03107048804246,
          78.06097888828575,
          77.49827150251622,
          77.02548278145863,
          78.67655031151108,
          78.61290206794587,
          75.61970037293138,
          78.4828541232901,
          78.62581750283542,
          79.14473487474359,
          75.8873234484975,
          78.15186844939308,
          78.83888181145832,
          79.30131099855504,
          77.65153458063202,
          79.46974423586158,
          78.33941866135807,
          78.43956164634326,
          78.8123752413749,
          78.74422666938645,
          78.43568424078221,
          78.76025238947776,
          78.67616729942509,
          77.71454802463464,
          78.45587497536664,
          78.84602837571873,
          78.28521811794087,
          78.04903154187099,
          77.4703153753301,
          78.81058590636076,
          78.30537985182606,
          79.27919686339295,
          78.82661181925384,
          78.16717805733937,
          79.09063134137806,
          78.17960402996357,
          78.0925697997021,
          79.23574819823062,
          78.9499052091033,
          78.3792472054234,
          75.29876489276032,
          77.28246617351094,
          78.06796367768082,
          78.71105127991264,
          78.18549561609177,
          78.74089310194925,
          78.90856963435473,
          78.81734018661899,
          77.60355288994312,
          78.83325166709933,
          78.59474562294551,
          71.82432971536058,
          78.85231335566904,
          78.20218803472957,
          78.39584186368657,
          75.72075242660911,
          76.7828678434769,
          77.51913755490864,
          76.90940955754635,
          77.91657322716382,
          77.97104680460117,
          78.24163899153291,
          77.70799083841362,
          78.83195485401583,
          77.25973581137801,
          78.32445620067804,
          78.9781263072926,
          78.7150775834191,
          78.08077669316941,
          77.92655647499356,
          78.51897680451424,
          77.28959664497076,
          78.44665496941107,
          77.74004938108999,
          78.1786503090081,
          75.47328729636315,
          72.72522419714727,
          77.09719661735488,
          73.69646852556664,
          78.16531482778022,
          78.32968599917486,
          78.27369906366604,
          75.23550613036254,
          77.75085787186883,
          78.33089316126905,
          74.12597234276717,
          71.41048704488274,
          77.96579294704716,
          77.45776388490995,
          75.19719970149467,
          77.95803277358212,
          74.61822839495355,
          75.57955488979562,
          77.86703726088136,
          77.6528015916141,
          77.83789263737442,
          70.5530611008268,
          76.85244065136881,
          77.04029313393818,
          76.58935636287103,
          77.4474062533851,
          77.15079486506633,
          77.85796810705638,
          78.44623440039531,
          76.06175528618961,
          78.46110571639421,
          78.01623879224078,
          76.00746613299428,
          76.69190522330571,
          74.34050974973334,
          77.44273193707798,
          77.38660181671953,
          73.55682686350227,
          75.66355918548801,
          77.6958958255178,
          77.78187662390698,
          76.82799456507755,
          76.34476726410782,
          76.11554786325951,
          76.81042346622905,
          76.81404600067559,
          76.47863812977471,
          78.04610270858352,
          75.87261567301438,
          77.3781499226906,
          77.65995892730368,
          78.26930534880934,
          76.9316229845326,
          76.18602538812584,
          79.68152567247867,
          77.55835362362369,
          77.00929795794899,
          77.74543116722586,
          79.32078910982356,
          76.81086443822197,
          79.03188257574564,
          77.97606640563203,
          77.89773647096364,
          76.04103048688829,
          77.25369140171806,
          76.70976312789098,
          77.76962064319261,
          77.67509854228067,
          78.88150767620017,
          77.73902059581597,
          76.0512042601554,
          75.54672068741326,
          77.32329933530518,
          77.84930114620606,
          78.94275371945639,
          78.44653362689249,
          79.25945849677947,
          79.01303794384626,
          77.29728323614434,
          78.23332285640187,
          77.55228646189101,
          77.86167708008725,
          79.12828310682293,
          77.79697599516852,
          78.3131977615438,
          77.9429715814252,
          78.35191535772633,
          78.40934082673162,
          78.2931450403317,
          78.39360337832754,
          79.3957600813374,
          78.2247395154365,
          77.96517980620669,
          78.67841810775234,
          78.19468566989946,
          78.72901742811972,
          78.70497276128395,
          78.34138449098218,
          78.7353069355789,
          78.50411663394975,
          78.44555023353675,
          78.40333217424924,
          78.37607140269031,
          78.7128653812926,
          77.50968453205466,
          78.59245066829583,
          78.3204039998857,
          78.1279277615516,
          78.95382630276033,
          78.57258363827793,
          78.59076506243792,
          77.79716879016955,
          77.6758386292322,
          78.64081884215925,
          77.94444472761862,
          79.00605863269962,
          78.70424218309357,
          78.51999771151841,
          75.10078071689216,
          77.86730899192384,
          77.99766767641555,
          78.12948807479547,
          78.73097314002533
         ]
        },
        {
         "mode": "lines",
         "name": "Best Value",
         "type": "scatter",
         "x": [
          0,
          1,
          2,
          3,
          4,
          5,
          6,
          7,
          8,
          9,
          10,
          11,
          12,
          13,
          14,
          15,
          16,
          17,
          18,
          19,
          20,
          21,
          22,
          23,
          24,
          25,
          26,
          27,
          28,
          29,
          30,
          31,
          32,
          33,
          34,
          35,
          36,
          37,
          38,
          39,
          40,
          41,
          42,
          43,
          44,
          45,
          46,
          47,
          48,
          49,
          50,
          51,
          52,
          53,
          54,
          55,
          56,
          57,
          58,
          59,
          60,
          61,
          62,
          63,
          64,
          65,
          66,
          67,
          68,
          69,
          70,
          71,
          72,
          73,
          74,
          75,
          76,
          77,
          78,
          79,
          80,
          81,
          82,
          83,
          84,
          85,
          86,
          87,
          88,
          89,
          90,
          91,
          92,
          93,
          94,
          95,
          96,
          97,
          98,
          99,
          100,
          101,
          102,
          103,
          104,
          105,
          106,
          107,
          108,
          109,
          110,
          111,
          112,
          113,
          114,
          115,
          116,
          117,
          118,
          119,
          120,
          121,
          122,
          123,
          124,
          125,
          126,
          127,
          128,
          129,
          130,
          131,
          132,
          133,
          134,
          135,
          136,
          137,
          138,
          139,
          140,
          141,
          142,
          143,
          144,
          145,
          146,
          147,
          148,
          149,
          150,
          151,
          152,
          153,
          154,
          155,
          156,
          157,
          158,
          159,
          160,
          161,
          162,
          163,
          164,
          165,
          166,
          167,
          168,
          169,
          170,
          171,
          172,
          173,
          174,
          175,
          176,
          177,
          178,
          179,
          180,
          181,
          182,
          183,
          184,
          185,
          186,
          187,
          188,
          189,
          190,
          191,
          192,
          193,
          194,
          195,
          196,
          197,
          198,
          199,
          200,
          201,
          202,
          203,
          204,
          205,
          206,
          207,
          208,
          209,
          210,
          211,
          212,
          213,
          214,
          215,
          216,
          217,
          218,
          219,
          220,
          221,
          222,
          223,
          224,
          225,
          226,
          227,
          228,
          229,
          230,
          231,
          232,
          233,
          234,
          235,
          236,
          237,
          238,
          239,
          240,
          241,
          242,
          243,
          244,
          245,
          246,
          247,
          248,
          249,
          250,
          251,
          252,
          253,
          254,
          255,
          256,
          257,
          258,
          259,
          260,
          261,
          262,
          263,
          264,
          265,
          266,
          267,
          268,
          269,
          270,
          271,
          272,
          273,
          274,
          275,
          276,
          277,
          278,
          279,
          280,
          281,
          282,
          283,
          284,
          285,
          286,
          287,
          288,
          289,
          290,
          291,
          292,
          293,
          294,
          295,
          296,
          297,
          298,
          299,
          300,
          301,
          302,
          303,
          304,
          305,
          306,
          307,
          308,
          309,
          310,
          311,
          312,
          313,
          314,
          315,
          316,
          317,
          318,
          319,
          320,
          321,
          322,
          323,
          324,
          325,
          326,
          327,
          328,
          329,
          330,
          331,
          332,
          333,
          334,
          335,
          336,
          337,
          338,
          339,
          340,
          341,
          342,
          343,
          344,
          345,
          346,
          347,
          348,
          349,
          350,
          351,
          352,
          353,
          354,
          355,
          356,
          357,
          358,
          359,
          360,
          361,
          362,
          363,
          364,
          365,
          366,
          367,
          368,
          369,
          370,
          371,
          372,
          373,
          374,
          375,
          376,
          377,
          378,
          379,
          380,
          381,
          382,
          383,
          384,
          385,
          386,
          387,
          388,
          389,
          390,
          391,
          392,
          393,
          394,
          395,
          396,
          397,
          398,
          399,
          400,
          401,
          402,
          403,
          404,
          405,
          406,
          407,
          408,
          409,
          410,
          411,
          412,
          413,
          414,
          415,
          416,
          417,
          418,
          419,
          420,
          421,
          422,
          423,
          424,
          425,
          426,
          427,
          428,
          429,
          430,
          431,
          432,
          433,
          434,
          435,
          436,
          437,
          438,
          439,
          440,
          441,
          442,
          443,
          444,
          445,
          446,
          447,
          448,
          449,
          450,
          451,
          452,
          453,
          454,
          455,
          456,
          457,
          458,
          459,
          460,
          461,
          462,
          463,
          464,
          465,
          466,
          467,
          468,
          469,
          470,
          471,
          472,
          473,
          474,
          475,
          476,
          477,
          478,
          479,
          480,
          481,
          482,
          483,
          484,
          485,
          486,
          487,
          488,
          489,
          490,
          491,
          492,
          493,
          494,
          495,
          496,
          497,
          498,
          499
         ],
         "y": [
          78.66833180353566,
          78.66833180353566,
          78.66833180353566,
          78.66833180353566,
          78.66833180353566,
          78.66833180353566,
          78.66833180353566,
          78.66833180353566,
          78.66833180353566,
          78.66833180353566,
          78.66833180353566,
          78.66833180353566,
          78.87076979723793,
          78.87076979723793,
          78.87076979723793,
          78.87076979723793,
          78.87076979723793,
          78.87076979723793,
          78.87076979723793,
          78.87076979723793,
          78.87076979723793,
          78.87076979723793,
          78.87076979723793,
          78.87076979723793,
          78.87076979723793,
          78.87076979723793,
          78.87076979723793,
          78.87076979723793,
          78.97447086273827,
          78.97447086273827,
          78.97447086273827,
          79.01000723060822,
          79.01000723060822,
          79.01000723060822,
          79.01000723060822,
          79.01000723060822,
          79.45317470258367,
          79.45317470258367,
          79.45317470258367,
          79.45317470258367,
          79.45317470258367,
          79.45317470258367,
          79.45317470258367,
          79.45317470258367,
          79.45317470258367,
          79.45317470258367,
          79.45317470258367,
          79.45317470258367,
          79.45317470258367,
          79.45317470258367,
          79.45317470258367,
          79.45317470258367,
          79.45317470258367,
          79.45317470258367,
          79.45317470258367,
          79.45317470258367,
          79.45317470258367,
          79.45317470258367,
          79.45317470258367,
          79.45317470258367,
          79.45317470258367,
          79.45317470258367,
          79.45317470258367,
          79.45317470258367,
          79.45317470258367,
          79.45317470258367,
          79.45317470258367,
          79.45317470258367,
          79.45317470258367,
          79.45317470258367,
          79.45317470258367,
          79.45317470258367,
          79.45317470258367,
          79.45317470258367,
          79.45317470258367,
          79.45317470258367,
          79.45317470258367,
          79.45317470258367,
          79.45317470258367,
          79.45317470258367,
          79.45317470258367,
          79.45317470258367,
          79.45317470258367,
          79.45317470258367,
          79.45317470258367,
          79.45317470258367,
          79.45317470258367,
          79.45317470258367,
          79.45317470258367,
          79.45317470258367,
          79.45317470258367,
          79.63947088609113,
          79.63947088609113,
          79.63947088609113,
          79.63947088609113,
          79.63947088609113,
          79.63947088609113,
          79.63947088609113,
          79.63947088609113,
          79.63947088609113,
          79.63947088609113,
          79.63947088609113,
          79.63947088609113,
          79.63947088609113,
          79.63947088609113,
          79.63947088609113,
          79.63947088609113,
          79.63947088609113,
          79.63947088609113,
          79.63947088609113,
          79.63947088609113,
          79.63947088609113,
          79.63947088609113,
          79.63947088609113,
          79.63947088609113,
          79.63947088609113,
          79.63947088609113,
          79.63947088609113,
          79.63947088609113,
          79.63947088609113,
          79.63947088609113,
          79.63947088609113,
          79.63947088609113,
          79.63947088609113,
          79.63947088609113,
          79.63947088609113,
          79.63947088609113,
          79.63947088609113,
          79.63947088609113,
          79.63947088609113,
          79.63947088609113,
          79.63947088609113,
          79.63947088609113,
          79.63947088609113,
          79.63947088609113,
          79.63947088609113,
          79.63947088609113,
          79.63947088609113,
          79.63947088609113,
          79.63947088609113,
          79.63947088609113,
          79.63947088609113,
          79.63947088609113,
          79.63947088609113,
          79.63947088609113,
          79.63947088609113,
          79.63947088609113,
          79.63947088609113,
          79.63947088609113,
          79.63947088609113,
          79.63947088609113,
          79.63947088609113,
          79.63947088609113,
          79.63947088609113,
          79.63947088609113,
          79.63947088609113,
          79.63947088609113,
          79.63947088609113,
          79.63947088609113,
          79.63947088609113,
          79.63947088609113,
          79.63947088609113,
          79.63947088609113,
          79.63947088609113,
          79.6705209811816,
          79.6705209811816,
          79.6705209811816,
          79.6705209811816,
          79.6705209811816,
          79.6705209811816,
          79.6705209811816,
          79.6705209811816,
          79.6705209811816,
          79.6705209811816,
          79.6705209811816,
          79.6705209811816,
          79.6705209811816,
          79.6705209811816,
          79.6705209811816,
          79.6705209811816,
          79.6705209811816,
          79.6705209811816,
          79.6705209811816,
          79.6705209811816,
          79.6705209811816,
          79.6705209811816,
          79.6705209811816,
          79.6705209811816,
          79.6705209811816,
          79.6705209811816,
          79.6705209811816,
          79.6705209811816,
          79.6705209811816,
          79.6705209811816,
          79.6705209811816,
          79.6705209811816,
          79.6705209811816,
          79.6705209811816,
          79.6705209811816,
          79.6705209811816,
          79.6705209811816,
          79.6705209811816,
          79.6705209811816,
          79.6705209811816,
          79.6705209811816,
          79.6705209811816,
          79.6705209811816,
          79.6705209811816,
          79.6705209811816,
          79.6705209811816,
          79.6705209811816,
          79.6705209811816,
          79.6705209811816,
          79.6705209811816,
          79.6705209811816,
          79.6705209811816,
          79.6705209811816,
          79.6705209811816,
          79.6705209811816,
          79.6705209811816,
          79.6705209811816,
          79.6705209811816,
          79.6705209811816,
          79.6705209811816,
          79.6705209811816,
          79.6705209811816,
          79.6705209811816,
          79.6705209811816,
          79.6705209811816,
          79.6705209811816,
          79.6705209811816,
          79.6705209811816,
          79.6705209811816,
          79.6705209811816,
          79.6705209811816,
          79.6705209811816,
          79.6705209811816,
          79.6705209811816,
          79.6705209811816,
          79.6705209811816,
          79.6705209811816,
          79.6705209811816,
          79.6705209811816,
          79.6705209811816,
          79.6705209811816,
          79.6705209811816,
          79.6705209811816,
          79.6705209811816,
          79.6705209811816,
          79.6705209811816,
          79.6705209811816,
          79.6705209811816,
          79.6705209811816,
          79.6705209811816,
          79.6705209811816,
          79.6705209811816,
          79.6705209811816,
          79.6705209811816,
          79.6705209811816,
          79.6705209811816,
          79.6705209811816,
          79.6705209811816,
          79.6705209811816,
          79.6705209811816,
          79.6705209811816,
          79.6705209811816,
          79.6705209811816,
          79.6705209811816,
          79.6705209811816,
          79.6705209811816,
          79.6705209811816,
          79.6705209811816,
          79.6705209811816,
          79.6705209811816,
          79.6705209811816,
          79.6705209811816,
          79.6705209811816,
          79.6705209811816,
          79.6705209811816,
          79.6705209811816,
          79.6705209811816,
          79.6705209811816,
          79.6705209811816,
          79.6705209811816,
          79.6705209811816,
          79.6705209811816,
          79.6705209811816,
          79.6705209811816,
          79.6705209811816,
          79.6705209811816,
          79.6705209811816,
          79.6705209811816,
          79.6705209811816,
          79.6705209811816,
          79.6705209811816,
          79.6705209811816,
          79.6705209811816,
          79.6705209811816,
          79.6705209811816,
          79.6705209811816,
          79.6705209811816,
          79.6705209811816,
          79.6705209811816,
          79.6705209811816,
          79.6705209811816,
          79.6705209811816,
          79.6705209811816,
          79.6705209811816,
          79.6705209811816,
          79.6705209811816,
          79.6705209811816,
          79.6705209811816,
          79.6705209811816,
          79.6705209811816,
          79.6705209811816,
          79.6705209811816,
          79.6705209811816,
          79.6705209811816,
          79.6705209811816,
          79.6705209811816,
          79.6705209811816,
          79.6705209811816,
          79.6705209811816,
          79.6705209811816,
          79.6705209811816,
          79.6705209811816,
          79.6705209811816,
          79.6705209811816,
          79.6705209811816,
          79.6705209811816,
          79.6705209811816,
          79.6705209811816,
          79.6705209811816,
          79.6705209811816,
          79.6705209811816,
          79.6705209811816,
          79.6705209811816,
          79.6705209811816,
          79.6705209811816,
          79.6705209811816,
          79.6705209811816,
          79.6705209811816,
          79.6705209811816,
          79.6705209811816,
          79.6705209811816,
          79.6705209811816,
          79.6705209811816,
          79.6705209811816,
          79.6705209811816,
          79.6705209811816,
          79.6705209811816,
          79.6705209811816,
          79.6705209811816,
          79.6705209811816,
          79.6705209811816,
          79.6705209811816,
          79.6705209811816,
          79.6705209811816,
          79.6705209811816,
          79.6705209811816,
          79.6705209811816,
          79.6705209811816,
          79.6705209811816,
          79.6705209811816,
          79.6705209811816,
          79.6705209811816,
          79.6705209811816,
          79.6705209811816,
          79.6705209811816,
          79.6705209811816,
          79.6705209811816,
          79.6705209811816,
          79.6705209811816,
          79.6705209811816,
          79.6705209811816,
          79.6705209811816,
          79.6705209811816,
          79.6705209811816,
          79.6705209811816,
          79.6705209811816,
          79.6705209811816,
          79.6705209811816,
          79.6705209811816,
          79.6705209811816,
          79.6705209811816,
          79.6705209811816,
          79.6705209811816,
          79.6705209811816,
          79.6705209811816,
          79.6705209811816,
          79.6705209811816,
          79.6705209811816,
          79.6705209811816,
          79.6705209811816,
          79.6705209811816,
          79.6705209811816,
          79.6705209811816,
          79.6705209811816,
          79.6705209811816,
          79.6705209811816,
          79.6705209811816,
          79.6705209811816,
          79.6705209811816,
          79.6705209811816,
          79.6705209811816,
          79.6705209811816,
          79.6705209811816,
          79.6705209811816,
          79.6705209811816,
          79.6705209811816,
          79.6705209811816,
          79.6705209811816,
          79.6705209811816,
          79.6705209811816,
          79.6705209811816,
          79.6705209811816,
          79.6705209811816,
          79.6705209811816,
          79.6705209811816,
          79.6705209811816,
          79.6705209811816,
          79.6705209811816,
          79.6705209811816,
          79.6705209811816,
          79.6705209811816,
          79.6705209811816,
          79.6705209811816,
          79.6705209811816,
          79.6705209811816,
          79.6705209811816,
          79.6705209811816,
          79.68152567247867,
          79.68152567247867,
          79.68152567247867,
          79.68152567247867,
          79.68152567247867,
          79.68152567247867,
          79.68152567247867,
          79.68152567247867,
          79.68152567247867,
          79.68152567247867,
          79.68152567247867,
          79.68152567247867,
          79.68152567247867,
          79.68152567247867,
          79.68152567247867,
          79.68152567247867,
          79.68152567247867,
          79.68152567247867,
          79.68152567247867,
          79.68152567247867,
          79.68152567247867,
          79.68152567247867,
          79.68152567247867,
          79.68152567247867,
          79.68152567247867,
          79.68152567247867,
          79.68152567247867,
          79.68152567247867,
          79.68152567247867,
          79.68152567247867,
          79.68152567247867,
          79.68152567247867,
          79.68152567247867,
          79.68152567247867,
          79.68152567247867,
          79.68152567247867,
          79.68152567247867,
          79.68152567247867,
          79.68152567247867,
          79.68152567247867,
          79.68152567247867,
          79.68152567247867,
          79.68152567247867,
          79.68152567247867,
          79.68152567247867,
          79.68152567247867,
          79.68152567247867,
          79.68152567247867,
          79.68152567247867,
          79.68152567247867,
          79.68152567247867,
          79.68152567247867,
          79.68152567247867,
          79.68152567247867,
          79.68152567247867,
          79.68152567247867,
          79.68152567247867,
          79.68152567247867,
          79.68152567247867,
          79.68152567247867,
          79.68152567247867,
          79.68152567247867,
          79.68152567247867,
          79.68152567247867,
          79.68152567247867,
          79.68152567247867,
          79.68152567247867,
          79.68152567247867,
          79.68152567247867
         ]
        },
        {
         "marker": {
          "color": "#cccccc"
         },
         "mode": "markers",
         "name": "Infeasible Trial",
         "showlegend": false,
         "type": "scatter",
         "x": [],
         "y": []
        }
       ],
       "layout": {
        "height": 594,
        "margin": {
         "b": 60,
         "l": 60,
         "r": 30,
         "t": 30
        },
        "showlegend": false,
        "template": {
         "layout": {
          "colorway": [
           "#002D72",
           "#E2001A",
           "#5A5A5A",
           "#2C74B3",
           "#A1C9F4"
          ],
          "font": {
           "color": "#002D72",
           "family": "Arial, sans-serif",
           "size": 14
          },
          "paper_bgcolor": "white",
          "plot_bgcolor": "white",
          "title": {
           "font": {
            "color": "#002D72",
            "size": 20
           }
          },
          "xaxis": {
           "gridcolor": "#D1D1D1",
           "linecolor": "#002D72",
           "zerolinecolor": "#D1D1D1"
          },
          "yaxis": {
           "gridcolor": "#D1D1D1",
           "linecolor": "#002D72",
           "zerolinecolor": "#D1D1D1"
          }
         }
        },
        "title": {},
        "width": 960,
        "xaxis": {
         "title": {
          "text": "Trial"
         }
        },
        "yaxis": {
         "title": {
          "text": "Objective Value"
         }
        }
       }
      }
     },
     "metadata": {},
     "output_type": "display_data"
    }
   ],
   "source": [
    "rdc_fig_hist = optuna.visualization.plot_optimization_history(rdc_aggregated_study)\n",
    "rdc_fig_hist.update_layout(width=960, height=594, showlegend=False, title=None, margin=dict(l=60, r=30, t=30, b=60))\n",
    "rdc_fig_hist.show()"
   ]
  },
  {
   "cell_type": "code",
   "execution_count": 12,
   "metadata": {},
   "outputs": [],
   "source": [
    "rdc_full_params = {\n",
    "        col: col.replace(\"params_\", \"\")\n",
    "        for col in rdc_aggregated_study.trials_dataframe().columns\n",
    "        if col.startswith(\"params_\")\n",
    "    }\n",
    "rdc_full_params = list(rdc_full_params.values())"
   ]
  },
  {
   "cell_type": "code",
   "execution_count": 13,
   "metadata": {},
   "outputs": [
    {
     "data": {
      "application/vnd.plotly.v1+json": {
       "config": {
        "plotlyServerURL": "https://plot.ly"
       },
       "data": [
        {
         "marker": {
          "color": "#002D72",
          "opacity": 0.7
         },
         "mode": "markers",
         "type": "scatter",
         "x": {
          "bdata": "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",
          "dtype": "f8"
         },
         "xaxis": "x",
         "y": {
          "bdata": "/sPB8sWqU0CeFHzbP/JSQMvsYrUKVFJADDkGUGPjUkCmT3jHonJTQETVhIXm3VJAUgFYZnx3U0BKtuBBVY5TQF7VRMHSnVNA2xhXopqNU0Bfy5lHiQhTQKw/AtxUoFNA0F4+sbq3U0Duzt4Q3G5TQJSb+XCRm1NAw3I7J51kU0Ac1jzPU7FTQHa1YNl5rFNAe4WNs1CrU0Bm2aOvSA9TQEa9WpDHb1NAhlQ3RwB3U0BCMX9kPm9TQOR89Wpne1NAvdW+Ia1sU0CYCsVtG4pTQHnLg+uQsFNAfebYp1qnU0Bplwm7Xb5TQADoSLYVr1NA+DdHkeeXU0DlC171o8BTQAaBS7h6d1NArYNMABS2U0AL8yJACapTQPbd77Yld1NAK7530ADdU0CFqOImxF1TQMSHnlnCqlNAwMXVBJqGU0Bvta62kmNTQJrFE04fglNA357H3byWU0DqWqIkzalTQLpv5pxgClNAnZCx26pCUkARo1T4aSxTQJqGm039uVJAhUyiBUXiUkBG4MyCHd9RQI5gQHKKg1NA/96S+tyjU0D5kyAd9UxTQIY+Kphby1NAwpRT0cKDU0DNN/77mrtTQEYUqZONf1NAQn2ndqmiU0C77eBx3KJTQLXw0Z6sjlNA+so6E5ObU0Dw0tA7hHdTQBfnoRsRUVNAL7pQDoWGU0CrpxiBHstTQESsywv9olNAzH7uEymWU0BWYfs6rXVTQAoy7aywylNAR/vVB8hTU0De/Zg5vqVTQO3EQ+cIalNAWeRqtvmbU0BWVXrSvqxTQIWQ4/xAslNAfnlxe1iTU0DG3+ZZqI9TQHivGK/qPVNAb5GRI9GZU0AHBhqq/r9TQH/aWTEOu1NASY+R7muCU0B+h9hW/rVTQFD/RbZin1NAQg7qXwerU0DnZHf38p1TQKt6aVmIk1NACsRHt6yEU0D8u2dyrYpTQOW+ZBIxeVNAf+HC3ze+U0BboEsX7ehTQMMoNML1glNAR0Ued3pyU0BOz5hs96tTQPNMYCEMyVNABF0BSht1U0Cq+6hBpH5TQJ6mXW/Ub1NAPQVmheisU0C5FitEzEdTQBpzcsjhGlNAIO+XcLhxU0Axft95WxZTQB50SPvmuVNAei5weRI8U0A4Q8ZDQWBTQNzyueqFllJAymJA4jtbUkAq24Q3RU1TQJJF2EtCZlNAWf0dZUVKU0AC2ECwxDJTQFeyXl+zsVNAYH3yRU3GUkADmLfG3oBTQG8Dhx27qlNAt0vrhduXU0D19OLRgKlTQPJOX60ThVNA1Wz9gZ6ZU0DO42FF4mdTQM3nCLaK1FJAWV9CSNSkU0BjRs1m0AJTQJQWYRyIMlJAxpkFno0EU0AQvffxz1tTQD2JbP5xhFNAiYOOk/KFU0DO6mtz5EFTQFbho0yuSVNAEnEW8NebU0BV5Ft0k0pTQFvvTFVQblNABLxY6KF3U0B6WlrRHo1SQIN1wqAIjlNAwBer+ZhRU0BmFRH5YQpTQKqE+ezbSFNAzItUH66TU0A17mp6n2NTQL1NWhzlbVJA1px3e5pzU0Df95crAWJTQJ8mnTP1f1NArB95k1dbU0D8D+R/72NTQFKccVfltVNA7WsjcDKIU0AOvinm8o1TQPo02pYRtlNAidbMCKFLU0CO6RRgxZlTQBUHDCk+elNA3HTVufmgU0CAb5V3s7RTQJJMOP2Ap1NAx7Rs6KRvU0AHjAaietJTQLIENux0n1NAdBqrjw3AU0AClG4qaNJTQDxd1dDp6lNAgoc0JA9lU0Cf5Tx2JqdTQFqzqEEnrFNAeyoBxHgjU0Bls8fsuaNTQLC2ddNssFNA6k/b4VVbU0DumfNF09BTQBQYlaHss1NACohURyTHU0C+N7QQJa9TQAHqiXp6f1NAa+W6wFijU0CGyiDwm9dTQCGRtDoe1VNAQfRK6ma1U0D16XHGzZpTQFgQ8N0kmFNAo0m0d9FmU0AYQGjGWbFTQCpGfBv8q1NA6FnsH4SyU0CKh/c12b5TQCXy51xiiVNAHtYOxPCFU0Dc0e8mqcxTQLfHv7Kjj1NA/U/+CqduU0D2QodLzoVTQApqFVpbilNAIRMlVdOIU0AzfXtfoqBTQAbat8rFiFNA3ghc8zibU0DzQIqJSYNTQJsDARHhklNAXuAuXB6wU0BWhGJ+50FTQKKHRDvZvFNAyu5rJxigU0AxcPq/Mr1TQJLlRtGJxFNApvisoo6QU0AtnMPpo9JTQEO8gHakpFNAv1QlcubcU0DxTohj/6RTQBi/YIiHulNAsl1iAzq5U0Bx3hZWc7VTQEvXjY9urFNABCqbXcaEU0BZG1qKfpRTQHmOwSshj1NAve8fk5m1U0DMOxAfLJBTQJHXVHHed1JAfA2JB4bMU0CAjJMQ84BTQF7khDoowlNAQUHapYyUU0Dwl++df41TQPEwfvSDnFNA3mTmzduFU0BmpQ05y2pTQLcqqwHUUFNA1wEF5KllU0Cnr31xI4hTQB5aNGeijVNAL2AoX6R4U0DsQHPAl6lTQGrW+pMKg1NAPnJgX2FhU0DCuArZV8dTQKcdFnB5sVNAxfZb2GGCU0AA+lk6+jdTQNPR65XMeFNAikfZqCtmU0BSmcBoAmZTQGRu8buoVVNAm1a8jDStU0AH2ix6zEJTQEqjsyLulVNAvCLb3s+jU0Aoep2NPKRTQMre3mj5qVNA6gV120Z0U0CWk05w1s9TQDJJXcEollNAqlaglF2qU0Bfs2Folc1TQKLFkzS9ZVNAGpUGLXOvU0CbTNAEnLRTQA4zHN7TrVNAxdZcxXo4U0BZcqOX94RTQB6GJyGfk1NAYJ4PjdupU0CE0IaPLMZTQGNGhpuZlVNASLXzg9ixU0BpOiBkz7hTQDrcmKO/l1NAJ6No80+pU0AaIL+yZ7VTQA7ymmUPklNALExrB46lU0D2piC5EKpTQCIYf6IxjlNAe3pzkWOPU0DhmETi6X1TQOq5ovhXt1NAQMtu8KGsU0D/9G4AGrxTQOhb7wixmVNAJiCjMiqaU0BIWXodZKVTQHY1wSqepVNAJDXlfyPTU0DOxaq5iq1TQMl9TvKj1VNA1g2XAZG4U0DvWrQ9cqNTQLLMTqx90VNAExvnK57TU0A+2pjflZlTQA47fxHwx1NAHgfOnlaUU0C12HoJPs5TQAlj48z4eFNAkyLsebPFU0DMkYKx4KRTQH3gEcOAqFNAS8cbBFdqU0DSJ0v0HJFTQNeAEg/9gVNAwrv+E+eDU0CA9Seu419TQHY+iIKhQVNAeoKtmUyrU0CcXpjJOadTQMvDwCup51JAQxH7FOeeU0BS/NpkDahTQFJnEFZDyVNAUxFK6Mn4UkAA3HE2uIlTQA5bVj2wtVNABC7trUjTU0DEARm+smlTQKSgIEoQ3lNA14sMCbmVU0Cy5yvHIZxTQEJyufT9s1NA2nTlaKGvU0CzYidA4ptTQNJgo/mnsFNA8mk1U0arU0CKTqMnu21TQO6QOw4tnVNAzEwzVCW2U0AYMn4DQZJTQLwzMVUjg1NAUvaopRleU0DAmrWj4LNTQNEc71eLk1NAyVqFXN7RU0Cri0I157RTQGk4mAuzilNAh81l58zFU0AYu+ahfotTQFeU4anshVNAdF+cfxbPU0CF2Tc/y7xTQCUZEpZFmFNATubI9h7TUkArXQDtE1JTQB89U4RZhFNAPUA63YGtU0CYKgEp34tTQA+t5spqr1NATmxAASa6U0AMzzZNT7RTQJHtTJygZlNA3eHM/lO1U0Be//FPEKZTQA8mbNHB9FFAuSJRTYy2U0CWMxWm8IxTQPq6HHlVmVNAHzPJziDuUkCxNLqBGjJTQFAduYw5YVNANhUlxDM6U0Czw8AiqXpTQG4pf6ElflNAoIRjA3ePU0CqNs64T21TQMZvkr8+tVNA/d3zgp9QU0BiufDjw5RTQHRLFZ+ZvlNA0bjE1MOtU0BE3AFyK4VTQKR/h7NMe1NAXLF86jahU0CRy13AiFJTQNqNuf6VnFNAOE0U+FxvU0AMp7QBb4tTQH3fzFZK3lJA/EDAEmouUkCMNCl4OEZTQCIAufCSbFJACbekhJSKU0DtGU6TGZVTQA7ZE0mEkVNAifpNiBLPUkC75ywODnBTQLiHglotlVNArBhN7g+IUkD/THRrRdpRQJqROI3PfVNAmr7kAExdU0DWLH/rnsxSQALCsWhQfVNALnLUDZGnUkAuemRtF+VSQIf52Yl9d1NAmLBTgMdpU0BFxXAIoHVTQGovY1plo1FAPdo7Y442U0AkIacplEJTQB4OwAO4JVNAJ5TWTaJcU0BWd4GfpklTQF00EPPodlNAEwO7Go+cU0CHonHM8wNTQFv6jMGCnVNAcmZuDgqBU0BvQjtTegBTQOWB2CxILFNAusRn6cqVUkBCqVW4VVxTQJ3YixW+WFNAshEkDaNjUkBpKPLAd+pSQGYBpY6JbFNA/ktARApyU0CGkerc/TRTQMQEt6oQFlNAoHTdImUHU0BY12L63TNTQNeVZVQZNFNAEIDSAaIeU0DjZ8ZY84JTQLlkaO/Y91JAOry7mzNYU0A+Xl7EPGpTQIlxgEw8kVNAPrECtp87U0B6jgfX5wtTQIqr2h2e61NAR0TWELxjU0DfU3ZWmEBTQN4p7SS1b1NAu+YLz4fUU0DH6fQz5TNTQPIIN10KwlNAfLo633d+U0DHzauDdHlTQL/UVT6gAlNA82ncejxQU0CzjFPCbC1TQK418XZBcVNADiuE0DRrU0D5HCyfarhTQGeGCh1Mb1NAIrI77kYDU0AkH8R4/eJSQBP9se+wVFNAQ9ox81p2U0DYT7ITVrxTQFIExwGUnFNAlJXP95rQU0BQmxmd1cBTQOU4RLAGU1NA8Wn9wu6OU0Ac9lCpWGNTQACsn7cld1NAwxtZyjXIU0CJvJqnAXNTQLXAn24LlFNA1dF5pVl8U0BDGf7HhZZTQLfu3aMymlNAZE1q48KSU0DDYDnMMJlTQAOaFyJU2VNAyzrZIWKOU0C2moWBxX1TQN9zyDNrq1NA9E3iunWMU0A//7Y4qK5TQESSEkYerVNAUwhWPtmVU0BWNdJED69TQMMLanJDoFNA/nAg5YOcU0DOdMAx0JlTQALhyY0RmFNAjMYelp+tU0DrHN+rnmBTQLs0NbbqpVNAEUHHf4GUU0BWB+z3L4hTQOUaen0LvVNAOCjYNaWkU0CUskMYz6VTQOPKPtAEc1NAQHuq8EBrU0ADbwgtA6lTQBqATMhxfFNAalO/Q2PAU0BvNs5NEq1TQNo9e6RHoVNAosf2MHPGUkC89ZL9gXdTQMqehsnZf1NA/Z1ZiEmIU0ByqpBDyK5TQA==",
          "dtype": "f8"
         },
         "yaxis": "y"
        },
        {
         "marker": {
          "color": "#002D72",
          "opacity": 0.7
         },
         "mode": "markers",
         "type": "scatter",
         "x": {
          "bdata": "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",
          "dtype": "f8"
         },
         "xaxis": "x2",
         "y": {
          "bdata": "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",
          "dtype": "f8"
         },
         "yaxis": "y2"
        },
        {
         "marker": {
          "color": "#002D72",
          "opacity": 0.7
         },
         "mode": "markers",
         "type": "scatter",
         "x": {
          "bdata": "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",
          "dtype": "f8"
         },
         "xaxis": "x3",
         "y": {
          "bdata": "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",
          "dtype": "f8"
         },
         "yaxis": "y3"
        },
        {
         "marker": {
          "color": "#002D72",
          "opacity": 0.7
         },
         "mode": "markers",
         "type": "scatter",
         "x": {
          "bdata": "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",
          "dtype": "f8"
         },
         "xaxis": "x4",
         "y": {
          "bdata": "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",
          "dtype": "f8"
         },
         "yaxis": "y4"
        },
        {
         "marker": {
          "color": "#002D72",
          "opacity": 0.7
         },
         "mode": "markers",
         "type": "scatter",
         "x": {
          "bdata": "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",
          "dtype": "f8"
         },
         "xaxis": "x5",
         "y": {
          "bdata": "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",
          "dtype": "f8"
         },
         "yaxis": "y5"
        },
        {
         "marker": {
          "color": "#002D72",
          "opacity": 0.7
         },
         "mode": "markers",
         "type": "scatter",
         "x": {
          "bdata": "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",
          "dtype": "f8"
         },
         "xaxis": "x6",
         "y": {
          "bdata": "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",
          "dtype": "f8"
         },
         "yaxis": "y6"
        },
        {
         "marker": {
          "color": "#002D72",
          "opacity": 0.7
         },
         "mode": "markers",
         "type": "scatter",
         "x": {
          "bdata": "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",
          "dtype": "f8"
         },
         "xaxis": "x7",
         "y": {
          "bdata": "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",
          "dtype": "f8"
         },
         "yaxis": "y7"
        },
        {
         "marker": {
          "color": "#002D72",
          "opacity": 0.7
         },
         "mode": "markers",
         "type": "scatter",
         "x": {
          "bdata": "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",
          "dtype": "f8"
         },
         "xaxis": "x8",
         "y": {
          "bdata": "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",
          "dtype": "f8"
         },
         "yaxis": "y8"
        },
        {
         "marker": {
          "color": "#002D72",
          "opacity": 0.7
         },
         "mode": "markers",
         "type": "scatter",
         "x": {
          "bdata": "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",
          "dtype": "f8"
         },
         "xaxis": "x9",
         "y": {
          "bdata": "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",
          "dtype": "f8"
         },
         "yaxis": "y9"
        },
        {
         "marker": {
          "color": "#002D72",
          "opacity": 0.7
         },
         "mode": "markers",
         "type": "scatter",
         "x": {
          "bdata": "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",
          "dtype": "f8"
         },
         "xaxis": "x10",
         "y": {
          "bdata": "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",
          "dtype": "f8"
         },
         "yaxis": "y10"
        },
        {
         "marker": {
          "color": "#002D72",
          "opacity": 0.7
         },
         "mode": "markers",
         "type": "scatter",
         "x": {
          "bdata": "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",
          "dtype": "f8"
         },
         "xaxis": "x11",
         "y": {
          "bdata": "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",
          "dtype": "f8"
         },
         "yaxis": "y11"
        },
        {
         "marker": {
          "color": "#002D72",
          "opacity": 0.7
         },
         "mode": "markers",
         "type": "scatter",
         "x": {
          "bdata": "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",
          "dtype": "f8"
         },
         "xaxis": "x12",
         "y": {
          "bdata": "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",
          "dtype": "f8"
         },
         "yaxis": "y12"
        },
        {
         "marker": {
          "color": "#002D72",
          "opacity": 0.7
         },
         "mode": "markers",
         "type": "scatter",
         "x": {
          "bdata": "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",
          "dtype": "f8"
         },
         "xaxis": "x13",
         "y": {
          "bdata": "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",
          "dtype": "f8"
         },
         "yaxis": "y13"
        }
       ],
       "layout": {
        "annotations": [
         {
          "font": {
           "size": 16
          },
          "showarrow": false,
          "text": "rdc_batch_size",
          "x": 0.14444444444444446,
          "xanchor": "center",
          "xref": "paper",
          "y": 1,
          "yanchor": "bottom",
          "yref": "paper"
         },
         {
          "font": {
           "size": 16
          },
          "showarrow": false,
          "text": "rdc_epsilon_decay",
          "x": 0.5,
          "xanchor": "center",
          "xref": "paper",
          "y": 1,
          "yanchor": "bottom",
          "yref": "paper"
         },
         {
          "font": {
           "size": 16
          },
          "showarrow": false,
          "text": "rdc_epsilon_end",
          "x": 0.8555555555555556,
          "xanchor": "center",
          "xref": "paper",
          "y": 1,
          "yanchor": "bottom",
          "yref": "paper"
         },
         {
          "font": {
           "size": 16
          },
          "showarrow": false,
          "text": "rdc_gamma",
          "x": 0.14444444444444446,
          "xanchor": "center",
          "xref": "paper",
          "y": 0.7949999999999999,
          "yanchor": "bottom",
          "yref": "paper"
         },
         {
          "font": {
           "size": 16
          },
          "showarrow": false,
          "text": "rdc_hidden_dim",
          "x": 0.5,
          "xanchor": "center",
          "xref": "paper",
          "y": 0.7949999999999999,
          "yanchor": "bottom",
          "yref": "paper"
         },
         {
          "font": {
           "size": 16
          },
          "showarrow": false,
          "text": "rdc_lr",
          "x": 0.8555555555555556,
          "xanchor": "center",
          "xref": "paper",
          "y": 0.7949999999999999,
          "yanchor": "bottom",
          "yref": "paper"
         },
         {
          "font": {
           "size": 16
          },
          "showarrow": false,
          "text": "rdc_lr_gamma",
          "x": 0.14444444444444446,
          "xanchor": "center",
          "xref": "paper",
          "y": 0.59,
          "yanchor": "bottom",
          "yref": "paper"
         },
         {
          "font": {
           "size": 16
          },
          "showarrow": false,
          "text": "rdc_lr_step_size",
          "x": 0.5,
          "xanchor": "center",
          "xref": "paper",
          "y": 0.59,
          "yanchor": "bottom",
          "yref": "paper"
         },
         {
          "font": {
           "size": 16
          },
          "showarrow": false,
          "text": "rdc_replay_buffer_alpha",
          "x": 0.8555555555555556,
          "xanchor": "center",
          "xref": "paper",
          "y": 0.59,
          "yanchor": "bottom",
          "yref": "paper"
         },
         {
          "font": {
           "size": 16
          },
          "showarrow": false,
          "text": "rdc_replay_buffer_beta_frames",
          "x": 0.14444444444444446,
          "xanchor": "center",
          "xref": "paper",
          "y": 0.385,
          "yanchor": "bottom",
          "yref": "paper"
         },
         {
          "font": {
           "size": 16
          },
          "showarrow": false,
          "text": "rdc_replay_buffer_beta_start",
          "x": 0.5,
          "xanchor": "center",
          "xref": "paper",
          "y": 0.385,
          "yanchor": "bottom",
          "yref": "paper"
         },
         {
          "font": {
           "size": 16
          },
          "showarrow": false,
          "text": "rdc_replay_buffer_capacity",
          "x": 0.8555555555555556,
          "xanchor": "center",
          "xref": "paper",
          "y": 0.385,
          "yanchor": "bottom",
          "yref": "paper"
         },
         {
          "font": {
           "size": 16
          },
          "showarrow": false,
          "text": "rdc_tau",
          "x": 0.14444444444444446,
          "xanchor": "center",
          "xref": "paper",
          "y": 0.18,
          "yanchor": "bottom",
          "yref": "paper"
         }
        ],
        "height": 2000,
        "margin": {
         "b": 30,
         "l": 60,
         "r": 30,
         "t": 30
        },
        "showlegend": false,
        "template": {
         "layout": {
          "colorway": [
           "#002D72",
           "#E2001A",
           "#5A5A5A",
           "#2C74B3",
           "#A1C9F4"
          ],
          "font": {
           "color": "#002D72",
           "family": "Arial, sans-serif",
           "size": 14
          },
          "paper_bgcolor": "white",
          "plot_bgcolor": "white",
          "title": {
           "font": {
            "color": "#002D72",
            "size": 20
           }
          },
          "xaxis": {
           "gridcolor": "#D1D1D1",
           "linecolor": "#002D72",
           "zerolinecolor": "#D1D1D1"
          },
          "yaxis": {
           "gridcolor": "#D1D1D1",
           "linecolor": "#002D72",
           "zerolinecolor": "#D1D1D1"
          }
         }
        },
        "width": 1350,
        "xaxis": {
         "anchor": "y",
         "domain": [
          0,
          0.2888888888888889
         ]
        },
        "xaxis10": {
         "anchor": "y10",
         "domain": [
          0,
          0.2888888888888889
         ]
        },
        "xaxis11": {
         "anchor": "y11",
         "domain": [
          0.35555555555555557,
          0.6444444444444445
         ]
        },
        "xaxis12": {
         "anchor": "y12",
         "domain": [
          0.7111111111111111,
          1
         ]
        },
        "xaxis13": {
         "anchor": "y13",
         "domain": [
          0,
          0.2888888888888889
         ]
        },
        "xaxis14": {
         "anchor": "y14",
         "domain": [
          0.35555555555555557,
          0.6444444444444445
         ]
        },
        "xaxis15": {
         "anchor": "y15",
         "domain": [
          0.7111111111111111,
          1
         ]
        },
        "xaxis2": {
         "anchor": "y2",
         "domain": [
          0.35555555555555557,
          0.6444444444444445
         ]
        },
        "xaxis3": {
         "anchor": "y3",
         "domain": [
          0.7111111111111111,
          1
         ]
        },
        "xaxis4": {
         "anchor": "y4",
         "domain": [
          0,
          0.2888888888888889
         ]
        },
        "xaxis5": {
         "anchor": "y5",
         "domain": [
          0.35555555555555557,
          0.6444444444444445
         ]
        },
        "xaxis6": {
         "anchor": "y6",
         "domain": [
          0.7111111111111111,
          1
         ],
         "nticks": 3,
         "tickformat": ".0e",
         "type": "log"
        },
        "xaxis7": {
         "anchor": "y7",
         "domain": [
          0,
          0.2888888888888889
         ],
         "nticks": 3,
         "tickformat": ".0e",
         "type": "log"
        },
        "xaxis8": {
         "anchor": "y8",
         "domain": [
          0.35555555555555557,
          0.6444444444444445
         ],
         "nticks": 3,
         "tickformat": ".0e",
         "type": "log"
        },
        "xaxis9": {
         "anchor": "y9",
         "domain": [
          0.7111111111111111,
          1
         ]
        },
        "yaxis": {
         "anchor": "x",
         "domain": [
          0.82,
          1
         ],
         "title": {
          "text": "Objective Value"
         }
        },
        "yaxis10": {
         "anchor": "x10",
         "domain": [
          0.205,
          0.385
         ],
         "title": {
          "text": "Objective Value"
         }
        },
        "yaxis11": {
         "anchor": "x11",
         "domain": [
          0.205,
          0.385
         ]
        },
        "yaxis12": {
         "anchor": "x12",
         "domain": [
          0.205,
          0.385
         ]
        },
        "yaxis13": {
         "anchor": "x13",
         "domain": [
          0,
          0.18
         ],
         "title": {
          "text": "Objective Value"
         }
        },
        "yaxis14": {
         "anchor": "x14",
         "domain": [
          0,
          0.18
         ]
        },
        "yaxis15": {
         "anchor": "x15",
         "domain": [
          0,
          0.18
         ]
        },
        "yaxis2": {
         "anchor": "x2",
         "domain": [
          0.82,
          1
         ]
        },
        "yaxis3": {
         "anchor": "x3",
         "domain": [
          0.82,
          1
         ]
        },
        "yaxis4": {
         "anchor": "x4",
         "domain": [
          0.615,
          0.7949999999999999
         ],
         "title": {
          "text": "Objective Value"
         }
        },
        "yaxis5": {
         "anchor": "x5",
         "domain": [
          0.615,
          0.7949999999999999
         ]
        },
        "yaxis6": {
         "anchor": "x6",
         "domain": [
          0.615,
          0.7949999999999999
         ]
        },
        "yaxis7": {
         "anchor": "x7",
         "domain": [
          0.41,
          0.59
         ],
         "title": {
          "text": "Objective Value"
         }
        },
        "yaxis8": {
         "anchor": "x8",
         "domain": [
          0.41,
          0.59
         ]
        },
        "yaxis9": {
         "anchor": "x9",
         "domain": [
          0.41,
          0.59
         ]
        }
       }
      }
     },
     "metadata": {},
     "output_type": "display_data"
    }
   ],
   "source": [
    "rdc_fig_slice_full = create_grid_slice_plot(\n",
    "    study=rdc_aggregated_study,\n",
    "    top_params=rdc_full_params,\n",
    "    vertical_spacing=0.025\n",
    ")\n",
    "rdc_fig_slice_full.show()"
   ]
  },
  {
   "cell_type": "code",
   "execution_count": 18,
   "metadata": {},
   "outputs": [
    {
     "data": {
      "application/vnd.plotly.v1+json": {
       "config": {
        "plotlyServerURL": "https://plot.ly"
       },
       "data": [
        {
         "marker": {
          "color": "#002D72",
          "opacity": 0.7
         },
         "mode": "markers",
         "type": "scatter",
         "x": {
          "bdata": "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",
          "dtype": "f8"
         },
         "xaxis": "x",
         "y": {
          "bdata": "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",
          "dtype": "f8"
         },
         "yaxis": "y"
        },
        {
         "marker": {
          "color": "#002D72",
          "opacity": 0.7
         },
         "mode": "markers",
         "type": "scatter",
         "x": {
          "bdata": "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",
          "dtype": "f8"
         },
         "xaxis": "x2",
         "y": {
          "bdata": "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",
          "dtype": "f8"
         },
         "yaxis": "y2"
        },
        {
         "marker": {
          "color": "#002D72",
          "opacity": 0.7
         },
         "mode": "markers",
         "type": "scatter",
         "x": {
          "bdata": "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",
          "dtype": "f8"
         },
         "xaxis": "x3",
         "y": {
          "bdata": "/sPB8sWqU0CeFHzbP/JSQMvsYrUKVFJADDkGUGPjUkCmT3jHonJTQETVhIXm3VJAUgFYZnx3U0BKtuBBVY5TQF7VRMHSnVNA2xhXopqNU0Bfy5lHiQhTQKw/AtxUoFNA0F4+sbq3U0Duzt4Q3G5TQJSb+XCRm1NAw3I7J51kU0Ac1jzPU7FTQHa1YNl5rFNAe4WNs1CrU0Bm2aOvSA9TQEa9WpDHb1NAhlQ3RwB3U0BCMX9kPm9TQOR89Wpne1NAvdW+Ia1sU0CYCsVtG4pTQHnLg+uQsFNAfebYp1qnU0Bplwm7Xb5TQADoSLYVr1NA+DdHkeeXU0DlC171o8BTQAaBS7h6d1NArYNMABS2U0AL8yJACapTQPbd77Yld1NAK7530ADdU0CFqOImxF1TQMSHnlnCqlNAwMXVBJqGU0Bvta62kmNTQJrFE04fglNA357H3byWU0DqWqIkzalTQLpv5pxgClNAnZCx26pCUkARo1T4aSxTQJqGm039uVJAhUyiBUXiUkBG4MyCHd9RQI5gQHKKg1NA/96S+tyjU0D5kyAd9UxTQIY+Kphby1NAwpRT0cKDU0DNN/77mrtTQEYUqZONf1NAQn2ndqmiU0C77eBx3KJTQLXw0Z6sjlNA+so6E5ObU0Dw0tA7hHdTQBfnoRsRUVNAL7pQDoWGU0CrpxiBHstTQESsywv9olNAzH7uEymWU0BWYfs6rXVTQAoy7aywylNAR/vVB8hTU0De/Zg5vqVTQO3EQ+cIalNAWeRqtvmbU0BWVXrSvqxTQIWQ4/xAslNAfnlxe1iTU0DG3+ZZqI9TQHivGK/qPVNAb5GRI9GZU0AHBhqq/r9TQH/aWTEOu1NASY+R7muCU0B+h9hW/rVTQFD/RbZin1NAQg7qXwerU0DnZHf38p1TQKt6aVmIk1NACsRHt6yEU0D8u2dyrYpTQOW+ZBIxeVNAf+HC3ze+U0BboEsX7ehTQMMoNML1glNAR0Ued3pyU0BOz5hs96tTQPNMYCEMyVNABF0BSht1U0Cq+6hBpH5TQJ6mXW/Ub1NAPQVmheisU0C5FitEzEdTQBpzcsjhGlNAIO+XcLhxU0Axft95WxZTQB50SPvmuVNAei5weRI8U0A4Q8ZDQWBTQNzyueqFllJAymJA4jtbUkAq24Q3RU1TQJJF2EtCZlNAWf0dZUVKU0AC2ECwxDJTQFeyXl+zsVNAYH3yRU3GUkADmLfG3oBTQG8Dhx27qlNAt0vrhduXU0D19OLRgKlTQPJOX60ThVNA1Wz9gZ6ZU0DO42FF4mdTQM3nCLaK1FJAWV9CSNSkU0BjRs1m0AJTQJQWYRyIMlJAxpkFno0EU0AQvffxz1tTQD2JbP5xhFNAiYOOk/KFU0DO6mtz5EFTQFbho0yuSVNAEnEW8NebU0BV5Ft0k0pTQFvvTFVQblNABLxY6KF3U0B6WlrRHo1SQIN1wqAIjlNAwBer+ZhRU0BmFRH5YQpTQKqE+ezbSFNAzItUH66TU0A17mp6n2NTQL1NWhzlbVJA1px3e5pzU0Df95crAWJTQJ8mnTP1f1NArB95k1dbU0D8D+R/72NTQFKccVfltVNA7WsjcDKIU0AOvinm8o1TQPo02pYRtlNAidbMCKFLU0CO6RRgxZlTQBUHDCk+elNA3HTVufmgU0CAb5V3s7RTQJJMOP2Ap1NAx7Rs6KRvU0AHjAaietJTQLIENux0n1NAdBqrjw3AU0AClG4qaNJTQDxd1dDp6lNAgoc0JA9lU0Cf5Tx2JqdTQFqzqEEnrFNAeyoBxHgjU0Bls8fsuaNTQLC2ddNssFNA6k/b4VVbU0DumfNF09BTQBQYlaHss1NACohURyTHU0C+N7QQJa9TQAHqiXp6f1NAa+W6wFijU0CGyiDwm9dTQCGRtDoe1VNAQfRK6ma1U0D16XHGzZpTQFgQ8N0kmFNAo0m0d9FmU0AYQGjGWbFTQCpGfBv8q1NA6FnsH4SyU0CKh/c12b5TQCXy51xiiVNAHtYOxPCFU0Dc0e8mqcxTQLfHv7Kjj1NA/U/+CqduU0D2QodLzoVTQApqFVpbilNAIRMlVdOIU0AzfXtfoqBTQAbat8rFiFNA3ghc8zibU0DzQIqJSYNTQJsDARHhklNAXuAuXB6wU0BWhGJ+50FTQKKHRDvZvFNAyu5rJxigU0AxcPq/Mr1TQJLlRtGJxFNApvisoo6QU0AtnMPpo9JTQEO8gHakpFNAv1QlcubcU0DxTohj/6RTQBi/YIiHulNAsl1iAzq5U0Bx3hZWc7VTQEvXjY9urFNABCqbXcaEU0BZG1qKfpRTQHmOwSshj1NAve8fk5m1U0DMOxAfLJBTQJHXVHHed1JAfA2JB4bMU0CAjJMQ84BTQF7khDoowlNAQUHapYyUU0Dwl++df41TQPEwfvSDnFNA3mTmzduFU0BmpQ05y2pTQLcqqwHUUFNA1wEF5KllU0Cnr31xI4hTQB5aNGeijVNAL2AoX6R4U0DsQHPAl6lTQGrW+pMKg1NAPnJgX2FhU0DCuArZV8dTQKcdFnB5sVNAxfZb2GGCU0AA+lk6+jdTQNPR65XMeFNAikfZqCtmU0BSmcBoAmZTQGRu8buoVVNAm1a8jDStU0AH2ix6zEJTQEqjsyLulVNAvCLb3s+jU0Aoep2NPKRTQMre3mj5qVNA6gV120Z0U0CWk05w1s9TQDJJXcEollNAqlaglF2qU0Bfs2Folc1TQKLFkzS9ZVNAGpUGLXOvU0CbTNAEnLRTQA4zHN7TrVNAxdZcxXo4U0BZcqOX94RTQB6GJyGfk1NAYJ4PjdupU0CE0IaPLMZTQGNGhpuZlVNASLXzg9ixU0BpOiBkz7hTQDrcmKO/l1NAJ6No80+pU0AaIL+yZ7VTQA7ymmUPklNALExrB46lU0D2piC5EKpTQCIYf6IxjlNAe3pzkWOPU0DhmETi6X1TQOq5ovhXt1NAQMtu8KGsU0D/9G4AGrxTQOhb7wixmVNAJiCjMiqaU0BIWXodZKVTQHY1wSqepVNAJDXlfyPTU0DOxaq5iq1TQMl9TvKj1VNA1g2XAZG4U0DvWrQ9cqNTQLLMTqx90VNAExvnK57TU0A+2pjflZlTQA47fxHwx1NAHgfOnlaUU0C12HoJPs5TQAlj48z4eFNAkyLsebPFU0DMkYKx4KRTQH3gEcOAqFNAS8cbBFdqU0DSJ0v0HJFTQNeAEg/9gVNAwrv+E+eDU0CA9Seu419TQHY+iIKhQVNAeoKtmUyrU0CcXpjJOadTQMvDwCup51JAQxH7FOeeU0BS/NpkDahTQFJnEFZDyVNAUxFK6Mn4UkAA3HE2uIlTQA5bVj2wtVNABC7trUjTU0DEARm+smlTQKSgIEoQ3lNA14sMCbmVU0Cy5yvHIZxTQEJyufT9s1NA2nTlaKGvU0CzYidA4ptTQNJgo/mnsFNA8mk1U0arU0CKTqMnu21TQO6QOw4tnVNAzEwzVCW2U0AYMn4DQZJTQLwzMVUjg1NAUvaopRleU0DAmrWj4LNTQNEc71eLk1NAyVqFXN7RU0Cri0I157RTQGk4mAuzilNAh81l58zFU0AYu+ahfotTQFeU4anshVNAdF+cfxbPU0CF2Tc/y7xTQCUZEpZFmFNATubI9h7TUkArXQDtE1JTQB89U4RZhFNAPUA63YGtU0CYKgEp34tTQA+t5spqr1NATmxAASa6U0AMzzZNT7RTQJHtTJygZlNA3eHM/lO1U0Be//FPEKZTQA8mbNHB9FFAuSJRTYy2U0CWMxWm8IxTQPq6HHlVmVNAHzPJziDuUkCxNLqBGjJTQFAduYw5YVNANhUlxDM6U0Czw8AiqXpTQG4pf6ElflNAoIRjA3ePU0CqNs64T21TQMZvkr8+tVNA/d3zgp9QU0BiufDjw5RTQHRLFZ+ZvlNA0bjE1MOtU0BE3AFyK4VTQKR/h7NMe1NAXLF86jahU0CRy13AiFJTQNqNuf6VnFNAOE0U+FxvU0AMp7QBb4tTQH3fzFZK3lJA/EDAEmouUkCMNCl4OEZTQCIAufCSbFJACbekhJSKU0DtGU6TGZVTQA7ZE0mEkVNAifpNiBLPUkC75ywODnBTQLiHglotlVNArBhN7g+IUkD/THRrRdpRQJqROI3PfVNAmr7kAExdU0DWLH/rnsxSQALCsWhQfVNALnLUDZGnUkAuemRtF+VSQIf52Yl9d1NAmLBTgMdpU0BFxXAIoHVTQGovY1plo1FAPdo7Y442U0AkIacplEJTQB4OwAO4JVNAJ5TWTaJcU0BWd4GfpklTQF00EPPodlNAEwO7Go+cU0CHonHM8wNTQFv6jMGCnVNAcmZuDgqBU0BvQjtTegBTQOWB2CxILFNAusRn6cqVUkBCqVW4VVxTQJ3YixW+WFNAshEkDaNjUkBpKPLAd+pSQGYBpY6JbFNA/ktARApyU0CGkerc/TRTQMQEt6oQFlNAoHTdImUHU0BY12L63TNTQNeVZVQZNFNAEIDSAaIeU0DjZ8ZY84JTQLlkaO/Y91JAOry7mzNYU0A+Xl7EPGpTQIlxgEw8kVNAPrECtp87U0B6jgfX5wtTQIqr2h2e61NAR0TWELxjU0DfU3ZWmEBTQN4p7SS1b1NAu+YLz4fUU0DH6fQz5TNTQPIIN10KwlNAfLo633d+U0DHzauDdHlTQL/UVT6gAlNA82ncejxQU0CzjFPCbC1TQK418XZBcVNADiuE0DRrU0D5HCyfarhTQGeGCh1Mb1NAIrI77kYDU0AkH8R4/eJSQBP9se+wVFNAQ9ox81p2U0DYT7ITVrxTQFIExwGUnFNAlJXP95rQU0BQmxmd1cBTQOU4RLAGU1NA8Wn9wu6OU0Ac9lCpWGNTQACsn7cld1NAwxtZyjXIU0CJvJqnAXNTQLXAn24LlFNA1dF5pVl8U0BDGf7HhZZTQLfu3aMymlNAZE1q48KSU0DDYDnMMJlTQAOaFyJU2VNAyzrZIWKOU0C2moWBxX1TQN9zyDNrq1NA9E3iunWMU0A//7Y4qK5TQESSEkYerVNAUwhWPtmVU0BWNdJED69TQMMLanJDoFNA/nAg5YOcU0DOdMAx0JlTQALhyY0RmFNAjMYelp+tU0DrHN+rnmBTQLs0NbbqpVNAEUHHf4GUU0BWB+z3L4hTQOUaen0LvVNAOCjYNaWkU0CUskMYz6VTQOPKPtAEc1NAQHuq8EBrU0ADbwgtA6lTQBqATMhxfFNAalO/Q2PAU0BvNs5NEq1TQNo9e6RHoVNAosf2MHPGUkC89ZL9gXdTQMqehsnZf1NA/Z1ZiEmIU0ByqpBDyK5TQA==",
          "dtype": "f8"
         },
         "yaxis": "y3"
        },
        {
         "marker": {
          "color": "#002D72",
          "opacity": 0.7
         },
         "mode": "markers",
         "type": "scatter",
         "x": {
          "bdata": "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",
          "dtype": "f8"
         },
         "xaxis": "x4",
         "y": {
          "bdata": "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",
          "dtype": "f8"
         },
         "yaxis": "y4"
        }
       ],
       "layout": {
        "annotations": [
         {
          "font": {
           "size": 16
          },
          "showarrow": false,
          "text": "rdc_replay_buffer_alpha",
          "x": 0.225,
          "xanchor": "center",
          "xref": "paper",
          "y": 1,
          "yanchor": "bottom",
          "yref": "paper"
         },
         {
          "font": {
           "size": 16
          },
          "showarrow": false,
          "text": "rdc_tau",
          "x": 0.775,
          "xanchor": "center",
          "xref": "paper",
          "y": 1,
          "yanchor": "bottom",
          "yref": "paper"
         },
         {
          "font": {
           "size": 16
          },
          "showarrow": false,
          "text": "rdc_epsilon_decay",
          "x": 0.225,
          "xanchor": "center",
          "xref": "paper",
          "y": 0.45,
          "yanchor": "bottom",
          "yref": "paper"
         },
         {
          "font": {
           "size": 16
          },
          "showarrow": false,
          "text": "rdc_batch_size",
          "x": 0.775,
          "xanchor": "center",
          "xref": "paper",
          "y": 0.45,
          "yanchor": "bottom",
          "yref": "paper"
         }
        ],
        "height": 800,
        "margin": {
         "b": 30,
         "l": 60,
         "r": 30,
         "t": 30
        },
        "showlegend": false,
        "template": {
         "layout": {
          "colorway": [
           "#002D72",
           "#E2001A",
           "#5A5A5A",
           "#2C74B3",
           "#A1C9F4"
          ],
          "font": {
           "color": "#002D72",
           "family": "Arial, sans-serif",
           "size": 14
          },
          "paper_bgcolor": "white",
          "plot_bgcolor": "white",
          "title": {
           "font": {
            "color": "#002D72",
            "size": 20
           }
          },
          "xaxis": {
           "gridcolor": "#D1D1D1",
           "linecolor": "#002D72",
           "zerolinecolor": "#D1D1D1"
          },
          "yaxis": {
           "gridcolor": "#D1D1D1",
           "linecolor": "#002D72",
           "zerolinecolor": "#D1D1D1"
          }
         }
        },
        "width": 900,
        "xaxis": {
         "anchor": "y",
         "domain": [
          0,
          0.45
         ]
        },
        "xaxis2": {
         "anchor": "y2",
         "domain": [
          0.55,
          1
         ]
        },
        "xaxis3": {
         "anchor": "y3",
         "domain": [
          0,
          0.45
         ]
        },
        "xaxis4": {
         "anchor": "y4",
         "domain": [
          0.55,
          1
         ]
        },
        "yaxis": {
         "anchor": "x",
         "domain": [
          0.55,
          1
         ],
         "title": {
          "text": "Objective Value"
         }
        },
        "yaxis2": {
         "anchor": "x2",
         "domain": [
          0.55,
          1
         ]
        },
        "yaxis3": {
         "anchor": "x3",
         "domain": [
          0,
          0.45
         ],
         "title": {
          "text": "Objective Value"
         }
        },
        "yaxis4": {
         "anchor": "x4",
         "domain": [
          0,
          0.45
         ]
        }
       }
      }
     },
     "metadata": {},
     "output_type": "display_data"
    }
   ],
   "source": [
    "rdc_top_params = ['rdc_replay_buffer_alpha', 'rdc_tau', 'rdc_epsilon_decay', 'rdc_batch_size']\n",
    "\n",
    "rdc_fig_slice_focused = create_grid_slice_plot(\n",
    "    study=rdc_aggregated_study,\n",
    "    top_params=rdc_top_params\n",
    ")\n",
    "rdc_fig_slice_focused.show()"
   ]
  },
  {
   "cell_type": "markdown",
   "metadata": {},
   "source": [
    "## 2. UIC Analysis"
   ]
  },
  {
   "cell_type": "code",
   "execution_count": 15,
   "metadata": {},
   "outputs": [],
   "source": [
    "uic_dfs_dict = load_all_dataframes(prefix=UIC_PREFIX)"
   ]
  },
  {
   "cell_type": "markdown",
   "metadata": {},
   "source": [
    "### Individual Importance Plots (Per File)"
   ]
  },
  {
   "cell_type": "code",
   "execution_count": 16,
   "metadata": {},
   "outputs": [],
   "source": [
    "for filename, df in uic_dfs_dict.items():\n",
    "    study_name = filename.replace(STUDY_FILE_SUFFIX, '')\n",
    "    temp_study = create_study_from_df(study_name, df.copy())\n",
    "    \n",
    "    fig = optuna.visualization.plot_param_importances(temp_study)\n",
    "    fig.update_layout(\n",
    "        title=f\"Importance for: {study_name}\",\n",
    "        width=800,\n",
    "        height=500\n",
    "    )\n",
    "    fig.show()"
   ]
  },
  {
   "cell_type": "markdown",
   "metadata": {},
   "source": [
    "### Aggregated Analysis (All UIC Trials)"
   ]
  },
  {
   "cell_type": "code",
   "execution_count": 17,
   "metadata": {},
   "outputs": [
    {
     "ename": "ValueError",
     "evalue": "No objects to concatenate",
     "output_type": "error",
     "traceback": [
      "\u001b[0;31m---------------------------------------------------------------------------\u001b[0m",
      "\u001b[0;31mValueError\u001b[0m                                Traceback (most recent call last)",
      "Cell \u001b[0;32mIn[17], line 1\u001b[0m\n\u001b[0;32m----> 1\u001b[0m uic_aggregated_study \u001b[38;5;241m=\u001b[39m create_study_from_df(\u001b[38;5;124m\"\u001b[39m\u001b[38;5;124mUIC Aggregated\u001b[39m\u001b[38;5;124m\"\u001b[39m, \u001b[43mpd\u001b[49m\u001b[38;5;241;43m.\u001b[39;49m\u001b[43mconcat\u001b[49m\u001b[43m(\u001b[49m\u001b[43muic_dfs_dict\u001b[49m\u001b[38;5;241;43m.\u001b[39;49m\u001b[43mvalues\u001b[49m\u001b[43m(\u001b[49m\u001b[43m)\u001b[49m\u001b[43m,\u001b[49m\u001b[43m \u001b[49m\u001b[43mignore_index\u001b[49m\u001b[38;5;241;43m=\u001b[39;49m\u001b[38;5;28;43;01mTrue\u001b[39;49;00m\u001b[43m)\u001b[49m)\n",
      "File \u001b[0;32m/opt/miniconda3/envs/py_310_torch_env/lib/python3.10/site-packages/pandas/core/reshape/concat.py:382\u001b[0m, in \u001b[0;36mconcat\u001b[0;34m(objs, axis, join, ignore_index, keys, levels, names, verify_integrity, sort, copy)\u001b[0m\n\u001b[1;32m    379\u001b[0m \u001b[38;5;28;01melif\u001b[39;00m copy \u001b[38;5;129;01mand\u001b[39;00m using_copy_on_write():\n\u001b[1;32m    380\u001b[0m     copy \u001b[38;5;241m=\u001b[39m \u001b[38;5;28;01mFalse\u001b[39;00m\n\u001b[0;32m--> 382\u001b[0m op \u001b[38;5;241m=\u001b[39m \u001b[43m_Concatenator\u001b[49m\u001b[43m(\u001b[49m\n\u001b[1;32m    383\u001b[0m \u001b[43m    \u001b[49m\u001b[43mobjs\u001b[49m\u001b[43m,\u001b[49m\n\u001b[1;32m    384\u001b[0m \u001b[43m    \u001b[49m\u001b[43maxis\u001b[49m\u001b[38;5;241;43m=\u001b[39;49m\u001b[43maxis\u001b[49m\u001b[43m,\u001b[49m\n\u001b[1;32m    385\u001b[0m \u001b[43m    \u001b[49m\u001b[43mignore_index\u001b[49m\u001b[38;5;241;43m=\u001b[39;49m\u001b[43mignore_index\u001b[49m\u001b[43m,\u001b[49m\n\u001b[1;32m    386\u001b[0m \u001b[43m    \u001b[49m\u001b[43mjoin\u001b[49m\u001b[38;5;241;43m=\u001b[39;49m\u001b[43mjoin\u001b[49m\u001b[43m,\u001b[49m\n\u001b[1;32m    387\u001b[0m \u001b[43m    \u001b[49m\u001b[43mkeys\u001b[49m\u001b[38;5;241;43m=\u001b[39;49m\u001b[43mkeys\u001b[49m\u001b[43m,\u001b[49m\n\u001b[1;32m    388\u001b[0m \u001b[43m    \u001b[49m\u001b[43mlevels\u001b[49m\u001b[38;5;241;43m=\u001b[39;49m\u001b[43mlevels\u001b[49m\u001b[43m,\u001b[49m\n\u001b[1;32m    389\u001b[0m \u001b[43m    \u001b[49m\u001b[43mnames\u001b[49m\u001b[38;5;241;43m=\u001b[39;49m\u001b[43mnames\u001b[49m\u001b[43m,\u001b[49m\n\u001b[1;32m    390\u001b[0m \u001b[43m    \u001b[49m\u001b[43mverify_integrity\u001b[49m\u001b[38;5;241;43m=\u001b[39;49m\u001b[43mverify_integrity\u001b[49m\u001b[43m,\u001b[49m\n\u001b[1;32m    391\u001b[0m \u001b[43m    \u001b[49m\u001b[43mcopy\u001b[49m\u001b[38;5;241;43m=\u001b[39;49m\u001b[43mcopy\u001b[49m\u001b[43m,\u001b[49m\n\u001b[1;32m    392\u001b[0m \u001b[43m    \u001b[49m\u001b[43msort\u001b[49m\u001b[38;5;241;43m=\u001b[39;49m\u001b[43msort\u001b[49m\u001b[43m,\u001b[49m\n\u001b[1;32m    393\u001b[0m \u001b[43m\u001b[49m\u001b[43m)\u001b[49m\n\u001b[1;32m    395\u001b[0m \u001b[38;5;28;01mreturn\u001b[39;00m op\u001b[38;5;241m.\u001b[39mget_result()\n",
      "File \u001b[0;32m/opt/miniconda3/envs/py_310_torch_env/lib/python3.10/site-packages/pandas/core/reshape/concat.py:445\u001b[0m, in \u001b[0;36m_Concatenator.__init__\u001b[0;34m(self, objs, axis, join, keys, levels, names, ignore_index, verify_integrity, copy, sort)\u001b[0m\n\u001b[1;32m    442\u001b[0m \u001b[38;5;28mself\u001b[39m\u001b[38;5;241m.\u001b[39mverify_integrity \u001b[38;5;241m=\u001b[39m verify_integrity\n\u001b[1;32m    443\u001b[0m \u001b[38;5;28mself\u001b[39m\u001b[38;5;241m.\u001b[39mcopy \u001b[38;5;241m=\u001b[39m copy\n\u001b[0;32m--> 445\u001b[0m objs, keys \u001b[38;5;241m=\u001b[39m \u001b[38;5;28;43mself\u001b[39;49m\u001b[38;5;241;43m.\u001b[39;49m\u001b[43m_clean_keys_and_objs\u001b[49m\u001b[43m(\u001b[49m\u001b[43mobjs\u001b[49m\u001b[43m,\u001b[49m\u001b[43m \u001b[49m\u001b[43mkeys\u001b[49m\u001b[43m)\u001b[49m\n\u001b[1;32m    447\u001b[0m \u001b[38;5;66;03m# figure out what our result ndim is going to be\u001b[39;00m\n\u001b[1;32m    448\u001b[0m ndims \u001b[38;5;241m=\u001b[39m \u001b[38;5;28mself\u001b[39m\u001b[38;5;241m.\u001b[39m_get_ndims(objs)\n",
      "File \u001b[0;32m/opt/miniconda3/envs/py_310_torch_env/lib/python3.10/site-packages/pandas/core/reshape/concat.py:507\u001b[0m, in \u001b[0;36m_Concatenator._clean_keys_and_objs\u001b[0;34m(self, objs, keys)\u001b[0m\n\u001b[1;32m    504\u001b[0m     objs_list \u001b[38;5;241m=\u001b[39m \u001b[38;5;28mlist\u001b[39m(objs)\n\u001b[1;32m    506\u001b[0m \u001b[38;5;28;01mif\u001b[39;00m \u001b[38;5;28mlen\u001b[39m(objs_list) \u001b[38;5;241m==\u001b[39m \u001b[38;5;241m0\u001b[39m:\n\u001b[0;32m--> 507\u001b[0m     \u001b[38;5;28;01mraise\u001b[39;00m \u001b[38;5;167;01mValueError\u001b[39;00m(\u001b[38;5;124m\"\u001b[39m\u001b[38;5;124mNo objects to concatenate\u001b[39m\u001b[38;5;124m\"\u001b[39m)\n\u001b[1;32m    509\u001b[0m \u001b[38;5;28;01mif\u001b[39;00m keys \u001b[38;5;129;01mis\u001b[39;00m \u001b[38;5;28;01mNone\u001b[39;00m:\n\u001b[1;32m    510\u001b[0m     objs_list \u001b[38;5;241m=\u001b[39m \u001b[38;5;28mlist\u001b[39m(com\u001b[38;5;241m.\u001b[39mnot_none(\u001b[38;5;241m*\u001b[39mobjs_list))\n",
      "\u001b[0;31mValueError\u001b[0m: No objects to concatenate"
     ]
    }
   ],
   "source": [
    "uic_aggregated_study = create_study_from_df(\"UIC Aggregated\", pd.concat(uic_dfs_dict.values(), ignore_index=True))"
   ]
  },
  {
   "cell_type": "markdown",
   "metadata": {},
   "source": [
    "### Optimization History"
   ]
  },
  {
   "cell_type": "code",
   "execution_count": null,
   "metadata": {},
   "outputs": [
    {
     "data": {
      "application/vnd.plotly.v1+json": {
       "config": {
        "plotlyServerURL": "https://plot.ly"
       },
       "data": [
        {
         "mode": "markers",
         "name": "Objective Value",
         "type": "scatter",
         "x": [
          0,
          1,
          2,
          3,
          4,
          5,
          6,
          7,
          8,
          9,
          10,
          11,
          12,
          13,
          14,
          15,
          16,
          17,
          18,
          19,
          20,
          21,
          22,
          23,
          24,
          25,
          26,
          27,
          28,
          29,
          30,
          31,
          32,
          33,
          34,
          35,
          36,
          37,
          38,
          39,
          40,
          41,
          42,
          43,
          44,
          45,
          46,
          47,
          48,
          49,
          50,
          51,
          52,
          53,
          54,
          55,
          56,
          57,
          58,
          59,
          60,
          61,
          62,
          63,
          64,
          65,
          66,
          67,
          68,
          69,
          70,
          71,
          72,
          73,
          74,
          75,
          76,
          77,
          78,
          79,
          80,
          81,
          82,
          83,
          84,
          85,
          86,
          87,
          88,
          89,
          90,
          91,
          92,
          93,
          94,
          95,
          96,
          97,
          98,
          99,
          100,
          101,
          102,
          103,
          104,
          105,
          106,
          107,
          108,
          109,
          110,
          111,
          112,
          113,
          114,
          115,
          116,
          117,
          118,
          119,
          120,
          121,
          122,
          123,
          124,
          125,
          126,
          127,
          128,
          129,
          130,
          131,
          132,
          133,
          134,
          135,
          136,
          137,
          138,
          139,
          140,
          141,
          142,
          143,
          144,
          145,
          146,
          147,
          148,
          149,
          150,
          151,
          152,
          153,
          154,
          155,
          156,
          157,
          158,
          159,
          160,
          161,
          162,
          163,
          164,
          165,
          166,
          167,
          168,
          169,
          170,
          171,
          172,
          173,
          174,
          175,
          176,
          177,
          178,
          179,
          180,
          181,
          182,
          183,
          184,
          185,
          186,
          187,
          188,
          189,
          190,
          191,
          192,
          193,
          194,
          195,
          196,
          197,
          198,
          199,
          200,
          201,
          202,
          203,
          204,
          205,
          206,
          207,
          208,
          209,
          210,
          211,
          212,
          213,
          214,
          215,
          216,
          217,
          218,
          219,
          220,
          221,
          222,
          223,
          224,
          225,
          226,
          227,
          228,
          229,
          230,
          231,
          232,
          233,
          234,
          235,
          236,
          237,
          238,
          239,
          240,
          241,
          242,
          243,
          244,
          245,
          246,
          247,
          248,
          249,
          250,
          251,
          252,
          253,
          254,
          255,
          256,
          257,
          258,
          259,
          260,
          261,
          262,
          263,
          264,
          265,
          266,
          267,
          268,
          269,
          270,
          271,
          272,
          273,
          274,
          275,
          276,
          277,
          278,
          279,
          280,
          281,
          282,
          283,
          284,
          285,
          286,
          287,
          288,
          289,
          290,
          291,
          292,
          293,
          294,
          295,
          296,
          297,
          298,
          299,
          300,
          301,
          302,
          303,
          304,
          305,
          306,
          307,
          308,
          309,
          310,
          311,
          312,
          313,
          314,
          315,
          316,
          317,
          318,
          319,
          320,
          321,
          322,
          323,
          324,
          325,
          326,
          327,
          328,
          329,
          330,
          331,
          332,
          333,
          334,
          335,
          336,
          337,
          338,
          339
         ],
         "y": [
          181.0667426,
          181.5700976,
          180.88186060000004,
          181.55622160000001,
          181.17785759999998,
          181.4898032,
          180.90587779999998,
          181.6887226,
          181.0974898,
          181.1733692,
          180.8041224,
          181.2805014,
          181.5924254,
          181.0401656,
          181.0346308,
          181.45198499999998,
          181.3124922,
          181.3486756,
          181.42405620000002,
          181.20345340000003,
          181.6244596,
          181.20208100000002,
          180.98785519999998,
          181.4749572,
          180.93734639999997,
          181.40645899999998,
          181.2114092,
          181.14786439999997,
          181.7499418,
          181.40550480000002,
          217.7553006,
          217.59237720000002,
          217.6135708,
          217.73297279999997,
          217.65704060000002,
          217.60784239999998,
          217.54963379999998,
          217.7265382,
          217.61535220000002,
          217.7299374,
          217.58600940000002,
          217.71427640000002,
          217.64883460000001,
          217.70369340000002,
          217.84337,
          217.64506999999998,
          217.71665240000002,
          217.60859139999997,
          217.8727778,
          217.64959819999999,
          217.64217360000004,
          217.7253412,
          217.730237,
          217.6795564,
          217.6514546,
          217.7162672,
          217.59564680000003,
          217.6391016,
          217.68533280000003,
          217.7228552,
          220.67916340000002,
          217.1685008,
          211.94221540000004,
          208.01446380000002,
          220.6391294,
          205.0027232,
          225.48564539999998,
          217.58826139999996,
          217.3348854,
          214.063631,
          227.7068162,
          227.84756460000003,
          227.6498752,
          227.6133976,
          224.85752499999998,
          223.9133558,
          232.44125560000003,
          231.5074994,
          228.48430860000002,
          231.5138308,
          216.32009639999995,
          231.4947482,
          231.20517239999998,
          232.6688188,
          225.6304708,
          230.11413460000003,
          220.96307259999998,
          231.4989222,
          219.447871,
          218.3202178,
          233.15085599999998,
          233.105751,
          233.21322739999997,
          228.836426,
          233.1565838,
          230.06071980000002,
          218.64502040000002,
          226.40790559999996,
          222.7219944,
          223.49140500000004,
          231.9828018,
          232.28154719999998,
          233.2398816,
          230.0909446,
          230.15519999999998,
          229.17128839999995,
          230.62142720000003,
          229.10245999999998,
          221.11009199999998,
          226.6055048,
          231.09778619999997,
          232.90544099999997,
          232.2557034,
          233.1598838,
          231.86887059999998,
          233.57648440000003,
          229.075342,
          233.65025559999998,
          232.418406,
          229.711383,
          212.0772036,
          233.57096220000003,
          233.6189214,
          233.58101459999997,
          233.589945,
          232.33824600000003,
          232.32727100000002,
          229.51228740000002,
          233.57145759999997,
          224.3009642,
          232.33142740000002,
          232.6622926,
          233.74398920000004,
          233.50536700000004,
          232.664158,
          228.9277134,
          233.66469659999998,
          231.062617,
          230.0181898,
          227.3071792,
          208.2790668,
          233.6095284,
          233.5379436,
          233.1802462,
          233.63909560000002,
          213.4919328,
          231.5092412,
          229.7391988,
          232.82925880000002,
          227.1510702,
          232.2917732,
          233.8201688,
          233.5002172,
          233.15181759999996,
          233.5909982,
          231.95644040000002,
          232.7335928,
          230.453599,
          233.5000606,
          231.93536139999998,
          180.713818,
          181.0836214,
          181.10637699999998,
          180.773171,
          181.4156036,
          180.86004780000002,
          180.9155734,
          181.30899019999998,
          180.94088340000002,
          181.17005139999998,
          181.476114,
          181.15094679999999,
          181.2784838,
          181.5130902,
          181.51350459999998,
          181.68489060000002,
          181.1170544,
          181.07131959999998,
          181.0650946,
          181.320199,
          181.2466116,
          181.20016219999997,
          181.24860520000001,
          181.0006092,
          180.75944679999998,
          181.44243160000002,
          180.95678700000002,
          181.0839662,
          181.1057388,
          180.6236378,
          217.59598540000002,
          217.61893600000002,
          217.62610800000002,
          217.6758022,
          217.604562,
          217.66253120000002,
          217.54409920000003,
          217.49371219999998,
          217.5010846,
          217.84117940000002,
          217.6366016,
          217.5691734,
          217.7850388,
          217.672622,
          217.66527000000002,
          217.71602479999996,
          217.66561280000002,
          217.5617428,
          217.76846559999998,
          217.6839058,
          217.65426939999998,
          217.6772774,
          217.6111252,
          217.67652239999998,
          217.6357334,
          217.78051580000002,
          217.6807742,
          217.76200699999998,
          217.8048366,
          217.72460760000004,
          203.2121888,
          228.61433900000003,
          217.67556999999996,
          225.4712314,
          194.81478300000003,
          200.3002394,
          190.89472560000002,
          207.87606799999998,
          205.1603494,
          213.138501,
          222.1958738,
          242.47261899999998,
          211.0752814,
          238.46819640000004,
          231.3874238,
          208.32536899999997,
          232.6889144,
          208.5673432,
          227.4145348,
          181.5616776,
          227.5232368,
          229.74377980000003,
          232.1912156,
          209.7973704,
          232.45851539999998,
          228.31974340000002,
          217.22366240000002,
          225.3018416,
          226.0690748,
          200.1395834,
          225.64826539999999,
          234.59922819999997,
          230.4951484,
          219.7597252,
          231.25750299999999,
          234.5790486,
          211.726066,
          211.18330980000002,
          201.04712580000003,
          224.0980978,
          219.0238274,
          241.10404099999997,
          238.32435420000002,
          236.7292736,
          247.0668576,
          251.71515319999997,
          248.01212500000003,
          235.09497919999998,
          223.979607,
          238.1343596,
          245.6043376,
          244.3938204,
          247.50035740000004,
          240.61307259999998,
          239.45882,
          238.96022,
          239.0462192,
          235.7927524,
          244.322134,
          230.459449,
          181.1848276,
          180.9954208,
          181.0772976,
          181.17590800000002,
          181.3211112,
          180.91413440000002,
          181.2462626,
          181.1658898,
          181.5306714,
          180.9604188,
          181.1085582,
          181.032512,
          181.4734072,
          181.25578419999997,
          181.36057440000002,
          181.2004022,
          181.02760519999998,
          181.05910699999998,
          181.3202274,
          181.2756814,
          181.35652520000002,
          181.3756146,
          181.45996859999997,
          181.2620672,
          181.6287264,
          181.7050976,
          181.201314,
          181.3374094,
          181.00461639999997,
          181.159322,
          217.6992452,
          217.6155978,
          217.6845534,
          217.67588880000002,
          217.6955314,
          217.652264,
          217.60089320000003,
          217.70230920000003,
          217.6041902,
          217.680789,
          217.7325216,
          217.66697,
          217.5788832,
          217.695206,
          217.5695286,
          217.7536322,
          217.69445619999996,
          217.65806080000002,
          217.6294976,
          217.55711779999996,
          217.66074639999997,
          217.79465639999998,
          217.61756780000002,
          217.7424658,
          217.70461519999998,
          217.6587316,
          217.66277139999997,
          217.6746404,
          217.8349004,
          217.64016980000002
         ]
        },
        {
         "mode": "lines",
         "name": "Best Value",
         "type": "scatter",
         "x": [
          0,
          1,
          2,
          3,
          4,
          5,
          6,
          7,
          8,
          9,
          10,
          11,
          12,
          13,
          14,
          15,
          16,
          17,
          18,
          19,
          20,
          21,
          22,
          23,
          24,
          25,
          26,
          27,
          28,
          29,
          30,
          31,
          32,
          33,
          34,
          35,
          36,
          37,
          38,
          39,
          40,
          41,
          42,
          43,
          44,
          45,
          46,
          47,
          48,
          49,
          50,
          51,
          52,
          53,
          54,
          55,
          56,
          57,
          58,
          59,
          60,
          61,
          62,
          63,
          64,
          65,
          66,
          67,
          68,
          69,
          70,
          71,
          72,
          73,
          74,
          75,
          76,
          77,
          78,
          79,
          80,
          81,
          82,
          83,
          84,
          85,
          86,
          87,
          88,
          89,
          90,
          91,
          92,
          93,
          94,
          95,
          96,
          97,
          98,
          99,
          100,
          101,
          102,
          103,
          104,
          105,
          106,
          107,
          108,
          109,
          110,
          111,
          112,
          113,
          114,
          115,
          116,
          117,
          118,
          119,
          120,
          121,
          122,
          123,
          124,
          125,
          126,
          127,
          128,
          129,
          130,
          131,
          132,
          133,
          134,
          135,
          136,
          137,
          138,
          139,
          140,
          141,
          142,
          143,
          144,
          145,
          146,
          147,
          148,
          149,
          150,
          151,
          152,
          153,
          154,
          155,
          156,
          157,
          158,
          159,
          160,
          161,
          162,
          163,
          164,
          165,
          166,
          167,
          168,
          169,
          170,
          171,
          172,
          173,
          174,
          175,
          176,
          177,
          178,
          179,
          180,
          181,
          182,
          183,
          184,
          185,
          186,
          187,
          188,
          189,
          190,
          191,
          192,
          193,
          194,
          195,
          196,
          197,
          198,
          199,
          200,
          201,
          202,
          203,
          204,
          205,
          206,
          207,
          208,
          209,
          210,
          211,
          212,
          213,
          214,
          215,
          216,
          217,
          218,
          219,
          220,
          221,
          222,
          223,
          224,
          225,
          226,
          227,
          228,
          229,
          230,
          231,
          232,
          233,
          234,
          235,
          236,
          237,
          238,
          239,
          240,
          241,
          242,
          243,
          244,
          245,
          246,
          247,
          248,
          249,
          250,
          251,
          252,
          253,
          254,
          255,
          256,
          257,
          258,
          259,
          260,
          261,
          262,
          263,
          264,
          265,
          266,
          267,
          268,
          269,
          270,
          271,
          272,
          273,
          274,
          275,
          276,
          277,
          278,
          279,
          280,
          281,
          282,
          283,
          284,
          285,
          286,
          287,
          288,
          289,
          290,
          291,
          292,
          293,
          294,
          295,
          296,
          297,
          298,
          299,
          300,
          301,
          302,
          303,
          304,
          305,
          306,
          307,
          308,
          309,
          310,
          311,
          312,
          313,
          314,
          315,
          316,
          317,
          318,
          319,
          320,
          321,
          322,
          323,
          324,
          325,
          326,
          327,
          328,
          329,
          330,
          331,
          332,
          333,
          334,
          335,
          336,
          337,
          338,
          339
         ],
         "y": [
          181.0667426,
          181.5700976,
          181.5700976,
          181.5700976,
          181.5700976,
          181.5700976,
          181.5700976,
          181.6887226,
          181.6887226,
          181.6887226,
          181.6887226,
          181.6887226,
          181.6887226,
          181.6887226,
          181.6887226,
          181.6887226,
          181.6887226,
          181.6887226,
          181.6887226,
          181.6887226,
          181.6887226,
          181.6887226,
          181.6887226,
          181.6887226,
          181.6887226,
          181.6887226,
          181.6887226,
          181.6887226,
          181.7499418,
          181.7499418,
          217.7553006,
          217.7553006,
          217.7553006,
          217.7553006,
          217.7553006,
          217.7553006,
          217.7553006,
          217.7553006,
          217.7553006,
          217.7553006,
          217.7553006,
          217.7553006,
          217.7553006,
          217.7553006,
          217.84337,
          217.84337,
          217.84337,
          217.84337,
          217.8727778,
          217.8727778,
          217.8727778,
          217.8727778,
          217.8727778,
          217.8727778,
          217.8727778,
          217.8727778,
          217.8727778,
          217.8727778,
          217.8727778,
          217.8727778,
          220.67916340000002,
          220.67916340000002,
          220.67916340000002,
          220.67916340000002,
          220.67916340000002,
          220.67916340000002,
          225.48564539999998,
          225.48564539999998,
          225.48564539999998,
          225.48564539999998,
          227.7068162,
          227.84756460000003,
          227.84756460000003,
          227.84756460000003,
          227.84756460000003,
          227.84756460000003,
          232.44125560000003,
          232.44125560000003,
          232.44125560000003,
          232.44125560000003,
          232.44125560000003,
          232.44125560000003,
          232.44125560000003,
          232.6688188,
          232.6688188,
          232.6688188,
          232.6688188,
          232.6688188,
          232.6688188,
          232.6688188,
          233.15085599999998,
          233.15085599999998,
          233.21322739999997,
          233.21322739999997,
          233.21322739999997,
          233.21322739999997,
          233.21322739999997,
          233.21322739999997,
          233.21322739999997,
          233.21322739999997,
          233.21322739999997,
          233.21322739999997,
          233.2398816,
          233.2398816,
          233.2398816,
          233.2398816,
          233.2398816,
          233.2398816,
          233.2398816,
          233.2398816,
          233.2398816,
          233.2398816,
          233.2398816,
          233.2398816,
          233.2398816,
          233.57648440000003,
          233.57648440000003,
          233.65025559999998,
          233.65025559999998,
          233.65025559999998,
          233.65025559999998,
          233.65025559999998,
          233.65025559999998,
          233.65025559999998,
          233.65025559999998,
          233.65025559999998,
          233.65025559999998,
          233.65025559999998,
          233.65025559999998,
          233.65025559999998,
          233.65025559999998,
          233.65025559999998,
          233.74398920000004,
          233.74398920000004,
          233.74398920000004,
          233.74398920000004,
          233.74398920000004,
          233.74398920000004,
          233.74398920000004,
          233.74398920000004,
          233.74398920000004,
          233.74398920000004,
          233.74398920000004,
          233.74398920000004,
          233.74398920000004,
          233.74398920000004,
          233.74398920000004,
          233.74398920000004,
          233.74398920000004,
          233.74398920000004,
          233.74398920000004,
          233.8201688,
          233.8201688,
          233.8201688,
          233.8201688,
          233.8201688,
          233.8201688,
          233.8201688,
          233.8201688,
          233.8201688,
          233.8201688,
          233.8201688,
          233.8201688,
          233.8201688,
          233.8201688,
          233.8201688,
          233.8201688,
          233.8201688,
          233.8201688,
          233.8201688,
          233.8201688,
          233.8201688,
          233.8201688,
          233.8201688,
          233.8201688,
          233.8201688,
          233.8201688,
          233.8201688,
          233.8201688,
          233.8201688,
          233.8201688,
          233.8201688,
          233.8201688,
          233.8201688,
          233.8201688,
          233.8201688,
          233.8201688,
          233.8201688,
          233.8201688,
          233.8201688,
          233.8201688,
          233.8201688,
          233.8201688,
          233.8201688,
          233.8201688,
          233.8201688,
          233.8201688,
          233.8201688,
          233.8201688,
          233.8201688,
          233.8201688,
          233.8201688,
          233.8201688,
          233.8201688,
          233.8201688,
          233.8201688,
          233.8201688,
          233.8201688,
          233.8201688,
          233.8201688,
          233.8201688,
          233.8201688,
          233.8201688,
          233.8201688,
          233.8201688,
          233.8201688,
          233.8201688,
          233.8201688,
          233.8201688,
          233.8201688,
          233.8201688,
          233.8201688,
          233.8201688,
          233.8201688,
          233.8201688,
          233.8201688,
          233.8201688,
          233.8201688,
          233.8201688,
          233.8201688,
          233.8201688,
          242.47261899999998,
          242.47261899999998,
          242.47261899999998,
          242.47261899999998,
          242.47261899999998,
          242.47261899999998,
          242.47261899999998,
          242.47261899999998,
          242.47261899999998,
          242.47261899999998,
          242.47261899999998,
          242.47261899999998,
          242.47261899999998,
          242.47261899999998,
          242.47261899999998,
          242.47261899999998,
          242.47261899999998,
          242.47261899999998,
          242.47261899999998,
          242.47261899999998,
          242.47261899999998,
          242.47261899999998,
          242.47261899999998,
          242.47261899999998,
          242.47261899999998,
          242.47261899999998,
          242.47261899999998,
          242.47261899999998,
          242.47261899999998,
          242.47261899999998,
          242.47261899999998,
          242.47261899999998,
          242.47261899999998,
          247.0668576,
          251.71515319999997,
          251.71515319999997,
          251.71515319999997,
          251.71515319999997,
          251.71515319999997,
          251.71515319999997,
          251.71515319999997,
          251.71515319999997,
          251.71515319999997,
          251.71515319999997,
          251.71515319999997,
          251.71515319999997,
          251.71515319999997,
          251.71515319999997,
          251.71515319999997,
          251.71515319999997,
          251.71515319999997,
          251.71515319999997,
          251.71515319999997,
          251.71515319999997,
          251.71515319999997,
          251.71515319999997,
          251.71515319999997,
          251.71515319999997,
          251.71515319999997,
          251.71515319999997,
          251.71515319999997,
          251.71515319999997,
          251.71515319999997,
          251.71515319999997,
          251.71515319999997,
          251.71515319999997,
          251.71515319999997,
          251.71515319999997,
          251.71515319999997,
          251.71515319999997,
          251.71515319999997,
          251.71515319999997,
          251.71515319999997,
          251.71515319999997,
          251.71515319999997,
          251.71515319999997,
          251.71515319999997,
          251.71515319999997,
          251.71515319999997,
          251.71515319999997,
          251.71515319999997,
          251.71515319999997,
          251.71515319999997,
          251.71515319999997,
          251.71515319999997,
          251.71515319999997,
          251.71515319999997,
          251.71515319999997,
          251.71515319999997,
          251.71515319999997,
          251.71515319999997,
          251.71515319999997,
          251.71515319999997,
          251.71515319999997,
          251.71515319999997,
          251.71515319999997,
          251.71515319999997,
          251.71515319999997,
          251.71515319999997,
          251.71515319999997,
          251.71515319999997,
          251.71515319999997,
          251.71515319999997,
          251.71515319999997,
          251.71515319999997,
          251.71515319999997,
          251.71515319999997,
          251.71515319999997,
          251.71515319999997
         ]
        },
        {
         "marker": {
          "color": "#cccccc"
         },
         "mode": "markers",
         "name": "Infeasible Trial",
         "showlegend": false,
         "type": "scatter",
         "x": [],
         "y": []
        }
       ],
       "layout": {
        "height": 594,
        "margin": {
         "b": 60,
         "l": 60,
         "r": 30,
         "t": 30
        },
        "showlegend": false,
        "template": {
         "layout": {
          "colorway": [
           "#002D72",
           "#E2001A",
           "#5A5A5A",
           "#2C74B3",
           "#A1C9F4"
          ],
          "font": {
           "color": "#002D72",
           "family": "Arial, sans-serif",
           "size": 14
          },
          "paper_bgcolor": "white",
          "plot_bgcolor": "white",
          "title": {
           "font": {
            "color": "#002D72",
            "size": 20
           }
          },
          "xaxis": {
           "gridcolor": "#D1D1D1",
           "linecolor": "#002D72",
           "zerolinecolor": "#D1D1D1"
          },
          "yaxis": {
           "gridcolor": "#D1D1D1",
           "linecolor": "#002D72",
           "zerolinecolor": "#D1D1D1"
          }
         }
        },
        "title": {},
        "width": 960,
        "xaxis": {
         "title": {
          "text": "Trial"
         }
        },
        "yaxis": {
         "title": {
          "text": "Objective Value"
         }
        }
       }
      }
     },
     "metadata": {},
     "output_type": "display_data"
    }
   ],
   "source": [
    "uic_fig_hist = optuna.visualization.plot_optimization_history(uic_aggregated_study)\n",
    "uic_fig_hist.update_layout(width=960, height=594, showlegend=False, title=None, margin=dict(l=60, r=30, t=30, b=60))\n",
    "uic_fig_hist.show()"
   ]
  },
  {
   "cell_type": "markdown",
   "metadata": {},
   "source": [
    "### Slice Plot All Params"
   ]
  },
  {
   "cell_type": "code",
   "execution_count": null,
   "metadata": {},
   "outputs": [],
   "source": [
    "uic_full_params = {\n",
    "        col: col.replace(\"params_\", \"\")\n",
    "        for col in uic_aggregated_study.trials_dataframe().columns\n",
    "        if col.startswith(\"params_\")\n",
    "    }\n",
    "uic_full_params = list(uic_full_params.values())"
   ]
  },
  {
   "cell_type": "code",
   "execution_count": null,
   "metadata": {},
   "outputs": [
    {
     "data": {
      "application/vnd.plotly.v1+json": {
       "config": {
        "plotlyServerURL": "https://plot.ly"
       },
       "data": [
        {
         "marker": {
          "color": "#002D72",
          "opacity": 0.7
         },
         "mode": "markers",
         "type": "scatter",
         "x": [
          "LeakyReLU",
          "Tanh",
          "LeakyReLU",
          "LeakyReLU",
          "LeakyReLU",
          "ReLU",
          "LeakyReLU",
          "ReLU",
          "ReLU",
          "LeakyReLU",
          "ReLU",
          "Tanh",
          "Tanh",
          "Tanh",
          "Tanh",
          "ReLU",
          "ReLU",
          "Tanh",
          "ReLU",
          "Tanh",
          "ReLU",
          "ReLU",
          "ReLU",
          "ReLU",
          "ReLU",
          "Tanh",
          "ReLU",
          "Tanh",
          "ReLU",
          "ReLU",
          "ReLU",
          "ReLU",
          "Tanh",
          "ReLU",
          "ReLU",
          "ReLU",
          "ReLU",
          "Tanh",
          "ReLU",
          "Tanh",
          "Tanh",
          "ReLU",
          "ReLU",
          "ReLU",
          "ReLU",
          "ReLU",
          "ReLU",
          "ReLU",
          "Tanh",
          "Tanh",
          "Tanh",
          "Tanh",
          "Tanh",
          "Tanh",
          "ReLU",
          "ReLU",
          "Tanh",
          "ReLU",
          "Tanh",
          "ReLU",
          "ReLU",
          "Tanh",
          "ReLU",
          "ReLU",
          "ReLU",
          "Tanh",
          "Tanh",
          "ReLU",
          "Tanh",
          "Tanh",
          "Tanh",
          "Tanh",
          "Tanh",
          "Tanh",
          "Tanh",
          "Tanh",
          "Tanh",
          "Tanh",
          "Tanh",
          "Tanh",
          "Tanh",
          "Tanh",
          "Tanh",
          "Tanh",
          "Tanh",
          "Tanh",
          "ReLU",
          "Tanh",
          "Tanh",
          "ReLU",
          "Tanh",
          "Tanh",
          "Tanh",
          "Tanh",
          "Tanh",
          "ReLU",
          "Tanh",
          "ReLU",
          "Tanh",
          "Tanh",
          "ReLU",
          "Tanh",
          "Tanh",
          "Tanh",
          "Tanh",
          "Tanh",
          "Tanh",
          "Tanh",
          "Tanh",
          "Tanh",
          "Tanh",
          "Tanh",
          "Tanh",
          "Tanh",
          "Tanh",
          "Tanh",
          "Tanh",
          "Tanh",
          "Tanh",
          "ReLU",
          "Tanh",
          "Tanh",
          "Tanh",
          "Tanh",
          "Tanh",
          "Tanh",
          "Tanh",
          "Tanh",
          "Tanh",
          "Tanh",
          "Tanh",
          "Tanh",
          "Tanh",
          "Tanh",
          "Tanh",
          "Tanh",
          "ReLU",
          "ReLU",
          "ReLU",
          "ReLU",
          "ReLU",
          "ReLU",
          "ReLU",
          "ReLU",
          "ReLU",
          "ReLU",
          "ReLU",
          "ReLU",
          "ReLU",
          "ReLU",
          "ReLU",
          "ReLU",
          "ReLU",
          "ReLU",
          "ReLU",
          "ReLU",
          "ReLU",
          "ReLU",
          "ReLU",
          "ReLU",
          null,
          null,
          null,
          null,
          null,
          null,
          null,
          null,
          null,
          null,
          null,
          null,
          null,
          null,
          null,
          null,
          null,
          null,
          null,
          null,
          null,
          null,
          null,
          null,
          null,
          null,
          null,
          null,
          null,
          null,
          null,
          null,
          null,
          null,
          null,
          null,
          null,
          null,
          null,
          null,
          null,
          null,
          null,
          null,
          null,
          null,
          null,
          null,
          null,
          null,
          null,
          null,
          null,
          null,
          null,
          null,
          null,
          null,
          null,
          null,
          null,
          null,
          null,
          null,
          null,
          null,
          null,
          null,
          null,
          null,
          null,
          null,
          null,
          null,
          null,
          null,
          null,
          null,
          null,
          null,
          null,
          null,
          null,
          null,
          null,
          null,
          null,
          null,
          null,
          null,
          null,
          null,
          null,
          null,
          null,
          null,
          null,
          null,
          null,
          null,
          null,
          null,
          null,
          null,
          null,
          null,
          null,
          null,
          null,
          null,
          null,
          null,
          null,
          null,
          null,
          null,
          null,
          null,
          null,
          null,
          null,
          null,
          null,
          null,
          null,
          null,
          null,
          null,
          null,
          null,
          null,
          null,
          null,
          null,
          null,
          null,
          null,
          null,
          null,
          null,
          null,
          null,
          null,
          null,
          null,
          null,
          null,
          null,
          null,
          null,
          null,
          null,
          null,
          null,
          null,
          null,
          null,
          null,
          null,
          null,
          null,
          null,
          null,
          null,
          null,
          null,
          null,
          null,
          null,
          null,
          null,
          null,
          null,
          null,
          null,
          null,
          null,
          null,
          null,
          null
         ],
         "xaxis": "x",
         "y": {
          "bdata": "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",
          "dtype": "f8"
         },
         "yaxis": "y"
        },
        {
         "marker": {
          "color": "#002D72",
          "opacity": 0.7
         },
         "mode": "markers",
         "type": "scatter",
         "x": {
          "bdata": "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",
          "dtype": "f8"
         },
         "xaxis": "x2",
         "y": {
          "bdata": "AIhgwSKiZkDmcFI9PrJmQDKUuDM4nGZAhqo9kcyxZkAK62sCsaVmQD2vwnesr2ZAhKVw8/ycZkCEYPoDCrZmQDLW7aIeo2ZAR4SQPYylZkBlP+Zeu5lmQG5vEt75qGZAO8ocJvWyZkCTTV4JSaFmQOYtDbIboWZACik/qXauZkAqaKTv/6lmQDldu1koq2ZAUdVO3pGtZkBTaLSwgqZmQIv1spL7s2ZAlMSScnemZkDfJYKCnJ9mQP4fcdkyr2ZAvqDgvf6dZkBGBU62Aa1mQFoCOt3DpmZAw0cfTrukZkDoHPKF/7dmQODLM+X5rGZAxvQpbCs4a0CtnAfB9DJrQPr4Ol+iM2tAcJtfg3Q3a0CeJAJ6BjVrQOij53FzM2tA1nifmZYxa0BuCQrNPzdrQLLQGPewM2tAE6StpVs3a0DCBMmWwDJrQMBJLlrbNmtAbXDHQMM0a0AobQWohDZrQK4NFeP8OmtALjTXaaQ0a0AzkwPR7jZrQA70q5R5M2tAmHW1y+07a0BLESqCyTRrQFpLpq+MNGtAII6//jU3a0CIKvwZXjdrQDM5EO2+NWtAhTpRt9g0a0BS5jCp6zZrQPO+4IkPM2tASNoyhXM0a0AKXA0/7jVrQMt3OqEhN2tAffThtLuVa0AyK8pbZCVrQDUZ6aAmfmpAO3/JfHYAakAw3X+/c5RrQBje9k4WoGlAfc44aIovbED4T5IJ0zJrQA0dlmG3KmtAYADhQwnCakAO6QE9nnZsQOvHyz8fe2xAaE8Tx8t0bEA97gD0oHNsQBPQRNhwG2xAlVPxNTr9a0CqZRDEHg5tQKu3YW898GxAfsW/dH+PbECuNUpNcfBsQCYyzjo+CmtAKFgt+tTvbEBWgbXFkOZsQGYer/ZmFW1AqGIZ0Sw0bEDzypr9psNsQI4VoX3RnmtA84ewK/fvbEB1OpD1VG5rQBtTZjk/SmtA+Ez2z9MkbUCe0OtPYiNtQI2zRMLSJm1AxXB1AMSabECrgge8AiVtQAhnpmrxwWxAGGjSAaRUa0BdewuQDU1sQKX8/5Ma12tA6oL6lrnva0BmrsIcc/9sQPgIRm8CCW1AMF0tHK0nbUDuV6YE6cJsQNqK/WX3xGxA44XPMXulbEAKm0u74tNsQL2kMVpHo2xAo3Go34Wja0BGMppLYFNsQABghhAh42xAo25nX/kcbUA7j+W4LghtQCCFocQdJW1Alm63yc37bEDwlGmPcjJtQH1AoDNpomxATgHV5M40bUBozvqUYw1tQMb9R6bDtmxARSSvc3iCakATCIVSRTJtQG15QDTOM21A8y/uq5cybUAKLlbU4DJtQBiARunSCm1AvT0IAXkKbUDlpIuoZLBsQJ7hcmFJMm1Aioisf6EJbEDzf6INmwptQEAsQIAxFW1AelJwws43bUBKL2r3KzBtQA4sR8hAFW1A8yED1K+dbEBl2M0xRTVtQI7lXfUA4mxA3YPGApXAbEBeQHlp1GlsQMhsfx3uCGpAdv+zQYEzbUD2In/VNjFtQE7HrZPEJW1AkKCdeHM0bUCN+trpva9qQNN4M7RL8GxAwuc9hKe3bEBzPcBJiRptQM4MLJHVZGxALfu/NFYJbUBjpqPSPjptQLJcgMcBMG1AoF6VsNskbUDWnw516TJtQFjS5Sib/mxAmJKbl3kXbUDyzwzig85sQJVgFn8AMG1AGt4He+79bEB6qdiY15ZmQN1HyQatomZAfQG9cGejZkDm5hvRvZhmQDLD659MrWZA5r/2goWbZkDNQpZgTJ1mQBp5aj/jqWZALguBtxueZkByNKIPcaVmQF5lbVM8r2ZA8i1ijtSkZkDorttW6ahmQL2cIzxrsGZADusyoW6wZkDQCrGf6rVmQEt73ui+o2ZACrIKQEiiZkCuREVBFaJmQMgm+RE/qmZADpoCPuSnZkCm3I66Z6ZmQLNz5JL0p2ZAdcKV/QSgZkCoIWBjTZhmQPKWUGYormZAnkfF/52eZkAFX+LZr6JmQGP9VTZio2ZAlXFC1/STZkCYPPlPEjNrQCbK3lLOM2tAc/ikEwk0a0ATcu8roDVrQPBMaJJYM2tAjZKhdDM1a0D1uLlCaTFrQFsUh33ML2tA8DCS4ggwa0A1og/x6jprQJqSUQpfNGtAGlgiqzYya0DqgrAJHzlrQD6Skh6GNWtAUqBP5Ek1a0D+Y9es6TZrQJL5NrNMNWtAblgJzPkxa0A7gytFlzhrQG6Rao7iNWtAwHhhxu80a0A9aqdBrDVrQF54b1aOM2tAXeBNEqY1a0AyP5LtVzRrQF1gRfz5OGtAvZ755sg1a0BWCoFcYjhrQPZzrzjBOWtA3Q1H/C83a0B7kipAymZpQAo1Q6qok2xAEwX6RJ41a0Ale99TFC9sQMhKzLMSWmhAEH+oj5sJaUCc3JSXodxnQE4iwr8I/GlA3Z0QlSGlaUDTLqaZbqRqQJWkIZlExmtA+47hsR9PbkDo34m0aGJqQF1DBHf7zm1AJdaYxmXsbEA6xD9saQpqQMo3NpYLFm1AdTPtrCcSakC6IXzeQ21sQKpcTUP5sWZACgIaW75wbECejUsLzbdsQIWPLXAeBm1AjdntDoQ5akDL9nworA5tQJXDglY7imxACqsMPigna0BQErevqClsQErfWtw1QmxAEEKbd3cEaUAbhBSXvjRsQOg6nuAsU21AVhV1QdjPbEBO/jirT3hrQOZz7nY96GxAbfntkIdSbUCal8PuO3dqQCqBg6zdZWpAiTn3DYIhaUDoWf+dIwNsQPX3rTHDYGtALY7KTVQjbkBAKg8cYcptQMK6ljVWl21Apq+MsiPibkAmtPaI4nZvQNrO91NjAG9Am7nREQpjbUDYfcfwWP9rQOv8gKxMxG1AyHfOu1azbkDtTz0tmoxuQPqphe0C8G5AW+JtSp4TbkAG2Eenru5tQOIeSx+63m1AUA6woHrhbUBr+kc6XnltQMBd9utOim5AwqVjzrPObEC+LJIb6qVmQEO4uHzan2ZA5gHROHmiZkBbY9AJoaVmQCPM/opGqmZAwgTJlkCdZkBLpxpi4admQK43IPhOpWZAhX2WQvuwZkDWDjXAu55mQM7WC095o2ZASBebVgqhZkAcNtsmJq9mQKu6WGIvqGZAzPhS04mrZkB94d+xaaZmQGLmTCTioGZA3v5cNOShZkAPSYhNP6pmQLKjzGHSqGZAZkaJp2irZkDO3OgIBaxmQPrFERC4rmZAVqvA2mKoZkA4xNOGHrRmQJ6P1yiQtmZAQ8cOKnGmZkCeS8wOzKpmQM7gStEloGZAEXFzKhmlZkBSPHg3YDZrQKpPKPqyM2tAsyuI3Oc1a0Bzd4zhoDVrQOoKEctBNmtAdovAWN80a0ByTGCEOjNrQMO1JFF5NmtACrKvhlUza0BATwMGyTVrQKNzI9FwN2tAOC140Vc1a0CGhg82hjJrQHU/pyA/NmtAYOQKlDkya0DNhkbBHThrQCNwNfw4NmtA89iF1Q41a0AjnSbYJDRrQJ5gtejTMWtAY16i1SQ1a0DTMULTbTlrQAICjB3DM2tAwCyjR8I3a0B2CC01jDZrQPDaSlQUNWtAK/ddbDU1a0Du0XanljVrQFstC4G3OmtAYlxgRXw0a0A=",
          "dtype": "f8"
         },
         "yaxis": "y2"
        },
        {
         "marker": {
          "color": "#002D72",
          "opacity": 0.7
         },
         "mode": "markers",
         "type": "scatter",
         "x": {
          "bdata": "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",
          "dtype": "f8"
         },
         "xaxis": "x3",
         "y": {
          "bdata": "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",
          "dtype": "f8"
         },
         "yaxis": "y3"
        },
        {
         "marker": {
          "color": "#002D72",
          "opacity": 0.7
         },
         "mode": "markers",
         "type": "scatter",
         "x": {
          "bdata": "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",
          "dtype": "f8"
         },
         "xaxis": "x4",
         "y": {
          "bdata": "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",
          "dtype": "f8"
         },
         "yaxis": "y4"
        },
        {
         "marker": {
          "color": "#002D72",
          "opacity": 0.7
         },
         "mode": "markers",
         "type": "scatter",
         "x": {
          "bdata": "AAAAAAAA+H8AAAAAAAD4fwAAAAAAAPh/AAAAAAAA+H8AAAAAAAD4fwAAAAAAAPh/AAAAAAAA+H8AAAAAAAD4fwAAAAAAAPh/AAAAAAAA+H8AAAAAAAD4fwAAAAAAAPh/AAAAAAAA+H8AAAAAAAD4fwAAAAAAAPh/AAAAAAAA+H8AAAAAAAD4fwAAAAAAAPh/AAAAAAAA+H8AAAAAAAD4fwAAAAAAAPh/AAAAAAAA+H8AAAAAAAD4fwAAAAAAAPh/AAAAAAAA+H8AAAAAAAD4fwAAAAAAAPh/AAAAAAAA+H8AAAAAAAD4fwAAAAAAAPh/AAAAAAAA+H8AAAAAAAD4fwAAAAAAAPh/AAAAAAAA+H8AAAAAAAD4fwAAAAAAAPh/AAAAAAAA+H8AAAAAAAD4fwAAAAAAAPh/AAAAAAAA+H8AAAAAAAD4fwAAAAAAAPh/AAAAAAAA+H8AAAAAAAD4fwAAAAAAAPh/AAAAAAAA+H8AAAAAAAD4fwAAAAAAAPh/AAAAAAAA+H8AAAAAAAD4fwAAAAAAAPh/AAAAAAAA+H8AAAAAAAD4fwAAAAAAAPh/AAAAAAAA+H8AAAAAAAD4fwAAAAAAAPh/AAAAAAAA+H8AAAAAAAD4fwAAAAAAAPh/mG4Sg8DK7T8830+Nl27uP0Jg5dAi2+0/cT0K16Nw7T9GtvP91HjtP8UgsHJoke0/5tAi2/l+7j/D9Shcj8LtP8P1KFyPwu0/xSCwcmiR7T8lBoGVQ4vsPyPb+X5qvOw/+n5qvHST7D+kcD0K16PsP/YoXI/C9ew/oBov3SQG7T/LoUW28/3sP3WTGARWDu0/yXa+nxov7T9zaJHtfD/tP0jhehSuR+0/IbByaJHt7D+e76fGSzftP3e+nxov3ew/okW28/3U7D+4HoXrUbjuP/LSTWIQWO0/9P3UeOkm7T9rvHSTGATuP6JFtvP91Ow/+FPjpZvE7D8j2/l+arzsPyPb+X5qvOw/zczMzMzM7D9OYhBYObTsP3npJjEIrOw/TmIQWDm07D8VrkfhehTuP0oMAiuHFu0/z/dT46Wb7D8j2/l+arzsP0w3iUFg5ew/zczMzMzM7D/4U+Olm8TsPyUGgZVDi+w/eekmMQis7D+cxCCwcmjtPyGwcmiR7ew/JQaBlUOL7D9vEoPAyqHtP0oMAiuHFu0/okW28/3U7D+kcD0K16PsPyPb+X5qvOw/+FPjpZvE7D/LoUW28/3sP8uhRbbz/ew/IbByaJHt7D8hsHJoke3sPx+F61G4Hu0/y6FFtvP97D+kcD0K16PsP8/3U+Olm+w/pHA9Ctej7D/P91PjpZvsP8/3U+Olm+w/z/dT46Wb7D8lBoGVQ4vsP3e+nxov3ew/TDeJQWDl7D+kcD0K16PsP6JFtvP91Ow/d76fGi/d7D+gGi/dJAbtP3e+nxov3ew/vXSTGARW7j956SYxCKzsPx1aZDvfT+0/yXa+nxov7T9OYhBYObTsP/p+arx0k+w/eekmMQis7D956SYxCKzsP83MzMzMzOw/TDeJQWDl7D/2KFyPwvXsP3WTGARWDu0/TmIQWDm07D/6fmq8dJPsP83MzMzMzOw/TDeJQWDl7D93vp8aL93sP/hT46WbxOw/eekmMQis7D/2KFyPwvXsP0Jg5dAi2+0/z/dT46Wb7D8hsHJoke3sPyPb+X5qvOw/okW28/3U7D8AAAAAAAD4fwAAAAAAAPh/AAAAAAAA+H8AAAAAAAD4fwAAAAAAAPh/AAAAAAAA+H8AAAAAAAD4fwAAAAAAAPh/AAAAAAAA+H8AAAAAAAD4fwAAAAAAAPh/AAAAAAAA+H8AAAAAAAD4fwAAAAAAAPh/AAAAAAAA+H8AAAAAAAD4fwAAAAAAAPh/AAAAAAAA+H8AAAAAAAD4fwAAAAAAAPh/AAAAAAAA+H8AAAAAAAD4fwAAAAAAAPh/AAAAAAAA+H8AAAAAAAD4fwAAAAAAAPh/AAAAAAAA+H8AAAAAAAD4fwAAAAAAAPh/AAAAAAAA+H8AAAAAAAD4fwAAAAAAAPh/AAAAAAAA+H8AAAAAAAD4fwAAAAAAAPh/AAAAAAAA+H8AAAAAAAD4fwAAAAAAAPh/AAAAAAAA+H8AAAAAAAD4fwAAAAAAAPh/AAAAAAAA+H8AAAAAAAD4fwAAAAAAAPh/AAAAAAAA+H8AAAAAAAD4fwAAAAAAAPh/AAAAAAAA+H8AAAAAAAD4fwAAAAAAAPh/AAAAAAAA+H8AAAAAAAD4fwAAAAAAAPh/AAAAAAAA+H8AAAAAAAD4fwAAAAAAAPh/AAAAAAAA+H8AAAAAAAD4fwAAAAAAAPh/AAAAAAAA+H8AAAAAAAD4fwAAAAAAAPh/AAAAAAAA+H8AAAAAAAD4fwAAAAAAAPh/AAAAAAAA+H8AAAAAAAD4fwAAAAAAAPh/AAAAAAAA+H8AAAAAAAD4fwAAAAAAAPh/AAAAAAAA+H8AAAAAAAD4fwAAAAAAAPh/AAAAAAAA+H8AAAAAAAD4fwAAAAAAAPh/AAAAAAAA+H8AAAAAAAD4fwAAAAAAAPh/AAAAAAAA+H8AAAAAAAD4fwAAAAAAAPh/AAAAAAAA+H8AAAAAAAD4fwAAAAAAAPh/AAAAAAAA+H8AAAAAAAD4fwAAAAAAAPh/AAAAAAAA+H8AAAAAAAD4fwAAAAAAAPh/AAAAAAAA+H8AAAAAAAD4fwAAAAAAAPh/AAAAAAAA+H8AAAAAAAD4fwAAAAAAAPh/AAAAAAAA+H8AAAAAAAD4fwAAAAAAAPh/AAAAAAAA+H8AAAAAAAD4fwAAAAAAAPh/AAAAAAAA+H8AAAAAAAD4fwAAAAAAAPh/AAAAAAAA+H8AAAAAAAD4fwAAAAAAAPh/AAAAAAAA+H8AAAAAAAD4fwAAAAAAAPh/AAAAAAAA+H8AAAAAAAD4fwAAAAAAAPh/AAAAAAAA+H8AAAAAAAD4fwAAAAAAAPh/AAAAAAAA+H/NzMzMzMzsP9ejcD0K1+s/HoXrUbge7T/C9Shcj8LtP8L1KFyPwu0/16NwPQrX6z97FK5H4XrsP4XrUbgehes/wvUoXI/C7T/NzMzMzMzsP2ZmZmZmZu4/wvUoXI/C7T9mZmZmZmbuP2ZmZmZmZu4/FK5H4XoU7j9wPQrXo3DtP2ZmZmZmZu4/FK5H4XoU7j9wPQrXo3DtP3A9CtejcO0/FK5H4XoU7j8UrkfhehTuPxSuR+F6FO4/ZmZmZmZm7j8ehetRuB7tP3sUrkfheuw/exSuR+F67D97FK5H4XrsPx6F61G4Hu0/KVyPwvUo7D956SYxCKzsP7gehetRuO4/KVyPwvUo7D/RItv5fmrsP6AaL90kBu0/qMZLN4lB7D8UrkfhehTuP57vp8ZLN+0/Rrbz/dR47T93vp8aL93sPxsv3SQGge0/mpmZmZmZ7T/sUbgehevtP/T91HjpJu0/QmDl0CLb7T+PwvUoXI/uP7gehetRuO4/vHSTGARW7j+8dJMYBFbuPz4K16NwPe4/mG4Sg8DK7T+e76fGSzftP/LSTWIQWO0/I9v5fmq87D+kcD0K16PsP6JFtvP91Ow/+n5qvHST7D8hsHJoke3sP7pJDAIrh+4/j8L1KFyP7j8=",
          "dtype": "f8"
         },
         "xaxis": "x5",
         "y": {
          "bdata": "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",
          "dtype": "f8"
         },
         "yaxis": "y5"
        },
        {
         "marker": {
          "color": "#002D72",
          "opacity": 0.7
         },
         "mode": "markers",
         "type": "scatter",
         "x": {
          "bdata": "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",
          "dtype": "f8"
         },
         "xaxis": "x6",
         "y": {
          "bdata": "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",
          "dtype": "f8"
         },
         "yaxis": "y6"
        },
        {
         "marker": {
          "color": "#002D72",
          "opacity": 0.7
         },
         "mode": "markers",
         "type": "scatter",
         "x": {
          "bdata": "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",
          "dtype": "f8"
         },
         "xaxis": "x7",
         "y": {
          "bdata": "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",
          "dtype": "f8"
         },
         "yaxis": "y7"
        },
        {
         "marker": {
          "color": "#002D72",
          "opacity": 0.7
         },
         "mode": "markers",
         "type": "scatter",
         "x": {
          "bdata": "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",
          "dtype": "f8"
         },
         "xaxis": "x8",
         "y": {
          "bdata": "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",
          "dtype": "f8"
         },
         "yaxis": "y8"
        },
        {
         "marker": {
          "color": "#002D72",
          "opacity": 0.7
         },
         "mode": "markers",
         "type": "scatter",
         "x": {
          "bdata": "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",
          "dtype": "f8"
         },
         "xaxis": "x9",
         "y": {
          "bdata": "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",
          "dtype": "f8"
         },
         "yaxis": "y9"
        },
        {
         "marker": {
          "color": "#002D72",
          "opacity": 0.7
         },
         "mode": "markers",
         "type": "scatter",
         "x": {
          "bdata": "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",
          "dtype": "f8"
         },
         "xaxis": "x10",
         "y": {
          "bdata": "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",
          "dtype": "f8"
         },
         "yaxis": "y10"
        },
        {
         "marker": {
          "color": "#002D72",
          "opacity": 0.7
         },
         "mode": "markers",
         "type": "scatter",
         "x": {
          "bdata": "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",
          "dtype": "f8"
         },
         "xaxis": "x11",
         "y": {
          "bdata": "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",
          "dtype": "f8"
         },
         "yaxis": "y11"
        },
        {
         "marker": {
          "color": "#002D72",
          "opacity": 0.7
         },
         "mode": "markers",
         "type": "scatter",
         "x": {
          "bdata": "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",
          "dtype": "f8"
         },
         "xaxis": "x12",
         "y": {
          "bdata": "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",
          "dtype": "f8"
         },
         "yaxis": "y12"
        },
        {
         "marker": {
          "color": "#002D72",
          "opacity": 0.7
         },
         "mode": "markers",
         "type": "scatter",
         "x": {
          "bdata": "AAAAAAAA+H8AAAAAAAD4fwAAAAAAAPh/AAAAAAAA+H8AAAAAAAD4fwAAAAAAAPh/AAAAAAAA+H8AAAAAAAD4fwAAAAAAAPh/AAAAAAAA+H8AAAAAAAD4fwAAAAAAAPh/AAAAAAAA+H8AAAAAAAD4fwAAAAAAAPh/AAAAAAAA+H8AAAAAAAD4fwAAAAAAAPh/AAAAAAAA+H8AAAAAAAD4fwAAAAAAAPh/AAAAAAAA+H8AAAAAAAD4fwAAAAAAAPh/AAAAAAAA+H8AAAAAAAD4fwAAAAAAAPh/AAAAAAAA+H8AAAAAAAD4fwAAAAAAAPh/AAAAAAAA+H8AAAAAAAD4fwAAAAAAAPh/AAAAAAAA+H8AAAAAAAD4fwAAAAAAAPh/AAAAAAAA+H8AAAAAAAD4fwAAAAAAAPh/AAAAAAAA+H8AAAAAAAD4fwAAAAAAAPh/AAAAAAAA+H8AAAAAAAD4fwAAAAAAAPh/AAAAAAAA+H8AAAAAAAD4fwAAAAAAAPh/AAAAAAAA+H8AAAAAAAD4fwAAAAAAAPh/AAAAAAAA+H8AAAAAAAD4fwAAAAAAAPh/AAAAAAAA+H8AAAAAAAD4fwAAAAAAAPh/AAAAAAAA+H8AAAAAAAD4fwAAAAAAAPh/AAAAAAAA+D+amZmZmZnxPwAAAAAAAPA/AAAAAAAA8D/NzMzMzMzsP5qZmZmZmek/Z2ZmZmZm9j+amZmZmZnpPwAAAAAAAPg/NDMzMzMz8z/NzMzMzMz0P83MzMzMzPQ/zczMzMzM9D/NzMzMzMz0P83MzMzMzPQ/NDMzMzMz8z9nZmZmZmb2P2dmZmZmZvY/Z2ZmZmZm9j9nZmZmZmb2PwAAAAAAAPg/Z2ZmZmZm9j9nZmZmZmb2PwAAAAAAAPg/AAAAAAAA+D8AAAAAAAD4PzQzMzMzM/M/Z2ZmZmZm9j+amZmZmZnxPwAAAAAAAPg/AAAAAAAA+D8AAAAAAAD4PwAAAAAAAPg/AAAAAAAA+D8AAAAAAAD4PwAAAAAAAPg/AAAAAAAA8D8AAAAAAAD4PwAAAAAAAPg/zczMzMzM7D9nZmZmZmb2PwAAAAAAAPg/AAAAAAAA+D8AAAAAAAD4P2dmZmZmZvY/AAAAAAAA+D/NzMzMzMz0P2dmZmZmZvY/AAAAAAAA+D9nZmZmZmb2P83MzMzMzPQ/AAAAAAAA+D8AAAAAAAD4PwAAAAAAAPg/Z2ZmZmZm9j8AAAAAAAD4P2dmZmZmZvY/AAAAAAAA+D9nZmZmZmb2PwAAAAAAAPg/mpmZmZmZ6T8AAAAAAAD4PwAAAAAAAPg/AAAAAAAA+D8AAAAAAAD4P2dmZmZmZvY/Z2ZmZmZm9j8AAAAAAAD4PwAAAAAAAPg/mpmZmZmZ8T9nZmZmZmb2PwAAAAAAAPg/AAAAAAAA+D8AAAAAAAD4PwAAAAAAAPg/AAAAAAAA+D8AAAAAAAD4P2dmZmZmZvY/AAAAAAAA+D8AAAAAAAD4PwAAAAAAAPA/AAAAAAAA+D8AAAAAAAD4PwAAAAAAAPg/AAAAAAAA+D/NzMzMzMzsP2dmZmZmZvY/NDMzMzMz8z8AAAAAAAD4PwAAAAAAAPg/AAAAAAAA+D8AAAAAAAD4PwAAAAAAAPg/AAAAAAAA+D8AAAAAAAD4P2dmZmZmZvY/AAAAAAAA+D8AAAAAAAD4PwAAAAAAAPg/Z2ZmZmZm9j8AAAAAAAD4fwAAAAAAAPh/AAAAAAAA+H8AAAAAAAD4fwAAAAAAAPh/AAAAAAAA+H8AAAAAAAD4fwAAAAAAAPh/AAAAAAAA+H8AAAAAAAD4fwAAAAAAAPh/AAAAAAAA+H8AAAAAAAD4fwAAAAAAAPh/AAAAAAAA+H8AAAAAAAD4fwAAAAAAAPh/AAAAAAAA+H8AAAAAAAD4fwAAAAAAAPh/AAAAAAAA+H8AAAAAAAD4fwAAAAAAAPh/AAAAAAAA+H8AAAAAAAD4fwAAAAAAAPh/AAAAAAAA+H8AAAAAAAD4fwAAAAAAAPh/AAAAAAAA+H8AAAAAAAD4fwAAAAAAAPh/AAAAAAAA+H8AAAAAAAD4fwAAAAAAAPh/AAAAAAAA+H8AAAAAAAD4fwAAAAAAAPh/AAAAAAAA+H8AAAAAAAD4fwAAAAAAAPh/AAAAAAAA+H8AAAAAAAD4fwAAAAAAAPh/AAAAAAAA+H8AAAAAAAD4fwAAAAAAAPh/AAAAAAAA+H8AAAAAAAD4fwAAAAAAAPh/AAAAAAAA+H8AAAAAAAD4fwAAAAAAAPh/AAAAAAAA+H8AAAAAAAD4fwAAAAAAAPh/AAAAAAAA+H8AAAAAAAD4fwAAAAAAAPh/AAAAAAAA+H8AAAAAAADwP2dmZmZmZv4/zszMzMzM7D+amZmZmZnxP5qZmZmZmdk/AAAAAAAA+D9mZmZmZmbmP5qZmZmZmfk/Z2ZmZmZm9j9nZmZmZmb+P2dmZmZmZv4/MzMzMzMz8z+amZmZmZnJPwAAAAAAAABAzczMzMzM9D9mZmZmZmbmPzMzMzMzM/s/zczMzMzM9D8zMzMzMzP7PwAAAAAAAOA/AAAAAAAAAEAzMzMzMzP7P83MzMzMzPw/MzMzMzMz8z8AAAAAAAAAQAAAAAAAAPg/MzMzMzMz+z8AAAAAAAD4P83MzMzMzPw/zszMzMzM7D80MzMzMzPzPwAAAAAAAPg/mpmZmZmZ+T+amZmZmZnpP2dmZmZmZv4/AAAAAAAAAEAAAAAAAADwPwAAAAAAAPA/zczMzMzM7D80MzMzMzPzP5qZmZmZmfk/AAAAAAAAAEA0MzMzMzP7P83MzMzMzPw/NDMzMzMz+z8AAAAAAAAAQM3MzMzMzPw/Z2ZmZmZm9j9nZmZmZmb+P83MzMzMzPw/AAAAAAAAAEA0MzMzMzP7P83MzMzMzPw/Z2ZmZmZm/j/NzMzMzMz8PwAAAAAAAPg/zczMzMzM9D9nZmZmZmb+P5qZmZmZmfk/zczMzMzM/D8AAAAAAAD4fwAAAAAAAPh/AAAAAAAA+H8AAAAAAAD4fwAAAAAAAPh/AAAAAAAA+H8AAAAAAAD4fwAAAAAAAPh/AAAAAAAA+H8AAAAAAAD4fwAAAAAAAPh/AAAAAAAA+H8AAAAAAAD4fwAAAAAAAPh/AAAAAAAA+H8AAAAAAAD4fwAAAAAAAPh/AAAAAAAA+H8AAAAAAAD4fwAAAAAAAPh/AAAAAAAA+H8AAAAAAAD4fwAAAAAAAPh/AAAAAAAA+H8AAAAAAAD4fwAAAAAAAPh/AAAAAAAA+H8AAAAAAAD4fwAAAAAAAPh/AAAAAAAA+H8AAAAAAAD4fwAAAAAAAPh/AAAAAAAA+H8AAAAAAAD4fwAAAAAAAPh/AAAAAAAA+H8AAAAAAAD4fwAAAAAAAPh/AAAAAAAA+H8AAAAAAAD4fwAAAAAAAPh/AAAAAAAA+H8AAAAAAAD4fwAAAAAAAPh/AAAAAAAA+H8AAAAAAAD4fwAAAAAAAPh/AAAAAAAA+H8AAAAAAAD4fwAAAAAAAPh/AAAAAAAA+H8AAAAAAAD4fwAAAAAAAPh/AAAAAAAA+H8AAAAAAAD4fwAAAAAAAPh/AAAAAAAA+H8AAAAAAAD4fwAAAAAAAPh/AAAAAAAA+H8=",
          "dtype": "f8"
         },
         "xaxis": "x13",
         "y": {
          "bdata": "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",
          "dtype": "f8"
         },
         "yaxis": "y13"
        },
        {
         "marker": {
          "color": "#002D72",
          "opacity": 0.7
         },
         "mode": "markers",
         "type": "scatter",
         "x": {
          "bdata": "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",
          "dtype": "f8"
         },
         "xaxis": "x14",
         "y": {
          "bdata": "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",
          "dtype": "f8"
         },
         "yaxis": "y14"
        },
        {
         "marker": {
          "color": "#002D72",
          "opacity": 0.7
         },
         "mode": "markers",
         "type": "scatter",
         "x": {
          "bdata": "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",
          "dtype": "f8"
         },
         "xaxis": "x15",
         "y": {
          "bdata": "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",
          "dtype": "f8"
         },
         "yaxis": "y15"
        }
       ],
       "layout": {
        "annotations": [
         {
          "font": {
           "size": 16
          },
          "showarrow": false,
          "text": "activation",
          "x": 0.14444444444444446,
          "xanchor": "center",
          "xref": "paper",
          "y": 1,
          "yanchor": "bottom",
          "yref": "paper"
         },
         {
          "font": {
           "size": 16
          },
          "showarrow": false,
          "text": "batch_size",
          "x": 0.5,
          "xanchor": "center",
          "xref": "paper",
          "y": 1,
          "yanchor": "bottom",
          "yref": "paper"
         },
         {
          "font": {
           "size": 16
          },
          "showarrow": false,
          "text": "clip_range",
          "x": 0.8555555555555556,
          "xanchor": "center",
          "xref": "paper",
          "y": 1,
          "yanchor": "bottom",
          "yref": "paper"
         },
         {
          "font": {
           "size": 16
          },
          "showarrow": false,
          "text": "ent_coef",
          "x": 0.14444444444444446,
          "xanchor": "center",
          "xref": "paper",
          "y": 0.7949999999999999,
          "yanchor": "bottom",
          "yref": "paper"
         },
         {
          "font": {
           "size": 16
          },
          "showarrow": false,
          "text": "gae_lambda",
          "x": 0.5,
          "xanchor": "center",
          "xref": "paper",
          "y": 0.7949999999999999,
          "yanchor": "bottom",
          "yref": "paper"
         },
         {
          "font": {
           "size": 16
          },
          "showarrow": false,
          "text": "gamma",
          "x": 0.8555555555555556,
          "xanchor": "center",
          "xref": "paper",
          "y": 0.7949999999999999,
          "yanchor": "bottom",
          "yref": "paper"
         },
         {
          "font": {
           "size": 16
          },
          "showarrow": false,
          "text": "hidden_size",
          "x": 0.14444444444444446,
          "xanchor": "center",
          "xref": "paper",
          "y": 0.59,
          "yanchor": "bottom",
          "yref": "paper"
         },
         {
          "font": {
           "size": 16
          },
          "showarrow": false,
          "text": "learning_rate",
          "x": 0.5,
          "xanchor": "center",
          "xref": "paper",
          "y": 0.59,
          "yanchor": "bottom",
          "yref": "paper"
         },
         {
          "font": {
           "size": 16
          },
          "showarrow": false,
          "text": "n_layers",
          "x": 0.8555555555555556,
          "xanchor": "center",
          "xref": "paper",
          "y": 0.59,
          "yanchor": "bottom",
          "yref": "paper"
         },
         {
          "font": {
           "size": 16
          },
          "showarrow": false,
          "text": "n_steps",
          "x": 0.14444444444444446,
          "xanchor": "center",
          "xref": "paper",
          "y": 0.385,
          "yanchor": "bottom",
          "yref": "paper"
         },
         {
          "font": {
           "size": 16
          },
          "showarrow": false,
          "text": "reward_weight_demand",
          "x": 0.5,
          "xanchor": "center",
          "xref": "paper",
          "y": 0.385,
          "yanchor": "bottom",
          "yref": "paper"
         },
         {
          "font": {
           "size": 16
          },
          "showarrow": false,
          "text": "reward_weight_gini",
          "x": 0.8555555555555556,
          "xanchor": "center",
          "xref": "paper",
          "y": 0.385,
          "yanchor": "bottom",
          "yref": "paper"
         },
         {
          "font": {
           "size": 16
          },
          "showarrow": false,
          "text": "reward_weight_rebalancing",
          "x": 0.14444444444444446,
          "xanchor": "center",
          "xref": "paper",
          "y": 0.18,
          "yanchor": "bottom",
          "yref": "paper"
         },
         {
          "font": {
           "size": 16
          },
          "showarrow": false,
          "text": "use_target_kl",
          "x": 0.5,
          "xanchor": "center",
          "xref": "paper",
          "y": 0.18,
          "yanchor": "bottom",
          "yref": "paper"
         },
         {
          "font": {
           "size": 16
          },
          "showarrow": false,
          "text": "vf_coef",
          "x": 0.8555555555555556,
          "xanchor": "center",
          "xref": "paper",
          "y": 0.18,
          "yanchor": "bottom",
          "yref": "paper"
         }
        ],
        "height": 2000,
        "margin": {
         "b": 30,
         "l": 60,
         "r": 30,
         "t": 30
        },
        "showlegend": false,
        "template": {
         "layout": {
          "colorway": [
           "#002D72",
           "#E2001A",
           "#5A5A5A",
           "#2C74B3",
           "#A1C9F4"
          ],
          "font": {
           "color": "#002D72",
           "family": "Arial, sans-serif",
           "size": 14
          },
          "paper_bgcolor": "white",
          "plot_bgcolor": "white",
          "title": {
           "font": {
            "color": "#002D72",
            "size": 20
           }
          },
          "xaxis": {
           "gridcolor": "#D1D1D1",
           "linecolor": "#002D72",
           "zerolinecolor": "#D1D1D1"
          },
          "yaxis": {
           "gridcolor": "#D1D1D1",
           "linecolor": "#002D72",
           "zerolinecolor": "#D1D1D1"
          }
         }
        },
        "width": 1350,
        "xaxis": {
         "anchor": "y",
         "domain": [
          0,
          0.2888888888888889
         ]
        },
        "xaxis10": {
         "anchor": "y10",
         "domain": [
          0,
          0.2888888888888889
         ]
        },
        "xaxis11": {
         "anchor": "y11",
         "domain": [
          0.35555555555555557,
          0.6444444444444445
         ]
        },
        "xaxis12": {
         "anchor": "y12",
         "domain": [
          0.7111111111111111,
          1
         ]
        },
        "xaxis13": {
         "anchor": "y13",
         "domain": [
          0,
          0.2888888888888889
         ]
        },
        "xaxis14": {
         "anchor": "y14",
         "domain": [
          0.35555555555555557,
          0.6444444444444445
         ]
        },
        "xaxis15": {
         "anchor": "y15",
         "domain": [
          0.7111111111111111,
          1
         ]
        },
        "xaxis2": {
         "anchor": "y2",
         "domain": [
          0.35555555555555557,
          0.6444444444444445
         ]
        },
        "xaxis3": {
         "anchor": "y3",
         "domain": [
          0.7111111111111111,
          1
         ]
        },
        "xaxis4": {
         "anchor": "y4",
         "domain": [
          0,
          0.2888888888888889
         ]
        },
        "xaxis5": {
         "anchor": "y5",
         "domain": [
          0.35555555555555557,
          0.6444444444444445
         ]
        },
        "xaxis6": {
         "anchor": "y6",
         "domain": [
          0.7111111111111111,
          1
         ]
        },
        "xaxis7": {
         "anchor": "y7",
         "domain": [
          0,
          0.2888888888888889
         ]
        },
        "xaxis8": {
         "anchor": "y8",
         "domain": [
          0.35555555555555557,
          0.6444444444444445
         ],
         "nticks": 3,
         "tickformat": ".0e",
         "type": "log"
        },
        "xaxis9": {
         "anchor": "y9",
         "domain": [
          0.7111111111111111,
          1
         ]
        },
        "yaxis": {
         "anchor": "x",
         "domain": [
          0.82,
          1
         ],
         "title": {
          "text": "Objective Value"
         }
        },
        "yaxis10": {
         "anchor": "x10",
         "domain": [
          0.205,
          0.385
         ],
         "title": {
          "text": "Objective Value"
         }
        },
        "yaxis11": {
         "anchor": "x11",
         "domain": [
          0.205,
          0.385
         ]
        },
        "yaxis12": {
         "anchor": "x12",
         "domain": [
          0.205,
          0.385
         ]
        },
        "yaxis13": {
         "anchor": "x13",
         "domain": [
          0,
          0.18
         ],
         "title": {
          "text": "Objective Value"
         }
        },
        "yaxis14": {
         "anchor": "x14",
         "domain": [
          0,
          0.18
         ]
        },
        "yaxis15": {
         "anchor": "x15",
         "domain": [
          0,
          0.18
         ]
        },
        "yaxis2": {
         "anchor": "x2",
         "domain": [
          0.82,
          1
         ]
        },
        "yaxis3": {
         "anchor": "x3",
         "domain": [
          0.82,
          1
         ]
        },
        "yaxis4": {
         "anchor": "x4",
         "domain": [
          0.615,
          0.7949999999999999
         ],
         "title": {
          "text": "Objective Value"
         }
        },
        "yaxis5": {
         "anchor": "x5",
         "domain": [
          0.615,
          0.7949999999999999
         ]
        },
        "yaxis6": {
         "anchor": "x6",
         "domain": [
          0.615,
          0.7949999999999999
         ]
        },
        "yaxis7": {
         "anchor": "x7",
         "domain": [
          0.41,
          0.59
         ],
         "title": {
          "text": "Objective Value"
         }
        },
        "yaxis8": {
         "anchor": "x8",
         "domain": [
          0.41,
          0.59
         ]
        },
        "yaxis9": {
         "anchor": "x9",
         "domain": [
          0.41,
          0.59
         ]
        }
       }
      }
     },
     "metadata": {},
     "output_type": "display_data"
    }
   ],
   "source": [
    "uic_fig_slice_full = create_grid_slice_plot(\n",
    "    study=uic_aggregated_study,\n",
    "    top_params=uic_full_params,\n",
    "    vertical_spacing=0.025\n",
    ")\n",
    "uic_fig_slice_full.show()\n"
   ]
  },
  {
   "cell_type": "markdown",
   "metadata": {},
   "source": [
    "### Top 4 Params Slice Plot"
   ]
  },
  {
   "cell_type": "code",
   "execution_count": null,
   "metadata": {},
   "outputs": [
    {
     "data": {
      "application/vnd.plotly.v1+json": {
       "config": {
        "plotlyServerURL": "https://plot.ly"
       },
       "data": [
        {
         "marker": {
          "color": "#002D72",
          "opacity": 0.7
         },
         "mode": "markers",
         "type": "scatter",
         "x": {
          "bdata": "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",
          "dtype": "f8"
         },
         "xaxis": "x",
         "y": {
          "bdata": "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",
          "dtype": "f8"
         },
         "yaxis": "y"
        },
        {
         "marker": {
          "color": "#002D72",
          "opacity": 0.7
         },
         "mode": "markers",
         "type": "scatter",
         "x": {
          "bdata": "AAAAAAAA+H8AAAAAAAD4fwAAAAAAAPh/AAAAAAAA+H8AAAAAAAD4fwAAAAAAAPh/AAAAAAAA+H8AAAAAAAD4fwAAAAAAAPh/AAAAAAAA+H8AAAAAAAD4fwAAAAAAAPh/AAAAAAAA+H8AAAAAAAD4fwAAAAAAAPh/AAAAAAAA+H8AAAAAAAD4fwAAAAAAAPh/AAAAAAAA+H8AAAAAAAD4fwAAAAAAAPh/AAAAAAAA+H8AAAAAAAD4fwAAAAAAAPh/AAAAAAAA+H8AAAAAAAD4fwAAAAAAAPh/AAAAAAAA+H8AAAAAAAD4fwAAAAAAAPh/AAAAAAAA+H8AAAAAAAD4fwAAAAAAAPh/AAAAAAAA+H8AAAAAAAD4fwAAAAAAAPh/AAAAAAAA+H8AAAAAAAD4fwAAAAAAAPh/AAAAAAAA+H8AAAAAAAD4fwAAAAAAAPh/AAAAAAAA+H8AAAAAAAD4fwAAAAAAAPh/AAAAAAAA+H8AAAAAAAD4fwAAAAAAAPh/AAAAAAAA+H8AAAAAAAD4fwAAAAAAAPh/AAAAAAAA+H8AAAAAAAD4fwAAAAAAAPh/AAAAAAAA+H8AAAAAAAD4fwAAAAAAAPh/AAAAAAAA+H8AAAAAAAD4fwAAAAAAAPh/AAAAAAAAkEAAAAAAAACAQAAAAAAAAJBAAAAAAAAAkEAAAAAAAACQQAAAAAAAAJBAAAAAAAAAgEAAAAAAAACQQAAAAAAAAJBAAAAAAAAAgEAAAAAAAACAQAAAAAAAAIBAAAAAAAAAgEAAAAAAAACAQAAAAAAAAIBAAAAAAAAAgEAAAAAAAACAQAAAAAAAAIBAAAAAAAAAgEAAAAAAAACAQAAAAAAAAIBAAAAAAAAAgEAAAAAAAACAQAAAAAAAAIBAAAAAAAAAgEAAAAAAAACAQAAAAAAAAIBAAAAAAAAAgEAAAAAAAACAQAAAAAAAAIBAAAAAAAAAgEAAAAAAAACAQAAAAAAAAIBAAAAAAAAAgEAAAAAAAACAQAAAAAAAAJBAAAAAAAAAgEAAAAAAAACQQAAAAAAAAIBAAAAAAAAAkEAAAAAAAACAQAAAAAAAAIBAAAAAAAAAgEAAAAAAAACAQAAAAAAAAIBAAAAAAAAAkEAAAAAAAACAQAAAAAAAAIBAAAAAAAAAgEAAAAAAAACAQAAAAAAAAJBAAAAAAAAAgEAAAAAAAACAQAAAAAAAAIBAAAAAAAAAgEAAAAAAAACAQAAAAAAAAIBAAAAAAAAAgEAAAAAAAACAQAAAAAAAAIBAAAAAAAAAgEAAAAAAAACAQAAAAAAAAIBAAAAAAAAAgEAAAAAAAACAQAAAAAAAAIBAAAAAAAAAgEAAAAAAAACAQAAAAAAAAIBAAAAAAAAAgEAAAAAAAACAQAAAAAAAAIBAAAAAAAAAgEAAAAAAAACAQAAAAAAAAIBAAAAAAAAAgEAAAAAAAACQQAAAAAAAAJBAAAAAAAAAkEAAAAAAAACQQAAAAAAAAJBAAAAAAAAAkEAAAAAAAACQQAAAAAAAAJBAAAAAAAAAkEAAAAAAAACQQAAAAAAAAJBAAAAAAAAAkEAAAAAAAACQQAAAAAAAAJBAAAAAAAAAkEAAAAAAAACQQAAAAAAAAJBAAAAAAAAAkEAAAAAAAACQQAAAAAAAAJBAAAAAAAAAkEAAAAAAAACQQAAAAAAAAJBAAAAAAAAAkEAAAAAAAACAQAAAAAAAAIBAAAAAAAAAgEAAAAAAAABwQAAAAAAAAIBAAAAAAAAAgEAAAAAAAABwQAAAAAAAAIBAAAAAAAAAcEAAAAAAAABwQAAAAAAAAIBAAAAAAAAAgEAAAAAAAACAQAAAAAAAAIBAAAAAAAAAgEAAAAAAAACAQAAAAAAAAIBAAAAAAAAAgEAAAAAAAABwQAAAAAAAAIBAAAAAAAAAgEAAAAAAAACAQAAAAAAAAIBAAAAAAAAAgEAAAAAAAACAQAAAAAAAAIBAAAAAAAAAcEAAAAAAAACAQAAAAAAAAIBAAAAAAAAAgEAAAAAAAACQQAAAAAAAAJBAAAAAAAAAkEAAAAAAAACAQAAAAAAAAJBAAAAAAAAAgEAAAAAAAACAQAAAAAAAAIBAAAAAAAAAgEAAAAAAAACAQAAAAAAAAIBAAAAAAAAAgEAAAAAAAACAQAAAAAAAAIBAAAAAAAAAgEAAAAAAAACAQAAAAAAAAIBAAAAAAAAAgEAAAAAAAACQQAAAAAAAAIBAAAAAAAAAgEAAAAAAAACQQAAAAAAAAJBAAAAAAAAAkEAAAAAAAACQQAAAAAAAAJBAAAAAAAAAkEAAAAAAAACAQAAAAAAAAJBAAAAAAAAAkEAAAAAAAAD4fwAAAAAAAPh/AAAAAAAA+H8AAAAAAAD4fwAAAAAAAPh/AAAAAAAA+H8AAAAAAAD4fwAAAAAAAPh/AAAAAAAA+H8AAAAAAAD4fwAAAAAAAPh/AAAAAAAA+H8AAAAAAAD4fwAAAAAAAPh/AAAAAAAA+H8AAAAAAAD4fwAAAAAAAPh/AAAAAAAA+H8AAAAAAAD4fwAAAAAAAPh/AAAAAAAA+H8AAAAAAAD4fwAAAAAAAPh/AAAAAAAA+H8AAAAAAAD4fwAAAAAAAPh/AAAAAAAA+H8AAAAAAAD4fwAAAAAAAPh/AAAAAAAA+H8AAAAAAAD4fwAAAAAAAPh/AAAAAAAA+H8AAAAAAAD4fwAAAAAAAPh/AAAAAAAA+H8AAAAAAAD4fwAAAAAAAPh/AAAAAAAA+H8AAAAAAAD4fwAAAAAAAPh/AAAAAAAA+H8AAAAAAAD4fwAAAAAAAPh/AAAAAAAA+H8AAAAAAAD4fwAAAAAAAPh/AAAAAAAA+H8AAAAAAAD4fwAAAAAAAPh/AAAAAAAA+H8AAAAAAAD4fwAAAAAAAPh/AAAAAAAA+H8AAAAAAAD4fwAAAAAAAPh/AAAAAAAA+H8AAAAAAAD4fwAAAAAAAPh/AAAAAAAA+H8AAAAAAAD4fwAAAAAAAPh/AAAAAAAA+H8AAAAAAAD4fwAAAAAAAPh/AAAAAAAA+H8AAAAAAAD4fwAAAAAAAPh/AAAAAAAA+H8AAAAAAAD4fwAAAAAAAPh/AAAAAAAA+H8AAAAAAAD4fwAAAAAAAPh/AAAAAAAA+H8AAAAAAAD4fwAAAAAAAPh/AAAAAAAA+H8AAAAAAAD4fwAAAAAAAPh/AAAAAAAA+H8AAAAAAAD4fwAAAAAAAPh/AAAAAAAA+H8AAAAAAAD4fwAAAAAAAPh/AAAAAAAA+H8AAAAAAAD4fwAAAAAAAPh/AAAAAAAA+H8AAAAAAAD4fwAAAAAAAPh/AAAAAAAA+H8AAAAAAAD4fwAAAAAAAPh/AAAAAAAA+H8AAAAAAAD4fwAAAAAAAPh/AAAAAAAA+H8AAAAAAAD4fwAAAAAAAPh/AAAAAAAA+H8AAAAAAAD4fwAAAAAAAPh/AAAAAAAA+H8AAAAAAAD4fwAAAAAAAPh/AAAAAAAA+H8AAAAAAAD4fwAAAAAAAPh/AAAAAAAA+H8AAAAAAAD4fwAAAAAAAPh/AAAAAAAA+H8AAAAAAAD4fwAAAAAAAPh/AAAAAAAA+H8AAAAAAAD4fwAAAAAAAPh/AAAAAAAA+H8=",
          "dtype": "f8"
         },
         "xaxis": "x2",
         "y": {
          "bdata": "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",
          "dtype": "f8"
         },
         "yaxis": "y2"
        },
        {
         "marker": {
          "color": "#002D72",
          "opacity": 0.7
         },
         "mode": "markers",
         "type": "scatter",
         "x": {
          "bdata": "AAAAAAAA+H8AAAAAAAD4fwAAAAAAAPh/AAAAAAAA+H8AAAAAAAD4fwAAAAAAAPh/AAAAAAAA+H8AAAAAAAD4fwAAAAAAAPh/AAAAAAAA+H8AAAAAAAD4fwAAAAAAAPh/AAAAAAAA+H8AAAAAAAD4fwAAAAAAAPh/AAAAAAAA+H8AAAAAAAD4fwAAAAAAAPh/AAAAAAAA+H8AAAAAAAD4fwAAAAAAAPh/AAAAAAAA+H8AAAAAAAD4fwAAAAAAAPh/AAAAAAAA+H8AAAAAAAD4fwAAAAAAAPh/AAAAAAAA+H8AAAAAAAD4fwAAAAAAAPh/AAAAAAAA+H8AAAAAAAD4fwAAAAAAAPh/AAAAAAAA+H8AAAAAAAD4fwAAAAAAAPh/AAAAAAAA+H8AAAAAAAD4fwAAAAAAAPh/AAAAAAAA+H8AAAAAAAD4fwAAAAAAAPh/AAAAAAAA+H8AAAAAAAD4fwAAAAAAAPh/AAAAAAAA+H8AAAAAAAD4fwAAAAAAAPh/AAAAAAAA+H8AAAAAAAD4fwAAAAAAAPh/AAAAAAAA+H8AAAAAAAD4fwAAAAAAAPh/AAAAAAAA+H8AAAAAAAD4fwAAAAAAAPh/AAAAAAAA+H8AAAAAAAD4fwAAAAAAAPh/F9nO91Pj7T9GtvP91HjtPxFYObTIdu4/E4PAyqFF7j/m0CLb+X7uPz4K16NwPe4/ZTvfT42X7j9nZmZmZmbuP2U730+Nl+4/Z2ZmZmZm7j/ByqFFtvPtP0Jg5dAi2+0/F9nO91Pj7T9vEoPAyqHtP5ZDi2zn++0/GQRWDi2y7T/qJjEIrBzuP+omMQisHO4/v58aL90k7j/qJjEIrBzuP+omMQisHO4/6iYxCKwc7j8+CtejcD3uP8P1KFyPwu0/RIts5/up7T+cxCCwcmjtP5huEoPAyu0/a7x0kxgE7j/FILByaJHtP23n+6nx0u0/w/UoXI/C7T/D9Shcj8LtP+58PzVeuu0/w/UoXI/C7T/wp8ZLN4ntP/Cnxks3ie0/Rrbz/dR47T/HSzeJQWDtP8UgsHJoke0/GQRWDi2y7T9GtvP91HjtP8P1KFyPwu0/bxKDwMqh7T9vEoPAyqHtP/Cnxks3ie0/mpmZmZmZ7T/sUbgehevtPxkEVg4tsu0/QmDl0CLb7T8bL90kBoHtP+58PzVeuu0/mG4Sg8DK7T9vEoPAyqHtP23n+6nx0u0/a7x0kxgE7j/sUbgehevtP+xRuB6F6+0/F9nO91Pj7T9CYOXQItvtP+xRuB6F6+0/lkOLbOf77T9t5/up8dLtP0Jg5dAi2+0/QDVeukkM7j9ANV66SQzuP0A1XrpJDO4/QDVeukkM7j+UGARWDi3uP8HKoUW28+0/wcqhRbbz7T/o+6nx0k3uP0A1XrpJDO4/F9nO91Pj7T8X2c73U+PtP8HKoUW28+0/lBgEVg4t7j+WQ4ts5/vtPxWuR+F6FO4/lkOLbOf77T8X2c73U+PtP5ZDi2zn++0/bef7qfHS7T9CYOXQItvtP+xRuB6F6+0/a7x0kxgE7j8VrkfhehTuP2u8dJMYBO4/v58aL90k7j8X2c73U+PtP5huEoPAyu0/Fa5H4XoU7j/ByqFFtvPtP8HKoUW28+0/a7x0kxgE7j9CYOXQItvtP23n+6nx0u0/QmDl0CLb7T+WQ4ts5/vtPxfZzvdT4+0/QDVeukkM7j8AAAAAAAD4fwAAAAAAAPh/AAAAAAAA+H8AAAAAAAD4fwAAAAAAAPh/AAAAAAAA+H8AAAAAAAD4fwAAAAAAAPh/AAAAAAAA+H8AAAAAAAD4fwAAAAAAAPh/AAAAAAAA+H8AAAAAAAD4fwAAAAAAAPh/AAAAAAAA+H8AAAAAAAD4fwAAAAAAAPh/AAAAAAAA+H8AAAAAAAD4fwAAAAAAAPh/AAAAAAAA+H8AAAAAAAD4fwAAAAAAAPh/AAAAAAAA+H8AAAAAAAD4fwAAAAAAAPh/AAAAAAAA+H8AAAAAAAD4fwAAAAAAAPh/AAAAAAAA+H8AAAAAAAD4fwAAAAAAAPh/AAAAAAAA+H8AAAAAAAD4fwAAAAAAAPh/AAAAAAAA+H8AAAAAAAD4fwAAAAAAAPh/AAAAAAAA+H8AAAAAAAD4fwAAAAAAAPh/AAAAAAAA+H8AAAAAAAD4fwAAAAAAAPh/AAAAAAAA+H8AAAAAAAD4fwAAAAAAAPh/AAAAAAAA+H8AAAAAAAD4fwAAAAAAAPh/AAAAAAAA+H8AAAAAAAD4fwAAAAAAAPh/AAAAAAAA+H8AAAAAAAD4fwAAAAAAAPh/AAAAAAAA+H8AAAAAAAD4fwAAAAAAAPh/AAAAAAAA+H8AAAAAAAD4fwAAAAAAAPh/AAAAAAAA+H8AAAAAAAD4fwAAAAAAAPh/AAAAAAAA+H8AAAAAAAD4fwAAAAAAAPh/AAAAAAAA+H8AAAAAAAD4fwAAAAAAAPh/AAAAAAAA+H8AAAAAAAD4fwAAAAAAAPh/AAAAAAAA+H8AAAAAAAD4fwAAAAAAAPh/AAAAAAAA+H8AAAAAAAD4fwAAAAAAAPh/AAAAAAAA+H8AAAAAAAD4fwAAAAAAAPh/AAAAAAAA+H8AAAAAAAD4fwAAAAAAAPh/AAAAAAAA+H8AAAAAAAD4fwAAAAAAAPh/AAAAAAAA+H8AAAAAAAD4fwAAAAAAAPh/AAAAAAAA+H8AAAAAAAD4fwAAAAAAAPh/AAAAAAAA+H8AAAAAAAD4fwAAAAAAAPh/AAAAAAAA+H8AAAAAAAD4fwAAAAAAAPh/AAAAAAAA+H8AAAAAAAD4fwAAAAAAAPh/AAAAAAAA+H8AAAAAAAD4fwAAAAAAAPh/AAAAAAAA+H8AAAAAAAD4fwAAAAAAAPh/AAAAAAAA+H8AAAAAAAD4fwAAAAAAAPh/AAAAAAAA+H8AAAAAAAD4fwAAAAAAAPh/AAAAAAAA+H8AAAAAAAD4fwAAAAAAAPh/AAAAAAAA+H8dWmQ730/tPyUGgZVDi+w/F9nO91Pj7T+mm8QgsHLsP0Jg5dAi2+0/TDeJQWDl7D8bL90kBoHtP0SLbOf7qe0/nMQgsHJo7T9mZmZmZmbuP/YoXI/C9ew/6iYxCKwc7j9CYOXQItvtP8l2vp8aL+0/aJHtfD817j8pXI/C9SjsP0SLbOf7qe0/x0s3iUFg7T+gGi/dJAbtP8HKoUW28+0/mpmZmZmZ7T+8dJMYBFbuP7x0kxgEVu4/FK5H4XoU7j/sUbgehevtPxfZzvdT4+0/Rrbz/dR47T/ufD81XrrtP/T91HjpJu0/x0s3iUFg7T9ANV66SQzuP+omMQisHO4/6Pup8dJN7j8Tg8DKoUXuP5qZmZmZme0/wcqhRbbz7T/sUbgehevtP7pJDAIrh+4/8KfGSzeJ7T8dWmQ730/tP7pJDAIrh+4/EVg5tMh27j+6SQwCK4fuP+j7qfHSTe4/EVg5tMh27j8ZBFYOLbLtPxkEVg4tsu0/w/UoXI/C7T/HSzeJQWDtP57vp8ZLN+0/mG4Sg8DK7T+S7Xw/NV7uP5QYBFYOLe4/Gy/dJAaB7T8bL90kBoHtP5qZmZmZme0/cT0K16Nw7T8ZBFYOLbLtP23n+6nx0u0/a7x0kxgE7j8=",
          "dtype": "f8"
         },
         "xaxis": "x3",
         "y": {
          "bdata": "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",
          "dtype": "f8"
         },
         "yaxis": "y3"
        },
        {
         "marker": {
          "color": "#002D72",
          "opacity": 0.7
         },
         "mode": "markers",
         "type": "scatter",
         "x": {
          "bdata": "AAAAAAAA+H8AAAAAAAD4fwAAAAAAAPh/AAAAAAAA+H8AAAAAAAD4fwAAAAAAAPh/AAAAAAAA+H8AAAAAAAD4fwAAAAAAAPh/AAAAAAAA+H8AAAAAAAD4fwAAAAAAAPh/AAAAAAAA+H8AAAAAAAD4fwAAAAAAAPh/AAAAAAAA+H8AAAAAAAD4fwAAAAAAAPh/AAAAAAAA+H8AAAAAAAD4fwAAAAAAAPh/AAAAAAAA+H8AAAAAAAD4fwAAAAAAAPh/AAAAAAAA+H8AAAAAAAD4fwAAAAAAAPh/AAAAAAAA+H8AAAAAAAD4fwAAAAAAAPh/AAAAAAAA+H8AAAAAAAD4fwAAAAAAAPh/AAAAAAAA+H8AAAAAAAD4fwAAAAAAAPh/AAAAAAAA+H8AAAAAAAD4fwAAAAAAAPh/AAAAAAAA+H8AAAAAAAD4fwAAAAAAAPh/AAAAAAAA+H8AAAAAAAD4fwAAAAAAAPh/AAAAAAAA+H8AAAAAAAD4fwAAAAAAAPh/AAAAAAAA+H8AAAAAAAD4fwAAAAAAAPh/AAAAAAAA+H8AAAAAAAD4fwAAAAAAAPh/AAAAAAAA+H8AAAAAAAD4fwAAAAAAAPh/AAAAAAAA+H8AAAAAAAD4fwAAAAAAAPh/xbGM8H0EZD/+lHq1Fu1PPxZRIJraI+c+U4fSg1M7VT9qmh0tfGBHP1UMZ7F1fR0/WuLYoxjZ8D5tfkZ3xWo1PzHpP6v6eOw+9yHMQ0z+8D6awM8h44oOP8jHbMQCFww/4QUIjXGnCj+W/NcBNiwNP52fb6/UBQg/q7JmAUChIj9Uk0y097AyP7lH0kxVvDQ/CBdULQsmNj9dlopvHfowPyx5TZKx5UE/I6oBbpZpMT+e41RAx28bP74KlAIbRC8/Tws4/hWtQT9+gC6xQ0cqPw7NoD++VSk/4jKTWw1RFz/Gh+UGvfk+P97Y3AWNuWI/EV4KmhaY/D7aT/Yoygn/PlKqgn9G6Pw+dWMkqXtp/z79GkMicXT5PhQf/EMDG/0+mPwgczhg+z5DFGWdHtf1Plz/yIN90AI/9X0oawc06D7w0WiXpX4UP+peCtP/NvQ+vvbFUnyFAz/8Vin58C/3PlwNIj8a1QM/QdaowjY45T7SPT6Bjs3vPu2g+oYRxRI/sfp0nBZBBD/+su4JYB3zPi8+KM9OaPo+58Y85FNnAj/Puw5cstQAP9n3Es+T4gY/JMEWbWhqCT8KNmGKiG4RP6T+qCZfZw4/6kMCsbWoIj9pCvN/9dsgP9qGQKmXOhM/vq8JNdr8GT+B6NWV4OoGP0uPDXvxxAc/kkpWmg+4ET9llxVmxD8HP/M00qKmfxE/6NC5z0WmIz8+5TVxu1MPPy02WRjBex8/pdcy6tw9HT+N2LExmA0XP0cxwe11Ygc/nNrrgTUTJz8qt76RrykmP2DOYK2uqyA/nqbYu2hgLT8Le/1I80kXP14YpFadUxc/lreAagerJz8B7y+cSGciP9yQpHZ4Dxo/x9lYdHeUDz/VuxuCjjUQP3CzbFXp7xQ/iyl5tvqBHz9PvVz3HLkMPylOXz66pjk/xbT8kiB0Iz97HR0rL2osP4dwXHDT0Ao/XXNBCMM5Fj+8CTn2yGYdPxHY5JpRRRo/RMj1ME2LHT/nzMmS5fJNPwe4aPOiLVg/S184FIEZYD9RYPF28eZSP5PctVqSH04/NPLEEKIZEz8zxP0eOKfAPgZFitYNGOM+ISWp81QUyD6BtdxYAUAWP9aNusD00Uc/r2+eQz2wzT5JoUoWtoYTP27jLmpCIMU+p89AW4PRaD/D2XO3Oaq4PgPqq7JLLnM/1z4e+Tmqez8dXeNq6IhQP1j7AS8iIUg/zKM6sGILQT90Blorj+Q2P2AcXmf46yw/Q37qsCRw+T4QoOy9VlQ5P4ylT3ACrAI/fiIokIEuKz/Jhix8ZlBdPxY/BQL7cEM/ZSIpgzh1Mz+t30rS8m5cP+vZCL97piU/5nLmGrUWVz8WjgpyYGNBP1w4bdbNUB0/obuCLC+4Bz8TwaPsz3UXPxaS6qBvjV4/O0dm6fn3IT+ZN7qB+e1RP3O6Nnb06cI+xlXZ+CMOaz97m69TYPTPPst/TdSn6yA/T6K4GYB5sj6rjdv9uufzPuAKLUvfXOs+ZlyMqC3/QT+e6rN3fvbxPjL2RT8mf/A+0JRr7ANx9D7yMGcYNa8AP2giMLBvcNM+lX3zPotb3T7Ogfr/XsEGP8+EBF6kDy8/1HbA1abODD+xH0O/5hEFP6AmOn0o/eY+a78Jj5tiAD9obwvmIDgRP8EFe6ZYdjA/OJ4CSom6Nj9RwK7cjHArP5eb4wBpVeE+g2cv8Ydy4D4AAAAAAAD4fwAAAAAAAPh/AAAAAAAA+H8AAAAAAAD4fwAAAAAAAPh/AAAAAAAA+H8AAAAAAAD4fwAAAAAAAPh/AAAAAAAA+H8AAAAAAAD4fwAAAAAAAPh/AAAAAAAA+H8AAAAAAAD4fwAAAAAAAPh/AAAAAAAA+H8AAAAAAAD4fwAAAAAAAPh/AAAAAAAA+H8AAAAAAAD4fwAAAAAAAPh/AAAAAAAA+H8AAAAAAAD4fwAAAAAAAPh/AAAAAAAA+H8AAAAAAAD4fwAAAAAAAPh/AAAAAAAA+H8AAAAAAAD4fwAAAAAAAPh/AAAAAAAA+H8AAAAAAAD4fwAAAAAAAPh/AAAAAAAA+H8AAAAAAAD4fwAAAAAAAPh/AAAAAAAA+H8AAAAAAAD4fwAAAAAAAPh/AAAAAAAA+H8AAAAAAAD4fwAAAAAAAPh/AAAAAAAA+H8AAAAAAAD4fwAAAAAAAPh/AAAAAAAA+H8AAAAAAAD4fwAAAAAAAPh/AAAAAAAA+H8AAAAAAAD4fwAAAAAAAPh/AAAAAAAA+H8AAAAAAAD4fwAAAAAAAPh/AAAAAAAA+H8AAAAAAAD4fwAAAAAAAPh/AAAAAAAA+H8AAAAAAAD4fwAAAAAAAPh/AAAAAAAA+H8AAAAAAAD4fwAAAAAAAPh/AAAAAAAA+H8AAAAAAAD4fwAAAAAAAPh/AAAAAAAA+H8AAAAAAAD4fwAAAAAAAPh/AAAAAAAA+H8AAAAAAAD4fwAAAAAAAPh/AAAAAAAA+H8AAAAAAAD4fwAAAAAAAPh/AAAAAAAA+H8AAAAAAAD4fwAAAAAAAPh/AAAAAAAA+H8AAAAAAAD4fwAAAAAAAPh/AAAAAAAA+H8AAAAAAAD4fwAAAAAAAPh/AAAAAAAA+H8AAAAAAAD4fwAAAAAAAPh/AAAAAAAA+H8AAAAAAAD4fwAAAAAAAPh/AAAAAAAA+H8AAAAAAAD4fwAAAAAAAPh/AAAAAAAA+H8AAAAAAAD4fwAAAAAAAPh/AAAAAAAA+H8AAAAAAAD4fwAAAAAAAPh/AAAAAAAA+H8AAAAAAAD4fwAAAAAAAPh/AAAAAAAA+H8AAAAAAAD4fwAAAAAAAPh/AAAAAAAA+H8AAAAAAAD4fwAAAAAAAPh/AAAAAAAA+H8AAAAAAAD4fwAAAAAAAPh/AAAAAAAA+H8AAAAAAAD4fwAAAAAAAPh/AAAAAAAA+H8AAAAAAAD4fwAAAAAAAPh/AAAAAAAA+H8AAAAAAAD4fwAAAAAAAPh/AAAAAAAA+H8=",
          "dtype": "f8"
         },
         "xaxis": "x4",
         "y": {
          "bdata": "AIhgwSKiZkDmcFI9PrJmQDKUuDM4nGZAhqo9kcyxZkAK62sCsaVmQD2vwnesr2ZAhKVw8/ycZkCEYPoDCrZmQDLW7aIeo2ZAR4SQPYylZkBlP+Zeu5lmQG5vEt75qGZAO8ocJvWyZkCTTV4JSaFmQOYtDbIboWZACik/qXauZkAqaKTv/6lmQDldu1koq2ZAUdVO3pGtZkBTaLSwgqZmQIv1spL7s2ZAlMSScnemZkDfJYKCnJ9mQP4fcdkyr2ZAvqDgvf6dZkBGBU62Aa1mQFoCOt3DpmZAw0cfTrukZkDoHPKF/7dmQODLM+X5rGZAxvQpbCs4a0CtnAfB9DJrQPr4Ol+iM2tAcJtfg3Q3a0CeJAJ6BjVrQOij53FzM2tA1nifmZYxa0BuCQrNPzdrQLLQGPewM2tAE6StpVs3a0DCBMmWwDJrQMBJLlrbNmtAbXDHQMM0a0AobQWohDZrQK4NFeP8OmtALjTXaaQ0a0AzkwPR7jZrQA70q5R5M2tAmHW1y+07a0BLESqCyTRrQFpLpq+MNGtAII6//jU3a0CIKvwZXjdrQDM5EO2+NWtAhTpRt9g0a0BS5jCp6zZrQPO+4IkPM2tASNoyhXM0a0AKXA0/7jVrQMt3OqEhN2tAffThtLuVa0AyK8pbZCVrQDUZ6aAmfmpAO3/JfHYAakAw3X+/c5RrQBje9k4WoGlAfc44aIovbED4T5IJ0zJrQA0dlmG3KmtAYADhQwnCakAO6QE9nnZsQOvHyz8fe2xAaE8Tx8t0bEA97gD0oHNsQBPQRNhwG2xAlVPxNTr9a0CqZRDEHg5tQKu3YW898GxAfsW/dH+PbECuNUpNcfBsQCYyzjo+CmtAKFgt+tTvbEBWgbXFkOZsQGYer/ZmFW1AqGIZ0Sw0bEDzypr9psNsQI4VoX3RnmtA84ewK/fvbEB1OpD1VG5rQBtTZjk/SmtA+Ez2z9MkbUCe0OtPYiNtQI2zRMLSJm1AxXB1AMSabECrgge8AiVtQAhnpmrxwWxAGGjSAaRUa0BdewuQDU1sQKX8/5Ma12tA6oL6lrnva0BmrsIcc/9sQPgIRm8CCW1AMF0tHK0nbUDuV6YE6cJsQNqK/WX3xGxA44XPMXulbEAKm0u74tNsQL2kMVpHo2xAo3Go34Wja0BGMppLYFNsQABghhAh42xAo25nX/kcbUA7j+W4LghtQCCFocQdJW1Alm63yc37bEDwlGmPcjJtQH1AoDNpomxATgHV5M40bUBozvqUYw1tQMb9R6bDtmxARSSvc3iCakATCIVSRTJtQG15QDTOM21A8y/uq5cybUAKLlbU4DJtQBiARunSCm1AvT0IAXkKbUDlpIuoZLBsQJ7hcmFJMm1Aioisf6EJbEDzf6INmwptQEAsQIAxFW1AelJwws43bUBKL2r3KzBtQA4sR8hAFW1A8yED1K+dbEBl2M0xRTVtQI7lXfUA4mxA3YPGApXAbEBeQHlp1GlsQMhsfx3uCGpAdv+zQYEzbUD2In/VNjFtQE7HrZPEJW1AkKCdeHM0bUCN+trpva9qQNN4M7RL8GxAwuc9hKe3bEBzPcBJiRptQM4MLJHVZGxALfu/NFYJbUBjpqPSPjptQLJcgMcBMG1AoF6VsNskbUDWnw516TJtQFjS5Sib/mxAmJKbl3kXbUDyzwzig85sQJVgFn8AMG1AGt4He+79bEB6qdiY15ZmQN1HyQatomZAfQG9cGejZkDm5hvRvZhmQDLD659MrWZA5r/2goWbZkDNQpZgTJ1mQBp5aj/jqWZALguBtxueZkByNKIPcaVmQF5lbVM8r2ZA8i1ijtSkZkDorttW6ahmQL2cIzxrsGZADusyoW6wZkDQCrGf6rVmQEt73ui+o2ZACrIKQEiiZkCuREVBFaJmQMgm+RE/qmZADpoCPuSnZkCm3I66Z6ZmQLNz5JL0p2ZAdcKV/QSgZkCoIWBjTZhmQPKWUGYormZAnkfF/52eZkAFX+LZr6JmQGP9VTZio2ZAlXFC1/STZkCYPPlPEjNrQCbK3lLOM2tAc/ikEwk0a0ATcu8roDVrQPBMaJJYM2tAjZKhdDM1a0D1uLlCaTFrQFsUh33ML2tA8DCS4ggwa0A1og/x6jprQJqSUQpfNGtAGlgiqzYya0DqgrAJHzlrQD6Skh6GNWtAUqBP5Ek1a0D+Y9es6TZrQJL5NrNMNWtAblgJzPkxa0A7gytFlzhrQG6Rao7iNWtAwHhhxu80a0A9aqdBrDVrQF54b1aOM2tAXeBNEqY1a0AyP5LtVzRrQF1gRfz5OGtAvZ755sg1a0BWCoFcYjhrQPZzrzjBOWtA3Q1H/C83a0B7kipAymZpQAo1Q6qok2xAEwX6RJ41a0Ale99TFC9sQMhKzLMSWmhAEH+oj5sJaUCc3JSXodxnQE4iwr8I/GlA3Z0QlSGlaUDTLqaZbqRqQJWkIZlExmtA+47hsR9PbkDo34m0aGJqQF1DBHf7zm1AJdaYxmXsbEA6xD9saQpqQMo3NpYLFm1AdTPtrCcSakC6IXzeQ21sQKpcTUP5sWZACgIaW75wbECejUsLzbdsQIWPLXAeBm1AjdntDoQ5akDL9nworA5tQJXDglY7imxACqsMPigna0BQErevqClsQErfWtw1QmxAEEKbd3cEaUAbhBSXvjRsQOg6nuAsU21AVhV1QdjPbEBO/jirT3hrQOZz7nY96GxAbfntkIdSbUCal8PuO3dqQCqBg6zdZWpAiTn3DYIhaUDoWf+dIwNsQPX3rTHDYGtALY7KTVQjbkBAKg8cYcptQMK6ljVWl21Apq+MsiPibkAmtPaI4nZvQNrO91NjAG9Am7nREQpjbUDYfcfwWP9rQOv8gKxMxG1AyHfOu1azbkDtTz0tmoxuQPqphe0C8G5AW+JtSp4TbkAG2Eenru5tQOIeSx+63m1AUA6woHrhbUBr+kc6XnltQMBd9utOim5AwqVjzrPObEC+LJIb6qVmQEO4uHzan2ZA5gHROHmiZkBbY9AJoaVmQCPM/opGqmZAwgTJlkCdZkBLpxpi4admQK43IPhOpWZAhX2WQvuwZkDWDjXAu55mQM7WC095o2ZASBebVgqhZkAcNtsmJq9mQKu6WGIvqGZAzPhS04mrZkB94d+xaaZmQGLmTCTioGZA3v5cNOShZkAPSYhNP6pmQLKjzGHSqGZAZkaJp2irZkDO3OgIBaxmQPrFERC4rmZAVqvA2mKoZkA4xNOGHrRmQJ6P1yiQtmZAQ8cOKnGmZkCeS8wOzKpmQM7gStEloGZAEXFzKhmlZkBSPHg3YDZrQKpPKPqyM2tAsyuI3Oc1a0Bzd4zhoDVrQOoKEctBNmtAdovAWN80a0ByTGCEOjNrQMO1JFF5NmtACrKvhlUza0BATwMGyTVrQKNzI9FwN2tAOC140Vc1a0CGhg82hjJrQHU/pyA/NmtAYOQKlDkya0DNhkbBHThrQCNwNfw4NmtA89iF1Q41a0AjnSbYJDRrQJ5gtejTMWtAY16i1SQ1a0DTMULTbTlrQAICjB3DM2tAwCyjR8I3a0B2CC01jDZrQPDaSlQUNWtAK/ddbDU1a0Du0XanljVrQFstC4G3OmtAYlxgRXw0a0A=",
          "dtype": "f8"
         },
         "yaxis": "y4"
        }
       ],
       "layout": {
        "annotations": [
         {
          "font": {
           "size": 16
          },
          "showarrow": false,
          "text": "learning_rate",
          "x": 0.225,
          "xanchor": "center",
          "xref": "paper",
          "y": 1,
          "yanchor": "bottom",
          "yref": "paper"
         },
         {
          "font": {
           "size": 16
          },
          "showarrow": false,
          "text": "n_steps",
          "x": 0.775,
          "xanchor": "center",
          "xref": "paper",
          "y": 1,
          "yanchor": "bottom",
          "yref": "paper"
         },
         {
          "font": {
           "size": 16
          },
          "showarrow": false,
          "text": "gamma",
          "x": 0.225,
          "xanchor": "center",
          "xref": "paper",
          "y": 0.45,
          "yanchor": "bottom",
          "yref": "paper"
         },
         {
          "font": {
           "size": 16
          },
          "showarrow": false,
          "text": "ent_coef",
          "x": 0.775,
          "xanchor": "center",
          "xref": "paper",
          "y": 0.45,
          "yanchor": "bottom",
          "yref": "paper"
         }
        ],
        "height": 800,
        "margin": {
         "b": 30,
         "l": 60,
         "r": 30,
         "t": 30
        },
        "showlegend": false,
        "template": {
         "layout": {
          "colorway": [
           "#002D72",
           "#E2001A",
           "#5A5A5A",
           "#2C74B3",
           "#A1C9F4"
          ],
          "font": {
           "color": "#002D72",
           "family": "Arial, sans-serif",
           "size": 14
          },
          "paper_bgcolor": "white",
          "plot_bgcolor": "white",
          "title": {
           "font": {
            "color": "#002D72",
            "size": 20
           }
          },
          "xaxis": {
           "gridcolor": "#D1D1D1",
           "linecolor": "#002D72",
           "zerolinecolor": "#D1D1D1"
          },
          "yaxis": {
           "gridcolor": "#D1D1D1",
           "linecolor": "#002D72",
           "zerolinecolor": "#D1D1D1"
          }
         }
        },
        "width": 900,
        "xaxis": {
         "anchor": "y",
         "domain": [
          0,
          0.45
         ],
         "nticks": 3,
         "tickformat": ".0e",
         "type": "log"
        },
        "xaxis2": {
         "anchor": "y2",
         "domain": [
          0.55,
          1
         ]
        },
        "xaxis3": {
         "anchor": "y3",
         "domain": [
          0,
          0.45
         ]
        },
        "xaxis4": {
         "anchor": "y4",
         "domain": [
          0.55,
          1
         ]
        },
        "yaxis": {
         "anchor": "x",
         "domain": [
          0.55,
          1
         ],
         "title": {
          "text": "Objective Value"
         }
        },
        "yaxis2": {
         "anchor": "x2",
         "domain": [
          0.55,
          1
         ]
        },
        "yaxis3": {
         "anchor": "x3",
         "domain": [
          0,
          0.45
         ],
         "title": {
          "text": "Objective Value"
         }
        },
        "yaxis4": {
         "anchor": "x4",
         "domain": [
          0,
          0.45
         ]
        }
       }
      }
     },
     "metadata": {},
     "output_type": "display_data"
    }
   ],
   "source": [
    "uic_top_params = ['learning_rate', 'n_steps', 'gamma', 'ent_coef']\n",
    "\n",
    "uic_fig_slice_focused = create_grid_slice_plot(\n",
    "    study=uic_aggregated_study,\n",
    "    top_params=uic_top_params\n",
    ")\n",
    "uic_fig_slice_focused.show()"
   ]
  }
 ],
 "metadata": {
  "kernelspec": {
   "display_name": "py_310_torch_env",
   "language": "python",
   "name": "python3"
  },
  "language_info": {
   "codemirror_mode": {
    "name": "ipython",
    "version": 3
   },
   "file_extension": ".py",
   "mimetype": "text/x-python",
   "name": "python",
   "nbconvert_exporter": "python",
   "pygments_lexer": "ipython3",
   "version": "3.10.16"
  }
 },
 "nbformat": 4,
 "nbformat_minor": 4
}
