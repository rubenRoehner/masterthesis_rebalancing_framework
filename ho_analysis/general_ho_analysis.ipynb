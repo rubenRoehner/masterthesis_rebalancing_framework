{
 "cells": [
  {
   "cell_type": "markdown",
   "metadata": {},
   "source": [
    "# Hyperparameter Optimization Visualization"
   ]
  },
  {
   "cell_type": "code",
   "execution_count": 60,
   "metadata": {},
   "outputs": [],
   "source": [
    "import os\n",
    "import pickle\n",
    "import pandas as pd\n",
    "import optuna\n",
    "import plotly.io as pio\n",
    "import plotly.graph_objects as go\n",
    "from optuna.trial import create_trial, TrialState\n",
    "from optuna.distributions import CategoricalDistribution, FloatDistribution, IntDistribution"
   ]
  },
  {
   "cell_type": "code",
   "execution_count": null,
   "metadata": {},
   "outputs": [
    {
     "name": "stdout",
     "output_type": "stream",
     "text": [
      "Plotly theme 'esslingen_cd' has been registered and set as the default.\n"
     ]
    }
   ],
   "source": [
    "HE_RED = \"#E2001A\"\n",
    "HE_BLUE = \"#002D72\"\n",
    "HE_GRAY = \"#5A5A5A\"\n",
    "HE_LIGHT_GRAY = \"#D1D1D1\"\n",
    "\n",
    "pio.templates[\"esslingen_cd\"] = go.layout.Template(\n",
    "    layout=go.Layout(\n",
    "        colorway=[HE_BLUE, HE_RED, HE_GRAY, \"#2C74B3\", \"#A1C9F4\"],\n",
    "        font=dict(\n",
    "            family=\"Arial, sans-serif\",\n",
    "            size=14,\n",
    "            color=HE_BLUE  # Use the dark blue for text\n",
    "        ),\n",
    "        title=dict(\n",
    "            font=dict(size=20, color=HE_BLUE)\n",
    "        ),\n",
    "        paper_bgcolor=\"white\",\n",
    "        plot_bgcolor=\"white\",\n",
    "        xaxis=dict(\n",
    "            gridcolor=HE_LIGHT_GRAY,\n",
    "            linecolor=HE_BLUE,\n",
    "            zerolinecolor=HE_LIGHT_GRAY\n",
    "        ),\n",
    "        yaxis=dict(\n",
    "            gridcolor=HE_LIGHT_GRAY,\n",
    "            linecolor=HE_BLUE,\n",
    "            zerolinecolor=HE_LIGHT_GRAY\n",
    "        ),\n",
    "    )\n",
    ")\n",
    "\n",
    "pio.templates.default = \"esslingen_cd\""
   ]
  },
  {
   "cell_type": "code",
   "execution_count": 62,
   "metadata": {},
   "outputs": [],
   "source": [
    "# Constants\n",
    "RESULTS_DIR = \"../ho_results\"\n",
    "\n",
    "RDC_PREFIX = \"rdc_ho\"\n",
    "UIC_PREFIX = \"uic_ho\"\n",
    "\n",
    "STUDY_FILE_SUFFIX = \"_final.pickle\""
   ]
  },
  {
   "cell_type": "code",
   "execution_count": 63,
   "metadata": {},
   "outputs": [],
   "source": [
    "def load_all_dataframes(prefix, results_dir=RESULTS_DIR):\n",
    "    all_dfs: dict[str, pd.DataFrame] = {}\n",
    "\n",
    "    for filename in sorted(os.listdir(results_dir)):\n",
    "        if filename.startswith(prefix) and filename.endswith(\".pickle\"):\n",
    "            file_path = os.path.join(results_dir, filename)\n",
    "            try:\n",
    "                with open(file_path, \"rb\") as f:\n",
    "                    loaded_obj = pickle.load(f)\n",
    "                    all_dfs[filename] = loaded_obj\n",
    "            except Exception as e:\n",
    "                print(f\"- Could not load or process {filename}. Error: {e}\")\n",
    "\n",
    "    return all_dfs"
   ]
  },
  {
   "cell_type": "code",
   "execution_count": 64,
   "metadata": {},
   "outputs": [],
   "source": [
    "def create_study_from_df(study_name, df):\n",
    "    param_cols = {\n",
    "        col: col.replace(\"params_\", \"\")\n",
    "        for col in df.columns\n",
    "        if col.startswith(\"params_\")\n",
    "    }\n",
    "    df.rename(columns=param_cols, inplace=True)\n",
    "    clean_param_names = list(param_cols.values())\n",
    "\n",
    "    distributions = {}\n",
    "    for name in clean_param_names:\n",
    "        series = df[name].dropna()\n",
    "        if series.empty:\n",
    "            continue\n",
    "\n",
    "        unique_values = series.unique()\n",
    "\n",
    "        try:\n",
    "            sorted(unique_values)\n",
    "            is_mixed_type = False\n",
    "        except TypeError:\n",
    "            is_mixed_type = True\n",
    "\n",
    "        if is_mixed_type or series.dtype == \"object\":\n",
    "            choices = sorted([str(x) for x in unique_values])\n",
    "            distributions[name] = CategoricalDistribution(choices=choices)\n",
    "        elif \"int\" in str(series.dtype) or (\n",
    "            \"float\" in str(series.dtype)\n",
    "            and series.nunique() <= 10\n",
    "            and all(float(x).is_integer() for x in unique_values)\n",
    "        ):\n",
    "            distributions[name] = CategoricalDistribution(\n",
    "                choices=sorted([int(x) for x in unique_values])\n",
    "            )\n",
    "        elif \"int\" in str(series.dtype):\n",
    "            distributions[name] = IntDistribution(\n",
    "                low=int(series.min()), high=int(series.max())\n",
    "            )\n",
    "        elif \"float\" in str(series.dtype):\n",
    "            distributions[name] = FloatDistribution(\n",
    "                low=float(series.min()), high=float(series.max())\n",
    "            )\n",
    "\n",
    "    trials = []\n",
    "    for _, row in df.iterrows():\n",
    "        params = {}\n",
    "        for name in clean_param_names:\n",
    "            if pd.notna(row[name]):\n",
    "                if (\n",
    "                    name in distributions\n",
    "                    and isinstance(distributions[name], CategoricalDistribution)\n",
    "                    and distributions[name].choices\n",
    "                    and isinstance(distributions[name].choices[0], str)\n",
    "                ):\n",
    "                    params[name] = str(row[name])\n",
    "                else:\n",
    "                    params[name] = row[name]\n",
    "\n",
    "        trial_distributions = {\n",
    "            name: distributions[name] for name in params.keys() if name in distributions\n",
    "        }\n",
    "        trial = create_trial(\n",
    "            state=TrialState.COMPLETE,\n",
    "            value=row[\"value\"],\n",
    "            params=params,\n",
    "            distributions=trial_distributions,\n",
    "        )\n",
    "        trials.append(trial)\n",
    "\n",
    "    study = optuna.create_study(study_name=study_name, direction=\"maximize\")\n",
    "    study.add_trials(trials)\n",
    "    return study"
   ]
  },
  {
   "cell_type": "code",
   "execution_count": 65,
   "metadata": {},
   "outputs": [],
   "source": [
    "def set_log_scale_for_lr(fig, index, n_ticks=4):\n",
    "    axis_name = f'xaxis{index}' if index > 1 else 'xaxis'\n",
    "    \n",
    "    fig.update_layout({axis_name: {'type': 'log', 'tickformat': '.0e', 'nticks': n_ticks}})"
   ]
  },
  {
   "cell_type": "code",
   "execution_count": 66,
   "metadata": {},
   "outputs": [],
   "source": [
    "from plotly.subplots import make_subplots\n",
    "def create_grid_slice_plot(study, top_params, vertical_spacing=0.1):\n",
    "    n_params = len(top_params)\n",
    "    cols = 3 if n_params > 4 else 2\n",
    "    rows = (n_params + cols - 1) // cols\n",
    "    \n",
    "    fig = make_subplots(\n",
    "        rows=rows, \n",
    "        cols=cols, \n",
    "        subplot_titles=top_params,\n",
    "        vertical_spacing=vertical_spacing,\n",
    "    )\n",
    "    \n",
    "    df = study.trials_dataframe()\n",
    "\n",
    "    for i, param in enumerate(top_params):\n",
    "        row = (i // cols) + 1\n",
    "        col = (i % cols) + 1\n",
    "        \n",
    "        trace = go.Scatter(\n",
    "            x=df[f\"params_{param}\"],\n",
    "            y=df[\"value\"],\n",
    "            mode=\"markers\",\n",
    "            marker=dict(\n",
    "                color=HE_BLUE,\n",
    "                opacity=0.7\n",
    "            )\n",
    "        )\n",
    "        \n",
    "        fig.add_trace(trace, row=row, col=col)\n",
    "        \n",
    "        if 'lr' in param or 'learning_rate' in param:\n",
    "            fig.update_xaxes(type='log', tickformat='.0e', row=row, col=col, nticks=3)\n",
    "            \n",
    "    fig.update_layout(\n",
    "        showlegend=False,\n",
    "        width=450 * cols,\n",
    "        height=400 * rows,\n",
    "        margin=dict(l=60, r=30, t=30, b=30),\n",
    "    )\n",
    "    \n",
    "    for r in range(1, rows + 1):\n",
    "        fig.update_yaxes(title_text=\"Objective Value\", row=r, col=1)\n",
    "    \n",
    "    return fig"
   ]
  },
  {
   "cell_type": "markdown",
   "metadata": {},
   "source": [
    "## 1. RDC Analysis"
   ]
  },
  {
   "cell_type": "code",
   "execution_count": 67,
   "metadata": {},
   "outputs": [],
   "source": [
    "rdc_dfs_dict = load_all_dataframes(prefix=RDC_PREFIX)"
   ]
  },
  {
   "cell_type": "markdown",
   "metadata": {},
   "source": [
    "### Individual Importance Plots (Per File)\n",
    "\n",
    "These plots show the hyperparameter importance for each individual experimental run. This is the most accurate way to see which parameters were most influential in a specific context (e.g., for architecture tuning)."
   ]
  },
  {
   "cell_type": "code",
   "execution_count": 68,
   "metadata": {},
   "outputs": [
    {
     "name": "stderr",
     "output_type": "stream",
     "text": [
      "[I 2025-07-11 13:02:01,207] A new study created in memory with name: rdc_ho_architecture_20250706-120351\n"
     ]
    },
    {
     "data": {
      "application/vnd.plotly.v1+json": {
       "config": {
        "plotlyServerURL": "https://plot.ly"
       },
       "data": [
        {
         "cliponaxis": false,
         "hovertemplate": [
          "rdc_batch_size (CategoricalDistribution): 0.44920901578063704<extra></extra>",
          "rdc_hidden_dim (CategoricalDistribution): 0.550790984219363<extra></extra>"
         ],
         "name": "Objective Value",
         "orientation": "h",
         "text": [
          "0.45",
          "0.55"
         ],
         "textposition": "outside",
         "type": "bar",
         "x": [
          0.44920901578063704,
          0.550790984219363
         ],
         "y": [
          "rdc_batch_size",
          "rdc_hidden_dim"
         ]
        }
       ],
       "layout": {
        "height": 500,
        "template": {
         "layout": {
          "colorway": [
           "#002D72",
           "#E2001A",
           "#5A5A5A",
           "#2C74B3",
           "#A1C9F4"
          ],
          "font": {
           "color": "#002D72",
           "family": "Arial, sans-serif",
           "size": 14
          },
          "paper_bgcolor": "white",
          "plot_bgcolor": "white",
          "title": {
           "font": {
            "color": "#002D72",
            "size": 20
           }
          },
          "xaxis": {
           "gridcolor": "#D1D1D1",
           "linecolor": "#002D72",
           "zerolinecolor": "#D1D1D1"
          },
          "yaxis": {
           "gridcolor": "#D1D1D1",
           "linecolor": "#002D72",
           "zerolinecolor": "#D1D1D1"
          }
         }
        },
        "title": {
         "text": "Importance for: rdc_ho_architecture_20250706-120351"
        },
        "width": 1000,
        "xaxis": {
         "title": {
          "text": "Hyperparameter Importance"
         }
        },
        "yaxis": {
         "title": {
          "text": "Hyperparameter"
         }
        }
       }
      }
     },
     "metadata": {},
     "output_type": "display_data"
    },
    {
     "name": "stderr",
     "output_type": "stream",
     "text": [
      "[I 2025-07-11 13:02:01,511] A new study created in memory with name: rdc_ho_architecture_20250709-071406\n"
     ]
    },
    {
     "data": {
      "application/vnd.plotly.v1+json": {
       "config": {
        "plotlyServerURL": "https://plot.ly"
       },
       "data": [
        {
         "cliponaxis": false,
         "hovertemplate": [
          "rdc_hidden_dim (CategoricalDistribution): 0.42024536607781704<extra></extra>",
          "rdc_batch_size (CategoricalDistribution): 0.579754633922183<extra></extra>"
         ],
         "name": "Objective Value",
         "orientation": "h",
         "text": [
          "0.42",
          "0.58"
         ],
         "textposition": "outside",
         "type": "bar",
         "x": [
          0.42024536607781704,
          0.579754633922183
         ],
         "y": [
          "rdc_hidden_dim",
          "rdc_batch_size"
         ]
        }
       ],
       "layout": {
        "height": 500,
        "template": {
         "layout": {
          "colorway": [
           "#002D72",
           "#E2001A",
           "#5A5A5A",
           "#2C74B3",
           "#A1C9F4"
          ],
          "font": {
           "color": "#002D72",
           "family": "Arial, sans-serif",
           "size": 14
          },
          "paper_bgcolor": "white",
          "plot_bgcolor": "white",
          "title": {
           "font": {
            "color": "#002D72",
            "size": 20
           }
          },
          "xaxis": {
           "gridcolor": "#D1D1D1",
           "linecolor": "#002D72",
           "zerolinecolor": "#D1D1D1"
          },
          "yaxis": {
           "gridcolor": "#D1D1D1",
           "linecolor": "#002D72",
           "zerolinecolor": "#D1D1D1"
          }
         }
        },
        "title": {
         "text": "Importance for: rdc_ho_architecture_20250709-071406"
        },
        "width": 1000,
        "xaxis": {
         "title": {
          "text": "Hyperparameter Importance"
         }
        },
        "yaxis": {
         "title": {
          "text": "Hyperparameter"
         }
        }
       }
      }
     },
     "metadata": {},
     "output_type": "display_data"
    },
    {
     "name": "stderr",
     "output_type": "stream",
     "text": [
      "[I 2025-07-11 13:02:01,705] A new study created in memory with name: rdc_ho_exploration_20250707-074432\n"
     ]
    },
    {
     "data": {
      "application/vnd.plotly.v1+json": {
       "config": {
        "plotlyServerURL": "https://plot.ly"
       },
       "data": [
        {
         "cliponaxis": false,
         "hovertemplate": [
          "rdc_epsilon_decay (FloatDistribution): 0.4975583941253295<extra></extra>",
          "rdc_epsilon_end (FloatDistribution): 0.5024416058746705<extra></extra>"
         ],
         "name": "Objective Value",
         "orientation": "h",
         "text": [
          "0.50",
          "0.50"
         ],
         "textposition": "outside",
         "type": "bar",
         "x": [
          0.4975583941253295,
          0.5024416058746705
         ],
         "y": [
          "rdc_epsilon_decay",
          "rdc_epsilon_end"
         ]
        }
       ],
       "layout": {
        "height": 500,
        "template": {
         "layout": {
          "colorway": [
           "#002D72",
           "#E2001A",
           "#5A5A5A",
           "#2C74B3",
           "#A1C9F4"
          ],
          "font": {
           "color": "#002D72",
           "family": "Arial, sans-serif",
           "size": 14
          },
          "paper_bgcolor": "white",
          "plot_bgcolor": "white",
          "title": {
           "font": {
            "color": "#002D72",
            "size": 20
           }
          },
          "xaxis": {
           "gridcolor": "#D1D1D1",
           "linecolor": "#002D72",
           "zerolinecolor": "#D1D1D1"
          },
          "yaxis": {
           "gridcolor": "#D1D1D1",
           "linecolor": "#002D72",
           "zerolinecolor": "#D1D1D1"
          }
         }
        },
        "title": {
         "text": "Importance for: rdc_ho_exploration_20250707-074432"
        },
        "width": 1000,
        "xaxis": {
         "title": {
          "text": "Hyperparameter Importance"
         }
        },
        "yaxis": {
         "title": {
          "text": "Hyperparameter"
         }
        }
       }
      }
     },
     "metadata": {},
     "output_type": "display_data"
    },
    {
     "name": "stderr",
     "output_type": "stream",
     "text": [
      "[I 2025-07-11 13:02:02,055] A new study created in memory with name: rdc_ho_exploration_20250709-204731\n"
     ]
    },
    {
     "data": {
      "application/vnd.plotly.v1+json": {
       "config": {
        "plotlyServerURL": "https://plot.ly"
       },
       "data": [
        {
         "cliponaxis": false,
         "hovertemplate": [
          "rdc_epsilon_end (FloatDistribution): 0.4419692581315382<extra></extra>",
          "rdc_epsilon_decay (FloatDistribution): 0.5580307418684618<extra></extra>"
         ],
         "name": "Objective Value",
         "orientation": "h",
         "text": [
          "0.44",
          "0.56"
         ],
         "textposition": "outside",
         "type": "bar",
         "x": [
          0.4419692581315382,
          0.5580307418684618
         ],
         "y": [
          "rdc_epsilon_end",
          "rdc_epsilon_decay"
         ]
        }
       ],
       "layout": {
        "height": 500,
        "template": {
         "layout": {
          "colorway": [
           "#002D72",
           "#E2001A",
           "#5A5A5A",
           "#2C74B3",
           "#A1C9F4"
          ],
          "font": {
           "color": "#002D72",
           "family": "Arial, sans-serif",
           "size": 14
          },
          "paper_bgcolor": "white",
          "plot_bgcolor": "white",
          "title": {
           "font": {
            "color": "#002D72",
            "size": 20
           }
          },
          "xaxis": {
           "gridcolor": "#D1D1D1",
           "linecolor": "#002D72",
           "zerolinecolor": "#D1D1D1"
          },
          "yaxis": {
           "gridcolor": "#D1D1D1",
           "linecolor": "#002D72",
           "zerolinecolor": "#D1D1D1"
          }
         }
        },
        "title": {
         "text": "Importance for: rdc_ho_exploration_20250709-204731"
        },
        "width": 1000,
        "xaxis": {
         "title": {
          "text": "Hyperparameter Importance"
         }
        },
        "yaxis": {
         "title": {
          "text": "Hyperparameter"
         }
        }
       }
      }
     },
     "metadata": {},
     "output_type": "display_data"
    },
    {
     "name": "stderr",
     "output_type": "stream",
     "text": [
      "[I 2025-07-11 13:02:02,550] A new study created in memory with name: rdc_ho_learningrate_20250704-083610\n"
     ]
    },
    {
     "data": {
      "application/vnd.plotly.v1+json": {
       "config": {
        "plotlyServerURL": "https://plot.ly"
       },
       "data": [
        {
         "cliponaxis": false,
         "hovertemplate": [
          "rdc_lr_gamma (FloatDistribution): 0.12404970164831172<extra></extra>",
          "rdc_lr_step_size (CategoricalDistribution): 0.2437294908533778<extra></extra>",
          "rdc_gamma (FloatDistribution): 0.30107876050641774<extra></extra>",
          "rdc_lr (FloatDistribution): 0.3311420469918927<extra></extra>"
         ],
         "name": "Objective Value",
         "orientation": "h",
         "text": [
          "0.12",
          "0.24",
          "0.30",
          "0.33"
         ],
         "textposition": "outside",
         "type": "bar",
         "x": [
          0.12404970164831172,
          0.2437294908533778,
          0.30107876050641774,
          0.3311420469918927
         ],
         "y": [
          "rdc_lr_gamma",
          "rdc_lr_step_size",
          "rdc_gamma",
          "rdc_lr"
         ]
        }
       ],
       "layout": {
        "height": 500,
        "template": {
         "layout": {
          "colorway": [
           "#002D72",
           "#E2001A",
           "#5A5A5A",
           "#2C74B3",
           "#A1C9F4"
          ],
          "font": {
           "color": "#002D72",
           "family": "Arial, sans-serif",
           "size": 14
          },
          "paper_bgcolor": "white",
          "plot_bgcolor": "white",
          "title": {
           "font": {
            "color": "#002D72",
            "size": 20
           }
          },
          "xaxis": {
           "gridcolor": "#D1D1D1",
           "linecolor": "#002D72",
           "zerolinecolor": "#D1D1D1"
          },
          "yaxis": {
           "gridcolor": "#D1D1D1",
           "linecolor": "#002D72",
           "zerolinecolor": "#D1D1D1"
          }
         }
        },
        "title": {
         "text": "Importance for: rdc_ho_learningrate_20250704-083610"
        },
        "width": 1000,
        "xaxis": {
         "title": {
          "text": "Hyperparameter Importance"
         }
        },
        "yaxis": {
         "title": {
          "text": "Hyperparameter"
         }
        }
       }
      }
     },
     "metadata": {},
     "output_type": "display_data"
    },
    {
     "name": "stderr",
     "output_type": "stream",
     "text": [
      "[I 2025-07-11 13:02:03,086] A new study created in memory with name: rdc_ho_learningrate_20250708-081844\n"
     ]
    },
    {
     "data": {
      "application/vnd.plotly.v1+json": {
       "config": {
        "plotlyServerURL": "https://plot.ly"
       },
       "data": [
        {
         "cliponaxis": false,
         "hovertemplate": [
          "rdc_gamma (FloatDistribution): 0.07645328930941812<extra></extra>",
          "rdc_lr_gamma (FloatDistribution): 0.1662605915634217<extra></extra>",
          "rdc_lr_step_size (CategoricalDistribution): 0.2547410812864111<extra></extra>",
          "rdc_lr (FloatDistribution): 0.502545037840749<extra></extra>"
         ],
         "name": "Objective Value",
         "orientation": "h",
         "text": [
          "0.08",
          "0.17",
          "0.25",
          "0.50"
         ],
         "textposition": "outside",
         "type": "bar",
         "x": [
          0.07645328930941812,
          0.1662605915634217,
          0.2547410812864111,
          0.502545037840749
         ],
         "y": [
          "rdc_gamma",
          "rdc_lr_gamma",
          "rdc_lr_step_size",
          "rdc_lr"
         ]
        }
       ],
       "layout": {
        "height": 500,
        "template": {
         "layout": {
          "colorway": [
           "#002D72",
           "#E2001A",
           "#5A5A5A",
           "#2C74B3",
           "#A1C9F4"
          ],
          "font": {
           "color": "#002D72",
           "family": "Arial, sans-serif",
           "size": 14
          },
          "paper_bgcolor": "white",
          "plot_bgcolor": "white",
          "title": {
           "font": {
            "color": "#002D72",
            "size": 20
           }
          },
          "xaxis": {
           "gridcolor": "#D1D1D1",
           "linecolor": "#002D72",
           "zerolinecolor": "#D1D1D1"
          },
          "yaxis": {
           "gridcolor": "#D1D1D1",
           "linecolor": "#002D72",
           "zerolinecolor": "#D1D1D1"
          }
         }
        },
        "title": {
         "text": "Importance for: rdc_ho_learningrate_20250708-081844"
        },
        "width": 1000,
        "xaxis": {
         "title": {
          "text": "Hyperparameter Importance"
         }
        },
        "yaxis": {
         "title": {
          "text": "Hyperparameter"
         }
        }
       }
      }
     },
     "metadata": {},
     "output_type": "display_data"
    },
    {
     "name": "stderr",
     "output_type": "stream",
     "text": [
      "[I 2025-07-11 13:02:04,017] A new study created in memory with name: rdc_ho_replaybuffer_20250705-153041\n"
     ]
    },
    {
     "data": {
      "application/vnd.plotly.v1+json": {
       "config": {
        "plotlyServerURL": "https://plot.ly"
       },
       "data": [
        {
         "cliponaxis": false,
         "hovertemplate": [
          "rdc_replay_buffer_beta_start (FloatDistribution): 0.038407601182440645<extra></extra>",
          "rdc_replay_buffer_alpha (FloatDistribution): 0.1436980760456996<extra></extra>",
          "rdc_replay_buffer_beta_frames (CategoricalDistribution): 0.15831494751177633<extra></extra>",
          "rdc_tau (FloatDistribution): 0.2457571649723032<extra></extra>",
          "rdc_replay_buffer_capacity (CategoricalDistribution): 0.4138222102877803<extra></extra>"
         ],
         "name": "Objective Value",
         "orientation": "h",
         "text": [
          "0.04",
          "0.14",
          "0.16",
          "0.25",
          "0.41"
         ],
         "textposition": "outside",
         "type": "bar",
         "x": [
          0.038407601182440645,
          0.1436980760456996,
          0.15831494751177633,
          0.2457571649723032,
          0.4138222102877803
         ],
         "y": [
          "rdc_replay_buffer_beta_start",
          "rdc_replay_buffer_alpha",
          "rdc_replay_buffer_beta_frames",
          "rdc_tau",
          "rdc_replay_buffer_capacity"
         ]
        }
       ],
       "layout": {
        "height": 500,
        "template": {
         "layout": {
          "colorway": [
           "#002D72",
           "#E2001A",
           "#5A5A5A",
           "#2C74B3",
           "#A1C9F4"
          ],
          "font": {
           "color": "#002D72",
           "family": "Arial, sans-serif",
           "size": 14
          },
          "paper_bgcolor": "white",
          "plot_bgcolor": "white",
          "title": {
           "font": {
            "color": "#002D72",
            "size": 20
           }
          },
          "xaxis": {
           "gridcolor": "#D1D1D1",
           "linecolor": "#002D72",
           "zerolinecolor": "#D1D1D1"
          },
          "yaxis": {
           "gridcolor": "#D1D1D1",
           "linecolor": "#002D72",
           "zerolinecolor": "#D1D1D1"
          }
         }
        },
        "title": {
         "text": "Importance for: rdc_ho_replaybuffer_20250705-153041"
        },
        "width": 1000,
        "xaxis": {
         "title": {
          "text": "Hyperparameter Importance"
         }
        },
        "yaxis": {
         "title": {
          "text": "Hyperparameter"
         }
        }
       }
      }
     },
     "metadata": {},
     "output_type": "display_data"
    },
    {
     "name": "stderr",
     "output_type": "stream",
     "text": [
      "[I 2025-07-11 13:02:04,509] A new study created in memory with name: rdc_ho_replaybuffer_20250708-200649\n"
     ]
    },
    {
     "data": {
      "application/vnd.plotly.v1+json": {
       "config": {
        "plotlyServerURL": "https://plot.ly"
       },
       "data": [
        {
         "cliponaxis": false,
         "hovertemplate": [
          "rdc_tau (FloatDistribution): 0.0269937523950646<extra></extra>",
          "rdc_replay_buffer_beta_start (FloatDistribution): 0.027421341263740077<extra></extra>",
          "rdc_replay_buffer_alpha (FloatDistribution): 0.12978896762656578<extra></extra>",
          "rdc_replay_buffer_capacity (CategoricalDistribution): 0.3691552166194024<extra></extra>",
          "rdc_replay_buffer_beta_frames (CategoricalDistribution): 0.4466407220952272<extra></extra>"
         ],
         "name": "Objective Value",
         "orientation": "h",
         "text": [
          "0.03",
          "0.03",
          "0.13",
          "0.37",
          "0.45"
         ],
         "textposition": "outside",
         "type": "bar",
         "x": [
          0.0269937523950646,
          0.027421341263740077,
          0.12978896762656578,
          0.3691552166194024,
          0.4466407220952272
         ],
         "y": [
          "rdc_tau",
          "rdc_replay_buffer_beta_start",
          "rdc_replay_buffer_alpha",
          "rdc_replay_buffer_capacity",
          "rdc_replay_buffer_beta_frames"
         ]
        }
       ],
       "layout": {
        "height": 500,
        "template": {
         "layout": {
          "colorway": [
           "#002D72",
           "#E2001A",
           "#5A5A5A",
           "#2C74B3",
           "#A1C9F4"
          ],
          "font": {
           "color": "#002D72",
           "family": "Arial, sans-serif",
           "size": 14
          },
          "paper_bgcolor": "white",
          "plot_bgcolor": "white",
          "title": {
           "font": {
            "color": "#002D72",
            "size": 20
           }
          },
          "xaxis": {
           "gridcolor": "#D1D1D1",
           "linecolor": "#002D72",
           "zerolinecolor": "#D1D1D1"
          },
          "yaxis": {
           "gridcolor": "#D1D1D1",
           "linecolor": "#002D72",
           "zerolinecolor": "#D1D1D1"
          }
         }
        },
        "title": {
         "text": "Importance for: rdc_ho_replaybuffer_20250708-200649"
        },
        "width": 1000,
        "xaxis": {
         "title": {
          "text": "Hyperparameter Importance"
         }
        },
        "yaxis": {
         "title": {
          "text": "Hyperparameter"
         }
        }
       }
      }
     },
     "metadata": {},
     "output_type": "display_data"
    },
    {
     "name": "stderr",
     "output_type": "stream",
     "text": [
      "[I 2025-07-11 13:02:14,753] A new study created in memory with name: rdc_ho_rewardweights_20250707-202017\n"
     ]
    },
    {
     "data": {
      "application/vnd.plotly.v1+json": {
       "config": {
        "plotlyServerURL": "https://plot.ly"
       },
       "data": [
        {
         "cliponaxis": false,
         "hovertemplate": [
          "rdc_reward_weight_demand (FloatDistribution): 0.013917885397591522<extra></extra>",
          "rdc_reward_weight_rebalancing (FloatDistribution): 0.0675276369439026<extra></extra>",
          "rdc_reward_weight_gini (FloatDistribution): 0.9185544776585057<extra></extra>"
         ],
         "name": "Objective Value",
         "orientation": "h",
         "text": [
          "0.01",
          "0.07",
          "0.92"
         ],
         "textposition": "outside",
         "type": "bar",
         "x": [
          0.013917885397591522,
          0.0675276369439026,
          0.9185544776585057
         ],
         "y": [
          "rdc_reward_weight_demand",
          "rdc_reward_weight_rebalancing",
          "rdc_reward_weight_gini"
         ]
        }
       ],
       "layout": {
        "height": 500,
        "template": {
         "layout": {
          "colorway": [
           "#002D72",
           "#E2001A",
           "#5A5A5A",
           "#2C74B3",
           "#A1C9F4"
          ],
          "font": {
           "color": "#002D72",
           "family": "Arial, sans-serif",
           "size": 14
          },
          "paper_bgcolor": "white",
          "plot_bgcolor": "white",
          "title": {
           "font": {
            "color": "#002D72",
            "size": 20
           }
          },
          "xaxis": {
           "gridcolor": "#D1D1D1",
           "linecolor": "#002D72",
           "zerolinecolor": "#D1D1D1"
          },
          "yaxis": {
           "gridcolor": "#D1D1D1",
           "linecolor": "#002D72",
           "zerolinecolor": "#D1D1D1"
          }
         }
        },
        "title": {
         "text": "Importance for: rdc_ho_rewardweights_20250707-202017"
        },
        "width": 1000,
        "xaxis": {
         "title": {
          "text": "Hyperparameter Importance"
         }
        },
        "yaxis": {
         "title": {
          "text": "Hyperparameter"
         }
        }
       }
      }
     },
     "metadata": {},
     "output_type": "display_data"
    },
    {
     "name": "stderr",
     "output_type": "stream",
     "text": [
      "[I 2025-07-11 13:02:15,189] A new study created in memory with name: rdc_ho_rewardweights_20250710-112452\n"
     ]
    },
    {
     "data": {
      "application/vnd.plotly.v1+json": {
       "config": {
        "plotlyServerURL": "https://plot.ly"
       },
       "data": [
        {
         "cliponaxis": false,
         "hovertemplate": [
          "rdc_reward_weight_gini (FloatDistribution): 0.11655156413662815<extra></extra>",
          "rdc_reward_weight_rebalancing (FloatDistribution): 0.22395336830052445<extra></extra>",
          "rdc_reward_weight_demand (FloatDistribution): 0.6594950675628475<extra></extra>"
         ],
         "name": "Objective Value",
         "orientation": "h",
         "text": [
          "0.12",
          "0.22",
          "0.66"
         ],
         "textposition": "outside",
         "type": "bar",
         "x": [
          0.11655156413662815,
          0.22395336830052445,
          0.6594950675628475
         ],
         "y": [
          "rdc_reward_weight_gini",
          "rdc_reward_weight_rebalancing",
          "rdc_reward_weight_demand"
         ]
        }
       ],
       "layout": {
        "height": 500,
        "template": {
         "layout": {
          "colorway": [
           "#002D72",
           "#E2001A",
           "#5A5A5A",
           "#2C74B3",
           "#A1C9F4"
          ],
          "font": {
           "color": "#002D72",
           "family": "Arial, sans-serif",
           "size": 14
          },
          "paper_bgcolor": "white",
          "plot_bgcolor": "white",
          "title": {
           "font": {
            "color": "#002D72",
            "size": 20
           }
          },
          "xaxis": {
           "gridcolor": "#D1D1D1",
           "linecolor": "#002D72",
           "zerolinecolor": "#D1D1D1"
          },
          "yaxis": {
           "gridcolor": "#D1D1D1",
           "linecolor": "#002D72",
           "zerolinecolor": "#D1D1D1"
          }
         }
        },
        "title": {
         "text": "Importance for: rdc_ho_rewardweights_20250710-112452"
        },
        "width": 1000,
        "xaxis": {
         "title": {
          "text": "Hyperparameter Importance"
         }
        },
        "yaxis": {
         "title": {
          "text": "Hyperparameter"
         }
        }
       }
      }
     },
     "metadata": {},
     "output_type": "display_data"
    }
   ],
   "source": [
    "for filename, df in rdc_dfs_dict.items():\n",
    "    study_name = filename.replace(STUDY_FILE_SUFFIX, '')\n",
    "\n",
    "    temp_study = create_study_from_df(study_name, df.copy())\n",
    "\n",
    "    fig = optuna.visualization.plot_param_importances(temp_study)\n",
    "    fig.update_layout(\n",
    "        title=f\"Importance for: {study_name}\",\n",
    "        width=1000,\n",
    "        height=500\n",
    "    )\n",
    "    fig.show()"
   ]
  },
  {
   "cell_type": "markdown",
   "metadata": {},
   "source": [
    "### Aggregated Analysis (All RDC Trials)\n",
    "\n",
    "These plots combine all trials from all RDC runs to give a high-level overview of the entire optimization process."
   ]
  },
  {
   "cell_type": "code",
   "execution_count": 69,
   "metadata": {},
   "outputs": [
    {
     "name": "stderr",
     "output_type": "stream",
     "text": [
      "[I 2025-07-11 13:02:15,626] A new study created in memory with name: RDC Aggregated\n"
     ]
    }
   ],
   "source": [
    "rdc_aggregated_study = create_study_from_df(\"RDC Aggregated\", pd.concat(rdc_dfs_dict.values(), ignore_index=True))"
   ]
  },
  {
   "cell_type": "code",
   "execution_count": 70,
   "metadata": {},
   "outputs": [
    {
     "data": {
      "application/vnd.plotly.v1+json": {
       "config": {
        "plotlyServerURL": "https://plot.ly"
       },
       "data": [
        {
         "mode": "markers",
         "name": "Objective Value",
         "type": "scatter",
         "x": [
          0,
          1,
          2,
          3,
          4,
          5,
          6,
          7,
          8,
          9,
          10,
          11,
          12,
          13,
          14,
          15,
          16,
          17,
          18,
          19,
          20,
          21,
          22,
          23,
          24,
          25,
          26,
          27,
          28,
          29,
          30,
          31,
          32,
          33,
          34,
          35,
          36,
          37,
          38,
          39,
          40,
          41,
          42,
          43,
          44,
          45,
          46,
          47,
          48,
          49,
          50,
          51,
          52,
          53,
          54,
          55,
          56,
          57,
          58,
          59,
          60,
          61,
          62,
          63,
          64,
          65,
          66,
          67,
          68,
          69,
          70,
          71,
          72,
          73,
          74,
          75,
          76,
          77,
          78,
          79,
          80,
          81,
          82,
          83,
          84,
          85,
          86,
          87,
          88,
          89,
          90,
          91,
          92,
          93,
          94,
          95,
          96,
          97,
          98,
          99,
          100,
          101,
          102,
          103,
          104,
          105,
          106,
          107,
          108,
          109,
          110,
          111,
          112,
          113,
          114,
          115,
          116,
          117,
          118,
          119,
          120,
          121,
          122,
          123,
          124,
          125,
          126,
          127,
          128,
          129,
          130,
          131,
          132,
          133,
          134,
          135,
          136,
          137,
          138,
          139,
          140,
          141,
          142,
          143,
          144,
          145,
          146,
          147,
          148,
          149,
          150,
          151,
          152,
          153,
          154,
          155,
          156,
          157,
          158,
          159,
          160,
          161,
          162,
          163,
          164,
          165,
          166,
          167,
          168,
          169,
          170,
          171,
          172,
          173,
          174,
          175,
          176,
          177,
          178,
          179,
          180,
          181,
          182,
          183,
          184,
          185,
          186,
          187,
          188,
          189,
          190,
          191,
          192,
          193,
          194,
          195,
          196,
          197,
          198,
          199,
          200,
          201,
          202,
          203,
          204,
          205,
          206,
          207,
          208,
          209,
          210,
          211,
          212,
          213,
          214,
          215,
          216,
          217,
          218,
          219,
          220,
          221,
          222,
          223,
          224,
          225,
          226,
          227,
          228,
          229,
          230,
          231,
          232,
          233,
          234,
          235,
          236,
          237,
          238,
          239,
          240,
          241,
          242,
          243,
          244,
          245,
          246,
          247,
          248,
          249,
          250,
          251,
          252,
          253,
          254,
          255,
          256,
          257,
          258,
          259,
          260,
          261,
          262,
          263,
          264,
          265,
          266,
          267,
          268,
          269,
          270,
          271,
          272,
          273,
          274,
          275,
          276,
          277,
          278,
          279,
          280,
          281,
          282,
          283,
          284,
          285,
          286,
          287,
          288,
          289,
          290,
          291,
          292,
          293,
          294,
          295,
          296,
          297,
          298,
          299,
          300,
          301,
          302,
          303,
          304,
          305,
          306,
          307,
          308,
          309,
          310,
          311,
          312,
          313,
          314,
          315,
          316,
          317,
          318,
          319,
          320,
          321,
          322,
          323,
          324,
          325,
          326,
          327,
          328,
          329,
          330,
          331,
          332,
          333,
          334,
          335,
          336,
          337,
          338,
          339,
          340,
          341,
          342,
          343,
          344,
          345,
          346,
          347,
          348,
          349,
          350,
          351,
          352,
          353,
          354,
          355,
          356,
          357,
          358,
          359,
          360,
          361,
          362,
          363,
          364,
          365,
          366,
          367,
          368,
          369,
          370,
          371,
          372,
          373,
          374,
          375,
          376,
          377,
          378,
          379,
          380,
          381,
          382,
          383,
          384,
          385,
          386,
          387,
          388,
          389,
          390,
          391,
          392,
          393,
          394,
          395,
          396,
          397,
          398,
          399,
          400,
          401,
          402,
          403,
          404,
          405,
          406,
          407,
          408,
          409,
          410,
          411,
          412,
          413,
          414,
          415,
          416,
          417,
          418,
          419,
          420,
          421,
          422,
          423,
          424,
          425,
          426,
          427,
          428,
          429,
          430,
          431,
          432,
          433,
          434,
          435,
          436,
          437,
          438,
          439,
          440,
          441,
          442,
          443,
          444,
          445,
          446,
          447,
          448,
          449,
          450,
          451,
          452,
          453,
          454,
          455,
          456,
          457,
          458,
          459,
          460,
          461,
          462,
          463,
          464,
          465,
          466,
          467,
          468,
          469,
          470,
          471,
          472,
          473,
          474,
          475,
          476,
          477,
          478,
          479,
          480,
          481,
          482,
          483,
          484,
          485,
          486,
          487,
          488,
          489,
          490,
          491,
          492,
          493,
          494,
          495,
          496,
          497,
          498,
          499
         ],
         "y": [
          96.81451272523793,
          81.69165262222734,
          98.20949561342155,
          89.06841898450509,
          96.67139862010876,
          97.97382922083561,
          97.67004606013919,
          92.44145649069539,
          97.5865716732841,
          96.72334684290547,
          89.55388292664479,
          96.29740948328649,
          96.38039423511317,
          88.27322309633877,
          98.20676076730405,
          95.94822011610914,
          96.80857561090677,
          96.01307303730614,
          96.72397087368861,
          95.71243086996203,
          93.8587103008448,
          96.10431593787382,
          97.94996244511164,
          96.51517546483578,
          97.70309600917291,
          97.652363389159,
          97.64311639563556,
          96.771588541363,
          98.01760448557327,
          88.23854028313028,
          95.10416062160172,
          96.07606664956697,
          96.16722574198681,
          95.99600751398319,
          97.145903319731,
          96.59747790714133,
          97.05750775848793,
          97.51492993085816,
          96.94444922151841,
          96.87968117031839,
          94.8751081851173,
          79.36738908673922,
          91.9933133950838,
          74.39778446996874,
          97.74111040045992,
          97.93558013599922,
          97.932858787591,
          97.8937080575769,
          97.40649546171247,
          97.8439694297399,
          91.01005364903702,
          94.29227891171226,
          87.9347675268088,
          92.41500348267961,
          94.4485988329045,
          84.67285226724495,
          88.90734679432026,
          93.18306624597649,
          88.99283566066552,
          86.75445545695194,
          94.17397770536903,
          92.1929224699928,
          86.80833308869805,
          88.1572693657118,
          92.45341476658066,
          92.55105434257601,
          85.83119491313572,
          95.44455743211492,
          92.55089395036649,
          88.9897551458054,
          82.97167751676176,
          81.99172748394746,
          87.85817772002298,
          80.65093008739413,
          93.15438695694768,
          85.54021136004208,
          83.88906593225906,
          87.13752314352897,
          93.81943022300047,
          88.49258430386786,
          84.68961940476794,
          91.42841390493933,
          88.7706515643097,
          85.76732893889692,
          94.2589974887432,
          93.61442056378912,
          84.26956744220968,
          88.59013468978043,
          86.79669469379508,
          82.37426556293897,
          87.39789754396898,
          89.15690577600331,
          85.04153135063247,
          89.54544602588736,
          90.05039993905449,
          94.81895323903636,
          85.77123521858584,
          92.92559259394588,
          87.62798257002018,
          86.28169688661663,
          98.22121373943223,
          97.12170566023168,
          98.20280418351412,
          96.97121736667769,
          97.68980755841035,
          98.02776626868557,
          97.43381979042333,
          97.37492412474612,
          97.80244527319685,
          97.84115336752139,
          97.57491847515948,
          97.31780401364924,
          98.15477079059318,
          97.68789435234143,
          96.92159013763168,
          96.32510182095712,
          97.75352257186213,
          97.83688047440812,
          97.91666858636292,
          97.9645580387847,
          95.38173670953405,
          97.33933250402228,
          97.32668214304107,
          97.45191407257666,
          95.52624802344316,
          96.90836050348462,
          96.27088226831377,
          97.92251107402203,
          97.7766835458743,
          97.35324245837566,
          95.17580675136587,
          97.82075919375885,
          96.90250895515646,
          97.39187897314584,
          97.02307569359412,
          96.7437195897281,
          96.35507942147635,
          96.61247863144591,
          97.96499089176777,
          96.84882789028227,
          97.4288872285168,
          97.92027254460247,
          93.42975763616872,
          97.54158033798068,
          96.79787600284962,
          96.92141326071528,
          97.65081089275938,
          97.19833156294078,
          97.45251825780578,
          97.28316542188234,
          87.80825588842471,
          85.41679471070861,
          84.28388913995795,
          89.7074410021568,
          85.24095472618254,
          85.6367845139371,
          89.05104992587465,
          93.85862192078454,
          94.81615067231311,
          94.27281387068956,
          89.80968110672366,
          95.21400833936913,
          92.97569976360771,
          87.01792300427064,
          94.1229711328414,
          92.12137392535689,
          83.99544706399016,
          87.77230081642371,
          91.69580018285254,
          87.75631808750319,
          92.67447785068649,
          83.01427313149286,
          84.14294569782795,
          94.4675055952522,
          81.75251233708178,
          90.24341646161288,
          83.25904719998798,
          86.0100847116476,
          83.23462411373498,
          80.78047293077792,
          85.43592255838377,
          86.80298510050567,
          91.90259548205906,
          92.15615261802006,
          85.45139077536263,
          87.48329696608708,
          90.3252839409192,
          89.02079340639972,
          87.88382735353363,
          82.17310795575007,
          87.98586970552063,
          83.95538280351798,
          91.63429608861264,
          87.41797879883788,
          87.12563564303399,
          80.65492898383278,
          82.51814491062494,
          82.26752032878647,
          91.87640465123448,
          82.95132048403198,
          94.87116506725508,
          97.26001283599564,
          91.57633210450061,
          95.52827521312787,
          90.88961948142864,
          93.30228952371726,
          95.17985452674834,
          96.45420549389783,
          93.98476185402512,
          91.12949369096478,
          98.16647370019453,
          96.21872097389495,
          95.96877265747463,
          94.8547514592521,
          97.03653566071145,
          96.68825107079648,
          97.56107980445326,
          94.84661631334878,
          98.25643534613607,
          95.61200914497681,
          95.83845817758979,
          97.4724097004055,
          97.73408521346089,
          96.24121159124687,
          98.02218208819632,
          98.12990720313148,
          96.7849479983338,
          94.89423185932486,
          96.92538064806926,
          98.30794050480327,
          98.23023143008275,
          97.0352347297194,
          96.12480355186258,
          97.71368363330785,
          98.51578093840777,
          95.9349237738328,
          96.54829708835798,
          97.43189215162394,
          97.51757342485082,
          96.34559408116654,
          98.3482625544784,
          97.54343741010196,
          96.82240414868096,
          95.23356228506273,
          98.0334508700133,
          94.17655040047268,
          96.03989749496877,
          97.76059946729028,
          97.61212703405681,
          97.05491819208447,
          98.70573003490031,
          98.73405610673278,
          97.84207951559443,
          98.81565567859626,
          97.43332278617237,
          95.8311305105588,
          98.15500828278182,
          96.507530206886,
          98.00745746152157,
          97.77575580143233,
          98.56168365700465,
          91.75765446125169,
          98.62021076693617,
          97.07322049821471,
          98.35741551460265,
          98.5843496504481,
          98.72121861174946,
          98.47022719360864,
          99.02121389404398,
          98.53665850359178,
          98.75148353211736,
          98.76159523102913,
          98.74745666989064,
          98.40673682723435,
          98.01440906255769,
          98.27236890461495,
          98.54851218619494,
          98.36696795288438,
          98.58602607870321,
          98.65372828906267,
          97.9161739514328,
          98.9518057444461,
          98.69116817369661,
          98.64048951123408,
          96.09245537174168,
          98.16520650005512,
          98.35476407847383,
          96.5831995517264,
          98.04459404451653,
          98.66059245187662,
          98.18805951004535,
          98.85453817953206,
          98.35047137376729,
          98.8571019011996,
          98.25497306483959,
          98.35017880996813,
          98.90220685090108,
          98.64464291892322,
          98.61416881903938,
          98.49829940981462,
          92.63241538262754,
          97.80463916767357,
          94.15762982380431,
          95.81083993077941,
          94.9398116800917,
          96.29072525212662,
          97.00226647648672,
          96.919284046112,
          98.27620623959375,
          97.35292203481734,
          96.26685963851298,
          94.89462202366194,
          97.17272595366958,
          97.86929820672904,
          97.86246401609864,
          97.9940323116633,
          97.43789271568254,
          97.71239511433907,
          98.00082869407223,
          97.51400018829041,
          95.29718244842388,
          97.65804940961252,
          98.19662820003795,
          96.49257942933522,
          97.37839439831423,
          96.77120185334597,
          95.0360939522005,
          97.36752548247779,
          97.83648997038605,
          97.00848965667356,
          97.37553792465674,
          97.25282598740804,
          96.5293313205866,
          95.77198461426512,
          95.15203331568709,
          97.26696090556126,
          97.69518911426312,
          97.2823056334683,
          96.81043783863836,
          97.01150492649899,
          98.01279518216774,
          97.57717409329314,
          96.71373532641036,
          96.94432957897756,
          96.86151282889338,
          98.24886543511079,
          96.35273534650366,
          97.705712349018,
          97.09141766759572,
          97.7041930221625,
          89.09399472820435,
          88.57113948298176,
          83.81182880549662,
          89.49846934215844,
          86.90716159855808,
          87.93139938122881,
          84.30103242934787,
          80.81410485601565,
          93.84171016241,
          84.67325305777963,
          87.72923429198772,
          80.86685779163084,
          85.4907140274191,
          84.24007604774015,
          83.83421062085078,
          92.53115750637161,
          88.38063757214056,
          86.82679167712547,
          87.07179506584467,
          83.76361841419953,
          90.65287038435788,
          82.21591941821109,
          85.90055535919733,
          85.96382241138635,
          84.17927880253875,
          82.02220639918689,
          93.37612702888264,
          86.46929652591378,
          87.52896360458332,
          90.0435745770502,
          89.00305401040599,
          91.97855765563989,
          91.05376054243014,
          81.37235703071255,
          83.54026426814696,
          91.80785965325285,
          91.16489671386775,
          84.12322210820119,
          84.74536092075587,
          88.14108643414332,
          83.36009941237764,
          87.31439025934921,
          91.25120044518337,
          87.67674220684742,
          89.67542981234892,
          91.09423544551544,
          88.57139671167809,
          93.10503657660529,
          86.55339173981689,
          92.2982037390351,
          93.04338006614212,
          94.88797994770135,
          97.56100272985529,
          95.75133150948241,
          95.35099703614243,
          97.92298233877983,
          94.90241660873758,
          97.61826483840164,
          95.56480107804131,
          96.56290011945646,
          98.26332330353276,
          94.93091898807063,
          98.55478085241882,
          96.26392612692884,
          98.60653920169393,
          98.47993589028228,
          98.7083493804119,
          97.27199424085468,
          98.39473476198135,
          97.52369276061114,
          95.47676848423933,
          85.74050789705527,
          96.01699371148648,
          90.14408678467854,
          90.65358186767311,
          89.59434528449485,
          97.14721361354393,
          97.55014358342105,
          97.24441122494905,
          98.3561991273638,
          97.86088693683644,
          98.14781181511233,
          96.97158171202175,
          97.36019876700534,
          95.32304613854939,
          98.6642842438848,
          98.38780273404072,
          97.18689485340329,
          98.4152813005866,
          98.67987908147583,
          97.47102774482848,
          97.11660437893298,
          94.61535149612503,
          97.82757376294047,
          93.82605783756112,
          96.98928721598394,
          97.15463961535116,
          95.62916423988436,
          98.78856177573037,
          98.45157912430565,
          68.12673835265831,
          88.71806088768146,
          86.9019177553939,
          79.8269202900946,
          87.97724176945047,
          73.2216886278861,
          81.23827689695445,
          84.7840591687911,
          73.28553253264606,
          87.7694178250865,
          65.81576014521019,
          90.09063820774796,
          84.83794136354108,
          77.56903534781846,
          88.25334053155485,
          83.63207538930658,
          95.64299436361866,
          95.00441421627525,
          94.77414877933822,
          93.6704933559545,
          86.49331027527782,
          90.7233940210717,
          96.03778519431395,
          91.38665022015384,
          88.1986485504888,
          92.41204734924625,
          93.33970196574276,
          93.8758387679841,
          87.46364653045012,
          84.49617857129496,
          85.9946637065369,
          87.85999929689524,
          88.52600483808854,
          81.31088199757994,
          86.03939188792076,
          91.70328869089386,
          93.50675313747493,
          95.02795215536945,
          91.8197992630451,
          97.1520496838518,
          92.11320271193878,
          95.60744681812373,
          86.38996968094297,
          85.4444127921873,
          91.78168027343716,
          83.35474972239231,
          92.99749878218617,
          82.97862715167045,
          92.059617705623,
          89.49871454162424
         ]
        },
        {
         "mode": "lines",
         "name": "Best Value",
         "type": "scatter",
         "x": [
          0,
          1,
          2,
          3,
          4,
          5,
          6,
          7,
          8,
          9,
          10,
          11,
          12,
          13,
          14,
          15,
          16,
          17,
          18,
          19,
          20,
          21,
          22,
          23,
          24,
          25,
          26,
          27,
          28,
          29,
          30,
          31,
          32,
          33,
          34,
          35,
          36,
          37,
          38,
          39,
          40,
          41,
          42,
          43,
          44,
          45,
          46,
          47,
          48,
          49,
          50,
          51,
          52,
          53,
          54,
          55,
          56,
          57,
          58,
          59,
          60,
          61,
          62,
          63,
          64,
          65,
          66,
          67,
          68,
          69,
          70,
          71,
          72,
          73,
          74,
          75,
          76,
          77,
          78,
          79,
          80,
          81,
          82,
          83,
          84,
          85,
          86,
          87,
          88,
          89,
          90,
          91,
          92,
          93,
          94,
          95,
          96,
          97,
          98,
          99,
          100,
          101,
          102,
          103,
          104,
          105,
          106,
          107,
          108,
          109,
          110,
          111,
          112,
          113,
          114,
          115,
          116,
          117,
          118,
          119,
          120,
          121,
          122,
          123,
          124,
          125,
          126,
          127,
          128,
          129,
          130,
          131,
          132,
          133,
          134,
          135,
          136,
          137,
          138,
          139,
          140,
          141,
          142,
          143,
          144,
          145,
          146,
          147,
          148,
          149,
          150,
          151,
          152,
          153,
          154,
          155,
          156,
          157,
          158,
          159,
          160,
          161,
          162,
          163,
          164,
          165,
          166,
          167,
          168,
          169,
          170,
          171,
          172,
          173,
          174,
          175,
          176,
          177,
          178,
          179,
          180,
          181,
          182,
          183,
          184,
          185,
          186,
          187,
          188,
          189,
          190,
          191,
          192,
          193,
          194,
          195,
          196,
          197,
          198,
          199,
          200,
          201,
          202,
          203,
          204,
          205,
          206,
          207,
          208,
          209,
          210,
          211,
          212,
          213,
          214,
          215,
          216,
          217,
          218,
          219,
          220,
          221,
          222,
          223,
          224,
          225,
          226,
          227,
          228,
          229,
          230,
          231,
          232,
          233,
          234,
          235,
          236,
          237,
          238,
          239,
          240,
          241,
          242,
          243,
          244,
          245,
          246,
          247,
          248,
          249,
          250,
          251,
          252,
          253,
          254,
          255,
          256,
          257,
          258,
          259,
          260,
          261,
          262,
          263,
          264,
          265,
          266,
          267,
          268,
          269,
          270,
          271,
          272,
          273,
          274,
          275,
          276,
          277,
          278,
          279,
          280,
          281,
          282,
          283,
          284,
          285,
          286,
          287,
          288,
          289,
          290,
          291,
          292,
          293,
          294,
          295,
          296,
          297,
          298,
          299,
          300,
          301,
          302,
          303,
          304,
          305,
          306,
          307,
          308,
          309,
          310,
          311,
          312,
          313,
          314,
          315,
          316,
          317,
          318,
          319,
          320,
          321,
          322,
          323,
          324,
          325,
          326,
          327,
          328,
          329,
          330,
          331,
          332,
          333,
          334,
          335,
          336,
          337,
          338,
          339,
          340,
          341,
          342,
          343,
          344,
          345,
          346,
          347,
          348,
          349,
          350,
          351,
          352,
          353,
          354,
          355,
          356,
          357,
          358,
          359,
          360,
          361,
          362,
          363,
          364,
          365,
          366,
          367,
          368,
          369,
          370,
          371,
          372,
          373,
          374,
          375,
          376,
          377,
          378,
          379,
          380,
          381,
          382,
          383,
          384,
          385,
          386,
          387,
          388,
          389,
          390,
          391,
          392,
          393,
          394,
          395,
          396,
          397,
          398,
          399,
          400,
          401,
          402,
          403,
          404,
          405,
          406,
          407,
          408,
          409,
          410,
          411,
          412,
          413,
          414,
          415,
          416,
          417,
          418,
          419,
          420,
          421,
          422,
          423,
          424,
          425,
          426,
          427,
          428,
          429,
          430,
          431,
          432,
          433,
          434,
          435,
          436,
          437,
          438,
          439,
          440,
          441,
          442,
          443,
          444,
          445,
          446,
          447,
          448,
          449,
          450,
          451,
          452,
          453,
          454,
          455,
          456,
          457,
          458,
          459,
          460,
          461,
          462,
          463,
          464,
          465,
          466,
          467,
          468,
          469,
          470,
          471,
          472,
          473,
          474,
          475,
          476,
          477,
          478,
          479,
          480,
          481,
          482,
          483,
          484,
          485,
          486,
          487,
          488,
          489,
          490,
          491,
          492,
          493,
          494,
          495,
          496,
          497,
          498,
          499
         ],
         "y": [
          96.81451272523793,
          96.81451272523793,
          98.20949561342155,
          98.20949561342155,
          98.20949561342155,
          98.20949561342155,
          98.20949561342155,
          98.20949561342155,
          98.20949561342155,
          98.20949561342155,
          98.20949561342155,
          98.20949561342155,
          98.20949561342155,
          98.20949561342155,
          98.20949561342155,
          98.20949561342155,
          98.20949561342155,
          98.20949561342155,
          98.20949561342155,
          98.20949561342155,
          98.20949561342155,
          98.20949561342155,
          98.20949561342155,
          98.20949561342155,
          98.20949561342155,
          98.20949561342155,
          98.20949561342155,
          98.20949561342155,
          98.20949561342155,
          98.20949561342155,
          98.20949561342155,
          98.20949561342155,
          98.20949561342155,
          98.20949561342155,
          98.20949561342155,
          98.20949561342155,
          98.20949561342155,
          98.20949561342155,
          98.20949561342155,
          98.20949561342155,
          98.20949561342155,
          98.20949561342155,
          98.20949561342155,
          98.20949561342155,
          98.20949561342155,
          98.20949561342155,
          98.20949561342155,
          98.20949561342155,
          98.20949561342155,
          98.20949561342155,
          98.20949561342155,
          98.20949561342155,
          98.20949561342155,
          98.20949561342155,
          98.20949561342155,
          98.20949561342155,
          98.20949561342155,
          98.20949561342155,
          98.20949561342155,
          98.20949561342155,
          98.20949561342155,
          98.20949561342155,
          98.20949561342155,
          98.20949561342155,
          98.20949561342155,
          98.20949561342155,
          98.20949561342155,
          98.20949561342155,
          98.20949561342155,
          98.20949561342155,
          98.20949561342155,
          98.20949561342155,
          98.20949561342155,
          98.20949561342155,
          98.20949561342155,
          98.20949561342155,
          98.20949561342155,
          98.20949561342155,
          98.20949561342155,
          98.20949561342155,
          98.20949561342155,
          98.20949561342155,
          98.20949561342155,
          98.20949561342155,
          98.20949561342155,
          98.20949561342155,
          98.20949561342155,
          98.20949561342155,
          98.20949561342155,
          98.20949561342155,
          98.20949561342155,
          98.20949561342155,
          98.20949561342155,
          98.20949561342155,
          98.20949561342155,
          98.20949561342155,
          98.20949561342155,
          98.20949561342155,
          98.20949561342155,
          98.20949561342155,
          98.22121373943223,
          98.22121373943223,
          98.22121373943223,
          98.22121373943223,
          98.22121373943223,
          98.22121373943223,
          98.22121373943223,
          98.22121373943223,
          98.22121373943223,
          98.22121373943223,
          98.22121373943223,
          98.22121373943223,
          98.22121373943223,
          98.22121373943223,
          98.22121373943223,
          98.22121373943223,
          98.22121373943223,
          98.22121373943223,
          98.22121373943223,
          98.22121373943223,
          98.22121373943223,
          98.22121373943223,
          98.22121373943223,
          98.22121373943223,
          98.22121373943223,
          98.22121373943223,
          98.22121373943223,
          98.22121373943223,
          98.22121373943223,
          98.22121373943223,
          98.22121373943223,
          98.22121373943223,
          98.22121373943223,
          98.22121373943223,
          98.22121373943223,
          98.22121373943223,
          98.22121373943223,
          98.22121373943223,
          98.22121373943223,
          98.22121373943223,
          98.22121373943223,
          98.22121373943223,
          98.22121373943223,
          98.22121373943223,
          98.22121373943223,
          98.22121373943223,
          98.22121373943223,
          98.22121373943223,
          98.22121373943223,
          98.22121373943223,
          98.22121373943223,
          98.22121373943223,
          98.22121373943223,
          98.22121373943223,
          98.22121373943223,
          98.22121373943223,
          98.22121373943223,
          98.22121373943223,
          98.22121373943223,
          98.22121373943223,
          98.22121373943223,
          98.22121373943223,
          98.22121373943223,
          98.22121373943223,
          98.22121373943223,
          98.22121373943223,
          98.22121373943223,
          98.22121373943223,
          98.22121373943223,
          98.22121373943223,
          98.22121373943223,
          98.22121373943223,
          98.22121373943223,
          98.22121373943223,
          98.22121373943223,
          98.22121373943223,
          98.22121373943223,
          98.22121373943223,
          98.22121373943223,
          98.22121373943223,
          98.22121373943223,
          98.22121373943223,
          98.22121373943223,
          98.22121373943223,
          98.22121373943223,
          98.22121373943223,
          98.22121373943223,
          98.22121373943223,
          98.22121373943223,
          98.22121373943223,
          98.22121373943223,
          98.22121373943223,
          98.22121373943223,
          98.22121373943223,
          98.22121373943223,
          98.22121373943223,
          98.22121373943223,
          98.22121373943223,
          98.22121373943223,
          98.22121373943223,
          98.22121373943223,
          98.22121373943223,
          98.22121373943223,
          98.22121373943223,
          98.22121373943223,
          98.22121373943223,
          98.22121373943223,
          98.22121373943223,
          98.22121373943223,
          98.22121373943223,
          98.22121373943223,
          98.22121373943223,
          98.22121373943223,
          98.22121373943223,
          98.22121373943223,
          98.22121373943223,
          98.22121373943223,
          98.22121373943223,
          98.25643534613607,
          98.25643534613607,
          98.25643534613607,
          98.25643534613607,
          98.25643534613607,
          98.25643534613607,
          98.25643534613607,
          98.25643534613607,
          98.25643534613607,
          98.25643534613607,
          98.25643534613607,
          98.30794050480327,
          98.30794050480327,
          98.30794050480327,
          98.30794050480327,
          98.30794050480327,
          98.51578093840777,
          98.51578093840777,
          98.51578093840777,
          98.51578093840777,
          98.51578093840777,
          98.51578093840777,
          98.51578093840777,
          98.51578093840777,
          98.51578093840777,
          98.51578093840777,
          98.51578093840777,
          98.51578093840777,
          98.51578093840777,
          98.51578093840777,
          98.51578093840777,
          98.51578093840777,
          98.70573003490031,
          98.73405610673278,
          98.73405610673278,
          98.81565567859626,
          98.81565567859626,
          98.81565567859626,
          98.81565567859626,
          98.81565567859626,
          98.81565567859626,
          98.81565567859626,
          98.81565567859626,
          98.81565567859626,
          98.81565567859626,
          98.81565567859626,
          98.81565567859626,
          98.81565567859626,
          98.81565567859626,
          98.81565567859626,
          99.02121389404398,
          99.02121389404398,
          99.02121389404398,
          99.02121389404398,
          99.02121389404398,
          99.02121389404398,
          99.02121389404398,
          99.02121389404398,
          99.02121389404398,
          99.02121389404398,
          99.02121389404398,
          99.02121389404398,
          99.02121389404398,
          99.02121389404398,
          99.02121389404398,
          99.02121389404398,
          99.02121389404398,
          99.02121389404398,
          99.02121389404398,
          99.02121389404398,
          99.02121389404398,
          99.02121389404398,
          99.02121389404398,
          99.02121389404398,
          99.02121389404398,
          99.02121389404398,
          99.02121389404398,
          99.02121389404398,
          99.02121389404398,
          99.02121389404398,
          99.02121389404398,
          99.02121389404398,
          99.02121389404398,
          99.02121389404398,
          99.02121389404398,
          99.02121389404398,
          99.02121389404398,
          99.02121389404398,
          99.02121389404398,
          99.02121389404398,
          99.02121389404398,
          99.02121389404398,
          99.02121389404398,
          99.02121389404398,
          99.02121389404398,
          99.02121389404398,
          99.02121389404398,
          99.02121389404398,
          99.02121389404398,
          99.02121389404398,
          99.02121389404398,
          99.02121389404398,
          99.02121389404398,
          99.02121389404398,
          99.02121389404398,
          99.02121389404398,
          99.02121389404398,
          99.02121389404398,
          99.02121389404398,
          99.02121389404398,
          99.02121389404398,
          99.02121389404398,
          99.02121389404398,
          99.02121389404398,
          99.02121389404398,
          99.02121389404398,
          99.02121389404398,
          99.02121389404398,
          99.02121389404398,
          99.02121389404398,
          99.02121389404398,
          99.02121389404398,
          99.02121389404398,
          99.02121389404398,
          99.02121389404398,
          99.02121389404398,
          99.02121389404398,
          99.02121389404398,
          99.02121389404398,
          99.02121389404398,
          99.02121389404398,
          99.02121389404398,
          99.02121389404398,
          99.02121389404398,
          99.02121389404398,
          99.02121389404398,
          99.02121389404398,
          99.02121389404398,
          99.02121389404398,
          99.02121389404398,
          99.02121389404398,
          99.02121389404398,
          99.02121389404398,
          99.02121389404398,
          99.02121389404398,
          99.02121389404398,
          99.02121389404398,
          99.02121389404398,
          99.02121389404398,
          99.02121389404398,
          99.02121389404398,
          99.02121389404398,
          99.02121389404398,
          99.02121389404398,
          99.02121389404398,
          99.02121389404398,
          99.02121389404398,
          99.02121389404398,
          99.02121389404398,
          99.02121389404398,
          99.02121389404398,
          99.02121389404398,
          99.02121389404398,
          99.02121389404398,
          99.02121389404398,
          99.02121389404398,
          99.02121389404398,
          99.02121389404398,
          99.02121389404398,
          99.02121389404398,
          99.02121389404398,
          99.02121389404398,
          99.02121389404398,
          99.02121389404398,
          99.02121389404398,
          99.02121389404398,
          99.02121389404398,
          99.02121389404398,
          99.02121389404398,
          99.02121389404398,
          99.02121389404398,
          99.02121389404398,
          99.02121389404398,
          99.02121389404398,
          99.02121389404398,
          99.02121389404398,
          99.02121389404398,
          99.02121389404398,
          99.02121389404398,
          99.02121389404398,
          99.02121389404398,
          99.02121389404398,
          99.02121389404398,
          99.02121389404398,
          99.02121389404398,
          99.02121389404398,
          99.02121389404398,
          99.02121389404398,
          99.02121389404398,
          99.02121389404398,
          99.02121389404398,
          99.02121389404398,
          99.02121389404398,
          99.02121389404398,
          99.02121389404398,
          99.02121389404398,
          99.02121389404398,
          99.02121389404398,
          99.02121389404398,
          99.02121389404398,
          99.02121389404398,
          99.02121389404398,
          99.02121389404398,
          99.02121389404398,
          99.02121389404398,
          99.02121389404398,
          99.02121389404398,
          99.02121389404398,
          99.02121389404398,
          99.02121389404398,
          99.02121389404398,
          99.02121389404398,
          99.02121389404398,
          99.02121389404398,
          99.02121389404398,
          99.02121389404398,
          99.02121389404398,
          99.02121389404398,
          99.02121389404398,
          99.02121389404398,
          99.02121389404398,
          99.02121389404398,
          99.02121389404398,
          99.02121389404398,
          99.02121389404398,
          99.02121389404398,
          99.02121389404398,
          99.02121389404398,
          99.02121389404398,
          99.02121389404398,
          99.02121389404398,
          99.02121389404398,
          99.02121389404398,
          99.02121389404398,
          99.02121389404398,
          99.02121389404398,
          99.02121389404398,
          99.02121389404398,
          99.02121389404398,
          99.02121389404398,
          99.02121389404398,
          99.02121389404398,
          99.02121389404398,
          99.02121389404398,
          99.02121389404398,
          99.02121389404398,
          99.02121389404398,
          99.02121389404398,
          99.02121389404398,
          99.02121389404398,
          99.02121389404398,
          99.02121389404398,
          99.02121389404398,
          99.02121389404398,
          99.02121389404398,
          99.02121389404398,
          99.02121389404398,
          99.02121389404398,
          99.02121389404398,
          99.02121389404398,
          99.02121389404398,
          99.02121389404398,
          99.02121389404398,
          99.02121389404398,
          99.02121389404398,
          99.02121389404398,
          99.02121389404398,
          99.02121389404398,
          99.02121389404398,
          99.02121389404398,
          99.02121389404398,
          99.02121389404398
         ]
        },
        {
         "marker": {
          "color": "#cccccc"
         },
         "mode": "markers",
         "name": "Infeasible Trial",
         "showlegend": false,
         "type": "scatter",
         "x": [],
         "y": []
        }
       ],
       "layout": {
        "height": 594,
        "margin": {
         "b": 60,
         "l": 60,
         "r": 30,
         "t": 30
        },
        "showlegend": false,
        "template": {
         "layout": {
          "colorway": [
           "#002D72",
           "#E2001A",
           "#5A5A5A",
           "#2C74B3",
           "#A1C9F4"
          ],
          "font": {
           "color": "#002D72",
           "family": "Arial, sans-serif",
           "size": 14
          },
          "paper_bgcolor": "white",
          "plot_bgcolor": "white",
          "title": {
           "font": {
            "color": "#002D72",
            "size": 20
           }
          },
          "xaxis": {
           "gridcolor": "#D1D1D1",
           "linecolor": "#002D72",
           "zerolinecolor": "#D1D1D1"
          },
          "yaxis": {
           "gridcolor": "#D1D1D1",
           "linecolor": "#002D72",
           "zerolinecolor": "#D1D1D1"
          }
         }
        },
        "title": {},
        "width": 960,
        "xaxis": {
         "title": {
          "text": "Trial"
         }
        },
        "yaxis": {
         "title": {
          "text": "Objective Value"
         }
        }
       }
      }
     },
     "metadata": {},
     "output_type": "display_data"
    }
   ],
   "source": [
    "rdc_fig_hist = optuna.visualization.plot_optimization_history(rdc_aggregated_study)\n",
    "rdc_fig_hist.update_layout(width=960, height=594, showlegend=False, title=None, margin=dict(l=60, r=30, t=30, b=60))\n",
    "rdc_fig_hist.show()"
   ]
  },
  {
   "cell_type": "code",
   "execution_count": 71,
   "metadata": {},
   "outputs": [],
   "source": [
    "rdc_full_params = {\n",
    "        col: col.replace(\"params_\", \"\")\n",
    "        for col in rdc_aggregated_study.trials_dataframe().columns\n",
    "        if col.startswith(\"params_\")\n",
    "    }\n",
    "rdc_full_params = list(rdc_full_params.values())"
   ]
  },
  {
   "cell_type": "code",
   "execution_count": 72,
   "metadata": {},
   "outputs": [
    {
     "data": {
      "application/vnd.plotly.v1+json": {
       "config": {
        "plotlyServerURL": "https://plot.ly"
       },
       "data": [
        {
         "marker": {
          "color": "#002D72",
          "opacity": 0.7
         },
         "mode": "markers",
         "type": "scatter",
         "x": {
          "bdata": "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",
          "dtype": "f8"
         },
         "xaxis": "x",
         "y": {
          "bdata": "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",
          "dtype": "f8"
         },
         "yaxis": "y"
        },
        {
         "marker": {
          "color": "#002D72",
          "opacity": 0.7
         },
         "mode": "markers",
         "type": "scatter",
         "x": {
          "bdata": "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",
          "dtype": "f8"
         },
         "xaxis": "x2",
         "y": {
          "bdata": "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",
          "dtype": "f8"
         },
         "yaxis": "y2"
        },
        {
         "marker": {
          "color": "#002D72",
          "opacity": 0.7
         },
         "mode": "markers",
         "type": "scatter",
         "x": {
          "bdata": "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",
          "dtype": "f8"
         },
         "xaxis": "x3",
         "y": {
          "bdata": "qET7+SA0WEAuKlwJRGxUQEQTSmBojVhA/jcF+mBEVkCW/Oox+CpYQDPYyzdTflhAIsfeCOJqWEAxibnSQBxXQPlg6mOKZVhAaHyOUEsuWEAj8F/RcmNWQBYPycEIE1hAedkPYVgYWEBc0rl8fBFWQKxqg5E7jVhARwZto6/8V0AFTOuzvzNYQB3sSjDWAFhA8m/uiVUuWEB1yaV3mO1XQHm3DBz1dldAqGfBHK0GWECxi0gvzHxYQPZKg6L4IFhAIVZnhv9sWEDsYl9SwGlYQKyxq9EoaVhA1sfntGExWEA1c5BuIIFYQK60dj5ED1ZA3tNPkarGV0A2DadG3gRYQH44mdOzClhAMshMlr7/V0DXp+B6VklYQErQ+RM9JlhANH4FNa5DWEAcMauc9GBYQN/JJdtxPFhAK1tAskw4WECb4sLFAbhXQPIchE2D11NAE6RYcpL/VkDWV/5MdZlSQNosUVpub1hA2bmBi+B7WEBVH1j1s3tYQLrdR4MyeVhAwoGKBQRaWECg41qYA3ZYQHJ0D7ikwFZAVsebsrSSV0BsQC070/tVQHF1xGqPGldATxbh17WcV0DRtvQCECtVQBrvSfgROlZAHd58W7dLV0AaN5Weij9WQG55iv9IsFVAwrJicyKLV0AW0nzXWAxXQOYOtbq7s1VARZmHsxAKVkAyf16/BB1XQLLrbnlEI1dAPyEmTDJ1VUAmCAShc9xXQNoYs9hBI1dAC5L3JVg/VkAEMOX2L75UQFGGjXZ4f1RA5Gk+Yuz2VUDGVavWqClUQDvB1HnhSVdAvROr0pJiVUCWwst05vhUQJr53i3NyFVABkl2i3F0V0Cq6FCAhh9WQJSKbbkiLFVAbrcnImvbVkCSVPBaUjFWQIx11uobcVVAfPkzapOQV0C13aCqUmdXQNgWzZdAEVVA5DVKxMQlVkDIr70L/bJVQOI1jPfzl1RAWqBCJ3fZVUA3H4a+CkpWQGkuHHOoQlVA17pyluhiVkBnfarAOYNWQFOn2LpptFdAYFb26ltxVUC2GrjoPDtXQHYszt0w6FVA0tlgUgeSVUBjEqxdKI5YQLmbiQbKR1hA2etlvvqMWEAHzOJsKD5YQP35mc4lbFhA7/sr7MaBWEBzDhW0w1tYQAaRwcH+V1hAdU1rQ1tzWEAtG+901XVYQEYr3HbLZFhATkql5lZUWEBS/r7D54lYQDaaCHYGbFhAblwzVfs6WEBgON53zhRYQIa8vLY5cFhAmw8fc491WEDB7LeyqnpYQCbro1G7fVhAacjOX27YV0C2z62ft1VYQBwjOFzoVFhAaZQAKexcWEB5kTAMruFXQHPcF5QiOlhAVd6UIlYRWEDWR+NrCntYQMY35y61cVhADpJBhptWWEAT4vVqQMtXQHrFkVGHdFhAoK/rtMI5WECxaYuLFFlYQG9UeRJ6QVhAttEMGpkvWEBOrgmfuRZYQMfjktkyJ1hAJkUoacJ9WEB7LDcyUzZYQLYJa+NyW1hAW57QvuV6WEBCIywmgVtXQCfyk0CpYlhAJqCCZhAzWEDdN1Nv+DpYQA4Su+KmaVhAGCbedrFMWECZhyMP9lxYQO+V3GEfUlhAWeXndrrzVUDq6LjDrFpVQMbzWj0rElVAOgegtkZtVkBSMV/Na09VQGJ91RPBaFVAEoboZkRDVkB+WVup83ZXQF6MB9A7tFdAcCBPyHWRV0BNZLTQ0XNWQFmqCFCyzVdAPtpr3XE+V0AQTIemJcFVQPp5UMLeh1dArv8jl8QHV0AqL5pntf9UQLFNZ2Bt8VVAwnl9/YfsVkDEzPqDZ/BVQMqkJaUqK1dASz7a2enAVECZUbYFJglVQImTlpzrnVdAlGaBKSlwVEDde6MilI9WQGYEtTqU0FRA061YOqWAVUAQ1tsUBM9UQK9GvETzMVRANPa6J+ZbVUA3dp4bZLNVQIE91x/E+VZALuWMZ/4JV0CCeSKW41xVQGfmZVbu3lVAXgq8c9GUVkBkHd6tVEFWQC6vmqCQ+FVA7ydkMxSLVEAC1T99GP9VQFAR6v0k/VRAnCSfTpjoVkCG2yUqwNpVQL+CFGoKyFVA6rBBW+opVEBFbkVJKaFUQMzJlQ0fkVRAUseIAxf4VkCqu09v4rxUQM5RICvBt1dADsngDKRQWEDCHQ2g4uRWQPzq1kLP4VdAtqeMhu+4VkCAkii2WFNXQP2aj7yCy1dAGn3rsxEdWEC4WJVWBn9XQNru559JyFZAsn5OgaeKWED/dEGG/w1YQDRHCF8A/ldAjOx2P7S2V0Au+aqZVkJYQIEgOE4MLFhAqaREu+hjWED1hTD2LrZXQFhMzG9pkFhA0KFnKCvnV0D283xMqfVXQIJj5fU7XlhAqxKMQPtuWECS9L0CcA9YQA3Xa25rgVhAuz1NZlCIWEDheYeWPDJYQNy1Qxg7uVdAw/PAbzk7WECaTxdMtZNYQN+tmxy8jlhAAvUqSUFCWEAqawnI/AdYQNovHv6sbVhAJJcNjgKhWEBYN4bK1ftXQFW/q0wXI1hA7qf6HqRbWEDVQEnsH2FYQEsTozYeFlhA/nkG70mWWEDl87Otx2JYQHyrAkWiNFhAGvs5r/LOV0C2Lh4PJIJYQA4IDZpMi1dAUwU5ro0CWEB5V2OprXBYQGAR3hYtZ1hAVL2Xx4NDWEDq7E6uKq1YQCv2dsb6rlhABAd7oeR1WECHF+CzM7RYQDTOfo+7W1hAs2MGPjH1V0ANStyn64lYQK4T+l97IFhAKlbcLnqAWEBiNan7pXFYQBdiAqDyo1hApi8jaX3wVkCMJ4CIsadYQKhOB6WvRFhASpNS5d+WWECihhP8ZaVYQMCuG3IorlhAS4/MMxieWEDxSIWRW8FYQAKD6JxYolhATntiThiwWEDSg+z5vbBYQN8WgFTWr1hAOcPm+QeaWEDiHP0T7IBYQDBx/H1ukVhAi0rb0hqjWEBiFCdnfJdYQIqohnOBpVhAoX8tr9apWEB2thGYonpYQJ8ipGLqvFhACIRvGTysWECcC7jH/ahYQBV+78nqBVhAsrRIvpKKWEDOtWR0tJZYQDttNiRTJVhA37L6oNqCWEDaMpAlR6pYQC5WwSoJjFhAgpHnwLC2WEDxIHwfbpZYQHi/7sHatlhANLaLelGQWEAuJGJUaZZYQDq2zcG9uVhA45df1EGpWEDQ/7uKTqdYQEYxNSPkn1hA2XdefnkoV0BGj0c1f3NYQEiHZpsWildAQz8qzeTzV0AhmePfJbxXQFWAFj6bElhAz5hKIiVAWEBHcsCM1TpYQGeA71ytkVhAAmVNRpZWWEBIAnM6FBFYQDN6u3xBuVdAmoso8Q1LWEDaF/KUondYQLbHRZwyd1hAt3CzOZ5/WEDXQCtvBlxYQKh6reGXbVhAEnzLkw2AWEAXtgth5WBYQEA7iAkF01dABlxFex1qWECZKHKOlYxYQFbr3muGH1hA828jnTdYWEATrwRfWzFYQDYSAl1PwldAFOyZiYVXWEBejzoNiXVYQBpxMxiLQFhAvTM40AhYWEDG3wxNLlBYQMCqeZDgIVhAK9InMmjxV0DTsfHpuslXQI6sMeMVUVhA5pJ7+n1sWEBEzqVLEVJYQCIZqzbeM1hAlsMof7xAWEA8PeKi0YBYQLiym2vwZFhArDvv1q0tWECpllTlbzxYQJ5LtAYjN1hA9jlKae2PWEAYWEY3kxZYQJraIGQqbVhAaiZ9ydlFWECZEJx/EW1YQJXodgIERlZAGzeejI0kVkDCY84A9fNUQESo9OvmX1ZAnn+F7w66VUAdeSYMnPtVQGnFhR1EE1VAhwZBSxo0VEDBEE2U3nVXQB1G/pMWK1VAYM1OxqvuVUCVVRqZejdUQAbdzttnX1VAM2btZ10PVUDrofG0Y/VUQAa5DXz+IVdAPv6wXVwYVkD4dqMn6rRVQEr0VEqYxFVAEOfEH9/wVEAFVt2gyKlWQG7yrZ/RjVRAXf/xsqJ5VUCZAzJEr31VQEdxzE15C1VAQZFj1GuBVEBTDBp3ElhXQEW7S/QInlVAa50pitrhVUCH1wXtyYJWQC+0cgkyQFZAUg5KsKD+VkBf4w7QcMNWQCZWlbLUV1RA3riUsJPiVECmnvn4s/NWQOlR8qqNylZAkjf73uIHVUA6l0r+sy9VQIIjZY8HCVZAId5n3gvXVEB+hVL4HtRVQGgzCKsT0FZA4o6Lvk/rVUANsvY9OmtWQDgnG/QHxlZAwmyDw5EkVkDTWVXruEZXQPcYMMVqo1VA2KwixRUTV0A9WC+9xkJXQGS42KnUuFdAfmz+d+djWECaa8HQFfBXQGHORbx21ldAFPaDJBJ7WEBKeZcxwblXQOpMr6aRZ1hAtrtrsyXkV0C4/jiOBiRYQKo8/EnakFhASD88LZS7V0B+ZYyHgaNYQAnuaCrkEFhAHcHMidGmWEAZPAZFt55YQLTAo5hVrVhA9UqIWmhRWEB5U5dVQ5lYQIT+oy6EYVhAkuT1X4PeV0AOEjx7ZG9VQJ3EymwWAVhAuv7GtziJVkCJugpJ1KlWQPvbzcAJZlZAnuyl8mtJWEBzuW6NNWNYQJ17+m6kT1hACrls98uWWEAI0YXFGHdYQKz3r791iVhAm6EPZS4+WEA9FiF/DVdYQMwKtsms1FdA7q4PooOqWEBGAI/C0ZhYQBrK1BX2S1hAOioF+JOaWEAWC40jg6tYQAHjjVElXlhAmoU2cnZHWEC12T3rYadXQNm28ff2dFhAfTuxId50V0AfwFN7UD9YQFqmjp3lSVhAbYcWOkToV0DPaM/Ld7JYQL6cIKzmnFhAP/QtexwIUUA7SKe19C1WQE7GPwW5uVVAu5YUQ+z0U0DMBBAhi/5VQJ6qfyUwTlJA8/O97T9PVECNBYIGLjJVQCtqPipGUlJAL+1CJD7xVUC2QwpqNXRQQOqCMgTNhVZA+RfQ1KA1VUB9STwTa2RTQOFxNLs2EFZAaGtV7HPoVEBJ0NTRJulXQIqikFJIwFdAvl9Sp4uxV0CiAPdc6WpXQFbGQmWSn1VA/qdvFkyuVkB+dpcSawJYQFOjkOC+2FZA0u9oqLYMVkCiWtj7XhpXQCJQUK29VVdA4kMMvg14V0D6S39irN1VQAYsxGPBH1VABob2kah/VUDgr306CvdVQDJIMhCqIVZAWCGbfeVTVEA7lo1lhYJVQErCka4C7VZAaia2pG5gV0CHStb3ycFXQBIEVJd39FZAruCYLrtJWEAeZpa2PgdXQKV5nmjg5ldAOYVkQ/WYVUCVF1pCcVxVQNKVsgwH8lZAKvwtOLTWVECG0iEF1z9XQL7ZxtOhvlRAdPrHxtADV0A1lGXw6l9WQA==",
          "dtype": "f8"
         },
         "yaxis": "y3"
        },
        {
         "marker": {
          "color": "#002D72",
          "opacity": 0.7
         },
         "mode": "markers",
         "type": "scatter",
         "x": {
          "bdata": "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",
          "dtype": "f8"
         },
         "xaxis": "x4",
         "y": {
          "bdata": "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",
          "dtype": "f8"
         },
         "yaxis": "y4"
        },
        {
         "marker": {
          "color": "#002D72",
          "opacity": 0.7
         },
         "mode": "markers",
         "type": "scatter",
         "x": {
          "bdata": "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",
          "dtype": "f8"
         },
         "xaxis": "x5",
         "y": {
          "bdata": "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",
          "dtype": "f8"
         },
         "yaxis": "y5"
        },
        {
         "marker": {
          "color": "#002D72",
          "opacity": 0.7
         },
         "mode": "markers",
         "type": "scatter",
         "x": {
          "bdata": "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",
          "dtype": "f8"
         },
         "xaxis": "x6",
         "y": {
          "bdata": "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",
          "dtype": "f8"
         },
         "yaxis": "y6"
        },
        {
         "marker": {
          "color": "#002D72",
          "opacity": 0.7
         },
         "mode": "markers",
         "type": "scatter",
         "x": {
          "bdata": "AAAAAAAA+H8AAAAAAAD4fwAAAAAAAPh/AAAAAAAA+H8AAAAAAAD4fwAAAAAAAPh/AAAAAAAA+H8AAAAAAAD4fwAAAAAAAPh/AAAAAAAA+H8AAAAAAAD4fwAAAAAAAPh/AAAAAAAA+H8AAAAAAAD4fwAAAAAAAPh/AAAAAAAA+H8AAAAAAAD4fwAAAAAAAPh/AAAAAAAA+H8AAAAAAAD4fwAAAAAAAPh/AAAAAAAA+H8AAAAAAAD4fwAAAAAAAPh/AAAAAAAA+H8AAAAAAAD4fwAAAAAAAPh/AAAAAAAA+H8AAAAAAAD4fwAAAAAAAPh/AAAAAAAA+H8AAAAAAAD4fwAAAAAAAPh/AAAAAAAA+H8AAAAAAAD4fwAAAAAAAPh/AAAAAAAA+H8AAAAAAAD4fwAAAAAAAPh/AAAAAAAA+H8AAAAAAAD4fwAAAAAAAPh/AAAAAAAA+H8AAAAAAAD4fwAAAAAAAPh/AAAAAAAA+H8AAAAAAAD4fwAAAAAAAPh/AAAAAAAA+H8AAAAAAAD4fwAAAAAAAPh/AAAAAAAA+H8AAAAAAAD4fwAAAAAAAPh/AAAAAAAA+H8AAAAAAAD4fwAAAAAAAPh/AAAAAAAA+H8AAAAAAAD4fwAAAAAAAPh/AAAAAAAA+H8AAAAAAAD4fwAAAAAAAPh/AAAAAAAA+H8AAAAAAAD4fwAAAAAAAPh/AAAAAAAA+H8AAAAAAAD4fwAAAAAAAPh/AAAAAAAA+H8AAAAAAAD4fwAAAAAAAPh/AAAAAAAA+H8AAAAAAAD4fwAAAAAAAPh/AAAAAAAA+H8AAAAAAAD4fwAAAAAAAPh/AAAAAAAA+H8AAAAAAAD4fwAAAAAAAPh/AAAAAAAA+H8AAAAAAAD4fwAAAAAAAPh/AAAAAAAA+H8AAAAAAAD4fwAAAAAAAPh/AAAAAAAA+H8AAAAAAAD4fwAAAAAAAPh/AAAAAAAA+H8AAAAAAAD4fwAAAAAAAPh/AAAAAAAA+H8AAAAAAAD4fwAAAAAAAPh/AAAAAAAA+H8AAAAAAAD4fwAAAAAAAPh/AAAAAAAA+H8AAAAAAAD4fwAAAAAAAPh/AAAAAAAA+H8AAAAAAAD4fwAAAAAAAPh/AAAAAAAA+H8AAAAAAAD4fwAAAAAAAPh/AAAAAAAA+H8AAAAAAAD4fwAAAAAAAPh/AAAAAAAA+H8AAAAAAAD4fwAAAAAAAPh/AAAAAAAA+H8AAAAAAAD4fwAAAAAAAPh/AAAAAAAA+H8AAAAAAAD4fwAAAAAAAPh/AAAAAAAA+H8AAAAAAAD4fwAAAAAAAPh/AAAAAAAA+H8AAAAAAAD4fwAAAAAAAPh/AAAAAAAA+H8AAAAAAAD4fwAAAAAAAPh/AAAAAAAA+H8AAAAAAAD4fwAAAAAAAPh/AAAAAAAA+H8AAAAAAAD4fwAAAAAAAPh/AAAAAAAA+H8AAAAAAAD4fwAAAAAAAPh/AAAAAAAA+H8AAAAAAAD4fwAAAAAAAPh/AAAAAAAA+H8AAAAAAAD4fwAAAAAAAPh/AAAAAAAA+H8AAAAAAAD4fwAAAAAAAPh/AAAAAAAA+H8AAAAAAAD4fwAAAAAAAPh/AAAAAAAA+H8AAAAAAAD4fwAAAAAAAPh/AAAAAAAA+H8AAAAAAAD4fwAAAAAAAPh/AAAAAAAA+H8AAAAAAAD4fwAAAAAAAPh/AAAAAAAA+H8AAAAAAAD4fwAAAAAAAPh/AAAAAAAA+H8AAAAAAAD4fwAAAAAAAPh/AAAAAAAA+H8AAAAAAAD4fwAAAAAAAPh/AAAAAAAA+H8AAAAAAAD4fwAAAAAAAPh/AAAAAAAA+H8AAAAAAAD4fwAAAAAAAPh/AAAAAAAA+H8AAAAAAAD4fwAAAAAAAPh/AAAAAAAA+H8AAAAAAAD4fwAAAAAAAPh/AAAAAAAA+H8AAAAAAAD4fwAAAAAAAPh/AAAAAAAA+H8AAAAAAAD4fwAAAAAAAPh/AAAAAAAA+H8AAAAAAAD4fwAAAAAAAPh/AAAAAAAA+H8AAAAAAAD4fwAAAAAAAPh/AAAAAAAA+H8AAAAAAAD4fwAAAAAAAPh/AAAAAAAA+H8AAAAAAAD4fwAAAAAAAPh/AAAAAAAA+H8AAAAAAAD4f8P1KFyPwu0/XI/C9Shc7z/D9Shcj8LtP1yPwvUoXO8/uB6F61G47j9nZmZmZmbuP3E9CtejcO0/Z2ZmZmZm7j+4HoXrUbjuP8P1KFyPwu0/CtejcD0K7z8fhetRuB7tP65H4XoUru8/rkfhehSu7z+uR+F6FK7vP65H4XoUru8/rkfhehSu7z9cj8L1KFzvPwrXo3A9Cu8/CtejcD0K7z8K16NwPQrvPwrXo3A9Cu8/CtejcD0K7z8K16NwPQrvP7gehetRuO4/CtejcD0K7z+4HoXrUbjuP7gehetRuO4/uB6F61G47j+4HoXrUbjuPxWuR+F6FO4/Fa5H4XoU7j9nZmZmZmbuPxWuR+F6FO4/Fa5H4XoU7j8VrkfhehTuPxWuR+F6FO4/Fa5H4XoU7j8VrkfhehTuPxWuR+F6FO4/w/UoXI/C7T/D9Shcj8LtP3E9CtejcO0/w/UoXI/C7T9xPQrXo3DtP3E9CtejcO0/cT0K16Nw7T9xPQrXo3DtP3E9CtejcO0/Z2ZmZmZm7j+5HoXrUbjuP8P1KFyPwu0/Z2ZmZmZm7j8VrkfhehTuP7kehetRuO4/Z2ZmZmZm7j9cj8L1KFzvP7kehetRuO4/cT0K16Nw7T8fhetRuB7tPx+F61G4Hu0/H4XrUbge7T8K16NwPQrvP3E9CtejcO0/w/UoXI/C7T/D9Shcj8LtP8P1KFyPwu0/w/UoXI/C7T/D9Shcj8LtPxWuR+F6FO4/Fa5H4XoU7j8VrkfhehTuPxWuR+F6FO4/Fa5H4XoU7j8VrkfhehTuPxWuR+F6FO4/Fa5H4XoU7j9nZmZmZmbuP2dmZmZmZu4/cT0K16Nw7T9xPQrXo3DtP3E9CtejcO0/cT0K16Nw7T9xPQrXo3DtP3E9CtejcO0/w/UoXI/C7T9xPQrXo3DtP8P1KFyPwu0/w/UoXI/C7T/D9Shcj8LtP7kehetRuO4/Z2ZmZmZm7j9nZmZmZmbuP2dmZmZmZu4/Z2ZmZmZm7j9nZmZmZmbuP2dmZmZmZu4/Z2ZmZmZm7j8K16NwPQrvPwrXo3A9Cu8/AAAAAAAA+H8AAAAAAAD4fwAAAAAAAPh/AAAAAAAA+H8AAAAAAAD4fwAAAAAAAPh/AAAAAAAA+H8AAAAAAAD4fwAAAAAAAPh/AAAAAAAA+H8AAAAAAAD4fwAAAAAAAPh/AAAAAAAA+H8AAAAAAAD4fwAAAAAAAPh/AAAAAAAA+H8AAAAAAAD4fwAAAAAAAPh/AAAAAAAA+H8AAAAAAAD4fwAAAAAAAPh/AAAAAAAA+H8AAAAAAAD4fwAAAAAAAPh/AAAAAAAA+H8AAAAAAAD4fwAAAAAAAPh/AAAAAAAA+H8AAAAAAAD4fwAAAAAAAPh/AAAAAAAA+H8AAAAAAAD4fwAAAAAAAPh/AAAAAAAA+H8AAAAAAAD4fwAAAAAAAPh/AAAAAAAA+H8AAAAAAAD4fwAAAAAAAPh/AAAAAAAA+H8AAAAAAAD4fwAAAAAAAPh/AAAAAAAA+H8AAAAAAAD4fwAAAAAAAPh/AAAAAAAA+H8AAAAAAAD4fwAAAAAAAPh/AAAAAAAA+H8AAAAAAAD4fwAAAAAAAPh/AAAAAAAA+H8AAAAAAAD4fwAAAAAAAPh/AAAAAAAA+H8AAAAAAAD4fwAAAAAAAPh/AAAAAAAA+H8AAAAAAAD4fwAAAAAAAPh/AAAAAAAA+H8AAAAAAAD4fwAAAAAAAPh/AAAAAAAA+H8AAAAAAAD4fwAAAAAAAPh/AAAAAAAA+H8AAAAAAAD4fwAAAAAAAPh/AAAAAAAA+H8AAAAAAAD4fwAAAAAAAPh/AAAAAAAA+H8AAAAAAAD4fwAAAAAAAPh/AAAAAAAA+H8AAAAAAAD4fwAAAAAAAPh/AAAAAAAA+H8AAAAAAAD4fwAAAAAAAPh/AAAAAAAA+H8AAAAAAAD4fwAAAAAAAPh/AAAAAAAA+H8AAAAAAAD4fwAAAAAAAPh/AAAAAAAA+H8AAAAAAAD4fwAAAAAAAPh/AAAAAAAA+H8AAAAAAAD4fwAAAAAAAPh/AAAAAAAA+H8AAAAAAAD4fwAAAAAAAPh/AAAAAAAA+H8AAAAAAAD4fwAAAAAAAPh/AAAAAAAA+H8AAAAAAAD4fwAAAAAAAPh/AAAAAAAA+H8AAAAAAAD4fwAAAAAAAPh/AAAAAAAA+H8AAAAAAAD4fwAAAAAAAPh/AAAAAAAA+H8AAAAAAAD4fwAAAAAAAPh/AAAAAAAA+H8AAAAAAAD4fwAAAAAAAPh/AAAAAAAA+H8AAAAAAAD4fwAAAAAAAPh/AAAAAAAA+H8AAAAAAAD4fwAAAAAAAPh/AAAAAAAA+H8AAAAAAAD4fwAAAAAAAPh/AAAAAAAA+H8AAAAAAAD4fwAAAAAAAPh/AAAAAAAA+H8AAAAAAAD4fwAAAAAAAPh/AAAAAAAA+H8AAAAAAAD4fwAAAAAAAPh/AAAAAAAA+H8AAAAAAAD4fwAAAAAAAPh/AAAAAAAA+H8AAAAAAAD4fwAAAAAAAPh/AAAAAAAA+H8AAAAAAAD4fwAAAAAAAPh/AAAAAAAA+H8AAAAAAAD4fwAAAAAAAPh/AAAAAAAA+H8AAAAAAAD4fwAAAAAAAPh/AAAAAAAA+H8AAAAAAAD4fwAAAAAAAPh/AAAAAAAA+H8AAAAAAAD4fwAAAAAAAPh/AAAAAAAA+H8AAAAAAAD4fwAAAAAAAPh/AAAAAAAA+H8AAAAAAAD4fwAAAAAAAPh/AAAAAAAA+H8AAAAAAAD4fwAAAAAAAPh/AAAAAAAA+H8AAAAAAAD4fwAAAAAAAPh/AAAAAAAA+H8AAAAAAAD4fwAAAAAAAPh/AAAAAAAA+H8AAAAAAAD4fwAAAAAAAPh/AAAAAAAA+H8AAAAAAAD4fwAAAAAAAPh/AAAAAAAA+H8AAAAAAAD4fwAAAAAAAPh/AAAAAAAA+H8AAAAAAAD4fwAAAAAAAPh/AAAAAAAA+H8AAAAAAAD4fwAAAAAAAPh/AAAAAAAA+H8AAAAAAAD4fwAAAAAAAPh/AAAAAAAA+H8AAAAAAAD4fwAAAAAAAPh/AAAAAAAA+H8AAAAAAAD4fwAAAAAAAPh/AAAAAAAA+H8AAAAAAAD4fwAAAAAAAPh/AAAAAAAA+H8AAAAAAAD4fwAAAAAAAPh/AAAAAAAA+H8AAAAAAAD4fw==",
          "dtype": "f8"
         },
         "xaxis": "x7",
         "y": {
          "bdata": "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",
          "dtype": "f8"
         },
         "yaxis": "y7"
        },
        {
         "marker": {
          "color": "#002D72",
          "opacity": 0.7
         },
         "mode": "markers",
         "type": "scatter",
         "x": {
          "bdata": "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",
          "dtype": "f8"
         },
         "xaxis": "x8",
         "y": {
          "bdata": "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",
          "dtype": "f8"
         },
         "yaxis": "y8"
        },
        {
         "marker": {
          "color": "#002D72",
          "opacity": 0.7
         },
         "mode": "markers",
         "type": "scatter",
         "x": {
          "bdata": "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",
          "dtype": "f8"
         },
         "xaxis": "x9",
         "y": {
          "bdata": "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",
          "dtype": "f8"
         },
         "yaxis": "y9"
        },
        {
         "marker": {
          "color": "#002D72",
          "opacity": 0.7
         },
         "mode": "markers",
         "type": "scatter",
         "x": {
          "bdata": "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",
          "dtype": "f8"
         },
         "xaxis": "x10",
         "y": {
          "bdata": "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",
          "dtype": "f8"
         },
         "yaxis": "y10"
        },
        {
         "marker": {
          "color": "#002D72",
          "opacity": 0.7
         },
         "mode": "markers",
         "type": "scatter",
         "x": {
          "bdata": "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",
          "dtype": "f8"
         },
         "xaxis": "x11",
         "y": {
          "bdata": "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",
          "dtype": "f8"
         },
         "yaxis": "y11"
        },
        {
         "marker": {
          "color": "#002D72",
          "opacity": 0.7
         },
         "mode": "markers",
         "type": "scatter",
         "x": {
          "bdata": "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",
          "dtype": "f8"
         },
         "xaxis": "x12",
         "y": {
          "bdata": "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",
          "dtype": "f8"
         },
         "yaxis": "y12"
        },
        {
         "marker": {
          "color": "#002D72",
          "opacity": 0.7
         },
         "mode": "markers",
         "type": "scatter",
         "x": {
          "bdata": "AAAAAAAA+H8AAAAAAAD4fwAAAAAAAPh/AAAAAAAA+H8AAAAAAAD4fwAAAAAAAPh/AAAAAAAA+H8AAAAAAAD4fwAAAAAAAPh/AAAAAAAA+H8AAAAAAAD4fwAAAAAAAPh/AAAAAAAA+H8AAAAAAAD4fwAAAAAAAPh/AAAAAAAA+H8AAAAAAAD4fwAAAAAAAPh/AAAAAAAA+H8AAAAAAAD4fwAAAAAAAPh/AAAAAAAA+H8AAAAAAAD4fwAAAAAAAPh/AAAAAAAA+H8AAAAAAAD4fwAAAAAAAPh/AAAAAAAA+H8AAAAAAAD4fwAAAAAAAPh/AAAAAAAA+H8AAAAAAAD4fwAAAAAAAPh/AAAAAAAA+H8AAAAAAAD4fwAAAAAAAPh/AAAAAAAA+H8AAAAAAAD4fwAAAAAAAPh/AAAAAAAA+H8AAAAAAAD4fwAAAAAAAPh/AAAAAAAA+H8AAAAAAAD4fwAAAAAAAPh/AAAAAAAA+H8AAAAAAAD4fwAAAAAAAPh/AAAAAAAA+H8AAAAAAAD4fwAAAAAAAPh/AAAAAAAA+H8AAAAAAAD4fwAAAAAAAPh/AAAAAAAA+H8AAAAAAAD4fwAAAAAAAPh/AAAAAAAA+H8AAAAAAAD4fwAAAAAAAPh/AAAAAAAA+H8AAAAAAAD4fwAAAAAAAPh/AAAAAAAA+H8AAAAAAAD4fwAAAAAAAPh/AAAAAAAA+H8AAAAAAAD4fwAAAAAAAPh/AAAAAAAA+H8AAAAAAAD4fwAAAAAAAPh/AAAAAAAA+H8AAAAAAAD4fwAAAAAAAPh/AAAAAAAA+H8AAAAAAAD4fwAAAAAAAPh/AAAAAAAA+H8AAAAAAAD4fwAAAAAAAPh/AAAAAAAA+H8AAAAAAAD4fwAAAAAAAPh/AAAAAAAA+H8AAAAAAAD4fwAAAAAAAPh/AAAAAAAA+H8AAAAAAAD4fwAAAAAAAPh/AAAAAAAA+H8AAAAAAAD4fwAAAAAAAPh/AAAAAAAA+H8AAAAAAAD4fwAAAAAAAPh/AAAAAAAA+H8AAAAAAAD4fwAAAAAAAPh/AAAAAAAA+H8AAAAAAAD4fwAAAAAAAPh/AAAAAAAA+H8AAAAAAAD4fwAAAAAAAPh/AAAAAAAA+H8AAAAAAAD4fwAAAAAAAPh/AAAAAAAA+H8AAAAAAAD4fwAAAAAAAPh/AAAAAAAA+H8AAAAAAAD4fwAAAAAAAPh/AAAAAAAA+H8AAAAAAAD4fwAAAAAAAPh/AAAAAAAA+H8AAAAAAAD4fwAAAAAAAPh/AAAAAAAA+H8AAAAAAAD4fwAAAAAAAPh/AAAAAAAA+H8AAAAAAAD4fwAAAAAAAPh/AAAAAAAA+H8AAAAAAAD4fwAAAAAAAPh/AAAAAAAA+H8AAAAAAAD4fwAAAAAAAPh/AAAAAAAA+H8AAAAAAAD4fwAAAAAAAPh/AAAAAAAA+H8AAAAAAAD4fwAAAAAAAPh/AAAAAAAA+H8AAAAAAAD4fwAAAAAAAPh/AAAAAAAA+H8AAAAAAAD4fwAAAAAAAPh/AAAAAAAA+H8AAAAAAAD4fwAAAAAAAPh/AAAAAAAA+H8AAAAAAAD4fwAAAAAAAPh/AAAAAAAA+H8AAAAAAAD4fwAAAAAAAPh/AAAAAAAA+H8AAAAAAAD4fwAAAAAAAPh/AAAAAAAA+H8AAAAAAAD4fwAAAAAAAPh/AAAAAAAA+H8AAAAAAAD4fwAAAAAAAPh/AAAAAAAA+H8AAAAAAAD4fwAAAAAAAPh/AAAAAAAA+H8AAAAAAAD4fwAAAAAAAPh/AAAAAAAA+H8AAAAAAAD4fwAAAAAAAPh/AAAAAAAA+H8AAAAAAAD4fwAAAAAAAPh/AAAAAAAA+H8AAAAAAAD4fwAAAAAAAPh/AAAAAAAA+H8AAAAAAAD4fwAAAAAAAPh/AAAAAAAA+H8AAAAAAAD4fwAAAAAAAPh/AAAAAAAA+H8AAAAAAAD4fwAAAAAAAPh/AAAAAAAA+H8AAAAAAAD4fwAAAAAAAPh/AAAAAAAA+H8AAAAAAAD4fwAAAAAAAPh/AAAAAAAA+H8AAAAAAAD4fwAAAAAAAPh/AAAAAAAA+H8AAAAAAAD4fwAAAAAAAPh/AAAAAAAA+H8AAAAAAAD4fwAAAAAAAPh/AAAAAAAA+H8AAAAAAAD4fwAAAAAAAPh/AAAAAAAA+H8AAAAAAAD4fwAAAAAAAPh/AAAAAAAA+H8AAAAAAAD4fwAAAAAAAPh/AAAAAAAA+H8AAAAAAAD4fwAAAAAAAPh/AAAAAAAA+H8AAAAAAAD4fwAAAAAAAPh/AAAAAAAA+H8AAAAAAAD4fwAAAAAAAPh/AAAAAAAA+H8AAAAAAAD4fwAAAAAAAPh/AAAAAAAA+H8AAAAAAAD4fwAAAAAAAPh/AAAAAAAA+H8AAAAAAAD4fwAAAAAAAPh/AAAAAAAA+H8AAAAAAAD4fwAAAAAAAPh/AAAAAAAA+H8AAAAAAAD4fwAAAAAAAPh/AAAAAAAA+H8AAAAAAAD4fwAAAAAAAPh/AAAAAAAA+H8AAAAAAAD4fwAAAAAAAPh/AAAAAAAA+H8AAAAAAAD4fwAAAAAAAPh/AAAAAAAA+H8AAAAAAAD4fwAAAAAAAPh/AAAAAAAA+H8AAAAAAAD4fwAAAAAAAPh/AAAAAAAA+H8AAAAAAAD4fwAAAAAAAPh/AAAAAAAA+H8AAAAAAAD4fwAAAAAAAPh/AAAAAAAA+H8AAAAAAAD4fwAAAAAAAPh/AAAAAAAA+H8AAAAAAAD4fwAAAAAAAPh/AAAAAAAA+H8AAAAAAAD4fwAAAAAAAPh/AAAAAAAA+H8AAAAAAAD4fwAAAAAAAPh/AAAAAAAA+H8AAAAAAAD4fwAAAAAAAPh/AAAAAAAA+H8AAAAAAAD4fwAAAAAAAPh/AAAAAAAA+H8AAAAAAAD4fwAAAAAAAPh/AAAAAAAA+H8AAAAAAAD4fwAAAAAAAPh/AAAAAAAA+H8AAAAAAAD4fwAAAAAAAPh/AAAAAAAA+H8AAAAAAAD4fwAAAAAAAPh/AAAAAAAA+H8AAAAAAAD4fwAAAAAAAPh/AAAAAAAA+H8AAAAAAAD4fwAAAAAAAPh/AAAAAAAA+H8AAAAAAAD4fwAAAAAAAPh/AAAAAAAA+H8AAAAAAAD4fwAAAAAAAPh/AAAAAAAA+H8AAAAAAAD4fwAAAAAAAPh/AAAAAAAA+H8AAAAAAAD4fwAAAAAAAPh/AAAAAAAA+H8AAAAAAAD4fwAAAAAAAPh/AAAAAAAA+H8AAAAAAAD4fwAAAAAAAPh/AAAAAAAA+H8AAAAAAAD4fwAAAAAAAPh/AAAAAAAA+H8AAAAAAAD4fwAAAAAAAPh/AAAAAAAA+H8AAAAAAAD4fwAAAAAAAPh/AAAAAAAA+H8AAAAAAAD4fwAAAAAAAPh/AAAAAAAA+H8AAAAAAAD4fwAAAAAAAPh/AAAAAAAA+H8AAAAAAAD4fwAAAAAAAPh/AAAAAAAA+H8AAAAAAAD4fwAAAAAAAPh/AAAAAAAA+H8AAAAAAAD4fwAAAAAAAPh/AAAAAAAA+H8AAAAAAAD4fwAAAAAAAPh/AAAAAAAA+H8AAAAAAAD4fwAAAAAAAPh/AAAAAAAA+H8AAAAAAAD4fwAAAAAAAPh/AAAAAAAA+H8AAAAAAAD4fwAAAAAAAPh/AAAAAAAA+H8AAAAAAAD4fwAAAAAAAPh/AAAAAAAA+H8AAAAAAAD4fwAAAAAAAPh/AAAAAAAA+H8AAAAAAAD4fwAAAAAAAPh/AAAAAAAA+H8AAAAAAAD4fwAAAAAAAPh/AAAAAAAA+H8AAAAAAAD4fwAAAAAAAPh/AAAAAAAA+H8AAAAAAAD4fwAAAAAAAPh/AAAAAAAA+H8AAAAAAAD4fwAAAAAAAPh/AAAAAAAA+H8AAAAAAAD4fwAAAAAAAPh/AAAAAAAA+H8AAAAAAAD4fwAAAAAAAPh/AAAAAAAA+H8AAAAAAAD4fwAAAAAAAPh/AAAAAAAA+H8AAAAAAAD4fwAAAAAAAPh/AAAAAAAA+H8AAAAAAAD4fwAAAAAAAPh/AAAAAAAA+H8AAAAAAAD4fwAAAAAAAPh/AAAAAAAA+H8AAAAAAAD4fwAAAAAAAPh/AAAAAAAA+H8AAAAAAAD4fwAAAAAAAPh/AAAAAAAA+H8AAAAAAAD4fwAAAAAAAPh/AAAAAAAA+H8AAAAAAAD4fwAAAAAAAPh/AAAAAAAA+H8AAAAAAAD4fwAAAAAAAPh/AAAAAAAA+H8zMzMzMzPzP83MzMzMzPw/Z2ZmZmZm9j+amZmZmZnxP2ZmZmZmZuY/MzMzMzMz8z8zMzMzMzPzPzMzMzMzM/M/zczMzMzM/D+amZmZmZnxPwAAAAAAAPA/MzMzMzMz8z+amZmZmZnpP2dmZmZmZv4/mpmZmZmZyT+amZmZmZnJP5qZmZmZmck/mpmZmZmZyT+amZmZmZnJP5qZmZmZmck/mpmZmZmZyT+amZmZmZnJPwAAAAAAAOA/AAAAAAAA4D8AAAAAAADgPwAAAAAAAOA/AAAAAAAA4D8AAAAAAADgPwAAAAAAAOA/mpmZmZmZ6T9mZmZmZmbmP5qZmZmZmek/mpmZmZmZ6T+amZmZmZnpP2ZmZmZmZuY/NDMzMzMz0z80MzMzMzPTPwAAAAAAAPg/AAAAAAAA+D80MzMzMzPTPzQzMzMzM9M/AAAAAAAA+D+amZmZmZnZP5qZmZmZmdk/mpmZmZmZ2T80MzMzMzPTP5qZmZmZmdk/NDMzMzMz0z80MzMzMzPTPzQzMzMzM9M/MzMzMzMz+z8AAAAAAAD4PzMzMzMzM/s/MzMzMzMz+z+amZmZmZnpP2ZmZmZmZuY/Z2ZmZmZm9j+amZmZmZnxPzMzMzMzM/s/mpmZmZmZ2T80MzMzMzPjP5qZmZmZmck/AAAAAAAA8D9nZmZmZmb2PzMzMzMzM/M/AAAAAAAA8D+amZmZmZnJP5qZmZmZmck/mpmZmZmZyT80MzMzMzPTPzQzMzMzM9M/mpmZmZmZyT+amZmZmZnJP5qZmZmZmdk/AAAAAAAA4D8AAAAAAADgPwAAAAAAAOA/AAAAAAAA4D8AAAAAAADgPwAAAAAAAOA/mpmZmZmZ6T80MzMzMzPTP5qZmZmZmek/mpmZmZmZ6T+amZmZmZnpP5qZmZmZmck/mpmZmZmZyT+amZmZmZnJP5qZmZmZmck/mpmZmZmZyT80MzMzMzPTPzQzMzMzM9M/mpmZmZmZ2T+amZmZmZnZP5qZmZmZmdk/mpmZmZmZ2T+amZmZmZnZP5qZmZmZmdk/NDMzMzMz0z80MzMzMzPTPw==",
          "dtype": "f8"
         },
         "xaxis": "x13",
         "y": {
          "bdata": "qET7+SA0WEAuKlwJRGxUQEQTSmBojVhA/jcF+mBEVkCW/Oox+CpYQDPYyzdTflhAIsfeCOJqWEAxibnSQBxXQPlg6mOKZVhAaHyOUEsuWEAj8F/RcmNWQBYPycEIE1hAedkPYVgYWEBc0rl8fBFWQKxqg5E7jVhARwZto6/8V0AFTOuzvzNYQB3sSjDWAFhA8m/uiVUuWEB1yaV3mO1XQHm3DBz1dldAqGfBHK0GWECxi0gvzHxYQPZKg6L4IFhAIVZnhv9sWEDsYl9SwGlYQKyxq9EoaVhA1sfntGExWEA1c5BuIIFYQK60dj5ED1ZA3tNPkarGV0A2DadG3gRYQH44mdOzClhAMshMlr7/V0DXp+B6VklYQErQ+RM9JlhANH4FNa5DWEAcMauc9GBYQN/JJdtxPFhAK1tAskw4WECb4sLFAbhXQPIchE2D11NAE6RYcpL/VkDWV/5MdZlSQNosUVpub1hA2bmBi+B7WEBVH1j1s3tYQLrdR4MyeVhAwoGKBQRaWECg41qYA3ZYQHJ0D7ikwFZAVsebsrSSV0BsQC070/tVQHF1xGqPGldATxbh17WcV0DRtvQCECtVQBrvSfgROlZAHd58W7dLV0AaN5Weij9WQG55iv9IsFVAwrJicyKLV0AW0nzXWAxXQOYOtbq7s1VARZmHsxAKVkAyf16/BB1XQLLrbnlEI1dAPyEmTDJ1VUAmCAShc9xXQNoYs9hBI1dAC5L3JVg/VkAEMOX2L75UQFGGjXZ4f1RA5Gk+Yuz2VUDGVavWqClUQDvB1HnhSVdAvROr0pJiVUCWwst05vhUQJr53i3NyFVABkl2i3F0V0Cq6FCAhh9WQJSKbbkiLFVAbrcnImvbVkCSVPBaUjFWQIx11uobcVVAfPkzapOQV0C13aCqUmdXQNgWzZdAEVVA5DVKxMQlVkDIr70L/bJVQOI1jPfzl1RAWqBCJ3fZVUA3H4a+CkpWQGkuHHOoQlVA17pyluhiVkBnfarAOYNWQFOn2LpptFdAYFb26ltxVUC2GrjoPDtXQHYszt0w6FVA0tlgUgeSVUBjEqxdKI5YQLmbiQbKR1hA2etlvvqMWEAHzOJsKD5YQP35mc4lbFhA7/sr7MaBWEBzDhW0w1tYQAaRwcH+V1hAdU1rQ1tzWEAtG+901XVYQEYr3HbLZFhATkql5lZUWEBS/r7D54lYQDaaCHYGbFhAblwzVfs6WEBgON53zhRYQIa8vLY5cFhAmw8fc491WEDB7LeyqnpYQCbro1G7fVhAacjOX27YV0C2z62ft1VYQBwjOFzoVFhAaZQAKexcWEB5kTAMruFXQHPcF5QiOlhAVd6UIlYRWEDWR+NrCntYQMY35y61cVhADpJBhptWWEAT4vVqQMtXQHrFkVGHdFhAoK/rtMI5WECxaYuLFFlYQG9UeRJ6QVhAttEMGpkvWEBOrgmfuRZYQMfjktkyJ1hAJkUoacJ9WEB7LDcyUzZYQLYJa+NyW1hAW57QvuV6WEBCIywmgVtXQCfyk0CpYlhAJqCCZhAzWEDdN1Nv+DpYQA4Su+KmaVhAGCbedrFMWECZhyMP9lxYQO+V3GEfUlhAWeXndrrzVUDq6LjDrFpVQMbzWj0rElVAOgegtkZtVkBSMV/Na09VQGJ91RPBaFVAEoboZkRDVkB+WVup83ZXQF6MB9A7tFdAcCBPyHWRV0BNZLTQ0XNWQFmqCFCyzVdAPtpr3XE+V0AQTIemJcFVQPp5UMLeh1dArv8jl8QHV0AqL5pntf9UQLFNZ2Bt8VVAwnl9/YfsVkDEzPqDZ/BVQMqkJaUqK1dASz7a2enAVECZUbYFJglVQImTlpzrnVdAlGaBKSlwVEDde6MilI9WQGYEtTqU0FRA061YOqWAVUAQ1tsUBM9UQK9GvETzMVRANPa6J+ZbVUA3dp4bZLNVQIE91x/E+VZALuWMZ/4JV0CCeSKW41xVQGfmZVbu3lVAXgq8c9GUVkBkHd6tVEFWQC6vmqCQ+FVA7ydkMxSLVEAC1T99GP9VQFAR6v0k/VRAnCSfTpjoVkCG2yUqwNpVQL+CFGoKyFVA6rBBW+opVEBFbkVJKaFUQMzJlQ0fkVRAUseIAxf4VkCqu09v4rxUQM5RICvBt1dADsngDKRQWEDCHQ2g4uRWQPzq1kLP4VdAtqeMhu+4VkCAkii2WFNXQP2aj7yCy1dAGn3rsxEdWEC4WJVWBn9XQNru559JyFZAsn5OgaeKWED/dEGG/w1YQDRHCF8A/ldAjOx2P7S2V0Au+aqZVkJYQIEgOE4MLFhAqaREu+hjWED1hTD2LrZXQFhMzG9pkFhA0KFnKCvnV0D283xMqfVXQIJj5fU7XlhAqxKMQPtuWECS9L0CcA9YQA3Xa25rgVhAuz1NZlCIWEDheYeWPDJYQNy1Qxg7uVdAw/PAbzk7WECaTxdMtZNYQN+tmxy8jlhAAvUqSUFCWEAqawnI/AdYQNovHv6sbVhAJJcNjgKhWEBYN4bK1ftXQFW/q0wXI1hA7qf6HqRbWEDVQEnsH2FYQEsTozYeFlhA/nkG70mWWEDl87Otx2JYQHyrAkWiNFhAGvs5r/LOV0C2Lh4PJIJYQA4IDZpMi1dAUwU5ro0CWEB5V2OprXBYQGAR3hYtZ1hAVL2Xx4NDWEDq7E6uKq1YQCv2dsb6rlhABAd7oeR1WECHF+CzM7RYQDTOfo+7W1hAs2MGPjH1V0ANStyn64lYQK4T+l97IFhAKlbcLnqAWEBiNan7pXFYQBdiAqDyo1hApi8jaX3wVkCMJ4CIsadYQKhOB6WvRFhASpNS5d+WWECihhP8ZaVYQMCuG3IorlhAS4/MMxieWEDxSIWRW8FYQAKD6JxYolhATntiThiwWEDSg+z5vbBYQN8WgFTWr1hAOcPm+QeaWEDiHP0T7IBYQDBx/H1ukVhAi0rb0hqjWEBiFCdnfJdYQIqohnOBpVhAoX8tr9apWEB2thGYonpYQJ8ipGLqvFhACIRvGTysWECcC7jH/ahYQBV+78nqBVhAsrRIvpKKWEDOtWR0tJZYQDttNiRTJVhA37L6oNqCWEDaMpAlR6pYQC5WwSoJjFhAgpHnwLC2WEDxIHwfbpZYQHi/7sHatlhANLaLelGQWEAuJGJUaZZYQDq2zcG9uVhA45df1EGpWEDQ/7uKTqdYQEYxNSPkn1hA2XdefnkoV0BGj0c1f3NYQEiHZpsWildAQz8qzeTzV0AhmePfJbxXQFWAFj6bElhAz5hKIiVAWEBHcsCM1TpYQGeA71ytkVhAAmVNRpZWWEBIAnM6FBFYQDN6u3xBuVdAmoso8Q1LWEDaF/KUondYQLbHRZwyd1hAt3CzOZ5/WEDXQCtvBlxYQKh6reGXbVhAEnzLkw2AWEAXtgth5WBYQEA7iAkF01dABlxFex1qWECZKHKOlYxYQFbr3muGH1hA828jnTdYWEATrwRfWzFYQDYSAl1PwldAFOyZiYVXWEBejzoNiXVYQBpxMxiLQFhAvTM40AhYWEDG3wxNLlBYQMCqeZDgIVhAK9InMmjxV0DTsfHpuslXQI6sMeMVUVhA5pJ7+n1sWEBEzqVLEVJYQCIZqzbeM1hAlsMof7xAWEA8PeKi0YBYQLiym2vwZFhArDvv1q0tWECpllTlbzxYQJ5LtAYjN1hA9jlKae2PWEAYWEY3kxZYQJraIGQqbVhAaiZ9ydlFWECZEJx/EW1YQJXodgIERlZAGzeejI0kVkDCY84A9fNUQESo9OvmX1ZAnn+F7w66VUAdeSYMnPtVQGnFhR1EE1VAhwZBSxo0VEDBEE2U3nVXQB1G/pMWK1VAYM1OxqvuVUCVVRqZejdUQAbdzttnX1VAM2btZ10PVUDrofG0Y/VUQAa5DXz+IVdAPv6wXVwYVkD4dqMn6rRVQEr0VEqYxFVAEOfEH9/wVEAFVt2gyKlWQG7yrZ/RjVRAXf/xsqJ5VUCZAzJEr31VQEdxzE15C1VAQZFj1GuBVEBTDBp3ElhXQEW7S/QInlVAa50pitrhVUCH1wXtyYJWQC+0cgkyQFZAUg5KsKD+VkBf4w7QcMNWQCZWlbLUV1RA3riUsJPiVECmnvn4s/NWQOlR8qqNylZAkjf73uIHVUA6l0r+sy9VQIIjZY8HCVZAId5n3gvXVEB+hVL4HtRVQGgzCKsT0FZA4o6Lvk/rVUANsvY9OmtWQDgnG/QHxlZAwmyDw5EkVkDTWVXruEZXQPcYMMVqo1VA2KwixRUTV0A9WC+9xkJXQGS42KnUuFdAfmz+d+djWECaa8HQFfBXQGHORbx21ldAFPaDJBJ7WEBKeZcxwblXQOpMr6aRZ1hAtrtrsyXkV0C4/jiOBiRYQKo8/EnakFhASD88LZS7V0B+ZYyHgaNYQAnuaCrkEFhAHcHMidGmWEAZPAZFt55YQLTAo5hVrVhA9UqIWmhRWEB5U5dVQ5lYQIT+oy6EYVhAkuT1X4PeV0AOEjx7ZG9VQJ3EymwWAVhAuv7GtziJVkCJugpJ1KlWQPvbzcAJZlZAnuyl8mtJWEBzuW6NNWNYQJ17+m6kT1hACrls98uWWEAI0YXFGHdYQKz3r791iVhAm6EPZS4+WEA9FiF/DVdYQMwKtsms1FdA7q4PooOqWEBGAI/C0ZhYQBrK1BX2S1hAOioF+JOaWEAWC40jg6tYQAHjjVElXlhAmoU2cnZHWEC12T3rYadXQNm28ff2dFhAfTuxId50V0AfwFN7UD9YQFqmjp3lSVhAbYcWOkToV0DPaM/Ld7JYQL6cIKzmnFhAP/QtexwIUUA7SKe19C1WQE7GPwW5uVVAu5YUQ+z0U0DMBBAhi/5VQJ6qfyUwTlJA8/O97T9PVECNBYIGLjJVQCtqPipGUlJAL+1CJD7xVUC2QwpqNXRQQOqCMgTNhVZA+RfQ1KA1VUB9STwTa2RTQOFxNLs2EFZAaGtV7HPoVEBJ0NTRJulXQIqikFJIwFdAvl9Sp4uxV0CiAPdc6WpXQFbGQmWSn1VA/qdvFkyuVkB+dpcSawJYQFOjkOC+2FZA0u9oqLYMVkCiWtj7XhpXQCJQUK29VVdA4kMMvg14V0D6S39irN1VQAYsxGPBH1VABob2kah/VUDgr306CvdVQDJIMhCqIVZAWCGbfeVTVEA7lo1lhYJVQErCka4C7VZAaia2pG5gV0CHStb3ycFXQBIEVJd39FZAruCYLrtJWEAeZpa2PgdXQKV5nmjg5ldAOYVkQ/WYVUCVF1pCcVxVQNKVsgwH8lZAKvwtOLTWVECG0iEF1z9XQL7ZxtOhvlRAdPrHxtADV0A1lGXw6l9WQA==",
          "dtype": "f8"
         },
         "yaxis": "y13"
        },
        {
         "marker": {
          "color": "#002D72",
          "opacity": 0.7
         },
         "mode": "markers",
         "type": "scatter",
         "x": {
          "bdata": "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",
          "dtype": "f8"
         },
         "xaxis": "x14",
         "y": {
          "bdata": "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",
          "dtype": "f8"
         },
         "yaxis": "y14"
        },
        {
         "marker": {
          "color": "#002D72",
          "opacity": 0.7
         },
         "mode": "markers",
         "type": "scatter",
         "x": {
          "bdata": "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",
          "dtype": "f8"
         },
         "xaxis": "x15",
         "y": {
          "bdata": "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",
          "dtype": "f8"
         },
         "yaxis": "y15"
        },
        {
         "marker": {
          "color": "#002D72",
          "opacity": 0.7
         },
         "mode": "markers",
         "type": "scatter",
         "x": {
          "bdata": "AAAAAAAA+H8AAAAAAAD4fwAAAAAAAPh/AAAAAAAA+H8AAAAAAAD4fwAAAAAAAPh/AAAAAAAA+H8AAAAAAAD4fwAAAAAAAPh/AAAAAAAA+H8AAAAAAAD4fwAAAAAAAPh/AAAAAAAA+H8AAAAAAAD4fwAAAAAAAPh/AAAAAAAA+H8AAAAAAAD4fwAAAAAAAPh/AAAAAAAA+H8AAAAAAAD4fwAAAAAAAPh/AAAAAAAA+H8AAAAAAAD4fwAAAAAAAPh/AAAAAAAA+H8AAAAAAAD4fwAAAAAAAPh/AAAAAAAA+H8AAAAAAAD4fwAAAAAAAPh/AAAAAAAA+H8AAAAAAAD4fwAAAAAAAPh/AAAAAAAA+H8AAAAAAAD4fwAAAAAAAPh/AAAAAAAA+H8AAAAAAAD4fwAAAAAAAPh/AAAAAAAA+H8AAAAAAAD4fwAAAAAAAPh/AAAAAAAA+H8AAAAAAAD4fwAAAAAAAPh/AAAAAAAA+H8AAAAAAAD4fwAAAAAAAPh/AAAAAAAA+H8AAAAAAAD4fwAAAAAAAPh/AAAAAAAA+H8AAAAAAAD4fwAAAAAAAPh/AAAAAAAA+H8AAAAAAAD4fwAAAAAAAPh/AAAAAAAA+H8AAAAAAAD4fwAAAAAAAPh/AAAAAAAA+H8AAAAAAAD4fwAAAAAAAPh/AAAAAAAA+H8AAAAAAAD4fwAAAAAAAPh/AAAAAAAA+H8AAAAAAAD4fwAAAAAAAPh/AAAAAAAA+H8AAAAAAAD4fwAAAAAAAPh/AAAAAAAA+H8AAAAAAAD4fwAAAAAAAPh/AAAAAAAA+H8AAAAAAAD4fwAAAAAAAPh/AAAAAAAA+H8AAAAAAAD4fwAAAAAAAPh/AAAAAAAA+H8AAAAAAAD4fwAAAAAAAPh/AAAAAAAA+H8AAAAAAAD4fwAAAAAAAPh/AAAAAAAA+H8AAAAAAAD4fwAAAAAAAPh/AAAAAAAA+H8AAAAAAAD4fwAAAAAAAPh/AAAAAAAA+H8AAAAAAAD4fwAAAAAAAPh/AAAAAAAA+H8AAAAAAAD4fwAAAAAAAPh/AAAAAAAA+H8AAAAAAAD4fwAAAAAAAPh/AAAAAAAA+H8AAAAAAAD4fwAAAAAAAPh/AAAAAAAA+H8AAAAAAAD4fwAAAAAAAPh/AAAAAAAA+H8AAAAAAAD4fwAAAAAAAPh/AAAAAAAA+H8AAAAAAAD4fwAAAAAAAPh/AAAAAAAA+H8AAAAAAAD4fwAAAAAAAPh/AAAAAAAA+H8AAAAAAAD4fwAAAAAAAPh/AAAAAAAA+H8AAAAAAAD4fwAAAAAAAPh/AAAAAAAA+H8AAAAAAAD4fwAAAAAAAPh/AAAAAAAA+H8AAAAAAAD4fwAAAAAAAPh/AAAAAAAA+H8AAAAAAAD4fwAAAAAAAPh/AAAAAAAA+H8AAAAAAAD4fwAAAAAAAPh/AAAAAAAA+H8AAAAAAAD4fwAAAAAAAPh/AAAAAAAA+H8AAAAAAAD4fwAAAAAAAPh/AAAAAAAA+H8AAAAAAAD4fwAAAAAAAPh/AAAAAAAA+H8AAAAAAAD4fwAAAAAAAPh/AAAAAAAA+H8AAAAAAAD4fwAAAAAAAPh/AAAAAAAA+H8AAAAAAAD4fwAAAAAAAPh/AAAAAAAA+H8AAAAAAAD4fwAAAAAAAPh/AAAAAAAA+H8AAAAAAAD4fwAAAAAAAPh/AAAAAAAA+H8AAAAAAAD4fwAAAAAAAPh/AAAAAAAA+H8AAAAAAAD4fwAAAAAAAPh/AAAAAAAA+H8AAAAAAAD4fwAAAAAAAPh/AAAAAAAA+H8AAAAAAAD4fwAAAAAAAPh/AAAAAAAA+H8AAAAAAAD4fwAAAAAAAPh/AAAAAAAA+H8AAAAAAAD4fwAAAAAAAPh/AAAAAAAA+H8AAAAAAAD4fwAAAAAAAPh/AAAAAAAA+H8AAAAAAAD4fwAAAAAAAPh/AAAAAAAA+H8AAAAAAAD4fwAAAAAAAPh/AAAAAAAA+H8AAAAAAAD4fwAAAAAAAPh/AAAAAAAA+H8AAAAAAAD4fwAAAAAAAPh/AAAAAAAA+H8AAAAAAAD4fwAAAAAAAPh/AAAAAAAA+H8AAAAAAAD4fwAAAAAAAPh/AAAAAAAA+H8AAAAAAAD4fwAAAAAAAPh/AAAAAAAA+H8AAAAAAAD4fwAAAAAAAPh/AAAAAAAA+H8AAAAAAAD4fwAAAAAAAPh/AAAAAAAA+H8AAAAAAAD4fwAAAAAAAPh/AAAAAAAA+H8AAAAAAAD4fwAAAAAAAPh/AAAAAAAA+H8AAAAAAAD4fwAAAAAAAPh/AAAAAAAA+H8AAAAAAAD4fwAAAAAAAPh/AAAAAAAA+H8AAAAAAAD4fwAAAAAAAPh/AAAAAAAA+H8AAAAAAAD4fwAAAAAAAPh/AAAAAAAA+H8AAAAAAAD4fwAAAAAAAPh/AAAAAAAA+H8AAAAAAAD4fwAAAAAAAPh/AAAAAAAA+H8AAAAAAAD4fwAAAAAAAPh/AAAAAAAA+H8AAAAAAAD4fwAAAAAAAPh/AAAAAAAA+H8AAAAAAAD4fwAAAAAAAPh/AAAAAAAA+H8AAAAAAAD4fwAAAAAAAPh/AAAAAAAA+H8AAAAAAAD4fwAAAAAAAPh/AAAAAAAA+H8AAAAAAAD4fwAAAAAAAPh/AAAAAAAA+H8AAAAAAAD4fwAAAAAAAPh/AAAAAAAA+H8AAAAAAAD4fwAAAAAAAPh/AAAAAAAA+H8AAAAAAAD4fwAAAAAAAPh/AAAAAAAA+H8AAAAAAAD4fwAAAAAAAPh/AAAAAAAA+H8AAAAAAAD4fwAAAAAAAPh/AAAAAAAA+H8AAAAAAAD4fwAAAAAAAPh/AAAAAAAA+H8AAAAAAAD4fwAAAAAAAPh/AAAAAAAA+H8AAAAAAAD4fwAAAAAAAPh/AAAAAAAA+H8AAAAAAAD4fwAAAAAAAPh/AAAAAAAA+H8AAAAAAAD4fwAAAAAAAPh/AAAAAAAA+H8AAAAAAAD4fwAAAAAAAPh/AAAAAAAA+H8AAAAAAAD4fwAAAAAAAPh/AAAAAAAA+H8AAAAAAAD4fwAAAAAAAPh/AAAAAAAA+H8AAAAAAAD4fwAAAAAAAPh/AAAAAAAA+H8AAAAAAAD4fwAAAAAAAPh/AAAAAAAA+H8AAAAAAAD4fwAAAAAAAPh/AAAAAAAA+H8AAAAAAAD4fwAAAAAAAPh/exSuR+F6hD97FK5H4Xp0P/yp8dJNYlA//Knx0k1iYD/8qfHSTWJQP/yp8dJNYlA/eekmMQisfD97FK5H4Xp0P3npJjEIrHw//Knx0k1iYD/8qfHSTWJQP/yp8dJNYlA/exSuR+F6dD/6fmq8dJN4P/yp8dJNYoA/+n5qvHSTeD/6fmq8dJN4P3npJjEIrHw/eekmMQisfD956SYxCKx8PzzfT42XboI/PN9PjZdugj8830+Nl26CPzzfT42XboI/PN9PjZdugj/8qfHSTWJwP/yp8dJNYnA//Knx0k1igD/8qfHSTWKAP/yp8dJNYoA//Knx0k1igD/8qfHSTWKAP3sUrkfheoQ/exSuR+F6hD956SYxCKx8P3sUrkfheoQ/exSuR+F6hD/6fmq8dJN4P/p+arx0k3g/+n5qvHSTeD/6fmq8dJN4P/p+arx0k3g//Knx0k1icD/8qfHSTWJwP/yp8dJNYnA//Knx0k1icD/8qfHSTWJwP3sUrkfhenQ/exSuR+F6dD97FK5H4Xp0P3sUrkfhenQ/exSuR+F6dD956SYxCKx8P3sUrkfhenQ/+n5qvHSTeD/8qfHSTWKAP/yp8dJNYnA/+n5qvHSTeD/8qfHSTWKAP/yp8dJNYoA/eekmMQisfD8830+Nl26CP3sUrkfhenQ/exSuR+F6hD97FK5H4XqEP3sUrkfheoQ/+n5qvHSTaD97FK5H4XqEP/p+arx0k2g/+n5qvHSTaD8830+Nl26CPzzfT42XboI/PN9PjZdugj8830+Nl26CPzzfT42XboI/PN9PjZdugj8830+Nl26CP/yp8dJNYoA//Knx0k1igD/8qfHSTWKAP/yp8dJNYoA//Knx0k1igD/8qfHSTWKAP3sUrkfheoQ/exSuR+F6hD97FK5H4XqEP3sUrkfheoQ/eekmMQisfD956SYxCKx8P3npJjEIrHw/eekmMQisfD956SYxCKx8P3npJjEIrHw/eekmMQisfD/6fmq8dJN4P3sUrkfheoQ/exSuR+F6hD97FK5H4XqEP3sUrkfheoQ/exSuR+F6hD8AAAAAAAD4fwAAAAAAAPh/AAAAAAAA+H8AAAAAAAD4fwAAAAAAAPh/AAAAAAAA+H8AAAAAAAD4fwAAAAAAAPh/AAAAAAAA+H8AAAAAAAD4fwAAAAAAAPh/AAAAAAAA+H8AAAAAAAD4fwAAAAAAAPh/AAAAAAAA+H8AAAAAAAD4fwAAAAAAAPh/AAAAAAAA+H8AAAAAAAD4fwAAAAAAAPh/AAAAAAAA+H8AAAAAAAD4fwAAAAAAAPh/AAAAAAAA+H8AAAAAAAD4fwAAAAAAAPh/AAAAAAAA+H8AAAAAAAD4fwAAAAAAAPh/AAAAAAAA+H8AAAAAAAD4fwAAAAAAAPh/AAAAAAAA+H8AAAAAAAD4fwAAAAAAAPh/AAAAAAAA+H8AAAAAAAD4fwAAAAAAAPh/AAAAAAAA+H8AAAAAAAD4fwAAAAAAAPh/AAAAAAAA+H8AAAAAAAD4fwAAAAAAAPh/AAAAAAAA+H8AAAAAAAD4fwAAAAAAAPh/AAAAAAAA+H8AAAAAAAD4fwAAAAAAAPh/AAAAAAAA+H8AAAAAAAD4fwAAAAAAAPh/AAAAAAAA+H8AAAAAAAD4fwAAAAAAAPh/AAAAAAAA+H8AAAAAAAD4fwAAAAAAAPh/AAAAAAAA+H8AAAAAAAD4fwAAAAAAAPh/AAAAAAAA+H8AAAAAAAD4fwAAAAAAAPh/AAAAAAAA+H8AAAAAAAD4fwAAAAAAAPh/AAAAAAAA+H8AAAAAAAD4fwAAAAAAAPh/AAAAAAAA+H8AAAAAAAD4fwAAAAAAAPh/AAAAAAAA+H8AAAAAAAD4fwAAAAAAAPh/AAAAAAAA+H8AAAAAAAD4fwAAAAAAAPh/AAAAAAAA+H8AAAAAAAD4fwAAAAAAAPh/AAAAAAAA+H8AAAAAAAD4fwAAAAAAAPh/AAAAAAAA+H8AAAAAAAD4fwAAAAAAAPh/AAAAAAAA+H8AAAAAAAD4fwAAAAAAAPh/AAAAAAAA+H8AAAAAAAD4fwAAAAAAAPh/AAAAAAAA+H8AAAAAAAD4fwAAAAAAAPh/AAAAAAAA+H8AAAAAAAD4fw==",
          "dtype": "f8"
         },
         "xaxis": "x16",
         "y": {
          "bdata": "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",
          "dtype": "f8"
         },
         "yaxis": "y16"
        }
       ],
       "layout": {
        "annotations": [
         {
          "font": {
           "size": 16
          },
          "showarrow": false,
          "text": "rdc_batch_size",
          "x": 0.14444444444444446,
          "xanchor": "center",
          "xref": "paper",
          "y": 1,
          "yanchor": "bottom",
          "yref": "paper"
         },
         {
          "font": {
           "size": 16
          },
          "showarrow": false,
          "text": "rdc_epsilon_decay",
          "x": 0.5,
          "xanchor": "center",
          "xref": "paper",
          "y": 1,
          "yanchor": "bottom",
          "yref": "paper"
         },
         {
          "font": {
           "size": 16
          },
          "showarrow": false,
          "text": "rdc_epsilon_end",
          "x": 0.8555555555555556,
          "xanchor": "center",
          "xref": "paper",
          "y": 1,
          "yanchor": "bottom",
          "yref": "paper"
         },
         {
          "font": {
           "size": 16
          },
          "showarrow": false,
          "text": "rdc_gamma",
          "x": 0.14444444444444446,
          "xanchor": "center",
          "xref": "paper",
          "y": 0.8291666666666667,
          "yanchor": "bottom",
          "yref": "paper"
         },
         {
          "font": {
           "size": 16
          },
          "showarrow": false,
          "text": "rdc_hidden_dim",
          "x": 0.5,
          "xanchor": "center",
          "xref": "paper",
          "y": 0.8291666666666667,
          "yanchor": "bottom",
          "yref": "paper"
         },
         {
          "font": {
           "size": 16
          },
          "showarrow": false,
          "text": "rdc_lr",
          "x": 0.8555555555555556,
          "xanchor": "center",
          "xref": "paper",
          "y": 0.8291666666666667,
          "yanchor": "bottom",
          "yref": "paper"
         },
         {
          "font": {
           "size": 16
          },
          "showarrow": false,
          "text": "rdc_lr_gamma",
          "x": 0.14444444444444446,
          "xanchor": "center",
          "xref": "paper",
          "y": 0.6583333333333333,
          "yanchor": "bottom",
          "yref": "paper"
         },
         {
          "font": {
           "size": 16
          },
          "showarrow": false,
          "text": "rdc_lr_step_size",
          "x": 0.5,
          "xanchor": "center",
          "xref": "paper",
          "y": 0.6583333333333333,
          "yanchor": "bottom",
          "yref": "paper"
         },
         {
          "font": {
           "size": 16
          },
          "showarrow": false,
          "text": "rdc_replay_buffer_alpha",
          "x": 0.8555555555555556,
          "xanchor": "center",
          "xref": "paper",
          "y": 0.6583333333333333,
          "yanchor": "bottom",
          "yref": "paper"
         },
         {
          "font": {
           "size": 16
          },
          "showarrow": false,
          "text": "rdc_replay_buffer_beta_frames",
          "x": 0.14444444444444446,
          "xanchor": "center",
          "xref": "paper",
          "y": 0.48750000000000004,
          "yanchor": "bottom",
          "yref": "paper"
         },
         {
          "font": {
           "size": 16
          },
          "showarrow": false,
          "text": "rdc_replay_buffer_beta_start",
          "x": 0.5,
          "xanchor": "center",
          "xref": "paper",
          "y": 0.48750000000000004,
          "yanchor": "bottom",
          "yref": "paper"
         },
         {
          "font": {
           "size": 16
          },
          "showarrow": false,
          "text": "rdc_replay_buffer_capacity",
          "x": 0.8555555555555556,
          "xanchor": "center",
          "xref": "paper",
          "y": 0.48750000000000004,
          "yanchor": "bottom",
          "yref": "paper"
         },
         {
          "font": {
           "size": 16
          },
          "showarrow": false,
          "text": "rdc_reward_weight_demand",
          "x": 0.14444444444444446,
          "xanchor": "center",
          "xref": "paper",
          "y": 0.31666666666666665,
          "yanchor": "bottom",
          "yref": "paper"
         },
         {
          "font": {
           "size": 16
          },
          "showarrow": false,
          "text": "rdc_reward_weight_gini",
          "x": 0.5,
          "xanchor": "center",
          "xref": "paper",
          "y": 0.31666666666666665,
          "yanchor": "bottom",
          "yref": "paper"
         },
         {
          "font": {
           "size": 16
          },
          "showarrow": false,
          "text": "rdc_reward_weight_rebalancing",
          "x": 0.8555555555555556,
          "xanchor": "center",
          "xref": "paper",
          "y": 0.31666666666666665,
          "yanchor": "bottom",
          "yref": "paper"
         },
         {
          "font": {
           "size": 16
          },
          "showarrow": false,
          "text": "rdc_tau",
          "x": 0.14444444444444446,
          "xanchor": "center",
          "xref": "paper",
          "y": 0.14583333333333334,
          "yanchor": "bottom",
          "yref": "paper"
         }
        ],
        "height": 2400,
        "margin": {
         "b": 30,
         "l": 60,
         "r": 30,
         "t": 30
        },
        "showlegend": false,
        "template": {
         "layout": {
          "colorway": [
           "#002D72",
           "#E2001A",
           "#5A5A5A",
           "#2C74B3",
           "#A1C9F4"
          ],
          "font": {
           "color": "#002D72",
           "family": "Arial, sans-serif",
           "size": 14
          },
          "paper_bgcolor": "white",
          "plot_bgcolor": "white",
          "title": {
           "font": {
            "color": "#002D72",
            "size": 20
           }
          },
          "xaxis": {
           "gridcolor": "#D1D1D1",
           "linecolor": "#002D72",
           "zerolinecolor": "#D1D1D1"
          },
          "yaxis": {
           "gridcolor": "#D1D1D1",
           "linecolor": "#002D72",
           "zerolinecolor": "#D1D1D1"
          }
         }
        },
        "width": 1350,
        "xaxis": {
         "anchor": "y",
         "domain": [
          0,
          0.2888888888888889
         ]
        },
        "xaxis10": {
         "anchor": "y10",
         "domain": [
          0,
          0.2888888888888889
         ]
        },
        "xaxis11": {
         "anchor": "y11",
         "domain": [
          0.35555555555555557,
          0.6444444444444445
         ]
        },
        "xaxis12": {
         "anchor": "y12",
         "domain": [
          0.7111111111111111,
          1
         ]
        },
        "xaxis13": {
         "anchor": "y13",
         "domain": [
          0,
          0.2888888888888889
         ]
        },
        "xaxis14": {
         "anchor": "y14",
         "domain": [
          0.35555555555555557,
          0.6444444444444445
         ]
        },
        "xaxis15": {
         "anchor": "y15",
         "domain": [
          0.7111111111111111,
          1
         ]
        },
        "xaxis16": {
         "anchor": "y16",
         "domain": [
          0,
          0.2888888888888889
         ]
        },
        "xaxis17": {
         "anchor": "y17",
         "domain": [
          0.35555555555555557,
          0.6444444444444445
         ]
        },
        "xaxis18": {
         "anchor": "y18",
         "domain": [
          0.7111111111111111,
          1
         ]
        },
        "xaxis2": {
         "anchor": "y2",
         "domain": [
          0.35555555555555557,
          0.6444444444444445
         ]
        },
        "xaxis3": {
         "anchor": "y3",
         "domain": [
          0.7111111111111111,
          1
         ]
        },
        "xaxis4": {
         "anchor": "y4",
         "domain": [
          0,
          0.2888888888888889
         ]
        },
        "xaxis5": {
         "anchor": "y5",
         "domain": [
          0.35555555555555557,
          0.6444444444444445
         ]
        },
        "xaxis6": {
         "anchor": "y6",
         "domain": [
          0.7111111111111111,
          1
         ],
         "nticks": 3,
         "tickformat": ".0e",
         "type": "log"
        },
        "xaxis7": {
         "anchor": "y7",
         "domain": [
          0,
          0.2888888888888889
         ],
         "nticks": 3,
         "tickformat": ".0e",
         "type": "log"
        },
        "xaxis8": {
         "anchor": "y8",
         "domain": [
          0.35555555555555557,
          0.6444444444444445
         ],
         "nticks": 3,
         "tickformat": ".0e",
         "type": "log"
        },
        "xaxis9": {
         "anchor": "y9",
         "domain": [
          0.7111111111111111,
          1
         ]
        },
        "yaxis": {
         "anchor": "x",
         "domain": [
          0.8541666666666667,
          1
         ],
         "title": {
          "text": "Objective Value"
         }
        },
        "yaxis10": {
         "anchor": "x10",
         "domain": [
          0.3416666666666667,
          0.48750000000000004
         ],
         "title": {
          "text": "Objective Value"
         }
        },
        "yaxis11": {
         "anchor": "x11",
         "domain": [
          0.3416666666666667,
          0.48750000000000004
         ]
        },
        "yaxis12": {
         "anchor": "x12",
         "domain": [
          0.3416666666666667,
          0.48750000000000004
         ]
        },
        "yaxis13": {
         "anchor": "x13",
         "domain": [
          0.17083333333333334,
          0.31666666666666665
         ],
         "title": {
          "text": "Objective Value"
         }
        },
        "yaxis14": {
         "anchor": "x14",
         "domain": [
          0.17083333333333334,
          0.31666666666666665
         ]
        },
        "yaxis15": {
         "anchor": "x15",
         "domain": [
          0.17083333333333334,
          0.31666666666666665
         ]
        },
        "yaxis16": {
         "anchor": "x16",
         "domain": [
          0,
          0.14583333333333334
         ],
         "title": {
          "text": "Objective Value"
         }
        },
        "yaxis17": {
         "anchor": "x17",
         "domain": [
          0,
          0.14583333333333334
         ]
        },
        "yaxis18": {
         "anchor": "x18",
         "domain": [
          0,
          0.14583333333333334
         ]
        },
        "yaxis2": {
         "anchor": "x2",
         "domain": [
          0.8541666666666667,
          1
         ]
        },
        "yaxis3": {
         "anchor": "x3",
         "domain": [
          0.8541666666666667,
          1
         ]
        },
        "yaxis4": {
         "anchor": "x4",
         "domain": [
          0.6833333333333333,
          0.8291666666666667
         ],
         "title": {
          "text": "Objective Value"
         }
        },
        "yaxis5": {
         "anchor": "x5",
         "domain": [
          0.6833333333333333,
          0.8291666666666667
         ]
        },
        "yaxis6": {
         "anchor": "x6",
         "domain": [
          0.6833333333333333,
          0.8291666666666667
         ]
        },
        "yaxis7": {
         "anchor": "x7",
         "domain": [
          0.5125,
          0.6583333333333333
         ],
         "title": {
          "text": "Objective Value"
         }
        },
        "yaxis8": {
         "anchor": "x8",
         "domain": [
          0.5125,
          0.6583333333333333
         ]
        },
        "yaxis9": {
         "anchor": "x9",
         "domain": [
          0.5125,
          0.6583333333333333
         ]
        }
       }
      }
     },
     "metadata": {},
     "output_type": "display_data"
    }
   ],
   "source": [
    "rdc_fig_slice_full = create_grid_slice_plot(\n",
    "    study=rdc_aggregated_study,\n",
    "    top_params=rdc_full_params,\n",
    "    vertical_spacing=0.025\n",
    ")\n",
    "rdc_fig_slice_full.show()"
   ]
  },
  {
   "cell_type": "code",
   "execution_count": 73,
   "metadata": {},
   "outputs": [
    {
     "data": {
      "application/vnd.plotly.v1+json": {
       "config": {
        "plotlyServerURL": "https://plot.ly"
       },
       "data": [
        {
         "marker": {
          "color": "#002D72",
          "opacity": 0.7
         },
         "mode": "markers",
         "type": "scatter",
         "x": {
          "bdata": "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",
          "dtype": "f8"
         },
         "xaxis": "x",
         "y": {
          "bdata": "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",
          "dtype": "f8"
         },
         "yaxis": "y"
        },
        {
         "marker": {
          "color": "#002D72",
          "opacity": 0.7
         },
         "mode": "markers",
         "type": "scatter",
         "x": {
          "bdata": "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",
          "dtype": "f8"
         },
         "xaxis": "x2",
         "y": {
          "bdata": "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",
          "dtype": "f8"
         },
         "yaxis": "y2"
        },
        {
         "marker": {
          "color": "#002D72",
          "opacity": 0.7
         },
         "mode": "markers",
         "type": "scatter",
         "x": {
          "bdata": "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",
          "dtype": "f8"
         },
         "xaxis": "x3",
         "y": {
          "bdata": "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",
          "dtype": "f8"
         },
         "yaxis": "y3"
        },
        {
         "marker": {
          "color": "#002D72",
          "opacity": 0.7
         },
         "mode": "markers",
         "type": "scatter",
         "x": {
          "bdata": "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",
          "dtype": "f8"
         },
         "xaxis": "x4",
         "y": {
          "bdata": "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",
          "dtype": "f8"
         },
         "yaxis": "y4"
        }
       ],
       "layout": {
        "annotations": [
         {
          "font": {
           "size": 16
          },
          "showarrow": false,
          "text": "rdc_lr",
          "x": 0.225,
          "xanchor": "center",
          "xref": "paper",
          "y": 1,
          "yanchor": "bottom",
          "yref": "paper"
         },
         {
          "font": {
           "size": 16
          },
          "showarrow": false,
          "text": "rdc_gamma",
          "x": 0.775,
          "xanchor": "center",
          "xref": "paper",
          "y": 1,
          "yanchor": "bottom",
          "yref": "paper"
         },
         {
          "font": {
           "size": 16
          },
          "showarrow": false,
          "text": "rdc_tau",
          "x": 0.225,
          "xanchor": "center",
          "xref": "paper",
          "y": 0.45,
          "yanchor": "bottom",
          "yref": "paper"
         },
         {
          "font": {
           "size": 16
          },
          "showarrow": false,
          "text": "rdc_epsilon_decay",
          "x": 0.775,
          "xanchor": "center",
          "xref": "paper",
          "y": 0.45,
          "yanchor": "bottom",
          "yref": "paper"
         }
        ],
        "height": 800,
        "margin": {
         "b": 30,
         "l": 60,
         "r": 30,
         "t": 30
        },
        "showlegend": false,
        "template": {
         "layout": {
          "colorway": [
           "#002D72",
           "#E2001A",
           "#5A5A5A",
           "#2C74B3",
           "#A1C9F4"
          ],
          "font": {
           "color": "#002D72",
           "family": "Arial, sans-serif",
           "size": 14
          },
          "paper_bgcolor": "white",
          "plot_bgcolor": "white",
          "title": {
           "font": {
            "color": "#002D72",
            "size": 20
           }
          },
          "xaxis": {
           "gridcolor": "#D1D1D1",
           "linecolor": "#002D72",
           "zerolinecolor": "#D1D1D1"
          },
          "yaxis": {
           "gridcolor": "#D1D1D1",
           "linecolor": "#002D72",
           "zerolinecolor": "#D1D1D1"
          }
         }
        },
        "width": 900,
        "xaxis": {
         "anchor": "y",
         "domain": [
          0,
          0.45
         ],
         "nticks": 3,
         "tickformat": ".0e",
         "type": "log"
        },
        "xaxis2": {
         "anchor": "y2",
         "domain": [
          0.55,
          1
         ]
        },
        "xaxis3": {
         "anchor": "y3",
         "domain": [
          0,
          0.45
         ]
        },
        "xaxis4": {
         "anchor": "y4",
         "domain": [
          0.55,
          1
         ]
        },
        "yaxis": {
         "anchor": "x",
         "domain": [
          0.55,
          1
         ],
         "title": {
          "text": "Objective Value"
         }
        },
        "yaxis2": {
         "anchor": "x2",
         "domain": [
          0.55,
          1
         ]
        },
        "yaxis3": {
         "anchor": "x3",
         "domain": [
          0,
          0.45
         ],
         "title": {
          "text": "Objective Value"
         }
        },
        "yaxis4": {
         "anchor": "x4",
         "domain": [
          0,
          0.45
         ]
        }
       }
      }
     },
     "metadata": {},
     "output_type": "display_data"
    }
   ],
   "source": [
    "rdc_top_params = ['rdc_lr', 'rdc_gamma', 'rdc_tau', 'rdc_epsilon_decay']\n",
    "\n",
    "rdc_fig_slice_focused = create_grid_slice_plot(\n",
    "    study=rdc_aggregated_study,\n",
    "    top_params=rdc_top_params\n",
    ")\n",
    "rdc_fig_slice_focused.show()"
   ]
  },
  {
   "cell_type": "markdown",
   "metadata": {},
   "source": [
    "## 2. UIC Analysis"
   ]
  },
  {
   "cell_type": "code",
   "execution_count": 74,
   "metadata": {},
   "outputs": [],
   "source": [
    "uic_dfs_dict = load_all_dataframes(prefix=UIC_PREFIX)"
   ]
  },
  {
   "cell_type": "markdown",
   "metadata": {},
   "source": [
    "### Individual Importance Plots (Per File)"
   ]
  },
  {
   "cell_type": "code",
   "execution_count": 75,
   "metadata": {},
   "outputs": [
    {
     "name": "stderr",
     "output_type": "stream",
     "text": [
      "[I 2025-07-11 13:02:16,998] A new study created in memory with name: uic_ho_architecture_20250705-132457\n"
     ]
    },
    {
     "data": {
      "application/vnd.plotly.v1+json": {
       "config": {
        "plotlyServerURL": "https://plot.ly"
       },
       "data": [
        {
         "cliponaxis": false,
         "hovertemplate": [
          "n_layers (CategoricalDistribution): 0.17745565857520315<extra></extra>",
          "activation (CategoricalDistribution): 0.3809904670901282<extra></extra>",
          "hidden_size (CategoricalDistribution): 0.44155387433466853<extra></extra>"
         ],
         "name": "Objective Value",
         "orientation": "h",
         "text": [
          "0.18",
          "0.38",
          "0.44"
         ],
         "textposition": "outside",
         "type": "bar",
         "x": [
          0.17745565857520315,
          0.3809904670901282,
          0.44155387433466853
         ],
         "y": [
          "n_layers",
          "activation",
          "hidden_size"
         ]
        }
       ],
       "layout": {
        "height": 500,
        "template": {
         "layout": {
          "colorway": [
           "#002D72",
           "#E2001A",
           "#5A5A5A",
           "#2C74B3",
           "#A1C9F4"
          ],
          "font": {
           "color": "#002D72",
           "family": "Arial, sans-serif",
           "size": 14
          },
          "paper_bgcolor": "white",
          "plot_bgcolor": "white",
          "title": {
           "font": {
            "color": "#002D72",
            "size": 20
           }
          },
          "xaxis": {
           "gridcolor": "#D1D1D1",
           "linecolor": "#002D72",
           "zerolinecolor": "#D1D1D1"
          },
          "yaxis": {
           "gridcolor": "#D1D1D1",
           "linecolor": "#002D72",
           "zerolinecolor": "#D1D1D1"
          }
         }
        },
        "title": {
         "text": "Importance for: uic_ho_architecture_20250705-132457"
        },
        "width": 800,
        "xaxis": {
         "title": {
          "text": "Hyperparameter Importance"
         }
        },
        "yaxis": {
         "title": {
          "text": "Hyperparameter"
         }
        }
       }
      }
     },
     "metadata": {},
     "output_type": "display_data"
    },
    {
     "name": "stderr",
     "output_type": "stream",
     "text": [
      "[I 2025-07-11 13:02:17,235] A new study created in memory with name: uic_ho_architecture_20250708-080127\n"
     ]
    },
    {
     "data": {
      "application/vnd.plotly.v1+json": {
       "config": {
        "plotlyServerURL": "https://plot.ly"
       },
       "data": [
        {
         "cliponaxis": false,
         "hovertemplate": [
          "n_layers (CategoricalDistribution): 0.1102128399195869<extra></extra>",
          "activation (CategoricalDistribution): 0.17415782728397808<extra></extra>",
          "hidden_size (CategoricalDistribution): 0.7156293327964349<extra></extra>"
         ],
         "name": "Objective Value",
         "orientation": "h",
         "text": [
          "0.11",
          "0.17",
          "0.72"
         ],
         "textposition": "outside",
         "type": "bar",
         "x": [
          0.1102128399195869,
          0.17415782728397808,
          0.7156293327964349
         ],
         "y": [
          "n_layers",
          "activation",
          "hidden_size"
         ]
        }
       ],
       "layout": {
        "height": 500,
        "template": {
         "layout": {
          "colorway": [
           "#002D72",
           "#E2001A",
           "#5A5A5A",
           "#2C74B3",
           "#A1C9F4"
          ],
          "font": {
           "color": "#002D72",
           "family": "Arial, sans-serif",
           "size": 14
          },
          "paper_bgcolor": "white",
          "plot_bgcolor": "white",
          "title": {
           "font": {
            "color": "#002D72",
            "size": 20
           }
          },
          "xaxis": {
           "gridcolor": "#D1D1D1",
           "linecolor": "#002D72",
           "zerolinecolor": "#D1D1D1"
          },
          "yaxis": {
           "gridcolor": "#D1D1D1",
           "linecolor": "#002D72",
           "zerolinecolor": "#D1D1D1"
          }
         }
        },
        "title": {
         "text": "Importance for: uic_ho_architecture_20250708-080127"
        },
        "width": 800,
        "xaxis": {
         "title": {
          "text": "Hyperparameter Importance"
         }
        },
        "yaxis": {
         "title": {
          "text": "Hyperparameter"
         }
        }
       }
      }
     },
     "metadata": {},
     "output_type": "display_data"
    },
    {
     "name": "stderr",
     "output_type": "stream",
     "text": [
      "[I 2025-07-11 13:02:17,469] A new study created in memory with name: uic_ho_final_joint_20250709-204435\n"
     ]
    },
    {
     "data": {
      "application/vnd.plotly.v1+json": {
       "config": {
        "plotlyServerURL": "https://plot.ly"
       },
       "data": [
        {
         "cliponaxis": false,
         "hovertemplate": [
          "n_steps (CategoricalDistribution): 0.0006242491970598539<extra></extra>",
          "batch_size (CategoricalDistribution): 0.0013420245042290767<extra></extra>",
          "activation (CategoricalDistribution): 0.0021602442415172805<extra></extra>",
          "use_target_kl (FloatDistribution): 0.0022861892722484674<extra></extra>",
          "n_layers (CategoricalDistribution): 0.002936068959483566<extra></extra>",
          "hidden_size (CategoricalDistribution): 0.005529296509652201<extra></extra>",
          "learning_rate (FloatDistribution): 0.007168598776179207<extra></extra>",
          "gae_lambda (FloatDistribution): 0.009069310740643374<extra></extra>",
          "clip_range (FloatDistribution): 0.010564272886839272<extra></extra>",
          "ent_coef (FloatDistribution): 0.01305471149827157<extra></extra>",
          "vf_coef (FloatDistribution): 0.018920749718373146<extra></extra>",
          "gamma (FloatDistribution): 0.05452587867113371<extra></extra>",
          "reward_weight_gini (FloatDistribution): 0.093000657082228<extra></extra>",
          "reward_weight_demand (FloatDistribution): 0.32269074824287897<extra></extra>",
          "reward_weight_rebalancing (FloatDistribution): 0.45612699969926224<extra></extra>"
         ],
         "name": "Objective Value",
         "orientation": "h",
         "text": [
          "<0.01",
          "<0.01",
          "<0.01",
          "<0.01",
          "<0.01",
          "<0.01",
          "<0.01",
          "<0.01",
          "0.01",
          "0.01",
          "0.02",
          "0.05",
          "0.09",
          "0.32",
          "0.46"
         ],
         "textposition": "outside",
         "type": "bar",
         "x": [
          0.0006242491970598539,
          0.0013420245042290767,
          0.0021602442415172805,
          0.0022861892722484674,
          0.002936068959483566,
          0.005529296509652201,
          0.007168598776179207,
          0.009069310740643374,
          0.010564272886839272,
          0.01305471149827157,
          0.018920749718373146,
          0.05452587867113371,
          0.093000657082228,
          0.32269074824287897,
          0.45612699969926224
         ],
         "y": [
          "n_steps",
          "batch_size",
          "activation",
          "use_target_kl",
          "n_layers",
          "hidden_size",
          "learning_rate",
          "gae_lambda",
          "clip_range",
          "ent_coef",
          "vf_coef",
          "gamma",
          "reward_weight_gini",
          "reward_weight_demand",
          "reward_weight_rebalancing"
         ]
        }
       ],
       "layout": {
        "height": 500,
        "template": {
         "layout": {
          "colorway": [
           "#002D72",
           "#E2001A",
           "#5A5A5A",
           "#2C74B3",
           "#A1C9F4"
          ],
          "font": {
           "color": "#002D72",
           "family": "Arial, sans-serif",
           "size": 14
          },
          "paper_bgcolor": "white",
          "plot_bgcolor": "white",
          "title": {
           "font": {
            "color": "#002D72",
            "size": 20
           }
          },
          "xaxis": {
           "gridcolor": "#D1D1D1",
           "linecolor": "#002D72",
           "zerolinecolor": "#D1D1D1"
          },
          "yaxis": {
           "gridcolor": "#D1D1D1",
           "linecolor": "#002D72",
           "zerolinecolor": "#D1D1D1"
          }
         }
        },
        "title": {
         "text": "Importance for: uic_ho_final_joint_20250709-204435"
        },
        "width": 800,
        "xaxis": {
         "title": {
          "text": "Hyperparameter Importance"
         }
        },
        "yaxis": {
         "title": {
          "text": "Hyperparameter"
         }
        }
       }
      }
     },
     "metadata": {},
     "output_type": "display_data"
    },
    {
     "name": "stderr",
     "output_type": "stream",
     "text": [
      "[I 2025-07-11 13:02:18,863] A new study created in memory with name: uic_ho_ppo-core_20250704-105628\n"
     ]
    },
    {
     "data": {
      "application/vnd.plotly.v1+json": {
       "config": {
        "plotlyServerURL": "https://plot.ly"
       },
       "data": [
        {
         "cliponaxis": false,
         "hovertemplate": [
          "ent_coef (FloatDistribution): 0.028305638143712196<extra></extra>",
          "clip_range (FloatDistribution): 0.045379622216582184<extra></extra>",
          "batch_size (CategoricalDistribution): 0.0461687323514816<extra></extra>",
          "n_steps (CategoricalDistribution): 0.06350273787521243<extra></extra>",
          "vf_coef (FloatDistribution): 0.15377694165488015<extra></extra>",
          "learning_rate (FloatDistribution): 0.6628663277581314<extra></extra>"
         ],
         "name": "Objective Value",
         "orientation": "h",
         "text": [
          "0.03",
          "0.05",
          "0.05",
          "0.06",
          "0.15",
          "0.66"
         ],
         "textposition": "outside",
         "type": "bar",
         "x": [
          0.028305638143712196,
          0.045379622216582184,
          0.0461687323514816,
          0.06350273787521243,
          0.15377694165488015,
          0.6628663277581314
         ],
         "y": [
          "ent_coef",
          "clip_range",
          "batch_size",
          "n_steps",
          "vf_coef",
          "learning_rate"
         ]
        }
       ],
       "layout": {
        "height": 500,
        "template": {
         "layout": {
          "colorway": [
           "#002D72",
           "#E2001A",
           "#5A5A5A",
           "#2C74B3",
           "#A1C9F4"
          ],
          "font": {
           "color": "#002D72",
           "family": "Arial, sans-serif",
           "size": 14
          },
          "paper_bgcolor": "white",
          "plot_bgcolor": "white",
          "title": {
           "font": {
            "color": "#002D72",
            "size": 20
           }
          },
          "xaxis": {
           "gridcolor": "#D1D1D1",
           "linecolor": "#002D72",
           "zerolinecolor": "#D1D1D1"
          },
          "yaxis": {
           "gridcolor": "#D1D1D1",
           "linecolor": "#002D72",
           "zerolinecolor": "#D1D1D1"
          }
         }
        },
        "title": {
         "text": "Importance for: uic_ho_ppo-core_20250704-105628"
        },
        "width": 800,
        "xaxis": {
         "title": {
          "text": "Hyperparameter Importance"
         }
        },
        "yaxis": {
         "title": {
          "text": "Hyperparameter"
         }
        }
       }
      }
     },
     "metadata": {},
     "output_type": "display_data"
    },
    {
     "name": "stderr",
     "output_type": "stream",
     "text": [
      "[I 2025-07-11 13:02:19,226] A new study created in memory with name: uic_ho_ppo-core_20250707-212406\n"
     ]
    },
    {
     "data": {
      "application/vnd.plotly.v1+json": {
       "config": {
        "plotlyServerURL": "https://plot.ly"
       },
       "data": [
        {
         "cliponaxis": false,
         "hovertemplate": [
          "ent_coef (FloatDistribution): 0.034150205914080425<extra></extra>",
          "clip_range (FloatDistribution): 0.03822571137338805<extra></extra>",
          "n_steps (CategoricalDistribution): 0.04816343725712877<extra></extra>",
          "batch_size (CategoricalDistribution): 0.12289545555297496<extra></extra>",
          "vf_coef (FloatDistribution): 0.3756586399490348<extra></extra>",
          "learning_rate (FloatDistribution): 0.38090654995339296<extra></extra>"
         ],
         "name": "Objective Value",
         "orientation": "h",
         "text": [
          "0.03",
          "0.04",
          "0.05",
          "0.12",
          "0.38",
          "0.38"
         ],
         "textposition": "outside",
         "type": "bar",
         "x": [
          0.034150205914080425,
          0.03822571137338805,
          0.04816343725712877,
          0.12289545555297496,
          0.3756586399490348,
          0.38090654995339296
         ],
         "y": [
          "ent_coef",
          "clip_range",
          "n_steps",
          "batch_size",
          "vf_coef",
          "learning_rate"
         ]
        }
       ],
       "layout": {
        "height": 500,
        "template": {
         "layout": {
          "colorway": [
           "#002D72",
           "#E2001A",
           "#5A5A5A",
           "#2C74B3",
           "#A1C9F4"
          ],
          "font": {
           "color": "#002D72",
           "family": "Arial, sans-serif",
           "size": 14
          },
          "paper_bgcolor": "white",
          "plot_bgcolor": "white",
          "title": {
           "font": {
            "color": "#002D72",
            "size": 20
           }
          },
          "xaxis": {
           "gridcolor": "#D1D1D1",
           "linecolor": "#002D72",
           "zerolinecolor": "#D1D1D1"
          },
          "yaxis": {
           "gridcolor": "#D1D1D1",
           "linecolor": "#002D72",
           "zerolinecolor": "#D1D1D1"
          }
         }
        },
        "title": {
         "text": "Importance for: uic_ho_ppo-core_20250707-212406"
        },
        "width": 800,
        "xaxis": {
         "title": {
          "text": "Hyperparameter Importance"
         }
        },
        "yaxis": {
         "title": {
          "text": "Hyperparameter"
         }
        }
       }
      }
     },
     "metadata": {},
     "output_type": "display_data"
    },
    {
     "name": "stderr",
     "output_type": "stream",
     "text": [
      "[I 2025-07-11 13:02:19,576] A new study created in memory with name: uic_ho_rewardweights_20250707-074136\n"
     ]
    },
    {
     "data": {
      "application/vnd.plotly.v1+json": {
       "config": {
        "plotlyServerURL": "https://plot.ly"
       },
       "data": [
        {
         "cliponaxis": false,
         "hovertemplate": [
          "reward_weight_gini (FloatDistribution): 0.03354011535766909<extra></extra>",
          "reward_weight_rebalancing (FloatDistribution): 0.416687077206508<extra></extra>",
          "reward_weight_demand (FloatDistribution): 0.5497728074358228<extra></extra>"
         ],
         "name": "Objective Value",
         "orientation": "h",
         "text": [
          "0.03",
          "0.42",
          "0.55"
         ],
         "textposition": "outside",
         "type": "bar",
         "x": [
          0.03354011535766909,
          0.416687077206508,
          0.5497728074358228
         ],
         "y": [
          "reward_weight_gini",
          "reward_weight_rebalancing",
          "reward_weight_demand"
         ]
        }
       ],
       "layout": {
        "height": 500,
        "template": {
         "layout": {
          "colorway": [
           "#002D72",
           "#E2001A",
           "#5A5A5A",
           "#2C74B3",
           "#A1C9F4"
          ],
          "font": {
           "color": "#002D72",
           "family": "Arial, sans-serif",
           "size": 14
          },
          "paper_bgcolor": "white",
          "plot_bgcolor": "white",
          "title": {
           "font": {
            "color": "#002D72",
            "size": 20
           }
          },
          "xaxis": {
           "gridcolor": "#D1D1D1",
           "linecolor": "#002D72",
           "zerolinecolor": "#D1D1D1"
          },
          "yaxis": {
           "gridcolor": "#D1D1D1",
           "linecolor": "#002D72",
           "zerolinecolor": "#D1D1D1"
          }
         }
        },
        "title": {
         "text": "Importance for: uic_ho_rewardweights_20250707-074136"
        },
        "width": 800,
        "xaxis": {
         "title": {
          "text": "Hyperparameter Importance"
         }
        },
        "yaxis": {
         "title": {
          "text": "Hyperparameter"
         }
        }
       }
      }
     },
     "metadata": {},
     "output_type": "display_data"
    },
    {
     "name": "stderr",
     "output_type": "stream",
     "text": [
      "[I 2025-07-11 13:02:20,022] A new study created in memory with name: uic_ho_rewardweights_20250709-071648\n"
     ]
    },
    {
     "data": {
      "application/vnd.plotly.v1+json": {
       "config": {
        "plotlyServerURL": "https://plot.ly"
       },
       "data": [
        {
         "cliponaxis": false,
         "hovertemplate": [
          "reward_weight_gini (FloatDistribution): 0.12510595142512065<extra></extra>",
          "reward_weight_demand (FloatDistribution): 0.2730584016375884<extra></extra>",
          "reward_weight_rebalancing (FloatDistribution): 0.6018356469372911<extra></extra>"
         ],
         "name": "Objective Value",
         "orientation": "h",
         "text": [
          "0.13",
          "0.27",
          "0.60"
         ],
         "textposition": "outside",
         "type": "bar",
         "x": [
          0.12510595142512065,
          0.2730584016375884,
          0.6018356469372911
         ],
         "y": [
          "reward_weight_gini",
          "reward_weight_demand",
          "reward_weight_rebalancing"
         ]
        }
       ],
       "layout": {
        "height": 500,
        "template": {
         "layout": {
          "colorway": [
           "#002D72",
           "#E2001A",
           "#5A5A5A",
           "#2C74B3",
           "#A1C9F4"
          ],
          "font": {
           "color": "#002D72",
           "family": "Arial, sans-serif",
           "size": 14
          },
          "paper_bgcolor": "white",
          "plot_bgcolor": "white",
          "title": {
           "font": {
            "color": "#002D72",
            "size": 20
           }
          },
          "xaxis": {
           "gridcolor": "#D1D1D1",
           "linecolor": "#002D72",
           "zerolinecolor": "#D1D1D1"
          },
          "yaxis": {
           "gridcolor": "#D1D1D1",
           "linecolor": "#002D72",
           "zerolinecolor": "#D1D1D1"
          }
         }
        },
        "title": {
         "text": "Importance for: uic_ho_rewardweights_20250709-071648"
        },
        "width": 800,
        "xaxis": {
         "title": {
          "text": "Hyperparameter Importance"
         }
        },
        "yaxis": {
         "title": {
          "text": "Hyperparameter"
         }
        }
       }
      }
     },
     "metadata": {},
     "output_type": "display_data"
    },
    {
     "name": "stderr",
     "output_type": "stream",
     "text": [
      "[I 2025-07-11 13:02:20,296] A new study created in memory with name: uic_ho_stability_20250706-120526\n"
     ]
    },
    {
     "data": {
      "application/vnd.plotly.v1+json": {
       "config": {
        "plotlyServerURL": "https://plot.ly"
       },
       "data": [
        {
         "cliponaxis": false,
         "hovertemplate": [
          "gae_lambda (FloatDistribution): 0.26230080492600094<extra></extra>",
          "gamma (FloatDistribution): 0.7376991950739992<extra></extra>"
         ],
         "name": "Objective Value",
         "orientation": "h",
         "text": [
          "0.26",
          "0.74"
         ],
         "textposition": "outside",
         "type": "bar",
         "x": [
          0.26230080492600094,
          0.7376991950739992
         ],
         "y": [
          "gae_lambda",
          "gamma"
         ]
        }
       ],
       "layout": {
        "height": 500,
        "template": {
         "layout": {
          "colorway": [
           "#002D72",
           "#E2001A",
           "#5A5A5A",
           "#2C74B3",
           "#A1C9F4"
          ],
          "font": {
           "color": "#002D72",
           "family": "Arial, sans-serif",
           "size": 14
          },
          "paper_bgcolor": "white",
          "plot_bgcolor": "white",
          "title": {
           "font": {
            "color": "#002D72",
            "size": 20
           }
          },
          "xaxis": {
           "gridcolor": "#D1D1D1",
           "linecolor": "#002D72",
           "zerolinecolor": "#D1D1D1"
          },
          "yaxis": {
           "gridcolor": "#D1D1D1",
           "linecolor": "#002D72",
           "zerolinecolor": "#D1D1D1"
          }
         }
        },
        "title": {
         "text": "Importance for: uic_ho_stability_20250706-120526"
        },
        "width": 800,
        "xaxis": {
         "title": {
          "text": "Hyperparameter Importance"
         }
        },
        "yaxis": {
         "title": {
          "text": "Hyperparameter"
         }
        }
       }
      }
     },
     "metadata": {},
     "output_type": "display_data"
    },
    {
     "name": "stderr",
     "output_type": "stream",
     "text": [
      "[I 2025-07-11 13:02:20,548] A new study created in memory with name: uic_ho_stability_20250708-200504\n"
     ]
    },
    {
     "data": {
      "application/vnd.plotly.v1+json": {
       "config": {
        "plotlyServerURL": "https://plot.ly"
       },
       "data": [
        {
         "cliponaxis": false,
         "hovertemplate": [
          "use_target_kl (FloatDistribution): 0.037414831500225884<extra></extra>",
          "gamma (FloatDistribution): 0.31213469273834626<extra></extra>",
          "gae_lambda (FloatDistribution): 0.650450475761428<extra></extra>"
         ],
         "name": "Objective Value",
         "orientation": "h",
         "text": [
          "0.04",
          "0.31",
          "0.65"
         ],
         "textposition": "outside",
         "type": "bar",
         "x": [
          0.037414831500225884,
          0.31213469273834626,
          0.650450475761428
         ],
         "y": [
          "use_target_kl",
          "gamma",
          "gae_lambda"
         ]
        }
       ],
       "layout": {
        "height": 500,
        "template": {
         "layout": {
          "colorway": [
           "#002D72",
           "#E2001A",
           "#5A5A5A",
           "#2C74B3",
           "#A1C9F4"
          ],
          "font": {
           "color": "#002D72",
           "family": "Arial, sans-serif",
           "size": 14
          },
          "paper_bgcolor": "white",
          "plot_bgcolor": "white",
          "title": {
           "font": {
            "color": "#002D72",
            "size": 20
           }
          },
          "xaxis": {
           "gridcolor": "#D1D1D1",
           "linecolor": "#002D72",
           "zerolinecolor": "#D1D1D1"
          },
          "yaxis": {
           "gridcolor": "#D1D1D1",
           "linecolor": "#002D72",
           "zerolinecolor": "#D1D1D1"
          }
         }
        },
        "title": {
         "text": "Importance for: uic_ho_stability_20250708-200504"
        },
        "width": 800,
        "xaxis": {
         "title": {
          "text": "Hyperparameter Importance"
         }
        },
        "yaxis": {
         "title": {
          "text": "Hyperparameter"
         }
        }
       }
      }
     },
     "metadata": {},
     "output_type": "display_data"
    }
   ],
   "source": [
    "for filename, df in uic_dfs_dict.items():\n",
    "    study_name = filename.replace(STUDY_FILE_SUFFIX, '')\n",
    "    temp_study = create_study_from_df(study_name, df.copy())\n",
    "    \n",
    "    fig = optuna.visualization.plot_param_importances(temp_study)\n",
    "    fig.update_layout(\n",
    "        title=f\"Importance for: {study_name}\",\n",
    "        width=800,\n",
    "        height=500\n",
    "    )\n",
    "    fig.show()"
   ]
  },
  {
   "cell_type": "markdown",
   "metadata": {},
   "source": [
    "### Aggregated Analysis (All UIC Trials)"
   ]
  },
  {
   "cell_type": "code",
   "execution_count": 76,
   "metadata": {},
   "outputs": [
    {
     "name": "stderr",
     "output_type": "stream",
     "text": [
      "[I 2025-07-11 13:02:20,899] A new study created in memory with name: UIC Aggregated\n"
     ]
    }
   ],
   "source": [
    "uic_aggregated_study = create_study_from_df(\"UIC Aggregated\", pd.concat(uic_dfs_dict.values(), ignore_index=True))"
   ]
  },
  {
   "cell_type": "markdown",
   "metadata": {},
   "source": [
    "### Optimization History"
   ]
  },
  {
   "cell_type": "code",
   "execution_count": 77,
   "metadata": {},
   "outputs": [
    {
     "data": {
      "application/vnd.plotly.v1+json": {
       "config": {
        "plotlyServerURL": "https://plot.ly"
       },
       "data": [
        {
         "mode": "markers",
         "name": "Objective Value",
         "type": "scatter",
         "x": [
          0,
          1,
          2,
          3,
          4,
          5,
          6,
          7,
          8,
          9,
          10,
          11,
          12,
          13,
          14,
          15,
          16,
          17,
          18,
          19,
          20,
          21,
          22,
          23,
          24,
          25,
          26,
          27,
          28,
          29,
          30,
          31,
          32,
          33,
          34,
          35,
          36,
          37,
          38,
          39,
          40,
          41,
          42,
          43,
          44,
          45,
          46,
          47,
          48,
          49,
          50,
          51,
          52,
          53,
          54,
          55,
          56,
          57,
          58,
          59,
          60,
          61,
          62,
          63,
          64,
          65,
          66,
          67,
          68,
          69,
          70,
          71,
          72,
          73,
          74,
          75,
          76,
          77,
          78,
          79,
          80,
          81,
          82,
          83,
          84,
          85,
          86,
          87,
          88,
          89,
          90,
          91,
          92,
          93,
          94,
          95,
          96,
          97,
          98,
          99,
          100,
          101,
          102,
          103,
          104,
          105,
          106,
          107,
          108,
          109,
          110,
          111,
          112,
          113,
          114,
          115,
          116,
          117,
          118,
          119,
          120,
          121,
          122,
          123,
          124,
          125,
          126,
          127,
          128,
          129,
          130,
          131,
          132,
          133,
          134,
          135,
          136,
          137,
          138,
          139,
          140,
          141,
          142,
          143,
          144,
          145,
          146,
          147,
          148,
          149,
          150,
          151,
          152,
          153,
          154,
          155,
          156,
          157,
          158,
          159,
          160,
          161,
          162,
          163,
          164,
          165,
          166,
          167,
          168,
          169,
          170,
          171,
          172,
          173,
          174,
          175,
          176,
          177,
          178,
          179,
          180,
          181,
          182,
          183,
          184,
          185,
          186,
          187,
          188,
          189,
          190,
          191,
          192,
          193,
          194,
          195,
          196,
          197,
          198,
          199,
          200,
          201,
          202,
          203,
          204,
          205,
          206,
          207,
          208,
          209,
          210,
          211,
          212,
          213,
          214,
          215,
          216,
          217,
          218,
          219,
          220,
          221,
          222,
          223,
          224,
          225,
          226,
          227,
          228,
          229,
          230,
          231,
          232,
          233,
          234,
          235,
          236,
          237,
          238,
          239,
          240,
          241,
          242,
          243,
          244,
          245,
          246,
          247,
          248,
          249,
          250,
          251,
          252,
          253,
          254,
          255,
          256,
          257,
          258,
          259,
          260,
          261,
          262,
          263,
          264,
          265,
          266,
          267,
          268,
          269,
          270,
          271,
          272,
          273,
          274,
          275,
          276,
          277,
          278,
          279,
          280,
          281,
          282,
          283,
          284,
          285,
          286,
          287,
          288,
          289,
          290,
          291,
          292,
          293,
          294,
          295,
          296,
          297,
          298,
          299,
          300,
          301,
          302,
          303,
          304,
          305,
          306,
          307,
          308,
          309,
          310,
          311,
          312,
          313,
          314,
          315,
          316,
          317,
          318,
          319,
          320,
          321,
          322,
          323,
          324,
          325,
          326,
          327,
          328,
          329,
          330,
          331,
          332,
          333,
          334,
          335,
          336,
          337,
          338,
          339
         ],
         "y": [
          181.0667426,
          181.5700976,
          180.88186060000004,
          181.55622160000001,
          181.17785759999998,
          181.4898032,
          180.90587779999998,
          181.6887226,
          181.0974898,
          181.1733692,
          180.8041224,
          181.2805014,
          181.5924254,
          181.0401656,
          181.0346308,
          181.45198499999998,
          181.3124922,
          181.3486756,
          181.42405620000002,
          181.20345340000003,
          181.6244596,
          181.20208100000002,
          180.98785519999998,
          181.4749572,
          180.93734639999997,
          181.40645899999998,
          181.2114092,
          181.14786439999997,
          181.7499418,
          181.40550480000002,
          217.7553006,
          217.59237720000002,
          217.6135708,
          217.73297279999997,
          217.65704060000002,
          217.60784239999998,
          217.54963379999998,
          217.7265382,
          217.61535220000002,
          217.7299374,
          217.58600940000002,
          217.71427640000002,
          217.64883460000001,
          217.70369340000002,
          217.84337,
          217.64506999999998,
          217.71665240000002,
          217.60859139999997,
          217.8727778,
          217.64959819999999,
          217.64217360000004,
          217.7253412,
          217.730237,
          217.6795564,
          217.6514546,
          217.7162672,
          217.59564680000003,
          217.6391016,
          217.68533280000003,
          217.7228552,
          220.67916340000002,
          217.1685008,
          211.94221540000004,
          208.01446380000002,
          220.6391294,
          205.0027232,
          225.48564539999998,
          217.58826139999996,
          217.3348854,
          214.063631,
          227.7068162,
          227.84756460000003,
          227.6498752,
          227.6133976,
          224.85752499999998,
          223.9133558,
          232.44125560000003,
          231.5074994,
          228.48430860000002,
          231.5138308,
          216.32009639999995,
          231.4947482,
          231.20517239999998,
          232.6688188,
          225.6304708,
          230.11413460000003,
          220.96307259999998,
          231.4989222,
          219.447871,
          218.3202178,
          233.15085599999998,
          233.105751,
          233.21322739999997,
          228.836426,
          233.1565838,
          230.06071980000002,
          218.64502040000002,
          226.40790559999996,
          222.7219944,
          223.49140500000004,
          231.9828018,
          232.28154719999998,
          233.2398816,
          230.0909446,
          230.15519999999998,
          229.17128839999995,
          230.62142720000003,
          229.10245999999998,
          221.11009199999998,
          226.6055048,
          231.09778619999997,
          232.90544099999997,
          232.2557034,
          233.1598838,
          231.86887059999998,
          233.57648440000003,
          229.075342,
          233.65025559999998,
          232.418406,
          229.711383,
          212.0772036,
          233.57096220000003,
          233.6189214,
          233.58101459999997,
          233.589945,
          232.33824600000003,
          232.32727100000002,
          229.51228740000002,
          233.57145759999997,
          224.3009642,
          232.33142740000002,
          232.6622926,
          233.74398920000004,
          233.50536700000004,
          232.664158,
          228.9277134,
          233.66469659999998,
          231.062617,
          230.0181898,
          227.3071792,
          208.2790668,
          233.6095284,
          233.5379436,
          233.1802462,
          233.63909560000002,
          213.4919328,
          231.5092412,
          229.7391988,
          232.82925880000002,
          227.1510702,
          232.2917732,
          233.8201688,
          233.5002172,
          233.15181759999996,
          233.5909982,
          231.95644040000002,
          232.7335928,
          230.453599,
          233.5000606,
          231.93536139999998,
          180.713818,
          181.0836214,
          181.10637699999998,
          180.773171,
          181.4156036,
          180.86004780000002,
          180.9155734,
          181.30899019999998,
          180.94088340000002,
          181.17005139999998,
          181.476114,
          181.15094679999999,
          181.2784838,
          181.5130902,
          181.51350459999998,
          181.68489060000002,
          181.1170544,
          181.07131959999998,
          181.0650946,
          181.320199,
          181.2466116,
          181.20016219999997,
          181.24860520000001,
          181.0006092,
          180.75944679999998,
          181.44243160000002,
          180.95678700000002,
          181.0839662,
          181.1057388,
          180.6236378,
          217.59598540000002,
          217.61893600000002,
          217.62610800000002,
          217.6758022,
          217.604562,
          217.66253120000002,
          217.54409920000003,
          217.49371219999998,
          217.5010846,
          217.84117940000002,
          217.6366016,
          217.5691734,
          217.7850388,
          217.672622,
          217.66527000000002,
          217.71602479999996,
          217.66561280000002,
          217.5617428,
          217.76846559999998,
          217.6839058,
          217.65426939999998,
          217.6772774,
          217.6111252,
          217.67652239999998,
          217.6357334,
          217.78051580000002,
          217.6807742,
          217.76200699999998,
          217.8048366,
          217.72460760000004,
          203.2121888,
          228.61433900000003,
          217.67556999999996,
          225.4712314,
          194.81478300000003,
          200.3002394,
          190.89472560000002,
          207.87606799999998,
          205.1603494,
          213.138501,
          222.1958738,
          242.47261899999998,
          211.0752814,
          238.46819640000004,
          231.3874238,
          208.32536899999997,
          232.6889144,
          208.5673432,
          227.4145348,
          181.5616776,
          227.5232368,
          229.74377980000003,
          232.1912156,
          209.7973704,
          232.45851539999998,
          228.31974340000002,
          217.22366240000002,
          225.3018416,
          226.0690748,
          200.1395834,
          225.64826539999999,
          234.59922819999997,
          230.4951484,
          219.7597252,
          231.25750299999999,
          234.5790486,
          211.726066,
          211.18330980000002,
          201.04712580000003,
          224.0980978,
          219.0238274,
          241.10404099999997,
          238.32435420000002,
          236.7292736,
          247.0668576,
          251.71515319999997,
          248.01212500000003,
          235.09497919999998,
          223.979607,
          238.1343596,
          245.6043376,
          244.3938204,
          247.50035740000004,
          240.61307259999998,
          239.45882,
          238.96022,
          239.0462192,
          235.7927524,
          244.322134,
          230.459449,
          181.1848276,
          180.9954208,
          181.0772976,
          181.17590800000002,
          181.3211112,
          180.91413440000002,
          181.2462626,
          181.1658898,
          181.5306714,
          180.9604188,
          181.1085582,
          181.032512,
          181.4734072,
          181.25578419999997,
          181.36057440000002,
          181.2004022,
          181.02760519999998,
          181.05910699999998,
          181.3202274,
          181.2756814,
          181.35652520000002,
          181.3756146,
          181.45996859999997,
          181.2620672,
          181.6287264,
          181.7050976,
          181.201314,
          181.3374094,
          181.00461639999997,
          181.159322,
          217.6992452,
          217.6155978,
          217.6845534,
          217.67588880000002,
          217.6955314,
          217.652264,
          217.60089320000003,
          217.70230920000003,
          217.6041902,
          217.680789,
          217.7325216,
          217.66697,
          217.5788832,
          217.695206,
          217.5695286,
          217.7536322,
          217.69445619999996,
          217.65806080000002,
          217.6294976,
          217.55711779999996,
          217.66074639999997,
          217.79465639999998,
          217.61756780000002,
          217.7424658,
          217.70461519999998,
          217.6587316,
          217.66277139999997,
          217.6746404,
          217.8349004,
          217.64016980000002
         ]
        },
        {
         "mode": "lines",
         "name": "Best Value",
         "type": "scatter",
         "x": [
          0,
          1,
          2,
          3,
          4,
          5,
          6,
          7,
          8,
          9,
          10,
          11,
          12,
          13,
          14,
          15,
          16,
          17,
          18,
          19,
          20,
          21,
          22,
          23,
          24,
          25,
          26,
          27,
          28,
          29,
          30,
          31,
          32,
          33,
          34,
          35,
          36,
          37,
          38,
          39,
          40,
          41,
          42,
          43,
          44,
          45,
          46,
          47,
          48,
          49,
          50,
          51,
          52,
          53,
          54,
          55,
          56,
          57,
          58,
          59,
          60,
          61,
          62,
          63,
          64,
          65,
          66,
          67,
          68,
          69,
          70,
          71,
          72,
          73,
          74,
          75,
          76,
          77,
          78,
          79,
          80,
          81,
          82,
          83,
          84,
          85,
          86,
          87,
          88,
          89,
          90,
          91,
          92,
          93,
          94,
          95,
          96,
          97,
          98,
          99,
          100,
          101,
          102,
          103,
          104,
          105,
          106,
          107,
          108,
          109,
          110,
          111,
          112,
          113,
          114,
          115,
          116,
          117,
          118,
          119,
          120,
          121,
          122,
          123,
          124,
          125,
          126,
          127,
          128,
          129,
          130,
          131,
          132,
          133,
          134,
          135,
          136,
          137,
          138,
          139,
          140,
          141,
          142,
          143,
          144,
          145,
          146,
          147,
          148,
          149,
          150,
          151,
          152,
          153,
          154,
          155,
          156,
          157,
          158,
          159,
          160,
          161,
          162,
          163,
          164,
          165,
          166,
          167,
          168,
          169,
          170,
          171,
          172,
          173,
          174,
          175,
          176,
          177,
          178,
          179,
          180,
          181,
          182,
          183,
          184,
          185,
          186,
          187,
          188,
          189,
          190,
          191,
          192,
          193,
          194,
          195,
          196,
          197,
          198,
          199,
          200,
          201,
          202,
          203,
          204,
          205,
          206,
          207,
          208,
          209,
          210,
          211,
          212,
          213,
          214,
          215,
          216,
          217,
          218,
          219,
          220,
          221,
          222,
          223,
          224,
          225,
          226,
          227,
          228,
          229,
          230,
          231,
          232,
          233,
          234,
          235,
          236,
          237,
          238,
          239,
          240,
          241,
          242,
          243,
          244,
          245,
          246,
          247,
          248,
          249,
          250,
          251,
          252,
          253,
          254,
          255,
          256,
          257,
          258,
          259,
          260,
          261,
          262,
          263,
          264,
          265,
          266,
          267,
          268,
          269,
          270,
          271,
          272,
          273,
          274,
          275,
          276,
          277,
          278,
          279,
          280,
          281,
          282,
          283,
          284,
          285,
          286,
          287,
          288,
          289,
          290,
          291,
          292,
          293,
          294,
          295,
          296,
          297,
          298,
          299,
          300,
          301,
          302,
          303,
          304,
          305,
          306,
          307,
          308,
          309,
          310,
          311,
          312,
          313,
          314,
          315,
          316,
          317,
          318,
          319,
          320,
          321,
          322,
          323,
          324,
          325,
          326,
          327,
          328,
          329,
          330,
          331,
          332,
          333,
          334,
          335,
          336,
          337,
          338,
          339
         ],
         "y": [
          181.0667426,
          181.5700976,
          181.5700976,
          181.5700976,
          181.5700976,
          181.5700976,
          181.5700976,
          181.6887226,
          181.6887226,
          181.6887226,
          181.6887226,
          181.6887226,
          181.6887226,
          181.6887226,
          181.6887226,
          181.6887226,
          181.6887226,
          181.6887226,
          181.6887226,
          181.6887226,
          181.6887226,
          181.6887226,
          181.6887226,
          181.6887226,
          181.6887226,
          181.6887226,
          181.6887226,
          181.6887226,
          181.7499418,
          181.7499418,
          217.7553006,
          217.7553006,
          217.7553006,
          217.7553006,
          217.7553006,
          217.7553006,
          217.7553006,
          217.7553006,
          217.7553006,
          217.7553006,
          217.7553006,
          217.7553006,
          217.7553006,
          217.7553006,
          217.84337,
          217.84337,
          217.84337,
          217.84337,
          217.8727778,
          217.8727778,
          217.8727778,
          217.8727778,
          217.8727778,
          217.8727778,
          217.8727778,
          217.8727778,
          217.8727778,
          217.8727778,
          217.8727778,
          217.8727778,
          220.67916340000002,
          220.67916340000002,
          220.67916340000002,
          220.67916340000002,
          220.67916340000002,
          220.67916340000002,
          225.48564539999998,
          225.48564539999998,
          225.48564539999998,
          225.48564539999998,
          227.7068162,
          227.84756460000003,
          227.84756460000003,
          227.84756460000003,
          227.84756460000003,
          227.84756460000003,
          232.44125560000003,
          232.44125560000003,
          232.44125560000003,
          232.44125560000003,
          232.44125560000003,
          232.44125560000003,
          232.44125560000003,
          232.6688188,
          232.6688188,
          232.6688188,
          232.6688188,
          232.6688188,
          232.6688188,
          232.6688188,
          233.15085599999998,
          233.15085599999998,
          233.21322739999997,
          233.21322739999997,
          233.21322739999997,
          233.21322739999997,
          233.21322739999997,
          233.21322739999997,
          233.21322739999997,
          233.21322739999997,
          233.21322739999997,
          233.21322739999997,
          233.2398816,
          233.2398816,
          233.2398816,
          233.2398816,
          233.2398816,
          233.2398816,
          233.2398816,
          233.2398816,
          233.2398816,
          233.2398816,
          233.2398816,
          233.2398816,
          233.2398816,
          233.57648440000003,
          233.57648440000003,
          233.65025559999998,
          233.65025559999998,
          233.65025559999998,
          233.65025559999998,
          233.65025559999998,
          233.65025559999998,
          233.65025559999998,
          233.65025559999998,
          233.65025559999998,
          233.65025559999998,
          233.65025559999998,
          233.65025559999998,
          233.65025559999998,
          233.65025559999998,
          233.65025559999998,
          233.74398920000004,
          233.74398920000004,
          233.74398920000004,
          233.74398920000004,
          233.74398920000004,
          233.74398920000004,
          233.74398920000004,
          233.74398920000004,
          233.74398920000004,
          233.74398920000004,
          233.74398920000004,
          233.74398920000004,
          233.74398920000004,
          233.74398920000004,
          233.74398920000004,
          233.74398920000004,
          233.74398920000004,
          233.74398920000004,
          233.74398920000004,
          233.8201688,
          233.8201688,
          233.8201688,
          233.8201688,
          233.8201688,
          233.8201688,
          233.8201688,
          233.8201688,
          233.8201688,
          233.8201688,
          233.8201688,
          233.8201688,
          233.8201688,
          233.8201688,
          233.8201688,
          233.8201688,
          233.8201688,
          233.8201688,
          233.8201688,
          233.8201688,
          233.8201688,
          233.8201688,
          233.8201688,
          233.8201688,
          233.8201688,
          233.8201688,
          233.8201688,
          233.8201688,
          233.8201688,
          233.8201688,
          233.8201688,
          233.8201688,
          233.8201688,
          233.8201688,
          233.8201688,
          233.8201688,
          233.8201688,
          233.8201688,
          233.8201688,
          233.8201688,
          233.8201688,
          233.8201688,
          233.8201688,
          233.8201688,
          233.8201688,
          233.8201688,
          233.8201688,
          233.8201688,
          233.8201688,
          233.8201688,
          233.8201688,
          233.8201688,
          233.8201688,
          233.8201688,
          233.8201688,
          233.8201688,
          233.8201688,
          233.8201688,
          233.8201688,
          233.8201688,
          233.8201688,
          233.8201688,
          233.8201688,
          233.8201688,
          233.8201688,
          233.8201688,
          233.8201688,
          233.8201688,
          233.8201688,
          233.8201688,
          233.8201688,
          233.8201688,
          233.8201688,
          233.8201688,
          233.8201688,
          233.8201688,
          233.8201688,
          233.8201688,
          233.8201688,
          233.8201688,
          242.47261899999998,
          242.47261899999998,
          242.47261899999998,
          242.47261899999998,
          242.47261899999998,
          242.47261899999998,
          242.47261899999998,
          242.47261899999998,
          242.47261899999998,
          242.47261899999998,
          242.47261899999998,
          242.47261899999998,
          242.47261899999998,
          242.47261899999998,
          242.47261899999998,
          242.47261899999998,
          242.47261899999998,
          242.47261899999998,
          242.47261899999998,
          242.47261899999998,
          242.47261899999998,
          242.47261899999998,
          242.47261899999998,
          242.47261899999998,
          242.47261899999998,
          242.47261899999998,
          242.47261899999998,
          242.47261899999998,
          242.47261899999998,
          242.47261899999998,
          242.47261899999998,
          242.47261899999998,
          242.47261899999998,
          247.0668576,
          251.71515319999997,
          251.71515319999997,
          251.71515319999997,
          251.71515319999997,
          251.71515319999997,
          251.71515319999997,
          251.71515319999997,
          251.71515319999997,
          251.71515319999997,
          251.71515319999997,
          251.71515319999997,
          251.71515319999997,
          251.71515319999997,
          251.71515319999997,
          251.71515319999997,
          251.71515319999997,
          251.71515319999997,
          251.71515319999997,
          251.71515319999997,
          251.71515319999997,
          251.71515319999997,
          251.71515319999997,
          251.71515319999997,
          251.71515319999997,
          251.71515319999997,
          251.71515319999997,
          251.71515319999997,
          251.71515319999997,
          251.71515319999997,
          251.71515319999997,
          251.71515319999997,
          251.71515319999997,
          251.71515319999997,
          251.71515319999997,
          251.71515319999997,
          251.71515319999997,
          251.71515319999997,
          251.71515319999997,
          251.71515319999997,
          251.71515319999997,
          251.71515319999997,
          251.71515319999997,
          251.71515319999997,
          251.71515319999997,
          251.71515319999997,
          251.71515319999997,
          251.71515319999997,
          251.71515319999997,
          251.71515319999997,
          251.71515319999997,
          251.71515319999997,
          251.71515319999997,
          251.71515319999997,
          251.71515319999997,
          251.71515319999997,
          251.71515319999997,
          251.71515319999997,
          251.71515319999997,
          251.71515319999997,
          251.71515319999997,
          251.71515319999997,
          251.71515319999997,
          251.71515319999997,
          251.71515319999997,
          251.71515319999997,
          251.71515319999997,
          251.71515319999997,
          251.71515319999997,
          251.71515319999997,
          251.71515319999997,
          251.71515319999997,
          251.71515319999997,
          251.71515319999997,
          251.71515319999997,
          251.71515319999997
         ]
        },
        {
         "marker": {
          "color": "#cccccc"
         },
         "mode": "markers",
         "name": "Infeasible Trial",
         "showlegend": false,
         "type": "scatter",
         "x": [],
         "y": []
        }
       ],
       "layout": {
        "height": 594,
        "margin": {
         "b": 60,
         "l": 60,
         "r": 30,
         "t": 30
        },
        "showlegend": false,
        "template": {
         "layout": {
          "colorway": [
           "#002D72",
           "#E2001A",
           "#5A5A5A",
           "#2C74B3",
           "#A1C9F4"
          ],
          "font": {
           "color": "#002D72",
           "family": "Arial, sans-serif",
           "size": 14
          },
          "paper_bgcolor": "white",
          "plot_bgcolor": "white",
          "title": {
           "font": {
            "color": "#002D72",
            "size": 20
           }
          },
          "xaxis": {
           "gridcolor": "#D1D1D1",
           "linecolor": "#002D72",
           "zerolinecolor": "#D1D1D1"
          },
          "yaxis": {
           "gridcolor": "#D1D1D1",
           "linecolor": "#002D72",
           "zerolinecolor": "#D1D1D1"
          }
         }
        },
        "title": {},
        "width": 960,
        "xaxis": {
         "title": {
          "text": "Trial"
         }
        },
        "yaxis": {
         "title": {
          "text": "Objective Value"
         }
        }
       }
      }
     },
     "metadata": {},
     "output_type": "display_data"
    }
   ],
   "source": [
    "uic_fig_hist = optuna.visualization.plot_optimization_history(uic_aggregated_study)\n",
    "uic_fig_hist.update_layout(width=960, height=594, showlegend=False, title=None, margin=dict(l=60, r=30, t=30, b=60))\n",
    "uic_fig_hist.show()"
   ]
  },
  {
   "cell_type": "markdown",
   "metadata": {},
   "source": [
    "### Slice Plot All Params"
   ]
  },
  {
   "cell_type": "code",
   "execution_count": 78,
   "metadata": {},
   "outputs": [],
   "source": [
    "uic_full_params = {\n",
    "        col: col.replace(\"params_\", \"\")\n",
    "        for col in uic_aggregated_study.trials_dataframe().columns\n",
    "        if col.startswith(\"params_\")\n",
    "    }\n",
    "uic_full_params = list(uic_full_params.values())"
   ]
  },
  {
   "cell_type": "code",
   "execution_count": 79,
   "metadata": {},
   "outputs": [
    {
     "data": {
      "application/vnd.plotly.v1+json": {
       "config": {
        "plotlyServerURL": "https://plot.ly"
       },
       "data": [
        {
         "marker": {
          "color": "#002D72",
          "opacity": 0.7
         },
         "mode": "markers",
         "type": "scatter",
         "x": [
          "LeakyReLU",
          "Tanh",
          "LeakyReLU",
          "LeakyReLU",
          "LeakyReLU",
          "ReLU",
          "LeakyReLU",
          "ReLU",
          "ReLU",
          "LeakyReLU",
          "ReLU",
          "Tanh",
          "Tanh",
          "Tanh",
          "Tanh",
          "ReLU",
          "ReLU",
          "Tanh",
          "ReLU",
          "Tanh",
          "ReLU",
          "ReLU",
          "ReLU",
          "ReLU",
          "ReLU",
          "Tanh",
          "ReLU",
          "Tanh",
          "ReLU",
          "ReLU",
          "ReLU",
          "ReLU",
          "Tanh",
          "ReLU",
          "ReLU",
          "ReLU",
          "ReLU",
          "Tanh",
          "ReLU",
          "Tanh",
          "Tanh",
          "ReLU",
          "ReLU",
          "ReLU",
          "ReLU",
          "ReLU",
          "ReLU",
          "ReLU",
          "Tanh",
          "Tanh",
          "Tanh",
          "Tanh",
          "Tanh",
          "Tanh",
          "ReLU",
          "ReLU",
          "Tanh",
          "ReLU",
          "Tanh",
          "ReLU",
          "ReLU",
          "Tanh",
          "ReLU",
          "ReLU",
          "ReLU",
          "Tanh",
          "Tanh",
          "ReLU",
          "Tanh",
          "Tanh",
          "Tanh",
          "Tanh",
          "Tanh",
          "Tanh",
          "Tanh",
          "Tanh",
          "Tanh",
          "Tanh",
          "Tanh",
          "Tanh",
          "Tanh",
          "Tanh",
          "Tanh",
          "Tanh",
          "Tanh",
          "Tanh",
          "ReLU",
          "Tanh",
          "Tanh",
          "ReLU",
          "Tanh",
          "Tanh",
          "Tanh",
          "Tanh",
          "Tanh",
          "ReLU",
          "Tanh",
          "ReLU",
          "Tanh",
          "Tanh",
          "ReLU",
          "Tanh",
          "Tanh",
          "Tanh",
          "Tanh",
          "Tanh",
          "Tanh",
          "Tanh",
          "Tanh",
          "Tanh",
          "Tanh",
          "Tanh",
          "Tanh",
          "Tanh",
          "Tanh",
          "Tanh",
          "Tanh",
          "Tanh",
          "Tanh",
          "ReLU",
          "Tanh",
          "Tanh",
          "Tanh",
          "Tanh",
          "Tanh",
          "Tanh",
          "Tanh",
          "Tanh",
          "Tanh",
          "Tanh",
          "Tanh",
          "Tanh",
          "Tanh",
          "Tanh",
          "Tanh",
          "Tanh",
          "ReLU",
          "ReLU",
          "ReLU",
          "ReLU",
          "ReLU",
          "ReLU",
          "ReLU",
          "ReLU",
          "ReLU",
          "ReLU",
          "ReLU",
          "ReLU",
          "ReLU",
          "ReLU",
          "ReLU",
          "ReLU",
          "ReLU",
          "ReLU",
          "ReLU",
          "ReLU",
          "ReLU",
          "ReLU",
          "ReLU",
          "ReLU",
          null,
          null,
          null,
          null,
          null,
          null,
          null,
          null,
          null,
          null,
          null,
          null,
          null,
          null,
          null,
          null,
          null,
          null,
          null,
          null,
          null,
          null,
          null,
          null,
          null,
          null,
          null,
          null,
          null,
          null,
          null,
          null,
          null,
          null,
          null,
          null,
          null,
          null,
          null,
          null,
          null,
          null,
          null,
          null,
          null,
          null,
          null,
          null,
          null,
          null,
          null,
          null,
          null,
          null,
          null,
          null,
          null,
          null,
          null,
          null,
          null,
          null,
          null,
          null,
          null,
          null,
          null,
          null,
          null,
          null,
          null,
          null,
          null,
          null,
          null,
          null,
          null,
          null,
          null,
          null,
          null,
          null,
          null,
          null,
          null,
          null,
          null,
          null,
          null,
          null,
          null,
          null,
          null,
          null,
          null,
          null,
          null,
          null,
          null,
          null,
          null,
          null,
          null,
          null,
          null,
          null,
          null,
          null,
          null,
          null,
          null,
          null,
          null,
          null,
          null,
          null,
          null,
          null,
          null,
          null,
          null,
          null,
          null,
          null,
          null,
          null,
          null,
          null,
          null,
          null,
          null,
          null,
          null,
          null,
          null,
          null,
          null,
          null,
          null,
          null,
          null,
          null,
          null,
          null,
          null,
          null,
          null,
          null,
          null,
          null,
          null,
          null,
          null,
          null,
          null,
          null,
          null,
          null,
          null,
          null,
          null,
          null,
          null,
          null,
          null,
          null,
          null,
          null,
          null,
          null,
          null,
          null,
          null,
          null,
          null,
          null,
          null,
          null,
          null,
          null
         ],
         "xaxis": "x",
         "y": {
          "bdata": "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",
          "dtype": "f8"
         },
         "yaxis": "y"
        },
        {
         "marker": {
          "color": "#002D72",
          "opacity": 0.7
         },
         "mode": "markers",
         "type": "scatter",
         "x": {
          "bdata": "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",
          "dtype": "f8"
         },
         "xaxis": "x2",
         "y": {
          "bdata": "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",
          "dtype": "f8"
         },
         "yaxis": "y2"
        },
        {
         "marker": {
          "color": "#002D72",
          "opacity": 0.7
         },
         "mode": "markers",
         "type": "scatter",
         "x": {
          "bdata": "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",
          "dtype": "f8"
         },
         "xaxis": "x3",
         "y": {
          "bdata": "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",
          "dtype": "f8"
         },
         "yaxis": "y3"
        },
        {
         "marker": {
          "color": "#002D72",
          "opacity": 0.7
         },
         "mode": "markers",
         "type": "scatter",
         "x": {
          "bdata": "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",
          "dtype": "f8"
         },
         "xaxis": "x4",
         "y": {
          "bdata": "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",
          "dtype": "f8"
         },
         "yaxis": "y4"
        },
        {
         "marker": {
          "color": "#002D72",
          "opacity": 0.7
         },
         "mode": "markers",
         "type": "scatter",
         "x": {
          "bdata": "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",
          "dtype": "f8"
         },
         "xaxis": "x5",
         "y": {
          "bdata": "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",
          "dtype": "f8"
         },
         "yaxis": "y5"
        },
        {
         "marker": {
          "color": "#002D72",
          "opacity": 0.7
         },
         "mode": "markers",
         "type": "scatter",
         "x": {
          "bdata": "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",
          "dtype": "f8"
         },
         "xaxis": "x6",
         "y": {
          "bdata": "AIhgwSKiZkDmcFI9PrJmQDKUuDM4nGZAhqo9kcyxZkAK62sCsaVmQD2vwnesr2ZAhKVw8/ycZkCEYPoDCrZmQDLW7aIeo2ZAR4SQPYylZkBlP+Zeu5lmQG5vEt75qGZAO8ocJvWyZkCTTV4JSaFmQOYtDbIboWZACik/qXauZkAqaKTv/6lmQDldu1koq2ZAUdVO3pGtZkBTaLSwgqZmQIv1spL7s2ZAlMSScnemZkDfJYKCnJ9mQP4fcdkyr2ZAvqDgvf6dZkBGBU62Aa1mQFoCOt3DpmZAw0cfTrukZkDoHPKF/7dmQODLM+X5rGZAxvQpbCs4a0CtnAfB9DJrQPr4Ol+iM2tAcJtfg3Q3a0CeJAJ6BjVrQOij53FzM2tA1nifmZYxa0BuCQrNPzdrQLLQGPewM2tAE6StpVs3a0DCBMmWwDJrQMBJLlrbNmtAbXDHQMM0a0AobQWohDZrQK4NFeP8OmtALjTXaaQ0a0AzkwPR7jZrQA70q5R5M2tAmHW1y+07a0BLESqCyTRrQFpLpq+MNGtAII6//jU3a0CIKvwZXjdrQDM5EO2+NWtAhTpRt9g0a0BS5jCp6zZrQPO+4IkPM2tASNoyhXM0a0AKXA0/7jVrQMt3OqEhN2tAffThtLuVa0AyK8pbZCVrQDUZ6aAmfmpAO3/JfHYAakAw3X+/c5RrQBje9k4WoGlAfc44aIovbED4T5IJ0zJrQA0dlmG3KmtAYADhQwnCakAO6QE9nnZsQOvHyz8fe2xAaE8Tx8t0bEA97gD0oHNsQBPQRNhwG2xAlVPxNTr9a0CqZRDEHg5tQKu3YW898GxAfsW/dH+PbECuNUpNcfBsQCYyzjo+CmtAKFgt+tTvbEBWgbXFkOZsQGYer/ZmFW1AqGIZ0Sw0bEDzypr9psNsQI4VoX3RnmtA84ewK/fvbEB1OpD1VG5rQBtTZjk/SmtA+Ez2z9MkbUCe0OtPYiNtQI2zRMLSJm1AxXB1AMSabECrgge8AiVtQAhnpmrxwWxAGGjSAaRUa0BdewuQDU1sQKX8/5Ma12tA6oL6lrnva0BmrsIcc/9sQPgIRm8CCW1AMF0tHK0nbUDuV6YE6cJsQNqK/WX3xGxA44XPMXulbEAKm0u74tNsQL2kMVpHo2xAo3Go34Wja0BGMppLYFNsQABghhAh42xAo25nX/kcbUA7j+W4LghtQCCFocQdJW1Alm63yc37bEDwlGmPcjJtQH1AoDNpomxATgHV5M40bUBozvqUYw1tQMb9R6bDtmxARSSvc3iCakATCIVSRTJtQG15QDTOM21A8y/uq5cybUAKLlbU4DJtQBiARunSCm1AvT0IAXkKbUDlpIuoZLBsQJ7hcmFJMm1Aioisf6EJbEDzf6INmwptQEAsQIAxFW1AelJwws43bUBKL2r3KzBtQA4sR8hAFW1A8yED1K+dbEBl2M0xRTVtQI7lXfUA4mxA3YPGApXAbEBeQHlp1GlsQMhsfx3uCGpAdv+zQYEzbUD2In/VNjFtQE7HrZPEJW1AkKCdeHM0bUCN+trpva9qQNN4M7RL8GxAwuc9hKe3bEBzPcBJiRptQM4MLJHVZGxALfu/NFYJbUBjpqPSPjptQLJcgMcBMG1AoF6VsNskbUDWnw516TJtQFjS5Sib/mxAmJKbl3kXbUDyzwzig85sQJVgFn8AMG1AGt4He+79bEB6qdiY15ZmQN1HyQatomZAfQG9cGejZkDm5hvRvZhmQDLD659MrWZA5r/2goWbZkDNQpZgTJ1mQBp5aj/jqWZALguBtxueZkByNKIPcaVmQF5lbVM8r2ZA8i1ijtSkZkDorttW6ahmQL2cIzxrsGZADusyoW6wZkDQCrGf6rVmQEt73ui+o2ZACrIKQEiiZkCuREVBFaJmQMgm+RE/qmZADpoCPuSnZkCm3I66Z6ZmQLNz5JL0p2ZAdcKV/QSgZkCoIWBjTZhmQPKWUGYormZAnkfF/52eZkAFX+LZr6JmQGP9VTZio2ZAlXFC1/STZkCYPPlPEjNrQCbK3lLOM2tAc/ikEwk0a0ATcu8roDVrQPBMaJJYM2tAjZKhdDM1a0D1uLlCaTFrQFsUh33ML2tA8DCS4ggwa0A1og/x6jprQJqSUQpfNGtAGlgiqzYya0DqgrAJHzlrQD6Skh6GNWtAUqBP5Ek1a0D+Y9es6TZrQJL5NrNMNWtAblgJzPkxa0A7gytFlzhrQG6Rao7iNWtAwHhhxu80a0A9aqdBrDVrQF54b1aOM2tAXeBNEqY1a0AyP5LtVzRrQF1gRfz5OGtAvZ755sg1a0BWCoFcYjhrQPZzrzjBOWtA3Q1H/C83a0B7kipAymZpQAo1Q6qok2xAEwX6RJ41a0Ale99TFC9sQMhKzLMSWmhAEH+oj5sJaUCc3JSXodxnQE4iwr8I/GlA3Z0QlSGlaUDTLqaZbqRqQJWkIZlExmtA+47hsR9PbkDo34m0aGJqQF1DBHf7zm1AJdaYxmXsbEA6xD9saQpqQMo3NpYLFm1AdTPtrCcSakC6IXzeQ21sQKpcTUP5sWZACgIaW75wbECejUsLzbdsQIWPLXAeBm1AjdntDoQ5akDL9nworA5tQJXDglY7imxACqsMPigna0BQErevqClsQErfWtw1QmxAEEKbd3cEaUAbhBSXvjRsQOg6nuAsU21AVhV1QdjPbEBO/jirT3hrQOZz7nY96GxAbfntkIdSbUCal8PuO3dqQCqBg6zdZWpAiTn3DYIhaUDoWf+dIwNsQPX3rTHDYGtALY7KTVQjbkBAKg8cYcptQMK6ljVWl21Apq+MsiPibkAmtPaI4nZvQNrO91NjAG9Am7nREQpjbUDYfcfwWP9rQOv8gKxMxG1AyHfOu1azbkDtTz0tmoxuQPqphe0C8G5AW+JtSp4TbkAG2Eenru5tQOIeSx+63m1AUA6woHrhbUBr+kc6XnltQMBd9utOim5AwqVjzrPObEC+LJIb6qVmQEO4uHzan2ZA5gHROHmiZkBbY9AJoaVmQCPM/opGqmZAwgTJlkCdZkBLpxpi4admQK43IPhOpWZAhX2WQvuwZkDWDjXAu55mQM7WC095o2ZASBebVgqhZkAcNtsmJq9mQKu6WGIvqGZAzPhS04mrZkB94d+xaaZmQGLmTCTioGZA3v5cNOShZkAPSYhNP6pmQLKjzGHSqGZAZkaJp2irZkDO3OgIBaxmQPrFERC4rmZAVqvA2mKoZkA4xNOGHrRmQJ6P1yiQtmZAQ8cOKnGmZkCeS8wOzKpmQM7gStEloGZAEXFzKhmlZkBSPHg3YDZrQKpPKPqyM2tAsyuI3Oc1a0Bzd4zhoDVrQOoKEctBNmtAdovAWN80a0ByTGCEOjNrQMO1JFF5NmtACrKvhlUza0BATwMGyTVrQKNzI9FwN2tAOC140Vc1a0CGhg82hjJrQHU/pyA/NmtAYOQKlDkya0DNhkbBHThrQCNwNfw4NmtA89iF1Q41a0AjnSbYJDRrQJ5gtejTMWtAY16i1SQ1a0DTMULTbTlrQAICjB3DM2tAwCyjR8I3a0B2CC01jDZrQPDaSlQUNWtAK/ddbDU1a0Du0XanljVrQFstC4G3OmtAYlxgRXw0a0A=",
          "dtype": "f8"
         },
         "yaxis": "y6"
        },
        {
         "marker": {
          "color": "#002D72",
          "opacity": 0.7
         },
         "mode": "markers",
         "type": "scatter",
         "x": {
          "bdata": "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",
          "dtype": "f8"
         },
         "xaxis": "x7",
         "y": {
          "bdata": "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",
          "dtype": "f8"
         },
         "yaxis": "y7"
        },
        {
         "marker": {
          "color": "#002D72",
          "opacity": 0.7
         },
         "mode": "markers",
         "type": "scatter",
         "x": {
          "bdata": "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",
          "dtype": "f8"
         },
         "xaxis": "x8",
         "y": {
          "bdata": "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",
          "dtype": "f8"
         },
         "yaxis": "y8"
        },
        {
         "marker": {
          "color": "#002D72",
          "opacity": 0.7
         },
         "mode": "markers",
         "type": "scatter",
         "x": {
          "bdata": "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",
          "dtype": "f8"
         },
         "xaxis": "x9",
         "y": {
          "bdata": "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",
          "dtype": "f8"
         },
         "yaxis": "y9"
        },
        {
         "marker": {
          "color": "#002D72",
          "opacity": 0.7
         },
         "mode": "markers",
         "type": "scatter",
         "x": {
          "bdata": "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",
          "dtype": "f8"
         },
         "xaxis": "x10",
         "y": {
          "bdata": "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",
          "dtype": "f8"
         },
         "yaxis": "y10"
        },
        {
         "marker": {
          "color": "#002D72",
          "opacity": 0.7
         },
         "mode": "markers",
         "type": "scatter",
         "x": {
          "bdata": "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",
          "dtype": "f8"
         },
         "xaxis": "x11",
         "y": {
          "bdata": "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",
          "dtype": "f8"
         },
         "yaxis": "y11"
        },
        {
         "marker": {
          "color": "#002D72",
          "opacity": 0.7
         },
         "mode": "markers",
         "type": "scatter",
         "x": {
          "bdata": "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",
          "dtype": "f8"
         },
         "xaxis": "x12",
         "y": {
          "bdata": "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",
          "dtype": "f8"
         },
         "yaxis": "y12"
        },
        {
         "marker": {
          "color": "#002D72",
          "opacity": 0.7
         },
         "mode": "markers",
         "type": "scatter",
         "x": {
          "bdata": "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",
          "dtype": "f8"
         },
         "xaxis": "x13",
         "y": {
          "bdata": "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",
          "dtype": "f8"
         },
         "yaxis": "y13"
        },
        {
         "marker": {
          "color": "#002D72",
          "opacity": 0.7
         },
         "mode": "markers",
         "type": "scatter",
         "x": {
          "bdata": "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",
          "dtype": "f8"
         },
         "xaxis": "x14",
         "y": {
          "bdata": "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",
          "dtype": "f8"
         },
         "yaxis": "y14"
        },
        {
         "marker": {
          "color": "#002D72",
          "opacity": 0.7
         },
         "mode": "markers",
         "type": "scatter",
         "x": {
          "bdata": "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",
          "dtype": "f8"
         },
         "xaxis": "x15",
         "y": {
          "bdata": "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",
          "dtype": "f8"
         },
         "yaxis": "y15"
        }
       ],
       "layout": {
        "annotations": [
         {
          "font": {
           "size": 16
          },
          "showarrow": false,
          "text": "activation",
          "x": 0.14444444444444446,
          "xanchor": "center",
          "xref": "paper",
          "y": 1,
          "yanchor": "bottom",
          "yref": "paper"
         },
         {
          "font": {
           "size": 16
          },
          "showarrow": false,
          "text": "batch_size",
          "x": 0.5,
          "xanchor": "center",
          "xref": "paper",
          "y": 1,
          "yanchor": "bottom",
          "yref": "paper"
         },
         {
          "font": {
           "size": 16
          },
          "showarrow": false,
          "text": "clip_range",
          "x": 0.8555555555555556,
          "xanchor": "center",
          "xref": "paper",
          "y": 1,
          "yanchor": "bottom",
          "yref": "paper"
         },
         {
          "font": {
           "size": 16
          },
          "showarrow": false,
          "text": "ent_coef",
          "x": 0.14444444444444446,
          "xanchor": "center",
          "xref": "paper",
          "y": 0.7949999999999999,
          "yanchor": "bottom",
          "yref": "paper"
         },
         {
          "font": {
           "size": 16
          },
          "showarrow": false,
          "text": "gae_lambda",
          "x": 0.5,
          "xanchor": "center",
          "xref": "paper",
          "y": 0.7949999999999999,
          "yanchor": "bottom",
          "yref": "paper"
         },
         {
          "font": {
           "size": 16
          },
          "showarrow": false,
          "text": "gamma",
          "x": 0.8555555555555556,
          "xanchor": "center",
          "xref": "paper",
          "y": 0.7949999999999999,
          "yanchor": "bottom",
          "yref": "paper"
         },
         {
          "font": {
           "size": 16
          },
          "showarrow": false,
          "text": "hidden_size",
          "x": 0.14444444444444446,
          "xanchor": "center",
          "xref": "paper",
          "y": 0.59,
          "yanchor": "bottom",
          "yref": "paper"
         },
         {
          "font": {
           "size": 16
          },
          "showarrow": false,
          "text": "learning_rate",
          "x": 0.5,
          "xanchor": "center",
          "xref": "paper",
          "y": 0.59,
          "yanchor": "bottom",
          "yref": "paper"
         },
         {
          "font": {
           "size": 16
          },
          "showarrow": false,
          "text": "n_layers",
          "x": 0.8555555555555556,
          "xanchor": "center",
          "xref": "paper",
          "y": 0.59,
          "yanchor": "bottom",
          "yref": "paper"
         },
         {
          "font": {
           "size": 16
          },
          "showarrow": false,
          "text": "n_steps",
          "x": 0.14444444444444446,
          "xanchor": "center",
          "xref": "paper",
          "y": 0.385,
          "yanchor": "bottom",
          "yref": "paper"
         },
         {
          "font": {
           "size": 16
          },
          "showarrow": false,
          "text": "reward_weight_demand",
          "x": 0.5,
          "xanchor": "center",
          "xref": "paper",
          "y": 0.385,
          "yanchor": "bottom",
          "yref": "paper"
         },
         {
          "font": {
           "size": 16
          },
          "showarrow": false,
          "text": "reward_weight_gini",
          "x": 0.8555555555555556,
          "xanchor": "center",
          "xref": "paper",
          "y": 0.385,
          "yanchor": "bottom",
          "yref": "paper"
         },
         {
          "font": {
           "size": 16
          },
          "showarrow": false,
          "text": "reward_weight_rebalancing",
          "x": 0.14444444444444446,
          "xanchor": "center",
          "xref": "paper",
          "y": 0.18,
          "yanchor": "bottom",
          "yref": "paper"
         },
         {
          "font": {
           "size": 16
          },
          "showarrow": false,
          "text": "use_target_kl",
          "x": 0.5,
          "xanchor": "center",
          "xref": "paper",
          "y": 0.18,
          "yanchor": "bottom",
          "yref": "paper"
         },
         {
          "font": {
           "size": 16
          },
          "showarrow": false,
          "text": "vf_coef",
          "x": 0.8555555555555556,
          "xanchor": "center",
          "xref": "paper",
          "y": 0.18,
          "yanchor": "bottom",
          "yref": "paper"
         }
        ],
        "height": 2000,
        "margin": {
         "b": 30,
         "l": 60,
         "r": 30,
         "t": 30
        },
        "showlegend": false,
        "template": {
         "layout": {
          "colorway": [
           "#002D72",
           "#E2001A",
           "#5A5A5A",
           "#2C74B3",
           "#A1C9F4"
          ],
          "font": {
           "color": "#002D72",
           "family": "Arial, sans-serif",
           "size": 14
          },
          "paper_bgcolor": "white",
          "plot_bgcolor": "white",
          "title": {
           "font": {
            "color": "#002D72",
            "size": 20
           }
          },
          "xaxis": {
           "gridcolor": "#D1D1D1",
           "linecolor": "#002D72",
           "zerolinecolor": "#D1D1D1"
          },
          "yaxis": {
           "gridcolor": "#D1D1D1",
           "linecolor": "#002D72",
           "zerolinecolor": "#D1D1D1"
          }
         }
        },
        "width": 1350,
        "xaxis": {
         "anchor": "y",
         "domain": [
          0,
          0.2888888888888889
         ]
        },
        "xaxis10": {
         "anchor": "y10",
         "domain": [
          0,
          0.2888888888888889
         ]
        },
        "xaxis11": {
         "anchor": "y11",
         "domain": [
          0.35555555555555557,
          0.6444444444444445
         ]
        },
        "xaxis12": {
         "anchor": "y12",
         "domain": [
          0.7111111111111111,
          1
         ]
        },
        "xaxis13": {
         "anchor": "y13",
         "domain": [
          0,
          0.2888888888888889
         ]
        },
        "xaxis14": {
         "anchor": "y14",
         "domain": [
          0.35555555555555557,
          0.6444444444444445
         ]
        },
        "xaxis15": {
         "anchor": "y15",
         "domain": [
          0.7111111111111111,
          1
         ]
        },
        "xaxis2": {
         "anchor": "y2",
         "domain": [
          0.35555555555555557,
          0.6444444444444445
         ]
        },
        "xaxis3": {
         "anchor": "y3",
         "domain": [
          0.7111111111111111,
          1
         ]
        },
        "xaxis4": {
         "anchor": "y4",
         "domain": [
          0,
          0.2888888888888889
         ]
        },
        "xaxis5": {
         "anchor": "y5",
         "domain": [
          0.35555555555555557,
          0.6444444444444445
         ]
        },
        "xaxis6": {
         "anchor": "y6",
         "domain": [
          0.7111111111111111,
          1
         ]
        },
        "xaxis7": {
         "anchor": "y7",
         "domain": [
          0,
          0.2888888888888889
         ]
        },
        "xaxis8": {
         "anchor": "y8",
         "domain": [
          0.35555555555555557,
          0.6444444444444445
         ],
         "nticks": 3,
         "tickformat": ".0e",
         "type": "log"
        },
        "xaxis9": {
         "anchor": "y9",
         "domain": [
          0.7111111111111111,
          1
         ]
        },
        "yaxis": {
         "anchor": "x",
         "domain": [
          0.82,
          1
         ],
         "title": {
          "text": "Objective Value"
         }
        },
        "yaxis10": {
         "anchor": "x10",
         "domain": [
          0.205,
          0.385
         ],
         "title": {
          "text": "Objective Value"
         }
        },
        "yaxis11": {
         "anchor": "x11",
         "domain": [
          0.205,
          0.385
         ]
        },
        "yaxis12": {
         "anchor": "x12",
         "domain": [
          0.205,
          0.385
         ]
        },
        "yaxis13": {
         "anchor": "x13",
         "domain": [
          0,
          0.18
         ],
         "title": {
          "text": "Objective Value"
         }
        },
        "yaxis14": {
         "anchor": "x14",
         "domain": [
          0,
          0.18
         ]
        },
        "yaxis15": {
         "anchor": "x15",
         "domain": [
          0,
          0.18
         ]
        },
        "yaxis2": {
         "anchor": "x2",
         "domain": [
          0.82,
          1
         ]
        },
        "yaxis3": {
         "anchor": "x3",
         "domain": [
          0.82,
          1
         ]
        },
        "yaxis4": {
         "anchor": "x4",
         "domain": [
          0.615,
          0.7949999999999999
         ],
         "title": {
          "text": "Objective Value"
         }
        },
        "yaxis5": {
         "anchor": "x5",
         "domain": [
          0.615,
          0.7949999999999999
         ]
        },
        "yaxis6": {
         "anchor": "x6",
         "domain": [
          0.615,
          0.7949999999999999
         ]
        },
        "yaxis7": {
         "anchor": "x7",
         "domain": [
          0.41,
          0.59
         ],
         "title": {
          "text": "Objective Value"
         }
        },
        "yaxis8": {
         "anchor": "x8",
         "domain": [
          0.41,
          0.59
         ]
        },
        "yaxis9": {
         "anchor": "x9",
         "domain": [
          0.41,
          0.59
         ]
        }
       }
      }
     },
     "metadata": {},
     "output_type": "display_data"
    }
   ],
   "source": [
    "uic_fig_slice_full = create_grid_slice_plot(\n",
    "    study=uic_aggregated_study,\n",
    "    top_params=uic_full_params,\n",
    "    vertical_spacing=0.025\n",
    ")\n",
    "uic_fig_slice_full.show()\n"
   ]
  },
  {
   "cell_type": "markdown",
   "metadata": {},
   "source": [
    "### Top 4 Params Slice Plot"
   ]
  },
  {
   "cell_type": "code",
   "execution_count": 80,
   "metadata": {},
   "outputs": [
    {
     "data": {
      "application/vnd.plotly.v1+json": {
       "config": {
        "plotlyServerURL": "https://plot.ly"
       },
       "data": [
        {
         "marker": {
          "color": "#002D72",
          "opacity": 0.7
         },
         "mode": "markers",
         "type": "scatter",
         "x": {
          "bdata": "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",
          "dtype": "f8"
         },
         "xaxis": "x",
         "y": {
          "bdata": "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",
          "dtype": "f8"
         },
         "yaxis": "y"
        },
        {
         "marker": {
          "color": "#002D72",
          "opacity": 0.7
         },
         "mode": "markers",
         "type": "scatter",
         "x": {
          "bdata": "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",
          "dtype": "f8"
         },
         "xaxis": "x2",
         "y": {
          "bdata": "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",
          "dtype": "f8"
         },
         "yaxis": "y2"
        },
        {
         "marker": {
          "color": "#002D72",
          "opacity": 0.7
         },
         "mode": "markers",
         "type": "scatter",
         "x": {
          "bdata": "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",
          "dtype": "f8"
         },
         "xaxis": "x3",
         "y": {
          "bdata": "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",
          "dtype": "f8"
         },
         "yaxis": "y3"
        },
        {
         "marker": {
          "color": "#002D72",
          "opacity": 0.7
         },
         "mode": "markers",
         "type": "scatter",
         "x": {
          "bdata": "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",
          "dtype": "f8"
         },
         "xaxis": "x4",
         "y": {
          "bdata": "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",
          "dtype": "f8"
         },
         "yaxis": "y4"
        }
       ],
       "layout": {
        "annotations": [
         {
          "font": {
           "size": 16
          },
          "showarrow": false,
          "text": "learning_rate",
          "x": 0.225,
          "xanchor": "center",
          "xref": "paper",
          "y": 1,
          "yanchor": "bottom",
          "yref": "paper"
         },
         {
          "font": {
           "size": 16
          },
          "showarrow": false,
          "text": "n_steps",
          "x": 0.775,
          "xanchor": "center",
          "xref": "paper",
          "y": 1,
          "yanchor": "bottom",
          "yref": "paper"
         },
         {
          "font": {
           "size": 16
          },
          "showarrow": false,
          "text": "gamma",
          "x": 0.225,
          "xanchor": "center",
          "xref": "paper",
          "y": 0.45,
          "yanchor": "bottom",
          "yref": "paper"
         },
         {
          "font": {
           "size": 16
          },
          "showarrow": false,
          "text": "ent_coef",
          "x": 0.775,
          "xanchor": "center",
          "xref": "paper",
          "y": 0.45,
          "yanchor": "bottom",
          "yref": "paper"
         }
        ],
        "height": 800,
        "margin": {
         "b": 30,
         "l": 60,
         "r": 30,
         "t": 30
        },
        "showlegend": false,
        "template": {
         "layout": {
          "colorway": [
           "#002D72",
           "#E2001A",
           "#5A5A5A",
           "#2C74B3",
           "#A1C9F4"
          ],
          "font": {
           "color": "#002D72",
           "family": "Arial, sans-serif",
           "size": 14
          },
          "paper_bgcolor": "white",
          "plot_bgcolor": "white",
          "title": {
           "font": {
            "color": "#002D72",
            "size": 20
           }
          },
          "xaxis": {
           "gridcolor": "#D1D1D1",
           "linecolor": "#002D72",
           "zerolinecolor": "#D1D1D1"
          },
          "yaxis": {
           "gridcolor": "#D1D1D1",
           "linecolor": "#002D72",
           "zerolinecolor": "#D1D1D1"
          }
         }
        },
        "width": 900,
        "xaxis": {
         "anchor": "y",
         "domain": [
          0,
          0.45
         ],
         "nticks": 3,
         "tickformat": ".0e",
         "type": "log"
        },
        "xaxis2": {
         "anchor": "y2",
         "domain": [
          0.55,
          1
         ]
        },
        "xaxis3": {
         "anchor": "y3",
         "domain": [
          0,
          0.45
         ]
        },
        "xaxis4": {
         "anchor": "y4",
         "domain": [
          0.55,
          1
         ]
        },
        "yaxis": {
         "anchor": "x",
         "domain": [
          0.55,
          1
         ],
         "title": {
          "text": "Objective Value"
         }
        },
        "yaxis2": {
         "anchor": "x2",
         "domain": [
          0.55,
          1
         ]
        },
        "yaxis3": {
         "anchor": "x3",
         "domain": [
          0,
          0.45
         ],
         "title": {
          "text": "Objective Value"
         }
        },
        "yaxis4": {
         "anchor": "x4",
         "domain": [
          0,
          0.45
         ]
        }
       }
      }
     },
     "metadata": {},
     "output_type": "display_data"
    }
   ],
   "source": [
    "uic_top_params = ['learning_rate', 'n_steps', 'gamma', 'ent_coef']\n",
    "\n",
    "uic_fig_slice_focused = create_grid_slice_plot(\n",
    "    study=uic_aggregated_study,\n",
    "    top_params=uic_top_params\n",
    ")\n",
    "uic_fig_slice_focused.show()"
   ]
  }
 ],
 "metadata": {
  "kernelspec": {
   "display_name": "py_310_torch_env",
   "language": "python",
   "name": "python3"
  },
  "language_info": {
   "codemirror_mode": {
    "name": "ipython",
    "version": 3
   },
   "file_extension": ".py",
   "mimetype": "text/x-python",
   "name": "python",
   "nbconvert_exporter": "python",
   "pygments_lexer": "ipython3",
   "version": "3.10.16"
  }
 },
 "nbformat": 4,
 "nbformat_minor": 4
}
