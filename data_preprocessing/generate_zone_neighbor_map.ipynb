{
 "cells": [
  {
   "cell_type": "markdown",
   "id": "2fbed4b2",
   "metadata": {},
   "source": [
    "# Generate a Zone Neighbor Map\n",
    "Returns a list one row for each zone (index) and a list with the direct neighbors as the value."
   ]
  },
  {
   "cell_type": "code",
   "execution_count": 35,
   "id": "de5a037b",
   "metadata": {},
   "outputs": [],
   "source": [
    "# imports\n",
    "import pandas as pd\n",
    "import geopandas as gpd\n",
    "import numpy as np\n",
    "import h3"
   ]
  },
  {
   "cell_type": "code",
   "execution_count": 36,
   "id": "c5c00a5f",
   "metadata": {},
   "outputs": [],
   "source": [
    "# constants\n",
    "H3_RESOLUTION = 8\n",
    "INPUT_DATA_PATH = '../processed_data/grid_cells_list.pickle'\n",
    "OUTPUT_DATA_PATH = '../processed_data/grid_cells_neighbors_list.pickle'"
   ]
  },
  {
   "cell_type": "code",
   "execution_count": 37,
   "id": "f26d7bbd",
   "metadata": {},
   "outputs": [
    {
     "data": {
      "text/html": [
       "<div>\n",
       "<style scoped>\n",
       "    .dataframe tbody tr th:only-of-type {\n",
       "        vertical-align: middle;\n",
       "    }\n",
       "\n",
       "    .dataframe tbody tr th {\n",
       "        vertical-align: top;\n",
       "    }\n",
       "\n",
       "    .dataframe thead th {\n",
       "        text-align: right;\n",
       "    }\n",
       "</style>\n",
       "<table border=\"1\" class=\"dataframe\">\n",
       "  <thead>\n",
       "    <tr style=\"text-align: right;\">\n",
       "      <th></th>\n",
       "      <th>grid_index</th>\n",
       "      <th>geometry</th>\n",
       "    </tr>\n",
       "  </thead>\n",
       "  <tbody>\n",
       "    <tr>\n",
       "      <th>0</th>\n",
       "      <td>881faa4485fffff</td>\n",
       "      <td>((48.833396536059425, 9.050864230899897), (48....</td>\n",
       "    </tr>\n",
       "    <tr>\n",
       "      <th>1</th>\n",
       "      <td>881faa4487fffff</td>\n",
       "      <td>((48.83200932584397, 9.062893592658527), (48.8...</td>\n",
       "    </tr>\n",
       "    <tr>\n",
       "      <th>2</th>\n",
       "      <td>881faa4493fffff</td>\n",
       "      <td>((48.84129862635126, 9.10439595805226), (48.83...</td>\n",
       "    </tr>\n",
       "    <tr>\n",
       "      <th>3</th>\n",
       "      <td>881faa4497fffff</td>\n",
       "      <td>((48.83526513835251, 9.095673690358426), (48.8...</td>\n",
       "    </tr>\n",
       "    <tr>\n",
       "      <th>4</th>\n",
       "      <td>881faa44b1fffff</td>\n",
       "      <td>((48.82319564428952, 9.078234669656075), (48.8...</td>\n",
       "    </tr>\n",
       "  </tbody>\n",
       "</table>\n",
       "</div>"
      ],
      "text/plain": [
       "        grid_index                                           geometry\n",
       "0  881faa4485fffff  ((48.833396536059425, 9.050864230899897), (48....\n",
       "1  881faa4487fffff  ((48.83200932584397, 9.062893592658527), (48.8...\n",
       "2  881faa4493fffff  ((48.84129862635126, 9.10439595805226), (48.83...\n",
       "3  881faa4497fffff  ((48.83526513835251, 9.095673690358426), (48.8...\n",
       "4  881faa44b1fffff  ((48.82319564428952, 9.078234669656075), (48.8..."
      ]
     },
     "execution_count": 37,
     "metadata": {},
     "output_type": "execute_result"
    }
   ],
   "source": [
    "df = pd.read_pickle(INPUT_DATA_PATH)\n",
    "df.head()"
   ]
  },
  {
   "cell_type": "code",
   "execution_count": 38,
   "id": "7fe21400",
   "metadata": {},
   "outputs": [
    {
     "data": {
      "text/html": [
       "<div>\n",
       "<style scoped>\n",
       "    .dataframe tbody tr th:only-of-type {\n",
       "        vertical-align: middle;\n",
       "    }\n",
       "\n",
       "    .dataframe tbody tr th {\n",
       "        vertical-align: top;\n",
       "    }\n",
       "\n",
       "    .dataframe thead th {\n",
       "        text-align: right;\n",
       "    }\n",
       "</style>\n",
       "<table border=\"1\" class=\"dataframe\">\n",
       "  <thead>\n",
       "    <tr style=\"text-align: right;\">\n",
       "      <th></th>\n",
       "      <th>grid_index</th>\n",
       "      <th>neighbors</th>\n",
       "    </tr>\n",
       "  </thead>\n",
       "  <tbody>\n",
       "    <tr>\n",
       "      <th>0</th>\n",
       "      <td>881faa4485fffff</td>\n",
       "      <td>[881faa448dfffff, 881faa44e3fffff, 881faa44a9f...</td>\n",
       "    </tr>\n",
       "    <tr>\n",
       "      <th>1</th>\n",
       "      <td>881faa4487fffff</td>\n",
       "      <td>[881faa4481fffff, 881faa4485fffff, 881faa44abf...</td>\n",
       "    </tr>\n",
       "    <tr>\n",
       "      <th>2</th>\n",
       "      <td>881faa4493fffff</td>\n",
       "      <td>[881faa449bfffff, 881faa4491fffff, 881faa4497f...</td>\n",
       "    </tr>\n",
       "    <tr>\n",
       "      <th>3</th>\n",
       "      <td>881faa4497fffff</td>\n",
       "      <td>[881faa4491fffff, 881faa4495fffff, 881faa44bbf...</td>\n",
       "    </tr>\n",
       "    <tr>\n",
       "      <th>4</th>\n",
       "      <td>881faa44b1fffff</td>\n",
       "      <td>[881faa44b9fffff, 881faa44bdfffff, 881faa44b5f...</td>\n",
       "    </tr>\n",
       "  </tbody>\n",
       "</table>\n",
       "</div>"
      ],
      "text/plain": [
       "        grid_index                                          neighbors\n",
       "0  881faa4485fffff  [881faa448dfffff, 881faa44e3fffff, 881faa44a9f...\n",
       "1  881faa4487fffff  [881faa4481fffff, 881faa4485fffff, 881faa44abf...\n",
       "2  881faa4493fffff  [881faa449bfffff, 881faa4491fffff, 881faa4497f...\n",
       "3  881faa4497fffff  [881faa4491fffff, 881faa4495fffff, 881faa44bbf...\n",
       "4  881faa44b1fffff  [881faa44b9fffff, 881faa44bdfffff, 881faa44b5f..."
      ]
     },
     "execution_count": 38,
     "metadata": {},
     "output_type": "execute_result"
    }
   ],
   "source": [
    "df['neighbors'] = df['grid_index'].apply(\n",
    "    lambda x: h3.grid_ring(x, 1)\n",
    ")\n",
    "df.drop(columns=['geometry'], inplace=True)\n",
    "df.head()"
   ]
  },
  {
   "cell_type": "code",
   "execution_count": 39,
   "id": "c756690e",
   "metadata": {},
   "outputs": [],
   "source": [
    "# save the dataframe to a pickle file\n",
    "df.to_pickle(OUTPUT_DATA_PATH)"
   ]
  }
 ],
 "metadata": {
  "kernelspec": {
   "display_name": "py_310_torch_env",
   "language": "python",
   "name": "python3"
  },
  "language_info": {
   "codemirror_mode": {
    "name": "ipython",
    "version": 3
   },
   "file_extension": ".py",
   "mimetype": "text/x-python",
   "name": "python",
   "nbconvert_exporter": "python",
   "pygments_lexer": "ipython3",
   "version": "3.10.16"
  }
 },
 "nbformat": 4,
 "nbformat_minor": 5
}
