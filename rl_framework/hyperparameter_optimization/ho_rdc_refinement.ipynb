{
 "cells": [
  {
   "cell_type": "code",
   "execution_count": 1,
   "id": "fd070d68",
   "metadata": {},
   "outputs": [],
   "source": [
    "import pandas as pd\n",
    "from pandas.api.types import is_numeric_dtype"
   ]
  },
  {
   "cell_type": "code",
   "execution_count": 2,
   "id": "60622eca",
   "metadata": {},
   "outputs": [],
   "source": [
    "# first round\n",
    "first_round_lr_file = \"../../ho_results/rdc_ho_learningrate_20250704-083610_final.pickle\"\n",
    "first_round_exploration_file = \"../../ho_results/rdc_ho_exploration_20250707-074432_final.pickle\"\n",
    "first_round_architecture_file = \"../../ho_results/rdc_ho_architecture_20250706-120351_final.pickle\"\n",
    "first_round_replay_buffer_file = \"../../ho_results/rdc_ho_replaybuffer_20250705-153041_final.pickle\"\n",
    "first_round_reward_weights_file = \"../../ho_results/rdc_ho_rewardweights_20250707-202017_final.pickle\"\n",
    "\n",
    "# second round\n",
    "second_round_lr_file = \"../../ho_results/rdc_ho_learningrate_20250708-081844_final.pickle\"\n",
    "second_round_exploration_file = \"../../ho_results/rdc_ho_exploration_20250709-204731_final.pickle\"\n",
    "second_round_architecture_file = \"../../ho_results/rdc_ho_architecture_20250709-071406_final.pickle\"\n",
    "second_round_replay_buffer_file = \"../../ho_results/rdc_ho_replaybuffer_20250708-200649_final.pickle\"\n",
    "second_round_reward_weights_file = \"../../ho_results/rdc_ho_rewardweights_20250710-112452_final.pickle\""
   ]
  },
  {
   "cell_type": "code",
   "execution_count": 3,
   "id": "ebe85516",
   "metadata": {},
   "outputs": [],
   "source": [
    "first_round_lr = pd.read_pickle(first_round_lr_file)\n",
    "first_round_architecture = pd.read_pickle(first_round_architecture_file)\n",
    "first_round_exploration = pd.read_pickle(first_round_exploration_file)\n",
    "first_round_replay_buffer = pd.read_pickle(first_round_replay_buffer_file)\n",
    "first_round_reward_weights = pd.read_pickle(first_round_reward_weights_file)"
   ]
  },
  {
   "cell_type": "code",
   "execution_count": 4,
   "id": "9ee81bde",
   "metadata": {},
   "outputs": [],
   "source": [
    "second_round_lr = pd.read_pickle(second_round_lr_file)\n",
    "second_round_architecture = pd.read_pickle(second_round_architecture_file)\n",
    "second_round_exploration = pd.read_pickle(second_round_exploration_file)\n",
    "second_round_replay_buffer = pd.read_pickle(second_round_replay_buffer_file)\n",
    "second_round_reward_weights = pd.read_pickle(second_round_reward_weights_file)"
   ]
  },
  {
   "cell_type": "code",
   "execution_count": 5,
   "id": "74d3b88d",
   "metadata": {},
   "outputs": [
    {
     "data": {
      "text/html": [
       "<div>\n",
       "<style scoped>\n",
       "    .dataframe tbody tr th:only-of-type {\n",
       "        vertical-align: middle;\n",
       "    }\n",
       "\n",
       "    .dataframe tbody tr th {\n",
       "        vertical-align: top;\n",
       "    }\n",
       "\n",
       "    .dataframe thead th {\n",
       "        text-align: right;\n",
       "    }\n",
       "</style>\n",
       "<table border=\"1\" class=\"dataframe\">\n",
       "  <thead>\n",
       "    <tr style=\"text-align: right;\">\n",
       "      <th></th>\n",
       "      <th>number</th>\n",
       "      <th>params_rdc_gamma</th>\n",
       "      <th>params_rdc_lr</th>\n",
       "      <th>params_rdc_lr_gamma</th>\n",
       "      <th>params_rdc_lr_step_size</th>\n",
       "      <th>value</th>\n",
       "      <th>datetime_start</th>\n",
       "      <th>duration</th>\n",
       "    </tr>\n",
       "  </thead>\n",
       "  <tbody>\n",
       "    <tr>\n",
       "      <th>0</th>\n",
       "      <td>0</td>\n",
       "      <td>0.98</td>\n",
       "      <td>0.000126</td>\n",
       "      <td>0.93</td>\n",
       "      <td>2500</td>\n",
       "      <td>94.871165</td>\n",
       "      <td>2025-07-04 08:36:11.063451</td>\n",
       "      <td>0 days 01:11:35.545510</td>\n",
       "    </tr>\n",
       "    <tr>\n",
       "      <th>1</th>\n",
       "      <td>1</td>\n",
       "      <td>0.95</td>\n",
       "      <td>0.000002</td>\n",
       "      <td>0.98</td>\n",
       "      <td>1500</td>\n",
       "      <td>97.260013</td>\n",
       "      <td>2025-07-04 08:36:11.065447</td>\n",
       "      <td>0 days 01:04:38.181229</td>\n",
       "    </tr>\n",
       "    <tr>\n",
       "      <th>2</th>\n",
       "      <td>2</td>\n",
       "      <td>0.98</td>\n",
       "      <td>0.000016</td>\n",
       "      <td>0.93</td>\n",
       "      <td>500</td>\n",
       "      <td>91.576332</td>\n",
       "      <td>2025-07-04 08:36:11.068118</td>\n",
       "      <td>0 days 01:06:47.324733</td>\n",
       "    </tr>\n",
       "    <tr>\n",
       "      <th>3</th>\n",
       "      <td>3</td>\n",
       "      <td>0.90</td>\n",
       "      <td>0.000017</td>\n",
       "      <td>0.98</td>\n",
       "      <td>500</td>\n",
       "      <td>95.528275</td>\n",
       "      <td>2025-07-04 08:36:11.070628</td>\n",
       "      <td>0 days 01:07:41.901750</td>\n",
       "    </tr>\n",
       "    <tr>\n",
       "      <th>4</th>\n",
       "      <td>4</td>\n",
       "      <td>0.91</td>\n",
       "      <td>0.000219</td>\n",
       "      <td>0.96</td>\n",
       "      <td>500</td>\n",
       "      <td>90.889619</td>\n",
       "      <td>2025-07-04 08:36:11.073899</td>\n",
       "      <td>0 days 01:09:34.605880</td>\n",
       "    </tr>\n",
       "  </tbody>\n",
       "</table>\n",
       "</div>"
      ],
      "text/plain": [
       "   number  params_rdc_gamma  params_rdc_lr  params_rdc_lr_gamma  \\\n",
       "0       0              0.98       0.000126                 0.93   \n",
       "1       1              0.95       0.000002                 0.98   \n",
       "2       2              0.98       0.000016                 0.93   \n",
       "3       3              0.90       0.000017                 0.98   \n",
       "4       4              0.91       0.000219                 0.96   \n",
       "\n",
       "   params_rdc_lr_step_size      value             datetime_start  \\\n",
       "0                     2500  94.871165 2025-07-04 08:36:11.063451   \n",
       "1                     1500  97.260013 2025-07-04 08:36:11.065447   \n",
       "2                      500  91.576332 2025-07-04 08:36:11.068118   \n",
       "3                      500  95.528275 2025-07-04 08:36:11.070628   \n",
       "4                      500  90.889619 2025-07-04 08:36:11.073899   \n",
       "\n",
       "                duration  \n",
       "0 0 days 01:11:35.545510  \n",
       "1 0 days 01:04:38.181229  \n",
       "2 0 days 01:06:47.324733  \n",
       "3 0 days 01:07:41.901750  \n",
       "4 0 days 01:09:34.605880  "
      ]
     },
     "execution_count": 5,
     "metadata": {},
     "output_type": "execute_result"
    }
   ],
   "source": [
    "first_round_lr.head()"
   ]
  },
  {
   "cell_type": "code",
   "execution_count": 6,
   "id": "51144396",
   "metadata": {},
   "outputs": [],
   "source": [
    "def extract_new_bounds(df: pd.DataFrame, top_n=5, slack=0.1):\n",
    "    df = df.sort_values(\"value\", ascending=False)\n",
    "\n",
    "    topN = df.head(top_n)\n",
    "\n",
    "    new_bounds = {}\n",
    "    params = df.columns\n",
    "    params = params.drop([\"number\", \"value\", \"datetime_start\", \"duration\"])\n",
    "    for param in params:\n",
    "        print(f\"Top N values: {topN[param].value_counts()}\")\n",
    "        if not is_numeric_dtype(topN[param]):\n",
    "            print(f\"Skipping parameter '{param}' as it is of type string.\")\n",
    "            print(f\"Top N values: {topN[param].value_counts()}\")\n",
    "            continue\n",
    "        mn = float(topN[param].min())\n",
    "        mx = float(topN[param].max())\n",
    "        span = mx - mn\n",
    "\n",
    "        new_bounds[param] = (\n",
    "            max(0.0, mn - slack*span),\n",
    "            mx + slack*span\n",
    "        )\n",
    "\n",
    "    return new_bounds"
   ]
  },
  {
   "cell_type": "code",
   "execution_count": 7,
   "id": "9a0da826",
   "metadata": {},
   "outputs": [
    {
     "name": "stdout",
     "output_type": "stream",
     "text": [
      "Top N values: params_rdc_gamma\n",
      "0.96    3\n",
      "0.99    3\n",
      "0.98    2\n",
      "0.97    1\n",
      "0.94    1\n",
      "Name: count, dtype: int64\n",
      "Top N values: params_rdc_lr\n",
      "0.000002    1\n",
      "0.000002    1\n",
      "0.000010    1\n",
      "0.000005    1\n",
      "0.000010    1\n",
      "0.000011    1\n",
      "0.000009    1\n",
      "0.000006    1\n",
      "0.000048    1\n",
      "0.000007    1\n",
      "Name: count, dtype: int64\n",
      "Top N values: params_rdc_lr_gamma\n",
      "0.97    3\n",
      "0.94    2\n",
      "0.96    2\n",
      "0.92    2\n",
      "0.93    1\n",
      "Name: count, dtype: int64\n",
      "Top N values: params_rdc_lr_step_size\n",
      "3000    5\n",
      "2500    4\n",
      "2000    1\n",
      "Name: count, dtype: int64\n"
     ]
    },
    {
     "data": {
      "text/plain": [
       "{'params_rdc_gamma': (0.93, 1.0),\n",
       " 'params_rdc_lr': (0.0, 5.731865945184508e-05),\n",
       " 'params_rdc_lr_gamma': (0.91, 0.98),\n",
       " 'params_rdc_lr_step_size': (1800.0, 3200.0)}"
      ]
     },
     "execution_count": 7,
     "metadata": {},
     "output_type": "execute_result"
    }
   ],
   "source": [
    "second_round_lr_bounds = extract_new_bounds(\n",
    "    first_round_lr,\n",
    "    top_n=10,\n",
    "    slack=0.2\n",
    ")\n",
    "second_round_lr_bounds"
   ]
  },
  {
   "cell_type": "code",
   "execution_count": 8,
   "id": "16b2193a",
   "metadata": {},
   "outputs": [
    {
     "name": "stdout",
     "output_type": "stream",
     "text": [
      "Top N values: params_rdc_batch_size\n",
      "256    6\n",
      "128    2\n",
      "64     1\n",
      "512    1\n",
      "Name: count, dtype: int64\n",
      "Top N values: params_rdc_hidden_dim\n",
      "256    6\n",
      "512    2\n",
      "128    1\n",
      "64     1\n",
      "Name: count, dtype: int64\n"
     ]
    },
    {
     "data": {
      "text/plain": [
       "{'params_rdc_batch_size': (0.0, 601.6), 'params_rdc_hidden_dim': (0.0, 601.6)}"
      ]
     },
     "execution_count": 8,
     "metadata": {},
     "output_type": "execute_result"
    }
   ],
   "source": [
    "second_round_architecture_bounds = extract_new_bounds(\n",
    "    first_round_architecture,\n",
    "    top_n=10,\n",
    "    slack=0.2\n",
    ")\n",
    "second_round_architecture_bounds"
   ]
  },
  {
   "cell_type": "code",
   "execution_count": 9,
   "id": "ee432860",
   "metadata": {},
   "outputs": [
    {
     "name": "stdout",
     "output_type": "stream",
     "text": [
      "Top N values: params_rdc_epsilon_decay\n",
      "0.999    2\n",
      "0.994    2\n",
      "0.990    2\n",
      "0.992    1\n",
      "0.997    1\n",
      "0.995    1\n",
      "0.991    1\n",
      "Name: count, dtype: int64\n",
      "Top N values: params_rdc_epsilon_end\n",
      "0.05    2\n",
      "0.08    2\n",
      "0.17    1\n",
      "0.11    1\n",
      "0.06    1\n",
      "0.10    1\n",
      "0.02    1\n",
      "0.15    1\n",
      "Name: count, dtype: int64\n"
     ]
    },
    {
     "data": {
      "text/plain": [
       "{'params_rdc_epsilon_decay': (0.9882, 1.0008),\n",
       " 'params_rdc_epsilon_end': (0.0, 0.19999999999999998)}"
      ]
     },
     "execution_count": 9,
     "metadata": {},
     "output_type": "execute_result"
    }
   ],
   "source": [
    "second_round_exploration_bounds = extract_new_bounds(\n",
    "    first_round_exploration,\n",
    "    top_n=10,\n",
    "    slack=0.2\n",
    ")\n",
    "second_round_exploration_bounds"
   ]
  },
  {
   "cell_type": "code",
   "execution_count": 10,
   "id": "69de3dbb",
   "metadata": {},
   "outputs": [
    {
     "name": "stdout",
     "output_type": "stream",
     "text": [
      "Top N values: params_rdc_replay_buffer_alpha\n",
      "0.4    5\n",
      "0.3    3\n",
      "0.5    1\n",
      "0.8    1\n",
      "Name: count, dtype: int64\n",
      "Top N values: params_rdc_replay_buffer_beta_frames\n",
      "200000    4\n",
      "50000     2\n",
      "150000    2\n",
      "100000    2\n",
      "Name: count, dtype: int64\n",
      "Top N values: params_rdc_replay_buffer_beta_start\n",
      "0.6    5\n",
      "0.5    4\n",
      "0.2    1\n",
      "Name: count, dtype: int64\n",
      "Top N values: params_rdc_replay_buffer_capacity\n",
      "5000     6\n",
      "15000    3\n",
      "20000    1\n",
      "Name: count, dtype: int64\n",
      "Top N values: params_rdc_tau\n",
      "0.006    3\n",
      "0.007    2\n",
      "0.008    2\n",
      "0.004    1\n",
      "0.009    1\n",
      "0.005    1\n",
      "Name: count, dtype: int64\n"
     ]
    },
    {
     "data": {
      "text/plain": [
       "{'params_rdc_replay_buffer_alpha': (0.19999999999999998, 0.9),\n",
       " 'params_rdc_replay_buffer_beta_frames': (20000.0, 230000.0),\n",
       " 'params_rdc_replay_buffer_beta_start': (0.12000000000000001,\n",
       "  0.6799999999999999),\n",
       " 'params_rdc_replay_buffer_capacity': (2000.0, 23000.0),\n",
       " 'params_rdc_tau': (0.003, 0.010000000000000002)}"
      ]
     },
     "execution_count": 10,
     "metadata": {},
     "output_type": "execute_result"
    }
   ],
   "source": [
    "second_round_replay_buffer_bounds = extract_new_bounds(\n",
    "    first_round_replay_buffer,\n",
    "    top_n=10,\n",
    "    slack=0.2\n",
    ")\n",
    "second_round_replay_buffer_bounds"
   ]
  },
  {
   "cell_type": "code",
   "execution_count": 11,
   "id": "ebafe42c",
   "metadata": {},
   "outputs": [
    {
     "name": "stdout",
     "output_type": "stream",
     "text": [
      "Top N values: params_rdc_reward_weight_demand\n",
      "0.3    4\n",
      "0.2    4\n",
      "0.8    1\n",
      "1.5    1\n",
      "Name: count, dtype: int64\n",
      "Top N values: params_rdc_reward_weight_gini\n",
      "0.0    10\n",
      "Name: count, dtype: int64\n",
      "Top N values: params_rdc_reward_weight_rebalancing\n",
      "0.9    4\n",
      "2.0    1\n",
      "0.7    1\n",
      "0.6    1\n",
      "1.6    1\n",
      "1.0    1\n",
      "0.8    1\n",
      "Name: count, dtype: int64\n"
     ]
    },
    {
     "data": {
      "text/plain": [
       "{'params_rdc_reward_weight_demand': (0.0, 1.76),\n",
       " 'params_rdc_reward_weight_gini': (0.0, 0.0),\n",
       " 'params_rdc_reward_weight_rebalancing': (0.3200000000000001, 2.28)}"
      ]
     },
     "execution_count": 11,
     "metadata": {},
     "output_type": "execute_result"
    }
   ],
   "source": [
    "second_round_reward_weights_bounds = extract_new_bounds(\n",
    "    first_round_reward_weights,\n",
    "    top_n=10,\n",
    "    slack=0.2\n",
    ")\n",
    "second_round_reward_weights_bounds"
   ]
  },
  {
   "cell_type": "code",
   "execution_count": 12,
   "id": "dc4e92a1",
   "metadata": {},
   "outputs": [
    {
     "data": {
      "text/html": [
       "<div>\n",
       "<style scoped>\n",
       "    .dataframe tbody tr th:only-of-type {\n",
       "        vertical-align: middle;\n",
       "    }\n",
       "\n",
       "    .dataframe tbody tr th {\n",
       "        vertical-align: top;\n",
       "    }\n",
       "\n",
       "    .dataframe thead th {\n",
       "        text-align: right;\n",
       "    }\n",
       "</style>\n",
       "<table border=\"1\" class=\"dataframe\">\n",
       "  <thead>\n",
       "    <tr style=\"text-align: right;\">\n",
       "      <th></th>\n",
       "      <th>number</th>\n",
       "      <th>params_rdc_reward_weight_demand</th>\n",
       "      <th>params_rdc_reward_weight_gini</th>\n",
       "      <th>params_rdc_reward_weight_rebalancing</th>\n",
       "      <th>value</th>\n",
       "      <th>datetime_start</th>\n",
       "      <th>duration</th>\n",
       "    </tr>\n",
       "  </thead>\n",
       "  <tbody>\n",
       "    <tr>\n",
       "      <th>48</th>\n",
       "      <td>48</td>\n",
       "      <td>0.3</td>\n",
       "      <td>0.0</td>\n",
       "      <td>2.0</td>\n",
       "      <td>98.788562</td>\n",
       "      <td>2025-07-08 06:39:25.519081</td>\n",
       "      <td>0 days 00:57:52.263727</td>\n",
       "    </tr>\n",
       "    <tr>\n",
       "      <th>16</th>\n",
       "      <td>16</td>\n",
       "      <td>0.2</td>\n",
       "      <td>0.0</td>\n",
       "      <td>0.7</td>\n",
       "      <td>98.708349</td>\n",
       "      <td>2025-07-07 23:41:04.500940</td>\n",
       "      <td>0 days 01:07:20.908051</td>\n",
       "    </tr>\n",
       "    <tr>\n",
       "      <th>39</th>\n",
       "      <td>39</td>\n",
       "      <td>0.3</td>\n",
       "      <td>0.0</td>\n",
       "      <td>0.9</td>\n",
       "      <td>98.679879</td>\n",
       "      <td>2025-07-08 04:31:08.363082</td>\n",
       "      <td>0 days 01:09:54.101399</td>\n",
       "    </tr>\n",
       "    <tr>\n",
       "      <th>35</th>\n",
       "      <td>35</td>\n",
       "      <td>0.3</td>\n",
       "      <td>0.0</td>\n",
       "      <td>0.6</td>\n",
       "      <td>98.664284</td>\n",
       "      <td>2025-07-08 04:03:23.109113</td>\n",
       "      <td>0 days 01:06:54.568030</td>\n",
       "    </tr>\n",
       "    <tr>\n",
       "      <th>14</th>\n",
       "      <td>14</td>\n",
       "      <td>0.2</td>\n",
       "      <td>0.0</td>\n",
       "      <td>0.9</td>\n",
       "      <td>98.606539</td>\n",
       "      <td>2025-07-07 22:42:11.708084</td>\n",
       "      <td>0 days 01:09:41.879130</td>\n",
       "    </tr>\n",
       "  </tbody>\n",
       "</table>\n",
       "</div>"
      ],
      "text/plain": [
       "    number  params_rdc_reward_weight_demand  params_rdc_reward_weight_gini  \\\n",
       "48      48                              0.3                            0.0   \n",
       "16      16                              0.2                            0.0   \n",
       "39      39                              0.3                            0.0   \n",
       "35      35                              0.3                            0.0   \n",
       "14      14                              0.2                            0.0   \n",
       "\n",
       "    params_rdc_reward_weight_rebalancing      value  \\\n",
       "48                                   2.0  98.788562   \n",
       "16                                   0.7  98.708349   \n",
       "39                                   0.9  98.679879   \n",
       "35                                   0.6  98.664284   \n",
       "14                                   0.9  98.606539   \n",
       "\n",
       "               datetime_start               duration  \n",
       "48 2025-07-08 06:39:25.519081 0 days 00:57:52.263727  \n",
       "16 2025-07-07 23:41:04.500940 0 days 01:07:20.908051  \n",
       "39 2025-07-08 04:31:08.363082 0 days 01:09:54.101399  \n",
       "35 2025-07-08 04:03:23.109113 0 days 01:06:54.568030  \n",
       "14 2025-07-07 22:42:11.708084 0 days 01:09:41.879130  "
      ]
     },
     "execution_count": 12,
     "metadata": {},
     "output_type": "execute_result"
    }
   ],
   "source": [
    "first_round_reward_weights.sort_values(\"value\", ascending=False).head()"
   ]
  },
  {
   "cell_type": "code",
   "execution_count": 13,
   "id": "f667586a",
   "metadata": {},
   "outputs": [
    {
     "name": "stdout",
     "output_type": "stream",
     "text": [
      "Top N values: params_rdc_gamma\n",
      "0.99    4\n",
      "0.98    1\n",
      "Name: count, dtype: int64\n",
      "Top N values: params_rdc_lr\n",
      "0.000003    1\n",
      "0.000001    1\n",
      "0.000008    1\n",
      "0.000001    1\n",
      "0.000004    1\n",
      "Name: count, dtype: int64\n",
      "Top N values: params_rdc_lr_gamma\n",
      "0.95    3\n",
      "0.93    1\n",
      "0.92    1\n",
      "Name: count, dtype: int64\n",
      "Top N values: params_rdc_lr_step_size\n",
      "2800    2\n",
      "3000    1\n",
      "2200    1\n",
      "3200    1\n",
      "Name: count, dtype: int64\n"
     ]
    },
    {
     "data": {
      "text/plain": [
       "{'params_rdc_gamma': (0.9790000000000001, 0.991),\n",
       " 'params_rdc_lr': (3.9896904636627405e-07, 8.318892467996226e-06),\n",
       " 'params_rdc_lr_gamma': (0.917, 0.9530000000000001),\n",
       " 'params_rdc_lr_step_size': (2100.0, 3300.0)}"
      ]
     },
     "execution_count": 13,
     "metadata": {},
     "output_type": "execute_result"
    }
   ],
   "source": [
    "final_round_lr_bounds = extract_new_bounds(\n",
    "    second_round_lr,\n",
    "    top_n=5,\n",
    "    slack=0.1\n",
    ")\n",
    "final_round_lr_bounds"
   ]
  },
  {
   "cell_type": "code",
   "execution_count": 14,
   "id": "8d947e31",
   "metadata": {},
   "outputs": [
    {
     "name": "stdout",
     "output_type": "stream",
     "text": [
      "Top N values: params_rdc_batch_size\n",
      "128    3\n",
      "512    2\n",
      "Name: count, dtype: int64\n",
      "Top N values: params_rdc_hidden_dim\n",
      "256    3\n",
      "128    2\n",
      "Name: count, dtype: int64\n"
     ]
    },
    {
     "data": {
      "text/plain": [
       "{'params_rdc_batch_size': (89.6, 550.4),\n",
       " 'params_rdc_hidden_dim': (115.2, 268.8)}"
      ]
     },
     "execution_count": 14,
     "metadata": {},
     "output_type": "execute_result"
    }
   ],
   "source": [
    "final_round_architecture_bounds = extract_new_bounds(\n",
    "    second_round_architecture,\n",
    "    top_n=5,\n",
    "    slack=0.1\n",
    ")\n",
    "final_round_architecture_bounds"
   ]
  },
  {
   "cell_type": "code",
   "execution_count": 15,
   "id": "ddc546fe",
   "metadata": {},
   "outputs": [
    {
     "name": "stdout",
     "output_type": "stream",
     "text": [
      "Top N values: params_rdc_epsilon_decay\n",
      "0.996    2\n",
      "0.992    1\n",
      "0.998    1\n",
      "0.999    1\n",
      "Name: count, dtype: int64\n",
      "Top N values: params_rdc_epsilon_end\n",
      "0.05    2\n",
      "0.06    1\n",
      "0.07    1\n",
      "0.08    1\n",
      "Name: count, dtype: int64\n"
     ]
    },
    {
     "data": {
      "text/plain": [
       "{'params_rdc_epsilon_decay': (0.9913, 0.9997),\n",
       " 'params_rdc_epsilon_end': (0.047, 0.083)}"
      ]
     },
     "execution_count": 15,
     "metadata": {},
     "output_type": "execute_result"
    }
   ],
   "source": [
    "final_round_exploration_bounds = extract_new_bounds(\n",
    "    second_round_exploration,\n",
    "    top_n=5,\n",
    "    slack=0.1\n",
    ")\n",
    "final_round_exploration_bounds"
   ]
  },
  {
   "cell_type": "code",
   "execution_count": 16,
   "id": "b11fe4eb",
   "metadata": {},
   "outputs": [
    {
     "name": "stdout",
     "output_type": "stream",
     "text": [
      "Top N values: params_rdc_replay_buffer_alpha\n",
      "0.8    3\n",
      "0.7    1\n",
      "0.9    1\n",
      "Name: count, dtype: int64\n",
      "Top N values: params_rdc_replay_buffer_beta_frames\n",
      "80000     1\n",
      "50000     1\n",
      "30000     1\n",
      "200000    1\n",
      "20000     1\n",
      "Name: count, dtype: int64\n",
      "Top N values: params_rdc_replay_buffer_beta_start\n",
      "0.3    2\n",
      "0.2    2\n",
      "0.5    1\n",
      "Name: count, dtype: int64\n",
      "Top N values: params_rdc_replay_buffer_capacity\n",
      "10000    2\n",
      "3000     1\n",
      "6000     1\n",
      "2000     1\n",
      "Name: count, dtype: int64\n",
      "Top N values: params_rdc_tau\n",
      "0.010    3\n",
      "0.008    1\n",
      "0.009    1\n",
      "Name: count, dtype: int64\n"
     ]
    },
    {
     "data": {
      "text/plain": [
       "{'params_rdc_replay_buffer_alpha': (0.6799999999999999, 0.92),\n",
       " 'params_rdc_replay_buffer_beta_frames': (2000.0, 218000.0),\n",
       " 'params_rdc_replay_buffer_beta_start': (0.17, 0.53),\n",
       " 'params_rdc_replay_buffer_capacity': (1200.0, 10800.0),\n",
       " 'params_rdc_tau': (0.0078000000000000005, 0.0102)}"
      ]
     },
     "execution_count": 16,
     "metadata": {},
     "output_type": "execute_result"
    }
   ],
   "source": [
    "final_round_replay_buffer_bounds = extract_new_bounds(\n",
    "    second_round_replay_buffer,\n",
    "    top_n=5,\n",
    "    slack=0.1\n",
    ")\n",
    "final_round_replay_buffer_bounds"
   ]
  },
  {
   "cell_type": "code",
   "execution_count": 17,
   "id": "d173e27b",
   "metadata": {},
   "outputs": [
    {
     "name": "stdout",
     "output_type": "stream",
     "text": [
      "Top N values: params_rdc_reward_weight_demand\n",
      "0.2    4\n",
      "0.3    1\n",
      "Name: count, dtype: int64\n",
      "Top N values: params_rdc_reward_weight_gini\n",
      "0.05    5\n",
      "Name: count, dtype: int64\n",
      "Top N values: params_rdc_reward_weight_rebalancing\n",
      "2.1    1\n",
      "1.9    1\n",
      "1.6    1\n",
      "2.0    1\n",
      "1.4    1\n",
      "Name: count, dtype: int64\n"
     ]
    },
    {
     "data": {
      "text/plain": [
       "{'params_rdc_reward_weight_demand': (0.19, 0.31000000000000005),\n",
       " 'params_rdc_reward_weight_gini': (0.05, 0.05),\n",
       " 'params_rdc_reward_weight_rebalancing': (1.3299999999999998, 2.17)}"
      ]
     },
     "execution_count": 17,
     "metadata": {},
     "output_type": "execute_result"
    }
   ],
   "source": [
    "final_round_reward_weights_bounds = extract_new_bounds(\n",
    "    second_round_reward_weights,\n",
    "    top_n=5,\n",
    "    slack=0.1\n",
    ")\n",
    "final_round_reward_weights_bounds"
   ]
  }
 ],
 "metadata": {
  "kernelspec": {
   "display_name": "py_310_torch_env",
   "language": "python",
   "name": "python3"
  },
  "language_info": {
   "codemirror_mode": {
    "name": "ipython",
    "version": 3
   },
   "file_extension": ".py",
   "mimetype": "text/x-python",
   "name": "python",
   "nbconvert_exporter": "python",
   "pygments_lexer": "ipython3",
   "version": "3.10.16"
  }
 },
 "nbformat": 4,
 "nbformat_minor": 5
}
