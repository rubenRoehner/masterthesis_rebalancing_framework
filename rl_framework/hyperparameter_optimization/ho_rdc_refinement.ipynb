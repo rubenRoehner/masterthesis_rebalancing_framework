{
 "cells": [
  {
   "cell_type": "code",
   "execution_count": 1,
   "id": "fd070d68",
   "metadata": {},
   "outputs": [],
   "source": [
    "import pandas as pd\n",
    "from pandas.api.types import is_numeric_dtype"
   ]
  },
  {
   "cell_type": "code",
   "execution_count": 2,
   "id": "60622eca",
   "metadata": {},
   "outputs": [],
   "source": [
    "# first round\n",
    "first_round_lr_file = \"../../ho_results/rdc_ho_learningrate_20250730-095559_final.pickle\"\n",
    "first_round_exploration_file = \"../../ho_results/rdc_ho_exploration_20250730-095800_final.pickle\"\n",
    "first_round_architecture_file = \"../../ho_results/rdc_ho_architecture_20250730-095643_final.pickle\"\n",
    "first_round_replay_buffer_file = \"../../ho_results/rdc_ho_replaybuffer_20250730-095727_final.pickle\"\n",
    "\n",
    "# second round\n",
    "second_round_lr_file = \"../../ho_results/rdc_ho_learningrate_20250726-094043_final.pickle\"\n",
    "second_round_exploration_file = \"../../ho_results/rdc_ho_exploration_20250726-094246_final.pickle\"\n",
    "second_round_architecture_file = \"../../ho_results/rdc_ho_architecture_20250726-094115_final.pickle\"\n",
    "second_round_replay_buffer_file = \"../../ho_results/rdc_ho_replaybuffer_20250726-094148_final.pickle\""
   ]
  },
  {
   "cell_type": "code",
   "execution_count": 3,
   "id": "ebe85516",
   "metadata": {},
   "outputs": [],
   "source": [
    "first_round_lr = pd.read_pickle(first_round_lr_file)\n",
    "first_round_architecture = pd.read_pickle(first_round_architecture_file)\n",
    "first_round_exploration = pd.read_pickle(first_round_exploration_file)\n",
    "first_round_replay_buffer = pd.read_pickle(first_round_replay_buffer_file)"
   ]
  },
  {
   "cell_type": "code",
   "execution_count": 4,
   "id": "9ee81bde",
   "metadata": {},
   "outputs": [],
   "source": [
    "second_round_lr = pd.read_pickle(second_round_lr_file)\n",
    "second_round_architecture = pd.read_pickle(second_round_architecture_file)\n",
    "second_round_exploration = pd.read_pickle(second_round_exploration_file)\n",
    "second_round_replay_buffer = pd.read_pickle(second_round_replay_buffer_file)"
   ]
  },
  {
   "cell_type": "code",
   "execution_count": 5,
   "id": "74d3b88d",
   "metadata": {},
   "outputs": [
    {
     "data": {
      "text/html": [
       "<div>\n",
       "<style scoped>\n",
       "    .dataframe tbody tr th:only-of-type {\n",
       "        vertical-align: middle;\n",
       "    }\n",
       "\n",
       "    .dataframe tbody tr th {\n",
       "        vertical-align: top;\n",
       "    }\n",
       "\n",
       "    .dataframe thead th {\n",
       "        text-align: right;\n",
       "    }\n",
       "</style>\n",
       "<table border=\"1\" class=\"dataframe\">\n",
       "  <thead>\n",
       "    <tr style=\"text-align: right;\">\n",
       "      <th></th>\n",
       "      <th>number</th>\n",
       "      <th>params_rdc_gamma</th>\n",
       "      <th>params_rdc_lr</th>\n",
       "      <th>params_rdc_lr_gamma</th>\n",
       "      <th>params_rdc_lr_step_size</th>\n",
       "      <th>value</th>\n",
       "      <th>datetime_start</th>\n",
       "      <th>duration</th>\n",
       "    </tr>\n",
       "  </thead>\n",
       "  <tbody>\n",
       "    <tr>\n",
       "      <th>0</th>\n",
       "      <td>0</td>\n",
       "      <td>0.90</td>\n",
       "      <td>0.000001</td>\n",
       "      <td>0.87</td>\n",
       "      <td>3250</td>\n",
       "      <td>77.661561</td>\n",
       "      <td>2025-07-30 09:55:59.345913</td>\n",
       "      <td>0 days 00:37:35.949596</td>\n",
       "    </tr>\n",
       "    <tr>\n",
       "      <th>1</th>\n",
       "      <td>1</td>\n",
       "      <td>0.90</td>\n",
       "      <td>0.000005</td>\n",
       "      <td>0.83</td>\n",
       "      <td>2750</td>\n",
       "      <td>78.267392</td>\n",
       "      <td>2025-07-30 09:55:59.347575</td>\n",
       "      <td>0 days 00:35:42.244834</td>\n",
       "    </tr>\n",
       "    <tr>\n",
       "      <th>2</th>\n",
       "      <td>2</td>\n",
       "      <td>0.99</td>\n",
       "      <td>0.000010</td>\n",
       "      <td>0.61</td>\n",
       "      <td>3250</td>\n",
       "      <td>78.031070</td>\n",
       "      <td>2025-07-30 09:55:59.351069</td>\n",
       "      <td>0 days 00:39:25.995437</td>\n",
       "    </tr>\n",
       "    <tr>\n",
       "      <th>3</th>\n",
       "      <td>3</td>\n",
       "      <td>0.93</td>\n",
       "      <td>0.000001</td>\n",
       "      <td>0.84</td>\n",
       "      <td>2750</td>\n",
       "      <td>78.060979</td>\n",
       "      <td>2025-07-30 09:55:59.357206</td>\n",
       "      <td>0 days 00:38:20.837748</td>\n",
       "    </tr>\n",
       "    <tr>\n",
       "      <th>4</th>\n",
       "      <td>4</td>\n",
       "      <td>0.92</td>\n",
       "      <td>0.000061</td>\n",
       "      <td>0.93</td>\n",
       "      <td>3000</td>\n",
       "      <td>77.498272</td>\n",
       "      <td>2025-07-30 09:55:59.359219</td>\n",
       "      <td>0 days 00:38:50.410561</td>\n",
       "    </tr>\n",
       "  </tbody>\n",
       "</table>\n",
       "</div>"
      ],
      "text/plain": [
       "   number  params_rdc_gamma  params_rdc_lr  params_rdc_lr_gamma  \\\n",
       "0       0              0.90       0.000001                 0.87   \n",
       "1       1              0.90       0.000005                 0.83   \n",
       "2       2              0.99       0.000010                 0.61   \n",
       "3       3              0.93       0.000001                 0.84   \n",
       "4       4              0.92       0.000061                 0.93   \n",
       "\n",
       "   params_rdc_lr_step_size      value             datetime_start  \\\n",
       "0                     3250  77.661561 2025-07-30 09:55:59.345913   \n",
       "1                     2750  78.267392 2025-07-30 09:55:59.347575   \n",
       "2                     3250  78.031070 2025-07-30 09:55:59.351069   \n",
       "3                     2750  78.060979 2025-07-30 09:55:59.357206   \n",
       "4                     3000  77.498272 2025-07-30 09:55:59.359219   \n",
       "\n",
       "                duration  \n",
       "0 0 days 00:37:35.949596  \n",
       "1 0 days 00:35:42.244834  \n",
       "2 0 days 00:39:25.995437  \n",
       "3 0 days 00:38:20.837748  \n",
       "4 0 days 00:38:50.410561  "
      ]
     },
     "execution_count": 5,
     "metadata": {},
     "output_type": "execute_result"
    }
   ],
   "source": [
    "first_round_lr.head()"
   ]
  },
  {
   "cell_type": "code",
   "execution_count": 6,
   "id": "51144396",
   "metadata": {},
   "outputs": [],
   "source": [
    "def extract_new_bounds(df: pd.DataFrame, top_n=5, slack=0.1):\n",
    "    df = df.sort_values(\"value\", ascending=False)\n",
    "\n",
    "    topN = df.head(top_n)\n",
    "\n",
    "    new_bounds = {}\n",
    "    params = df.columns\n",
    "    params = params.drop([\"number\", \"value\", \"datetime_start\", \"duration\"])\n",
    "    for param in params:\n",
    "        print(f\"Top N values: {topN[param].value_counts()}\")\n",
    "        if not is_numeric_dtype(topN[param]):\n",
    "            print(f\"Skipping parameter '{param}' as it is of type string.\")\n",
    "            print(f\"Top N values: {topN[param].value_counts()}\")\n",
    "            continue\n",
    "        mn = float(topN[param].min())\n",
    "        mx = float(topN[param].max())\n",
    "        span = mx - mn\n",
    "\n",
    "        new_bounds[param] = (\n",
    "            max(0.0, mn - slack*span),\n",
    "            mx + slack*span\n",
    "        )\n",
    "\n",
    "    return new_bounds"
   ]
  },
  {
   "cell_type": "code",
   "execution_count": 7,
   "id": "9a0da826",
   "metadata": {},
   "outputs": [
    {
     "name": "stdout",
     "output_type": "stream",
     "text": [
      "Top N values: params_rdc_gamma\n",
      "0.97    4\n",
      "0.96    2\n",
      "0.95    2\n",
      "0.93    1\n",
      "0.98    1\n",
      "Name: count, dtype: int64\n",
      "Top N values: params_rdc_lr\n",
      "0.000082    1\n",
      "0.000050    1\n",
      "0.000063    1\n",
      "0.000092    1\n",
      "0.000073    1\n",
      "0.000014    1\n",
      "0.000097    1\n",
      "0.000054    1\n",
      "0.000031    1\n",
      "0.000007    1\n",
      "Name: count, dtype: int64\n",
      "Top N values: params_rdc_lr_gamma\n",
      "0.72    2\n",
      "0.76    1\n",
      "0.88    1\n",
      "0.89    1\n",
      "0.54    1\n",
      "0.71    1\n",
      "0.95    1\n",
      "0.66    1\n",
      "0.74    1\n",
      "Name: count, dtype: int64\n",
      "Top N values: params_rdc_lr_step_size\n",
      "3250    4\n",
      "4750    2\n",
      "1500    1\n",
      "2250    1\n",
      "3000    1\n",
      "3750    1\n",
      "Name: count, dtype: int64\n"
     ]
    },
    {
     "data": {
      "text/plain": [
       "{'params_rdc_gamma': (0.92, 0.99),\n",
       " 'params_rdc_lr': (0.0, 0.00011511938752805936),\n",
       " 'params_rdc_lr_gamma': (0.4580000000000001, 1.032),\n",
       " 'params_rdc_lr_step_size': (850.0, 5400.0)}"
      ]
     },
     "execution_count": 7,
     "metadata": {},
     "output_type": "execute_result"
    }
   ],
   "source": [
    "second_round_lr_bounds = extract_new_bounds(\n",
    "    first_round_lr,\n",
    "    top_n=10,\n",
    "    slack=0.2\n",
    ")\n",
    "second_round_lr_bounds"
   ]
  },
  {
   "cell_type": "code",
   "execution_count": 8,
   "id": "16b2193a",
   "metadata": {},
   "outputs": [
    {
     "name": "stdout",
     "output_type": "stream",
     "text": [
      "Top N values: params_rdc_batch_size\n",
      "512    5\n",
      "256    4\n",
      "64     1\n",
      "Name: count, dtype: int64\n",
      "Top N values: params_rdc_hidden_dim\n",
      "512    6\n",
      "256    4\n",
      "Name: count, dtype: int64\n"
     ]
    },
    {
     "data": {
      "text/plain": [
       "{'params_rdc_batch_size': (0.0, 601.6),\n",
       " 'params_rdc_hidden_dim': (204.8, 563.2)}"
      ]
     },
     "execution_count": 8,
     "metadata": {},
     "output_type": "execute_result"
    }
   ],
   "source": [
    "second_round_architecture_bounds = extract_new_bounds(\n",
    "    first_round_architecture,\n",
    "    top_n=10,\n",
    "    slack=0.2\n",
    ")\n",
    "second_round_architecture_bounds"
   ]
  },
  {
   "cell_type": "code",
   "execution_count": 9,
   "id": "ee432860",
   "metadata": {},
   "outputs": [
    {
     "name": "stdout",
     "output_type": "stream",
     "text": [
      "Top N values: params_rdc_epsilon_decay\n",
      "0.971479    1\n",
      "0.969283    1\n",
      "0.977040    1\n",
      "0.984120    1\n",
      "0.969024    1\n",
      "0.972279    1\n",
      "0.978975    1\n",
      "0.985371    1\n",
      "0.982829    1\n",
      "0.961795    1\n",
      "Name: count, dtype: int64\n",
      "Top N values: params_rdc_epsilon_end\n",
      "0.09    2\n",
      "0.10    2\n",
      "0.11    2\n",
      "0.02    1\n",
      "0.07    1\n",
      "0.08    1\n",
      "0.12    1\n",
      "Name: count, dtype: int64\n"
     ]
    },
    {
     "data": {
      "text/plain": [
       "{'params_rdc_epsilon_decay': (0.9570798768748315, 0.9900856769516452),\n",
       " 'params_rdc_epsilon_end': (0.0, 0.13999999999999999)}"
      ]
     },
     "execution_count": 9,
     "metadata": {},
     "output_type": "execute_result"
    }
   ],
   "source": [
    "second_round_exploration_bounds = extract_new_bounds(\n",
    "    first_round_exploration,\n",
    "    top_n=10,\n",
    "    slack=0.2\n",
    ")\n",
    "second_round_exploration_bounds"
   ]
  },
  {
   "cell_type": "code",
   "execution_count": 10,
   "id": "69de3dbb",
   "metadata": {},
   "outputs": [
    {
     "name": "stdout",
     "output_type": "stream",
     "text": [
      "Top N values: params_rdc_replay_buffer_alpha\n",
      "0.8    2\n",
      "0.0    2\n",
      "0.1    2\n",
      "0.3    1\n",
      "0.9    1\n",
      "0.5    1\n",
      "1.0    1\n",
      "Name: count, dtype: int64\n",
      "Top N values: params_rdc_replay_buffer_beta_frames\n",
      "28041    1\n",
      "32139    1\n",
      "25939    1\n",
      "34055    1\n",
      "4472     1\n",
      "32497    1\n",
      "4486     1\n",
      "48687    1\n",
      "4424     1\n",
      "25005    1\n",
      "Name: count, dtype: int64\n",
      "Top N values: params_rdc_replay_buffer_beta_start\n",
      "0.3    6\n",
      "0.2    3\n",
      "0.5    1\n",
      "Name: count, dtype: int64\n",
      "Top N values: params_rdc_replay_buffer_capacity\n",
      "12714    1\n",
      "39289    1\n",
      "10346    1\n",
      "18125    1\n",
      "27001    1\n",
      "8914     1\n",
      "73450    1\n",
      "48358    1\n",
      "78261    1\n",
      "10709    1\n",
      "Name: count, dtype: int64\n",
      "Top N values: params_rdc_tau\n",
      "0.000289    1\n",
      "0.004680    1\n",
      "0.005444    1\n",
      "0.006049    1\n",
      "0.051832    1\n",
      "0.000485    1\n",
      "0.000487    1\n",
      "0.000353    1\n",
      "0.000928    1\n",
      "0.012255    1\n",
      "Name: count, dtype: int64\n"
     ]
    },
    {
     "data": {
      "text/plain": [
       "{'params_rdc_replay_buffer_alpha': (0.0, 1.2),\n",
       " 'params_rdc_replay_buffer_beta_frames': (0.0, 57539.6),\n",
       " 'params_rdc_replay_buffer_beta_start': (0.14, 0.56),\n",
       " 'params_rdc_replay_buffer_capacity': (0.0, 92130.4),\n",
       " 'params_rdc_tau': (0.0, 0.0621405999803569)}"
      ]
     },
     "execution_count": 10,
     "metadata": {},
     "output_type": "execute_result"
    }
   ],
   "source": [
    "second_round_replay_buffer_bounds = extract_new_bounds(\n",
    "    first_round_replay_buffer,\n",
    "    top_n=10,\n",
    "    slack=0.2\n",
    ")\n",
    "second_round_replay_buffer_bounds"
   ]
  },
  {
   "cell_type": "code",
   "execution_count": 11,
   "id": "f667586a",
   "metadata": {},
   "outputs": [
    {
     "name": "stdout",
     "output_type": "stream",
     "text": [
      "Top N values: params_rdc_gamma\n",
      "0.958    2\n",
      "0.997    1\n",
      "0.994    1\n",
      "0.941    1\n",
      "Name: count, dtype: int64\n",
      "Top N values: params_rdc_lr\n",
      "0.000002    1\n",
      "0.000001    1\n",
      "0.000002    1\n",
      "0.000002    1\n",
      "0.000002    1\n",
      "Name: count, dtype: int64\n",
      "Top N values: params_rdc_lr_gamma\n",
      "0.95    4\n",
      "0.96    1\n",
      "Name: count, dtype: int64\n",
      "Top N values: params_rdc_lr_step_size\n",
      "4500    3\n",
      "4750    1\n",
      "5000    1\n",
      "Name: count, dtype: int64\n"
     ]
    },
    {
     "data": {
      "text/plain": [
       "{'params_rdc_gamma': (0.9354, 1.0026),\n",
       " 'params_rdc_lr': (1.318734973143514e-06, 1.7899887728187195e-06),\n",
       " 'params_rdc_lr_gamma': (0.949, 0.961),\n",
       " 'params_rdc_lr_step_size': (4450.0, 5050.0)}"
      ]
     },
     "execution_count": 11,
     "metadata": {},
     "output_type": "execute_result"
    }
   ],
   "source": [
    "final_round_lr_bounds = extract_new_bounds(\n",
    "    second_round_lr,\n",
    "    top_n=5,\n",
    "    slack=0.1\n",
    ")\n",
    "final_round_lr_bounds"
   ]
  },
  {
   "cell_type": "code",
   "execution_count": 12,
   "id": "8d947e31",
   "metadata": {},
   "outputs": [
    {
     "name": "stdout",
     "output_type": "stream",
     "text": [
      "Top N values: params_rdc_batch_size\n",
      "128    5\n",
      "Name: count, dtype: int64\n",
      "Top N values: params_rdc_hidden_dim\n",
      "128    4\n",
      "256    1\n",
      "Name: count, dtype: int64\n"
     ]
    },
    {
     "data": {
      "text/plain": [
       "{'params_rdc_batch_size': (128.0, 128.0),\n",
       " 'params_rdc_hidden_dim': (115.2, 268.8)}"
      ]
     },
     "execution_count": 12,
     "metadata": {},
     "output_type": "execute_result"
    }
   ],
   "source": [
    "final_round_architecture_bounds = extract_new_bounds(\n",
    "    second_round_architecture,\n",
    "    top_n=5,\n",
    "    slack=0.1\n",
    ")\n",
    "final_round_architecture_bounds"
   ]
  },
  {
   "cell_type": "code",
   "execution_count": 13,
   "id": "ddc546fe",
   "metadata": {},
   "outputs": [
    {
     "name": "stdout",
     "output_type": "stream",
     "text": [
      "Top N values: params_rdc_epsilon_decay\n",
      "0.964167    1\n",
      "0.977051    1\n",
      "0.978554    1\n",
      "0.961609    1\n",
      "0.973855    1\n",
      "Name: count, dtype: int64\n",
      "Top N values: params_rdc_epsilon_end\n",
      "0.041    1\n",
      "0.068    1\n",
      "0.141    1\n",
      "0.065    1\n",
      "0.045    1\n",
      "Name: count, dtype: int64\n"
     ]
    },
    {
     "data": {
      "text/plain": [
       "{'params_rdc_epsilon_decay': (0.9599144971089095, 0.9802487514942165),\n",
       " 'params_rdc_epsilon_end': (0.031, 0.15100000000000002)}"
      ]
     },
     "execution_count": 13,
     "metadata": {},
     "output_type": "execute_result"
    }
   ],
   "source": [
    "final_round_exploration_bounds = extract_new_bounds(\n",
    "    second_round_exploration,\n",
    "    top_n=5,\n",
    "    slack=0.1\n",
    ")\n",
    "final_round_exploration_bounds"
   ]
  },
  {
   "cell_type": "code",
   "execution_count": 14,
   "id": "b11fe4eb",
   "metadata": {},
   "outputs": [
    {
     "name": "stdout",
     "output_type": "stream",
     "text": [
      "Top N values: params_rdc_replay_buffer_alpha\n",
      "0.2    2\n",
      "0.5    2\n",
      "0.0    1\n",
      "Name: count, dtype: int64\n",
      "Top N values: params_rdc_replay_buffer_beta_frames\n",
      "3346    1\n",
      "2075    1\n",
      "1466    1\n",
      "1372    1\n",
      "1175    1\n",
      "Name: count, dtype: int64\n",
      "Top N values: params_rdc_replay_buffer_beta_start\n",
      "0.28    2\n",
      "0.47    1\n",
      "0.43    1\n",
      "0.44    1\n",
      "Name: count, dtype: int64\n",
      "Top N values: params_rdc_replay_buffer_capacity\n",
      "10703    1\n",
      "5969     1\n",
      "11084    1\n",
      "10173    1\n",
      "6054     1\n",
      "Name: count, dtype: int64\n",
      "Top N values: params_rdc_tau\n",
      "0.002019    1\n",
      "0.022924    1\n",
      "0.056362    1\n",
      "0.028296    1\n",
      "0.040059    1\n",
      "Name: count, dtype: int64\n"
     ]
    },
    {
     "data": {
      "text/plain": [
       "{'params_rdc_replay_buffer_alpha': (0.0, 0.55),\n",
       " 'params_rdc_replay_buffer_beta_frames': (957.9, 3563.1),\n",
       " 'params_rdc_replay_buffer_beta_start': (0.261, 0.489),\n",
       " 'params_rdc_replay_buffer_capacity': (5457.5, 11595.5),\n",
       " 'params_rdc_tau': (0.0, 0.061795906643134405)}"
      ]
     },
     "execution_count": 14,
     "metadata": {},
     "output_type": "execute_result"
    }
   ],
   "source": [
    "final_round_replay_buffer_bounds = extract_new_bounds(\n",
    "    second_round_replay_buffer,\n",
    "    top_n=5,\n",
    "    slack=0.1\n",
    ")\n",
    "final_round_replay_buffer_bounds"
   ]
  }
 ],
 "metadata": {
  "kernelspec": {
   "display_name": "py_310_torch_env",
   "language": "python",
   "name": "python3"
  },
  "language_info": {
   "codemirror_mode": {
    "name": "ipython",
    "version": 3
   },
   "file_extension": ".py",
   "mimetype": "text/x-python",
   "name": "python",
   "nbconvert_exporter": "python",
   "pygments_lexer": "ipython3",
   "version": "3.10.16"
  }
 },
 "nbformat": 4,
 "nbformat_minor": 5
}
