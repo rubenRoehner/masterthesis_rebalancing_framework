{
 "cells": [
  {
   "cell_type": "code",
   "execution_count": 1,
   "id": "fd070d68",
   "metadata": {},
   "outputs": [],
   "source": [
    "import pandas as pd\n",
    "from pandas.api.types import is_numeric_dtype"
   ]
  },
  {
   "cell_type": "code",
   "execution_count": 2,
   "id": "60622eca",
   "metadata": {},
   "outputs": [],
   "source": [
    "# first round\n",
    "first_round_lr_file = \"../../ho_results/rdc_ho_learningrate_20250724-121736_final.pickle\"\n",
    "first_round_exploration_file = \"../../ho_results/rdc_ho_exploration_20250725-114436_final.pickle\"\n",
    "first_round_architecture_file = \"../../ho_results/rdc_ho_architecture_20250725-083924_final.pickle\"\n",
    "first_round_replay_buffer_file = \"../../ho_results/rdc_ho_replaybuffer_20250725-114402_final.pickle\"\n",
    "\n",
    "# second round\n",
    "second_round_lr_file = \"../../ho_results/rdc_ho_learningrate_20250726-094043_final.pickle\"\n",
    "second_round_exploration_file = \"../../ho_results/rdc_ho_exploration_20250726-094246_final.pickle\"\n",
    "second_round_architecture_file = \"../../ho_results/rdc_ho_architecture_20250726-094115_final.pickle\"\n",
    "second_round_replay_buffer_file = \"../../ho_results/rdc_ho_replaybuffer_20250726-094148_final.pickle\""
   ]
  },
  {
   "cell_type": "code",
   "execution_count": 3,
   "id": "ebe85516",
   "metadata": {},
   "outputs": [],
   "source": [
    "first_round_lr = pd.read_pickle(first_round_lr_file)\n",
    "first_round_architecture = pd.read_pickle(first_round_architecture_file)\n",
    "first_round_exploration = pd.read_pickle(first_round_exploration_file)\n",
    "first_round_replay_buffer = pd.read_pickle(first_round_replay_buffer_file)"
   ]
  },
  {
   "cell_type": "code",
   "execution_count": 4,
   "id": "9ee81bde",
   "metadata": {},
   "outputs": [],
   "source": [
    "second_round_lr = pd.read_pickle(second_round_lr_file)\n",
    "second_round_architecture = pd.read_pickle(second_round_architecture_file)\n",
    "second_round_exploration = pd.read_pickle(second_round_exploration_file)\n",
    "second_round_replay_buffer = pd.read_pickle(second_round_replay_buffer_file)"
   ]
  },
  {
   "cell_type": "code",
   "execution_count": 5,
   "id": "74d3b88d",
   "metadata": {},
   "outputs": [
    {
     "data": {
      "text/html": [
       "<div>\n",
       "<style scoped>\n",
       "    .dataframe tbody tr th:only-of-type {\n",
       "        vertical-align: middle;\n",
       "    }\n",
       "\n",
       "    .dataframe tbody tr th {\n",
       "        vertical-align: top;\n",
       "    }\n",
       "\n",
       "    .dataframe thead th {\n",
       "        text-align: right;\n",
       "    }\n",
       "</style>\n",
       "<table border=\"1\" class=\"dataframe\">\n",
       "  <thead>\n",
       "    <tr style=\"text-align: right;\">\n",
       "      <th></th>\n",
       "      <th>number</th>\n",
       "      <th>params_rdc_gamma</th>\n",
       "      <th>params_rdc_lr</th>\n",
       "      <th>params_rdc_lr_gamma</th>\n",
       "      <th>params_rdc_lr_step_size</th>\n",
       "      <th>value</th>\n",
       "      <th>datetime_start</th>\n",
       "      <th>duration</th>\n",
       "    </tr>\n",
       "  </thead>\n",
       "  <tbody>\n",
       "    <tr>\n",
       "      <th>0</th>\n",
       "      <td>0</td>\n",
       "      <td>0.915</td>\n",
       "      <td>0.000001</td>\n",
       "      <td>0.86</td>\n",
       "      <td>4250</td>\n",
       "      <td>76.545010</td>\n",
       "      <td>2025-07-24 12:17:36.282400</td>\n",
       "      <td>0 days 01:39:43.952331</td>\n",
       "    </tr>\n",
       "    <tr>\n",
       "      <th>1</th>\n",
       "      <td>1</td>\n",
       "      <td>0.942</td>\n",
       "      <td>0.000055</td>\n",
       "      <td>0.77</td>\n",
       "      <td>4250</td>\n",
       "      <td>75.131343</td>\n",
       "      <td>2025-07-24 12:17:36.284322</td>\n",
       "      <td>0 days 01:37:15.296595</td>\n",
       "    </tr>\n",
       "    <tr>\n",
       "      <th>2</th>\n",
       "      <td>2</td>\n",
       "      <td>0.988</td>\n",
       "      <td>0.000270</td>\n",
       "      <td>0.68</td>\n",
       "      <td>1000</td>\n",
       "      <td>75.842182</td>\n",
       "      <td>2025-07-24 12:17:36.286424</td>\n",
       "      <td>0 days 01:36:14.874939</td>\n",
       "    </tr>\n",
       "    <tr>\n",
       "      <th>3</th>\n",
       "      <td>3</td>\n",
       "      <td>0.923</td>\n",
       "      <td>0.000007</td>\n",
       "      <td>0.82</td>\n",
       "      <td>1500</td>\n",
       "      <td>74.082101</td>\n",
       "      <td>2025-07-24 12:17:36.288980</td>\n",
       "      <td>0 days 01:38:32.619206</td>\n",
       "    </tr>\n",
       "    <tr>\n",
       "      <th>4</th>\n",
       "      <td>4</td>\n",
       "      <td>0.915</td>\n",
       "      <td>0.000002</td>\n",
       "      <td>0.78</td>\n",
       "      <td>1500</td>\n",
       "      <td>74.742332</td>\n",
       "      <td>2025-07-24 12:17:36.291418</td>\n",
       "      <td>0 days 01:38:32.898711</td>\n",
       "    </tr>\n",
       "  </tbody>\n",
       "</table>\n",
       "</div>"
      ],
      "text/plain": [
       "   number  params_rdc_gamma  params_rdc_lr  params_rdc_lr_gamma  \\\n",
       "0       0             0.915       0.000001                 0.86   \n",
       "1       1             0.942       0.000055                 0.77   \n",
       "2       2             0.988       0.000270                 0.68   \n",
       "3       3             0.923       0.000007                 0.82   \n",
       "4       4             0.915       0.000002                 0.78   \n",
       "\n",
       "   params_rdc_lr_step_size      value             datetime_start  \\\n",
       "0                     4250  76.545010 2025-07-24 12:17:36.282400   \n",
       "1                     4250  75.131343 2025-07-24 12:17:36.284322   \n",
       "2                     1000  75.842182 2025-07-24 12:17:36.286424   \n",
       "3                     1500  74.082101 2025-07-24 12:17:36.288980   \n",
       "4                     1500  74.742332 2025-07-24 12:17:36.291418   \n",
       "\n",
       "                duration  \n",
       "0 0 days 01:39:43.952331  \n",
       "1 0 days 01:37:15.296595  \n",
       "2 0 days 01:36:14.874939  \n",
       "3 0 days 01:38:32.619206  \n",
       "4 0 days 01:38:32.898711  "
      ]
     },
     "execution_count": 5,
     "metadata": {},
     "output_type": "execute_result"
    }
   ],
   "source": [
    "first_round_lr.head()"
   ]
  },
  {
   "cell_type": "code",
   "execution_count": 6,
   "id": "51144396",
   "metadata": {},
   "outputs": [],
   "source": [
    "def extract_new_bounds(df: pd.DataFrame, top_n=5, slack=0.1):\n",
    "    df = df.sort_values(\"value\", ascending=False)\n",
    "\n",
    "    topN = df.head(top_n)\n",
    "\n",
    "    new_bounds = {}\n",
    "    params = df.columns\n",
    "    params = params.drop([\"number\", \"value\", \"datetime_start\", \"duration\"])\n",
    "    for param in params:\n",
    "        print(f\"Top N values: {topN[param].value_counts()}\")\n",
    "        if not is_numeric_dtype(topN[param]):\n",
    "            print(f\"Skipping parameter '{param}' as it is of type string.\")\n",
    "            print(f\"Top N values: {topN[param].value_counts()}\")\n",
    "            continue\n",
    "        mn = float(topN[param].min())\n",
    "        mx = float(topN[param].max())\n",
    "        span = mx - mn\n",
    "\n",
    "        new_bounds[param] = (\n",
    "            max(0.0, mn - slack*span),\n",
    "            mx + slack*span\n",
    "        )\n",
    "\n",
    "    return new_bounds"
   ]
  },
  {
   "cell_type": "code",
   "execution_count": 7,
   "id": "9a0da826",
   "metadata": {},
   "outputs": [
    {
     "name": "stdout",
     "output_type": "stream",
     "text": [
      "Top N values: params_rdc_gamma\n",
      "0.915    2\n",
      "0.998    2\n",
      "0.909    1\n",
      "0.999    1\n",
      "0.996    1\n",
      "0.997    1\n",
      "0.957    1\n",
      "0.985    1\n",
      "Name: count, dtype: int64\n",
      "Top N values: params_rdc_lr\n",
      "0.000001    1\n",
      "0.000009    1\n",
      "0.000013    1\n",
      "0.000003    1\n",
      "0.000006    1\n",
      "0.000001    1\n",
      "0.000011    1\n",
      "0.000007    1\n",
      "0.000093    1\n",
      "0.000019    1\n",
      "Name: count, dtype: int64\n",
      "Top N values: params_rdc_lr_gamma\n",
      "0.92    3\n",
      "0.96    1\n",
      "0.94    1\n",
      "0.86    1\n",
      "0.87    1\n",
      "0.89    1\n",
      "0.85    1\n",
      "0.95    1\n",
      "Name: count, dtype: int64\n",
      "Top N values: params_rdc_lr_step_size\n",
      "4250    4\n",
      "4500    2\n",
      "4000    2\n",
      "3500    1\n",
      "2750    1\n",
      "Name: count, dtype: int64\n"
     ]
    },
    {
     "data": {
      "text/plain": [
       "{'params_rdc_gamma': (0.891, 1.017),\n",
       " 'params_rdc_lr': (0.0, 0.0001110369807297679),\n",
       " 'params_rdc_lr_gamma': (0.8280000000000001, 0.982),\n",
       " 'params_rdc_lr_step_size': (2400.0, 4850.0)}"
      ]
     },
     "execution_count": 7,
     "metadata": {},
     "output_type": "execute_result"
    }
   ],
   "source": [
    "second_round_lr_bounds = extract_new_bounds(\n",
    "    first_round_lr,\n",
    "    top_n=10,\n",
    "    slack=0.2\n",
    ")\n",
    "second_round_lr_bounds"
   ]
  },
  {
   "cell_type": "code",
   "execution_count": 8,
   "id": "16b2193a",
   "metadata": {},
   "outputs": [
    {
     "name": "stdout",
     "output_type": "stream",
     "text": [
      "Top N values: params_rdc_batch_size\n",
      "512    6\n",
      "128    3\n",
      "64     1\n",
      "Name: count, dtype: int64\n",
      "Top N values: params_rdc_hidden_dim\n",
      "256    7\n",
      "128    2\n",
      "512    1\n",
      "Name: count, dtype: int64\n"
     ]
    },
    {
     "data": {
      "text/plain": [
       "{'params_rdc_batch_size': (0.0, 601.6),\n",
       " 'params_rdc_hidden_dim': (51.19999999999999, 588.8)}"
      ]
     },
     "execution_count": 8,
     "metadata": {},
     "output_type": "execute_result"
    }
   ],
   "source": [
    "second_round_architecture_bounds = extract_new_bounds(\n",
    "    first_round_architecture,\n",
    "    top_n=10,\n",
    "    slack=0.2\n",
    ")\n",
    "second_round_architecture_bounds"
   ]
  },
  {
   "cell_type": "code",
   "execution_count": 9,
   "id": "ee432860",
   "metadata": {},
   "outputs": [
    {
     "name": "stdout",
     "output_type": "stream",
     "text": [
      "Top N values: params_rdc_epsilon_decay\n",
      "0.979071    1\n",
      "0.955694    1\n",
      "0.955712    1\n",
      "0.972414    1\n",
      "0.970773    1\n",
      "0.990276    1\n",
      "0.969950    1\n",
      "0.968358    1\n",
      "0.961744    1\n",
      "0.966319    1\n",
      "Name: count, dtype: int64\n",
      "Top N values: params_rdc_epsilon_end\n",
      "0.045    1\n",
      "0.087    1\n",
      "0.019    1\n",
      "0.076    1\n",
      "0.028    1\n",
      "0.130    1\n",
      "0.010    1\n",
      "0.095    1\n",
      "0.080    1\n",
      "0.093    1\n",
      "Name: count, dtype: int64\n"
     ]
    },
    {
     "data": {
      "text/plain": [
       "{'params_rdc_epsilon_decay': (0.9487780013493988, 0.9971918126605767),\n",
       " 'params_rdc_epsilon_end': (0.0, 0.154)}"
      ]
     },
     "execution_count": 9,
     "metadata": {},
     "output_type": "execute_result"
    }
   ],
   "source": [
    "second_round_exploration_bounds = extract_new_bounds(\n",
    "    first_round_exploration,\n",
    "    top_n=10,\n",
    "    slack=0.2\n",
    ")\n",
    "second_round_exploration_bounds"
   ]
  },
  {
   "cell_type": "code",
   "execution_count": 10,
   "id": "69de3dbb",
   "metadata": {},
   "outputs": [
    {
     "name": "stdout",
     "output_type": "stream",
     "text": [
      "Top N values: params_rdc_replay_buffer_alpha\n",
      "0.1    5\n",
      "0.4    1\n",
      "0.0    1\n",
      "0.5    1\n",
      "0.2    1\n",
      "0.7    1\n",
      "Name: count, dtype: int64\n",
      "Top N values: params_rdc_replay_buffer_beta_frames\n",
      "14989    1\n",
      "17423    1\n",
      "9115     1\n",
      "24971    1\n",
      "40425    1\n",
      "34969    1\n",
      "18747    1\n",
      "16923    1\n",
      "11770    1\n",
      "3083     1\n",
      "Name: count, dtype: int64\n",
      "Top N values: params_rdc_replay_buffer_beta_start\n",
      "0.2    5\n",
      "0.1    3\n",
      "0.5    1\n",
      "0.3    1\n",
      "Name: count, dtype: int64\n",
      "Top N values: params_rdc_replay_buffer_capacity\n",
      "29048    1\n",
      "22852    1\n",
      "38170    1\n",
      "13304    1\n",
      "13071    1\n",
      "14035    1\n",
      "9985     1\n",
      "34017    1\n",
      "28731    1\n",
      "7462     1\n",
      "Name: count, dtype: int64\n",
      "Top N values: params_rdc_tau\n",
      "0.003318    1\n",
      "0.001606    1\n",
      "0.000604    1\n",
      "0.004072    1\n",
      "0.003021    1\n",
      "0.002527    1\n",
      "0.000419    1\n",
      "0.002123    1\n",
      "0.000489    1\n",
      "0.000618    1\n",
      "Name: count, dtype: int64\n"
     ]
    },
    {
     "data": {
      "text/plain": [
       "{'params_rdc_replay_buffer_alpha': (0.0, 0.8400000000000001),\n",
       " 'params_rdc_replay_buffer_beta_frames': (0.0, 47893.4),\n",
       " 'params_rdc_replay_buffer_beta_start': (0.01999999999999999,\n",
       "  0.5800000000000001),\n",
       " 'params_rdc_replay_buffer_capacity': (1320.3999999999996, 44311.6),\n",
       " 'params_rdc_tau': (0.0, 0.004802495068027235)}"
      ]
     },
     "execution_count": 10,
     "metadata": {},
     "output_type": "execute_result"
    }
   ],
   "source": [
    "second_round_replay_buffer_bounds = extract_new_bounds(\n",
    "    first_round_replay_buffer,\n",
    "    top_n=10,\n",
    "    slack=0.2\n",
    ")\n",
    "second_round_replay_buffer_bounds"
   ]
  },
  {
   "cell_type": "code",
   "execution_count": 11,
   "id": "f667586a",
   "metadata": {},
   "outputs": [
    {
     "name": "stdout",
     "output_type": "stream",
     "text": [
      "Top N values: params_rdc_gamma\n",
      "0.958    2\n",
      "0.997    1\n",
      "0.994    1\n",
      "0.941    1\n",
      "Name: count, dtype: int64\n",
      "Top N values: params_rdc_lr\n",
      "0.000002    1\n",
      "0.000001    1\n",
      "0.000002    1\n",
      "0.000002    1\n",
      "0.000002    1\n",
      "Name: count, dtype: int64\n",
      "Top N values: params_rdc_lr_gamma\n",
      "0.95    4\n",
      "0.96    1\n",
      "Name: count, dtype: int64\n",
      "Top N values: params_rdc_lr_step_size\n",
      "4500    3\n",
      "4750    1\n",
      "5000    1\n",
      "Name: count, dtype: int64\n"
     ]
    },
    {
     "data": {
      "text/plain": [
       "{'params_rdc_gamma': (0.9354, 1.0026),\n",
       " 'params_rdc_lr': (1.318734973143514e-06, 1.7899887728187195e-06),\n",
       " 'params_rdc_lr_gamma': (0.949, 0.961),\n",
       " 'params_rdc_lr_step_size': (4450.0, 5050.0)}"
      ]
     },
     "execution_count": 11,
     "metadata": {},
     "output_type": "execute_result"
    }
   ],
   "source": [
    "final_round_lr_bounds = extract_new_bounds(\n",
    "    second_round_lr,\n",
    "    top_n=5,\n",
    "    slack=0.1\n",
    ")\n",
    "final_round_lr_bounds"
   ]
  },
  {
   "cell_type": "code",
   "execution_count": 12,
   "id": "8d947e31",
   "metadata": {},
   "outputs": [
    {
     "name": "stdout",
     "output_type": "stream",
     "text": [
      "Top N values: params_rdc_batch_size\n",
      "128    5\n",
      "Name: count, dtype: int64\n",
      "Top N values: params_rdc_hidden_dim\n",
      "128    4\n",
      "256    1\n",
      "Name: count, dtype: int64\n"
     ]
    },
    {
     "data": {
      "text/plain": [
       "{'params_rdc_batch_size': (128.0, 128.0),\n",
       " 'params_rdc_hidden_dim': (115.2, 268.8)}"
      ]
     },
     "execution_count": 12,
     "metadata": {},
     "output_type": "execute_result"
    }
   ],
   "source": [
    "final_round_architecture_bounds = extract_new_bounds(\n",
    "    second_round_architecture,\n",
    "    top_n=5,\n",
    "    slack=0.1\n",
    ")\n",
    "final_round_architecture_bounds"
   ]
  },
  {
   "cell_type": "code",
   "execution_count": 13,
   "id": "ddc546fe",
   "metadata": {},
   "outputs": [
    {
     "name": "stdout",
     "output_type": "stream",
     "text": [
      "Top N values: params_rdc_epsilon_decay\n",
      "0.964167    1\n",
      "0.977051    1\n",
      "0.978554    1\n",
      "0.961609    1\n",
      "0.973855    1\n",
      "Name: count, dtype: int64\n",
      "Top N values: params_rdc_epsilon_end\n",
      "0.041    1\n",
      "0.068    1\n",
      "0.141    1\n",
      "0.065    1\n",
      "0.045    1\n",
      "Name: count, dtype: int64\n"
     ]
    },
    {
     "data": {
      "text/plain": [
       "{'params_rdc_epsilon_decay': (0.9599144971089095, 0.9802487514942165),\n",
       " 'params_rdc_epsilon_end': (0.031, 0.15100000000000002)}"
      ]
     },
     "execution_count": 13,
     "metadata": {},
     "output_type": "execute_result"
    }
   ],
   "source": [
    "final_round_exploration_bounds = extract_new_bounds(\n",
    "    second_round_exploration,\n",
    "    top_n=5,\n",
    "    slack=0.1\n",
    ")\n",
    "final_round_exploration_bounds"
   ]
  },
  {
   "cell_type": "code",
   "execution_count": 14,
   "id": "b11fe4eb",
   "metadata": {},
   "outputs": [
    {
     "name": "stdout",
     "output_type": "stream",
     "text": [
      "Top N values: params_rdc_replay_buffer_alpha\n",
      "0.2    2\n",
      "0.5    2\n",
      "0.0    1\n",
      "Name: count, dtype: int64\n",
      "Top N values: params_rdc_replay_buffer_beta_frames\n",
      "3346    1\n",
      "2075    1\n",
      "1466    1\n",
      "1372    1\n",
      "1175    1\n",
      "Name: count, dtype: int64\n",
      "Top N values: params_rdc_replay_buffer_beta_start\n",
      "0.28    2\n",
      "0.47    1\n",
      "0.43    1\n",
      "0.44    1\n",
      "Name: count, dtype: int64\n",
      "Top N values: params_rdc_replay_buffer_capacity\n",
      "10703    1\n",
      "5969     1\n",
      "11084    1\n",
      "10173    1\n",
      "6054     1\n",
      "Name: count, dtype: int64\n",
      "Top N values: params_rdc_tau\n",
      "0.002019    1\n",
      "0.022924    1\n",
      "0.056362    1\n",
      "0.028296    1\n",
      "0.040059    1\n",
      "Name: count, dtype: int64\n"
     ]
    },
    {
     "data": {
      "text/plain": [
       "{'params_rdc_replay_buffer_alpha': (0.0, 0.55),\n",
       " 'params_rdc_replay_buffer_beta_frames': (957.9, 3563.1),\n",
       " 'params_rdc_replay_buffer_beta_start': (0.261, 0.489),\n",
       " 'params_rdc_replay_buffer_capacity': (5457.5, 11595.5),\n",
       " 'params_rdc_tau': (0.0, 0.061795906643134405)}"
      ]
     },
     "execution_count": 14,
     "metadata": {},
     "output_type": "execute_result"
    }
   ],
   "source": [
    "final_round_replay_buffer_bounds = extract_new_bounds(\n",
    "    second_round_replay_buffer,\n",
    "    top_n=5,\n",
    "    slack=0.1\n",
    ")\n",
    "final_round_replay_buffer_bounds"
   ]
  }
 ],
 "metadata": {
  "kernelspec": {
   "display_name": "py_310_torch_env",
   "language": "python",
   "name": "python3"
  },
  "language_info": {
   "codemirror_mode": {
    "name": "ipython",
    "version": 3
   },
   "file_extension": ".py",
   "mimetype": "text/x-python",
   "name": "python",
   "nbconvert_exporter": "python",
   "pygments_lexer": "ipython3",
   "version": "3.10.16"
  }
 },
 "nbformat": 4,
 "nbformat_minor": 5
}
