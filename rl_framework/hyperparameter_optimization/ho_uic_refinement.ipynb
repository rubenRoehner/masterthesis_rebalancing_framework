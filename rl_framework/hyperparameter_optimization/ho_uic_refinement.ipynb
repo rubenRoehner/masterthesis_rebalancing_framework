{
 "cells": [
  {
   "cell_type": "code",
   "execution_count": 1,
   "id": "fd070d68",
   "metadata": {},
   "outputs": [],
   "source": [
    "import pandas as pd\n",
    "from pandas.api.types import is_numeric_dtype"
   ]
  },
  {
   "cell_type": "code",
   "execution_count": 2,
   "id": "60622eca",
   "metadata": {},
   "outputs": [],
   "source": [
    "# first round\n",
    "first_round_core_file = \"../../ho_results/uic_ho_ppo-core_20250802-114428_final.pickle\"\n",
    "first_round_architecture_file = \"../../ho_results/uic_ho_architecture_20250802-114625_final.pickle\"\n",
    "first_round_stability_file = \"../../ho_results/uic_ho_stability_20250802-114603_final.pickle\"\n",
    "\n",
    "# second round\n",
    "second_round_core_file = \"../../ho_results/uic_ho_ppo-core_20250802-114428_final.pickle\"\n",
    "second_round_architecture_file = \"../../ho_results/uic_ho_architecture_20250802-114625_final.pickle\"\n",
    "second_round_stability_file = \"../../ho_results/uic_ho_stability_20250802-114603_final.pickle\""
   ]
  },
  {
   "cell_type": "code",
   "execution_count": 3,
   "id": "ebe85516",
   "metadata": {},
   "outputs": [],
   "source": [
    "first_round_core = pd.read_pickle(first_round_core_file)\n",
    "first_round_architecture = pd.read_pickle(first_round_architecture_file)\n",
    "first_round_stability = pd.read_pickle(first_round_stability_file)"
   ]
  },
  {
   "cell_type": "code",
   "execution_count": 4,
   "id": "5bfc599f",
   "metadata": {},
   "outputs": [],
   "source": [
    "second_round_core = pd.read_pickle(second_round_core_file)\n",
    "second_round_architecture = pd.read_pickle(second_round_architecture_file)\n",
    "second_round_stability = pd.read_pickle(second_round_stability_file)"
   ]
  },
  {
   "cell_type": "code",
   "execution_count": 5,
   "id": "74d3b88d",
   "metadata": {},
   "outputs": [
    {
     "data": {
      "text/html": [
       "<div>\n",
       "<style scoped>\n",
       "    .dataframe tbody tr th:only-of-type {\n",
       "        vertical-align: middle;\n",
       "    }\n",
       "\n",
       "    .dataframe tbody tr th {\n",
       "        vertical-align: top;\n",
       "    }\n",
       "\n",
       "    .dataframe thead th {\n",
       "        text-align: right;\n",
       "    }\n",
       "</style>\n",
       "<table border=\"1\" class=\"dataframe\">\n",
       "  <thead>\n",
       "    <tr style=\"text-align: right;\">\n",
       "      <th></th>\n",
       "      <th>number</th>\n",
       "      <th>params_batch_size</th>\n",
       "      <th>params_clip_range</th>\n",
       "      <th>params_ent_coef</th>\n",
       "      <th>params_learning_rate</th>\n",
       "      <th>params_n_steps</th>\n",
       "      <th>params_vf_coef</th>\n",
       "      <th>value</th>\n",
       "      <th>datetime_start</th>\n",
       "      <th>duration</th>\n",
       "    </tr>\n",
       "  </thead>\n",
       "  <tbody>\n",
       "    <tr>\n",
       "      <th>0</th>\n",
       "      <td>0</td>\n",
       "      <td>128</td>\n",
       "      <td>0.10</td>\n",
       "      <td>0.000197</td>\n",
       "      <td>0.000044</td>\n",
       "      <td>2048</td>\n",
       "      <td>0.75</td>\n",
       "      <td>163.999148</td>\n",
       "      <td>2025-08-02 11:44:28.704519</td>\n",
       "      <td>0 days 00:36:34.671666</td>\n",
       "    </tr>\n",
       "    <tr>\n",
       "      <th>1</th>\n",
       "      <td>1</td>\n",
       "      <td>128</td>\n",
       "      <td>0.20</td>\n",
       "      <td>0.000538</td>\n",
       "      <td>0.000342</td>\n",
       "      <td>2048</td>\n",
       "      <td>0.55</td>\n",
       "      <td>163.917301</td>\n",
       "      <td>2025-08-02 12:21:03.377555</td>\n",
       "      <td>0 days 00:36:38.683952</td>\n",
       "    </tr>\n",
       "    <tr>\n",
       "      <th>2</th>\n",
       "      <td>2</td>\n",
       "      <td>64</td>\n",
       "      <td>0.10</td>\n",
       "      <td>0.000022</td>\n",
       "      <td>0.000362</td>\n",
       "      <td>1024</td>\n",
       "      <td>0.70</td>\n",
       "      <td>164.297104</td>\n",
       "      <td>2025-08-02 12:57:42.062744</td>\n",
       "      <td>0 days 00:37:20.470249</td>\n",
       "    </tr>\n",
       "    <tr>\n",
       "      <th>3</th>\n",
       "      <td>3</td>\n",
       "      <td>256</td>\n",
       "      <td>0.15</td>\n",
       "      <td>0.000120</td>\n",
       "      <td>0.000366</td>\n",
       "      <td>1024</td>\n",
       "      <td>0.55</td>\n",
       "      <td>164.456855</td>\n",
       "      <td>2025-08-02 13:35:02.534326</td>\n",
       "      <td>0 days 00:35:07.611855</td>\n",
       "    </tr>\n",
       "    <tr>\n",
       "      <th>4</th>\n",
       "      <td>4</td>\n",
       "      <td>32</td>\n",
       "      <td>0.15</td>\n",
       "      <td>0.000158</td>\n",
       "      <td>0.000282</td>\n",
       "      <td>512</td>\n",
       "      <td>0.75</td>\n",
       "      <td>164.681203</td>\n",
       "      <td>2025-08-02 14:10:10.146930</td>\n",
       "      <td>0 days 00:40:13.621571</td>\n",
       "    </tr>\n",
       "  </tbody>\n",
       "</table>\n",
       "</div>"
      ],
      "text/plain": [
       "   number  params_batch_size  params_clip_range  params_ent_coef  \\\n",
       "0       0                128               0.10         0.000197   \n",
       "1       1                128               0.20         0.000538   \n",
       "2       2                 64               0.10         0.000022   \n",
       "3       3                256               0.15         0.000120   \n",
       "4       4                 32               0.15         0.000158   \n",
       "\n",
       "   params_learning_rate  params_n_steps  params_vf_coef       value  \\\n",
       "0              0.000044            2048            0.75  163.999148   \n",
       "1              0.000342            2048            0.55  163.917301   \n",
       "2              0.000362            1024            0.70  164.297104   \n",
       "3              0.000366            1024            0.55  164.456855   \n",
       "4              0.000282             512            0.75  164.681203   \n",
       "\n",
       "              datetime_start               duration  \n",
       "0 2025-08-02 11:44:28.704519 0 days 00:36:34.671666  \n",
       "1 2025-08-02 12:21:03.377555 0 days 00:36:38.683952  \n",
       "2 2025-08-02 12:57:42.062744 0 days 00:37:20.470249  \n",
       "3 2025-08-02 13:35:02.534326 0 days 00:35:07.611855  \n",
       "4 2025-08-02 14:10:10.146930 0 days 00:40:13.621571  "
      ]
     },
     "execution_count": 5,
     "metadata": {},
     "output_type": "execute_result"
    }
   ],
   "source": [
    "first_round_core.head()"
   ]
  },
  {
   "cell_type": "code",
   "execution_count": 13,
   "id": "51144396",
   "metadata": {},
   "outputs": [],
   "source": [
    "def extract_new_bounds(df: pd.DataFrame, top_n=5, slack=0.1):\n",
    "    df = df.sort_values(\"value\", ascending=False)\n",
    "\n",
    "    topN = df.head(top_n)\n",
    "\n",
    "    new_bounds = {}\n",
    "    params = df.columns\n",
    "    params = params.drop([\"number\", \"value\", \"datetime_start\", \"duration\"])\n",
    "    for param in params:\n",
    "        if not is_numeric_dtype(topN[param]):\n",
    "            print(f\"Skipping parameter '{param}' as it is of type string.\")\n",
    "            print(f\"Top N values: {topN[param].value_counts()}\")\n",
    "            continue\n",
    "\n",
    "        print(f\"Top N values: {topN[param].value_counts()}\")\n",
    "        mn = float(topN[param].min())\n",
    "        mx = float(topN[param].max())\n",
    "        span = mx - mn\n",
    "\n",
    "        new_bounds[param] = (\n",
    "            max(0.0, mn - slack*span),\n",
    "            mx + slack*span\n",
    "        )\n",
    "\n",
    "    return new_bounds"
   ]
  },
  {
   "cell_type": "code",
   "execution_count": 14,
   "id": "9a0da826",
   "metadata": {},
   "outputs": [
    {
     "name": "stdout",
     "output_type": "stream",
     "text": [
      "Top N values: params_batch_size\n",
      "32     8\n",
      "256    1\n",
      "128    1\n",
      "Name: count, dtype: int64\n",
      "Top N values: params_clip_range\n",
      "0.25    3\n",
      "0.15    2\n",
      "0.10    2\n",
      "0.30    2\n",
      "0.20    1\n",
      "Name: count, dtype: int64\n",
      "Top N values: params_ent_coef\n",
      "0.000037    1\n",
      "0.000036    1\n",
      "0.000065    1\n",
      "0.000158    1\n",
      "0.000046    1\n",
      "0.000017    1\n",
      "0.000047    1\n",
      "0.000120    1\n",
      "0.000074    1\n",
      "0.000059    1\n",
      "Name: count, dtype: int64\n",
      "Top N values: params_learning_rate\n",
      "0.000014    1\n",
      "0.000026    1\n",
      "0.000088    1\n",
      "0.000282    1\n",
      "0.000066    1\n",
      "0.000011    1\n",
      "0.000013    1\n",
      "0.000366    1\n",
      "0.000083    1\n",
      "0.000098    1\n",
      "Name: count, dtype: int64\n",
      "Top N values: params_n_steps\n",
      "512     7\n",
      "256     2\n",
      "1024    1\n",
      "Name: count, dtype: int64\n",
      "Top N values: params_vf_coef\n",
      "0.75    4\n",
      "0.70    4\n",
      "0.65    1\n",
      "0.55    1\n",
      "Name: count, dtype: int64\n"
     ]
    },
    {
     "data": {
      "text/plain": [
       "{'params_batch_size': (0.0, 300.8),\n",
       " 'params_clip_range': (0.060000000000000005, 0.33999999999999997),\n",
       " 'params_ent_coef': (0.0, 0.00018576619024450198),\n",
       " 'params_learning_rate': (0.0, 0.0004375139700098582),\n",
       " 'params_n_steps': (102.39999999999998, 1177.6),\n",
       " 'params_vf_coef': (0.51, 0.79)}"
      ]
     },
     "execution_count": 14,
     "metadata": {},
     "output_type": "execute_result"
    }
   ],
   "source": [
    "second_round_core_bounds = extract_new_bounds(\n",
    "    first_round_core,\n",
    "    top_n=10,\n",
    "    slack=0.2\n",
    ")\n",
    "second_round_core_bounds"
   ]
  },
  {
   "cell_type": "code",
   "execution_count": 15,
   "id": "16b2193a",
   "metadata": {},
   "outputs": [
    {
     "name": "stdout",
     "output_type": "stream",
     "text": [
      "Skipping parameter 'params_activation' as it is of type string.\n",
      "Top N values: params_activation\n",
      "ReLU         5\n",
      "LeakyReLU    3\n",
      "Tanh         2\n",
      "Name: count, dtype: int64\n",
      "Top N values: params_hidden_size\n",
      "256    5\n",
      "128    3\n",
      "96     2\n",
      "Name: count, dtype: int64\n",
      "Top N values: params_n_layers\n",
      "3    7\n",
      "2    3\n",
      "Name: count, dtype: int64\n"
     ]
    },
    {
     "data": {
      "text/plain": [
       "{'params_hidden_size': (64.0, 288.0), 'params_n_layers': (1.8, 3.2)}"
      ]
     },
     "execution_count": 15,
     "metadata": {},
     "output_type": "execute_result"
    }
   ],
   "source": [
    "second_round_architecture_bounds = extract_new_bounds(\n",
    "    first_round_architecture,\n",
    "    top_n=10,\n",
    "    slack=0.2\n",
    ")\n",
    "second_round_architecture_bounds"
   ]
  },
  {
   "cell_type": "code",
   "execution_count": 16,
   "id": "ee432860",
   "metadata": {},
   "outputs": [
    {
     "name": "stdout",
     "output_type": "stream",
     "text": [
      "Top N values: params_gae_lambda\n",
      "0.90    6\n",
      "0.96    1\n",
      "0.92    1\n",
      "0.97    1\n",
      "0.91    1\n",
      "Name: count, dtype: int64\n",
      "Top N values: params_gamma\n",
      "0.953255    1\n",
      "0.959492    1\n",
      "0.950719    1\n",
      "0.953952    1\n",
      "0.973148    1\n",
      "0.953168    1\n",
      "0.955099    1\n",
      "0.951897    1\n",
      "0.957707    1\n",
      "0.956295    1\n",
      "Name: count, dtype: int64\n",
      "Top N values: params_use_target_kl\n",
      "0.015    4\n",
      "0.010    3\n",
      "0.020    2\n",
      "Name: count, dtype: int64\n"
     ]
    },
    {
     "data": {
      "text/plain": [
       "{'params_gae_lambda': (0.886, 0.984),\n",
       " 'params_gamma': (0.9462326259010265, 0.9776340549472341),\n",
       " 'params_use_target_kl': (0.008, 0.022)}"
      ]
     },
     "execution_count": 16,
     "metadata": {},
     "output_type": "execute_result"
    }
   ],
   "source": [
    "second_round_stability_bounds = extract_new_bounds(\n",
    "    first_round_stability,\n",
    "    top_n=10,\n",
    "    slack=0.2\n",
    ")\n",
    "second_round_stability_bounds"
   ]
  },
  {
   "cell_type": "markdown",
   "id": "cb530a6a",
   "metadata": {},
   "source": [
    "## Final Round Bounds"
   ]
  },
  {
   "cell_type": "code",
   "execution_count": 10,
   "id": "9df5e759",
   "metadata": {},
   "outputs": [
    {
     "data": {
      "text/plain": [
       "{'params_batch_size': (32.0, 32.0),\n",
       " 'params_clip_range': (0.085, 0.265),\n",
       " 'params_ent_coef': (2.3977304316759788e-05, 0.0001698329651584891),\n",
       " 'params_learning_rate': (0.0, 0.0003085764943436267),\n",
       " 'params_n_steps': (230.4, 537.6),\n",
       " 'params_vf_coef': (0.64, 0.76)}"
      ]
     },
     "execution_count": 10,
     "metadata": {},
     "output_type": "execute_result"
    }
   ],
   "source": [
    "final_round_core_bounds = extract_new_bounds(\n",
    "    second_round_core,\n",
    "    top_n=5,\n",
    "    slack=0.1\n",
    ")\n",
    "final_round_core_bounds"
   ]
  },
  {
   "cell_type": "code",
   "execution_count": 11,
   "id": "4e268352",
   "metadata": {},
   "outputs": [
    {
     "name": "stdout",
     "output_type": "stream",
     "text": [
      "Skipping parameter 'params_activation' as it is of type string.\n",
      "Top N values: params_activation\n",
      "ReLU         2\n",
      "Tanh         2\n",
      "LeakyReLU    1\n",
      "Name: count, dtype: int64\n"
     ]
    },
    {
     "data": {
      "text/plain": [
       "{'params_hidden_size': (80.0, 272.0), 'params_n_layers': (1.9, 3.1)}"
      ]
     },
     "execution_count": 11,
     "metadata": {},
     "output_type": "execute_result"
    }
   ],
   "source": [
    "final_round_architecture_bounds = extract_new_bounds(\n",
    "    second_round_architecture,\n",
    "    top_n=5,\n",
    "    slack=0.1\n",
    ")\n",
    "final_round_architecture_bounds"
   ]
  },
  {
   "cell_type": "code",
   "execution_count": 12,
   "id": "668e0287",
   "metadata": {},
   "outputs": [
    {
     "data": {
      "text/plain": [
       "{'params_gae_lambda': (0.894, 0.966),\n",
       " 'params_gamma': (0.9484755851186129, 0.9753910957296478),\n",
       " 'params_use_target_kl': (0.009000000000000001, 0.021)}"
      ]
     },
     "execution_count": 12,
     "metadata": {},
     "output_type": "execute_result"
    }
   ],
   "source": [
    "final_round_stability_bounds = extract_new_bounds(\n",
    "    second_round_stability,\n",
    "    top_n=5,\n",
    "    slack=0.1\n",
    ")\n",
    "final_round_stability_bounds"
   ]
  }
 ],
 "metadata": {
  "kernelspec": {
   "display_name": "py_310_torch_env",
   "language": "python",
   "name": "python3"
  },
  "language_info": {
   "codemirror_mode": {
    "name": "ipython",
    "version": 3
   },
   "file_extension": ".py",
   "mimetype": "text/x-python",
   "name": "python",
   "nbconvert_exporter": "python",
   "pygments_lexer": "ipython3",
   "version": "3.10.16"
  }
 },
 "nbformat": 4,
 "nbformat_minor": 5
}
