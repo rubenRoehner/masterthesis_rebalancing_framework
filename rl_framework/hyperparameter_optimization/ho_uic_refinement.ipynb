{
 "cells": [
  {
   "cell_type": "code",
   "execution_count": 1,
   "id": "fd070d68",
   "metadata": {},
   "outputs": [],
   "source": [
    "import pandas as pd\n",
    "from pandas.api.types import is_numeric_dtype"
   ]
  },
  {
   "cell_type": "code",
   "execution_count": 2,
   "id": "60622eca",
   "metadata": {},
   "outputs": [],
   "source": [
    "# first round\n",
    "first_round_core_file = \"../../ho_results/uic_ho_ppo-core_20250704-105628_final.pickle\"\n",
    "first_round_architecture_file = \"../../ho_results/uic_ho_architecture_20250705-132457_final.pickle\"\n",
    "first_round_stability_file = \"../../ho_results/uic_ho_stability_20250706-120526_final.pickle\"\n",
    "first_round_reward_weights_file = \"../../ho_results/uic_ho_rewardweights_20250707-074136_final.pickle\"\n",
    "\n",
    "# second round\n",
    "second_round_core_file = \"../../ho_results/uic_ho_ppo-core_20250707-212406_final.pickle\"\n",
    "second_round_architecture_file = \"../../ho_results/uic_ho_architecture_20250708-080127_final.pickle\"\n",
    "second_round_stability_file = \"../../ho_results/uic_ho_stability_20250708-200504_final.pickle\"\n",
    "second_round_reward_weights_file = \"../../ho_results/uic_ho_rewardweights_20250709-071648_final.pickle\""
   ]
  },
  {
   "cell_type": "code",
   "execution_count": 3,
   "id": "ebe85516",
   "metadata": {},
   "outputs": [],
   "source": [
    "first_round_core = pd.read_pickle(first_round_core_file)\n",
    "first_round_architecture = pd.read_pickle(first_round_architecture_file)\n",
    "first_round_reward_weights = pd.read_pickle(first_round_reward_weights_file)\n",
    "first_round_stability = pd.read_pickle(first_round_stability_file)"
   ]
  },
  {
   "cell_type": "code",
   "execution_count": 4,
   "id": "5bfc599f",
   "metadata": {},
   "outputs": [],
   "source": [
    "second_round_core = pd.read_pickle(second_round_core_file)\n",
    "second_round_architecture = pd.read_pickle(second_round_architecture_file)\n",
    "second_round_stability = pd.read_pickle(second_round_stability_file)\n",
    "second_round_reward_weights = pd.read_pickle(second_round_reward_weights_file)"
   ]
  },
  {
   "cell_type": "code",
   "execution_count": 5,
   "id": "74d3b88d",
   "metadata": {},
   "outputs": [
    {
     "data": {
      "text/html": [
       "<div>\n",
       "<style scoped>\n",
       "    .dataframe tbody tr th:only-of-type {\n",
       "        vertical-align: middle;\n",
       "    }\n",
       "\n",
       "    .dataframe tbody tr th {\n",
       "        vertical-align: top;\n",
       "    }\n",
       "\n",
       "    .dataframe thead th {\n",
       "        text-align: right;\n",
       "    }\n",
       "</style>\n",
       "<table border=\"1\" class=\"dataframe\">\n",
       "  <thead>\n",
       "    <tr style=\"text-align: right;\">\n",
       "      <th></th>\n",
       "      <th>number</th>\n",
       "      <th>params_batch_size</th>\n",
       "      <th>params_clip_range</th>\n",
       "      <th>params_ent_coef</th>\n",
       "      <th>params_learning_rate</th>\n",
       "      <th>params_n_steps</th>\n",
       "      <th>params_vf_coef</th>\n",
       "      <th>value</th>\n",
       "      <th>datetime_start</th>\n",
       "      <th>duration</th>\n",
       "    </tr>\n",
       "  </thead>\n",
       "  <tbody>\n",
       "    <tr>\n",
       "      <th>0</th>\n",
       "      <td>0</td>\n",
       "      <td>64</td>\n",
       "      <td>0.12</td>\n",
       "      <td>0.000002</td>\n",
       "      <td>0.000141</td>\n",
       "      <td>512</td>\n",
       "      <td>0.9</td>\n",
       "      <td>180.713818</td>\n",
       "      <td>2025-07-04 10:56:28.848295</td>\n",
       "      <td>0 days 00:20:02.800548</td>\n",
       "    </tr>\n",
       "    <tr>\n",
       "      <th>1</th>\n",
       "      <td>1</td>\n",
       "      <td>64</td>\n",
       "      <td>0.12</td>\n",
       "      <td>0.000009</td>\n",
       "      <td>0.000121</td>\n",
       "      <td>512</td>\n",
       "      <td>0.4</td>\n",
       "      <td>181.083621</td>\n",
       "      <td>2025-07-04 11:16:31.650241</td>\n",
       "      <td>0 days 00:20:02.164734</td>\n",
       "    </tr>\n",
       "    <tr>\n",
       "      <th>2</th>\n",
       "      <td>2</td>\n",
       "      <td>64</td>\n",
       "      <td>0.22</td>\n",
       "      <td>0.000003</td>\n",
       "      <td>0.000006</td>\n",
       "      <td>512</td>\n",
       "      <td>0.3</td>\n",
       "      <td>181.106377</td>\n",
       "      <td>2025-07-04 11:36:33.816262</td>\n",
       "      <td>0 days 00:20:00.182664</td>\n",
       "    </tr>\n",
       "    <tr>\n",
       "      <th>3</th>\n",
       "      <td>3</td>\n",
       "      <td>32</td>\n",
       "      <td>0.14</td>\n",
       "      <td>0.000085</td>\n",
       "      <td>0.000036</td>\n",
       "      <td>256</td>\n",
       "      <td>0.6</td>\n",
       "      <td>180.773171</td>\n",
       "      <td>2025-07-04 11:56:33.999679</td>\n",
       "      <td>0 days 00:22:56.034392</td>\n",
       "    </tr>\n",
       "    <tr>\n",
       "      <th>4</th>\n",
       "      <td>4</td>\n",
       "      <td>32</td>\n",
       "      <td>0.12</td>\n",
       "      <td>0.000727</td>\n",
       "      <td>0.000004</td>\n",
       "      <td>512</td>\n",
       "      <td>0.7</td>\n",
       "      <td>181.415604</td>\n",
       "      <td>2025-07-04 12:19:30.035209</td>\n",
       "      <td>0 days 00:23:10.669907</td>\n",
       "    </tr>\n",
       "  </tbody>\n",
       "</table>\n",
       "</div>"
      ],
      "text/plain": [
       "   number  params_batch_size  params_clip_range  params_ent_coef  \\\n",
       "0       0                 64               0.12         0.000002   \n",
       "1       1                 64               0.12         0.000009   \n",
       "2       2                 64               0.22         0.000003   \n",
       "3       3                 32               0.14         0.000085   \n",
       "4       4                 32               0.12         0.000727   \n",
       "\n",
       "   params_learning_rate  params_n_steps  params_vf_coef       value  \\\n",
       "0              0.000141             512             0.9  180.713818   \n",
       "1              0.000121             512             0.4  181.083621   \n",
       "2              0.000006             512             0.3  181.106377   \n",
       "3              0.000036             256             0.6  180.773171   \n",
       "4              0.000004             512             0.7  181.415604   \n",
       "\n",
       "              datetime_start               duration  \n",
       "0 2025-07-04 10:56:28.848295 0 days 00:20:02.800548  \n",
       "1 2025-07-04 11:16:31.650241 0 days 00:20:02.164734  \n",
       "2 2025-07-04 11:36:33.816262 0 days 00:20:00.182664  \n",
       "3 2025-07-04 11:56:33.999679 0 days 00:22:56.034392  \n",
       "4 2025-07-04 12:19:30.035209 0 days 00:23:10.669907  "
      ]
     },
     "execution_count": 5,
     "metadata": {},
     "output_type": "execute_result"
    }
   ],
   "source": [
    "first_round_core.head()"
   ]
  },
  {
   "cell_type": "code",
   "execution_count": 6,
   "id": "51144396",
   "metadata": {},
   "outputs": [],
   "source": [
    "def extract_new_bounds(df: pd.DataFrame, top_n=5, slack=0.1):\n",
    "    df = df.sort_values(\"value\", ascending=False)\n",
    "\n",
    "    topN = df.head(top_n)\n",
    "\n",
    "    new_bounds = {}\n",
    "    params = df.columns\n",
    "    params = params.drop([\"number\", \"value\", \"datetime_start\", \"duration\"])\n",
    "    for param in params:\n",
    "        if not is_numeric_dtype(topN[param]):\n",
    "            print(f\"Skipping parameter '{param}' as it is of type string.\")\n",
    "            print(f\"Top N values: {topN[param].value_counts()}\")\n",
    "            continue\n",
    "        mn = float(topN[param].min())\n",
    "        mx = float(topN[param].max())\n",
    "        span = mx - mn\n",
    "\n",
    "        new_bounds[param] = (\n",
    "            max(0.0, mn - slack*span),\n",
    "            mx + slack*span\n",
    "        )\n",
    "\n",
    "    return new_bounds"
   ]
  },
  {
   "cell_type": "code",
   "execution_count": 7,
   "id": "9a0da826",
   "metadata": {},
   "outputs": [
    {
     "data": {
      "text/plain": [
       "{'params_batch_size': (32.0, 32.0),\n",
       " 'params_clip_range': (0.09999999999999999, 0.24),\n",
       " 'params_ent_coef': (0.0, 0.0056188837849982945),\n",
       " 'params_learning_rate': (0.0, 3.503179856741068e-05),\n",
       " 'params_n_steps': (512.0, 512.0),\n",
       " 'params_vf_coef': (0.28, 1.12)}"
      ]
     },
     "execution_count": 7,
     "metadata": {},
     "output_type": "execute_result"
    }
   ],
   "source": [
    "second_round_core_bounds = extract_new_bounds(\n",
    "    first_round_core,\n",
    "    top_n=10,\n",
    "    slack=0.2\n",
    ")\n",
    "second_round_core_bounds"
   ]
  },
  {
   "cell_type": "code",
   "execution_count": 8,
   "id": "16b2193a",
   "metadata": {},
   "outputs": [
    {
     "name": "stdout",
     "output_type": "stream",
     "text": [
      "Skipping parameter 'params_activation' as it is of type string.\n",
      "Top N values: params_activation\n",
      "ReLU         7\n",
      "Tanh         2\n",
      "LeakyReLU    1\n",
      "Name: count, dtype: int64\n"
     ]
    },
    {
     "data": {
      "text/plain": [
       "{'params_hidden_size': (25.599999999999994, 294.4),\n",
       " 'params_n_layers': (1.8, 3.2)}"
      ]
     },
     "execution_count": 8,
     "metadata": {},
     "output_type": "execute_result"
    }
   ],
   "source": [
    "second_round_architecture_bounds = extract_new_bounds(\n",
    "    first_round_architecture,\n",
    "    top_n=10,\n",
    "    slack=0.2\n",
    ")\n",
    "second_round_architecture_bounds"
   ]
  },
  {
   "cell_type": "code",
   "execution_count": 9,
   "id": "ee432860",
   "metadata": {},
   "outputs": [
    {
     "data": {
      "text/plain": [
       "{'params_gae_lambda': (0.878, 0.962),\n",
       " 'params_gamma': (0.9132, 0.9538),\n",
       " 'params_use_target_kl': (0.008, 0.022)}"
      ]
     },
     "execution_count": 9,
     "metadata": {},
     "output_type": "execute_result"
    }
   ],
   "source": [
    "second_round_stability_bounds = extract_new_bounds(\n",
    "    first_round_stability,\n",
    "    top_n=10,\n",
    "    slack=0.2\n",
    ")\n",
    "second_round_stability_bounds"
   ]
  },
  {
   "cell_type": "code",
   "execution_count": 10,
   "id": "ebafe42c",
   "metadata": {},
   "outputs": [
    {
     "data": {
      "text/plain": [
       "{'params_reward_weight_demand': (0.07999999999999999, 0.92),\n",
       " 'params_reward_weight_gini': (0.0, 0.41800000000000004),\n",
       " 'params_reward_weight_rebalancing': (1.04, 2.16)}"
      ]
     },
     "execution_count": 10,
     "metadata": {},
     "output_type": "execute_result"
    }
   ],
   "source": [
    "second_round_reward_weights_bounds = extract_new_bounds(\n",
    "    first_round_reward_weights,\n",
    "    top_n=10,\n",
    "    slack=0.2\n",
    ")\n",
    "second_round_reward_weights_bounds"
   ]
  },
  {
   "cell_type": "markdown",
   "id": "cb530a6a",
   "metadata": {},
   "source": [
    "## Final Round Bounds"
   ]
  },
  {
   "cell_type": "code",
   "execution_count": 11,
   "id": "9df5e759",
   "metadata": {},
   "outputs": [
    {
     "data": {
      "text/plain": [
       "{'params_batch_size': (28.8, 67.2),\n",
       " 'params_clip_range': (0.08700000000000001, 0.24300000000000002),\n",
       " 'params_ent_coef': (0.0, 0.00027548754289985825),\n",
       " 'params_learning_rate': (7.137184032185694e-07, 4.917305025663012e-06),\n",
       " 'params_n_steps': (460.8, 1075.2),\n",
       " 'params_vf_coef': (0.339, 0.5910000000000001)}"
      ]
     },
     "execution_count": 11,
     "metadata": {},
     "output_type": "execute_result"
    }
   ],
   "source": [
    "final_round_core_bounds = extract_new_bounds(\n",
    "    second_round_core,\n",
    "    top_n=5,\n",
    "    slack=0.1\n",
    ")\n",
    "final_round_core_bounds"
   ]
  },
  {
   "cell_type": "code",
   "execution_count": 12,
   "id": "4e268352",
   "metadata": {},
   "outputs": [
    {
     "name": "stdout",
     "output_type": "stream",
     "text": [
      "Skipping parameter 'params_activation' as it is of type string.\n",
      "Top N values: params_activation\n",
      "ReLU    3\n",
      "Tanh    2\n",
      "Name: count, dtype: int64\n"
     ]
    },
    {
     "data": {
      "text/plain": [
       "{'params_hidden_size': (57.6, 134.4), 'params_n_layers': (1.9, 3.1)}"
      ]
     },
     "execution_count": 12,
     "metadata": {},
     "output_type": "execute_result"
    }
   ],
   "source": [
    "final_round_architecture_bounds = extract_new_bounds(\n",
    "    second_round_architecture,\n",
    "    top_n=5,\n",
    "    slack=0.1\n",
    ")\n",
    "final_round_architecture_bounds"
   ]
  },
  {
   "cell_type": "code",
   "execution_count": 13,
   "id": "668e0287",
   "metadata": {},
   "outputs": [
    {
     "data": {
      "text/plain": [
       "{'params_gae_lambda': (0.8923, 0.9607),\n",
       " 'params_gamma': (0.9188000000000001, 0.9571999999999999),\n",
       " 'params_use_target_kl': (0.0066, 0.023399999999999997)}"
      ]
     },
     "execution_count": 13,
     "metadata": {},
     "output_type": "execute_result"
    }
   ],
   "source": [
    "final_round_stability_bounds = extract_new_bounds(\n",
    "    second_round_stability,\n",
    "    top_n=5,\n",
    "    slack=0.1\n",
    ")\n",
    "final_round_stability_bounds"
   ]
  },
  {
   "cell_type": "code",
   "execution_count": 14,
   "id": "bf5fb5dd",
   "metadata": {},
   "outputs": [
    {
     "data": {
      "text/plain": [
       "{'params_reward_weight_demand': (0.09, 0.21000000000000002),\n",
       " 'params_reward_weight_gini': (0.0, 0.07700000000000001),\n",
       " 'params_reward_weight_rebalancing': (1.6700000000000002, 2.03)}"
      ]
     },
     "execution_count": 14,
     "metadata": {},
     "output_type": "execute_result"
    }
   ],
   "source": [
    "final_round_reward_weights_bounds = extract_new_bounds(\n",
    "    second_round_reward_weights,\n",
    "    top_n=5,\n",
    "    slack=0.1\n",
    ")\n",
    "final_round_reward_weights_bounds"
   ]
  }
 ],
 "metadata": {
  "kernelspec": {
   "display_name": "py_310_torch_env",
   "language": "python",
   "name": "python3"
  },
  "language_info": {
   "codemirror_mode": {
    "name": "ipython",
    "version": 3
   },
   "file_extension": ".py",
   "mimetype": "text/x-python",
   "name": "python",
   "nbconvert_exporter": "python",
   "pygments_lexer": "ipython3",
   "version": "3.10.16"
  }
 },
 "nbformat": 4,
 "nbformat_minor": 5
}
