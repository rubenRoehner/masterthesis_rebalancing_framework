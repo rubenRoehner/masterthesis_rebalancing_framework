{
 "cells": [
  {
   "cell_type": "markdown",
   "id": "3711f05f",
   "metadata": {},
   "source": [
    "# Evaluation Analysis"
   ]
  },
  {
   "cell_type": "code",
   "execution_count": 119,
   "id": "4a2b67c4",
   "metadata": {},
   "outputs": [],
   "source": [
    "# imports\n",
    "import pandas as pd\n",
    "import plotly.io as pio\n",
    "import plotly.graph_objects as go"
   ]
  },
  {
   "cell_type": "code",
   "execution_count": 120,
   "id": "5062de38",
   "metadata": {},
   "outputs": [],
   "source": [
    "# constants\n",
    "INPUT_FILE = \"../../results/hrl_evaluation_summary_results_20250814_183821.pickle\"\n",
    "BASLINE_FILE = \"../../results/greedy_baseline_raw_results_20250811_121744.pickle\"\n",
    "\n",
    "metrics = [\n",
    "    \"mean_satisfied_ratio\",\n",
    "    \"mean_gini_index\",\n",
    "    \"mean_rebalanced_vehicles_manually\",\n",
    "    \"mean_rebalanced_vehicles_incentives\",\n",
    "]\n",
    "pretty_labels = {\n",
    "    \"mean_satisfied_ratio\": \"Satisfied Demand Ratio\",\n",
    "    \"mean_gini_index\": \"Gini Coefficient\",\n",
    "    \"mean_rebalanced_vehicles_manually\": \"Rebalanced Vehicles (Manual)\",\n",
    "    \"mean_rebalanced_vehicles_incentives\": \"Rebalanced Vehicles (Incentives)\",\n",
    "}"
   ]
  },
  {
   "cell_type": "code",
   "execution_count": null,
   "id": "4df4a495",
   "metadata": {},
   "outputs": [],
   "source": [
    "# HS-Esslingen Theme\n",
    "HE_RED = \"#E2001A\"\n",
    "HE_BLUE = \"#002D72\"\n",
    "HE_GRAY = \"#5A5A5A\"\n",
    "HE_LIGHT_GRAY = \"#D1D1D1\"\n",
    "\n",
    "pio.templates[\"esslingen_cd\"] = go.layout.Template(\n",
    "    layout=go.Layout(\n",
    "        colorway=[HE_BLUE, HE_GRAY, HE_LIGHT_GRAY, \"#2C74B3\", \"#A1C9F4\"],\n",
    "        font=dict(\n",
    "            family=\"Arial, sans-serif\",\n",
    "            size=14,\n",
    "            color=HE_BLUE,  # Use the dark blue for text\n",
    "        ),\n",
    "        title=dict(font=dict(size=20, color=HE_BLUE)),\n",
    "        paper_bgcolor=\"white\",\n",
    "        plot_bgcolor=\"white\",\n",
    "        xaxis=dict(\n",
    "            gridcolor=HE_LIGHT_GRAY, linecolor=HE_BLUE, zerolinecolor=HE_LIGHT_GRAY\n",
    "        ),\n",
    "        yaxis=dict(\n",
    "            gridcolor=HE_LIGHT_GRAY, linecolor=HE_BLUE, zerolinecolor=HE_LIGHT_GRAY\n",
    "        ),\n",
    "    )\n",
    ")\n",
    "\n",
    "pio.templates.default = \"esslingen_cd\""
   ]
  },
  {
   "cell_type": "code",
   "execution_count": 122,
   "id": "bbbb5f45",
   "metadata": {},
   "outputs": [],
   "source": [
    "evaluation_data = pd.read_pickle(INPUT_FILE)\n",
    "baseline_data = pd.read_pickle(BASLINE_FILE)"
   ]
  },
  {
   "cell_type": "code",
   "execution_count": 123,
   "id": "3f96c82e",
   "metadata": {},
   "outputs": [
    {
     "data": {
      "text/html": [
       "<div>\n",
       "<style scoped>\n",
       "    .dataframe tbody tr th:only-of-type {\n",
       "        vertical-align: middle;\n",
       "    }\n",
       "\n",
       "    .dataframe tbody tr th {\n",
       "        vertical-align: top;\n",
       "    }\n",
       "\n",
       "    .dataframe thead th {\n",
       "        text-align: right;\n",
       "    }\n",
       "</style>\n",
       "<table border=\"1\" class=\"dataframe\">\n",
       "  <thead>\n",
       "    <tr style=\"text-align: right;\">\n",
       "      <th></th>\n",
       "      <th>configuration</th>\n",
       "      <th>manual_rebalancing</th>\n",
       "      <th>incentive_rebalancing</th>\n",
       "      <th>fleet_size</th>\n",
       "      <th>mean_satisfied_ratio</th>\n",
       "      <th>mean_satisfied_ratio_std</th>\n",
       "      <th>mean_rebalanced_vehicles_manually</th>\n",
       "      <th>mean_rebalanced_vehicles_manually_std</th>\n",
       "      <th>mean_rebalanced_vehicles_incentives</th>\n",
       "      <th>mean_rebalanced_vehicles_incentives_std</th>\n",
       "      <th>max_satisfied_ratio_mean</th>\n",
       "      <th>max_satisfied_ratio_std</th>\n",
       "      <th>min_satisfied_ratio_mean</th>\n",
       "      <th>min_satisfied_ratio_std</th>\n",
       "      <th>mean_gini_index</th>\n",
       "      <th>mean_gini_index_std</th>\n",
       "      <th>model</th>\n",
       "    </tr>\n",
       "    <tr>\n",
       "      <th>configuration</th>\n",
       "      <th></th>\n",
       "      <th></th>\n",
       "      <th></th>\n",
       "      <th></th>\n",
       "      <th></th>\n",
       "      <th></th>\n",
       "      <th></th>\n",
       "      <th></th>\n",
       "      <th></th>\n",
       "      <th></th>\n",
       "      <th></th>\n",
       "      <th></th>\n",
       "      <th></th>\n",
       "      <th></th>\n",
       "      <th></th>\n",
       "      <th></th>\n",
       "      <th></th>\n",
       "    </tr>\n",
       "  </thead>\n",
       "  <tbody>\n",
       "    <tr>\n",
       "      <th>HRL_Both_Enabled_1200</th>\n",
       "      <td>HRL_Both_Enabled_1200</td>\n",
       "      <td>True</td>\n",
       "      <td>True</td>\n",
       "      <td>1200</td>\n",
       "      <td>0.8350</td>\n",
       "      <td>0.0</td>\n",
       "      <td>6.9525</td>\n",
       "      <td>0.0</td>\n",
       "      <td>10.925</td>\n",
       "      <td>0.0</td>\n",
       "      <td>1.0000</td>\n",
       "      <td>0.0</td>\n",
       "      <td>0.3848</td>\n",
       "      <td>0.0</td>\n",
       "      <td>0.2814</td>\n",
       "      <td>0.0</td>\n",
       "      <td>HRL_Both_Enabled</td>\n",
       "    </tr>\n",
       "    <tr>\n",
       "      <th>HRL_Both_Enabled_600</th>\n",
       "      <td>HRL_Both_Enabled_600</td>\n",
       "      <td>True</td>\n",
       "      <td>True</td>\n",
       "      <td>600</td>\n",
       "      <td>0.7322</td>\n",
       "      <td>0.0</td>\n",
       "      <td>8.1000</td>\n",
       "      <td>0.0</td>\n",
       "      <td>10.905</td>\n",
       "      <td>0.0</td>\n",
       "      <td>1.0000</td>\n",
       "      <td>0.0</td>\n",
       "      <td>0.2279</td>\n",
       "      <td>0.0</td>\n",
       "      <td>0.3073</td>\n",
       "      <td>0.0</td>\n",
       "      <td>HRL_Both_Enabled</td>\n",
       "    </tr>\n",
       "    <tr>\n",
       "      <th>HRL_Both_Enabled_900</th>\n",
       "      <td>HRL_Both_Enabled_900</td>\n",
       "      <td>True</td>\n",
       "      <td>True</td>\n",
       "      <td>900</td>\n",
       "      <td>0.7979</td>\n",
       "      <td>0.0</td>\n",
       "      <td>7.6250</td>\n",
       "      <td>0.0</td>\n",
       "      <td>10.920</td>\n",
       "      <td>0.0</td>\n",
       "      <td>1.0000</td>\n",
       "      <td>0.0</td>\n",
       "      <td>0.2997</td>\n",
       "      <td>0.0</td>\n",
       "      <td>0.2649</td>\n",
       "      <td>0.0</td>\n",
       "      <td>HRL_Both_Enabled</td>\n",
       "    </tr>\n",
       "    <tr>\n",
       "      <th>HRL_Incentive_Only_1200</th>\n",
       "      <td>HRL_Incentive_Only_1200</td>\n",
       "      <td>False</td>\n",
       "      <td>True</td>\n",
       "      <td>1200</td>\n",
       "      <td>0.6870</td>\n",
       "      <td>0.0</td>\n",
       "      <td>0.0000</td>\n",
       "      <td>0.0</td>\n",
       "      <td>10.660</td>\n",
       "      <td>0.0</td>\n",
       "      <td>1.0000</td>\n",
       "      <td>0.0</td>\n",
       "      <td>0.2444</td>\n",
       "      <td>0.0</td>\n",
       "      <td>0.4305</td>\n",
       "      <td>0.0</td>\n",
       "      <td>HRL_Incentive_Only</td>\n",
       "    </tr>\n",
       "    <tr>\n",
       "      <th>HRL_Incentive_Only_600</th>\n",
       "      <td>HRL_Incentive_Only_600</td>\n",
       "      <td>False</td>\n",
       "      <td>True</td>\n",
       "      <td>600</td>\n",
       "      <td>0.5830</td>\n",
       "      <td>0.0</td>\n",
       "      <td>0.0000</td>\n",
       "      <td>0.0</td>\n",
       "      <td>10.635</td>\n",
       "      <td>0.0</td>\n",
       "      <td>0.9231</td>\n",
       "      <td>0.0</td>\n",
       "      <td>0.1587</td>\n",
       "      <td>0.0</td>\n",
       "      <td>0.4478</td>\n",
       "      <td>0.0</td>\n",
       "      <td>HRL_Incentive_Only</td>\n",
       "    </tr>\n",
       "  </tbody>\n",
       "</table>\n",
       "</div>"
      ],
      "text/plain": [
       "                                   configuration  manual_rebalancing  \\\n",
       "configuration                                                          \n",
       "HRL_Both_Enabled_1200      HRL_Both_Enabled_1200                True   \n",
       "HRL_Both_Enabled_600        HRL_Both_Enabled_600                True   \n",
       "HRL_Both_Enabled_900        HRL_Both_Enabled_900                True   \n",
       "HRL_Incentive_Only_1200  HRL_Incentive_Only_1200               False   \n",
       "HRL_Incentive_Only_600    HRL_Incentive_Only_600               False   \n",
       "\n",
       "                         incentive_rebalancing  fleet_size  \\\n",
       "configuration                                                \n",
       "HRL_Both_Enabled_1200                     True        1200   \n",
       "HRL_Both_Enabled_600                      True         600   \n",
       "HRL_Both_Enabled_900                      True         900   \n",
       "HRL_Incentive_Only_1200                   True        1200   \n",
       "HRL_Incentive_Only_600                    True         600   \n",
       "\n",
       "                         mean_satisfied_ratio  mean_satisfied_ratio_std  \\\n",
       "configuration                                                             \n",
       "HRL_Both_Enabled_1200                  0.8350                       0.0   \n",
       "HRL_Both_Enabled_600                   0.7322                       0.0   \n",
       "HRL_Both_Enabled_900                   0.7979                       0.0   \n",
       "HRL_Incentive_Only_1200                0.6870                       0.0   \n",
       "HRL_Incentive_Only_600                 0.5830                       0.0   \n",
       "\n",
       "                         mean_rebalanced_vehicles_manually  \\\n",
       "configuration                                                \n",
       "HRL_Both_Enabled_1200                               6.9525   \n",
       "HRL_Both_Enabled_600                                8.1000   \n",
       "HRL_Both_Enabled_900                                7.6250   \n",
       "HRL_Incentive_Only_1200                             0.0000   \n",
       "HRL_Incentive_Only_600                              0.0000   \n",
       "\n",
       "                         mean_rebalanced_vehicles_manually_std  \\\n",
       "configuration                                                    \n",
       "HRL_Both_Enabled_1200                                      0.0   \n",
       "HRL_Both_Enabled_600                                       0.0   \n",
       "HRL_Both_Enabled_900                                       0.0   \n",
       "HRL_Incentive_Only_1200                                    0.0   \n",
       "HRL_Incentive_Only_600                                     0.0   \n",
       "\n",
       "                         mean_rebalanced_vehicles_incentives  \\\n",
       "configuration                                                  \n",
       "HRL_Both_Enabled_1200                                 10.925   \n",
       "HRL_Both_Enabled_600                                  10.905   \n",
       "HRL_Both_Enabled_900                                  10.920   \n",
       "HRL_Incentive_Only_1200                               10.660   \n",
       "HRL_Incentive_Only_600                                10.635   \n",
       "\n",
       "                         mean_rebalanced_vehicles_incentives_std  \\\n",
       "configuration                                                      \n",
       "HRL_Both_Enabled_1200                                        0.0   \n",
       "HRL_Both_Enabled_600                                         0.0   \n",
       "HRL_Both_Enabled_900                                         0.0   \n",
       "HRL_Incentive_Only_1200                                      0.0   \n",
       "HRL_Incentive_Only_600                                       0.0   \n",
       "\n",
       "                         max_satisfied_ratio_mean  max_satisfied_ratio_std  \\\n",
       "configuration                                                                \n",
       "HRL_Both_Enabled_1200                      1.0000                      0.0   \n",
       "HRL_Both_Enabled_600                       1.0000                      0.0   \n",
       "HRL_Both_Enabled_900                       1.0000                      0.0   \n",
       "HRL_Incentive_Only_1200                    1.0000                      0.0   \n",
       "HRL_Incentive_Only_600                     0.9231                      0.0   \n",
       "\n",
       "                         min_satisfied_ratio_mean  min_satisfied_ratio_std  \\\n",
       "configuration                                                                \n",
       "HRL_Both_Enabled_1200                      0.3848                      0.0   \n",
       "HRL_Both_Enabled_600                       0.2279                      0.0   \n",
       "HRL_Both_Enabled_900                       0.2997                      0.0   \n",
       "HRL_Incentive_Only_1200                    0.2444                      0.0   \n",
       "HRL_Incentive_Only_600                     0.1587                      0.0   \n",
       "\n",
       "                         mean_gini_index  mean_gini_index_std  \\\n",
       "configuration                                                   \n",
       "HRL_Both_Enabled_1200             0.2814                  0.0   \n",
       "HRL_Both_Enabled_600              0.3073                  0.0   \n",
       "HRL_Both_Enabled_900              0.2649                  0.0   \n",
       "HRL_Incentive_Only_1200           0.4305                  0.0   \n",
       "HRL_Incentive_Only_600            0.4478                  0.0   \n",
       "\n",
       "                                      model  \n",
       "configuration                                \n",
       "HRL_Both_Enabled_1200      HRL_Both_Enabled  \n",
       "HRL_Both_Enabled_600       HRL_Both_Enabled  \n",
       "HRL_Both_Enabled_900       HRL_Both_Enabled  \n",
       "HRL_Incentive_Only_1200  HRL_Incentive_Only  \n",
       "HRL_Incentive_Only_600   HRL_Incentive_Only  "
      ]
     },
     "execution_count": 123,
     "metadata": {},
     "output_type": "execute_result"
    }
   ],
   "source": [
    "evaluation_data[\"model\"] = evaluation_data[\"configuration\"].str.replace(\n",
    "    r\"_(900|600|1200)$\", \"\", regex=True\n",
    ")\n",
    "evaluation_data = evaluation_data.rename(\n",
    "    columns={\n",
    "        \"mean_satisfied_ratio_mean\": \"mean_satisfied_ratio\",\n",
    "        \"mean_gini_index_mean\": \"mean_gini_index\",\n",
    "        \"mean_rebalanced_vehicles_manually_mean\": \"mean_rebalanced_vehicles_manually\",\n",
    "        \"mean_rebalanced_vehicles_incentives_mean\": \"mean_rebalanced_vehicles_incentives\",\n",
    "    }\n",
    ")\n",
    "evaluation_data.head()"
   ]
  },
  {
   "cell_type": "code",
   "execution_count": 124,
   "id": "57bbd778",
   "metadata": {},
   "outputs": [
    {
     "data": {
      "text/html": [
       "<div>\n",
       "<style scoped>\n",
       "    .dataframe tbody tr th:only-of-type {\n",
       "        vertical-align: middle;\n",
       "    }\n",
       "\n",
       "    .dataframe tbody tr th {\n",
       "        vertical-align: top;\n",
       "    }\n",
       "\n",
       "    .dataframe thead th {\n",
       "        text-align: right;\n",
       "    }\n",
       "</style>\n",
       "<table border=\"1\" class=\"dataframe\">\n",
       "  <thead>\n",
       "    <tr style=\"text-align: right;\">\n",
       "      <th></th>\n",
       "      <th>trial</th>\n",
       "      <th>seed</th>\n",
       "      <th>configuration</th>\n",
       "      <th>manual_rebalancing</th>\n",
       "      <th>incentive_rebalancing</th>\n",
       "      <th>fleet_size</th>\n",
       "      <th>mean_satisfied_ratio</th>\n",
       "      <th>mean_rebalanced_vehicles_manually</th>\n",
       "      <th>mean_rebalanced_vehicles_incentives</th>\n",
       "      <th>max_satisfied_ratio</th>\n",
       "      <th>min_satisfied_ratio</th>\n",
       "      <th>mean_gini_index</th>\n",
       "      <th>model</th>\n",
       "    </tr>\n",
       "  </thead>\n",
       "  <tbody>\n",
       "    <tr>\n",
       "      <th>0</th>\n",
       "      <td>0</td>\n",
       "      <td>15795</td>\n",
       "      <td>Both_Enabled_900</td>\n",
       "      <td>True</td>\n",
       "      <td>True</td>\n",
       "      <td>900</td>\n",
       "      <td>0.785096</td>\n",
       "      <td>0.02</td>\n",
       "      <td>35.8650</td>\n",
       "      <td>1.0</td>\n",
       "      <td>0.271924</td>\n",
       "      <td>0.376491</td>\n",
       "      <td>Baseline_Both_Enabled</td>\n",
       "    </tr>\n",
       "    <tr>\n",
       "      <th>1</th>\n",
       "      <td>0</td>\n",
       "      <td>15795</td>\n",
       "      <td>Manual_Only_900</td>\n",
       "      <td>True</td>\n",
       "      <td>False</td>\n",
       "      <td>900</td>\n",
       "      <td>0.804218</td>\n",
       "      <td>0.02</td>\n",
       "      <td>0.0000</td>\n",
       "      <td>1.0</td>\n",
       "      <td>0.285174</td>\n",
       "      <td>0.406844</td>\n",
       "      <td>Baseline_Manual_Only</td>\n",
       "    </tr>\n",
       "    <tr>\n",
       "      <th>2</th>\n",
       "      <td>0</td>\n",
       "      <td>15795</td>\n",
       "      <td>Incentive_Only_900</td>\n",
       "      <td>False</td>\n",
       "      <td>True</td>\n",
       "      <td>900</td>\n",
       "      <td>0.779028</td>\n",
       "      <td>0.00</td>\n",
       "      <td>36.6850</td>\n",
       "      <td>1.0</td>\n",
       "      <td>0.277603</td>\n",
       "      <td>0.384144</td>\n",
       "      <td>Baseline_Incentive_Only</td>\n",
       "    </tr>\n",
       "    <tr>\n",
       "      <th>3</th>\n",
       "      <td>0</td>\n",
       "      <td>15795</td>\n",
       "      <td>No_Rebalancing_900</td>\n",
       "      <td>False</td>\n",
       "      <td>False</td>\n",
       "      <td>900</td>\n",
       "      <td>0.804529</td>\n",
       "      <td>0.00</td>\n",
       "      <td>0.0000</td>\n",
       "      <td>1.0</td>\n",
       "      <td>0.297792</td>\n",
       "      <td>0.392109</td>\n",
       "      <td>Baseline_No_Rebalancing</td>\n",
       "    </tr>\n",
       "    <tr>\n",
       "      <th>4</th>\n",
       "      <td>0</td>\n",
       "      <td>15795</td>\n",
       "      <td>Both_Enabled_600</td>\n",
       "      <td>True</td>\n",
       "      <td>True</td>\n",
       "      <td>600</td>\n",
       "      <td>0.682681</td>\n",
       "      <td>0.14</td>\n",
       "      <td>46.3425</td>\n",
       "      <td>1.0</td>\n",
       "      <td>0.200000</td>\n",
       "      <td>0.427208</td>\n",
       "      <td>Baseline_Both_Enabled</td>\n",
       "    </tr>\n",
       "  </tbody>\n",
       "</table>\n",
       "</div>"
      ],
      "text/plain": [
       "   trial   seed       configuration  manual_rebalancing  \\\n",
       "0      0  15795    Both_Enabled_900                True   \n",
       "1      0  15795     Manual_Only_900                True   \n",
       "2      0  15795  Incentive_Only_900               False   \n",
       "3      0  15795  No_Rebalancing_900               False   \n",
       "4      0  15795    Both_Enabled_600                True   \n",
       "\n",
       "   incentive_rebalancing  fleet_size  mean_satisfied_ratio  \\\n",
       "0                   True         900              0.785096   \n",
       "1                  False         900              0.804218   \n",
       "2                   True         900              0.779028   \n",
       "3                  False         900              0.804529   \n",
       "4                   True         600              0.682681   \n",
       "\n",
       "   mean_rebalanced_vehicles_manually  mean_rebalanced_vehicles_incentives  \\\n",
       "0                               0.02                              35.8650   \n",
       "1                               0.02                               0.0000   \n",
       "2                               0.00                              36.6850   \n",
       "3                               0.00                               0.0000   \n",
       "4                               0.14                              46.3425   \n",
       "\n",
       "   max_satisfied_ratio  min_satisfied_ratio  mean_gini_index  \\\n",
       "0                  1.0             0.271924         0.376491   \n",
       "1                  1.0             0.285174         0.406844   \n",
       "2                  1.0             0.277603         0.384144   \n",
       "3                  1.0             0.297792         0.392109   \n",
       "4                  1.0             0.200000         0.427208   \n",
       "\n",
       "                     model  \n",
       "0    Baseline_Both_Enabled  \n",
       "1     Baseline_Manual_Only  \n",
       "2  Baseline_Incentive_Only  \n",
       "3  Baseline_No_Rebalancing  \n",
       "4    Baseline_Both_Enabled  "
      ]
     },
     "execution_count": 124,
     "metadata": {},
     "output_type": "execute_result"
    }
   ],
   "source": [
    "baseline_data[\"model\"] = baseline_data[\"configuration\"].apply(lambda x: f\"Baseline_{x}\")\n",
    "baseline_data[\"model\"] = baseline_data[\"model\"].str.replace(\n",
    "    r\"_(900|600|1200)$\", \"\", regex=True\n",
    ")\n",
    "baseline_data.head()"
   ]
  },
  {
   "cell_type": "code",
   "execution_count": 125,
   "id": "a280f259",
   "metadata": {},
   "outputs": [
    {
     "data": {
      "text/html": [
       "<div>\n",
       "<style scoped>\n",
       "    .dataframe tbody tr th:only-of-type {\n",
       "        vertical-align: middle;\n",
       "    }\n",
       "\n",
       "    .dataframe tbody tr th {\n",
       "        vertical-align: top;\n",
       "    }\n",
       "\n",
       "    .dataframe thead th {\n",
       "        text-align: right;\n",
       "    }\n",
       "</style>\n",
       "<table border=\"1\" class=\"dataframe\">\n",
       "  <thead>\n",
       "    <tr style=\"text-align: right;\">\n",
       "      <th></th>\n",
       "      <th>configuration</th>\n",
       "      <th>manual_rebalancing</th>\n",
       "      <th>incentive_rebalancing</th>\n",
       "      <th>fleet_size</th>\n",
       "      <th>mean_satisfied_ratio</th>\n",
       "      <th>mean_satisfied_ratio_std</th>\n",
       "      <th>mean_rebalanced_vehicles_manually</th>\n",
       "      <th>mean_rebalanced_vehicles_manually_std</th>\n",
       "      <th>mean_rebalanced_vehicles_incentives</th>\n",
       "      <th>mean_rebalanced_vehicles_incentives_std</th>\n",
       "      <th>...</th>\n",
       "      <th>max_satisfied_ratio_std</th>\n",
       "      <th>min_satisfied_ratio_mean</th>\n",
       "      <th>min_satisfied_ratio_std</th>\n",
       "      <th>mean_gini_index</th>\n",
       "      <th>mean_gini_index_std</th>\n",
       "      <th>model</th>\n",
       "      <th>trial</th>\n",
       "      <th>seed</th>\n",
       "      <th>max_satisfied_ratio</th>\n",
       "      <th>min_satisfied_ratio</th>\n",
       "    </tr>\n",
       "  </thead>\n",
       "  <tbody>\n",
       "    <tr>\n",
       "      <th>0</th>\n",
       "      <td>HRL_Both_Enabled_1200</td>\n",
       "      <td>True</td>\n",
       "      <td>True</td>\n",
       "      <td>1200</td>\n",
       "      <td>0.835000</td>\n",
       "      <td>0.0</td>\n",
       "      <td>6.9525</td>\n",
       "      <td>0.0</td>\n",
       "      <td>10.925</td>\n",
       "      <td>0.0</td>\n",
       "      <td>...</td>\n",
       "      <td>0.0</td>\n",
       "      <td>0.3848</td>\n",
       "      <td>0.0</td>\n",
       "      <td>0.281400</td>\n",
       "      <td>0.0</td>\n",
       "      <td>HRL Both Enabled</td>\n",
       "      <td>NaN</td>\n",
       "      <td>NaN</td>\n",
       "      <td>NaN</td>\n",
       "      <td>NaN</td>\n",
       "    </tr>\n",
       "    <tr>\n",
       "      <th>1</th>\n",
       "      <td>HRL_Both_Enabled_600</td>\n",
       "      <td>True</td>\n",
       "      <td>True</td>\n",
       "      <td>600</td>\n",
       "      <td>0.732200</td>\n",
       "      <td>0.0</td>\n",
       "      <td>8.1000</td>\n",
       "      <td>0.0</td>\n",
       "      <td>10.905</td>\n",
       "      <td>0.0</td>\n",
       "      <td>...</td>\n",
       "      <td>0.0</td>\n",
       "      <td>0.2279</td>\n",
       "      <td>0.0</td>\n",
       "      <td>0.307300</td>\n",
       "      <td>0.0</td>\n",
       "      <td>HRL Both Enabled</td>\n",
       "      <td>NaN</td>\n",
       "      <td>NaN</td>\n",
       "      <td>NaN</td>\n",
       "      <td>NaN</td>\n",
       "    </tr>\n",
       "    <tr>\n",
       "      <th>2</th>\n",
       "      <td>HRL_Both_Enabled_900</td>\n",
       "      <td>True</td>\n",
       "      <td>True</td>\n",
       "      <td>900</td>\n",
       "      <td>0.797900</td>\n",
       "      <td>0.0</td>\n",
       "      <td>7.6250</td>\n",
       "      <td>0.0</td>\n",
       "      <td>10.920</td>\n",
       "      <td>0.0</td>\n",
       "      <td>...</td>\n",
       "      <td>0.0</td>\n",
       "      <td>0.2997</td>\n",
       "      <td>0.0</td>\n",
       "      <td>0.264900</td>\n",
       "      <td>0.0</td>\n",
       "      <td>HRL Both Enabled</td>\n",
       "      <td>NaN</td>\n",
       "      <td>NaN</td>\n",
       "      <td>NaN</td>\n",
       "      <td>NaN</td>\n",
       "    </tr>\n",
       "    <tr>\n",
       "      <th>3</th>\n",
       "      <td>HRL_Incentive_Only_1200</td>\n",
       "      <td>False</td>\n",
       "      <td>True</td>\n",
       "      <td>1200</td>\n",
       "      <td>0.687000</td>\n",
       "      <td>0.0</td>\n",
       "      <td>0.0000</td>\n",
       "      <td>0.0</td>\n",
       "      <td>10.660</td>\n",
       "      <td>0.0</td>\n",
       "      <td>...</td>\n",
       "      <td>0.0</td>\n",
       "      <td>0.2444</td>\n",
       "      <td>0.0</td>\n",
       "      <td>0.430500</td>\n",
       "      <td>0.0</td>\n",
       "      <td>HRL Incentive Only</td>\n",
       "      <td>NaN</td>\n",
       "      <td>NaN</td>\n",
       "      <td>NaN</td>\n",
       "      <td>NaN</td>\n",
       "    </tr>\n",
       "    <tr>\n",
       "      <th>4</th>\n",
       "      <td>HRL_Incentive_Only_600</td>\n",
       "      <td>False</td>\n",
       "      <td>True</td>\n",
       "      <td>600</td>\n",
       "      <td>0.583000</td>\n",
       "      <td>0.0</td>\n",
       "      <td>0.0000</td>\n",
       "      <td>0.0</td>\n",
       "      <td>10.635</td>\n",
       "      <td>0.0</td>\n",
       "      <td>...</td>\n",
       "      <td>0.0</td>\n",
       "      <td>0.1587</td>\n",
       "      <td>0.0</td>\n",
       "      <td>0.447800</td>\n",
       "      <td>0.0</td>\n",
       "      <td>HRL Incentive Only</td>\n",
       "      <td>NaN</td>\n",
       "      <td>NaN</td>\n",
       "      <td>NaN</td>\n",
       "      <td>NaN</td>\n",
       "    </tr>\n",
       "    <tr>\n",
       "      <th>5</th>\n",
       "      <td>HRL_Incentive_Only_900</td>\n",
       "      <td>False</td>\n",
       "      <td>True</td>\n",
       "      <td>900</td>\n",
       "      <td>0.646900</td>\n",
       "      <td>0.0</td>\n",
       "      <td>0.0000</td>\n",
       "      <td>0.0</td>\n",
       "      <td>10.605</td>\n",
       "      <td>0.0</td>\n",
       "      <td>...</td>\n",
       "      <td>0.0</td>\n",
       "      <td>0.1987</td>\n",
       "      <td>0.0</td>\n",
       "      <td>0.441400</td>\n",
       "      <td>0.0</td>\n",
       "      <td>HRL Incentive Only</td>\n",
       "      <td>NaN</td>\n",
       "      <td>NaN</td>\n",
       "      <td>NaN</td>\n",
       "      <td>NaN</td>\n",
       "    </tr>\n",
       "    <tr>\n",
       "      <th>6</th>\n",
       "      <td>HRL_Manual_Only_1200</td>\n",
       "      <td>True</td>\n",
       "      <td>False</td>\n",
       "      <td>1200</td>\n",
       "      <td>0.903000</td>\n",
       "      <td>0.0</td>\n",
       "      <td>7.8200</td>\n",
       "      <td>0.0</td>\n",
       "      <td>0.000</td>\n",
       "      <td>0.0</td>\n",
       "      <td>...</td>\n",
       "      <td>0.0</td>\n",
       "      <td>0.3943</td>\n",
       "      <td>0.0</td>\n",
       "      <td>0.203800</td>\n",
       "      <td>0.0</td>\n",
       "      <td>HRL Manual Only</td>\n",
       "      <td>NaN</td>\n",
       "      <td>NaN</td>\n",
       "      <td>NaN</td>\n",
       "      <td>NaN</td>\n",
       "    </tr>\n",
       "    <tr>\n",
       "      <th>7</th>\n",
       "      <td>HRL_Manual_Only_600</td>\n",
       "      <td>True</td>\n",
       "      <td>False</td>\n",
       "      <td>600</td>\n",
       "      <td>0.747700</td>\n",
       "      <td>0.0</td>\n",
       "      <td>6.7650</td>\n",
       "      <td>0.0</td>\n",
       "      <td>0.000</td>\n",
       "      <td>0.0</td>\n",
       "      <td>...</td>\n",
       "      <td>0.0</td>\n",
       "      <td>0.2184</td>\n",
       "      <td>0.0</td>\n",
       "      <td>0.281400</td>\n",
       "      <td>0.0</td>\n",
       "      <td>HRL Manual Only</td>\n",
       "      <td>NaN</td>\n",
       "      <td>NaN</td>\n",
       "      <td>NaN</td>\n",
       "      <td>NaN</td>\n",
       "    </tr>\n",
       "    <tr>\n",
       "      <th>8</th>\n",
       "      <td>HRL_Manual_Only_900</td>\n",
       "      <td>True</td>\n",
       "      <td>False</td>\n",
       "      <td>900</td>\n",
       "      <td>0.843800</td>\n",
       "      <td>0.0</td>\n",
       "      <td>6.8650</td>\n",
       "      <td>0.0</td>\n",
       "      <td>0.000</td>\n",
       "      <td>0.0</td>\n",
       "      <td>...</td>\n",
       "      <td>0.0</td>\n",
       "      <td>0.3187</td>\n",
       "      <td>0.0</td>\n",
       "      <td>0.241000</td>\n",
       "      <td>0.0</td>\n",
       "      <td>HRL Manual Only</td>\n",
       "      <td>NaN</td>\n",
       "      <td>NaN</td>\n",
       "      <td>NaN</td>\n",
       "      <td>NaN</td>\n",
       "    </tr>\n",
       "    <tr>\n",
       "      <th>9</th>\n",
       "      <td>Both_Enabled_900</td>\n",
       "      <td>True</td>\n",
       "      <td>True</td>\n",
       "      <td>900</td>\n",
       "      <td>0.785096</td>\n",
       "      <td>NaN</td>\n",
       "      <td>0.0200</td>\n",
       "      <td>NaN</td>\n",
       "      <td>35.865</td>\n",
       "      <td>NaN</td>\n",
       "      <td>...</td>\n",
       "      <td>NaN</td>\n",
       "      <td>NaN</td>\n",
       "      <td>NaN</td>\n",
       "      <td>0.376491</td>\n",
       "      <td>NaN</td>\n",
       "      <td>Greedy Heuristic</td>\n",
       "      <td>0.0</td>\n",
       "      <td>15795.0</td>\n",
       "      <td>1.0</td>\n",
       "      <td>0.271924</td>\n",
       "    </tr>\n",
       "  </tbody>\n",
       "</table>\n",
       "<p>10 rows × 21 columns</p>\n",
       "</div>"
      ],
      "text/plain": [
       "             configuration  manual_rebalancing  incentive_rebalancing  \\\n",
       "0    HRL_Both_Enabled_1200                True                   True   \n",
       "1     HRL_Both_Enabled_600                True                   True   \n",
       "2     HRL_Both_Enabled_900                True                   True   \n",
       "3  HRL_Incentive_Only_1200               False                   True   \n",
       "4   HRL_Incentive_Only_600               False                   True   \n",
       "5   HRL_Incentive_Only_900               False                   True   \n",
       "6     HRL_Manual_Only_1200                True                  False   \n",
       "7      HRL_Manual_Only_600                True                  False   \n",
       "8      HRL_Manual_Only_900                True                  False   \n",
       "9         Both_Enabled_900                True                   True   \n",
       "\n",
       "   fleet_size  mean_satisfied_ratio  mean_satisfied_ratio_std  \\\n",
       "0        1200              0.835000                       0.0   \n",
       "1         600              0.732200                       0.0   \n",
       "2         900              0.797900                       0.0   \n",
       "3        1200              0.687000                       0.0   \n",
       "4         600              0.583000                       0.0   \n",
       "5         900              0.646900                       0.0   \n",
       "6        1200              0.903000                       0.0   \n",
       "7         600              0.747700                       0.0   \n",
       "8         900              0.843800                       0.0   \n",
       "9         900              0.785096                       NaN   \n",
       "\n",
       "   mean_rebalanced_vehicles_manually  mean_rebalanced_vehicles_manually_std  \\\n",
       "0                             6.9525                                    0.0   \n",
       "1                             8.1000                                    0.0   \n",
       "2                             7.6250                                    0.0   \n",
       "3                             0.0000                                    0.0   \n",
       "4                             0.0000                                    0.0   \n",
       "5                             0.0000                                    0.0   \n",
       "6                             7.8200                                    0.0   \n",
       "7                             6.7650                                    0.0   \n",
       "8                             6.8650                                    0.0   \n",
       "9                             0.0200                                    NaN   \n",
       "\n",
       "   mean_rebalanced_vehicles_incentives  \\\n",
       "0                               10.925   \n",
       "1                               10.905   \n",
       "2                               10.920   \n",
       "3                               10.660   \n",
       "4                               10.635   \n",
       "5                               10.605   \n",
       "6                                0.000   \n",
       "7                                0.000   \n",
       "8                                0.000   \n",
       "9                               35.865   \n",
       "\n",
       "   mean_rebalanced_vehicles_incentives_std  ...  max_satisfied_ratio_std  \\\n",
       "0                                      0.0  ...                      0.0   \n",
       "1                                      0.0  ...                      0.0   \n",
       "2                                      0.0  ...                      0.0   \n",
       "3                                      0.0  ...                      0.0   \n",
       "4                                      0.0  ...                      0.0   \n",
       "5                                      0.0  ...                      0.0   \n",
       "6                                      0.0  ...                      0.0   \n",
       "7                                      0.0  ...                      0.0   \n",
       "8                                      0.0  ...                      0.0   \n",
       "9                                      NaN  ...                      NaN   \n",
       "\n",
       "   min_satisfied_ratio_mean  min_satisfied_ratio_std  mean_gini_index  \\\n",
       "0                    0.3848                      0.0         0.281400   \n",
       "1                    0.2279                      0.0         0.307300   \n",
       "2                    0.2997                      0.0         0.264900   \n",
       "3                    0.2444                      0.0         0.430500   \n",
       "4                    0.1587                      0.0         0.447800   \n",
       "5                    0.1987                      0.0         0.441400   \n",
       "6                    0.3943                      0.0         0.203800   \n",
       "7                    0.2184                      0.0         0.281400   \n",
       "8                    0.3187                      0.0         0.241000   \n",
       "9                       NaN                      NaN         0.376491   \n",
       "\n",
       "   mean_gini_index_std               model trial     seed  \\\n",
       "0                  0.0    HRL Both Enabled   NaN      NaN   \n",
       "1                  0.0    HRL Both Enabled   NaN      NaN   \n",
       "2                  0.0    HRL Both Enabled   NaN      NaN   \n",
       "3                  0.0  HRL Incentive Only   NaN      NaN   \n",
       "4                  0.0  HRL Incentive Only   NaN      NaN   \n",
       "5                  0.0  HRL Incentive Only   NaN      NaN   \n",
       "6                  0.0     HRL Manual Only   NaN      NaN   \n",
       "7                  0.0     HRL Manual Only   NaN      NaN   \n",
       "8                  0.0     HRL Manual Only   NaN      NaN   \n",
       "9                  NaN    Greedy Heuristic   0.0  15795.0   \n",
       "\n",
       "   max_satisfied_ratio  min_satisfied_ratio  \n",
       "0                  NaN                  NaN  \n",
       "1                  NaN                  NaN  \n",
       "2                  NaN                  NaN  \n",
       "3                  NaN                  NaN  \n",
       "4                  NaN                  NaN  \n",
       "5                  NaN                  NaN  \n",
       "6                  NaN                  NaN  \n",
       "7                  NaN                  NaN  \n",
       "8                  NaN                  NaN  \n",
       "9                  1.0             0.271924  \n",
       "\n",
       "[10 rows x 21 columns]"
      ]
     },
     "execution_count": 125,
     "metadata": {},
     "output_type": "execute_result"
    }
   ],
   "source": [
    "full_results = pd.concat([evaluation_data, baseline_data], axis=0, ignore_index=True)\n",
    "full_results = full_results[full_results[\"model\"] != \"Baseline_Incentive_Only\"]\n",
    "full_results = full_results[full_results[\"model\"] != \"Baseline_Manual_Only\"]\n",
    "full_results[\"model\"] = full_results[\"model\"].str.replace(\n",
    "    \"HRL_Both_Enabled\", \"HRL Both Enabled\"\n",
    ")\n",
    "full_results[\"model\"] = full_results[\"model\"].str.replace(\n",
    "    \"HRL_Incentive_Only\", \"HRL Incentive Only\"\n",
    ")\n",
    "full_results[\"model\"] = full_results[\"model\"].str.replace(\n",
    "    \"HRL_Manual_Only\", \"HRL Manual Only\"\n",
    ")\n",
    "full_results[\"model\"] = full_results[\"model\"].str.replace(\n",
    "    \"Baseline_Both_Enabled\", \"Greedy Heuristic\"\n",
    ")\n",
    "full_results[\"model\"] = full_results[\"model\"].str.replace(\n",
    "    \"Baseline_No_Rebalancing\", \"No Rebalancing\"\n",
    ")\n",
    "\n",
    "full_results.head(10)"
   ]
  },
  {
   "cell_type": "markdown",
   "id": "1212bae0",
   "metadata": {},
   "source": [
    "## Latex Results Table"
   ]
  },
  {
   "cell_type": "code",
   "execution_count": 126,
   "id": "25766a88",
   "metadata": {},
   "outputs": [],
   "source": [
    "def results_to_latex(df: pd.DataFrame) -> str:\n",
    "    model_order = [\n",
    "        \"HRL Both Enabled\",\n",
    "        \"HRL Manual Only\",\n",
    "        \"HRL Incentive Only\",\n",
    "        \"No Rebalancing\",\n",
    "        \"Greedy Heuristic\",\n",
    "    ]\n",
    "\n",
    "    metrics = [\n",
    "        (\"mean_satisfied_ratio\", \"Satisfied Demand Ratio\"),\n",
    "        (\"mean_rebalanced_vehicles_manually\", \"Manual Rebal Cost\"),\n",
    "        (\"mean_rebalanced_vehicles_incentives\", \"Incentive Rebal Cost\"),\n",
    "        (\"mean_gini_index\", \"Gini Coefficient\"),\n",
    "    ]\n",
    "\n",
    "    maximize = {\"mean_satisfied_ratio\"}\n",
    "\n",
    "    fleets = sorted(df[\"fleet_size\"].unique())\n",
    "\n",
    "    lines = []\n",
    "    lines.append(r\"\\begin{tabularx}{\\textwidth}{lXXXX}\")\n",
    "    lines.append(r\"\\toprule\")\n",
    "    lines.append(\n",
    "        r\"\\textbf{Configuration} & \"\n",
    "        + \" & \".join([f\"\\\\textbf{{{name}}}\" for _, name in metrics])\n",
    "        + r\" \\\\\"\n",
    "    )\n",
    "    lines.append(r\"\\midrule\")\n",
    "\n",
    "    for fleet in fleets:\n",
    "        pct = int(round(fleet / 900 * 100))\n",
    "        lines.append(\n",
    "            rf\"\\multicolumn{{5}}{{l}}{{\\textit{{Fleet Size: {fleet} ({pct}\\%)}}}} \\\\\"\n",
    "        )\n",
    "\n",
    "        block = (\n",
    "            df[df[\"fleet_size\"] == fleet]\n",
    "            .groupby(\"model\")[[m for m, _ in metrics]]\n",
    "            .mean()\n",
    "            .reindex(model_order)\n",
    "        )\n",
    "\n",
    "        winners = {}\n",
    "        for m, _ in metrics:\n",
    "            col = block[m].dropna()\n",
    "            if col.empty:\n",
    "                winners[m] = set()\n",
    "                continue\n",
    "            if m in maximize:\n",
    "                best_val = col.max()\n",
    "            else:\n",
    "                best_val = col.min()\n",
    "            winners[m] = set(col[col == best_val].index)\n",
    "\n",
    "        for model in model_order:\n",
    "            if model not in block.index:\n",
    "                continue\n",
    "            row = block.loc[model]\n",
    "            out = []\n",
    "            for m, _ in metrics:\n",
    "                v = row[m]\n",
    "                s = f\"{v:.4g}\"\n",
    "                if model in winners[m]:\n",
    "                    s = r\"\\textbf{\" + s + r\"}\"\n",
    "                out.append(f\"[{s}]\")\n",
    "            lines.append(f\"{model} & \" + \" & \".join(out) + r\" \\\\\")\n",
    "        lines.append(r\"\\midrule\")\n",
    "\n",
    "    lines[-1] = r\"\\bottomrule\"\n",
    "    lines.append(r\"\\end{tabularx}\")\n",
    "    return \"\\n\".join(lines)"
   ]
  },
  {
   "cell_type": "code",
   "execution_count": 127,
   "id": "3336ff07",
   "metadata": {},
   "outputs": [
    {
     "name": "stdout",
     "output_type": "stream",
     "text": [
      "\\begin{tabularx}{\\textwidth}{lXXXX}\n",
      "\\toprule\n",
      "\\textbf{Configuration} & \\textbf{Satisfied Demand Ratio} & \\textbf{Manual Rebal Cost} & \\textbf{Incentive Rebal Cost} & \\textbf{Gini Coefficient} \\\\\n",
      "\\midrule\n",
      "\\multicolumn{5}{l}{\\textit{Fleet Size: 600 (67\\%)}} \\\\\n",
      "HRL Both Enabled & [0.7322] & [8.1] & [10.9] & [0.3073] \\\\\n",
      "HRL Manual Only & [\\textbf{0.7477}] & [6.765] & [\\textbf{0}] & [\\textbf{0.2814}] \\\\\n",
      "HRL Incentive Only & [0.583] & [\\textbf{0}] & [10.63] & [0.4478] \\\\\n",
      "No Rebalancing & [0.6956] & [\\textbf{0}] & [\\textbf{0}] & [0.4701] \\\\\n",
      "Greedy Heuristic & [0.6849] & [0.2457] & [46.28] & [0.4346] \\\\\n",
      "\\midrule\n",
      "\\multicolumn{5}{l}{\\textit{Fleet Size: 900 (100\\%)}} \\\\\n",
      "HRL Both Enabled & [0.7979] & [7.625] & [10.92] & [0.2649] \\\\\n",
      "HRL Manual Only & [\\textbf{0.8438}] & [6.865] & [\\textbf{0}] & [\\textbf{0.241}] \\\\\n",
      "HRL Incentive Only & [0.6469] & [\\textbf{0}] & [10.61] & [0.4414] \\\\\n",
      "No Rebalancing & [0.7972] & [\\textbf{0}] & [\\textbf{0}] & [0.4059] \\\\\n",
      "Greedy Heuristic & [0.7876] & [0.02] & [35.76] & [0.3807] \\\\\n",
      "\\midrule\n",
      "\\multicolumn{5}{l}{\\textit{Fleet Size: 1200 (133\\%)}} \\\\\n",
      "HRL Both Enabled & [0.835] & [6.952] & [10.93] & [0.2814] \\\\\n",
      "HRL Manual Only & [\\textbf{0.903}] & [7.82] & [\\textbf{0}] & [\\textbf{0.2038}] \\\\\n",
      "HRL Incentive Only & [0.687] & [\\textbf{0}] & [10.66] & [0.4305] \\\\\n",
      "No Rebalancing & [0.8611] & [\\textbf{0}] & [\\textbf{0}] & [0.3632] \\\\\n",
      "Greedy Heuristic & [0.8548] & [\\textbf{0}] & [27.16] & [0.3478] \\\\\n",
      "\\bottomrule\n",
      "\\end{tabularx}\n"
     ]
    }
   ],
   "source": [
    "print(results_to_latex(full_results))"
   ]
  },
  {
   "cell_type": "markdown",
   "id": "ae8dd568",
   "metadata": {},
   "source": [
    "## Bar Charts with error bars"
   ]
  },
  {
   "cell_type": "code",
   "execution_count": 128,
   "id": "a78e2102",
   "metadata": {},
   "outputs": [
    {
     "data": {
      "text/html": [
       "<div>\n",
       "<style scoped>\n",
       "    .dataframe tbody tr th:only-of-type {\n",
       "        vertical-align: middle;\n",
       "    }\n",
       "\n",
       "    .dataframe tbody tr th {\n",
       "        vertical-align: top;\n",
       "    }\n",
       "\n",
       "    .dataframe thead th {\n",
       "        text-align: right;\n",
       "    }\n",
       "</style>\n",
       "<table border=\"1\" class=\"dataframe\">\n",
       "  <thead>\n",
       "    <tr style=\"text-align: right;\">\n",
       "      <th></th>\n",
       "      <th>index</th>\n",
       "      <th>configuration</th>\n",
       "      <th>manual_rebalancing</th>\n",
       "      <th>incentive_rebalancing</th>\n",
       "      <th>fleet_size</th>\n",
       "      <th>mean_satisfied_ratio</th>\n",
       "      <th>mean_satisfied_ratio_std</th>\n",
       "      <th>mean_rebalanced_vehicles_manually</th>\n",
       "      <th>mean_rebalanced_vehicles_manually_std</th>\n",
       "      <th>mean_rebalanced_vehicles_incentives</th>\n",
       "      <th>...</th>\n",
       "      <th>max_satisfied_ratio_std</th>\n",
       "      <th>min_satisfied_ratio_mean</th>\n",
       "      <th>min_satisfied_ratio_std</th>\n",
       "      <th>mean_gini_index</th>\n",
       "      <th>mean_gini_index_std</th>\n",
       "      <th>model</th>\n",
       "      <th>trial</th>\n",
       "      <th>seed</th>\n",
       "      <th>max_satisfied_ratio</th>\n",
       "      <th>min_satisfied_ratio</th>\n",
       "    </tr>\n",
       "  </thead>\n",
       "  <tbody>\n",
       "    <tr>\n",
       "      <th>0</th>\n",
       "      <td>0</td>\n",
       "      <td>HRL_Both_Enabled_1200</td>\n",
       "      <td>True</td>\n",
       "      <td>True</td>\n",
       "      <td>1200</td>\n",
       "      <td>0.835000</td>\n",
       "      <td>0.0</td>\n",
       "      <td>6.9525</td>\n",
       "      <td>0.0</td>\n",
       "      <td>10.9250</td>\n",
       "      <td>...</td>\n",
       "      <td>0.0</td>\n",
       "      <td>0.3848</td>\n",
       "      <td>0.0</td>\n",
       "      <td>0.281400</td>\n",
       "      <td>0.0</td>\n",
       "      <td>HRL Both Enabled</td>\n",
       "      <td>NaN</td>\n",
       "      <td>NaN</td>\n",
       "      <td>NaN</td>\n",
       "      <td>NaN</td>\n",
       "    </tr>\n",
       "    <tr>\n",
       "      <th>1</th>\n",
       "      <td>1</td>\n",
       "      <td>HRL_Both_Enabled_600</td>\n",
       "      <td>True</td>\n",
       "      <td>True</td>\n",
       "      <td>600</td>\n",
       "      <td>0.732200</td>\n",
       "      <td>0.0</td>\n",
       "      <td>8.1000</td>\n",
       "      <td>0.0</td>\n",
       "      <td>10.9050</td>\n",
       "      <td>...</td>\n",
       "      <td>0.0</td>\n",
       "      <td>0.2279</td>\n",
       "      <td>0.0</td>\n",
       "      <td>0.307300</td>\n",
       "      <td>0.0</td>\n",
       "      <td>HRL Both Enabled</td>\n",
       "      <td>NaN</td>\n",
       "      <td>NaN</td>\n",
       "      <td>NaN</td>\n",
       "      <td>NaN</td>\n",
       "    </tr>\n",
       "    <tr>\n",
       "      <th>2</th>\n",
       "      <td>2</td>\n",
       "      <td>HRL_Both_Enabled_900</td>\n",
       "      <td>True</td>\n",
       "      <td>True</td>\n",
       "      <td>900</td>\n",
       "      <td>0.797900</td>\n",
       "      <td>0.0</td>\n",
       "      <td>7.6250</td>\n",
       "      <td>0.0</td>\n",
       "      <td>10.9200</td>\n",
       "      <td>...</td>\n",
       "      <td>0.0</td>\n",
       "      <td>0.2997</td>\n",
       "      <td>0.0</td>\n",
       "      <td>0.264900</td>\n",
       "      <td>0.0</td>\n",
       "      <td>HRL Both Enabled</td>\n",
       "      <td>NaN</td>\n",
       "      <td>NaN</td>\n",
       "      <td>NaN</td>\n",
       "      <td>NaN</td>\n",
       "    </tr>\n",
       "    <tr>\n",
       "      <th>3</th>\n",
       "      <td>3</td>\n",
       "      <td>HRL_Incentive_Only_1200</td>\n",
       "      <td>False</td>\n",
       "      <td>True</td>\n",
       "      <td>1200</td>\n",
       "      <td>0.687000</td>\n",
       "      <td>0.0</td>\n",
       "      <td>0.0000</td>\n",
       "      <td>0.0</td>\n",
       "      <td>10.6600</td>\n",
       "      <td>...</td>\n",
       "      <td>0.0</td>\n",
       "      <td>0.2444</td>\n",
       "      <td>0.0</td>\n",
       "      <td>0.430500</td>\n",
       "      <td>0.0</td>\n",
       "      <td>HRL Incentive Only</td>\n",
       "      <td>NaN</td>\n",
       "      <td>NaN</td>\n",
       "      <td>NaN</td>\n",
       "      <td>NaN</td>\n",
       "    </tr>\n",
       "    <tr>\n",
       "      <th>4</th>\n",
       "      <td>4</td>\n",
       "      <td>HRL_Incentive_Only_600</td>\n",
       "      <td>False</td>\n",
       "      <td>True</td>\n",
       "      <td>600</td>\n",
       "      <td>0.583000</td>\n",
       "      <td>0.0</td>\n",
       "      <td>0.0000</td>\n",
       "      <td>0.0</td>\n",
       "      <td>10.6350</td>\n",
       "      <td>...</td>\n",
       "      <td>0.0</td>\n",
       "      <td>0.1587</td>\n",
       "      <td>0.0</td>\n",
       "      <td>0.447800</td>\n",
       "      <td>0.0</td>\n",
       "      <td>HRL Incentive Only</td>\n",
       "      <td>NaN</td>\n",
       "      <td>NaN</td>\n",
       "      <td>NaN</td>\n",
       "      <td>NaN</td>\n",
       "    </tr>\n",
       "    <tr>\n",
       "      <th>5</th>\n",
       "      <td>5</td>\n",
       "      <td>HRL_Incentive_Only_900</td>\n",
       "      <td>False</td>\n",
       "      <td>True</td>\n",
       "      <td>900</td>\n",
       "      <td>0.646900</td>\n",
       "      <td>0.0</td>\n",
       "      <td>0.0000</td>\n",
       "      <td>0.0</td>\n",
       "      <td>10.6050</td>\n",
       "      <td>...</td>\n",
       "      <td>0.0</td>\n",
       "      <td>0.1987</td>\n",
       "      <td>0.0</td>\n",
       "      <td>0.441400</td>\n",
       "      <td>0.0</td>\n",
       "      <td>HRL Incentive Only</td>\n",
       "      <td>NaN</td>\n",
       "      <td>NaN</td>\n",
       "      <td>NaN</td>\n",
       "      <td>NaN</td>\n",
       "    </tr>\n",
       "    <tr>\n",
       "      <th>6</th>\n",
       "      <td>6</td>\n",
       "      <td>HRL_Manual_Only_1200</td>\n",
       "      <td>True</td>\n",
       "      <td>False</td>\n",
       "      <td>1200</td>\n",
       "      <td>0.903000</td>\n",
       "      <td>0.0</td>\n",
       "      <td>7.8200</td>\n",
       "      <td>0.0</td>\n",
       "      <td>0.0000</td>\n",
       "      <td>...</td>\n",
       "      <td>0.0</td>\n",
       "      <td>0.3943</td>\n",
       "      <td>0.0</td>\n",
       "      <td>0.203800</td>\n",
       "      <td>0.0</td>\n",
       "      <td>HRL Manual Only</td>\n",
       "      <td>NaN</td>\n",
       "      <td>NaN</td>\n",
       "      <td>NaN</td>\n",
       "      <td>NaN</td>\n",
       "    </tr>\n",
       "    <tr>\n",
       "      <th>7</th>\n",
       "      <td>7</td>\n",
       "      <td>HRL_Manual_Only_600</td>\n",
       "      <td>True</td>\n",
       "      <td>False</td>\n",
       "      <td>600</td>\n",
       "      <td>0.747700</td>\n",
       "      <td>0.0</td>\n",
       "      <td>6.7650</td>\n",
       "      <td>0.0</td>\n",
       "      <td>0.0000</td>\n",
       "      <td>...</td>\n",
       "      <td>0.0</td>\n",
       "      <td>0.2184</td>\n",
       "      <td>0.0</td>\n",
       "      <td>0.281400</td>\n",
       "      <td>0.0</td>\n",
       "      <td>HRL Manual Only</td>\n",
       "      <td>NaN</td>\n",
       "      <td>NaN</td>\n",
       "      <td>NaN</td>\n",
       "      <td>NaN</td>\n",
       "    </tr>\n",
       "    <tr>\n",
       "      <th>8</th>\n",
       "      <td>8</td>\n",
       "      <td>HRL_Manual_Only_900</td>\n",
       "      <td>True</td>\n",
       "      <td>False</td>\n",
       "      <td>900</td>\n",
       "      <td>0.843800</td>\n",
       "      <td>0.0</td>\n",
       "      <td>6.8650</td>\n",
       "      <td>0.0</td>\n",
       "      <td>0.0000</td>\n",
       "      <td>...</td>\n",
       "      <td>0.0</td>\n",
       "      <td>0.3187</td>\n",
       "      <td>0.0</td>\n",
       "      <td>0.241000</td>\n",
       "      <td>0.0</td>\n",
       "      <td>HRL Manual Only</td>\n",
       "      <td>NaN</td>\n",
       "      <td>NaN</td>\n",
       "      <td>NaN</td>\n",
       "      <td>NaN</td>\n",
       "    </tr>\n",
       "    <tr>\n",
       "      <th>9</th>\n",
       "      <td>9</td>\n",
       "      <td>Both_Enabled_900</td>\n",
       "      <td>True</td>\n",
       "      <td>True</td>\n",
       "      <td>900</td>\n",
       "      <td>0.785096</td>\n",
       "      <td>NaN</td>\n",
       "      <td>0.0200</td>\n",
       "      <td>NaN</td>\n",
       "      <td>35.8650</td>\n",
       "      <td>...</td>\n",
       "      <td>NaN</td>\n",
       "      <td>NaN</td>\n",
       "      <td>NaN</td>\n",
       "      <td>0.376491</td>\n",
       "      <td>NaN</td>\n",
       "      <td>Greedy Heuristic</td>\n",
       "      <td>0.0</td>\n",
       "      <td>15795.0</td>\n",
       "      <td>1.0</td>\n",
       "      <td>0.271924</td>\n",
       "    </tr>\n",
       "    <tr>\n",
       "      <th>10</th>\n",
       "      <td>12</td>\n",
       "      <td>No_Rebalancing_900</td>\n",
       "      <td>False</td>\n",
       "      <td>False</td>\n",
       "      <td>900</td>\n",
       "      <td>0.804529</td>\n",
       "      <td>NaN</td>\n",
       "      <td>0.0000</td>\n",
       "      <td>NaN</td>\n",
       "      <td>0.0000</td>\n",
       "      <td>...</td>\n",
       "      <td>NaN</td>\n",
       "      <td>NaN</td>\n",
       "      <td>NaN</td>\n",
       "      <td>0.392109</td>\n",
       "      <td>NaN</td>\n",
       "      <td>No Rebalancing</td>\n",
       "      <td>0.0</td>\n",
       "      <td>15795.0</td>\n",
       "      <td>1.0</td>\n",
       "      <td>0.297792</td>\n",
       "    </tr>\n",
       "    <tr>\n",
       "      <th>11</th>\n",
       "      <td>13</td>\n",
       "      <td>Both_Enabled_600</td>\n",
       "      <td>True</td>\n",
       "      <td>True</td>\n",
       "      <td>600</td>\n",
       "      <td>0.682681</td>\n",
       "      <td>NaN</td>\n",
       "      <td>0.1400</td>\n",
       "      <td>NaN</td>\n",
       "      <td>46.3425</td>\n",
       "      <td>...</td>\n",
       "      <td>NaN</td>\n",
       "      <td>NaN</td>\n",
       "      <td>NaN</td>\n",
       "      <td>0.427208</td>\n",
       "      <td>NaN</td>\n",
       "      <td>Greedy Heuristic</td>\n",
       "      <td>0.0</td>\n",
       "      <td>15795.0</td>\n",
       "      <td>1.0</td>\n",
       "      <td>0.200000</td>\n",
       "    </tr>\n",
       "    <tr>\n",
       "      <th>12</th>\n",
       "      <td>16</td>\n",
       "      <td>No_Rebalancing_600</td>\n",
       "      <td>False</td>\n",
       "      <td>False</td>\n",
       "      <td>600</td>\n",
       "      <td>0.698253</td>\n",
       "      <td>NaN</td>\n",
       "      <td>0.0000</td>\n",
       "      <td>NaN</td>\n",
       "      <td>0.0000</td>\n",
       "      <td>...</td>\n",
       "      <td>NaN</td>\n",
       "      <td>NaN</td>\n",
       "      <td>NaN</td>\n",
       "      <td>0.463502</td>\n",
       "      <td>NaN</td>\n",
       "      <td>No Rebalancing</td>\n",
       "      <td>0.0</td>\n",
       "      <td>15795.0</td>\n",
       "      <td>1.0</td>\n",
       "      <td>0.204416</td>\n",
       "    </tr>\n",
       "    <tr>\n",
       "      <th>13</th>\n",
       "      <td>17</td>\n",
       "      <td>Both_Enabled_1200</td>\n",
       "      <td>True</td>\n",
       "      <td>True</td>\n",
       "      <td>1200</td>\n",
       "      <td>0.849990</td>\n",
       "      <td>NaN</td>\n",
       "      <td>0.0000</td>\n",
       "      <td>NaN</td>\n",
       "      <td>27.7300</td>\n",
       "      <td>...</td>\n",
       "      <td>NaN</td>\n",
       "      <td>NaN</td>\n",
       "      <td>NaN</td>\n",
       "      <td>0.351710</td>\n",
       "      <td>NaN</td>\n",
       "      <td>Greedy Heuristic</td>\n",
       "      <td>0.0</td>\n",
       "      <td>15795.0</td>\n",
       "      <td>1.0</td>\n",
       "      <td>0.343849</td>\n",
       "    </tr>\n",
       "    <tr>\n",
       "      <th>14</th>\n",
       "      <td>20</td>\n",
       "      <td>No_Rebalancing_1200</td>\n",
       "      <td>False</td>\n",
       "      <td>False</td>\n",
       "      <td>1200</td>\n",
       "      <td>0.867782</td>\n",
       "      <td>NaN</td>\n",
       "      <td>0.0000</td>\n",
       "      <td>NaN</td>\n",
       "      <td>0.0000</td>\n",
       "      <td>...</td>\n",
       "      <td>NaN</td>\n",
       "      <td>NaN</td>\n",
       "      <td>NaN</td>\n",
       "      <td>0.342919</td>\n",
       "      <td>NaN</td>\n",
       "      <td>No Rebalancing</td>\n",
       "      <td>0.0</td>\n",
       "      <td>15795.0</td>\n",
       "      <td>1.0</td>\n",
       "      <td>0.369085</td>\n",
       "    </tr>\n",
       "  </tbody>\n",
       "</table>\n",
       "<p>15 rows × 22 columns</p>\n",
       "</div>"
      ],
      "text/plain": [
       "    index            configuration  manual_rebalancing  incentive_rebalancing  \\\n",
       "0       0    HRL_Both_Enabled_1200                True                   True   \n",
       "1       1     HRL_Both_Enabled_600                True                   True   \n",
       "2       2     HRL_Both_Enabled_900                True                   True   \n",
       "3       3  HRL_Incentive_Only_1200               False                   True   \n",
       "4       4   HRL_Incentive_Only_600               False                   True   \n",
       "5       5   HRL_Incentive_Only_900               False                   True   \n",
       "6       6     HRL_Manual_Only_1200                True                  False   \n",
       "7       7      HRL_Manual_Only_600                True                  False   \n",
       "8       8      HRL_Manual_Only_900                True                  False   \n",
       "9       9         Both_Enabled_900                True                   True   \n",
       "10     12       No_Rebalancing_900               False                  False   \n",
       "11     13         Both_Enabled_600                True                   True   \n",
       "12     16       No_Rebalancing_600               False                  False   \n",
       "13     17        Both_Enabled_1200                True                   True   \n",
       "14     20      No_Rebalancing_1200               False                  False   \n",
       "\n",
       "    fleet_size  mean_satisfied_ratio  mean_satisfied_ratio_std  \\\n",
       "0         1200              0.835000                       0.0   \n",
       "1          600              0.732200                       0.0   \n",
       "2          900              0.797900                       0.0   \n",
       "3         1200              0.687000                       0.0   \n",
       "4          600              0.583000                       0.0   \n",
       "5          900              0.646900                       0.0   \n",
       "6         1200              0.903000                       0.0   \n",
       "7          600              0.747700                       0.0   \n",
       "8          900              0.843800                       0.0   \n",
       "9          900              0.785096                       NaN   \n",
       "10         900              0.804529                       NaN   \n",
       "11         600              0.682681                       NaN   \n",
       "12         600              0.698253                       NaN   \n",
       "13        1200              0.849990                       NaN   \n",
       "14        1200              0.867782                       NaN   \n",
       "\n",
       "    mean_rebalanced_vehicles_manually  mean_rebalanced_vehicles_manually_std  \\\n",
       "0                              6.9525                                    0.0   \n",
       "1                              8.1000                                    0.0   \n",
       "2                              7.6250                                    0.0   \n",
       "3                              0.0000                                    0.0   \n",
       "4                              0.0000                                    0.0   \n",
       "5                              0.0000                                    0.0   \n",
       "6                              7.8200                                    0.0   \n",
       "7                              6.7650                                    0.0   \n",
       "8                              6.8650                                    0.0   \n",
       "9                              0.0200                                    NaN   \n",
       "10                             0.0000                                    NaN   \n",
       "11                             0.1400                                    NaN   \n",
       "12                             0.0000                                    NaN   \n",
       "13                             0.0000                                    NaN   \n",
       "14                             0.0000                                    NaN   \n",
       "\n",
       "    mean_rebalanced_vehicles_incentives  ...  max_satisfied_ratio_std  \\\n",
       "0                               10.9250  ...                      0.0   \n",
       "1                               10.9050  ...                      0.0   \n",
       "2                               10.9200  ...                      0.0   \n",
       "3                               10.6600  ...                      0.0   \n",
       "4                               10.6350  ...                      0.0   \n",
       "5                               10.6050  ...                      0.0   \n",
       "6                                0.0000  ...                      0.0   \n",
       "7                                0.0000  ...                      0.0   \n",
       "8                                0.0000  ...                      0.0   \n",
       "9                               35.8650  ...                      NaN   \n",
       "10                               0.0000  ...                      NaN   \n",
       "11                              46.3425  ...                      NaN   \n",
       "12                               0.0000  ...                      NaN   \n",
       "13                              27.7300  ...                      NaN   \n",
       "14                               0.0000  ...                      NaN   \n",
       "\n",
       "    min_satisfied_ratio_mean  min_satisfied_ratio_std  mean_gini_index  \\\n",
       "0                     0.3848                      0.0         0.281400   \n",
       "1                     0.2279                      0.0         0.307300   \n",
       "2                     0.2997                      0.0         0.264900   \n",
       "3                     0.2444                      0.0         0.430500   \n",
       "4                     0.1587                      0.0         0.447800   \n",
       "5                     0.1987                      0.0         0.441400   \n",
       "6                     0.3943                      0.0         0.203800   \n",
       "7                     0.2184                      0.0         0.281400   \n",
       "8                     0.3187                      0.0         0.241000   \n",
       "9                        NaN                      NaN         0.376491   \n",
       "10                       NaN                      NaN         0.392109   \n",
       "11                       NaN                      NaN         0.427208   \n",
       "12                       NaN                      NaN         0.463502   \n",
       "13                       NaN                      NaN         0.351710   \n",
       "14                       NaN                      NaN         0.342919   \n",
       "\n",
       "    mean_gini_index_std               model  trial     seed  \\\n",
       "0                   0.0    HRL Both Enabled    NaN      NaN   \n",
       "1                   0.0    HRL Both Enabled    NaN      NaN   \n",
       "2                   0.0    HRL Both Enabled    NaN      NaN   \n",
       "3                   0.0  HRL Incentive Only    NaN      NaN   \n",
       "4                   0.0  HRL Incentive Only    NaN      NaN   \n",
       "5                   0.0  HRL Incentive Only    NaN      NaN   \n",
       "6                   0.0     HRL Manual Only    NaN      NaN   \n",
       "7                   0.0     HRL Manual Only    NaN      NaN   \n",
       "8                   0.0     HRL Manual Only    NaN      NaN   \n",
       "9                   NaN    Greedy Heuristic    0.0  15795.0   \n",
       "10                  NaN      No Rebalancing    0.0  15795.0   \n",
       "11                  NaN    Greedy Heuristic    0.0  15795.0   \n",
       "12                  NaN      No Rebalancing    0.0  15795.0   \n",
       "13                  NaN    Greedy Heuristic    0.0  15795.0   \n",
       "14                  NaN      No Rebalancing    0.0  15795.0   \n",
       "\n",
       "    max_satisfied_ratio  min_satisfied_ratio  \n",
       "0                   NaN                  NaN  \n",
       "1                   NaN                  NaN  \n",
       "2                   NaN                  NaN  \n",
       "3                   NaN                  NaN  \n",
       "4                   NaN                  NaN  \n",
       "5                   NaN                  NaN  \n",
       "6                   NaN                  NaN  \n",
       "7                   NaN                  NaN  \n",
       "8                   NaN                  NaN  \n",
       "9                   1.0             0.271924  \n",
       "10                  1.0             0.297792  \n",
       "11                  1.0             0.200000  \n",
       "12                  1.0             0.204416  \n",
       "13                  1.0             0.343849  \n",
       "14                  1.0             0.369085  \n",
       "\n",
       "[15 rows x 22 columns]"
      ]
     },
     "execution_count": 128,
     "metadata": {},
     "output_type": "execute_result"
    }
   ],
   "source": [
    "bar_chart_data = full_results.copy()\n",
    "bar_chart_data.reset_index(inplace=True)\n",
    "bar_chart_data.head(15)"
   ]
  },
  {
   "cell_type": "code",
   "execution_count": 129,
   "id": "1033ab49",
   "metadata": {},
   "outputs": [],
   "source": [
    "def plot_grouped_bars_by_fleet(data: pd.DataFrame, metric: str):\n",
    "    agg = data.groupby([\"fleet_size\", \"model\"], as_index=False)[metric].agg(\n",
    "        mean=\"mean\", std=\"std\"\n",
    "    )\n",
    "    models = [\n",
    "        \"HRL Both Enabled\",\n",
    "        \"HRL Manual Only\",\n",
    "        \"HRL Incentive Only\",\n",
    "        \"No Rebalancing\",\n",
    "        \"Greedy Heuristic\",\n",
    "    ]\n",
    "\n",
    "    y_title = (globals().get(\"pretty_labels\") or {}).get(metric, metric)\n",
    "    y_is_ratio = metric in {\"mean_satisfied_ratio\", \"mean_gini_index\"}\n",
    "\n",
    "    fig = go.Figure()\n",
    "    for m in models:\n",
    "        sub = agg[agg[\"model\"] == m].sort_values(\"fleet_size\")\n",
    "        fig.add_trace(\n",
    "            go.Bar(\n",
    "                x=sub[\"fleet_size\"].astype(str),\n",
    "                y=sub[\"mean\"],\n",
    "                name=str(m),\n",
    "                error_y=dict(\n",
    "                    type=\"data\",\n",
    "                    array=sub[\"std\"].fillna(0.0),\n",
    "                    visible=True,\n",
    "                    color=HE_RED,\n",
    "                ),\n",
    "            )\n",
    "        )\n",
    "\n",
    "    fig.update_layout(\n",
    "        xaxis_title=\"Fleet size\",\n",
    "        yaxis_title=y_title,\n",
    "        barmode=\"group\",\n",
    "        bargap=0.2,\n",
    "        bargroupgap=0.12,\n",
    "        template=\"esslingen_cd\",\n",
    "        height=520,\n",
    "        width=820,\n",
    "        margin=dict(l=60, r=66, t=0, b=80),\n",
    "        legend=dict(orientation=\"h\", yanchor=\"bottom\", y=1.02, xanchor=\"left\", x=0),\n",
    "    )\n",
    "    if y_is_ratio:\n",
    "        fig.update_yaxes(tickformat=\".0%\")\n",
    "    return fig"
   ]
  },
  {
   "cell_type": "code",
   "execution_count": 130,
   "id": "e0179d1f",
   "metadata": {},
   "outputs": [
    {
     "data": {
      "application/vnd.plotly.v1+json": {
       "config": {
        "plotlyServerURL": "https://plot.ly"
       },
       "data": [
        {
         "error_y": {
          "array": {
           "bdata": "AAAAAAAAAAAAAAAAAAAAAAAAAAAAAAAA",
           "dtype": "f8"
          },
          "color": "#E2001A",
          "type": "data",
          "visible": true
         },
         "name": "HRL Both Enabled",
         "type": "bar",
         "x": [
          "600",
          "900",
          "1200"
         ],
         "y": {
          "bdata": "yjLEsS5u5z8OT6+UZYjpP7gehetRuOo/",
          "dtype": "f8"
         }
        },
        {
         "error_y": {
          "array": {
           "bdata": "AAAAAAAAAAAAAAAAAAAAAAAAAAAAAAAA",
           "dtype": "f8"
          },
          "color": "#E2001A",
          "type": "data",
          "visible": true
         },
         "name": "HRL Manual Only",
         "type": "bar",
         "x": [
          "600",
          "900",
          "1200"
         ],
         "y": {
          "bdata": "sAPnjCjt5z9xrIvbaADrP0w3iUFg5ew/",
          "dtype": "f8"
         }
        },
        {
         "error_y": {
          "array": {
           "bdata": "AAAAAAAAAAAAAAAAAAAAAAAAAAAAAAAA",
           "dtype": "f8"
          },
          "color": "#E2001A",
          "type": "data",
          "visible": true
         },
         "name": "HRL Incentive Only",
         "type": "bar",
         "x": [
          "600",
          "900",
          "1200"
         ],
         "y": {
          "bdata": "Di2yne+n4j9sCfmgZ7PkP5ZDi2zn++U/",
          "dtype": "f8"
         }
        },
        {
         "error_y": {
          "array": {
           "bdata": "DGJrrbS7gD/WlXyc93SAP5HdJEu3d30/",
           "dtype": "f8"
          },
          "color": "#E2001A",
          "type": "data",
          "visible": true
         },
         "name": "No Rebalancing",
         "type": "bar",
         "x": [
          "600",
          "900",
          "1200"
         ],
         "y": {
          "bdata": "JNwD/zBC5j+vxUeL1YLpP257f9o7jus/",
          "dtype": "f8"
         }
        },
        {
         "error_y": {
          "array": {
           "bdata": "ev2oKnI+fj+l8bszz8V/P9ZIK+gf2Xw/",
           "dtype": "f8"
          },
          "color": "#E2001A",
          "type": "data",
          "visible": true
         },
         "name": "Greedy Heuristic",
         "type": "bar",
         "x": [
          "600",
          "900",
          "1200"
         ],
         "y": {
          "bdata": "OtssOgrr5T/QLXKPqjPpPyDAKaHOWus/",
          "dtype": "f8"
         }
        }
       ],
       "layout": {
        "bargap": 0.2,
        "bargroupgap": 0.12,
        "barmode": "group",
        "height": 520,
        "legend": {
         "orientation": "h",
         "x": 0,
         "xanchor": "left",
         "y": 1.02,
         "yanchor": "bottom"
        },
        "margin": {
         "b": 80,
         "l": 60,
         "r": 66,
         "t": 0
        },
        "template": {
         "layout": {
          "colorway": [
           "#002D72",
           "#5A5A5A",
           "#D1D1D1",
           "#2C74B3",
           "#A1C9F4"
          ],
          "font": {
           "color": "#002D72",
           "family": "Arial, sans-serif",
           "size": 14
          },
          "paper_bgcolor": "white",
          "plot_bgcolor": "white",
          "title": {
           "font": {
            "color": "#002D72",
            "size": 20
           }
          },
          "xaxis": {
           "gridcolor": "#D1D1D1",
           "linecolor": "#002D72",
           "zerolinecolor": "#D1D1D1"
          },
          "yaxis": {
           "gridcolor": "#D1D1D1",
           "linecolor": "#002D72",
           "zerolinecolor": "#D1D1D1"
          }
         }
        },
        "width": 820,
        "xaxis": {
         "title": {
          "text": "Fleet size"
         }
        },
        "yaxis": {
         "tickformat": ".0%",
         "title": {
          "text": "Satisfied Demand Ratio"
         }
        }
       }
      }
     },
     "metadata": {},
     "output_type": "display_data"
    }
   ],
   "source": [
    "plot_grouped_bars_by_fleet(full_results, \"mean_satisfied_ratio\").show()"
   ]
  },
  {
   "cell_type": "code",
   "execution_count": 131,
   "id": "8ecbec5d",
   "metadata": {},
   "outputs": [
    {
     "data": {
      "application/vnd.plotly.v1+json": {
       "config": {
        "plotlyServerURL": "https://plot.ly"
       },
       "data": [
        {
         "error_y": {
          "array": {
           "bdata": "AAAAAAAAAAAAAAAAAAAAAAAAAAAAAAAA",
           "dtype": "f8"
          },
          "color": "#E2001A",
          "type": "data",
          "visible": true
         },
         "name": "HRL Both Enabled",
         "type": "bar",
         "x": [
          "600",
          "900",
          "1200"
         ],
         "y": {
          "bdata": "JuSDns2q0z8ydy0hH/TQP6YKRiV1AtI/",
          "dtype": "f8"
         }
        },
        {
         "error_y": {
          "array": {
           "bdata": "AAAAAAAAAAAAAAAAAAAAAAAAAAAAAAAA",
           "dtype": "f8"
          },
          "color": "#E2001A",
          "type": "data",
          "visible": true
         },
         "name": "HRL Manual Only",
         "type": "bar",
         "x": [
          "600",
          "900",
          "1200"
         ],
         "y": {
          "bdata": "pgpGJXUC0j8MAiuHFtnOP9lfdk8eFso/",
          "dtype": "f8"
         }
        },
        {
         "error_y": {
          "array": {
           "bdata": "AAAAAAAAAAAAAAAAAAAAAAAAAAAAAAAA",
           "dtype": "f8"
          },
          "color": "#E2001A",
          "type": "data",
          "visible": true
         },
         "name": "HRL Incentive Only",
         "type": "bar",
         "x": [
          "600",
          "900",
          "1200"
         ],
         "y": {
          "bdata": "8IXJVMGo3D/kFB3J5T/cP1pkO99Pjds/",
          "dtype": "f8"
         }
        },
        {
         "error_y": {
          "array": {
           "bdata": "WtkpJpBJgD8DpJSlkYt/P+ocXqUVHYE/",
           "dtype": "f8"
          },
          "color": "#E2001A",
          "type": "data",
          "visible": true
         },
         "name": "No Rebalancing",
         "type": "bar",
         "x": [
          "600",
          "900",
          "1200"
         ],
         "y": {
          "bdata": "tU1S9f0V3j/ATLf2bPrZPzG8RMTqPdc/",
          "dtype": "f8"
         }
        },
        {
         "error_y": {
          "array": {
           "bdata": "fhDig1IXfj+mg5pf/0R3PwJfADwlWXU/",
           "dtype": "f8"
          },
          "color": "#E2001A",
          "type": "data",
          "visible": true
         },
         "name": "Greedy Heuristic",
         "type": "bar",
         "x": [
          "600",
          "900",
          "1200"
         ],
         "y": {
          "bdata": "XoCuYM3Q2z9cnsb/8VzYP0RQjpLwQtY/",
          "dtype": "f8"
         }
        }
       ],
       "layout": {
        "bargap": 0.2,
        "bargroupgap": 0.12,
        "barmode": "group",
        "height": 520,
        "legend": {
         "orientation": "h",
         "x": 0,
         "xanchor": "left",
         "y": 1.02,
         "yanchor": "bottom"
        },
        "margin": {
         "b": 80,
         "l": 60,
         "r": 66,
         "t": 0
        },
        "template": {
         "layout": {
          "colorway": [
           "#002D72",
           "#5A5A5A",
           "#D1D1D1",
           "#2C74B3",
           "#A1C9F4"
          ],
          "font": {
           "color": "#002D72",
           "family": "Arial, sans-serif",
           "size": 14
          },
          "paper_bgcolor": "white",
          "plot_bgcolor": "white",
          "title": {
           "font": {
            "color": "#002D72",
            "size": 20
           }
          },
          "xaxis": {
           "gridcolor": "#D1D1D1",
           "linecolor": "#002D72",
           "zerolinecolor": "#D1D1D1"
          },
          "yaxis": {
           "gridcolor": "#D1D1D1",
           "linecolor": "#002D72",
           "zerolinecolor": "#D1D1D1"
          }
         }
        },
        "width": 820,
        "xaxis": {
         "title": {
          "text": "Fleet size"
         }
        },
        "yaxis": {
         "tickformat": ".0%",
         "title": {
          "text": "Gini Coefficient"
         }
        }
       }
      }
     },
     "metadata": {},
     "output_type": "display_data"
    }
   ],
   "source": [
    "plot_grouped_bars_by_fleet(full_results, \"mean_gini_index\").show()"
   ]
  },
  {
   "cell_type": "code",
   "execution_count": 132,
   "id": "6ca030d5",
   "metadata": {},
   "outputs": [
    {
     "data": {
      "application/vnd.plotly.v1+json": {
       "config": {
        "plotlyServerURL": "https://plot.ly"
       },
       "data": [
        {
         "error_y": {
          "array": {
           "bdata": "AAAAAAAAAAAAAAAAAAAAAAAAAAAAAAAA",
           "dtype": "f8"
          },
          "color": "#E2001A",
          "type": "data",
          "visible": true
         },
         "name": "HRL Both Enabled",
         "type": "bar",
         "x": [
          "600",
          "900",
          "1200"
         ],
         "y": {
          "bdata": "MzMzMzMzIEAAAAAAAIAeQI/C9ShczxtA",
          "dtype": "f8"
         }
        },
        {
         "error_y": {
          "array": {
           "bdata": "AAAAAAAAAAAAAAAAAAAAAAAAAAAAAAAA",
           "dtype": "f8"
          },
          "color": "#E2001A",
          "type": "data",
          "visible": true
         },
         "name": "HRL Manual Only",
         "type": "bar",
         "x": [
          "600",
          "900",
          "1200"
         ],
         "y": {
          "bdata": "j8L1KFwPG0D2KFyPwnUbQEjhehSuRx9A",
          "dtype": "f8"
         }
        },
        {
         "error_y": {
          "array": {
           "bdata": "AAAAAAAAAAAAAAAAAAAAAAAAAAAAAAAA",
           "dtype": "f8"
          },
          "color": "#E2001A",
          "type": "data",
          "visible": true
         },
         "name": "HRL Incentive Only",
         "type": "bar",
         "x": [
          "600",
          "900",
          "1200"
         ],
         "y": {
          "bdata": "AAAAAAAAAAAAAAAAAAAAAAAAAAAAAAAA",
          "dtype": "f8"
         }
        },
        {
         "error_y": {
          "array": {
           "bdata": "AAAAAAAAAAAAAAAAAAAAAAAAAAAAAAAA",
           "dtype": "f8"
          },
          "color": "#E2001A",
          "type": "data",
          "visible": true
         },
         "name": "No Rebalancing",
         "type": "bar",
         "x": [
          "600",
          "900",
          "1200"
         ],
         "y": {
          "bdata": "AAAAAAAAAAAAAAAAAAAAAAAAAAAAAAAA",
          "dtype": "f8"
         }
        },
        {
         "error_y": {
          "array": {
           "bdata": "HjJIpeFuxD8AAAAAAAAAAAAAAAAAAAAA",
           "dtype": "f8"
          },
          "color": "#E2001A",
          "type": "data",
          "visible": true
         },
         "name": "Greedy Heuristic",
         "type": "bar",
         "x": [
          "600",
          "900",
          "1200"
         ],
         "y": {
          "bdata": "2/l+arx0zz97FK5H4XqUPwAAAAAAAAAA",
          "dtype": "f8"
         }
        }
       ],
       "layout": {
        "bargap": 0.2,
        "bargroupgap": 0.12,
        "barmode": "group",
        "height": 520,
        "legend": {
         "orientation": "h",
         "x": 0,
         "xanchor": "left",
         "y": 1.02,
         "yanchor": "bottom"
        },
        "margin": {
         "b": 80,
         "l": 60,
         "r": 66,
         "t": 0
        },
        "template": {
         "layout": {
          "colorway": [
           "#002D72",
           "#5A5A5A",
           "#D1D1D1",
           "#2C74B3",
           "#A1C9F4"
          ],
          "font": {
           "color": "#002D72",
           "family": "Arial, sans-serif",
           "size": 14
          },
          "paper_bgcolor": "white",
          "plot_bgcolor": "white",
          "title": {
           "font": {
            "color": "#002D72",
            "size": 20
           }
          },
          "xaxis": {
           "gridcolor": "#D1D1D1",
           "linecolor": "#002D72",
           "zerolinecolor": "#D1D1D1"
          },
          "yaxis": {
           "gridcolor": "#D1D1D1",
           "linecolor": "#002D72",
           "zerolinecolor": "#D1D1D1"
          }
         }
        },
        "width": 820,
        "xaxis": {
         "title": {
          "text": "Fleet size"
         }
        },
        "yaxis": {
         "title": {
          "text": "Rebalanced Vehicles (Manual)"
         }
        }
       }
      }
     },
     "metadata": {},
     "output_type": "display_data"
    }
   ],
   "source": [
    "plot_grouped_bars_by_fleet(full_results, \"mean_rebalanced_vehicles_manually\").show()"
   ]
  },
  {
   "cell_type": "code",
   "execution_count": 133,
   "id": "8705ff41",
   "metadata": {},
   "outputs": [
    {
     "data": {
      "application/vnd.plotly.v1+json": {
       "config": {
        "plotlyServerURL": "https://plot.ly"
       },
       "data": [
        {
         "error_y": {
          "array": {
           "bdata": "AAAAAAAAAAAAAAAAAAAAAAAAAAAAAAAA",
           "dtype": "f8"
          },
          "color": "#E2001A",
          "type": "data",
          "visible": true
         },
         "name": "HRL Both Enabled",
         "type": "bar",
         "x": [
          "600",
          "900",
          "1200"
         ],
         "y": {
          "bdata": "j8L1KFzPJUDXo3A9CtclQJqZmZmZ2SVA",
          "dtype": "f8"
         }
        },
        {
         "error_y": {
          "array": {
           "bdata": "AAAAAAAAAAAAAAAAAAAAAAAAAAAAAAAA",
           "dtype": "f8"
          },
          "color": "#E2001A",
          "type": "data",
          "visible": true
         },
         "name": "HRL Manual Only",
         "type": "bar",
         "x": [
          "600",
          "900",
          "1200"
         ],
         "y": {
          "bdata": "AAAAAAAAAAAAAAAAAAAAAAAAAAAAAAAA",
          "dtype": "f8"
         }
        },
        {
         "error_y": {
          "array": {
           "bdata": "AAAAAAAAAAAAAAAAAAAAAAAAAAAAAAAA",
           "dtype": "f8"
          },
          "color": "#E2001A",
          "type": "data",
          "visible": true
         },
         "name": "HRL Incentive Only",
         "type": "bar",
         "x": [
          "600",
          "900",
          "1200"
         ],
         "y": {
          "bdata": "hetRuB5FJUD2KFyPwjUlQFK4HoXrUSVA",
          "dtype": "f8"
         }
        },
        {
         "error_y": {
          "array": {
           "bdata": "AAAAAAAAAAAAAAAAAAAAAAAAAAAAAAAA",
           "dtype": "f8"
          },
          "color": "#E2001A",
          "type": "data",
          "visible": true
         },
         "name": "No Rebalancing",
         "type": "bar",
         "x": [
          "600",
          "900",
          "1200"
         ],
         "y": {
          "bdata": "AAAAAAAAAAAAAAAAAAAAAAAAAAAAAAAA",
          "dtype": "f8"
         }
        },
        {
         "error_y": {
          "array": {
           "bdata": "ja3y8Nhz5j92oLQtDMjsPyB/H9YSXPI/",
           "dtype": "f8"
          },
          "color": "#E2001A",
          "type": "data",
          "visible": true
         },
         "name": "Greedy Heuristic",
         "type": "bar",
         "x": [
          "600",
          "900",
          "1200"
         ],
         "y": {
          "bdata": "Nl66SQwkR0ACK4cW2eBBQKjGSzeJKTtA",
          "dtype": "f8"
         }
        }
       ],
       "layout": {
        "bargap": 0.2,
        "bargroupgap": 0.12,
        "barmode": "group",
        "height": 520,
        "legend": {
         "orientation": "h",
         "x": 0,
         "xanchor": "left",
         "y": 1.02,
         "yanchor": "bottom"
        },
        "margin": {
         "b": 80,
         "l": 60,
         "r": 66,
         "t": 0
        },
        "template": {
         "layout": {
          "colorway": [
           "#002D72",
           "#5A5A5A",
           "#D1D1D1",
           "#2C74B3",
           "#A1C9F4"
          ],
          "font": {
           "color": "#002D72",
           "family": "Arial, sans-serif",
           "size": 14
          },
          "paper_bgcolor": "white",
          "plot_bgcolor": "white",
          "title": {
           "font": {
            "color": "#002D72",
            "size": 20
           }
          },
          "xaxis": {
           "gridcolor": "#D1D1D1",
           "linecolor": "#002D72",
           "zerolinecolor": "#D1D1D1"
          },
          "yaxis": {
           "gridcolor": "#D1D1D1",
           "linecolor": "#002D72",
           "zerolinecolor": "#D1D1D1"
          }
         }
        },
        "width": 820,
        "xaxis": {
         "title": {
          "text": "Fleet size"
         }
        },
        "yaxis": {
         "title": {
          "text": "Rebalanced Vehicles (Incentives)"
         }
        }
       }
      }
     },
     "metadata": {},
     "output_type": "display_data"
    }
   ],
   "source": [
    "plot_grouped_bars_by_fleet(full_results, \"mean_rebalanced_vehicles_incentives\").show()"
   ]
  },
  {
   "cell_type": "markdown",
   "id": "279ac1b1",
   "metadata": {},
   "source": [
    "## Line Charts across fleet size"
   ]
  },
  {
   "cell_type": "code",
   "execution_count": 134,
   "id": "eaf1f5d1",
   "metadata": {},
   "outputs": [],
   "source": [
    "def plot_fleet_linechart(data: pd.DataFrame, metric: str):\n",
    "    agg = data.groupby([\"model\", \"fleet_size\"], as_index=False)[metric].agg(\n",
    "        mean=\"mean\", std=\"std\"\n",
    "    )\n",
    "    fleets = sorted(agg[\"fleet_size\"].unique())\n",
    "    models = [\n",
    "        \"HRL Both Enabled\",\n",
    "        \"HRL Manual Only\",\n",
    "        \"HRL Incentive Only\",\n",
    "        \"No Rebalancing\",\n",
    "        \"Greedy Heuristic\",\n",
    "    ]\n",
    "\n",
    "    y_title = (globals().get(\"pretty_labels\") or {}).get(metric, metric)\n",
    "    y_is_ratio = metric in {\"mean_satisfied_ratio\", \"mean_gini_index\"}\n",
    "\n",
    "    fig = go.Figure()\n",
    "    for m in models:\n",
    "        sub = agg[agg[\"model\"] == m].sort_values(\"fleet_size\")\n",
    "        fig.add_trace(\n",
    "            go.Scatter(\n",
    "                x=sub[\"fleet_size\"],\n",
    "                y=sub[\"mean\"],\n",
    "                name=str(m),\n",
    "                mode=\"lines+markers\",\n",
    "                error_y=dict(type=\"data\", array=sub[\"std\"].fillna(0.0), visible=True),\n",
    "                hovertemplate=\"Model=%{text}<br>Fleet=%{x}<br>Mean=%{y:.4f}<extra></extra>\",\n",
    "                text=[m] * len(sub),\n",
    "            )\n",
    "        )\n",
    "\n",
    "    fig.update_layout(\n",
    "        xaxis_title=\"Fleet size\",\n",
    "        yaxis_title=y_title,\n",
    "        template=\"esslingen_cd\",\n",
    "        height=500,\n",
    "        width=800,\n",
    "        margin=dict(l=60, r=66, t=0, b=80),\n",
    "        legend=dict(orientation=\"h\", yanchor=\"bottom\", y=1.02, xanchor=\"left\", x=0),\n",
    "    )\n",
    "    if y_is_ratio:\n",
    "        fig.update_yaxes(tickformat=\".0%\")\n",
    "    fig.update_xaxes(\n",
    "        type=\"category\", categoryorder=\"array\", categoryarray=[str(f) for f in fleets]\n",
    "    )\n",
    "    return fig"
   ]
  },
  {
   "cell_type": "code",
   "execution_count": 135,
   "id": "9632c1e2",
   "metadata": {},
   "outputs": [
    {
     "data": {
      "application/vnd.plotly.v1+json": {
       "config": {
        "plotlyServerURL": "https://plot.ly"
       },
       "data": [
        {
         "error_y": {
          "array": {
           "bdata": "AAAAAAAAAAAAAAAAAAAAAAAAAAAAAAAA",
           "dtype": "f8"
          },
          "type": "data",
          "visible": true
         },
         "hovertemplate": "Model=%{text}<br>Fleet=%{x}<br>Mean=%{y:.4f}<extra></extra>",
         "mode": "lines+markers",
         "name": "HRL Both Enabled",
         "text": [
          "HRL Both Enabled",
          "HRL Both Enabled",
          "HRL Both Enabled"
         ],
         "type": "scatter",
         "x": {
          "bdata": "WAKEA7AE",
          "dtype": "i2"
         },
         "y": {
          "bdata": "yjLEsS5u5z8OT6+UZYjpP7gehetRuOo/",
          "dtype": "f8"
         }
        },
        {
         "error_y": {
          "array": {
           "bdata": "AAAAAAAAAAAAAAAAAAAAAAAAAAAAAAAA",
           "dtype": "f8"
          },
          "type": "data",
          "visible": true
         },
         "hovertemplate": "Model=%{text}<br>Fleet=%{x}<br>Mean=%{y:.4f}<extra></extra>",
         "mode": "lines+markers",
         "name": "HRL Manual Only",
         "text": [
          "HRL Manual Only",
          "HRL Manual Only",
          "HRL Manual Only"
         ],
         "type": "scatter",
         "x": {
          "bdata": "WAKEA7AE",
          "dtype": "i2"
         },
         "y": {
          "bdata": "sAPnjCjt5z9xrIvbaADrP0w3iUFg5ew/",
          "dtype": "f8"
         }
        },
        {
         "error_y": {
          "array": {
           "bdata": "AAAAAAAAAAAAAAAAAAAAAAAAAAAAAAAA",
           "dtype": "f8"
          },
          "type": "data",
          "visible": true
         },
         "hovertemplate": "Model=%{text}<br>Fleet=%{x}<br>Mean=%{y:.4f}<extra></extra>",
         "mode": "lines+markers",
         "name": "HRL Incentive Only",
         "text": [
          "HRL Incentive Only",
          "HRL Incentive Only",
          "HRL Incentive Only"
         ],
         "type": "scatter",
         "x": {
          "bdata": "WAKEA7AE",
          "dtype": "i2"
         },
         "y": {
          "bdata": "Di2yne+n4j9sCfmgZ7PkP5ZDi2zn++U/",
          "dtype": "f8"
         }
        },
        {
         "error_y": {
          "array": {
           "bdata": "DGJrrbS7gD/WlXyc93SAP5HdJEu3d30/",
           "dtype": "f8"
          },
          "type": "data",
          "visible": true
         },
         "hovertemplate": "Model=%{text}<br>Fleet=%{x}<br>Mean=%{y:.4f}<extra></extra>",
         "mode": "lines+markers",
         "name": "No Rebalancing",
         "text": [
          "No Rebalancing",
          "No Rebalancing",
          "No Rebalancing"
         ],
         "type": "scatter",
         "x": {
          "bdata": "WAKEA7AE",
          "dtype": "i2"
         },
         "y": {
          "bdata": "JNwD/zBC5j+vxUeL1YLpP257f9o7jus/",
          "dtype": "f8"
         }
        },
        {
         "error_y": {
          "array": {
           "bdata": "ev2oKnI+fj+l8bszz8V/P9ZIK+gf2Xw/",
           "dtype": "f8"
          },
          "type": "data",
          "visible": true
         },
         "hovertemplate": "Model=%{text}<br>Fleet=%{x}<br>Mean=%{y:.4f}<extra></extra>",
         "mode": "lines+markers",
         "name": "Greedy Heuristic",
         "text": [
          "Greedy Heuristic",
          "Greedy Heuristic",
          "Greedy Heuristic"
         ],
         "type": "scatter",
         "x": {
          "bdata": "WAKEA7AE",
          "dtype": "i2"
         },
         "y": {
          "bdata": "OtssOgrr5T/QLXKPqjPpPyDAKaHOWus/",
          "dtype": "f8"
         }
        }
       ],
       "layout": {
        "height": 500,
        "legend": {
         "orientation": "h",
         "x": 0,
         "xanchor": "left",
         "y": 1.02,
         "yanchor": "bottom"
        },
        "margin": {
         "b": 80,
         "l": 60,
         "r": 66,
         "t": 0
        },
        "template": {
         "layout": {
          "colorway": [
           "#002D72",
           "#5A5A5A",
           "#D1D1D1",
           "#2C74B3",
           "#A1C9F4"
          ],
          "font": {
           "color": "#002D72",
           "family": "Arial, sans-serif",
           "size": 14
          },
          "paper_bgcolor": "white",
          "plot_bgcolor": "white",
          "title": {
           "font": {
            "color": "#002D72",
            "size": 20
           }
          },
          "xaxis": {
           "gridcolor": "#D1D1D1",
           "linecolor": "#002D72",
           "zerolinecolor": "#D1D1D1"
          },
          "yaxis": {
           "gridcolor": "#D1D1D1",
           "linecolor": "#002D72",
           "zerolinecolor": "#D1D1D1"
          }
         }
        },
        "width": 800,
        "xaxis": {
         "categoryarray": [
          "600",
          "900",
          "1200"
         ],
         "categoryorder": "array",
         "title": {
          "text": "Fleet size"
         },
         "type": "category"
        },
        "yaxis": {
         "tickformat": ".0%",
         "title": {
          "text": "Satisfied Demand Ratio"
         }
        }
       }
      }
     },
     "metadata": {},
     "output_type": "display_data"
    }
   ],
   "source": [
    "plot_fleet_linechart(full_results, \"mean_satisfied_ratio\").show()"
   ]
  },
  {
   "cell_type": "code",
   "execution_count": 136,
   "id": "ca45c374",
   "metadata": {},
   "outputs": [
    {
     "data": {
      "application/vnd.plotly.v1+json": {
       "config": {
        "plotlyServerURL": "https://plot.ly"
       },
       "data": [
        {
         "error_y": {
          "array": {
           "bdata": "AAAAAAAAAAAAAAAAAAAAAAAAAAAAAAAA",
           "dtype": "f8"
          },
          "type": "data",
          "visible": true
         },
         "hovertemplate": "Model=%{text}<br>Fleet=%{x}<br>Mean=%{y:.4f}<extra></extra>",
         "mode": "lines+markers",
         "name": "HRL Both Enabled",
         "text": [
          "HRL Both Enabled",
          "HRL Both Enabled",
          "HRL Both Enabled"
         ],
         "type": "scatter",
         "x": {
          "bdata": "WAKEA7AE",
          "dtype": "i2"
         },
         "y": {
          "bdata": "JuSDns2q0z8ydy0hH/TQP6YKRiV1AtI/",
          "dtype": "f8"
         }
        },
        {
         "error_y": {
          "array": {
           "bdata": "AAAAAAAAAAAAAAAAAAAAAAAAAAAAAAAA",
           "dtype": "f8"
          },
          "type": "data",
          "visible": true
         },
         "hovertemplate": "Model=%{text}<br>Fleet=%{x}<br>Mean=%{y:.4f}<extra></extra>",
         "mode": "lines+markers",
         "name": "HRL Manual Only",
         "text": [
          "HRL Manual Only",
          "HRL Manual Only",
          "HRL Manual Only"
         ],
         "type": "scatter",
         "x": {
          "bdata": "WAKEA7AE",
          "dtype": "i2"
         },
         "y": {
          "bdata": "pgpGJXUC0j8MAiuHFtnOP9lfdk8eFso/",
          "dtype": "f8"
         }
        },
        {
         "error_y": {
          "array": {
           "bdata": "AAAAAAAAAAAAAAAAAAAAAAAAAAAAAAAA",
           "dtype": "f8"
          },
          "type": "data",
          "visible": true
         },
         "hovertemplate": "Model=%{text}<br>Fleet=%{x}<br>Mean=%{y:.4f}<extra></extra>",
         "mode": "lines+markers",
         "name": "HRL Incentive Only",
         "text": [
          "HRL Incentive Only",
          "HRL Incentive Only",
          "HRL Incentive Only"
         ],
         "type": "scatter",
         "x": {
          "bdata": "WAKEA7AE",
          "dtype": "i2"
         },
         "y": {
          "bdata": "8IXJVMGo3D/kFB3J5T/cP1pkO99Pjds/",
          "dtype": "f8"
         }
        },
        {
         "error_y": {
          "array": {
           "bdata": "WtkpJpBJgD8DpJSlkYt/P+ocXqUVHYE/",
           "dtype": "f8"
          },
          "type": "data",
          "visible": true
         },
         "hovertemplate": "Model=%{text}<br>Fleet=%{x}<br>Mean=%{y:.4f}<extra></extra>",
         "mode": "lines+markers",
         "name": "No Rebalancing",
         "text": [
          "No Rebalancing",
          "No Rebalancing",
          "No Rebalancing"
         ],
         "type": "scatter",
         "x": {
          "bdata": "WAKEA7AE",
          "dtype": "i2"
         },
         "y": {
          "bdata": "tU1S9f0V3j/ATLf2bPrZPzG8RMTqPdc/",
          "dtype": "f8"
         }
        },
        {
         "error_y": {
          "array": {
           "bdata": "fhDig1IXfj+mg5pf/0R3PwJfADwlWXU/",
           "dtype": "f8"
          },
          "type": "data",
          "visible": true
         },
         "hovertemplate": "Model=%{text}<br>Fleet=%{x}<br>Mean=%{y:.4f}<extra></extra>",
         "mode": "lines+markers",
         "name": "Greedy Heuristic",
         "text": [
          "Greedy Heuristic",
          "Greedy Heuristic",
          "Greedy Heuristic"
         ],
         "type": "scatter",
         "x": {
          "bdata": "WAKEA7AE",
          "dtype": "i2"
         },
         "y": {
          "bdata": "XoCuYM3Q2z9cnsb/8VzYP0RQjpLwQtY/",
          "dtype": "f8"
         }
        }
       ],
       "layout": {
        "height": 500,
        "legend": {
         "orientation": "h",
         "x": 0,
         "xanchor": "left",
         "y": 1.02,
         "yanchor": "bottom"
        },
        "margin": {
         "b": 80,
         "l": 60,
         "r": 66,
         "t": 0
        },
        "template": {
         "layout": {
          "colorway": [
           "#002D72",
           "#5A5A5A",
           "#D1D1D1",
           "#2C74B3",
           "#A1C9F4"
          ],
          "font": {
           "color": "#002D72",
           "family": "Arial, sans-serif",
           "size": 14
          },
          "paper_bgcolor": "white",
          "plot_bgcolor": "white",
          "title": {
           "font": {
            "color": "#002D72",
            "size": 20
           }
          },
          "xaxis": {
           "gridcolor": "#D1D1D1",
           "linecolor": "#002D72",
           "zerolinecolor": "#D1D1D1"
          },
          "yaxis": {
           "gridcolor": "#D1D1D1",
           "linecolor": "#002D72",
           "zerolinecolor": "#D1D1D1"
          }
         }
        },
        "width": 800,
        "xaxis": {
         "categoryarray": [
          "600",
          "900",
          "1200"
         ],
         "categoryorder": "array",
         "title": {
          "text": "Fleet size"
         },
         "type": "category"
        },
        "yaxis": {
         "tickformat": ".0%",
         "title": {
          "text": "Gini Coefficient"
         }
        }
       }
      }
     },
     "metadata": {},
     "output_type": "display_data"
    }
   ],
   "source": [
    "plot_fleet_linechart(full_results, \"mean_gini_index\").show()"
   ]
  },
  {
   "cell_type": "code",
   "execution_count": 137,
   "id": "a91c0f3d",
   "metadata": {},
   "outputs": [
    {
     "data": {
      "application/vnd.plotly.v1+json": {
       "config": {
        "plotlyServerURL": "https://plot.ly"
       },
       "data": [
        {
         "error_y": {
          "array": {
           "bdata": "AAAAAAAAAAAAAAAAAAAAAAAAAAAAAAAA",
           "dtype": "f8"
          },
          "type": "data",
          "visible": true
         },
         "hovertemplate": "Model=%{text}<br>Fleet=%{x}<br>Mean=%{y:.4f}<extra></extra>",
         "mode": "lines+markers",
         "name": "HRL Both Enabled",
         "text": [
          "HRL Both Enabled",
          "HRL Both Enabled",
          "HRL Both Enabled"
         ],
         "type": "scatter",
         "x": {
          "bdata": "WAKEA7AE",
          "dtype": "i2"
         },
         "y": {
          "bdata": "MzMzMzMzIEAAAAAAAIAeQI/C9ShczxtA",
          "dtype": "f8"
         }
        },
        {
         "error_y": {
          "array": {
           "bdata": "AAAAAAAAAAAAAAAAAAAAAAAAAAAAAAAA",
           "dtype": "f8"
          },
          "type": "data",
          "visible": true
         },
         "hovertemplate": "Model=%{text}<br>Fleet=%{x}<br>Mean=%{y:.4f}<extra></extra>",
         "mode": "lines+markers",
         "name": "HRL Manual Only",
         "text": [
          "HRL Manual Only",
          "HRL Manual Only",
          "HRL Manual Only"
         ],
         "type": "scatter",
         "x": {
          "bdata": "WAKEA7AE",
          "dtype": "i2"
         },
         "y": {
          "bdata": "j8L1KFwPG0D2KFyPwnUbQEjhehSuRx9A",
          "dtype": "f8"
         }
        },
        {
         "error_y": {
          "array": {
           "bdata": "AAAAAAAAAAAAAAAAAAAAAAAAAAAAAAAA",
           "dtype": "f8"
          },
          "type": "data",
          "visible": true
         },
         "hovertemplate": "Model=%{text}<br>Fleet=%{x}<br>Mean=%{y:.4f}<extra></extra>",
         "mode": "lines+markers",
         "name": "HRL Incentive Only",
         "text": [
          "HRL Incentive Only",
          "HRL Incentive Only",
          "HRL Incentive Only"
         ],
         "type": "scatter",
         "x": {
          "bdata": "WAKEA7AE",
          "dtype": "i2"
         },
         "y": {
          "bdata": "AAAAAAAAAAAAAAAAAAAAAAAAAAAAAAAA",
          "dtype": "f8"
         }
        },
        {
         "error_y": {
          "array": {
           "bdata": "AAAAAAAAAAAAAAAAAAAAAAAAAAAAAAAA",
           "dtype": "f8"
          },
          "type": "data",
          "visible": true
         },
         "hovertemplate": "Model=%{text}<br>Fleet=%{x}<br>Mean=%{y:.4f}<extra></extra>",
         "mode": "lines+markers",
         "name": "No Rebalancing",
         "text": [
          "No Rebalancing",
          "No Rebalancing",
          "No Rebalancing"
         ],
         "type": "scatter",
         "x": {
          "bdata": "WAKEA7AE",
          "dtype": "i2"
         },
         "y": {
          "bdata": "AAAAAAAAAAAAAAAAAAAAAAAAAAAAAAAA",
          "dtype": "f8"
         }
        },
        {
         "error_y": {
          "array": {
           "bdata": "HjJIpeFuxD8AAAAAAAAAAAAAAAAAAAAA",
           "dtype": "f8"
          },
          "type": "data",
          "visible": true
         },
         "hovertemplate": "Model=%{text}<br>Fleet=%{x}<br>Mean=%{y:.4f}<extra></extra>",
         "mode": "lines+markers",
         "name": "Greedy Heuristic",
         "text": [
          "Greedy Heuristic",
          "Greedy Heuristic",
          "Greedy Heuristic"
         ],
         "type": "scatter",
         "x": {
          "bdata": "WAKEA7AE",
          "dtype": "i2"
         },
         "y": {
          "bdata": "2/l+arx0zz97FK5H4XqUPwAAAAAAAAAA",
          "dtype": "f8"
         }
        }
       ],
       "layout": {
        "height": 500,
        "legend": {
         "orientation": "h",
         "x": 0,
         "xanchor": "left",
         "y": 1.02,
         "yanchor": "bottom"
        },
        "margin": {
         "b": 80,
         "l": 60,
         "r": 66,
         "t": 0
        },
        "template": {
         "layout": {
          "colorway": [
           "#002D72",
           "#5A5A5A",
           "#D1D1D1",
           "#2C74B3",
           "#A1C9F4"
          ],
          "font": {
           "color": "#002D72",
           "family": "Arial, sans-serif",
           "size": 14
          },
          "paper_bgcolor": "white",
          "plot_bgcolor": "white",
          "title": {
           "font": {
            "color": "#002D72",
            "size": 20
           }
          },
          "xaxis": {
           "gridcolor": "#D1D1D1",
           "linecolor": "#002D72",
           "zerolinecolor": "#D1D1D1"
          },
          "yaxis": {
           "gridcolor": "#D1D1D1",
           "linecolor": "#002D72",
           "zerolinecolor": "#D1D1D1"
          }
         }
        },
        "width": 800,
        "xaxis": {
         "categoryarray": [
          "600",
          "900",
          "1200"
         ],
         "categoryorder": "array",
         "title": {
          "text": "Fleet size"
         },
         "type": "category"
        },
        "yaxis": {
         "title": {
          "text": "Rebalanced Vehicles (Manual)"
         }
        }
       }
      }
     },
     "metadata": {},
     "output_type": "display_data"
    }
   ],
   "source": [
    "plot_fleet_linechart(full_results, \"mean_rebalanced_vehicles_manually\").show()"
   ]
  },
  {
   "cell_type": "code",
   "execution_count": 138,
   "id": "0f01f353",
   "metadata": {},
   "outputs": [
    {
     "data": {
      "application/vnd.plotly.v1+json": {
       "config": {
        "plotlyServerURL": "https://plot.ly"
       },
       "data": [
        {
         "error_y": {
          "array": {
           "bdata": "AAAAAAAAAAAAAAAAAAAAAAAAAAAAAAAA",
           "dtype": "f8"
          },
          "type": "data",
          "visible": true
         },
         "hovertemplate": "Model=%{text}<br>Fleet=%{x}<br>Mean=%{y:.4f}<extra></extra>",
         "mode": "lines+markers",
         "name": "HRL Both Enabled",
         "text": [
          "HRL Both Enabled",
          "HRL Both Enabled",
          "HRL Both Enabled"
         ],
         "type": "scatter",
         "x": {
          "bdata": "WAKEA7AE",
          "dtype": "i2"
         },
         "y": {
          "bdata": "j8L1KFzPJUDXo3A9CtclQJqZmZmZ2SVA",
          "dtype": "f8"
         }
        },
        {
         "error_y": {
          "array": {
           "bdata": "AAAAAAAAAAAAAAAAAAAAAAAAAAAAAAAA",
           "dtype": "f8"
          },
          "type": "data",
          "visible": true
         },
         "hovertemplate": "Model=%{text}<br>Fleet=%{x}<br>Mean=%{y:.4f}<extra></extra>",
         "mode": "lines+markers",
         "name": "HRL Manual Only",
         "text": [
          "HRL Manual Only",
          "HRL Manual Only",
          "HRL Manual Only"
         ],
         "type": "scatter",
         "x": {
          "bdata": "WAKEA7AE",
          "dtype": "i2"
         },
         "y": {
          "bdata": "AAAAAAAAAAAAAAAAAAAAAAAAAAAAAAAA",
          "dtype": "f8"
         }
        },
        {
         "error_y": {
          "array": {
           "bdata": "AAAAAAAAAAAAAAAAAAAAAAAAAAAAAAAA",
           "dtype": "f8"
          },
          "type": "data",
          "visible": true
         },
         "hovertemplate": "Model=%{text}<br>Fleet=%{x}<br>Mean=%{y:.4f}<extra></extra>",
         "mode": "lines+markers",
         "name": "HRL Incentive Only",
         "text": [
          "HRL Incentive Only",
          "HRL Incentive Only",
          "HRL Incentive Only"
         ],
         "type": "scatter",
         "x": {
          "bdata": "WAKEA7AE",
          "dtype": "i2"
         },
         "y": {
          "bdata": "hetRuB5FJUD2KFyPwjUlQFK4HoXrUSVA",
          "dtype": "f8"
         }
        },
        {
         "error_y": {
          "array": {
           "bdata": "AAAAAAAAAAAAAAAAAAAAAAAAAAAAAAAA",
           "dtype": "f8"
          },
          "type": "data",
          "visible": true
         },
         "hovertemplate": "Model=%{text}<br>Fleet=%{x}<br>Mean=%{y:.4f}<extra></extra>",
         "mode": "lines+markers",
         "name": "No Rebalancing",
         "text": [
          "No Rebalancing",
          "No Rebalancing",
          "No Rebalancing"
         ],
         "type": "scatter",
         "x": {
          "bdata": "WAKEA7AE",
          "dtype": "i2"
         },
         "y": {
          "bdata": "AAAAAAAAAAAAAAAAAAAAAAAAAAAAAAAA",
          "dtype": "f8"
         }
        },
        {
         "error_y": {
          "array": {
           "bdata": "ja3y8Nhz5j92oLQtDMjsPyB/H9YSXPI/",
           "dtype": "f8"
          },
          "type": "data",
          "visible": true
         },
         "hovertemplate": "Model=%{text}<br>Fleet=%{x}<br>Mean=%{y:.4f}<extra></extra>",
         "mode": "lines+markers",
         "name": "Greedy Heuristic",
         "text": [
          "Greedy Heuristic",
          "Greedy Heuristic",
          "Greedy Heuristic"
         ],
         "type": "scatter",
         "x": {
          "bdata": "WAKEA7AE",
          "dtype": "i2"
         },
         "y": {
          "bdata": "Nl66SQwkR0ACK4cW2eBBQKjGSzeJKTtA",
          "dtype": "f8"
         }
        }
       ],
       "layout": {
        "height": 500,
        "legend": {
         "orientation": "h",
         "x": 0,
         "xanchor": "left",
         "y": 1.02,
         "yanchor": "bottom"
        },
        "margin": {
         "b": 80,
         "l": 60,
         "r": 66,
         "t": 0
        },
        "template": {
         "layout": {
          "colorway": [
           "#002D72",
           "#5A5A5A",
           "#D1D1D1",
           "#2C74B3",
           "#A1C9F4"
          ],
          "font": {
           "color": "#002D72",
           "family": "Arial, sans-serif",
           "size": 14
          },
          "paper_bgcolor": "white",
          "plot_bgcolor": "white",
          "title": {
           "font": {
            "color": "#002D72",
            "size": 20
           }
          },
          "xaxis": {
           "gridcolor": "#D1D1D1",
           "linecolor": "#002D72",
           "zerolinecolor": "#D1D1D1"
          },
          "yaxis": {
           "gridcolor": "#D1D1D1",
           "linecolor": "#002D72",
           "zerolinecolor": "#D1D1D1"
          }
         }
        },
        "width": 800,
        "xaxis": {
         "categoryarray": [
          "600",
          "900",
          "1200"
         ],
         "categoryorder": "array",
         "title": {
          "text": "Fleet size"
         },
         "type": "category"
        },
        "yaxis": {
         "title": {
          "text": "Rebalanced Vehicles (Incentives)"
         }
        }
       }
      }
     },
     "metadata": {},
     "output_type": "display_data"
    }
   ],
   "source": [
    "plot_fleet_linechart(full_results, \"mean_rebalanced_vehicles_incentives\").show()"
   ]
  },
  {
   "cell_type": "markdown",
   "id": "694b1a1a",
   "metadata": {},
   "source": [
    "## Boxplots"
   ]
  },
  {
   "cell_type": "code",
   "execution_count": 139,
   "id": "77c9e875",
   "metadata": {},
   "outputs": [],
   "source": [
    "def plot_box_by_model(data: pd.DataFrame, metric: str, fleet_size: int | None = None):\n",
    "    df = data.copy()\n",
    "    if fleet_size is not None:\n",
    "        df = df[df[\"fleet_size\"] == fleet_size]\n",
    "\n",
    "    y_title = (globals().get(\"pretty_labels\") or {}).get(metric, metric)\n",
    "    y_is_ratio = metric in {\"mean_satisfied_ratio\", \"mean_gini_index\"}\n",
    "\n",
    "    order = (\n",
    "        df.groupby(\"model\")[metric].median().sort_values(ascending=False).index.tolist()\n",
    "    )\n",
    "\n",
    "    fig = go.Figure()\n",
    "    for m in order:\n",
    "        sub = df[df[\"model\"] == m]\n",
    "        fig.add_trace(\n",
    "            go.Box(\n",
    "                y=sub[metric],\n",
    "                x=[str(m)] * len(sub),\n",
    "                name=str(m),\n",
    "                boxmean=\"sd\",\n",
    "                jitter=0.3,\n",
    "                pointpos=0,\n",
    "                marker=dict(opacity=0.5),\n",
    "                hovertemplate=\"Model=%{x}<br>Value=%{y:.4f}<extra></extra>\",\n",
    "            )\n",
    "        )\n",
    "\n",
    "    subtitle = f\" — Fleet {fleet_size}\" if fleet_size is not None else \"\"\n",
    "    fig.update_layout(\n",
    "        xaxis_title=\"Model\",\n",
    "        yaxis_title=y_title,\n",
    "        template=\"esslingen_cd\",\n",
    "        height=500,\n",
    "        width=800,\n",
    "        margin=dict(l=60, r=66, t=0, b=100),\n",
    "        title_text=f\"Distribution Across Trials{subtitle}\",\n",
    "        showlegend=False,\n",
    "    )\n",
    "    if y_is_ratio:\n",
    "        fig.update_yaxes(tickformat=\".0%\")\n",
    "    return fig"
   ]
  },
  {
   "cell_type": "code",
   "execution_count": 140,
   "id": "5c1254ab",
   "metadata": {},
   "outputs": [
    {
     "data": {
      "application/vnd.plotly.v1+json": {
       "config": {
        "plotlyServerURL": "https://plot.ly"
       },
       "data": [
        {
         "boxmean": "sd",
         "hovertemplate": "Model=%{x}<br>Value=%{y:.4f}<extra></extra>",
         "jitter": 0.3,
         "marker": {
          "opacity": 0.5
         },
         "name": "HRL Manual Only",
         "pointpos": 0,
         "type": "box",
         "x": [
          "HRL Manual Only",
          "HRL Manual Only",
          "HRL Manual Only"
         ],
         "y": {
          "bdata": "TDeJQWDl7D+wA+eMKO3nP3Gsi9toAOs/",
          "dtype": "f8"
         }
        },
        {
         "boxmean": "sd",
         "hovertemplate": "Model=%{x}<br>Value=%{y:.4f}<extra></extra>",
         "jitter": 0.3,
         "marker": {
          "opacity": 0.5
         },
         "name": "HRL Both Enabled",
         "pointpos": 0,
         "type": "box",
         "x": [
          "HRL Both Enabled",
          "HRL Both Enabled",
          "HRL Both Enabled"
         ],
         "y": {
          "bdata": "uB6F61G46j/KMsSxLm7nPw5Pr5RliOk/",
          "dtype": "f8"
         }
        },
        {
         "boxmean": "sd",
         "hovertemplate": "Model=%{x}<br>Value=%{y:.4f}<extra></extra>",
         "jitter": 0.3,
         "marker": {
          "opacity": 0.5
         },
         "name": "No Rebalancing",
         "pointpos": 0,
         "type": "box",
         "x": [
          "No Rebalancing",
          "No Rebalancing",
          "No Rebalancing",
          "No Rebalancing",
          "No Rebalancing",
          "No Rebalancing",
          "No Rebalancing",
          "No Rebalancing",
          "No Rebalancing",
          "No Rebalancing",
          "No Rebalancing",
          "No Rebalancing",
          "No Rebalancing",
          "No Rebalancing",
          "No Rebalancing",
          "No Rebalancing",
          "No Rebalancing",
          "No Rebalancing",
          "No Rebalancing",
          "No Rebalancing",
          "No Rebalancing",
          "No Rebalancing",
          "No Rebalancing",
          "No Rebalancing",
          "No Rebalancing",
          "No Rebalancing",
          "No Rebalancing",
          "No Rebalancing",
          "No Rebalancing",
          "No Rebalancing",
          "No Rebalancing",
          "No Rebalancing",
          "No Rebalancing",
          "No Rebalancing",
          "No Rebalancing",
          "No Rebalancing",
          "No Rebalancing",
          "No Rebalancing",
          "No Rebalancing",
          "No Rebalancing",
          "No Rebalancing",
          "No Rebalancing",
          "No Rebalancing",
          "No Rebalancing",
          "No Rebalancing",
          "No Rebalancing",
          "No Rebalancing",
          "No Rebalancing",
          "No Rebalancing",
          "No Rebalancing",
          "No Rebalancing",
          "No Rebalancing",
          "No Rebalancing",
          "No Rebalancing",
          "No Rebalancing",
          "No Rebalancing",
          "No Rebalancing",
          "No Rebalancing",
          "No Rebalancing",
          "No Rebalancing"
         ],
         "y": {
          "bdata": "/4s9hrO+6T/FEfumFljmP0hCbGnfxOs/VL/+FLjD6T+FO7ywJ+flP4jLm3xRbOs/drYkwLVf6T96QUOrmu7lP7hJyLLYhOs/zJnOmqvQ6T9Ki2CqM+TlPywrVqQMvus/hYxanflw6T9SE9K9FKXmP8F2aACZ1us/Xy/iQIaq6T9Sl00EV2LmP8EXtxV73+s/jtUZvMSj6T9/u07yLoDmPxO3VIvpg+s/KX2auZZy6T96Pd+FsC3mP49ufi/lh+s/ZhRBJB596T84Wc07LCDmP3shf2L0M+s/XJAwRL5N6T+lL0/mBk/mP9RZ03MsLes/aDSkuKbo6T9kJVhU0XnmP+z7hutxxOs/T9E8PpSH6T/PkazmOmjmP65MCpOFfes/qQ+w+KRk6T9xBMyqkrbmP8jYnSw7nOs/DVMXZ8sa6T9pr2cxNODlPx/gW9Hipes/BYtxpSQQ6T8KSZFUZ2fmP6YNhQIkjOs/5EKQZ1Rh6T9sQDVc/vPlP43UByolVOs/dvyFAg5N6T/KJqxOolHmPxZWToM+1us/ePCc903e6T/PDJGmxRTmP4UxNNw4X+s/T2JI1FIs6T9BA+mPL5DmPzHDVwY5Ius/JJ3z/FbQ6T/lwGKVeCrmPwDElx6Eyes/",
          "dtype": "f8"
         }
        },
        {
         "boxmean": "sd",
         "hovertemplate": "Model=%{x}<br>Value=%{y:.4f}<extra></extra>",
         "jitter": 0.3,
         "marker": {
          "opacity": 0.5
         },
         "name": "Greedy Heuristic",
         "pointpos": 0,
         "type": "box",
         "x": [
          "Greedy Heuristic",
          "Greedy Heuristic",
          "Greedy Heuristic",
          "Greedy Heuristic",
          "Greedy Heuristic",
          "Greedy Heuristic",
          "Greedy Heuristic",
          "Greedy Heuristic",
          "Greedy Heuristic",
          "Greedy Heuristic",
          "Greedy Heuristic",
          "Greedy Heuristic",
          "Greedy Heuristic",
          "Greedy Heuristic",
          "Greedy Heuristic",
          "Greedy Heuristic",
          "Greedy Heuristic",
          "Greedy Heuristic",
          "Greedy Heuristic",
          "Greedy Heuristic",
          "Greedy Heuristic",
          "Greedy Heuristic",
          "Greedy Heuristic",
          "Greedy Heuristic",
          "Greedy Heuristic",
          "Greedy Heuristic",
          "Greedy Heuristic",
          "Greedy Heuristic",
          "Greedy Heuristic",
          "Greedy Heuristic",
          "Greedy Heuristic",
          "Greedy Heuristic",
          "Greedy Heuristic",
          "Greedy Heuristic",
          "Greedy Heuristic",
          "Greedy Heuristic",
          "Greedy Heuristic",
          "Greedy Heuristic",
          "Greedy Heuristic",
          "Greedy Heuristic",
          "Greedy Heuristic",
          "Greedy Heuristic",
          "Greedy Heuristic",
          "Greedy Heuristic",
          "Greedy Heuristic",
          "Greedy Heuristic",
          "Greedy Heuristic",
          "Greedy Heuristic",
          "Greedy Heuristic",
          "Greedy Heuristic",
          "Greedy Heuristic",
          "Greedy Heuristic",
          "Greedy Heuristic",
          "Greedy Heuristic",
          "Greedy Heuristic",
          "Greedy Heuristic",
          "Greedy Heuristic",
          "Greedy Heuristic",
          "Greedy Heuristic",
          "Greedy Heuristic"
         ],
         "y": {
          "bdata": "BW/Rr4If6T9OiaPfhNjlP+Zkcz8eM+s/vSNGd3KA6T+I/wX0KgfmP8jeSc2ff+s/7GGM6cQK6T/hM+fl2+PlP+4dfHVCTus/ukuuOHlY6T+gHX3ONA/mPzaShU/Vp+s/OrshrL1L6T/UPpJAEH7lP9SO8Xouhus/jPLOeNZe6T9NkM6B/c3lP7O4YNy4xus/3ToypVaA6T83D+SQflflP9OSukBWH+s/RDWkc9h06T/M2Y+8ff/lP8yfcm+lX+s/c1KROjY56T8YZUjY2eLlP+ZCyToOAOs/1xRSkwgJ6T/9vzJem1HmPzMrHLAkK+s/l8sItFLp6D/xdDPigk3mP3GoLTUL9eo/sdmQeKMl6T89uBnRg/DlP+QVlcx3NOs/GnXJp8Hy6D9XTRaUzfDlPykYziZAvus/BGA/U33h6D9DxpHSRPvlP98dsPC9ges/F4G8qCHX6D8zWiumTALmP5Y47dJIQ+s/T5B7R5s66T+unPPEjPHlPwRRby55Xus/hORRPzBA6T9UXhFwxAnmP23YUl+/W+s/pGYSVIG06T/4JjEWxJDlP5vNReSsgus/v3B66KJj6T/FNNsDveTlP4p9dvPBN+s/+IY1TNfW6D8/d/GtVBXmP+6EcoHHVus/",
          "dtype": "f8"
         }
        },
        {
         "boxmean": "sd",
         "hovertemplate": "Model=%{x}<br>Value=%{y:.4f}<extra></extra>",
         "jitter": 0.3,
         "marker": {
          "opacity": 0.5
         },
         "name": "HRL Incentive Only",
         "pointpos": 0,
         "type": "box",
         "x": [
          "HRL Incentive Only",
          "HRL Incentive Only",
          "HRL Incentive Only"
         ],
         "y": {
          "bdata": "lkOLbOf75T8OLbKd76fiP2wJ+aBns+Q/",
          "dtype": "f8"
         }
        }
       ],
       "layout": {
        "height": 500,
        "margin": {
         "b": 100,
         "l": 60,
         "r": 66,
         "t": 0
        },
        "showlegend": false,
        "template": {
         "layout": {
          "colorway": [
           "#002D72",
           "#5A5A5A",
           "#D1D1D1",
           "#2C74B3",
           "#A1C9F4"
          ],
          "font": {
           "color": "#002D72",
           "family": "Arial, sans-serif",
           "size": 14
          },
          "paper_bgcolor": "white",
          "plot_bgcolor": "white",
          "title": {
           "font": {
            "color": "#002D72",
            "size": 20
           }
          },
          "xaxis": {
           "gridcolor": "#D1D1D1",
           "linecolor": "#002D72",
           "zerolinecolor": "#D1D1D1"
          },
          "yaxis": {
           "gridcolor": "#D1D1D1",
           "linecolor": "#002D72",
           "zerolinecolor": "#D1D1D1"
          }
         }
        },
        "title": {
         "text": "Distribution Across Trials"
        },
        "width": 800,
        "xaxis": {
         "title": {
          "text": "Model"
         }
        },
        "yaxis": {
         "tickformat": ".0%",
         "title": {
          "text": "Satisfied Demand Ratio"
         }
        }
       }
      }
     },
     "metadata": {},
     "output_type": "display_data"
    }
   ],
   "source": [
    "plot_box_by_model(full_results, \"mean_satisfied_ratio\").show()"
   ]
  },
  {
   "cell_type": "code",
   "execution_count": 141,
   "id": "6637824c",
   "metadata": {},
   "outputs": [
    {
     "data": {
      "application/vnd.plotly.v1+json": {
       "config": {
        "plotlyServerURL": "https://plot.ly"
       },
       "data": [
        {
         "boxmean": "sd",
         "hovertemplate": "Model=%{x}<br>Value=%{y:.4f}<extra></extra>",
         "jitter": 0.3,
         "marker": {
          "opacity": 0.5
         },
         "name": "HRL Incentive Only",
         "pointpos": 0,
         "type": "box",
         "x": [
          "HRL Incentive Only",
          "HRL Incentive Only",
          "HRL Incentive Only"
         ],
         "y": {
          "bdata": "WmQ730+N2z/whclUwajcP+QUHcnlP9w/",
          "dtype": "f8"
         }
        },
        {
         "boxmean": "sd",
         "hovertemplate": "Model=%{x}<br>Value=%{y:.4f}<extra></extra>",
         "jitter": 0.3,
         "marker": {
          "opacity": 0.5
         },
         "name": "No Rebalancing",
         "pointpos": 0,
         "type": "box",
         "x": [
          "No Rebalancing",
          "No Rebalancing",
          "No Rebalancing",
          "No Rebalancing",
          "No Rebalancing",
          "No Rebalancing",
          "No Rebalancing",
          "No Rebalancing",
          "No Rebalancing",
          "No Rebalancing",
          "No Rebalancing",
          "No Rebalancing",
          "No Rebalancing",
          "No Rebalancing",
          "No Rebalancing",
          "No Rebalancing",
          "No Rebalancing",
          "No Rebalancing",
          "No Rebalancing",
          "No Rebalancing",
          "No Rebalancing",
          "No Rebalancing",
          "No Rebalancing",
          "No Rebalancing",
          "No Rebalancing",
          "No Rebalancing",
          "No Rebalancing",
          "No Rebalancing",
          "No Rebalancing",
          "No Rebalancing",
          "No Rebalancing",
          "No Rebalancing",
          "No Rebalancing",
          "No Rebalancing",
          "No Rebalancing",
          "No Rebalancing",
          "No Rebalancing",
          "No Rebalancing",
          "No Rebalancing",
          "No Rebalancing",
          "No Rebalancing",
          "No Rebalancing",
          "No Rebalancing",
          "No Rebalancing",
          "No Rebalancing",
          "No Rebalancing",
          "No Rebalancing",
          "No Rebalancing",
          "No Rebalancing",
          "No Rebalancing",
          "No Rebalancing",
          "No Rebalancing",
          "No Rebalancing",
          "No Rebalancing",
          "No Rebalancing",
          "No Rebalancing",
          "No Rebalancing",
          "No Rebalancing",
          "No Rebalancing",
          "No Rebalancing"
         ],
         "y": {
          "bdata": "fSI96lEY2T/E8FWXA6rdP9JKCVti8tU/1rrcLJdJ2T/9PENUT5rePz0po28+R9c/HNIc1Y872T+NcnRSJEHeP4XyVmVav9c/yM3CUHFA2T99oJhD4WzeP3Prld0MG9c/2tfkHasw2j/yaFpxzeLdP8gP6BRZGNc/Znn7XYND2j9Gtd1/2ZndP3ixOBejddY/OGagQOXS2T/YUbeSaQPeP3Zmc8rzldY/Bl6wRCAB2j+UG0y8uS3fP6G65OvVc9c/AdDhcw8B2j/fHEdCa9LeP5ShfmEVLtc/yNkMGKpU2j/kiLm5HJjdP4FsXg53Wtc/dmT6jPzU2T9XImUAplnePwDvDxijltc/gKHxzqgo2j8AnT8y/xjeP7dGWtYEStc/Wg5tSY0a2j8Fr4RdqPvdP9uVqB7Artc/X0n0r9dC2j+hVZZJGMPeP3M2ArSLhNY/iHtWuVrp2j8uv2DfQFbdP598UkDzQ9g/0mrPTw7e2T9uwUFs67jdP4lMUE+jatc/DKfMOZQq2j89569p2IXdP7MV1rd9i9c/il+G5NZt2j8q49pbKbrdP+T7hN1hD9c/+jlzL86+2j/zXpfA+aPdP9ZW2GqUr9c/5j3/z/6a2T/sMQfBnojeP8E9hKT+lNc/",
          "dtype": "f8"
         }
        },
        {
         "boxmean": "sd",
         "hovertemplate": "Model=%{x}<br>Value=%{y:.4f}<extra></extra>",
         "jitter": 0.3,
         "marker": {
          "opacity": 0.5
         },
         "name": "Greedy Heuristic",
         "pointpos": 0,
         "type": "box",
         "x": [
          "Greedy Heuristic",
          "Greedy Heuristic",
          "Greedy Heuristic",
          "Greedy Heuristic",
          "Greedy Heuristic",
          "Greedy Heuristic",
          "Greedy Heuristic",
          "Greedy Heuristic",
          "Greedy Heuristic",
          "Greedy Heuristic",
          "Greedy Heuristic",
          "Greedy Heuristic",
          "Greedy Heuristic",
          "Greedy Heuristic",
          "Greedy Heuristic",
          "Greedy Heuristic",
          "Greedy Heuristic",
          "Greedy Heuristic",
          "Greedy Heuristic",
          "Greedy Heuristic",
          "Greedy Heuristic",
          "Greedy Heuristic",
          "Greedy Heuristic",
          "Greedy Heuristic",
          "Greedy Heuristic",
          "Greedy Heuristic",
          "Greedy Heuristic",
          "Greedy Heuristic",
          "Greedy Heuristic",
          "Greedy Heuristic",
          "Greedy Heuristic",
          "Greedy Heuristic",
          "Greedy Heuristic",
          "Greedy Heuristic",
          "Greedy Heuristic",
          "Greedy Heuristic",
          "Greedy Heuristic",
          "Greedy Heuristic",
          "Greedy Heuristic",
          "Greedy Heuristic",
          "Greedy Heuristic",
          "Greedy Heuristic",
          "Greedy Heuristic",
          "Greedy Heuristic",
          "Greedy Heuristic",
          "Greedy Heuristic",
          "Greedy Heuristic",
          "Greedy Heuristic",
          "Greedy Heuristic",
          "Greedy Heuristic",
          "Greedy Heuristic",
          "Greedy Heuristic",
          "Greedy Heuristic",
          "Greedy Heuristic",
          "Greedy Heuristic",
          "Greedy Heuristic",
          "Greedy Heuristic",
          "Greedy Heuristic",
          "Greedy Heuristic",
          "Greedy Heuristic"
         ],
         "y": {
          "bdata": "MeYllW8Y2D+7PNlgXlfbP09rKsZogtY/jWfIx7zm1z9NutLi+T7bP+yIqmvOntY/l2IOPzBF2D9Szc4ptabcP+Yzz+PTbdY/vNAM/pu22D8duGv1M3rbPybt/G7m0tU/DR04aBYI2D8Dgs7U+7zcPxuKyu61/tU/JrWCTjB/2D8aEEW7967bPy4+i2GEatY/xZcciCDF1z8NfkEFbqTcPz0kuW+vBNY/JPVgk6Ks2D/T0MVi0e7bP59RsXg6GdY/aZyphFJF2D/mU7EtndbbP6wU40z3Hdc/IRJ40gQN2T/ch5tObIjbP+S1HLhRRNY/ioIMgVh/2D8aAREeXmPbP+ksf5nVUdY/LQH4+Jnv2D+E6IJlPDrbP+2I7Kb7atY/lzeD4Nsz2D/dCbXAKqfbP9I6dKIK5tU/JIF/8WFW2D/szP3P6tXbP7OED5Vca9Y/Q8MvATe+2D9uRQDuaUvcP33i03At3tU/LKJqDxZG2D+Kk//ekZrbP93V856JStY/9ymHpINd2D/FpoYrt+nbPxfhX8B3gNY/8VrK/L201z823xkq3OnbP1xJ+20vN9Y/1sP5EKNJ2D+p/SPT8hjcP2ZAhJ4SXNY/2uUzKSyj2D8ssUisW03bP8qOJlzDpNU/",
          "dtype": "f8"
         }
        },
        {
         "boxmean": "sd",
         "hovertemplate": "Model=%{x}<br>Value=%{y:.4f}<extra></extra>",
         "jitter": 0.3,
         "marker": {
          "opacity": 0.5
         },
         "name": "HRL Both Enabled",
         "pointpos": 0,
         "type": "box",
         "x": [
          "HRL Both Enabled",
          "HRL Both Enabled",
          "HRL Both Enabled"
         ],
         "y": {
          "bdata": "pgpGJXUC0j8m5IOezarTPzJ3LSEf9NA/",
          "dtype": "f8"
         }
        },
        {
         "boxmean": "sd",
         "hovertemplate": "Model=%{x}<br>Value=%{y:.4f}<extra></extra>",
         "jitter": 0.3,
         "marker": {
          "opacity": 0.5
         },
         "name": "HRL Manual Only",
         "pointpos": 0,
         "type": "box",
         "x": [
          "HRL Manual Only",
          "HRL Manual Only",
          "HRL Manual Only"
         ],
         "y": {
          "bdata": "2V92Tx4Wyj+mCkYldQLSPwwCK4cW2c4/",
          "dtype": "f8"
         }
        }
       ],
       "layout": {
        "height": 500,
        "margin": {
         "b": 100,
         "l": 60,
         "r": 66,
         "t": 0
        },
        "showlegend": false,
        "template": {
         "layout": {
          "colorway": [
           "#002D72",
           "#5A5A5A",
           "#D1D1D1",
           "#2C74B3",
           "#A1C9F4"
          ],
          "font": {
           "color": "#002D72",
           "family": "Arial, sans-serif",
           "size": 14
          },
          "paper_bgcolor": "white",
          "plot_bgcolor": "white",
          "title": {
           "font": {
            "color": "#002D72",
            "size": 20
           }
          },
          "xaxis": {
           "gridcolor": "#D1D1D1",
           "linecolor": "#002D72",
           "zerolinecolor": "#D1D1D1"
          },
          "yaxis": {
           "gridcolor": "#D1D1D1",
           "linecolor": "#002D72",
           "zerolinecolor": "#D1D1D1"
          }
         }
        },
        "title": {
         "text": "Distribution Across Trials"
        },
        "width": 800,
        "xaxis": {
         "title": {
          "text": "Model"
         }
        },
        "yaxis": {
         "tickformat": ".0%",
         "title": {
          "text": "Gini Coefficient"
         }
        }
       }
      }
     },
     "metadata": {},
     "output_type": "display_data"
    }
   ],
   "source": [
    "plot_box_by_model(full_results, \"mean_gini_index\").show()"
   ]
  },
  {
   "cell_type": "code",
   "execution_count": 142,
   "id": "cd30e2a0",
   "metadata": {},
   "outputs": [
    {
     "data": {
      "application/vnd.plotly.v1+json": {
       "config": {
        "plotlyServerURL": "https://plot.ly"
       },
       "data": [
        {
         "boxmean": "sd",
         "hovertemplate": "Model=%{x}<br>Value=%{y:.4f}<extra></extra>",
         "jitter": 0.3,
         "marker": {
          "opacity": 0.5
         },
         "name": "HRL Both Enabled",
         "pointpos": 0,
         "type": "box",
         "x": [
          "HRL Both Enabled",
          "HRL Both Enabled",
          "HRL Both Enabled"
         ],
         "y": {
          "bdata": "j8L1KFzPG0AzMzMzMzMgQAAAAAAAgB5A",
          "dtype": "f8"
         }
        },
        {
         "boxmean": "sd",
         "hovertemplate": "Model=%{x}<br>Value=%{y:.4f}<extra></extra>",
         "jitter": 0.3,
         "marker": {
          "opacity": 0.5
         },
         "name": "HRL Manual Only",
         "pointpos": 0,
         "type": "box",
         "x": [
          "HRL Manual Only",
          "HRL Manual Only",
          "HRL Manual Only"
         ],
         "y": {
          "bdata": "SOF6FK5HH0CPwvUoXA8bQPYoXI/CdRtA",
          "dtype": "f8"
         }
        },
        {
         "boxmean": "sd",
         "hovertemplate": "Model=%{x}<br>Value=%{y:.4f}<extra></extra>",
         "jitter": 0.3,
         "marker": {
          "opacity": 0.5
         },
         "name": "Greedy Heuristic",
         "pointpos": 0,
         "type": "box",
         "x": [
          "Greedy Heuristic",
          "Greedy Heuristic",
          "Greedy Heuristic",
          "Greedy Heuristic",
          "Greedy Heuristic",
          "Greedy Heuristic",
          "Greedy Heuristic",
          "Greedy Heuristic",
          "Greedy Heuristic",
          "Greedy Heuristic",
          "Greedy Heuristic",
          "Greedy Heuristic",
          "Greedy Heuristic",
          "Greedy Heuristic",
          "Greedy Heuristic",
          "Greedy Heuristic",
          "Greedy Heuristic",
          "Greedy Heuristic",
          "Greedy Heuristic",
          "Greedy Heuristic",
          "Greedy Heuristic",
          "Greedy Heuristic",
          "Greedy Heuristic",
          "Greedy Heuristic",
          "Greedy Heuristic",
          "Greedy Heuristic",
          "Greedy Heuristic",
          "Greedy Heuristic",
          "Greedy Heuristic",
          "Greedy Heuristic",
          "Greedy Heuristic",
          "Greedy Heuristic",
          "Greedy Heuristic",
          "Greedy Heuristic",
          "Greedy Heuristic",
          "Greedy Heuristic",
          "Greedy Heuristic",
          "Greedy Heuristic",
          "Greedy Heuristic",
          "Greedy Heuristic",
          "Greedy Heuristic",
          "Greedy Heuristic",
          "Greedy Heuristic",
          "Greedy Heuristic",
          "Greedy Heuristic",
          "Greedy Heuristic",
          "Greedy Heuristic",
          "Greedy Heuristic",
          "Greedy Heuristic",
          "Greedy Heuristic",
          "Greedy Heuristic",
          "Greedy Heuristic",
          "Greedy Heuristic",
          "Greedy Heuristic",
          "Greedy Heuristic",
          "Greedy Heuristic",
          "Greedy Heuristic",
          "Greedy Heuristic",
          "Greedy Heuristic",
          "Greedy Heuristic"
         ],
         "y": {
          "bdata": "exSuR+F6lD/sUbgehevBPwAAAAAAAAAAexSuR+F6lD/sUbgehevBPwAAAAAAAAAAexSuR+F6lD+F61G4HoXjPwAAAAAAAAAAexSuR+F6lD9mZmZmZmbGPwAAAAAAAAAAexSuR+F6lD8pXI/C9SjUPwAAAAAAAAAAexSuR+F6lD9cj8L1KFy/PwAAAAAAAAAAexSuR+F6lD/NzMzMzMzQPwAAAAAAAAAAexSuR+F6lD9cj8L1KFy/PwAAAAAAAAAAexSuR+F6lD9cj8L1KFy/PwAAAAAAAAAAexSuR+F6lD9mZmZmZmbGPwAAAAAAAAAAexSuR+F6lD8pXI/C9SjEPwAAAAAAAAAAexSuR+F6lD/sUbgehevBPwAAAAAAAAAAexSuR+F6lD9mZmZmZmbGPwAAAAAAAAAAexSuR+F6lD9cj8L1KFy/PwAAAAAAAAAAexSuR+F6lD97FK5H4XriPwAAAAAAAAAAexSuR+F6lD/hehSuR+HKPwAAAAAAAAAAexSuR+F6lD89CtejcD3gPwAAAAAAAAAAexSuR+F6lD+kcD0K16PIPwAAAAAAAAAAexSuR+F6lD8fhetRuB7dPwAAAAAAAAAAexSuR+F6lD+kcD0K16PIPwAAAAAAAAAA",
          "dtype": "f8"
         }
        },
        {
         "boxmean": "sd",
         "hovertemplate": "Model=%{x}<br>Value=%{y:.4f}<extra></extra>",
         "jitter": 0.3,
         "marker": {
          "opacity": 0.5
         },
         "name": "HRL Incentive Only",
         "pointpos": 0,
         "type": "box",
         "x": [
          "HRL Incentive Only",
          "HRL Incentive Only",
          "HRL Incentive Only"
         ],
         "y": {
          "bdata": "AAAAAAAAAAAAAAAAAAAAAAAAAAAAAAAA",
          "dtype": "f8"
         }
        },
        {
         "boxmean": "sd",
         "hovertemplate": "Model=%{x}<br>Value=%{y:.4f}<extra></extra>",
         "jitter": 0.3,
         "marker": {
          "opacity": 0.5
         },
         "name": "No Rebalancing",
         "pointpos": 0,
         "type": "box",
         "x": [
          "No Rebalancing",
          "No Rebalancing",
          "No Rebalancing",
          "No Rebalancing",
          "No Rebalancing",
          "No Rebalancing",
          "No Rebalancing",
          "No Rebalancing",
          "No Rebalancing",
          "No Rebalancing",
          "No Rebalancing",
          "No Rebalancing",
          "No Rebalancing",
          "No Rebalancing",
          "No Rebalancing",
          "No Rebalancing",
          "No Rebalancing",
          "No Rebalancing",
          "No Rebalancing",
          "No Rebalancing",
          "No Rebalancing",
          "No Rebalancing",
          "No Rebalancing",
          "No Rebalancing",
          "No Rebalancing",
          "No Rebalancing",
          "No Rebalancing",
          "No Rebalancing",
          "No Rebalancing",
          "No Rebalancing",
          "No Rebalancing",
          "No Rebalancing",
          "No Rebalancing",
          "No Rebalancing",
          "No Rebalancing",
          "No Rebalancing",
          "No Rebalancing",
          "No Rebalancing",
          "No Rebalancing",
          "No Rebalancing",
          "No Rebalancing",
          "No Rebalancing",
          "No Rebalancing",
          "No Rebalancing",
          "No Rebalancing",
          "No Rebalancing",
          "No Rebalancing",
          "No Rebalancing",
          "No Rebalancing",
          "No Rebalancing",
          "No Rebalancing",
          "No Rebalancing",
          "No Rebalancing",
          "No Rebalancing",
          "No Rebalancing",
          "No Rebalancing",
          "No Rebalancing",
          "No Rebalancing",
          "No Rebalancing",
          "No Rebalancing"
         ],
         "y": {
          "bdata": "AAAAAAAAAAAAAAAAAAAAAAAAAAAAAAAAAAAAAAAAAAAAAAAAAAAAAAAAAAAAAAAAAAAAAAAAAAAAAAAAAAAAAAAAAAAAAAAAAAAAAAAAAAAAAAAAAAAAAAAAAAAAAAAAAAAAAAAAAAAAAAAAAAAAAAAAAAAAAAAAAAAAAAAAAAAAAAAAAAAAAAAAAAAAAAAAAAAAAAAAAAAAAAAAAAAAAAAAAAAAAAAAAAAAAAAAAAAAAAAAAAAAAAAAAAAAAAAAAAAAAAAAAAAAAAAAAAAAAAAAAAAAAAAAAAAAAAAAAAAAAAAAAAAAAAAAAAAAAAAAAAAAAAAAAAAAAAAAAAAAAAAAAAAAAAAAAAAAAAAAAAAAAAAAAAAAAAAAAAAAAAAAAAAAAAAAAAAAAAAAAAAAAAAAAAAAAAAAAAAAAAAAAAAAAAAAAAAAAAAAAAAAAAAAAAAAAAAAAAAAAAAAAAAAAAAAAAAAAAAAAAAAAAAAAAAAAAAAAAAAAAAAAAAAAAAAAAAAAAAAAAAAAAAAAAAAAAAAAAAAAAAAAAAAAAAAAAAAAAAAAAAAAAAAAAAAAAAAAAAAAAAAAAAAAAAAAAAAAAAAAAAAAAAAAAAAAAAAAAAAAAAAAAAAAAAAAAAAAAAA",
          "dtype": "f8"
         }
        }
       ],
       "layout": {
        "height": 500,
        "margin": {
         "b": 100,
         "l": 60,
         "r": 66,
         "t": 0
        },
        "showlegend": false,
        "template": {
         "layout": {
          "colorway": [
           "#002D72",
           "#5A5A5A",
           "#D1D1D1",
           "#2C74B3",
           "#A1C9F4"
          ],
          "font": {
           "color": "#002D72",
           "family": "Arial, sans-serif",
           "size": 14
          },
          "paper_bgcolor": "white",
          "plot_bgcolor": "white",
          "title": {
           "font": {
            "color": "#002D72",
            "size": 20
           }
          },
          "xaxis": {
           "gridcolor": "#D1D1D1",
           "linecolor": "#002D72",
           "zerolinecolor": "#D1D1D1"
          },
          "yaxis": {
           "gridcolor": "#D1D1D1",
           "linecolor": "#002D72",
           "zerolinecolor": "#D1D1D1"
          }
         }
        },
        "title": {
         "text": "Distribution Across Trials"
        },
        "width": 800,
        "xaxis": {
         "title": {
          "text": "Model"
         }
        },
        "yaxis": {
         "title": {
          "text": "Rebalanced Vehicles (Manual)"
         }
        }
       }
      }
     },
     "metadata": {},
     "output_type": "display_data"
    }
   ],
   "source": [
    "plot_box_by_model(full_results, \"mean_rebalanced_vehicles_manually\").show()"
   ]
  },
  {
   "cell_type": "code",
   "execution_count": 143,
   "id": "56aca1ca",
   "metadata": {},
   "outputs": [
    {
     "data": {
      "application/vnd.plotly.v1+json": {
       "config": {
        "plotlyServerURL": "https://plot.ly"
       },
       "data": [
        {
         "boxmean": "sd",
         "hovertemplate": "Model=%{x}<br>Value=%{y:.4f}<extra></extra>",
         "jitter": 0.3,
         "marker": {
          "opacity": 0.5
         },
         "name": "Greedy Heuristic",
         "pointpos": 0,
         "type": "box",
         "x": [
          "Greedy Heuristic",
          "Greedy Heuristic",
          "Greedy Heuristic",
          "Greedy Heuristic",
          "Greedy Heuristic",
          "Greedy Heuristic",
          "Greedy Heuristic",
          "Greedy Heuristic",
          "Greedy Heuristic",
          "Greedy Heuristic",
          "Greedy Heuristic",
          "Greedy Heuristic",
          "Greedy Heuristic",
          "Greedy Heuristic",
          "Greedy Heuristic",
          "Greedy Heuristic",
          "Greedy Heuristic",
          "Greedy Heuristic",
          "Greedy Heuristic",
          "Greedy Heuristic",
          "Greedy Heuristic",
          "Greedy Heuristic",
          "Greedy Heuristic",
          "Greedy Heuristic",
          "Greedy Heuristic",
          "Greedy Heuristic",
          "Greedy Heuristic",
          "Greedy Heuristic",
          "Greedy Heuristic",
          "Greedy Heuristic",
          "Greedy Heuristic",
          "Greedy Heuristic",
          "Greedy Heuristic",
          "Greedy Heuristic",
          "Greedy Heuristic",
          "Greedy Heuristic",
          "Greedy Heuristic",
          "Greedy Heuristic",
          "Greedy Heuristic",
          "Greedy Heuristic",
          "Greedy Heuristic",
          "Greedy Heuristic",
          "Greedy Heuristic",
          "Greedy Heuristic",
          "Greedy Heuristic",
          "Greedy Heuristic",
          "Greedy Heuristic",
          "Greedy Heuristic",
          "Greedy Heuristic",
          "Greedy Heuristic",
          "Greedy Heuristic",
          "Greedy Heuristic",
          "Greedy Heuristic",
          "Greedy Heuristic",
          "Greedy Heuristic",
          "Greedy Heuristic",
          "Greedy Heuristic",
          "Greedy Heuristic",
          "Greedy Heuristic",
          "Greedy Heuristic"
         ],
         "y": {
          "bdata": "H4XrUbjuQUCkcD0K1ytHQHsUrkfhujtAcT0K16NQQUDNzMzMzBRHQArXo3A9GjpAFK5H4XpcQkDXo3A9CldHQAAAAAAAADtAexSuR+GyQUB7FK5H4eJGQKRwPQrXAzpAXI/C9SgkQkAAAAAAAKBHQHE9Ctej0DlAmpmZmZlxQUCuR+F6FC5HQDMzMzMzkzlA16NwPQqnQUBxPQrXo9hHQKRwPQrXkzxArkfhehR+QUD2KFyPwj1HQOF6FK5HMTtAw/UoXI+iQUC4HoXrUXBHQMP1KFyPEjxA9ihcj8IdQkAAAAAAAGhGQBSuR+F6dDxAzczMzMyUQkApXI/C9ZBGQEjhehSuxzxA16NwPQq3QUDNzMzMzNxGQKRwPQrXIzxAw/UoXI8qQkCkcD0K1xtHQGZmZmZmxjhAj8L1KFyXQkAzMzMzM0tHQIXrUbgedTpAZmZmZmZeQkDhehSuRxFHQNejcD0K9ztA16NwPQp/QUAUrkfheqRHQNejcD0KtztACtejcD3KQUCkcD0K1+NGQLgehetR2DpA9ihcj8ItQUBI4XoUri9HQHsUrkfhKjpAzczMzMxcQUCamZmZmSlHQHE9CtejYDxA16NwPQqHQkBSuB6F69FGQM3MzMzMfDtA",
          "dtype": "f8"
         }
        },
        {
         "boxmean": "sd",
         "hovertemplate": "Model=%{x}<br>Value=%{y:.4f}<extra></extra>",
         "jitter": 0.3,
         "marker": {
          "opacity": 0.5
         },
         "name": "HRL Both Enabled",
         "pointpos": 0,
         "type": "box",
         "x": [
          "HRL Both Enabled",
          "HRL Both Enabled",
          "HRL Both Enabled"
         ],
         "y": {
          "bdata": "mpmZmZnZJUCPwvUoXM8lQNejcD0K1yVA",
          "dtype": "f8"
         }
        },
        {
         "boxmean": "sd",
         "hovertemplate": "Model=%{x}<br>Value=%{y:.4f}<extra></extra>",
         "jitter": 0.3,
         "marker": {
          "opacity": 0.5
         },
         "name": "HRL Incentive Only",
         "pointpos": 0,
         "type": "box",
         "x": [
          "HRL Incentive Only",
          "HRL Incentive Only",
          "HRL Incentive Only"
         ],
         "y": {
          "bdata": "UrgehetRJUCF61G4HkUlQPYoXI/CNSVA",
          "dtype": "f8"
         }
        },
        {
         "boxmean": "sd",
         "hovertemplate": "Model=%{x}<br>Value=%{y:.4f}<extra></extra>",
         "jitter": 0.3,
         "marker": {
          "opacity": 0.5
         },
         "name": "HRL Manual Only",
         "pointpos": 0,
         "type": "box",
         "x": [
          "HRL Manual Only",
          "HRL Manual Only",
          "HRL Manual Only"
         ],
         "y": {
          "bdata": "AAAAAAAAAAAAAAAAAAAAAAAAAAAAAAAA",
          "dtype": "f8"
         }
        },
        {
         "boxmean": "sd",
         "hovertemplate": "Model=%{x}<br>Value=%{y:.4f}<extra></extra>",
         "jitter": 0.3,
         "marker": {
          "opacity": 0.5
         },
         "name": "No Rebalancing",
         "pointpos": 0,
         "type": "box",
         "x": [
          "No Rebalancing",
          "No Rebalancing",
          "No Rebalancing",
          "No Rebalancing",
          "No Rebalancing",
          "No Rebalancing",
          "No Rebalancing",
          "No Rebalancing",
          "No Rebalancing",
          "No Rebalancing",
          "No Rebalancing",
          "No Rebalancing",
          "No Rebalancing",
          "No Rebalancing",
          "No Rebalancing",
          "No Rebalancing",
          "No Rebalancing",
          "No Rebalancing",
          "No Rebalancing",
          "No Rebalancing",
          "No Rebalancing",
          "No Rebalancing",
          "No Rebalancing",
          "No Rebalancing",
          "No Rebalancing",
          "No Rebalancing",
          "No Rebalancing",
          "No Rebalancing",
          "No Rebalancing",
          "No Rebalancing",
          "No Rebalancing",
          "No Rebalancing",
          "No Rebalancing",
          "No Rebalancing",
          "No Rebalancing",
          "No Rebalancing",
          "No Rebalancing",
          "No Rebalancing",
          "No Rebalancing",
          "No Rebalancing",
          "No Rebalancing",
          "No Rebalancing",
          "No Rebalancing",
          "No Rebalancing",
          "No Rebalancing",
          "No Rebalancing",
          "No Rebalancing",
          "No Rebalancing",
          "No Rebalancing",
          "No Rebalancing",
          "No Rebalancing",
          "No Rebalancing",
          "No Rebalancing",
          "No Rebalancing",
          "No Rebalancing",
          "No Rebalancing",
          "No Rebalancing",
          "No Rebalancing",
          "No Rebalancing",
          "No Rebalancing"
         ],
         "y": {
          "bdata": "AAAAAAAAAAAAAAAAAAAAAAAAAAAAAAAAAAAAAAAAAAAAAAAAAAAAAAAAAAAAAAAAAAAAAAAAAAAAAAAAAAAAAAAAAAAAAAAAAAAAAAAAAAAAAAAAAAAAAAAAAAAAAAAAAAAAAAAAAAAAAAAAAAAAAAAAAAAAAAAAAAAAAAAAAAAAAAAAAAAAAAAAAAAAAAAAAAAAAAAAAAAAAAAAAAAAAAAAAAAAAAAAAAAAAAAAAAAAAAAAAAAAAAAAAAAAAAAAAAAAAAAAAAAAAAAAAAAAAAAAAAAAAAAAAAAAAAAAAAAAAAAAAAAAAAAAAAAAAAAAAAAAAAAAAAAAAAAAAAAAAAAAAAAAAAAAAAAAAAAAAAAAAAAAAAAAAAAAAAAAAAAAAAAAAAAAAAAAAAAAAAAAAAAAAAAAAAAAAAAAAAAAAAAAAAAAAAAAAAAAAAAAAAAAAAAAAAAAAAAAAAAAAAAAAAAAAAAAAAAAAAAAAAAAAAAAAAAAAAAAAAAAAAAAAAAAAAAAAAAAAAAAAAAAAAAAAAAAAAAAAAAAAAAAAAAAAAAAAAAAAAAAAAAAAAAAAAAAAAAAAAAAAAAAAAAAAAAAAAAAAAAAAAAAAAAAAAAAAAAAAAAAAAAAAAAAAAAAAAAA",
          "dtype": "f8"
         }
        }
       ],
       "layout": {
        "height": 500,
        "margin": {
         "b": 100,
         "l": 60,
         "r": 66,
         "t": 0
        },
        "showlegend": false,
        "template": {
         "layout": {
          "colorway": [
           "#002D72",
           "#5A5A5A",
           "#D1D1D1",
           "#2C74B3",
           "#A1C9F4"
          ],
          "font": {
           "color": "#002D72",
           "family": "Arial, sans-serif",
           "size": 14
          },
          "paper_bgcolor": "white",
          "plot_bgcolor": "white",
          "title": {
           "font": {
            "color": "#002D72",
            "size": 20
           }
          },
          "xaxis": {
           "gridcolor": "#D1D1D1",
           "linecolor": "#002D72",
           "zerolinecolor": "#D1D1D1"
          },
          "yaxis": {
           "gridcolor": "#D1D1D1",
           "linecolor": "#002D72",
           "zerolinecolor": "#D1D1D1"
          }
         }
        },
        "title": {
         "text": "Distribution Across Trials"
        },
        "width": 800,
        "xaxis": {
         "title": {
          "text": "Model"
         }
        },
        "yaxis": {
         "title": {
          "text": "Rebalanced Vehicles (Incentives)"
         }
        }
       }
      }
     },
     "metadata": {},
     "output_type": "display_data"
    }
   ],
   "source": [
    "plot_box_by_model(full_results, \"mean_rebalanced_vehicles_incentives\").show()"
   ]
  },
  {
   "cell_type": "markdown",
   "id": "e4c20fbd",
   "metadata": {},
   "source": [
    "## Scatter Plots"
   ]
  },
  {
   "cell_type": "code",
   "execution_count": 152,
   "id": "d7f086b8",
   "metadata": {},
   "outputs": [],
   "source": [
    "def plot_tradeoff_scatter(\n",
    "    data: pd.DataFrame,\n",
    "    x_metric: str = \"mean_rebalanced_vehicles_manually\",\n",
    "    y_metric: str = \"mean_satisfied_ratio\",\n",
    "):\n",
    "    agg = data.groupby([\"model\", \"fleet_size\"], as_index=False).agg(\n",
    "        **{\n",
    "            f\"{x_metric}_mean\": (x_metric, \"mean\"),\n",
    "            f\"{x_metric}_std\": (x_metric, \"std\"),\n",
    "            f\"{y_metric}_mean\": (y_metric, \"mean\"),\n",
    "            f\"{y_metric}_std\": (y_metric, \"std\"),\n",
    "        }\n",
    "    )\n",
    "\n",
    "    x_title = (globals().get(\"pretty_labels\") or {}).get(x_metric, x_metric)\n",
    "    y_title = (globals().get(\"pretty_labels\") or {}).get(y_metric, y_metric)\n",
    "    y_is_ratio = y_metric in {\"mean_satisfied_ratio\", \"mean_gini_index\"}\n",
    "\n",
    "    fig = go.Figure()\n",
    "\n",
    "    fleets_sorted = sorted(agg[\"fleet_size\"].unique())\n",
    "\n",
    "    models = [\n",
    "        \"HRL Both Enabled\",\n",
    "        \"HRL Manual Only\",\n",
    "        \"HRL Incentive Only\",\n",
    "        \"No Rebalancing\",\n",
    "        \"Greedy Heuristic\",\n",
    "    ]\n",
    "\n",
    "    model_colors = [\n",
    "        \"#002D72\",\n",
    "        \"#737373\",\n",
    "        \"#D1D1D1\",\n",
    "        \"#2C74B3\",\n",
    "        \"#A1C9F4\",\n",
    "    ]\n",
    "\n",
    "    symbol_map = {fs: i for i, fs in enumerate(fleets_sorted)}\n",
    "\n",
    "    color_map = {model: color for model, color in zip(models, model_colors)}\n",
    "\n",
    "    agg = agg.sort_values(\n",
    "        by=[\"model\"], key=lambda x: x.map({model: i for i, model in enumerate(models)})\n",
    "    )\n",
    "\n",
    "    for _, row in agg.iterrows():\n",
    "        fig.add_trace(\n",
    "            go.Scatter(\n",
    "                x=[row[f\"{x_metric}_mean\"]],\n",
    "                y=[row[f\"{y_metric}_mean\"]],\n",
    "                mode=\"markers\",\n",
    "                name=str(row[\"model\"]),\n",
    "                legendgroup=str(row[\"model\"]),\n",
    "                showlegend=True if row[\"fleet_size\"] == fleets_sorted[0] else False,\n",
    "                marker=dict(size=10, line=dict(width=1), color=color_map[row[\"model\"]]),\n",
    "                error_x=dict(\n",
    "                    type=\"data\", array=[row[f\"{x_metric}_std\"] or 0.0], visible=True\n",
    "                ),\n",
    "                error_y=dict(\n",
    "                    type=\"data\", array=[row[f\"{y_metric}_std\"] or 0.0], visible=True\n",
    "                ),\n",
    "                hovertemplate=(\n",
    "                    \"Model=%{text}<br>Fleet=%{customdata[0]}<br>\"\n",
    "                    f\"{x_title}=%{{x:.3f}} ± %{{error_x.array[0]:.3f}}<br>\"\n",
    "                    f\"{y_title}=%{{y:.3f}} ± %{{error_y.array[0]:.3f}}<extra></extra>\"\n",
    "                ),\n",
    "                text=[row[\"model\"]],\n",
    "                customdata=[[row[\"fleet_size\"]]],\n",
    "                marker_symbol=symbol_map[row[\"fleet_size\"]],\n",
    "            )\n",
    "        )\n",
    "\n",
    "    for fs in fleets_sorted:\n",
    "        fig.add_trace(\n",
    "            go.Scatter(\n",
    "                x=[None],\n",
    "                y=[None],\n",
    "                mode=\"markers\",\n",
    "                marker=dict(symbol=symbol_map[fs], size=10, color=\"black\"),\n",
    "                legendgroup=f\"fleet_{fs}\",\n",
    "                name=f\"Fleet {fs}\",\n",
    "            )\n",
    "        )\n",
    "\n",
    "    fig.update_layout(\n",
    "        xaxis_title=x_title,\n",
    "        yaxis_title=y_title,\n",
    "        template=\"esslingen_cd\",\n",
    "        height=520,\n",
    "        width=820,\n",
    "        margin=dict(l=60, r=66, t=0, b=80),\n",
    "        legend=dict(orientation=\"h\", yanchor=\"bottom\", y=1.02, xanchor=\"left\", x=0),\n",
    "    )\n",
    "    if y_is_ratio:\n",
    "        fig.update_yaxes(tickformat=\".0%\")\n",
    "    return fig"
   ]
  },
  {
   "cell_type": "code",
   "execution_count": 153,
   "id": "e2a5454b",
   "metadata": {},
   "outputs": [
    {
     "data": {
      "application/vnd.plotly.v1+json": {
       "config": {
        "plotlyServerURL": "https://plot.ly"
       },
       "data": [
        {
         "customdata": [
          [
           600
          ]
         ],
         "error_x": {
          "array": [
           null
          ],
          "type": "data",
          "visible": true
         },
         "error_y": {
          "array": [
           null
          ],
          "type": "data",
          "visible": true
         },
         "hovertemplate": "Model=%{text}<br>Fleet=%{customdata[0]}<br>Rebalanced Vehicles (Manual)=%{x:.3f} ± %{error_x.array[0]:.3f}<br>Satisfied Demand Ratio=%{y:.3f} ± %{error_y.array[0]:.3f}<extra></extra>",
         "legendgroup": "HRL Both Enabled",
         "marker": {
          "color": "#002D72",
          "line": {
           "width": 1
          },
          "size": 10,
          "symbol": 0
         },
         "mode": "markers",
         "name": "HRL Both Enabled",
         "showlegend": true,
         "text": [
          "HRL Both Enabled"
         ],
         "type": "scatter",
         "x": [
          8.1
         ],
         "y": [
          0.7322
         ]
        },
        {
         "customdata": [
          [
           900
          ]
         ],
         "error_x": {
          "array": [
           null
          ],
          "type": "data",
          "visible": true
         },
         "error_y": {
          "array": [
           null
          ],
          "type": "data",
          "visible": true
         },
         "hovertemplate": "Model=%{text}<br>Fleet=%{customdata[0]}<br>Rebalanced Vehicles (Manual)=%{x:.3f} ± %{error_x.array[0]:.3f}<br>Satisfied Demand Ratio=%{y:.3f} ± %{error_y.array[0]:.3f}<extra></extra>",
         "legendgroup": "HRL Both Enabled",
         "marker": {
          "color": "#002D72",
          "line": {
           "width": 1
          },
          "size": 10,
          "symbol": 1
         },
         "mode": "markers",
         "name": "HRL Both Enabled",
         "showlegend": false,
         "text": [
          "HRL Both Enabled"
         ],
         "type": "scatter",
         "x": [
          7.625
         ],
         "y": [
          0.7979
         ]
        },
        {
         "customdata": [
          [
           1200
          ]
         ],
         "error_x": {
          "array": [
           null
          ],
          "type": "data",
          "visible": true
         },
         "error_y": {
          "array": [
           null
          ],
          "type": "data",
          "visible": true
         },
         "hovertemplate": "Model=%{text}<br>Fleet=%{customdata[0]}<br>Rebalanced Vehicles (Manual)=%{x:.3f} ± %{error_x.array[0]:.3f}<br>Satisfied Demand Ratio=%{y:.3f} ± %{error_y.array[0]:.3f}<extra></extra>",
         "legendgroup": "HRL Both Enabled",
         "marker": {
          "color": "#002D72",
          "line": {
           "width": 1
          },
          "size": 10,
          "symbol": 2
         },
         "mode": "markers",
         "name": "HRL Both Enabled",
         "showlegend": false,
         "text": [
          "HRL Both Enabled"
         ],
         "type": "scatter",
         "x": [
          6.9525
         ],
         "y": [
          0.835
         ]
        },
        {
         "customdata": [
          [
           600
          ]
         ],
         "error_x": {
          "array": [
           null
          ],
          "type": "data",
          "visible": true
         },
         "error_y": {
          "array": [
           null
          ],
          "type": "data",
          "visible": true
         },
         "hovertemplate": "Model=%{text}<br>Fleet=%{customdata[0]}<br>Rebalanced Vehicles (Manual)=%{x:.3f} ± %{error_x.array[0]:.3f}<br>Satisfied Demand Ratio=%{y:.3f} ± %{error_y.array[0]:.3f}<extra></extra>",
         "legendgroup": "HRL Manual Only",
         "marker": {
          "color": "#737373",
          "line": {
           "width": 1
          },
          "size": 10,
          "symbol": 0
         },
         "mode": "markers",
         "name": "HRL Manual Only",
         "showlegend": true,
         "text": [
          "HRL Manual Only"
         ],
         "type": "scatter",
         "x": [
          6.765
         ],
         "y": [
          0.7477
         ]
        },
        {
         "customdata": [
          [
           900
          ]
         ],
         "error_x": {
          "array": [
           null
          ],
          "type": "data",
          "visible": true
         },
         "error_y": {
          "array": [
           null
          ],
          "type": "data",
          "visible": true
         },
         "hovertemplate": "Model=%{text}<br>Fleet=%{customdata[0]}<br>Rebalanced Vehicles (Manual)=%{x:.3f} ± %{error_x.array[0]:.3f}<br>Satisfied Demand Ratio=%{y:.3f} ± %{error_y.array[0]:.3f}<extra></extra>",
         "legendgroup": "HRL Manual Only",
         "marker": {
          "color": "#737373",
          "line": {
           "width": 1
          },
          "size": 10,
          "symbol": 1
         },
         "mode": "markers",
         "name": "HRL Manual Only",
         "showlegend": false,
         "text": [
          "HRL Manual Only"
         ],
         "type": "scatter",
         "x": [
          6.865
         ],
         "y": [
          0.8438
         ]
        },
        {
         "customdata": [
          [
           1200
          ]
         ],
         "error_x": {
          "array": [
           null
          ],
          "type": "data",
          "visible": true
         },
         "error_y": {
          "array": [
           null
          ],
          "type": "data",
          "visible": true
         },
         "hovertemplate": "Model=%{text}<br>Fleet=%{customdata[0]}<br>Rebalanced Vehicles (Manual)=%{x:.3f} ± %{error_x.array[0]:.3f}<br>Satisfied Demand Ratio=%{y:.3f} ± %{error_y.array[0]:.3f}<extra></extra>",
         "legendgroup": "HRL Manual Only",
         "marker": {
          "color": "#737373",
          "line": {
           "width": 1
          },
          "size": 10,
          "symbol": 2
         },
         "mode": "markers",
         "name": "HRL Manual Only",
         "showlegend": false,
         "text": [
          "HRL Manual Only"
         ],
         "type": "scatter",
         "x": [
          7.82
         ],
         "y": [
          0.903
         ]
        },
        {
         "customdata": [
          [
           600
          ]
         ],
         "error_x": {
          "array": [
           null
          ],
          "type": "data",
          "visible": true
         },
         "error_y": {
          "array": [
           null
          ],
          "type": "data",
          "visible": true
         },
         "hovertemplate": "Model=%{text}<br>Fleet=%{customdata[0]}<br>Rebalanced Vehicles (Manual)=%{x:.3f} ± %{error_x.array[0]:.3f}<br>Satisfied Demand Ratio=%{y:.3f} ± %{error_y.array[0]:.3f}<extra></extra>",
         "legendgroup": "HRL Incentive Only",
         "marker": {
          "color": "#D1D1D1",
          "line": {
           "width": 1
          },
          "size": 10,
          "symbol": 0
         },
         "mode": "markers",
         "name": "HRL Incentive Only",
         "showlegend": true,
         "text": [
          "HRL Incentive Only"
         ],
         "type": "scatter",
         "x": [
          0
         ],
         "y": [
          0.583
         ]
        },
        {
         "customdata": [
          [
           900
          ]
         ],
         "error_x": {
          "array": [
           null
          ],
          "type": "data",
          "visible": true
         },
         "error_y": {
          "array": [
           null
          ],
          "type": "data",
          "visible": true
         },
         "hovertemplate": "Model=%{text}<br>Fleet=%{customdata[0]}<br>Rebalanced Vehicles (Manual)=%{x:.3f} ± %{error_x.array[0]:.3f}<br>Satisfied Demand Ratio=%{y:.3f} ± %{error_y.array[0]:.3f}<extra></extra>",
         "legendgroup": "HRL Incentive Only",
         "marker": {
          "color": "#D1D1D1",
          "line": {
           "width": 1
          },
          "size": 10,
          "symbol": 1
         },
         "mode": "markers",
         "name": "HRL Incentive Only",
         "showlegend": false,
         "text": [
          "HRL Incentive Only"
         ],
         "type": "scatter",
         "x": [
          0
         ],
         "y": [
          0.6469
         ]
        },
        {
         "customdata": [
          [
           1200
          ]
         ],
         "error_x": {
          "array": [
           null
          ],
          "type": "data",
          "visible": true
         },
         "error_y": {
          "array": [
           null
          ],
          "type": "data",
          "visible": true
         },
         "hovertemplate": "Model=%{text}<br>Fleet=%{customdata[0]}<br>Rebalanced Vehicles (Manual)=%{x:.3f} ± %{error_x.array[0]:.3f}<br>Satisfied Demand Ratio=%{y:.3f} ± %{error_y.array[0]:.3f}<extra></extra>",
         "legendgroup": "HRL Incentive Only",
         "marker": {
          "color": "#D1D1D1",
          "line": {
           "width": 1
          },
          "size": 10,
          "symbol": 2
         },
         "mode": "markers",
         "name": "HRL Incentive Only",
         "showlegend": false,
         "text": [
          "HRL Incentive Only"
         ],
         "type": "scatter",
         "x": [
          0
         ],
         "y": [
          0.687
         ]
        },
        {
         "customdata": [
          [
           600
          ]
         ],
         "error_x": {
          "array": [
           0
          ],
          "type": "data",
          "visible": true
         },
         "error_y": {
          "array": [
           0.008170520346014086
          ],
          "type": "data",
          "visible": true
         },
         "hovertemplate": "Model=%{text}<br>Fleet=%{customdata[0]}<br>Rebalanced Vehicles (Manual)=%{x:.3f} ± %{error_x.array[0]:.3f}<br>Satisfied Demand Ratio=%{y:.3f} ± %{error_y.array[0]:.3f}<extra></extra>",
         "legendgroup": "No Rebalancing",
         "marker": {
          "color": "#2C74B3",
          "line": {
           "width": 1
          },
          "size": 10,
          "symbol": 0
         },
         "mode": "markers",
         "name": "No Rebalancing",
         "showlegend": true,
         "text": [
          "No Rebalancing"
         ],
         "type": "scatter",
         "x": [
          0
         ],
         "y": [
          0.6955800038111914
         ]
        },
        {
         "customdata": [
          [
           900
          ]
         ],
         "error_x": {
          "array": [
           0
          ],
          "type": "data",
          "visible": true
         },
         "error_y": {
          "array": [
           0.00803559728917495
          ],
          "type": "data",
          "visible": true
         },
         "hovertemplate": "Model=%{text}<br>Fleet=%{customdata[0]}<br>Rebalanced Vehicles (Manual)=%{x:.3f} ± %{error_x.array[0]:.3f}<br>Satisfied Demand Ratio=%{y:.3f} ± %{error_y.array[0]:.3f}<extra></extra>",
         "legendgroup": "No Rebalancing",
         "marker": {
          "color": "#2C74B3",
          "line": {
           "width": 1
          },
          "size": 10,
          "symbol": 1
         },
         "mode": "markers",
         "name": "No Rebalancing",
         "showlegend": false,
         "text": [
          "No Rebalancing"
         ],
         "type": "scatter",
         "x": [
          0
         ],
         "y": [
          0.7972209663695845
         ]
        },
        {
         "customdata": [
          [
           1200
          ]
         ],
         "error_x": {
          "array": [
           0
          ],
          "type": "data",
          "visible": true
         },
         "error_y": {
          "array": [
           0.007194248190266165
          ],
          "type": "data",
          "visible": true
         },
         "hovertemplate": "Model=%{text}<br>Fleet=%{customdata[0]}<br>Rebalanced Vehicles (Manual)=%{x:.3f} ± %{error_x.array[0]:.3f}<br>Satisfied Demand Ratio=%{y:.3f} ± %{error_y.array[0]:.3f}<extra></extra>",
         "legendgroup": "No Rebalancing",
         "marker": {
          "color": "#2C74B3",
          "line": {
           "width": 1
          },
          "size": 10,
          "symbol": 2
         },
         "mode": "markers",
         "name": "No Rebalancing",
         "showlegend": false,
         "text": [
          "No Rebalancing"
         ],
         "type": "scatter",
         "x": [
          0
         ],
         "y": [
          0.8611125247515312
         ]
        },
        {
         "customdata": [
          [
           600
          ]
         ],
         "error_x": {
          "array": [
           0.15963383264933467
          ],
          "type": "data",
          "visible": true
         },
         "error_y": {
          "array": [
           0.007383771861497629
          ],
          "type": "data",
          "visible": true
         },
         "hovertemplate": "Model=%{text}<br>Fleet=%{customdata[0]}<br>Rebalanced Vehicles (Manual)=%{x:.3f} ± %{error_x.array[0]:.3f}<br>Satisfied Demand Ratio=%{y:.3f} ± %{error_y.array[0]:.3f}<extra></extra>",
         "legendgroup": "Greedy Heuristic",
         "marker": {
          "color": "#A1C9F4",
          "line": {
           "width": 1
          },
          "size": 10,
          "symbol": 0
         },
         "mode": "markers",
         "name": "Greedy Heuristic",
         "showlegend": true,
         "text": [
          "Greedy Heuristic"
         ],
         "type": "scatter",
         "x": [
          0.24575
         ],
         "y": [
          0.6849414001688736
         ]
        },
        {
         "customdata": [
          [
           900
          ]
         ],
         "error_x": {
          "array": [
           0
          ],
          "type": "data",
          "visible": true
         },
         "error_y": {
          "array": [
           0.007757005103254865
          ],
          "type": "data",
          "visible": true
         },
         "hovertemplate": "Model=%{text}<br>Fleet=%{customdata[0]}<br>Rebalanced Vehicles (Manual)=%{x:.3f} ± %{error_x.array[0]:.3f}<br>Satisfied Demand Ratio=%{y:.3f} ± %{error_y.array[0]:.3f}<extra></extra>",
         "legendgroup": "Greedy Heuristic",
         "marker": {
          "color": "#A1C9F4",
          "line": {
           "width": 1
          },
          "size": 10,
          "symbol": 1
         },
         "mode": "markers",
         "name": "Greedy Heuristic",
         "showlegend": false,
         "text": [
          "Greedy Heuristic"
         ],
         "type": "scatter",
         "x": [
          0.02
         ],
         "y": [
          0.7875569154434121
         ]
        },
        {
         "customdata": [
          [
           1200
          ]
         ],
         "error_x": {
          "array": [
           0
          ],
          "type": "data",
          "visible": true
         },
         "error_y": {
          "array": [
           0.007043003689164181
          ],
          "type": "data",
          "visible": true
         },
         "hovertemplate": "Model=%{text}<br>Fleet=%{customdata[0]}<br>Rebalanced Vehicles (Manual)=%{x:.3f} ± %{error_x.array[0]:.3f}<br>Satisfied Demand Ratio=%{y:.3f} ± %{error_y.array[0]:.3f}<extra></extra>",
         "legendgroup": "Greedy Heuristic",
         "marker": {
          "color": "#A1C9F4",
          "line": {
           "width": 1
          },
          "size": 10,
          "symbol": 2
         },
         "mode": "markers",
         "name": "Greedy Heuristic",
         "showlegend": false,
         "text": [
          "Greedy Heuristic"
         ],
         "type": "scatter",
         "x": [
          0
         ],
         "y": [
          0.8548348567692337
         ]
        },
        {
         "legendgroup": "fleet_600",
         "marker": {
          "color": "black",
          "size": 10,
          "symbol": 0
         },
         "mode": "markers",
         "name": "Fleet 600",
         "type": "scatter",
         "x": [
          null
         ],
         "y": [
          null
         ]
        },
        {
         "legendgroup": "fleet_900",
         "marker": {
          "color": "black",
          "size": 10,
          "symbol": 1
         },
         "mode": "markers",
         "name": "Fleet 900",
         "type": "scatter",
         "x": [
          null
         ],
         "y": [
          null
         ]
        },
        {
         "legendgroup": "fleet_1200",
         "marker": {
          "color": "black",
          "size": 10,
          "symbol": 2
         },
         "mode": "markers",
         "name": "Fleet 1200",
         "type": "scatter",
         "x": [
          null
         ],
         "y": [
          null
         ]
        }
       ],
       "layout": {
        "height": 520,
        "legend": {
         "orientation": "h",
         "x": 0,
         "xanchor": "left",
         "y": 1.02,
         "yanchor": "bottom"
        },
        "margin": {
         "b": 80,
         "l": 60,
         "r": 66,
         "t": 0
        },
        "template": {
         "layout": {
          "colorway": [
           "#002D72",
           "#5A5A5A",
           "#D1D1D1",
           "#2C74B3",
           "#A1C9F4"
          ],
          "font": {
           "color": "#002D72",
           "family": "Arial, sans-serif",
           "size": 14
          },
          "paper_bgcolor": "white",
          "plot_bgcolor": "white",
          "title": {
           "font": {
            "color": "#002D72",
            "size": 20
           }
          },
          "xaxis": {
           "gridcolor": "#D1D1D1",
           "linecolor": "#002D72",
           "zerolinecolor": "#D1D1D1"
          },
          "yaxis": {
           "gridcolor": "#D1D1D1",
           "linecolor": "#002D72",
           "zerolinecolor": "#D1D1D1"
          }
         }
        },
        "width": 820,
        "xaxis": {
         "title": {
          "text": "Rebalanced Vehicles (Manual)"
         }
        },
        "yaxis": {
         "tickformat": ".0%",
         "title": {
          "text": "Satisfied Demand Ratio"
         }
        }
       }
      }
     },
     "metadata": {},
     "output_type": "display_data"
    }
   ],
   "source": [
    "plot_tradeoff_scatter(full_results).show()"
   ]
  },
  {
   "cell_type": "code",
   "execution_count": 154,
   "id": "4c332250",
   "metadata": {},
   "outputs": [
    {
     "data": {
      "application/vnd.plotly.v1+json": {
       "config": {
        "plotlyServerURL": "https://plot.ly"
       },
       "data": [
        {
         "customdata": [
          [
           600
          ]
         ],
         "error_x": {
          "array": [
           null
          ],
          "type": "data",
          "visible": true
         },
         "error_y": {
          "array": [
           null
          ],
          "type": "data",
          "visible": true
         },
         "hovertemplate": "Model=%{text}<br>Fleet=%{customdata[0]}<br>Rebalanced Vehicles (Incentives)=%{x:.3f} ± %{error_x.array[0]:.3f}<br>Satisfied Demand Ratio=%{y:.3f} ± %{error_y.array[0]:.3f}<extra></extra>",
         "legendgroup": "HRL Both Enabled",
         "marker": {
          "color": "#002D72",
          "line": {
           "width": 1
          },
          "size": 10,
          "symbol": 0
         },
         "mode": "markers",
         "name": "HRL Both Enabled",
         "showlegend": true,
         "text": [
          "HRL Both Enabled"
         ],
         "type": "scatter",
         "x": [
          10.905
         ],
         "y": [
          0.7322
         ]
        },
        {
         "customdata": [
          [
           900
          ]
         ],
         "error_x": {
          "array": [
           null
          ],
          "type": "data",
          "visible": true
         },
         "error_y": {
          "array": [
           null
          ],
          "type": "data",
          "visible": true
         },
         "hovertemplate": "Model=%{text}<br>Fleet=%{customdata[0]}<br>Rebalanced Vehicles (Incentives)=%{x:.3f} ± %{error_x.array[0]:.3f}<br>Satisfied Demand Ratio=%{y:.3f} ± %{error_y.array[0]:.3f}<extra></extra>",
         "legendgroup": "HRL Both Enabled",
         "marker": {
          "color": "#002D72",
          "line": {
           "width": 1
          },
          "size": 10,
          "symbol": 1
         },
         "mode": "markers",
         "name": "HRL Both Enabled",
         "showlegend": false,
         "text": [
          "HRL Both Enabled"
         ],
         "type": "scatter",
         "x": [
          10.92
         ],
         "y": [
          0.7979
         ]
        },
        {
         "customdata": [
          [
           1200
          ]
         ],
         "error_x": {
          "array": [
           null
          ],
          "type": "data",
          "visible": true
         },
         "error_y": {
          "array": [
           null
          ],
          "type": "data",
          "visible": true
         },
         "hovertemplate": "Model=%{text}<br>Fleet=%{customdata[0]}<br>Rebalanced Vehicles (Incentives)=%{x:.3f} ± %{error_x.array[0]:.3f}<br>Satisfied Demand Ratio=%{y:.3f} ± %{error_y.array[0]:.3f}<extra></extra>",
         "legendgroup": "HRL Both Enabled",
         "marker": {
          "color": "#002D72",
          "line": {
           "width": 1
          },
          "size": 10,
          "symbol": 2
         },
         "mode": "markers",
         "name": "HRL Both Enabled",
         "showlegend": false,
         "text": [
          "HRL Both Enabled"
         ],
         "type": "scatter",
         "x": [
          10.925
         ],
         "y": [
          0.835
         ]
        },
        {
         "customdata": [
          [
           600
          ]
         ],
         "error_x": {
          "array": [
           null
          ],
          "type": "data",
          "visible": true
         },
         "error_y": {
          "array": [
           null
          ],
          "type": "data",
          "visible": true
         },
         "hovertemplate": "Model=%{text}<br>Fleet=%{customdata[0]}<br>Rebalanced Vehicles (Incentives)=%{x:.3f} ± %{error_x.array[0]:.3f}<br>Satisfied Demand Ratio=%{y:.3f} ± %{error_y.array[0]:.3f}<extra></extra>",
         "legendgroup": "HRL Manual Only",
         "marker": {
          "color": "#737373",
          "line": {
           "width": 1
          },
          "size": 10,
          "symbol": 0
         },
         "mode": "markers",
         "name": "HRL Manual Only",
         "showlegend": true,
         "text": [
          "HRL Manual Only"
         ],
         "type": "scatter",
         "x": [
          0
         ],
         "y": [
          0.7477
         ]
        },
        {
         "customdata": [
          [
           900
          ]
         ],
         "error_x": {
          "array": [
           null
          ],
          "type": "data",
          "visible": true
         },
         "error_y": {
          "array": [
           null
          ],
          "type": "data",
          "visible": true
         },
         "hovertemplate": "Model=%{text}<br>Fleet=%{customdata[0]}<br>Rebalanced Vehicles (Incentives)=%{x:.3f} ± %{error_x.array[0]:.3f}<br>Satisfied Demand Ratio=%{y:.3f} ± %{error_y.array[0]:.3f}<extra></extra>",
         "legendgroup": "HRL Manual Only",
         "marker": {
          "color": "#737373",
          "line": {
           "width": 1
          },
          "size": 10,
          "symbol": 1
         },
         "mode": "markers",
         "name": "HRL Manual Only",
         "showlegend": false,
         "text": [
          "HRL Manual Only"
         ],
         "type": "scatter",
         "x": [
          0
         ],
         "y": [
          0.8438
         ]
        },
        {
         "customdata": [
          [
           1200
          ]
         ],
         "error_x": {
          "array": [
           null
          ],
          "type": "data",
          "visible": true
         },
         "error_y": {
          "array": [
           null
          ],
          "type": "data",
          "visible": true
         },
         "hovertemplate": "Model=%{text}<br>Fleet=%{customdata[0]}<br>Rebalanced Vehicles (Incentives)=%{x:.3f} ± %{error_x.array[0]:.3f}<br>Satisfied Demand Ratio=%{y:.3f} ± %{error_y.array[0]:.3f}<extra></extra>",
         "legendgroup": "HRL Manual Only",
         "marker": {
          "color": "#737373",
          "line": {
           "width": 1
          },
          "size": 10,
          "symbol": 2
         },
         "mode": "markers",
         "name": "HRL Manual Only",
         "showlegend": false,
         "text": [
          "HRL Manual Only"
         ],
         "type": "scatter",
         "x": [
          0
         ],
         "y": [
          0.903
         ]
        },
        {
         "customdata": [
          [
           600
          ]
         ],
         "error_x": {
          "array": [
           null
          ],
          "type": "data",
          "visible": true
         },
         "error_y": {
          "array": [
           null
          ],
          "type": "data",
          "visible": true
         },
         "hovertemplate": "Model=%{text}<br>Fleet=%{customdata[0]}<br>Rebalanced Vehicles (Incentives)=%{x:.3f} ± %{error_x.array[0]:.3f}<br>Satisfied Demand Ratio=%{y:.3f} ± %{error_y.array[0]:.3f}<extra></extra>",
         "legendgroup": "HRL Incentive Only",
         "marker": {
          "color": "#D1D1D1",
          "line": {
           "width": 1
          },
          "size": 10,
          "symbol": 0
         },
         "mode": "markers",
         "name": "HRL Incentive Only",
         "showlegend": true,
         "text": [
          "HRL Incentive Only"
         ],
         "type": "scatter",
         "x": [
          10.635
         ],
         "y": [
          0.583
         ]
        },
        {
         "customdata": [
          [
           900
          ]
         ],
         "error_x": {
          "array": [
           null
          ],
          "type": "data",
          "visible": true
         },
         "error_y": {
          "array": [
           null
          ],
          "type": "data",
          "visible": true
         },
         "hovertemplate": "Model=%{text}<br>Fleet=%{customdata[0]}<br>Rebalanced Vehicles (Incentives)=%{x:.3f} ± %{error_x.array[0]:.3f}<br>Satisfied Demand Ratio=%{y:.3f} ± %{error_y.array[0]:.3f}<extra></extra>",
         "legendgroup": "HRL Incentive Only",
         "marker": {
          "color": "#D1D1D1",
          "line": {
           "width": 1
          },
          "size": 10,
          "symbol": 1
         },
         "mode": "markers",
         "name": "HRL Incentive Only",
         "showlegend": false,
         "text": [
          "HRL Incentive Only"
         ],
         "type": "scatter",
         "x": [
          10.605
         ],
         "y": [
          0.6469
         ]
        },
        {
         "customdata": [
          [
           1200
          ]
         ],
         "error_x": {
          "array": [
           null
          ],
          "type": "data",
          "visible": true
         },
         "error_y": {
          "array": [
           null
          ],
          "type": "data",
          "visible": true
         },
         "hovertemplate": "Model=%{text}<br>Fleet=%{customdata[0]}<br>Rebalanced Vehicles (Incentives)=%{x:.3f} ± %{error_x.array[0]:.3f}<br>Satisfied Demand Ratio=%{y:.3f} ± %{error_y.array[0]:.3f}<extra></extra>",
         "legendgroup": "HRL Incentive Only",
         "marker": {
          "color": "#D1D1D1",
          "line": {
           "width": 1
          },
          "size": 10,
          "symbol": 2
         },
         "mode": "markers",
         "name": "HRL Incentive Only",
         "showlegend": false,
         "text": [
          "HRL Incentive Only"
         ],
         "type": "scatter",
         "x": [
          10.66
         ],
         "y": [
          0.687
         ]
        },
        {
         "customdata": [
          [
           600
          ]
         ],
         "error_x": {
          "array": [
           0
          ],
          "type": "data",
          "visible": true
         },
         "error_y": {
          "array": [
           0.008170520346014086
          ],
          "type": "data",
          "visible": true
         },
         "hovertemplate": "Model=%{text}<br>Fleet=%{customdata[0]}<br>Rebalanced Vehicles (Incentives)=%{x:.3f} ± %{error_x.array[0]:.3f}<br>Satisfied Demand Ratio=%{y:.3f} ± %{error_y.array[0]:.3f}<extra></extra>",
         "legendgroup": "No Rebalancing",
         "marker": {
          "color": "#2C74B3",
          "line": {
           "width": 1
          },
          "size": 10,
          "symbol": 0
         },
         "mode": "markers",
         "name": "No Rebalancing",
         "showlegend": true,
         "text": [
          "No Rebalancing"
         ],
         "type": "scatter",
         "x": [
          0
         ],
         "y": [
          0.6955800038111914
         ]
        },
        {
         "customdata": [
          [
           900
          ]
         ],
         "error_x": {
          "array": [
           0
          ],
          "type": "data",
          "visible": true
         },
         "error_y": {
          "array": [
           0.00803559728917495
          ],
          "type": "data",
          "visible": true
         },
         "hovertemplate": "Model=%{text}<br>Fleet=%{customdata[0]}<br>Rebalanced Vehicles (Incentives)=%{x:.3f} ± %{error_x.array[0]:.3f}<br>Satisfied Demand Ratio=%{y:.3f} ± %{error_y.array[0]:.3f}<extra></extra>",
         "legendgroup": "No Rebalancing",
         "marker": {
          "color": "#2C74B3",
          "line": {
           "width": 1
          },
          "size": 10,
          "symbol": 1
         },
         "mode": "markers",
         "name": "No Rebalancing",
         "showlegend": false,
         "text": [
          "No Rebalancing"
         ],
         "type": "scatter",
         "x": [
          0
         ],
         "y": [
          0.7972209663695845
         ]
        },
        {
         "customdata": [
          [
           1200
          ]
         ],
         "error_x": {
          "array": [
           0
          ],
          "type": "data",
          "visible": true
         },
         "error_y": {
          "array": [
           0.007194248190266165
          ],
          "type": "data",
          "visible": true
         },
         "hovertemplate": "Model=%{text}<br>Fleet=%{customdata[0]}<br>Rebalanced Vehicles (Incentives)=%{x:.3f} ± %{error_x.array[0]:.3f}<br>Satisfied Demand Ratio=%{y:.3f} ± %{error_y.array[0]:.3f}<extra></extra>",
         "legendgroup": "No Rebalancing",
         "marker": {
          "color": "#2C74B3",
          "line": {
           "width": 1
          },
          "size": 10,
          "symbol": 2
         },
         "mode": "markers",
         "name": "No Rebalancing",
         "showlegend": false,
         "text": [
          "No Rebalancing"
         ],
         "type": "scatter",
         "x": [
          0
         ],
         "y": [
          0.8611125247515312
         ]
        },
        {
         "customdata": [
          [
           600
          ]
         ],
         "error_x": {
          "array": [
           0.701641531564222
          ],
          "type": "data",
          "visible": true
         },
         "error_y": {
          "array": [
           0.007383771861497629
          ],
          "type": "data",
          "visible": true
         },
         "hovertemplate": "Model=%{text}<br>Fleet=%{customdata[0]}<br>Rebalanced Vehicles (Incentives)=%{x:.3f} ± %{error_x.array[0]:.3f}<br>Satisfied Demand Ratio=%{y:.3f} ± %{error_y.array[0]:.3f}<extra></extra>",
         "legendgroup": "Greedy Heuristic",
         "marker": {
          "color": "#A1C9F4",
          "line": {
           "width": 1
          },
          "size": 10,
          "symbol": 0
         },
         "mode": "markers",
         "name": "Greedy Heuristic",
         "showlegend": true,
         "text": [
          "Greedy Heuristic"
         ],
         "type": "scatter",
         "x": [
          46.281625000000005
         ],
         "y": [
          0.6849414001688736
         ]
        },
        {
         "customdata": [
          [
           900
          ]
         ],
         "error_x": {
          "array": [
           0.8994198696791631
          ],
          "type": "data",
          "visible": true
         },
         "error_y": {
          "array": [
           0.007757005103254865
          ],
          "type": "data",
          "visible": true
         },
         "hovertemplate": "Model=%{text}<br>Fleet=%{customdata[0]}<br>Rebalanced Vehicles (Incentives)=%{x:.3f} ± %{error_x.array[0]:.3f}<br>Satisfied Demand Ratio=%{y:.3f} ± %{error_y.array[0]:.3f}<extra></extra>",
         "legendgroup": "Greedy Heuristic",
         "marker": {
          "color": "#A1C9F4",
          "line": {
           "width": 1
          },
          "size": 10,
          "symbol": 1
         },
         "mode": "markers",
         "name": "Greedy Heuristic",
         "showlegend": false,
         "text": [
          "Greedy Heuristic"
         ],
         "type": "scatter",
         "x": [
          35.756625
         ],
         "y": [
          0.7875569154434121
         ]
        },
        {
         "customdata": [
          [
           1200
          ]
         ],
         "error_x": {
          "array": [
           1.1474789013081548
          ],
          "type": "data",
          "visible": true
         },
         "error_y": {
          "array": [
           0.007043003689164181
          ],
          "type": "data",
          "visible": true
         },
         "hovertemplate": "Model=%{text}<br>Fleet=%{customdata[0]}<br>Rebalanced Vehicles (Incentives)=%{x:.3f} ± %{error_x.array[0]:.3f}<br>Satisfied Demand Ratio=%{y:.3f} ± %{error_y.array[0]:.3f}<extra></extra>",
         "legendgroup": "Greedy Heuristic",
         "marker": {
          "color": "#A1C9F4",
          "line": {
           "width": 1
          },
          "size": 10,
          "symbol": 2
         },
         "mode": "markers",
         "name": "Greedy Heuristic",
         "showlegend": false,
         "text": [
          "Greedy Heuristic"
         ],
         "type": "scatter",
         "x": [
          27.16225
         ],
         "y": [
          0.8548348567692337
         ]
        },
        {
         "legendgroup": "fleet_600",
         "marker": {
          "color": "black",
          "size": 10,
          "symbol": 0
         },
         "mode": "markers",
         "name": "Fleet 600",
         "type": "scatter",
         "x": [
          null
         ],
         "y": [
          null
         ]
        },
        {
         "legendgroup": "fleet_900",
         "marker": {
          "color": "black",
          "size": 10,
          "symbol": 1
         },
         "mode": "markers",
         "name": "Fleet 900",
         "type": "scatter",
         "x": [
          null
         ],
         "y": [
          null
         ]
        },
        {
         "legendgroup": "fleet_1200",
         "marker": {
          "color": "black",
          "size": 10,
          "symbol": 2
         },
         "mode": "markers",
         "name": "Fleet 1200",
         "type": "scatter",
         "x": [
          null
         ],
         "y": [
          null
         ]
        }
       ],
       "layout": {
        "height": 520,
        "legend": {
         "orientation": "h",
         "x": 0,
         "xanchor": "left",
         "y": 1.02,
         "yanchor": "bottom"
        },
        "margin": {
         "b": 80,
         "l": 60,
         "r": 66,
         "t": 0
        },
        "template": {
         "layout": {
          "colorway": [
           "#002D72",
           "#5A5A5A",
           "#D1D1D1",
           "#2C74B3",
           "#A1C9F4"
          ],
          "font": {
           "color": "#002D72",
           "family": "Arial, sans-serif",
           "size": 14
          },
          "paper_bgcolor": "white",
          "plot_bgcolor": "white",
          "title": {
           "font": {
            "color": "#002D72",
            "size": 20
           }
          },
          "xaxis": {
           "gridcolor": "#D1D1D1",
           "linecolor": "#002D72",
           "zerolinecolor": "#D1D1D1"
          },
          "yaxis": {
           "gridcolor": "#D1D1D1",
           "linecolor": "#002D72",
           "zerolinecolor": "#D1D1D1"
          }
         }
        },
        "width": 820,
        "xaxis": {
         "title": {
          "text": "Rebalanced Vehicles (Incentives)"
         }
        },
        "yaxis": {
         "tickformat": ".0%",
         "title": {
          "text": "Satisfied Demand Ratio"
         }
        }
       }
      }
     },
     "metadata": {},
     "output_type": "display_data"
    }
   ],
   "source": [
    "plot_tradeoff_scatter(\n",
    "    full_results, x_metric=\"mean_rebalanced_vehicles_incentives\"\n",
    ").show()"
   ]
  },
  {
   "cell_type": "code",
   "execution_count": 155,
   "id": "b82b0d5a",
   "metadata": {},
   "outputs": [
    {
     "data": {
      "application/vnd.plotly.v1+json": {
       "config": {
        "plotlyServerURL": "https://plot.ly"
       },
       "data": [
        {
         "customdata": [
          [
           600
          ]
         ],
         "error_x": {
          "array": [
           null
          ],
          "type": "data",
          "visible": true
         },
         "error_y": {
          "array": [
           null
          ],
          "type": "data",
          "visible": true
         },
         "hovertemplate": "Model=%{text}<br>Fleet=%{customdata[0]}<br>Gini Coefficient=%{x:.3f} ± %{error_x.array[0]:.3f}<br>Satisfied Demand Ratio=%{y:.3f} ± %{error_y.array[0]:.3f}<extra></extra>",
         "legendgroup": "HRL Both Enabled",
         "marker": {
          "color": "#002D72",
          "line": {
           "width": 1
          },
          "size": 10,
          "symbol": 0
         },
         "mode": "markers",
         "name": "HRL Both Enabled",
         "showlegend": true,
         "text": [
          "HRL Both Enabled"
         ],
         "type": "scatter",
         "x": [
          0.3073
         ],
         "y": [
          0.7322
         ]
        },
        {
         "customdata": [
          [
           900
          ]
         ],
         "error_x": {
          "array": [
           null
          ],
          "type": "data",
          "visible": true
         },
         "error_y": {
          "array": [
           null
          ],
          "type": "data",
          "visible": true
         },
         "hovertemplate": "Model=%{text}<br>Fleet=%{customdata[0]}<br>Gini Coefficient=%{x:.3f} ± %{error_x.array[0]:.3f}<br>Satisfied Demand Ratio=%{y:.3f} ± %{error_y.array[0]:.3f}<extra></extra>",
         "legendgroup": "HRL Both Enabled",
         "marker": {
          "color": "#002D72",
          "line": {
           "width": 1
          },
          "size": 10,
          "symbol": 1
         },
         "mode": "markers",
         "name": "HRL Both Enabled",
         "showlegend": false,
         "text": [
          "HRL Both Enabled"
         ],
         "type": "scatter",
         "x": [
          0.2649
         ],
         "y": [
          0.7979
         ]
        },
        {
         "customdata": [
          [
           1200
          ]
         ],
         "error_x": {
          "array": [
           null
          ],
          "type": "data",
          "visible": true
         },
         "error_y": {
          "array": [
           null
          ],
          "type": "data",
          "visible": true
         },
         "hovertemplate": "Model=%{text}<br>Fleet=%{customdata[0]}<br>Gini Coefficient=%{x:.3f} ± %{error_x.array[0]:.3f}<br>Satisfied Demand Ratio=%{y:.3f} ± %{error_y.array[0]:.3f}<extra></extra>",
         "legendgroup": "HRL Both Enabled",
         "marker": {
          "color": "#002D72",
          "line": {
           "width": 1
          },
          "size": 10,
          "symbol": 2
         },
         "mode": "markers",
         "name": "HRL Both Enabled",
         "showlegend": false,
         "text": [
          "HRL Both Enabled"
         ],
         "type": "scatter",
         "x": [
          0.2814
         ],
         "y": [
          0.835
         ]
        },
        {
         "customdata": [
          [
           600
          ]
         ],
         "error_x": {
          "array": [
           null
          ],
          "type": "data",
          "visible": true
         },
         "error_y": {
          "array": [
           null
          ],
          "type": "data",
          "visible": true
         },
         "hovertemplate": "Model=%{text}<br>Fleet=%{customdata[0]}<br>Gini Coefficient=%{x:.3f} ± %{error_x.array[0]:.3f}<br>Satisfied Demand Ratio=%{y:.3f} ± %{error_y.array[0]:.3f}<extra></extra>",
         "legendgroup": "HRL Manual Only",
         "marker": {
          "color": "#737373",
          "line": {
           "width": 1
          },
          "size": 10,
          "symbol": 0
         },
         "mode": "markers",
         "name": "HRL Manual Only",
         "showlegend": true,
         "text": [
          "HRL Manual Only"
         ],
         "type": "scatter",
         "x": [
          0.2814
         ],
         "y": [
          0.7477
         ]
        },
        {
         "customdata": [
          [
           900
          ]
         ],
         "error_x": {
          "array": [
           null
          ],
          "type": "data",
          "visible": true
         },
         "error_y": {
          "array": [
           null
          ],
          "type": "data",
          "visible": true
         },
         "hovertemplate": "Model=%{text}<br>Fleet=%{customdata[0]}<br>Gini Coefficient=%{x:.3f} ± %{error_x.array[0]:.3f}<br>Satisfied Demand Ratio=%{y:.3f} ± %{error_y.array[0]:.3f}<extra></extra>",
         "legendgroup": "HRL Manual Only",
         "marker": {
          "color": "#737373",
          "line": {
           "width": 1
          },
          "size": 10,
          "symbol": 1
         },
         "mode": "markers",
         "name": "HRL Manual Only",
         "showlegend": false,
         "text": [
          "HRL Manual Only"
         ],
         "type": "scatter",
         "x": [
          0.241
         ],
         "y": [
          0.8438
         ]
        },
        {
         "customdata": [
          [
           1200
          ]
         ],
         "error_x": {
          "array": [
           null
          ],
          "type": "data",
          "visible": true
         },
         "error_y": {
          "array": [
           null
          ],
          "type": "data",
          "visible": true
         },
         "hovertemplate": "Model=%{text}<br>Fleet=%{customdata[0]}<br>Gini Coefficient=%{x:.3f} ± %{error_x.array[0]:.3f}<br>Satisfied Demand Ratio=%{y:.3f} ± %{error_y.array[0]:.3f}<extra></extra>",
         "legendgroup": "HRL Manual Only",
         "marker": {
          "color": "#737373",
          "line": {
           "width": 1
          },
          "size": 10,
          "symbol": 2
         },
         "mode": "markers",
         "name": "HRL Manual Only",
         "showlegend": false,
         "text": [
          "HRL Manual Only"
         ],
         "type": "scatter",
         "x": [
          0.2038
         ],
         "y": [
          0.903
         ]
        },
        {
         "customdata": [
          [
           600
          ]
         ],
         "error_x": {
          "array": [
           null
          ],
          "type": "data",
          "visible": true
         },
         "error_y": {
          "array": [
           null
          ],
          "type": "data",
          "visible": true
         },
         "hovertemplate": "Model=%{text}<br>Fleet=%{customdata[0]}<br>Gini Coefficient=%{x:.3f} ± %{error_x.array[0]:.3f}<br>Satisfied Demand Ratio=%{y:.3f} ± %{error_y.array[0]:.3f}<extra></extra>",
         "legendgroup": "HRL Incentive Only",
         "marker": {
          "color": "#D1D1D1",
          "line": {
           "width": 1
          },
          "size": 10,
          "symbol": 0
         },
         "mode": "markers",
         "name": "HRL Incentive Only",
         "showlegend": true,
         "text": [
          "HRL Incentive Only"
         ],
         "type": "scatter",
         "x": [
          0.4478
         ],
         "y": [
          0.583
         ]
        },
        {
         "customdata": [
          [
           900
          ]
         ],
         "error_x": {
          "array": [
           null
          ],
          "type": "data",
          "visible": true
         },
         "error_y": {
          "array": [
           null
          ],
          "type": "data",
          "visible": true
         },
         "hovertemplate": "Model=%{text}<br>Fleet=%{customdata[0]}<br>Gini Coefficient=%{x:.3f} ± %{error_x.array[0]:.3f}<br>Satisfied Demand Ratio=%{y:.3f} ± %{error_y.array[0]:.3f}<extra></extra>",
         "legendgroup": "HRL Incentive Only",
         "marker": {
          "color": "#D1D1D1",
          "line": {
           "width": 1
          },
          "size": 10,
          "symbol": 1
         },
         "mode": "markers",
         "name": "HRL Incentive Only",
         "showlegend": false,
         "text": [
          "HRL Incentive Only"
         ],
         "type": "scatter",
         "x": [
          0.4414
         ],
         "y": [
          0.6469
         ]
        },
        {
         "customdata": [
          [
           1200
          ]
         ],
         "error_x": {
          "array": [
           null
          ],
          "type": "data",
          "visible": true
         },
         "error_y": {
          "array": [
           null
          ],
          "type": "data",
          "visible": true
         },
         "hovertemplate": "Model=%{text}<br>Fleet=%{customdata[0]}<br>Gini Coefficient=%{x:.3f} ± %{error_x.array[0]:.3f}<br>Satisfied Demand Ratio=%{y:.3f} ± %{error_y.array[0]:.3f}<extra></extra>",
         "legendgroup": "HRL Incentive Only",
         "marker": {
          "color": "#D1D1D1",
          "line": {
           "width": 1
          },
          "size": 10,
          "symbol": 2
         },
         "mode": "markers",
         "name": "HRL Incentive Only",
         "showlegend": false,
         "text": [
          "HRL Incentive Only"
         ],
         "type": "scatter",
         "x": [
          0.4305
         ],
         "y": [
          0.687
         ]
        },
        {
         "customdata": [
          [
           600
          ]
         ],
         "error_x": {
          "array": [
           0.00795281044450451
          ],
          "type": "data",
          "visible": true
         },
         "error_y": {
          "array": [
           0.008170520346014086
          ],
          "type": "data",
          "visible": true
         },
         "hovertemplate": "Model=%{text}<br>Fleet=%{customdata[0]}<br>Gini Coefficient=%{x:.3f} ± %{error_x.array[0]:.3f}<br>Satisfied Demand Ratio=%{y:.3f} ± %{error_y.array[0]:.3f}<extra></extra>",
         "legendgroup": "No Rebalancing",
         "marker": {
          "color": "#2C74B3",
          "line": {
           "width": 1
          },
          "size": 10,
          "symbol": 0
         },
         "mode": "markers",
         "name": "No Rebalancing",
         "showlegend": true,
         "text": [
          "No Rebalancing"
         ],
         "type": "scatter",
         "x": [
          0.470092286655212
         ],
         "y": [
          0.6955800038111914
         ]
        },
        {
         "customdata": [
          [
           900
          ]
         ],
         "error_x": {
          "array": [
           0.007701462681589002
          ],
          "type": "data",
          "visible": true
         },
         "error_y": {
          "array": [
           0.00803559728917495
          ],
          "type": "data",
          "visible": true
         },
         "hovertemplate": "Model=%{text}<br>Fleet=%{customdata[0]}<br>Gini Coefficient=%{x:.3f} ± %{error_x.array[0]:.3f}<br>Satisfied Demand Ratio=%{y:.3f} ± %{error_y.array[0]:.3f}<extra></extra>",
         "legendgroup": "No Rebalancing",
         "marker": {
          "color": "#2C74B3",
          "line": {
           "width": 1
          },
          "size": 10,
          "symbol": 1
         },
         "mode": "markers",
         "name": "No Rebalancing",
         "showlegend": false,
         "text": [
          "No Rebalancing"
         ],
         "type": "scatter",
         "x": [
          0.40590976804123713
         ],
         "y": [
          0.7972209663695845
         ]
        },
        {
         "customdata": [
          [
           1200
          ]
         ],
         "error_x": {
          "array": [
           0.008356255635375526
          ],
          "type": "data",
          "visible": true
         },
         "error_y": {
          "array": [
           0.007194248190266165
          ],
          "type": "data",
          "visible": true
         },
         "hovertemplate": "Model=%{text}<br>Fleet=%{customdata[0]}<br>Gini Coefficient=%{x:.3f} ± %{error_x.array[0]:.3f}<br>Satisfied Demand Ratio=%{y:.3f} ± %{error_y.array[0]:.3f}<extra></extra>",
         "legendgroup": "No Rebalancing",
         "marker": {
          "color": "#2C74B3",
          "line": {
           "width": 1
          },
          "size": 10,
          "symbol": 2
         },
         "mode": "markers",
         "name": "No Rebalancing",
         "showlegend": false,
         "text": [
          "No Rebalancing"
         ],
         "type": "scatter",
         "x": [
          0.3631541172680413
         ],
         "y": [
          0.8611125247515312
         ]
        },
        {
         "customdata": [
          [
           600
          ]
         ],
         "error_x": {
          "array": [
           0.007346460652232987
          ],
          "type": "data",
          "visible": true
         },
         "error_y": {
          "array": [
           0.007383771861497629
          ],
          "type": "data",
          "visible": true
         },
         "hovertemplate": "Model=%{text}<br>Fleet=%{customdata[0]}<br>Gini Coefficient=%{x:.3f} ± %{error_x.array[0]:.3f}<br>Satisfied Demand Ratio=%{y:.3f} ± %{error_y.array[0]:.3f}<extra></extra>",
         "legendgroup": "Greedy Heuristic",
         "marker": {
          "color": "#A1C9F4",
          "line": {
           "width": 1
          },
          "size": 10,
          "symbol": 0
         },
         "mode": "markers",
         "name": "Greedy Heuristic",
         "showlegend": true,
         "text": [
          "Greedy Heuristic"
         ],
         "type": "scatter",
         "x": [
          0.4346192783505155
         ],
         "y": [
          0.6849414001688736
         ]
        },
        {
         "customdata": [
          [
           900
          ]
         ],
         "error_x": {
          "array": [
           0.005681035568756798
          ],
          "type": "data",
          "visible": true
         },
         "error_y": {
          "array": [
           0.007757005103254865
          ],
          "type": "data",
          "visible": true
         },
         "hovertemplate": "Model=%{text}<br>Fleet=%{customdata[0]}<br>Gini Coefficient=%{x:.3f} ± %{error_x.array[0]:.3f}<br>Satisfied Demand Ratio=%{y:.3f} ± %{error_y.array[0]:.3f}<extra></extra>",
         "legendgroup": "Greedy Heuristic",
         "marker": {
          "color": "#A1C9F4",
          "line": {
           "width": 1
          },
          "size": 10,
          "symbol": 1
         },
         "mode": "markers",
         "name": "Greedy Heuristic",
         "showlegend": false,
         "text": [
          "Greedy Heuristic"
         ],
         "type": "scatter",
         "x": [
          0.38067293146239023
         ],
         "y": [
          0.7875569154434121
         ]
        },
        {
         "customdata": [
          [
           1200
          ]
         ],
         "error_x": {
          "array": [
           0.005211968848037209
          ],
          "type": "data",
          "visible": true
         },
         "error_y": {
          "array": [
           0.007043003689164181
          ],
          "type": "data",
          "visible": true
         },
         "hovertemplate": "Model=%{text}<br>Fleet=%{customdata[0]}<br>Gini Coefficient=%{x:.3f} ± %{error_x.array[0]:.3f}<br>Satisfied Demand Ratio=%{y:.3f} ± %{error_y.array[0]:.3f}<extra></extra>",
         "legendgroup": "Greedy Heuristic",
         "marker": {
          "color": "#A1C9F4",
          "line": {
           "width": 1
          },
          "size": 10,
          "symbol": 2
         },
         "mode": "markers",
         "name": "Greedy Heuristic",
         "showlegend": false,
         "text": [
          "Greedy Heuristic"
         ],
         "type": "scatter",
         "x": [
          0.3478356772623139
         ],
         "y": [
          0.8548348567692337
         ]
        },
        {
         "legendgroup": "fleet_600",
         "marker": {
          "color": "black",
          "size": 10,
          "symbol": 0
         },
         "mode": "markers",
         "name": "Fleet 600",
         "type": "scatter",
         "x": [
          null
         ],
         "y": [
          null
         ]
        },
        {
         "legendgroup": "fleet_900",
         "marker": {
          "color": "black",
          "size": 10,
          "symbol": 1
         },
         "mode": "markers",
         "name": "Fleet 900",
         "type": "scatter",
         "x": [
          null
         ],
         "y": [
          null
         ]
        },
        {
         "legendgroup": "fleet_1200",
         "marker": {
          "color": "black",
          "size": 10,
          "symbol": 2
         },
         "mode": "markers",
         "name": "Fleet 1200",
         "type": "scatter",
         "x": [
          null
         ],
         "y": [
          null
         ]
        }
       ],
       "layout": {
        "height": 520,
        "legend": {
         "orientation": "h",
         "x": 0,
         "xanchor": "left",
         "y": 1.02,
         "yanchor": "bottom"
        },
        "margin": {
         "b": 80,
         "l": 60,
         "r": 66,
         "t": 0
        },
        "template": {
         "layout": {
          "colorway": [
           "#002D72",
           "#5A5A5A",
           "#D1D1D1",
           "#2C74B3",
           "#A1C9F4"
          ],
          "font": {
           "color": "#002D72",
           "family": "Arial, sans-serif",
           "size": 14
          },
          "paper_bgcolor": "white",
          "plot_bgcolor": "white",
          "title": {
           "font": {
            "color": "#002D72",
            "size": 20
           }
          },
          "xaxis": {
           "gridcolor": "#D1D1D1",
           "linecolor": "#002D72",
           "zerolinecolor": "#D1D1D1"
          },
          "yaxis": {
           "gridcolor": "#D1D1D1",
           "linecolor": "#002D72",
           "zerolinecolor": "#D1D1D1"
          }
         }
        },
        "width": 820,
        "xaxis": {
         "title": {
          "text": "Gini Coefficient"
         }
        },
        "yaxis": {
         "tickformat": ".0%",
         "title": {
          "text": "Satisfied Demand Ratio"
         }
        }
       }
      }
     },
     "metadata": {},
     "output_type": "display_data"
    }
   ],
   "source": [
    "plot_tradeoff_scatter(full_results, x_metric=\"mean_gini_index\").show()"
   ]
  }
 ],
 "metadata": {
  "kernelspec": {
   "display_name": "py_310_torch_env",
   "language": "python",
   "name": "python3"
  },
  "language_info": {
   "codemirror_mode": {
    "name": "ipython",
    "version": 3
   },
   "file_extension": ".py",
   "mimetype": "text/x-python",
   "name": "python",
   "nbconvert_exporter": "python",
   "pygments_lexer": "ipython3",
   "version": "3.10.16"
  }
 },
 "nbformat": 4,
 "nbformat_minor": 5
}
