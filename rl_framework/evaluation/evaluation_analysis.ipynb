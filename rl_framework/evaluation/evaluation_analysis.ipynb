{
 "cells": [
  {
   "cell_type": "markdown",
   "id": "3711f05f",
   "metadata": {},
   "source": [
    "# Evaluation Analysis"
   ]
  },
  {
   "cell_type": "code",
   "execution_count": 2,
   "id": "4a2b67c4",
   "metadata": {},
   "outputs": [],
   "source": [
    "# imports\n",
    "import pandas as pd\n",
    "import plotly.io as pio\n",
    "import plotly.graph_objects as go"
   ]
  },
  {
   "cell_type": "code",
   "execution_count": 37,
   "id": "5062de38",
   "metadata": {},
   "outputs": [],
   "source": [
    "# constants\n",
    "INPUT_FILE = '../../results/hrl_evaluation_raw_results_20250811_124438.pickle'\n",
    "BASLINE_FILE = '../../results/greedy_baseline_raw_results_20250811_121744.pickle'\n",
    "\n",
    "metrics = [\n",
    "    'mean_satisfied_ratio',\n",
    "    'mean_gini_index',\n",
    "    'mean_rebalanced_vehicles_manually',\n",
    "    'mean_rebalanced_vehicles_incentives'\n",
    "]\n",
    "pretty_labels = {\n",
    "        \"mean_satisfied_ratio\": \"Satisfied Demand Ratio\",\n",
    "        \"mean_gini_index\": \"Gini Coefficient\",\n",
    "        \"mean_rebalanced_vehicles_manually\": \"Rebalanced Vehicles (Manual)\",\n",
    "        \"mean_rebalanced_vehicles_incentives\": \"Rebalanced Vehicles (Incentives)\",\n",
    "    }"
   ]
  },
  {
   "cell_type": "code",
   "execution_count": 4,
   "id": "4df4a495",
   "metadata": {},
   "outputs": [],
   "source": [
    "HE_RED = \"#E2001A\"\n",
    "HE_BLUE = \"#002D72\"\n",
    "HE_GRAY = \"#5A5A5A\"\n",
    "HE_LIGHT_GRAY = \"#D1D1D1\"\n",
    "\n",
    "pio.templates[\"esslingen_cd\"] = go.layout.Template(\n",
    "    layout=go.Layout(\n",
    "        colorway=[HE_BLUE, HE_RED, HE_GRAY, \"#2C74B3\", \"#A1C9F4\"],\n",
    "        font=dict(\n",
    "            family=\"Arial, sans-serif\",\n",
    "            size=14,\n",
    "            color=HE_BLUE  # Use the dark blue for text\n",
    "        ),\n",
    "        title=dict(\n",
    "            font=dict(size=20, color=HE_BLUE)\n",
    "        ),\n",
    "        paper_bgcolor=\"white\",\n",
    "        plot_bgcolor=\"white\",\n",
    "        xaxis=dict(\n",
    "            gridcolor=HE_LIGHT_GRAY,\n",
    "            linecolor=HE_BLUE,\n",
    "            zerolinecolor=HE_LIGHT_GRAY\n",
    "        ),\n",
    "        yaxis=dict(\n",
    "            gridcolor=HE_LIGHT_GRAY,\n",
    "            linecolor=HE_BLUE,\n",
    "            zerolinecolor=HE_LIGHT_GRAY\n",
    "        ),\n",
    "    )\n",
    ")\n",
    "\n",
    "pio.templates.default = \"esslingen_cd\""
   ]
  },
  {
   "cell_type": "code",
   "execution_count": 5,
   "id": "bbbb5f45",
   "metadata": {},
   "outputs": [],
   "source": [
    "evaluation_data = pd.read_pickle(INPUT_FILE)\n",
    "baseline_data = pd.read_pickle(BASLINE_FILE)"
   ]
  },
  {
   "cell_type": "code",
   "execution_count": 10,
   "id": "3f96c82e",
   "metadata": {},
   "outputs": [
    {
     "data": {
      "text/html": [
       "<div>\n",
       "<style scoped>\n",
       "    .dataframe tbody tr th:only-of-type {\n",
       "        vertical-align: middle;\n",
       "    }\n",
       "\n",
       "    .dataframe tbody tr th {\n",
       "        vertical-align: top;\n",
       "    }\n",
       "\n",
       "    .dataframe thead th {\n",
       "        text-align: right;\n",
       "    }\n",
       "</style>\n",
       "<table border=\"1\" class=\"dataframe\">\n",
       "  <thead>\n",
       "    <tr style=\"text-align: right;\">\n",
       "      <th></th>\n",
       "      <th>trial</th>\n",
       "      <th>seed</th>\n",
       "      <th>configuration</th>\n",
       "      <th>manual_rebalancing</th>\n",
       "      <th>incentive_rebalancing</th>\n",
       "      <th>fleet_size</th>\n",
       "      <th>mean_satisfied_ratio</th>\n",
       "      <th>mean_rebalanced_vehicles_manually</th>\n",
       "      <th>mean_rebalanced_vehicles_incentives</th>\n",
       "      <th>max_satisfied_ratio</th>\n",
       "      <th>min_satisfied_ratio</th>\n",
       "      <th>mean_gini_index</th>\n",
       "      <th>model</th>\n",
       "    </tr>\n",
       "  </thead>\n",
       "  <tbody>\n",
       "    <tr>\n",
       "      <th>0</th>\n",
       "      <td>0</td>\n",
       "      <td>15795</td>\n",
       "      <td>HRL_Both_Enabled_900</td>\n",
       "      <td>True</td>\n",
       "      <td>True</td>\n",
       "      <td>900</td>\n",
       "      <td>0.603761</td>\n",
       "      <td>3.5325</td>\n",
       "      <td>55.0850</td>\n",
       "      <td>1.0</td>\n",
       "      <td>0.232177</td>\n",
       "      <td>0.596866</td>\n",
       "      <td>HRL_Both_Enabled</td>\n",
       "    </tr>\n",
       "    <tr>\n",
       "      <th>1</th>\n",
       "      <td>0</td>\n",
       "      <td>15795</td>\n",
       "      <td>HRL_Manual_Only_900</td>\n",
       "      <td>True</td>\n",
       "      <td>False</td>\n",
       "      <td>900</td>\n",
       "      <td>0.840745</td>\n",
       "      <td>7.5425</td>\n",
       "      <td>0.0000</td>\n",
       "      <td>1.0</td>\n",
       "      <td>0.309148</td>\n",
       "      <td>0.290671</td>\n",
       "      <td>HRL_Manual_Only</td>\n",
       "    </tr>\n",
       "    <tr>\n",
       "      <th>2</th>\n",
       "      <td>0</td>\n",
       "      <td>15795</td>\n",
       "      <td>HRL_Incentive_Only_900</td>\n",
       "      <td>False</td>\n",
       "      <td>True</td>\n",
       "      <td>900</td>\n",
       "      <td>0.546530</td>\n",
       "      <td>0.0000</td>\n",
       "      <td>55.5250</td>\n",
       "      <td>1.0</td>\n",
       "      <td>0.179811</td>\n",
       "      <td>0.679893</td>\n",
       "      <td>HRL_Incentive_Only</td>\n",
       "    </tr>\n",
       "    <tr>\n",
       "      <th>3</th>\n",
       "      <td>0</td>\n",
       "      <td>15795</td>\n",
       "      <td>HRL_Both_Enabled_600</td>\n",
       "      <td>True</td>\n",
       "      <td>True</td>\n",
       "      <td>600</td>\n",
       "      <td>0.487674</td>\n",
       "      <td>5.6150</td>\n",
       "      <td>54.0525</td>\n",
       "      <td>1.0</td>\n",
       "      <td>0.164669</td>\n",
       "      <td>0.660453</td>\n",
       "      <td>HRL_Both_Enabled</td>\n",
       "    </tr>\n",
       "    <tr>\n",
       "      <th>4</th>\n",
       "      <td>0</td>\n",
       "      <td>15795</td>\n",
       "      <td>HRL_Manual_Only_600</td>\n",
       "      <td>True</td>\n",
       "      <td>False</td>\n",
       "      <td>600</td>\n",
       "      <td>0.723612</td>\n",
       "      <td>5.9125</td>\n",
       "      <td>0.0000</td>\n",
       "      <td>1.0</td>\n",
       "      <td>0.215142</td>\n",
       "      <td>0.355335</td>\n",
       "      <td>HRL_Manual_Only</td>\n",
       "    </tr>\n",
       "  </tbody>\n",
       "</table>\n",
       "</div>"
      ],
      "text/plain": [
       "   trial   seed           configuration  manual_rebalancing  \\\n",
       "0      0  15795    HRL_Both_Enabled_900                True   \n",
       "1      0  15795     HRL_Manual_Only_900                True   \n",
       "2      0  15795  HRL_Incentive_Only_900               False   \n",
       "3      0  15795    HRL_Both_Enabled_600                True   \n",
       "4      0  15795     HRL_Manual_Only_600                True   \n",
       "\n",
       "   incentive_rebalancing  fleet_size  mean_satisfied_ratio  \\\n",
       "0                   True         900              0.603761   \n",
       "1                  False         900              0.840745   \n",
       "2                   True         900              0.546530   \n",
       "3                   True         600              0.487674   \n",
       "4                  False         600              0.723612   \n",
       "\n",
       "   mean_rebalanced_vehicles_manually  mean_rebalanced_vehicles_incentives  \\\n",
       "0                             3.5325                              55.0850   \n",
       "1                             7.5425                               0.0000   \n",
       "2                             0.0000                              55.5250   \n",
       "3                             5.6150                              54.0525   \n",
       "4                             5.9125                               0.0000   \n",
       "\n",
       "   max_satisfied_ratio  min_satisfied_ratio  mean_gini_index  \\\n",
       "0                  1.0             0.232177         0.596866   \n",
       "1                  1.0             0.309148         0.290671   \n",
       "2                  1.0             0.179811         0.679893   \n",
       "3                  1.0             0.164669         0.660453   \n",
       "4                  1.0             0.215142         0.355335   \n",
       "\n",
       "                model  \n",
       "0    HRL_Both_Enabled  \n",
       "1     HRL_Manual_Only  \n",
       "2  HRL_Incentive_Only  \n",
       "3    HRL_Both_Enabled  \n",
       "4     HRL_Manual_Only  "
      ]
     },
     "execution_count": 10,
     "metadata": {},
     "output_type": "execute_result"
    }
   ],
   "source": [
    "evaluation_data['model'] = evaluation_data['configuration'].str.replace(r'_(900|600|1200)$', '', regex=True)\n",
    "evaluation_data.head()"
   ]
  },
  {
   "cell_type": "code",
   "execution_count": 11,
   "id": "57bbd778",
   "metadata": {},
   "outputs": [
    {
     "data": {
      "text/html": [
       "<div>\n",
       "<style scoped>\n",
       "    .dataframe tbody tr th:only-of-type {\n",
       "        vertical-align: middle;\n",
       "    }\n",
       "\n",
       "    .dataframe tbody tr th {\n",
       "        vertical-align: top;\n",
       "    }\n",
       "\n",
       "    .dataframe thead th {\n",
       "        text-align: right;\n",
       "    }\n",
       "</style>\n",
       "<table border=\"1\" class=\"dataframe\">\n",
       "  <thead>\n",
       "    <tr style=\"text-align: right;\">\n",
       "      <th></th>\n",
       "      <th>trial</th>\n",
       "      <th>seed</th>\n",
       "      <th>configuration</th>\n",
       "      <th>manual_rebalancing</th>\n",
       "      <th>incentive_rebalancing</th>\n",
       "      <th>fleet_size</th>\n",
       "      <th>mean_satisfied_ratio</th>\n",
       "      <th>mean_rebalanced_vehicles_manually</th>\n",
       "      <th>mean_rebalanced_vehicles_incentives</th>\n",
       "      <th>max_satisfied_ratio</th>\n",
       "      <th>min_satisfied_ratio</th>\n",
       "      <th>mean_gini_index</th>\n",
       "      <th>model</th>\n",
       "    </tr>\n",
       "  </thead>\n",
       "  <tbody>\n",
       "    <tr>\n",
       "      <th>0</th>\n",
       "      <td>0</td>\n",
       "      <td>15795</td>\n",
       "      <td>Both_Enabled_900</td>\n",
       "      <td>True</td>\n",
       "      <td>True</td>\n",
       "      <td>900</td>\n",
       "      <td>0.785096</td>\n",
       "      <td>0.02</td>\n",
       "      <td>35.8650</td>\n",
       "      <td>1.0</td>\n",
       "      <td>0.271924</td>\n",
       "      <td>0.376491</td>\n",
       "      <td>Baseline_Both_Enabled</td>\n",
       "    </tr>\n",
       "    <tr>\n",
       "      <th>1</th>\n",
       "      <td>0</td>\n",
       "      <td>15795</td>\n",
       "      <td>Manual_Only_900</td>\n",
       "      <td>True</td>\n",
       "      <td>False</td>\n",
       "      <td>900</td>\n",
       "      <td>0.804218</td>\n",
       "      <td>0.02</td>\n",
       "      <td>0.0000</td>\n",
       "      <td>1.0</td>\n",
       "      <td>0.285174</td>\n",
       "      <td>0.406844</td>\n",
       "      <td>Baseline_Manual_Only</td>\n",
       "    </tr>\n",
       "    <tr>\n",
       "      <th>2</th>\n",
       "      <td>0</td>\n",
       "      <td>15795</td>\n",
       "      <td>Incentive_Only_900</td>\n",
       "      <td>False</td>\n",
       "      <td>True</td>\n",
       "      <td>900</td>\n",
       "      <td>0.779028</td>\n",
       "      <td>0.00</td>\n",
       "      <td>36.6850</td>\n",
       "      <td>1.0</td>\n",
       "      <td>0.277603</td>\n",
       "      <td>0.384144</td>\n",
       "      <td>Baseline_Incentive_Only</td>\n",
       "    </tr>\n",
       "    <tr>\n",
       "      <th>3</th>\n",
       "      <td>0</td>\n",
       "      <td>15795</td>\n",
       "      <td>No_Rebalancing_900</td>\n",
       "      <td>False</td>\n",
       "      <td>False</td>\n",
       "      <td>900</td>\n",
       "      <td>0.804529</td>\n",
       "      <td>0.00</td>\n",
       "      <td>0.0000</td>\n",
       "      <td>1.0</td>\n",
       "      <td>0.297792</td>\n",
       "      <td>0.392109</td>\n",
       "      <td>Baseline_No_Rebalancing</td>\n",
       "    </tr>\n",
       "    <tr>\n",
       "      <th>4</th>\n",
       "      <td>0</td>\n",
       "      <td>15795</td>\n",
       "      <td>Both_Enabled_600</td>\n",
       "      <td>True</td>\n",
       "      <td>True</td>\n",
       "      <td>600</td>\n",
       "      <td>0.682681</td>\n",
       "      <td>0.14</td>\n",
       "      <td>46.3425</td>\n",
       "      <td>1.0</td>\n",
       "      <td>0.200000</td>\n",
       "      <td>0.427208</td>\n",
       "      <td>Baseline_Both_Enabled</td>\n",
       "    </tr>\n",
       "  </tbody>\n",
       "</table>\n",
       "</div>"
      ],
      "text/plain": [
       "   trial   seed       configuration  manual_rebalancing  \\\n",
       "0      0  15795    Both_Enabled_900                True   \n",
       "1      0  15795     Manual_Only_900                True   \n",
       "2      0  15795  Incentive_Only_900               False   \n",
       "3      0  15795  No_Rebalancing_900               False   \n",
       "4      0  15795    Both_Enabled_600                True   \n",
       "\n",
       "   incentive_rebalancing  fleet_size  mean_satisfied_ratio  \\\n",
       "0                   True         900              0.785096   \n",
       "1                  False         900              0.804218   \n",
       "2                   True         900              0.779028   \n",
       "3                  False         900              0.804529   \n",
       "4                   True         600              0.682681   \n",
       "\n",
       "   mean_rebalanced_vehicles_manually  mean_rebalanced_vehicles_incentives  \\\n",
       "0                               0.02                              35.8650   \n",
       "1                               0.02                               0.0000   \n",
       "2                               0.00                              36.6850   \n",
       "3                               0.00                               0.0000   \n",
       "4                               0.14                              46.3425   \n",
       "\n",
       "   max_satisfied_ratio  min_satisfied_ratio  mean_gini_index  \\\n",
       "0                  1.0             0.271924         0.376491   \n",
       "1                  1.0             0.285174         0.406844   \n",
       "2                  1.0             0.277603         0.384144   \n",
       "3                  1.0             0.297792         0.392109   \n",
       "4                  1.0             0.200000         0.427208   \n",
       "\n",
       "                     model  \n",
       "0    Baseline_Both_Enabled  \n",
       "1     Baseline_Manual_Only  \n",
       "2  Baseline_Incentive_Only  \n",
       "3  Baseline_No_Rebalancing  \n",
       "4    Baseline_Both_Enabled  "
      ]
     },
     "execution_count": 11,
     "metadata": {},
     "output_type": "execute_result"
    }
   ],
   "source": [
    "baseline_data['model'] = baseline_data['configuration'].apply(lambda x: f\"Baseline_{x}\")\n",
    "baseline_data['model'] = baseline_data['model'].str.replace(r'_(900|600|1200)$', '', regex=True)\n",
    "baseline_data.head()    "
   ]
  },
  {
   "cell_type": "code",
   "execution_count": 16,
   "id": "a280f259",
   "metadata": {},
   "outputs": [
    {
     "data": {
      "text/html": [
       "<div>\n",
       "<style scoped>\n",
       "    .dataframe tbody tr th:only-of-type {\n",
       "        vertical-align: middle;\n",
       "    }\n",
       "\n",
       "    .dataframe tbody tr th {\n",
       "        vertical-align: top;\n",
       "    }\n",
       "\n",
       "    .dataframe thead th {\n",
       "        text-align: right;\n",
       "    }\n",
       "</style>\n",
       "<table border=\"1\" class=\"dataframe\">\n",
       "  <thead>\n",
       "    <tr style=\"text-align: right;\">\n",
       "      <th></th>\n",
       "      <th>trial</th>\n",
       "      <th>seed</th>\n",
       "      <th>configuration</th>\n",
       "      <th>manual_rebalancing</th>\n",
       "      <th>incentive_rebalancing</th>\n",
       "      <th>fleet_size</th>\n",
       "      <th>mean_satisfied_ratio</th>\n",
       "      <th>mean_rebalanced_vehicles_manually</th>\n",
       "      <th>mean_rebalanced_vehicles_incentives</th>\n",
       "      <th>max_satisfied_ratio</th>\n",
       "      <th>min_satisfied_ratio</th>\n",
       "      <th>mean_gini_index</th>\n",
       "      <th>model</th>\n",
       "    </tr>\n",
       "  </thead>\n",
       "  <tbody>\n",
       "    <tr>\n",
       "      <th>0</th>\n",
       "      <td>0</td>\n",
       "      <td>15795</td>\n",
       "      <td>HRL_Both_Enabled_900</td>\n",
       "      <td>True</td>\n",
       "      <td>True</td>\n",
       "      <td>900</td>\n",
       "      <td>0.603761</td>\n",
       "      <td>3.5325</td>\n",
       "      <td>55.0850</td>\n",
       "      <td>1.0</td>\n",
       "      <td>0.232177</td>\n",
       "      <td>0.596866</td>\n",
       "      <td>HRL_Both_Enabled</td>\n",
       "    </tr>\n",
       "    <tr>\n",
       "      <th>1</th>\n",
       "      <td>0</td>\n",
       "      <td>15795</td>\n",
       "      <td>HRL_Manual_Only_900</td>\n",
       "      <td>True</td>\n",
       "      <td>False</td>\n",
       "      <td>900</td>\n",
       "      <td>0.840745</td>\n",
       "      <td>7.5425</td>\n",
       "      <td>0.0000</td>\n",
       "      <td>1.0</td>\n",
       "      <td>0.309148</td>\n",
       "      <td>0.290671</td>\n",
       "      <td>HRL_Manual_Only</td>\n",
       "    </tr>\n",
       "    <tr>\n",
       "      <th>2</th>\n",
       "      <td>0</td>\n",
       "      <td>15795</td>\n",
       "      <td>HRL_Incentive_Only_900</td>\n",
       "      <td>False</td>\n",
       "      <td>True</td>\n",
       "      <td>900</td>\n",
       "      <td>0.546530</td>\n",
       "      <td>0.0000</td>\n",
       "      <td>55.5250</td>\n",
       "      <td>1.0</td>\n",
       "      <td>0.179811</td>\n",
       "      <td>0.679893</td>\n",
       "      <td>HRL_Incentive_Only</td>\n",
       "    </tr>\n",
       "    <tr>\n",
       "      <th>3</th>\n",
       "      <td>0</td>\n",
       "      <td>15795</td>\n",
       "      <td>HRL_Both_Enabled_600</td>\n",
       "      <td>True</td>\n",
       "      <td>True</td>\n",
       "      <td>600</td>\n",
       "      <td>0.487674</td>\n",
       "      <td>5.6150</td>\n",
       "      <td>54.0525</td>\n",
       "      <td>1.0</td>\n",
       "      <td>0.164669</td>\n",
       "      <td>0.660453</td>\n",
       "      <td>HRL_Both_Enabled</td>\n",
       "    </tr>\n",
       "    <tr>\n",
       "      <th>4</th>\n",
       "      <td>0</td>\n",
       "      <td>15795</td>\n",
       "      <td>HRL_Manual_Only_600</td>\n",
       "      <td>True</td>\n",
       "      <td>False</td>\n",
       "      <td>600</td>\n",
       "      <td>0.723612</td>\n",
       "      <td>5.9125</td>\n",
       "      <td>0.0000</td>\n",
       "      <td>1.0</td>\n",
       "      <td>0.215142</td>\n",
       "      <td>0.355335</td>\n",
       "      <td>HRL_Manual_Only</td>\n",
       "    </tr>\n",
       "  </tbody>\n",
       "</table>\n",
       "</div>"
      ],
      "text/plain": [
       "   trial   seed           configuration  manual_rebalancing  \\\n",
       "0      0  15795    HRL_Both_Enabled_900                True   \n",
       "1      0  15795     HRL_Manual_Only_900                True   \n",
       "2      0  15795  HRL_Incentive_Only_900               False   \n",
       "3      0  15795    HRL_Both_Enabled_600                True   \n",
       "4      0  15795     HRL_Manual_Only_600                True   \n",
       "\n",
       "   incentive_rebalancing  fleet_size  mean_satisfied_ratio  \\\n",
       "0                   True         900              0.603761   \n",
       "1                  False         900              0.840745   \n",
       "2                   True         900              0.546530   \n",
       "3                   True         600              0.487674   \n",
       "4                  False         600              0.723612   \n",
       "\n",
       "   mean_rebalanced_vehicles_manually  mean_rebalanced_vehicles_incentives  \\\n",
       "0                             3.5325                              55.0850   \n",
       "1                             7.5425                               0.0000   \n",
       "2                             0.0000                              55.5250   \n",
       "3                             5.6150                              54.0525   \n",
       "4                             5.9125                               0.0000   \n",
       "\n",
       "   max_satisfied_ratio  min_satisfied_ratio  mean_gini_index  \\\n",
       "0                  1.0             0.232177         0.596866   \n",
       "1                  1.0             0.309148         0.290671   \n",
       "2                  1.0             0.179811         0.679893   \n",
       "3                  1.0             0.164669         0.660453   \n",
       "4                  1.0             0.215142         0.355335   \n",
       "\n",
       "                model  \n",
       "0    HRL_Both_Enabled  \n",
       "1     HRL_Manual_Only  \n",
       "2  HRL_Incentive_Only  \n",
       "3    HRL_Both_Enabled  \n",
       "4     HRL_Manual_Only  "
      ]
     },
     "execution_count": 16,
     "metadata": {},
     "output_type": "execute_result"
    }
   ],
   "source": [
    "full_results = pd.concat([evaluation_data, baseline_data], axis=0, ignore_index=True)\n",
    "full_results.head()"
   ]
  },
  {
   "cell_type": "markdown",
   "id": "ae8dd568",
   "metadata": {},
   "source": [
    "## Bar Charts with error bars"
   ]
  },
  {
   "cell_type": "code",
   "execution_count": null,
   "id": "a78e2102",
   "metadata": {},
   "outputs": [
    {
     "data": {
      "text/html": [
       "<div>\n",
       "<style scoped>\n",
       "    .dataframe tbody tr th:only-of-type {\n",
       "        vertical-align: middle;\n",
       "    }\n",
       "\n",
       "    .dataframe tbody tr th {\n",
       "        vertical-align: top;\n",
       "    }\n",
       "\n",
       "    .dataframe thead tr th {\n",
       "        text-align: left;\n",
       "    }\n",
       "</style>\n",
       "<table border=\"1\" class=\"dataframe\">\n",
       "  <thead>\n",
       "    <tr>\n",
       "      <th></th>\n",
       "      <th>index</th>\n",
       "      <th>fleet_size</th>\n",
       "      <th>model</th>\n",
       "      <th colspan=\"2\" halign=\"left\">mean_satisfied_ratio</th>\n",
       "      <th colspan=\"2\" halign=\"left\">mean_gini_index</th>\n",
       "      <th colspan=\"2\" halign=\"left\">mean_rebalanced_vehicles_manually</th>\n",
       "      <th colspan=\"2\" halign=\"left\">mean_rebalanced_vehicles_incentives</th>\n",
       "    </tr>\n",
       "    <tr>\n",
       "      <th></th>\n",
       "      <th></th>\n",
       "      <th></th>\n",
       "      <th></th>\n",
       "      <th>mean</th>\n",
       "      <th>std</th>\n",
       "      <th>mean</th>\n",
       "      <th>std</th>\n",
       "      <th>mean</th>\n",
       "      <th>std</th>\n",
       "      <th>mean</th>\n",
       "      <th>std</th>\n",
       "    </tr>\n",
       "  </thead>\n",
       "  <tbody>\n",
       "    <tr>\n",
       "      <th>0</th>\n",
       "      <td>0</td>\n",
       "      <td>600</td>\n",
       "      <td>Baseline_Both_Enabled</td>\n",
       "      <td>0.684941</td>\n",
       "      <td>0.007384</td>\n",
       "      <td>0.434619</td>\n",
       "      <td>0.007346</td>\n",
       "      <td>0.245750</td>\n",
       "      <td>0.159634</td>\n",
       "      <td>46.281625</td>\n",
       "      <td>0.701642</td>\n",
       "    </tr>\n",
       "    <tr>\n",
       "      <th>1</th>\n",
       "      <td>3</td>\n",
       "      <td>600</td>\n",
       "      <td>Baseline_No_Rebalancing</td>\n",
       "      <td>0.695580</td>\n",
       "      <td>0.008171</td>\n",
       "      <td>0.470092</td>\n",
       "      <td>0.007953</td>\n",
       "      <td>0.000000</td>\n",
       "      <td>0.000000</td>\n",
       "      <td>0.000000</td>\n",
       "      <td>0.000000</td>\n",
       "    </tr>\n",
       "    <tr>\n",
       "      <th>2</th>\n",
       "      <td>4</td>\n",
       "      <td>600</td>\n",
       "      <td>HRL_Both_Enabled</td>\n",
       "      <td>0.470152</td>\n",
       "      <td>0.024945</td>\n",
       "      <td>0.669418</td>\n",
       "      <td>0.028578</td>\n",
       "      <td>5.204375</td>\n",
       "      <td>0.370039</td>\n",
       "      <td>53.886500</td>\n",
       "      <td>0.298828</td>\n",
       "    </tr>\n",
       "    <tr>\n",
       "      <th>3</th>\n",
       "      <td>5</td>\n",
       "      <td>600</td>\n",
       "      <td>HRL_Incentive_Only</td>\n",
       "      <td>0.495697</td>\n",
       "      <td>0.007579</td>\n",
       "      <td>0.694556</td>\n",
       "      <td>0.010298</td>\n",
       "      <td>0.000000</td>\n",
       "      <td>0.000000</td>\n",
       "      <td>54.564625</td>\n",
       "      <td>0.403505</td>\n",
       "    </tr>\n",
       "    <tr>\n",
       "      <th>4</th>\n",
       "      <td>6</td>\n",
       "      <td>600</td>\n",
       "      <td>HRL_Manual_Only</td>\n",
       "      <td>0.717566</td>\n",
       "      <td>0.037089</td>\n",
       "      <td>0.364393</td>\n",
       "      <td>0.025103</td>\n",
       "      <td>6.657500</td>\n",
       "      <td>1.200745</td>\n",
       "      <td>0.000000</td>\n",
       "      <td>0.000000</td>\n",
       "    </tr>\n",
       "    <tr>\n",
       "      <th>5</th>\n",
       "      <td>7</td>\n",
       "      <td>900</td>\n",
       "      <td>Baseline_Both_Enabled</td>\n",
       "      <td>0.787557</td>\n",
       "      <td>0.007757</td>\n",
       "      <td>0.380673</td>\n",
       "      <td>0.005681</td>\n",
       "      <td>0.020000</td>\n",
       "      <td>0.000000</td>\n",
       "      <td>35.756625</td>\n",
       "      <td>0.899420</td>\n",
       "    </tr>\n",
       "    <tr>\n",
       "      <th>6</th>\n",
       "      <td>10</td>\n",
       "      <td>900</td>\n",
       "      <td>Baseline_No_Rebalancing</td>\n",
       "      <td>0.797221</td>\n",
       "      <td>0.008036</td>\n",
       "      <td>0.405910</td>\n",
       "      <td>0.007701</td>\n",
       "      <td>0.000000</td>\n",
       "      <td>0.000000</td>\n",
       "      <td>0.000000</td>\n",
       "      <td>0.000000</td>\n",
       "    </tr>\n",
       "    <tr>\n",
       "      <th>7</th>\n",
       "      <td>11</td>\n",
       "      <td>900</td>\n",
       "      <td>HRL_Both_Enabled</td>\n",
       "      <td>0.598466</td>\n",
       "      <td>0.019052</td>\n",
       "      <td>0.605241</td>\n",
       "      <td>0.021342</td>\n",
       "      <td>3.919000</td>\n",
       "      <td>0.674950</td>\n",
       "      <td>55.449375</td>\n",
       "      <td>0.424766</td>\n",
       "    </tr>\n",
       "    <tr>\n",
       "      <th>8</th>\n",
       "      <td>12</td>\n",
       "      <td>900</td>\n",
       "      <td>HRL_Incentive_Only</td>\n",
       "      <td>0.540115</td>\n",
       "      <td>0.007976</td>\n",
       "      <td>0.683456</td>\n",
       "      <td>0.008119</td>\n",
       "      <td>0.000000</td>\n",
       "      <td>0.000000</td>\n",
       "      <td>55.796375</td>\n",
       "      <td>0.350319</td>\n",
       "    </tr>\n",
       "    <tr>\n",
       "      <th>9</th>\n",
       "      <td>13</td>\n",
       "      <td>900</td>\n",
       "      <td>HRL_Manual_Only</td>\n",
       "      <td>0.838526</td>\n",
       "      <td>0.002923</td>\n",
       "      <td>0.297057</td>\n",
       "      <td>0.004442</td>\n",
       "      <td>7.485250</td>\n",
       "      <td>0.202146</td>\n",
       "      <td>0.000000</td>\n",
       "      <td>0.000000</td>\n",
       "    </tr>\n",
       "    <tr>\n",
       "      <th>10</th>\n",
       "      <td>14</td>\n",
       "      <td>1200</td>\n",
       "      <td>Baseline_Both_Enabled</td>\n",
       "      <td>0.854835</td>\n",
       "      <td>0.007043</td>\n",
       "      <td>0.347836</td>\n",
       "      <td>0.005212</td>\n",
       "      <td>0.000000</td>\n",
       "      <td>0.000000</td>\n",
       "      <td>27.162250</td>\n",
       "      <td>1.147479</td>\n",
       "    </tr>\n",
       "    <tr>\n",
       "      <th>11</th>\n",
       "      <td>17</td>\n",
       "      <td>1200</td>\n",
       "      <td>Baseline_No_Rebalancing</td>\n",
       "      <td>0.861113</td>\n",
       "      <td>0.007194</td>\n",
       "      <td>0.363154</td>\n",
       "      <td>0.008356</td>\n",
       "      <td>0.000000</td>\n",
       "      <td>0.000000</td>\n",
       "      <td>0.000000</td>\n",
       "      <td>0.000000</td>\n",
       "    </tr>\n",
       "    <tr>\n",
       "      <th>12</th>\n",
       "      <td>18</td>\n",
       "      <td>1200</td>\n",
       "      <td>HRL_Both_Enabled</td>\n",
       "      <td>0.650056</td>\n",
       "      <td>0.015851</td>\n",
       "      <td>0.580604</td>\n",
       "      <td>0.012358</td>\n",
       "      <td>4.824625</td>\n",
       "      <td>0.666988</td>\n",
       "      <td>55.743625</td>\n",
       "      <td>0.386661</td>\n",
       "    </tr>\n",
       "    <tr>\n",
       "      <th>13</th>\n",
       "      <td>19</td>\n",
       "      <td>1200</td>\n",
       "      <td>HRL_Incentive_Only</td>\n",
       "      <td>0.569621</td>\n",
       "      <td>0.007625</td>\n",
       "      <td>0.664687</td>\n",
       "      <td>0.011995</td>\n",
       "      <td>0.000000</td>\n",
       "      <td>0.000000</td>\n",
       "      <td>56.208125</td>\n",
       "      <td>0.412119</td>\n",
       "    </tr>\n",
       "    <tr>\n",
       "      <th>14</th>\n",
       "      <td>20</td>\n",
       "      <td>1200</td>\n",
       "      <td>HRL_Manual_Only</td>\n",
       "      <td>0.892012</td>\n",
       "      <td>0.003435</td>\n",
       "      <td>0.280380</td>\n",
       "      <td>0.007059</td>\n",
       "      <td>7.152750</td>\n",
       "      <td>0.206761</td>\n",
       "      <td>0.000000</td>\n",
       "      <td>0.000000</td>\n",
       "    </tr>\n",
       "  </tbody>\n",
       "</table>\n",
       "</div>"
      ],
      "text/plain": [
       "   index fleet_size                    model mean_satisfied_ratio            \\\n",
       "                                                             mean       std   \n",
       "0      0        600    Baseline_Both_Enabled             0.684941  0.007384   \n",
       "1      3        600  Baseline_No_Rebalancing             0.695580  0.008171   \n",
       "2      4        600         HRL_Both_Enabled             0.470152  0.024945   \n",
       "3      5        600       HRL_Incentive_Only             0.495697  0.007579   \n",
       "4      6        600          HRL_Manual_Only             0.717566  0.037089   \n",
       "5      7        900    Baseline_Both_Enabled             0.787557  0.007757   \n",
       "6     10        900  Baseline_No_Rebalancing             0.797221  0.008036   \n",
       "7     11        900         HRL_Both_Enabled             0.598466  0.019052   \n",
       "8     12        900       HRL_Incentive_Only             0.540115  0.007976   \n",
       "9     13        900          HRL_Manual_Only             0.838526  0.002923   \n",
       "10    14       1200    Baseline_Both_Enabled             0.854835  0.007043   \n",
       "11    17       1200  Baseline_No_Rebalancing             0.861113  0.007194   \n",
       "12    18       1200         HRL_Both_Enabled             0.650056  0.015851   \n",
       "13    19       1200       HRL_Incentive_Only             0.569621  0.007625   \n",
       "14    20       1200          HRL_Manual_Only             0.892012  0.003435   \n",
       "\n",
       "   mean_gini_index           mean_rebalanced_vehicles_manually            \\\n",
       "              mean       std                              mean       std   \n",
       "0         0.434619  0.007346                          0.245750  0.159634   \n",
       "1         0.470092  0.007953                          0.000000  0.000000   \n",
       "2         0.669418  0.028578                          5.204375  0.370039   \n",
       "3         0.694556  0.010298                          0.000000  0.000000   \n",
       "4         0.364393  0.025103                          6.657500  1.200745   \n",
       "5         0.380673  0.005681                          0.020000  0.000000   \n",
       "6         0.405910  0.007701                          0.000000  0.000000   \n",
       "7         0.605241  0.021342                          3.919000  0.674950   \n",
       "8         0.683456  0.008119                          0.000000  0.000000   \n",
       "9         0.297057  0.004442                          7.485250  0.202146   \n",
       "10        0.347836  0.005212                          0.000000  0.000000   \n",
       "11        0.363154  0.008356                          0.000000  0.000000   \n",
       "12        0.580604  0.012358                          4.824625  0.666988   \n",
       "13        0.664687  0.011995                          0.000000  0.000000   \n",
       "14        0.280380  0.007059                          7.152750  0.206761   \n",
       "\n",
       "   mean_rebalanced_vehicles_incentives            \n",
       "                                  mean       std  \n",
       "0                            46.281625  0.701642  \n",
       "1                             0.000000  0.000000  \n",
       "2                            53.886500  0.298828  \n",
       "3                            54.564625  0.403505  \n",
       "4                             0.000000  0.000000  \n",
       "5                            35.756625  0.899420  \n",
       "6                             0.000000  0.000000  \n",
       "7                            55.449375  0.424766  \n",
       "8                            55.796375  0.350319  \n",
       "9                             0.000000  0.000000  \n",
       "10                           27.162250  1.147479  \n",
       "11                            0.000000  0.000000  \n",
       "12                           55.743625  0.386661  \n",
       "13                           56.208125  0.412119  \n",
       "14                            0.000000  0.000000  "
      ]
     },
     "execution_count": 24,
     "metadata": {},
     "output_type": "execute_result"
    }
   ],
   "source": [
    "agg = (full_results.copy().groupby(['fleet_size', 'model'])[metrics]\n",
    "         .agg(['mean', 'std'])\n",
    "         .reset_index())\n",
    "agg = agg[agg['model'] != 'Baseline_Incentive_Only']\n",
    "agg = agg[agg['model'] != 'Baseline_Manual_Only']\n",
    "agg.reset_index(inplace=True)\n",
    "agg.head(15)"
   ]
  },
  {
   "cell_type": "code",
   "execution_count": 34,
   "id": "11f706cc",
   "metadata": {},
   "outputs": [],
   "source": [
    "def plot_fleet_barchart(data: pd.DataFrame, metric: str):\n",
    "    agg_data = (\n",
    "        data.groupby(\"model\")[metric]\n",
    "        .agg(mean=\"mean\", std=\"std\")\n",
    "        .reset_index()\n",
    "    )\n",
    "    x = agg_data[\"model\"].astype(str)\n",
    "    y = agg_data[\"mean\"]\n",
    "    err = agg_data[\"std\"].fillna(0.0)\n",
    "\n",
    "    y_title = pretty_labels.get(metric, metric)\n",
    "\n",
    "    y_is_ratio = metric in {\"mean_satisfied_ratio\", \"mean_gini_index\"}\n",
    "\n",
    "    fig = go.Figure(\n",
    "        data=[\n",
    "            go.Bar(\n",
    "                x=x,\n",
    "                y=y,\n",
    "                error_y=dict(type=\"data\", array=err, visible=True)\n",
    "            )\n",
    "        ]\n",
    "    )\n",
    "\n",
    "    fleet_str = None\n",
    "    if \"fleet_size\" in agg_data.columns:\n",
    "        uniq = agg_data[\"fleet_size\"].unique()\n",
    "        if len(uniq) == 1:\n",
    "            fleet_str = str(uniq[0])\n",
    "\n",
    "    title = f\"{y_title} — Fleet size: {fleet_str}\" if fleet_str else y_title\n",
    "\n",
    "    fig.update_layout(\n",
    "        title=title,\n",
    "        xaxis_title=\"Model\",\n",
    "        yaxis_title=y_title,\n",
    "        bargap=0.25,\n",
    "        template=\"plotly\",\n",
    "        height=420,\n",
    "        width=700,\n",
    "    )\n",
    "\n",
    "    if y_is_ratio:\n",
    "        fig.update_yaxes(tickformat=\".0%\")  # display as percentage\n",
    "\n",
    "    return fig\n"
   ]
  },
  {
   "cell_type": "code",
   "execution_count": 36,
   "id": "f42f951a",
   "metadata": {},
   "outputs": [
    {
     "data": {
      "application/vnd.plotly.v1+json": {
       "config": {
        "plotlyServerURL": "https://plot.ly"
       },
       "data": [
        {
         "error_y": {
          "array": {
           "bdata": "pfG7M8/Ffz+3m3iMghB4P8gf/uvQ23E/1pV8nPd0gD/1lCGbQIKTP4zL0pCwVYA/mVUkVajyZz8=",
           "dtype": "f8"
          },
          "type": "data",
          "visible": true
         },
         "type": "bar",
         "x": [
          "Baseline_Both_Enabled",
          "Baseline_Incentive_Only",
          "Baseline_Manual_Only",
          "Baseline_No_Rebalancing",
          "HRL_Both_Enabled",
          "HRL_Incentive_Only",
          "HRL_Manual_Only"
         ],
         "y": {
          "bdata": "0C1yj6oz6T8FuueLyj7pP1th/m/Np+k/r8VHi9WC6T+yAAZzoSbjPxXrxr+eSOE/gCGjEDTV6j8=",
          "dtype": "f8"
         }
        }
       ],
       "layout": {
        "bargap": 0.25,
        "height": 420,
        "template": {
         "data": {
          "bar": [
           {
            "error_x": {
             "color": "#2a3f5f"
            },
            "error_y": {
             "color": "#2a3f5f"
            },
            "marker": {
             "line": {
              "color": "#E5ECF6",
              "width": 0.5
             },
             "pattern": {
              "fillmode": "overlay",
              "size": 10,
              "solidity": 0.2
             }
            },
            "type": "bar"
           }
          ],
          "barpolar": [
           {
            "marker": {
             "line": {
              "color": "#E5ECF6",
              "width": 0.5
             },
             "pattern": {
              "fillmode": "overlay",
              "size": 10,
              "solidity": 0.2
             }
            },
            "type": "barpolar"
           }
          ],
          "carpet": [
           {
            "aaxis": {
             "endlinecolor": "#2a3f5f",
             "gridcolor": "white",
             "linecolor": "white",
             "minorgridcolor": "white",
             "startlinecolor": "#2a3f5f"
            },
            "baxis": {
             "endlinecolor": "#2a3f5f",
             "gridcolor": "white",
             "linecolor": "white",
             "minorgridcolor": "white",
             "startlinecolor": "#2a3f5f"
            },
            "type": "carpet"
           }
          ],
          "choropleth": [
           {
            "colorbar": {
             "outlinewidth": 0,
             "ticks": ""
            },
            "type": "choropleth"
           }
          ],
          "contour": [
           {
            "colorbar": {
             "outlinewidth": 0,
             "ticks": ""
            },
            "colorscale": [
             [
              0,
              "#0d0887"
             ],
             [
              0.1111111111111111,
              "#46039f"
             ],
             [
              0.2222222222222222,
              "#7201a8"
             ],
             [
              0.3333333333333333,
              "#9c179e"
             ],
             [
              0.4444444444444444,
              "#bd3786"
             ],
             [
              0.5555555555555556,
              "#d8576b"
             ],
             [
              0.6666666666666666,
              "#ed7953"
             ],
             [
              0.7777777777777778,
              "#fb9f3a"
             ],
             [
              0.8888888888888888,
              "#fdca26"
             ],
             [
              1,
              "#f0f921"
             ]
            ],
            "type": "contour"
           }
          ],
          "contourcarpet": [
           {
            "colorbar": {
             "outlinewidth": 0,
             "ticks": ""
            },
            "type": "contourcarpet"
           }
          ],
          "heatmap": [
           {
            "colorbar": {
             "outlinewidth": 0,
             "ticks": ""
            },
            "colorscale": [
             [
              0,
              "#0d0887"
             ],
             [
              0.1111111111111111,
              "#46039f"
             ],
             [
              0.2222222222222222,
              "#7201a8"
             ],
             [
              0.3333333333333333,
              "#9c179e"
             ],
             [
              0.4444444444444444,
              "#bd3786"
             ],
             [
              0.5555555555555556,
              "#d8576b"
             ],
             [
              0.6666666666666666,
              "#ed7953"
             ],
             [
              0.7777777777777778,
              "#fb9f3a"
             ],
             [
              0.8888888888888888,
              "#fdca26"
             ],
             [
              1,
              "#f0f921"
             ]
            ],
            "type": "heatmap"
           }
          ],
          "histogram": [
           {
            "marker": {
             "pattern": {
              "fillmode": "overlay",
              "size": 10,
              "solidity": 0.2
             }
            },
            "type": "histogram"
           }
          ],
          "histogram2d": [
           {
            "colorbar": {
             "outlinewidth": 0,
             "ticks": ""
            },
            "colorscale": [
             [
              0,
              "#0d0887"
             ],
             [
              0.1111111111111111,
              "#46039f"
             ],
             [
              0.2222222222222222,
              "#7201a8"
             ],
             [
              0.3333333333333333,
              "#9c179e"
             ],
             [
              0.4444444444444444,
              "#bd3786"
             ],
             [
              0.5555555555555556,
              "#d8576b"
             ],
             [
              0.6666666666666666,
              "#ed7953"
             ],
             [
              0.7777777777777778,
              "#fb9f3a"
             ],
             [
              0.8888888888888888,
              "#fdca26"
             ],
             [
              1,
              "#f0f921"
             ]
            ],
            "type": "histogram2d"
           }
          ],
          "histogram2dcontour": [
           {
            "colorbar": {
             "outlinewidth": 0,
             "ticks": ""
            },
            "colorscale": [
             [
              0,
              "#0d0887"
             ],
             [
              0.1111111111111111,
              "#46039f"
             ],
             [
              0.2222222222222222,
              "#7201a8"
             ],
             [
              0.3333333333333333,
              "#9c179e"
             ],
             [
              0.4444444444444444,
              "#bd3786"
             ],
             [
              0.5555555555555556,
              "#d8576b"
             ],
             [
              0.6666666666666666,
              "#ed7953"
             ],
             [
              0.7777777777777778,
              "#fb9f3a"
             ],
             [
              0.8888888888888888,
              "#fdca26"
             ],
             [
              1,
              "#f0f921"
             ]
            ],
            "type": "histogram2dcontour"
           }
          ],
          "mesh3d": [
           {
            "colorbar": {
             "outlinewidth": 0,
             "ticks": ""
            },
            "type": "mesh3d"
           }
          ],
          "parcoords": [
           {
            "line": {
             "colorbar": {
              "outlinewidth": 0,
              "ticks": ""
             }
            },
            "type": "parcoords"
           }
          ],
          "pie": [
           {
            "automargin": true,
            "type": "pie"
           }
          ],
          "scatter": [
           {
            "fillpattern": {
             "fillmode": "overlay",
             "size": 10,
             "solidity": 0.2
            },
            "type": "scatter"
           }
          ],
          "scatter3d": [
           {
            "line": {
             "colorbar": {
              "outlinewidth": 0,
              "ticks": ""
             }
            },
            "marker": {
             "colorbar": {
              "outlinewidth": 0,
              "ticks": ""
             }
            },
            "type": "scatter3d"
           }
          ],
          "scattercarpet": [
           {
            "marker": {
             "colorbar": {
              "outlinewidth": 0,
              "ticks": ""
             }
            },
            "type": "scattercarpet"
           }
          ],
          "scattergeo": [
           {
            "marker": {
             "colorbar": {
              "outlinewidth": 0,
              "ticks": ""
             }
            },
            "type": "scattergeo"
           }
          ],
          "scattergl": [
           {
            "marker": {
             "colorbar": {
              "outlinewidth": 0,
              "ticks": ""
             }
            },
            "type": "scattergl"
           }
          ],
          "scattermap": [
           {
            "marker": {
             "colorbar": {
              "outlinewidth": 0,
              "ticks": ""
             }
            },
            "type": "scattermap"
           }
          ],
          "scattermapbox": [
           {
            "marker": {
             "colorbar": {
              "outlinewidth": 0,
              "ticks": ""
             }
            },
            "type": "scattermapbox"
           }
          ],
          "scatterpolar": [
           {
            "marker": {
             "colorbar": {
              "outlinewidth": 0,
              "ticks": ""
             }
            },
            "type": "scatterpolar"
           }
          ],
          "scatterpolargl": [
           {
            "marker": {
             "colorbar": {
              "outlinewidth": 0,
              "ticks": ""
             }
            },
            "type": "scatterpolargl"
           }
          ],
          "scatterternary": [
           {
            "marker": {
             "colorbar": {
              "outlinewidth": 0,
              "ticks": ""
             }
            },
            "type": "scatterternary"
           }
          ],
          "surface": [
           {
            "colorbar": {
             "outlinewidth": 0,
             "ticks": ""
            },
            "colorscale": [
             [
              0,
              "#0d0887"
             ],
             [
              0.1111111111111111,
              "#46039f"
             ],
             [
              0.2222222222222222,
              "#7201a8"
             ],
             [
              0.3333333333333333,
              "#9c179e"
             ],
             [
              0.4444444444444444,
              "#bd3786"
             ],
             [
              0.5555555555555556,
              "#d8576b"
             ],
             [
              0.6666666666666666,
              "#ed7953"
             ],
             [
              0.7777777777777778,
              "#fb9f3a"
             ],
             [
              0.8888888888888888,
              "#fdca26"
             ],
             [
              1,
              "#f0f921"
             ]
            ],
            "type": "surface"
           }
          ],
          "table": [
           {
            "cells": {
             "fill": {
              "color": "#EBF0F8"
             },
             "line": {
              "color": "white"
             }
            },
            "header": {
             "fill": {
              "color": "#C8D4E3"
             },
             "line": {
              "color": "white"
             }
            },
            "type": "table"
           }
          ]
         },
         "layout": {
          "annotationdefaults": {
           "arrowcolor": "#2a3f5f",
           "arrowhead": 0,
           "arrowwidth": 1
          },
          "autotypenumbers": "strict",
          "coloraxis": {
           "colorbar": {
            "outlinewidth": 0,
            "ticks": ""
           }
          },
          "colorscale": {
           "diverging": [
            [
             0,
             "#8e0152"
            ],
            [
             0.1,
             "#c51b7d"
            ],
            [
             0.2,
             "#de77ae"
            ],
            [
             0.3,
             "#f1b6da"
            ],
            [
             0.4,
             "#fde0ef"
            ],
            [
             0.5,
             "#f7f7f7"
            ],
            [
             0.6,
             "#e6f5d0"
            ],
            [
             0.7,
             "#b8e186"
            ],
            [
             0.8,
             "#7fbc41"
            ],
            [
             0.9,
             "#4d9221"
            ],
            [
             1,
             "#276419"
            ]
           ],
           "sequential": [
            [
             0,
             "#0d0887"
            ],
            [
             0.1111111111111111,
             "#46039f"
            ],
            [
             0.2222222222222222,
             "#7201a8"
            ],
            [
             0.3333333333333333,
             "#9c179e"
            ],
            [
             0.4444444444444444,
             "#bd3786"
            ],
            [
             0.5555555555555556,
             "#d8576b"
            ],
            [
             0.6666666666666666,
             "#ed7953"
            ],
            [
             0.7777777777777778,
             "#fb9f3a"
            ],
            [
             0.8888888888888888,
             "#fdca26"
            ],
            [
             1,
             "#f0f921"
            ]
           ],
           "sequentialminus": [
            [
             0,
             "#0d0887"
            ],
            [
             0.1111111111111111,
             "#46039f"
            ],
            [
             0.2222222222222222,
             "#7201a8"
            ],
            [
             0.3333333333333333,
             "#9c179e"
            ],
            [
             0.4444444444444444,
             "#bd3786"
            ],
            [
             0.5555555555555556,
             "#d8576b"
            ],
            [
             0.6666666666666666,
             "#ed7953"
            ],
            [
             0.7777777777777778,
             "#fb9f3a"
            ],
            [
             0.8888888888888888,
             "#fdca26"
            ],
            [
             1,
             "#f0f921"
            ]
           ]
          },
          "colorway": [
           "#636efa",
           "#EF553B",
           "#00cc96",
           "#ab63fa",
           "#FFA15A",
           "#19d3f3",
           "#FF6692",
           "#B6E880",
           "#FF97FF",
           "#FECB52"
          ],
          "font": {
           "color": "#2a3f5f"
          },
          "geo": {
           "bgcolor": "white",
           "lakecolor": "white",
           "landcolor": "#E5ECF6",
           "showlakes": true,
           "showland": true,
           "subunitcolor": "white"
          },
          "hoverlabel": {
           "align": "left"
          },
          "hovermode": "closest",
          "mapbox": {
           "style": "light"
          },
          "paper_bgcolor": "white",
          "plot_bgcolor": "#E5ECF6",
          "polar": {
           "angularaxis": {
            "gridcolor": "white",
            "linecolor": "white",
            "ticks": ""
           },
           "bgcolor": "#E5ECF6",
           "radialaxis": {
            "gridcolor": "white",
            "linecolor": "white",
            "ticks": ""
           }
          },
          "scene": {
           "xaxis": {
            "backgroundcolor": "#E5ECF6",
            "gridcolor": "white",
            "gridwidth": 2,
            "linecolor": "white",
            "showbackground": true,
            "ticks": "",
            "zerolinecolor": "white"
           },
           "yaxis": {
            "backgroundcolor": "#E5ECF6",
            "gridcolor": "white",
            "gridwidth": 2,
            "linecolor": "white",
            "showbackground": true,
            "ticks": "",
            "zerolinecolor": "white"
           },
           "zaxis": {
            "backgroundcolor": "#E5ECF6",
            "gridcolor": "white",
            "gridwidth": 2,
            "linecolor": "white",
            "showbackground": true,
            "ticks": "",
            "zerolinecolor": "white"
           }
          },
          "shapedefaults": {
           "line": {
            "color": "#2a3f5f"
           }
          },
          "ternary": {
           "aaxis": {
            "gridcolor": "white",
            "linecolor": "white",
            "ticks": ""
           },
           "baxis": {
            "gridcolor": "white",
            "linecolor": "white",
            "ticks": ""
           },
           "bgcolor": "#E5ECF6",
           "caxis": {
            "gridcolor": "white",
            "linecolor": "white",
            "ticks": ""
           }
          },
          "title": {
           "x": 0.05
          },
          "xaxis": {
           "automargin": true,
           "gridcolor": "white",
           "linecolor": "white",
           "ticks": "",
           "title": {
            "standoff": 15
           },
           "zerolinecolor": "white",
           "zerolinewidth": 2
          },
          "yaxis": {
           "automargin": true,
           "gridcolor": "white",
           "linecolor": "white",
           "ticks": "",
           "title": {
            "standoff": 15
           },
           "zerolinecolor": "white",
           "zerolinewidth": 2
          }
         }
        },
        "title": {
         "text": "Satisfied ratio"
        },
        "width": 700,
        "xaxis": {
         "title": {
          "text": "Model"
         }
        },
        "yaxis": {
         "tickformat": ".0%",
         "title": {
          "text": "Satisfied ratio"
         }
        }
       }
      }
     },
     "metadata": {},
     "output_type": "display_data"
    }
   ],
   "source": [
    "plot_fleet_barchart(full_results[full_results['fleet_size'] == 900], 'mean_satisfied_ratio').show()"
   ]
  },
  {
   "cell_type": "markdown",
   "id": "279ac1b1",
   "metadata": {},
   "source": [
    "## Line Charts across fleet size"
   ]
  },
  {
   "cell_type": "code",
   "execution_count": null,
   "id": "eaf1f5d1",
   "metadata": {},
   "outputs": [],
   "source": []
  },
  {
   "cell_type": "markdown",
   "id": "694b1a1a",
   "metadata": {},
   "source": [
    "## Boxplots"
   ]
  },
  {
   "cell_type": "code",
   "execution_count": null,
   "id": "5c1254ab",
   "metadata": {},
   "outputs": [],
   "source": []
  },
  {
   "cell_type": "markdown",
   "id": "e4c20fbd",
   "metadata": {},
   "source": [
    "## Scatter Plots"
   ]
  },
  {
   "cell_type": "code",
   "execution_count": null,
   "id": "d7f086b8",
   "metadata": {},
   "outputs": [],
   "source": []
  },
  {
   "cell_type": "markdown",
   "id": "386b4d02",
   "metadata": {},
   "source": [
    "## Pair Plots "
   ]
  }
 ],
 "metadata": {
  "kernelspec": {
   "display_name": "py_310_torch_env",
   "language": "python",
   "name": "python3"
  },
  "language_info": {
   "codemirror_mode": {
    "name": "ipython",
    "version": 3
   },
   "file_extension": ".py",
   "mimetype": "text/x-python",
   "name": "python",
   "nbconvert_exporter": "python",
   "pygments_lexer": "ipython3",
   "version": "3.10.16"
  }
 },
 "nbformat": 4,
 "nbformat_minor": 5
}
